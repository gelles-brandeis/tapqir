{
 "cells": [
  {
   "cell_type": "code",
   "execution_count": null,
   "id": "49daf510",
   "metadata": {},
   "outputs": [],
   "source": [
    "%matplotlib widget\n",
    "from tapqir.gui import initUI\n",
    "from tapqir.main import DEFAULTS\n",
    "\n",
    "initUI(DEFAULTS)"
   ]
  }
 ],
 "metadata": {
  "kernelspec": {
   "display_name": "Python 3 (ipykernel)",
   "language": "python",
   "name": "python3"
  },
  "language_info": {
   "codemirror_mode": {
    "name": "ipython",
    "version": 3
   },
   "file_extension": ".py",
   "mimetype": "text/x-python",
   "name": "python",
   "nbconvert_exporter": "python",
   "pygments_lexer": "ipython3",
   "version": "3.8.12"
  }
 },
 "nbformat": 4,
 "nbformat_minor": 5
}
