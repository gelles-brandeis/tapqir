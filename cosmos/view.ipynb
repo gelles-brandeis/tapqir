{
 "cells": [
  {
   "cell_type": "code",
   "execution_count": 1,
   "metadata": {},
   "outputs": [],
   "source": [
    "import os\n",
    "import ipywidgets as widgets\n",
    "from IPython.display import clear_output\n",
    "import matplotlib.pyplot as plt\n",
    "import numpy as np\n",
    "import pandas as pd\n",
    "import pyro\n",
    "import pyro.distributions as dist\n",
    "# gui\n",
    "#import qgrid\n",
    "# pyro & pytorch\n",
    "import torch\n",
    "from ipywidgets import fixed, interact, interactive\n",
    "from ipyfilechooser import FileChooser\n",
    "from tqdm import tqdm\n",
    "from scipy.io import loadmat\n",
    "from sklearn.metrics import matthews_corrcoef, confusion_matrix\n",
    "\n",
    "from cosmos.utils.visualize import view_parameters, view_glimpse, view_m_probs, \\\n",
    "    view_aoi, view_single_aoi, view_globals, view_params_last\n",
    "from cosmos.utils.aoi_reader import ReadAoi\n",
    "\n",
    "%matplotlib inline\n",
    "#qgrid.enable()\n",
    "\n",
    "%load_ext tensorboard\n",
    "%load_ext autoreload\n",
    "%autoreload 2"
   ]
  },
  {
   "cell_type": "code",
   "execution_count": 2,
   "metadata": {},
   "outputs": [],
   "source": [
    "device = torch.device(\"cpu\")\n",
    "\n",
    "def tb_view(path):\n",
    "    path = os.path.join(path, \"scalar\")\n",
    "    %tensorboard --logdir $path"
   ]
  },
  {
   "cell_type": "code",
   "execution_count": 3,
   "metadata": {
    "scrolled": false
   },
   "outputs": [],
   "source": [
    "def load_dataset():\n",
    "    global data, control\n",
    "    if dataset.selected is not None:\n",
    "        #data, control = ReadAoi(path=dataset.selected_path, control=\"control\", device=device)\n",
    "        data, _ = ReadAoi(path=dataset.selected_path, control=None, device=device)\n",
    "\n",
    "        results.default_path = dataset.selected_path\n",
    "        with fc:\n",
    "            clear_output()\n",
    "            display(results)\n",
    "\n",
    "        # Show or hide folder icons\n",
    "        results.use_dir_icons = True\n",
    "\n",
    "        # Change the title (use '' to hide)\n",
    "        results.title = \"<b>Choose Results Folder</b>\"\n",
    "\n",
    "        results.register_callback(run_app)\n",
    "\n",
    "def run_app(*args):\n",
    "    if results.selected is not None:\n",
    "        pyro.clear_param_store()\n",
    "        pyro.get_param_store().load(\n",
    "            filename=os.path.join(results.selected_path, \"params\"),\n",
    "            map_location=device)\n",
    "\n",
    "        data.predictions = np.load(\n",
    "            os.path.join(results.selected_path, \"predictions.npy\"))\n",
    "        \n",
    "        data.results = pd.read_csv(\n",
    "            os.path.join(results.selected_path, \"params_last.csv\"),\n",
    "            header=None, squeeze=True, index_col=0)\n",
    "\n",
    "    aoi_widget = widgets.Dropdown(\n",
    "        options=data.target.index\n",
    "    )\n",
    "    frame_widget = widgets.Dropdown(\n",
    "        options=data.drift.index, value=data.drift.index[0]\n",
    "    )\n",
    "    frames_widget = widgets.IntRangeSlider(\n",
    "        value=[data.drift.index[0], data.drift.index[-1]], min=data.drift.index[0],\n",
    "        max=data.drift.index[-1], continuous_update=False,\n",
    "        layout=widgets.Layout(width=\"100%\")\n",
    "    )\n",
    "    \n",
    "    data_widget = widgets.Dropdown(\n",
    "            options=[\"d\", \"c\"]\n",
    "        )\n",
    "        \n",
    "    params_widget = widgets.SelectMultiple(\n",
    "        options=[\"intensity\", \"x\", \"y\", \"width\", \"background\"],\n",
    "        value=[\"intensity\", \"x\", \"y\", \"width\"],\n",
    "        #rows=10,\n",
    "        description=\"Parameters\",\n",
    "        disabled=False\n",
    "    )\n",
    "    \n",
    "    \n",
    "    acc = {}\n",
    "    #acc[\"All\"] = data.labels\n",
    "    acc[\"FN\"] = (data.labels[\"z\"] == 1) & (data.predictions[\"z\"] == 0)\n",
    "    acc[\"FP\"] = (data.labels[\"z\"] == 0) & (data.predictions[\"z\"] == 1)\n",
    "    acc[\"TN\"] = (data.labels[\"z\"] == 0) & (data.predictions[\"z\"] == 0)\n",
    "    acc[\"TP\"] = (data.labels[\"z\"] == 1) & (data.predictions[\"z\"] == 1)\n",
    "    \n",
    "    acc_widget = widgets.Dropdown(\n",
    "        options=acc.keys(),\n",
    "        value=\"FN\",\n",
    "    )\n",
    "    acc_aoi_widget = widgets.Dropdown(\n",
    "        options=np.unique(data.labels[\"aoi\"][acc[acc_widget.value]])\n",
    "    )\n",
    "    acc_frame_widget = widgets.Dropdown(\n",
    "        options=data.labels[\"frame\"][acc[acc_widget.value] & (data.labels[\"aoi\"] == acc_aoi_widget.value)]\n",
    "    )\n",
    "\n",
    "    def update_aoi_widget(*args): # *args represent zero (case here) or more arguments.\n",
    "        acc_aoi_widget.options = np.unique(data.labels[\"aoi\"][acc[acc_widget.value]])\n",
    "        acc_aoi_widget.value = np.unique(data.labels[\"aoi\"][acc[acc_widget.value]])[0]\n",
    "        \n",
    "    def update_frame_widget(*args): # *args represent zero (case here) or more arguments.\n",
    "        acc_frame_widget.options = data.labels[\"frame\"][acc[acc_widget.value] & (data.labels[\"aoi\"] == acc_aoi_widget.value)]\n",
    "        acc_frame_widget.value = data.labels[\"frame\"][acc[acc_widget.value] & (data.labels[\"aoi\"] == acc_aoi_widget.value)][0]\n",
    "    \n",
    "    acc_aoi_widget.observe(update_frame_widget)\n",
    "    acc_widget.observe(update_aoi_widget)\n",
    "    \n",
    "\n",
    "    w1 = interactive(view_m_probs, aoi=aoi_widget, data=fixed(data), frames=frames_widget,\n",
    "            m=False, z=False, sp=False, labels=True, predictions=False, prefix=data_widget)\n",
    "\n",
    "\n",
    "    w2 = interactive(view_parameters, aoi=aoi_widget, data=fixed(data), frames=frames_widget,\n",
    "            m=False, params=params_widget, prefix=data_widget)\n",
    "\n",
    "    w3 = interactive(view_aoi, aoi=aoi_widget, frame=frame_widget, data=fixed(data),\n",
    "             z=False, sp=False, labels=True, predictions=False, target=False, prefix=data_widget)\n",
    "    \n",
    "    w4 = interactive(view_single_aoi, aoi=acc_aoi_widget, frame=acc_frame_widget, data=fixed(data),\n",
    "             z=False, sp=False, labels=True, target=False, acc=acc_widget, prefix=data_widget)\n",
    "    \n",
    "    w5 = interactive(view_globals, z=False, j=False, data=fixed(data))\n",
    "    \n",
    "    w6 = interactive(view_params_last, results=fixed(data.results))\n",
    "    \n",
    "    #w6 = interactive(tb_view, path=fixed(results.selected_path))\n",
    "    \n",
    "    tab = widgets.Tab()\n",
    "    tab.children = [w1, w2, w3, w4, w5, w6]\n",
    "    tab.titles = [\"m_probs\", \"params\", \"images\", \"image\", \"globals\", \"info\"]\n",
    "    for i, title in enumerate(tab.titles):\n",
    "        tab.set_title(i, title)\n",
    "        \n",
    "    refresh = widgets.Button(\n",
    "        description=\"Refresh\",\n",
    "        disabled=False,\n",
    "        button_style=\"\", # 'success', 'info', 'warning', 'danger' or ''\n",
    "        tooltip=\"Click me\",\n",
    "        icon=\"check\" # (FontAwesome names without the `fa-` prefix)\n",
    "    )\n",
    "    \n",
    "    refresh.on_click(run_app)\n",
    "    with app:\n",
    "        clear_output()\n",
    "        display(refresh, tab)"
   ]
  },
  {
   "cell_type": "code",
   "execution_count": 4,
   "metadata": {},
   "outputs": [
    {
     "data": {
      "application/vnd.jupyter.widget-view+json": {
       "model_id": "37b63ba8cd2d444cb613872e0ebc5007",
       "version_major": 2,
       "version_minor": 0
      },
      "text/plain": [
       "FileChooser(path='.', filename='', show_hidden='False')"
      ]
     },
     "metadata": {},
     "output_type": "display_data"
    },
    {
     "data": {
      "application/vnd.jupyter.widget-view+json": {
       "model_id": "59c12a43a8d4409098553d95a94ed051",
       "version_major": 2,
       "version_minor": 0
      },
      "text/plain": [
       "Output()"
      ]
     },
     "metadata": {},
     "output_type": "display_data"
    },
    {
     "data": {
      "application/vnd.jupyter.widget-view+json": {
       "model_id": "05d348e98171408aa7455bb580563544",
       "version_major": 2,
       "version_minor": 0
      },
      "text/plain": [
       "Output()"
      ]
     },
     "metadata": {},
     "output_type": "display_data"
    }
   ],
   "source": [
    "# Create and display a FileChooser widget\n",
    "dataset = FileChooser(\".\")\n",
    "display(dataset)\n",
    "\n",
    "results = FileChooser(\".\")\n",
    "\n",
    "# Show or hide folder icons\n",
    "dataset.use_dir_icons = True\n",
    "\n",
    "# Change the title (use '' to hide)\n",
    "dataset.title = \"<b>Choose Dataset Folder</b>\"\n",
    "\n",
    "dataset.register_callback(load_dataset)\n",
    "\n",
    "fc = widgets.Output()\n",
    "app = widgets.Output()\n",
    "display(fc)\n",
    "display(app)"
   ]
  },
  {
   "cell_type": "code",
   "execution_count": 1,
   "metadata": {},
   "outputs": [],
   "source": [
    "#from tensorboard import notebook\n",
    "#notebook.list() # View open TensorBoard instances"
   ]
  },
  {
   "cell_type": "code",
   "execution_count": null,
   "metadata": {},
   "outputs": [],
   "source": []
  }
 ],
 "metadata": {
  "kernelspec": {
   "display_name": "Python 3",
   "language": "python",
   "name": "python3"
  },
  "language_info": {
   "codemirror_mode": {
    "name": "ipython",
    "version": 3
   },
   "file_extension": ".py",
   "mimetype": "text/x-python",
   "name": "python",
   "nbconvert_exporter": "python",
   "pygments_lexer": "ipython3",
   "version": "3.7.7"
  }
 },
 "nbformat": 4,
 "nbformat_minor": 4
}
