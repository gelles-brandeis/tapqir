{
 "cells": [
  {
   "cell_type": "markdown",
   "metadata": {},
   "source": [
    "# No target-specific binding"
   ]
  },
  {
   "cell_type": "code",
   "execution_count": null,
   "metadata": {},
   "outputs": [],
   "source": [
    "%load_ext slurm_magic"
   ]
  },
  {
   "cell_type": "code",
   "execution_count": null,
   "metadata": {},
   "outputs": [],
   "source": [
    "%%sbatch\n",
    "#!/bin/bash\n",
    "#SBATCH --job-name=negative\n",
    "#SBATCH --output=simulations/negative%a_%A.out\n",
    "#SBATCH --gres=gpu:1   # Request 1 GPU\n",
    "#SBATCH --array=0-4\n",
    "\n",
    "lamdas=(0.01 0.05 0.15 0.5 1)\n",
    "\n",
    "# Path to your executable\n",
    "python ../examples/cosmos_simulations.py \\\n",
    "  --gain 7 --pi 0 --height 3000 --proximity 0.2 \\\n",
    "  -bs 4 --cuda --dtype double \\\n",
    "  --lamda ${lamdas[${SLURM_ARRAY_TASK_ID}]} \\\n",
    "  --path simulations/negative${lamdas[${SLURM_ARRAY_TASK_ID}]}"
   ]
  },
  {
   "cell_type": "code",
   "execution_count": null,
   "metadata": {},
   "outputs": [],
   "source": [
    "%squeue"
   ]
  },
  {
   "cell_type": "code",
   "execution_count": 1,
   "metadata": {},
   "outputs": [],
   "source": [
    "import pandas as pd\n",
    "import pyro\n",
    "import torch\n",
    "import matplotlib.pyplot as plt\n",
    "from collections import defaultdict\n",
    "from matplotlib.ticker import FormatStrFormatter\n",
    "from pathlib import Path\n",
    "\n",
    "from tapqir.models import Cosmos"
   ]
  },
  {
   "cell_type": "markdown",
   "metadata": {},
   "source": [
    "## Load results"
   ]
  },
  {
   "cell_type": "code",
   "execution_count": 2,
   "metadata": {},
   "outputs": [],
   "source": [
    "# path to simulated data\n",
    "SIMULATIONS_DIR = Path(\"simulations\")"
   ]
  },
  {
   "cell_type": "code",
   "execution_count": 3,
   "metadata": {},
   "outputs": [],
   "source": [
    "truth = {}\n",
    "fit = {}\n",
    "predictions = defaultdict(dict)\n",
    "\n",
    "for data_path in SIMULATIONS_DIR.iterdir():\n",
    "    if data_path.is_dir() and data_path.name.startswith(\"negative\"):\n",
    "        # load results\n",
    "        truth[data_path.name] = pd.read_csv(\n",
    "            data_path / \"simulated_params.csv\",\n",
    "            squeeze=True, index_col=0\n",
    "        ).rename(data_path.name)\n",
    "        \n",
    "        model = Cosmos(verbose=False)\n",
    "        model.load(data_path, data_only=False)\n",
    "        \n",
    "        fit[data_path.name] = model.statistics.drop(\"trained\").astype(float)\n",
    "        for p in (\"gain\", \"proximity\", \"pi\", \"lamda\", \"SNR\"):\n",
    "            fit[data_path.name].loc[p, \"True\"] = truth[data_path.name][p]\n",
    "        \n",
    "        mask = torch.from_numpy(model.data.ontarget.labels[\"z\"])\n",
    "        samples = torch.masked_select(model.params[\"p(specific)\"], mask)\n",
    "        predictions[data_path.name][\"z_masked\"] = samples\n",
    "        predictions[data_path.name][\"z_all\"] = model.params[\"p(specific)\"].flatten()"
   ]
  },
  {
   "cell_type": "code",
   "execution_count": 4,
   "metadata": {},
   "outputs": [
    {
     "data": {
      "text/html": [
       "<div>\n",
       "<style scoped>\n",
       "    .dataframe tbody tr th:only-of-type {\n",
       "        vertical-align: middle;\n",
       "    }\n",
       "\n",
       "    .dataframe tbody tr th {\n",
       "        vertical-align: top;\n",
       "    }\n",
       "\n",
       "    .dataframe thead th {\n",
       "        text-align: right;\n",
       "    }\n",
       "</style>\n",
       "<table border=\"1\" class=\"dataframe\">\n",
       "  <thead>\n",
       "    <tr style=\"text-align: right;\">\n",
       "      <th></th>\n",
       "      <th>width</th>\n",
       "      <th>gain</th>\n",
       "      <th>pi</th>\n",
       "      <th>lamda</th>\n",
       "      <th>proximity</th>\n",
       "      <th>offset</th>\n",
       "      <th>height</th>\n",
       "      <th>background</th>\n",
       "      <th>SNR</th>\n",
       "      <th>N</th>\n",
       "      <th>F</th>\n",
       "      <th>Nc</th>\n",
       "      <th>Fc</th>\n",
       "      <th>P</th>\n",
       "    </tr>\n",
       "  </thead>\n",
       "  <tbody>\n",
       "    <tr>\n",
       "      <th>negative0.01</th>\n",
       "      <td>1.4</td>\n",
       "      <td>7.0</td>\n",
       "      <td>0.0</td>\n",
       "      <td>0.01</td>\n",
       "      <td>0.2</td>\n",
       "      <td>90.0</td>\n",
       "      <td>3000.0</td>\n",
       "      <td>150.0</td>\n",
       "      <td>3.758899</td>\n",
       "      <td>5.0</td>\n",
       "      <td>500.0</td>\n",
       "      <td>5.0</td>\n",
       "      <td>500.0</td>\n",
       "      <td>14.0</td>\n",
       "    </tr>\n",
       "    <tr>\n",
       "      <th>negative0.05</th>\n",
       "      <td>1.4</td>\n",
       "      <td>7.0</td>\n",
       "      <td>0.0</td>\n",
       "      <td>0.05</td>\n",
       "      <td>0.2</td>\n",
       "      <td>90.0</td>\n",
       "      <td>3000.0</td>\n",
       "      <td>150.0</td>\n",
       "      <td>3.758899</td>\n",
       "      <td>5.0</td>\n",
       "      <td>500.0</td>\n",
       "      <td>5.0</td>\n",
       "      <td>500.0</td>\n",
       "      <td>14.0</td>\n",
       "    </tr>\n",
       "    <tr>\n",
       "      <th>negative0.15</th>\n",
       "      <td>1.4</td>\n",
       "      <td>7.0</td>\n",
       "      <td>0.0</td>\n",
       "      <td>0.15</td>\n",
       "      <td>0.2</td>\n",
       "      <td>90.0</td>\n",
       "      <td>3000.0</td>\n",
       "      <td>150.0</td>\n",
       "      <td>3.758899</td>\n",
       "      <td>5.0</td>\n",
       "      <td>500.0</td>\n",
       "      <td>5.0</td>\n",
       "      <td>500.0</td>\n",
       "      <td>14.0</td>\n",
       "    </tr>\n",
       "    <tr>\n",
       "      <th>negative0.5</th>\n",
       "      <td>1.4</td>\n",
       "      <td>7.0</td>\n",
       "      <td>0.0</td>\n",
       "      <td>0.50</td>\n",
       "      <td>0.2</td>\n",
       "      <td>90.0</td>\n",
       "      <td>3000.0</td>\n",
       "      <td>150.0</td>\n",
       "      <td>3.758899</td>\n",
       "      <td>5.0</td>\n",
       "      <td>500.0</td>\n",
       "      <td>5.0</td>\n",
       "      <td>500.0</td>\n",
       "      <td>14.0</td>\n",
       "    </tr>\n",
       "    <tr>\n",
       "      <th>negative1</th>\n",
       "      <td>1.4</td>\n",
       "      <td>7.0</td>\n",
       "      <td>0.0</td>\n",
       "      <td>1.00</td>\n",
       "      <td>0.2</td>\n",
       "      <td>90.0</td>\n",
       "      <td>3000.0</td>\n",
       "      <td>150.0</td>\n",
       "      <td>3.758899</td>\n",
       "      <td>5.0</td>\n",
       "      <td>500.0</td>\n",
       "      <td>5.0</td>\n",
       "      <td>500.0</td>\n",
       "      <td>14.0</td>\n",
       "    </tr>\n",
       "  </tbody>\n",
       "</table>\n",
       "</div>"
      ],
      "text/plain": [
       "              width  gain   pi  lamda  proximity  offset  height  background  \\\n",
       "negative0.01    1.4   7.0  0.0   0.01        0.2    90.0  3000.0       150.0   \n",
       "negative0.05    1.4   7.0  0.0   0.05        0.2    90.0  3000.0       150.0   \n",
       "negative0.15    1.4   7.0  0.0   0.15        0.2    90.0  3000.0       150.0   \n",
       "negative0.5     1.4   7.0  0.0   0.50        0.2    90.0  3000.0       150.0   \n",
       "negative1       1.4   7.0  0.0   1.00        0.2    90.0  3000.0       150.0   \n",
       "\n",
       "                   SNR    N      F   Nc     Fc     P  \n",
       "negative0.01  3.758899  5.0  500.0  5.0  500.0  14.0  \n",
       "negative0.05  3.758899  5.0  500.0  5.0  500.0  14.0  \n",
       "negative0.15  3.758899  5.0  500.0  5.0  500.0  14.0  \n",
       "negative0.5   3.758899  5.0  500.0  5.0  500.0  14.0  \n",
       "negative1     3.758899  5.0  500.0  5.0  500.0  14.0  "
      ]
     },
     "execution_count": 4,
     "metadata": {},
     "output_type": "execute_result"
    }
   ],
   "source": [
    "truth_df = pd.concat(truth.values(), axis=1).T.sort_values(by=\"lamda\").astype(float)\n",
    "truth_df"
   ]
  },
  {
   "cell_type": "code",
   "execution_count": 5,
   "metadata": {},
   "outputs": [],
   "source": [
    "description = pd.Series(dtype=str, name=\"Description\")\n",
    "description[\"N\"] = \"Number of on-target AOIs\"\n",
    "description[\"F\"] = \"Number of frames for on-target AOIs\"\n",
    "description[\"Nc\"] = \"Number of control off-target AOIs\"\n",
    "description[\"Fc\"] = \"Number of frames for off-target AOIs\"\n",
    "description[\"P\"] = \"Number of pixels along x- and y-axes of an AOI\"\n",
    "description[\"height\"] = \"Spot intensity\"\n",
    "description[\"width\"] = \"Spot width\"\n",
    "description[\"snr\"] = \"Signal-to-noise ratio\"\n",
    "description[\"background\"] = \"Image background\"\n",
    "description[\"pi\"] = \"Average target-specific binding probability\"\n",
    "description[\"lamda\"] = \"Non-specific binding rate\"\n",
    "description[\"proximity\"] = \"Proximity parameter\"\n",
    "description[\"p(specific)\"] = \"Probability of there being any target-specific spot in an AOI image\"\n",
    "description[\"_ul\"] = \"95% CI upper-limit\"\n",
    "description[\"_ll\"] = \"95% CI lower-limit\"\n",
    "description[\"MCC\"] = \"Matthews correlation coefficient\"\n",
    "description[\"TP\"] = \"True positives\"\n",
    "description[\"FN\"] = \"False negatives\"\n",
    "description[\"TN\"] = \"True negatives\"\n",
    "description[\"FP\"] = \"False positives\""
   ]
  },
  {
   "cell_type": "markdown",
   "metadata": {},
   "source": [
    "## Supplementary Data 4"
   ]
  },
  {
   "cell_type": "code",
   "execution_count": 6,
   "metadata": {},
   "outputs": [],
   "source": [
    "with pd.ExcelWriter(\"/home/ordabayev/repos/tapqir-overleaf/supplementary/data4/negative.xlsx\") as writer:\n",
    "    truth_df.to_excel(writer, sheet_name=\"simulation\")\n",
    "    for key, value in fit.items():\n",
    "        value.to_excel(writer, sheet_name=key)\n",
    "    description.to_excel(writer, sheet_name=\"description\")"
   ]
  },
  {
   "cell_type": "markdown",
   "metadata": {},
   "source": [
    "## Figure 5"
   ]
  },
  {
   "cell_type": "code",
   "execution_count": 7,
   "metadata": {},
   "outputs": [
    {
     "data": {
      "image/png": "[encoded data removed]",
      "text/plain": [
       "<Figure size 90x90 with 1 Axes>"
      ]
     },
     "metadata": {
      "needs_background": "light"
     },
     "output_type": "display_data"
    },
    {
     "data": {
      "image/png": "[encoded data removed]",
      "text/plain": [
       "<Figure size 90x90 with 1 Axes>"
      ]
     },
     "metadata": {
      "needs_background": "light"
     },
     "output_type": "display_data"
    },
    {
     "data": {
      "image/png": "[encoded data removed]",
      "text/plain": [
       "<Figure size 90x90 with 1 Axes>"
      ]
     },
     "metadata": {
      "needs_background": "light"
     },
     "output_type": "display_data"
    },
    {
     "data": {
      "image/png": "[encoded data removed]",
      "text/plain": [
       "<Figure size 90x90 with 1 Axes>"
      ]
     },
     "metadata": {
      "needs_background": "light"
     },
     "output_type": "display_data"
    },
    {
     "data": {
      "image/png": "[encoded data removed]",
      "text/plain": [
       "<Figure size 90x90 with 1 Axes>"
      ]
     },
     "metadata": {
      "needs_background": "light"
     },
     "output_type": "display_data"
    }
   ],
   "source": [
    "for name in truth_df.index:\n",
    "    plt.figure(figsize=(1.25, 1.25))\n",
    "    plt.hist(predictions[name][\"z_all\"].numpy(),\n",
    "             bins=torch.arange(0, 1.05, 0.05), histtype=\"bar\", lw=1.,\n",
    "             color=\"#dddddd\", edgecolor=\"k\",\n",
    "             label=f\"{truth_df.loc[name, 'SNR']:.2f} SNR\")\n",
    "    plt.hist(predictions[name][\"z_masked\"].numpy(),\n",
    "             bins=torch.arange(0, 1.05, 0.05), histtype=\"bar\", lw=1.,\n",
    "             color=\"C2\", edgecolor=\"k\", alpha=0.6,\n",
    "             label=f\"{truth_df.loc[name, 'SNR']:.2f} SNR\")\n",
    "    plt.yscale(\"log\")\n",
    "    plt.xlim(-0.05,1.05)\n",
    "    plt.ylim(1e-1, 5e3)\n",
    "    plt.xticks([0, 0.5, 1], fontsize=8)\n",
    "    \n",
    "    if name == \"negative0.01\":\n",
    "        plt.ylabel(\"Counts\", fontsize=8)\n",
    "        plt.yticks([1, 10, 100, 1000], fontsize=8)\n",
    "    else:\n",
    "        plt.yticks([])\n",
    "    if name == \"negative0.15\":\n",
    "        plt.xlabel(r\"$p(\\mathsf{specific})$\", fontsize=8)\n",
    "    plt.gca().xaxis.set_major_formatter(FormatStrFormatter('%g'))\n",
    "    plt.savefig(f\"/home/ordabayev/repos/tapqir-overleaf/figures/figure5/{name}.svg\")\n",
    "    plt.show()"
   ]
  },
  {
   "cell_type": "code",
   "execution_count": null,
   "metadata": {},
   "outputs": [],
   "source": []
  }
 ],
 "metadata": {
  "hide_input": false,
  "kernelspec": {
   "display_name": "Python 3 (ipykernel)",
   "language": "python",
   "name": "python3"
  },
  "language_info": {
   "codemirror_mode": {
    "name": "ipython",
    "version": 3
   },
   "file_extension": ".py",
   "mimetype": "text/x-python",
   "name": "python",
   "nbconvert_exporter": "python",
   "pygments_lexer": "ipython3",
   "version": "3.8.10"
  },
  "toc": {
   "base_numbering": 1,
   "nav_menu": {},
   "number_sections": true,
   "sideBar": true,
   "skip_h1_title": false,
   "title_cell": "Table of Contents",
   "title_sidebar": "Contents",
   "toc_cell": false,
   "toc_position": {},
   "toc_section_display": true,
   "toc_window_display": true
  }
 },
 "nbformat": 4,
 "nbformat_minor": 4
}
