{
 "cells": [
  {
   "cell_type": "code",
   "execution_count": 1,
   "metadata": {},
   "outputs": [],
   "source": [
    "import numpy as np\n",
    "import matplotlib.pyplot as plt\n",
    "%matplotlib inline\n",
    "\n",
    "import os\n",
    "import time\n",
    "import torch\n",
    "import torch.distributions.constraints as constraints\n",
    "import pyro\n",
    "from pyro import poutine\n",
    "from pyro.optim import Adam\n",
    "from pyro.infer import SVI, Trace_ELBO, TraceEnum_ELBO, config_enumerate\n",
    "import pyro.distributions as dist\n",
    "\n",
    "from sklearn.metrics import matthews_corrcoef as mcc\n",
    "\n",
    "plt.rcParams.update({\"font.size\": 16})\n",
    "pyro.enable_validation(True)\n",
    "\n",
    "%load_ext autoreload\n",
    "%autoreload 2"
   ]
  },
  {
   "cell_type": "code",
   "execution_count": 4,
   "metadata": {},
   "outputs": [],
   "source": [
    "from pyro.infer.mcmc import NUTS, MCMC"
   ]
  },
  {
   "cell_type": "code",
   "execution_count": 6,
   "metadata": {},
   "outputs": [
    {
     "name": "stderr",
     "output_type": "stream",
     "text": [
      "Sample: 100%|██████████| 800/800 [00:07<00:00, 120.05it/s, step size=7.01e-01, acc. rate=0.920]\n"
     ]
    },
    {
     "data": {
      "text/plain": [
       "tensor([0.8947, 1.7431, 2.7837])"
      ]
     },
     "execution_count": 6,
     "metadata": {},
     "output_type": "execute_result"
    }
   ],
   "source": [
    "true_coefs = torch.tensor([1., 2., 3.])\n",
    "data = torch.randn(2000, 3)\n",
    "dim = 3\n",
    "labels = dist.Bernoulli(logits=(true_coefs * data).sum(-1)).sample()\n",
    "\n",
    "def model(data):\n",
    "    coefs_mean = torch.zeros(dim)\n",
    "    coefs = pyro.sample('beta', dist.Normal(coefs_mean, torch.ones(3)))\n",
    "    y = pyro.sample('y', dist.Bernoulli(logits=(coefs * data).sum(-1)), obs=labels)\n",
    "    return y\n",
    "\n",
    "nuts_kernel = NUTS(model, adapt_step_size=True)\n",
    "mcmc_run = MCMC(nuts_kernel, num_samples=500, warmup_steps=300).run(data)\n",
    "posterior = mcmc_run.marginal('beta').empirical['beta']\n",
    "posterior.mean  # doctest: +SKIP"
   ]
  },
  {
   "cell_type": "code",
   "execution_count": 13,
   "metadata": {},
   "outputs": [
    {
     "data": {
      "text/plain": [
       "tensor([0.9807, 1.9144, 2.8883])"
      ]
     },
     "execution_count": 13,
     "metadata": {},
     "output_type": "execute_result"
    }
   ],
   "source": [
    "posterior.sample()"
   ]
  },
  {
   "cell_type": "code",
   "execution_count": null,
   "metadata": {},
   "outputs": [],
   "source": []
  }
 ],
 "metadata": {
  "kernelspec": {
   "display_name": "Python 3",
   "language": "python",
   "name": "python3"
  },
  "language_info": {
   "codemirror_mode": {
    "name": "ipython",
    "version": 3
   },
   "file_extension": ".py",
   "mimetype": "text/x-python",
   "name": "python",
   "nbconvert_exporter": "python",
   "pygments_lexer": "ipython3",
   "version": "3.7.3"
  }
 },
 "nbformat": 4,
 "nbformat_minor": 2
}
