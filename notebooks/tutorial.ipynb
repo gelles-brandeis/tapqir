{
 "cells": [
  {
   "cell_type": "markdown",
   "id": "bd03d75a",
   "metadata": {},
   "source": [
    "# Tutorial\n",
    "\n",
    "This tutorial is a Jupyter notebook that illustrates steps involved in using Tapqir. If you would like to experiment with the live version of the notebook download it or run it in Google Colab using the links above."
   ]
  },
  {
   "cell_type": "code",
   "execution_count": 1,
   "id": "dc0a79f0",
   "metadata": {},
   "outputs": [],
   "source": [
    "# If you are running tutorial in Google Colab do this steps first\n",
    "# 1) Change runtime to GPU (Runtime -> Change runtime type -> GPU)\n",
    "# 2) Run this cell to install Tapqir in Google Colab\n",
    "import sys\n",
    "IN_COLAB = \"google.colab\" in sys.modules\n",
    "if IN_COLAB:\n",
    "    !pip install git+https://github.com/gelles-brandeis/tapqir.git > install.log"
   ]
  },
  {
   "cell_type": "markdown",
   "id": "6ab78be2",
   "metadata": {},
   "source": [
    "## Data preparation\n",
    "\n",
    "In this tutorial we will analyze the data from Rpb1-SNAP$^{549}$ binding to DNA$^{488}$ experiment ([Dynamics of RNA polymerase II and elongation factor Spt4/5 recruitment during activator-dependent transcription](https://www.pnas.org/content/117/51/32348))"
   ]
  },
  {
   "cell_type": "markdown",
   "id": "a632239b",
   "metadata": {},
   "source": [
    "This data was acquired with [Glimpse](https://github.com/gelles-brandeis/Glimpse) and pre-processed with imscroll program (see [CoSMoS_Analysis](https://github.com/gelles-brandeis/CoSMoS_Analysis/wiki)). To prepare data for Tapqir, we need to specify the location of following files & folders:\n",
    "\n",
    "* `title` - Text describing the experiment\n",
    "* `header_dir` - folder name containing glimpse and header files\n",
    "* `ontarget_aoiinfo` - file designating target molecule (DNA) locations in the binder channel\n",
    "* `offtarget_aoiinfo` - file designating off-target (nonDNA) locations in the binder channel\n",
    "* `driftlist` - file recording the stage movement that took place during the experiment\n",
    "* `frame_start` - starting frame (optional)\n",
    "* `frame_end` - ending frame (optional)\n",
    "* `ontarget_labels` - predicted labels with another program (e.g., spot-picker) (optional for comparison)\n",
    "* `offtarget_labels` - predicted labels with another program (e.g., spot-picker) (optional for comparison)"
   ]
  },
  {
   "cell_type": "code",
   "execution_count": 4,
   "id": "0e2df56e",
   "metadata": {},
   "outputs": [],
   "source": [
    "IS_TUTORIAL = True\n",
    "DOWNLOADED = False"
   ]
  },
  {
   "cell_type": "code",
   "execution_count": 5,
   "id": "eb4097ba",
   "metadata": {},
   "outputs": [],
   "source": [
    "%%capture\n",
    "# Download glimpse files for the tutorial (only once)\n",
    "if IS_TUTORIAL and not DOWNLOADED:\n",
    "    !wget http://centaur.biochem.brandeis.edu/Rpb1SNAP549_glimpse.zip\n",
    "    !unzip Rpb1SNAP549_glimpse.zip && rm Rpb1SNAP549_glimpse.zip\n",
    "    DOWNLOADED = True"
   ]
  },
  {
   "cell_type": "code",
   "execution_count": 6,
   "id": "a155111a",
   "metadata": {},
   "outputs": [],
   "source": [
    "# new empty directory to store data files and analysis results\n",
    "!mkdir Rpb1SNAP549_analysis"
   ]
  },
  {
   "cell_type": "code",
   "execution_count": 7,
   "id": "e8ce12b8",
   "metadata": {},
   "outputs": [
    {
     "name": "stdout",
     "output_type": "stream",
     "text": [
      "\u001b[0m"
     ]
    }
   ],
   "source": [
    "!tapqir config Rpb1SNAP549_analysis"
   ]
  },
  {
   "cell_type": "markdown",
   "id": "d78b5f7e",
   "metadata": {},
   "source": [
    "Edit the `options.cfg` file to indicate the locations of glimpse and preprocessing files:\n",
    "\n",
    "```\n",
    "[glimpse]\n",
    "title = Rpb1-SNAP549 binding to DNA488\n",
    "dir = Rpb1SNAP549_glimpse/garosen00267\n",
    "ontarget_aoiinfo = Rpb1SNAP549_glimpse/green_DNA_locations.dat\n",
    "offtarget_aoiinfo = Rpb1SNAP549_glimpse/green_nonDNA_locations.dat\n",
    "driftlist = Rpb1SNAP549_glimpse/green_driftlist.dat\n",
    "frame_start = 1\n",
    "frame_end = 790\n",
    "ontarget_labels\n",
    "offtarget_labels\n",
    "```"
   ]
  },
  {
   "cell_type": "code",
   "execution_count": 10,
   "id": "0e868425",
   "metadata": {},
   "outputs": [
    {
     "name": "stdout",
     "output_type": "stream",
     "text": [
      "INFO - Processing glimpse files ...\n",
      "100%|████████████████████████████████████████| 790/790 [00:07<00:00, 112.21it/s]\n",
      "INFO - On-target data: N=331 AOIs, F=790 frames, P=14 pixels, P=14 pixels\n",
      "INFO - Off-target data: N=526 AOIs, F=790 frames, P=14 pixels, P=14 pixels\n",
      "INFO - Data is saved in Rpb1SNAP549_analysis/data.tpqr\n",
      "\u001b[0m"
     ]
    }
   ],
   "source": [
    "!tapqir glimpse Rpb1SNAP549_analysis"
   ]
  },
  {
   "cell_type": "markdown",
   "id": "2afb0202",
   "metadata": {},
   "source": [
    "## Data analysis\n",
    "\n",
    "We will analyze the data using the time-independent model."
   ]
  },
  {
   "cell_type": "markdown",
   "id": "23204745",
   "metadata": {},
   "source": [
    "Probability of there being any target-specific spot in a frame $p(\\mathsf{specific})$ is calculated as $p(\\theta>0)$."
   ]
  },
  {
   "cell_type": "markdown",
   "id": "be4ee7ba",
   "metadata": {},
   "source": [
    "### Fitting the data to the model"
   ]
  },
  {
   "cell_type": "code",
   "execution_count": 1,
   "id": "8763a5b5",
   "metadata": {},
   "outputs": [
    {
     "name": "stdout",
     "output_type": "stream",
     "text": [
      "INFO - Device - cuda\n",
      "INFO - Floating precision - torch.float64\n",
      "INFO - Tapqir version - v1.1.6+496.ge87a229.dirty\n",
      "INFO - Model - marginal\n",
      "INFO - Loaded data from Rpb1SNAP549_analysis/data.tpqr\n",
      "INFO - Step #100. Loaded model params and optimizer state from Rpb1SNAP549_analysis/marginal/v1.1.6\n",
      "INFO - Optimizer - Adam\n",
      "INFO - Learning rate - 0.005\n",
      "INFO - Batch size - 13\n",
      "INFO - nojit\n",
      "100%|███████████████████████████████████████████| 10/10 [00:03<00:00,  2.63it/s]\n",
      "INFO - Device - cpu\n",
      "INFO - Floating precision - torch.float64\n",
      "INFO - Parameters were saved in Rpb1SNAP549_analysis/params.tpqr\n",
      "\u001b[0m"
     ]
    }
   ],
   "source": [
    "!tapqir --debug fit marginal Rpb1SNAP549_analysis -it 10"
   ]
  },
  {
   "cell_type": "code",
   "execution_count": 2,
   "id": "0dfbf1da",
   "metadata": {},
   "outputs": [
    {
     "name": "stdout",
     "output_type": "stream",
     "text": [
      "INFO - Device - cuda\n",
      "INFO - Floating precision - torch.float64\n",
      "INFO - Tapqir version - v1.1.6+496.ge87a229.dirty\n",
      "INFO - Model - cosmos\n",
      "INFO - Loaded data from Rpb1SNAP549_analysis/data.tpqr\n",
      "WARNING - Model at Rpb1SNAP549_analysis/marginal/v1.1.6 has not been fully trained\n",
      "INFO - Optimizer - Adam\n",
      "INFO - Learning rate - 0.005\n",
      "INFO - Batch size - 13\n",
      "INFO - nojit\n",
      "100%|█████████████████████████████████████████| 100/100 [00:26<00:00,  3.80it/s]\n",
      "INFO - Device - cpu\n",
      "INFO - Floating precision - torch.float64\n",
      "INFO - Parameters were saved in Rpb1SNAP549_analysis/params.tpqr\n",
      "\u001b[0m"
     ]
    }
   ],
   "source": [
    "!tapqir fit cosmos Rpb1SNAP549_analysis -it 100"
   ]
  },
  {
   "cell_type": "markdown",
   "id": "c22dabbb",
   "metadata": {},
   "source": [
    "### View fitting progress in Tensorboard"
   ]
  },
  {
   "cell_type": "code",
   "execution_count": 16,
   "id": "f2ae2b6b",
   "metadata": {},
   "outputs": [],
   "source": [
    "%load_ext tensorboard"
   ]
  },
  {
   "cell_type": "code",
   "execution_count": null,
   "id": "417245d3",
   "metadata": {},
   "outputs": [],
   "source": [
    "%tensorboard --logdir Rpb1SNAP549_analysis"
   ]
  },
  {
   "cell_type": "code",
   "execution_count": null,
   "id": "b82efbec",
   "metadata": {},
   "outputs": [],
   "source": []
  }
 ],
 "metadata": {
  "kernelspec": {
   "display_name": "Python 3 (ipykernel)",
   "language": "python",
   "name": "python3"
  },
  "language_info": {
   "codemirror_mode": {
    "name": "ipython",
    "version": 3
   },
   "file_extension": ".py",
   "mimetype": "text/x-python",
   "name": "python",
   "nbconvert_exporter": "python",
   "pygments_lexer": "ipython3",
   "version": "3.8.10"
  },
  "toc": {
   "base_numbering": 1,
   "nav_menu": {},
   "number_sections": true,
   "sideBar": true,
   "skip_h1_title": false,
   "title_cell": "Table of Contents",
   "title_sidebar": "Contents",
   "toc_cell": false,
   "toc_position": {},
   "toc_section_display": true,
   "toc_window_display": false
  }
 },
 "nbformat": 4,
 "nbformat_minor": 5
}
