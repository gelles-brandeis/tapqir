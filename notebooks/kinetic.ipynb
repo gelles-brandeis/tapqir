{
 "cells": [
  {
   "cell_type": "markdown",
   "metadata": {},
   "source": [
    "# Association/dissociation kinetics"
   ]
  },
  {
   "cell_type": "code",
   "execution_count": 1,
   "metadata": {},
   "outputs": [],
   "source": [
    "%load_ext slurm_magic"
   ]
  },
  {
   "cell_type": "code",
   "execution_count": 4,
   "metadata": {},
   "outputs": [
    {
     "data": {
      "text/plain": [
       "'Submitted batch job 1895\\n'"
      ]
     },
     "execution_count": 4,
     "metadata": {},
     "output_type": "execute_result"
    }
   ],
   "source": [
    "%%sbatch\n",
    "#!/bin/bash\n",
    "#SBATCH --job-name=kinetic\n",
    "#SBATCH --output=simulations/kinetic%a_%A.out\n",
    "#SBATCH --gres=gpu:1   # Request 1 GPU\n",
    "#SBATCH --array=0-11\n",
    "\n",
    "kon=(0.01 0.01 0.01 0.01 0.02 0.02 0.02 0.02 0.03 0.03 0.03 0.03)\n",
    "lamda=(0.01 0.15 0.5 1 0.01 0.15 0.5 1 0.01 0.15 0.5 1 0.01 0.15 0.5 1)\n",
    "\n",
    "# Path to your executable\n",
    "python ../examples/kinetic_simulations.py \\\n",
    "  -N 100 -F 1000 -bs 16 --cuda --dtype double \\\n",
    "  --kon ${kon[${SLURM_ARRAY_TASK_ID}]} \\\n",
    "  --lamda ${lamda[${SLURM_ARRAY_TASK_ID}]} \\\n",
    "  --path simulations/kon${kon[${SLURM_ARRAY_TASK_ID}]}lamda${lamda[${SLURM_ARRAY_TASK_ID}]}"
   ]
  },
  {
   "cell_type": "code",
   "execution_count": 5,
   "metadata": {},
   "outputs": [
    {
     "data": {
      "text/html": [
       "<div>\n",
       "<style scoped>\n",
       "    .dataframe tbody tr th:only-of-type {\n",
       "        vertical-align: middle;\n",
       "    }\n",
       "\n",
       "    .dataframe tbody tr th {\n",
       "        vertical-align: top;\n",
       "    }\n",
       "\n",
       "    .dataframe thead th {\n",
       "        text-align: right;\n",
       "    }\n",
       "</style>\n",
       "<table border=\"1\" class=\"dataframe\">\n",
       "  <thead>\n",
       "    <tr style=\"text-align: right;\">\n",
       "      <th></th>\n",
       "      <th>JOBID</th>\n",
       "      <th>PARTITION</th>\n",
       "      <th>NAME</th>\n",
       "      <th>USER</th>\n",
       "      <th>ST</th>\n",
       "      <th>TIME</th>\n",
       "      <th>NODES</th>\n",
       "      <th>NODELIST(REASON)</th>\n",
       "    </tr>\n",
       "  </thead>\n",
       "  <tbody>\n",
       "    <tr>\n",
       "      <th>0</th>\n",
       "      <td>1895_[2-11]</td>\n",
       "      <td>theobald-</td>\n",
       "      <td>kinetic</td>\n",
       "      <td>ordabaye</td>\n",
       "      <td>PD</td>\n",
       "      <td>0:00</td>\n",
       "      <td>1</td>\n",
       "      <td>(Resources)</td>\n",
       "    </tr>\n",
       "    <tr>\n",
       "      <th>1</th>\n",
       "      <td>1895_0</td>\n",
       "      <td>theobald-</td>\n",
       "      <td>kinetic</td>\n",
       "      <td>ordabaye</td>\n",
       "      <td>R</td>\n",
       "      <td>0:01</td>\n",
       "      <td>1</td>\n",
       "      <td>centaur</td>\n",
       "    </tr>\n",
       "    <tr>\n",
       "      <th>2</th>\n",
       "      <td>1895_1</td>\n",
       "      <td>theobald-</td>\n",
       "      <td>kinetic</td>\n",
       "      <td>ordabaye</td>\n",
       "      <td>R</td>\n",
       "      <td>0:01</td>\n",
       "      <td>1</td>\n",
       "      <td>centaur</td>\n",
       "    </tr>\n",
       "  </tbody>\n",
       "</table>\n",
       "</div>"
      ],
      "text/plain": [
       "         JOBID  PARTITION     NAME      USER  ST  TIME  NODES NODELIST(REASON)\n",
       "0  1895_[2-11]  theobald-  kinetic  ordabaye  PD  0:00      1      (Resources)\n",
       "1       1895_0  theobald-  kinetic  ordabaye   R  0:01      1          centaur\n",
       "2       1895_1  theobald-  kinetic  ordabaye   R  0:01      1          centaur"
      ]
     },
     "execution_count": 5,
     "metadata": {},
     "output_type": "execute_result"
    }
   ],
   "source": [
    "%squeue"
   ]
  },
  {
   "cell_type": "code",
   "execution_count": 1,
   "metadata": {},
   "outputs": [],
   "source": [
    "import numpy as np\n",
    "import pandas as pd\n",
    "from pyroapi import handlers, infer, pyro, pyro_backend\n",
    "from pyro import distributions as dist\n",
    "from pyro.ops.stats import pi\n",
    "import torch\n",
    "import matplotlib.pyplot as plt\n",
    "from collections import defaultdict\n",
    "from matplotlib.ticker import FormatStrFormatter\n",
    "from pathlib import Path\n",
    "\n",
    "from tapqir.models import Cosmos\n",
    "from tapqir.utils.imscroll import association_rate, dissociation_rate"
   ]
  },
  {
   "cell_type": "markdown",
   "metadata": {},
   "source": [
    "## Load results"
   ]
  },
  {
   "cell_type": "code",
   "execution_count": 2,
   "metadata": {},
   "outputs": [],
   "source": [
    "# path to simulated data\n",
    "SIMULATIONS_DIR = Path(\"simulations\")"
   ]
  },
  {
   "cell_type": "code",
   "execution_count": 4,
   "metadata": {},
   "outputs": [
    {
     "data": {
      "text/html": [
       "<div>\n",
       "<style scoped>\n",
       "    .dataframe tbody tr th:only-of-type {\n",
       "        vertical-align: middle;\n",
       "    }\n",
       "\n",
       "    .dataframe tbody tr th {\n",
       "        vertical-align: top;\n",
       "    }\n",
       "\n",
       "    .dataframe thead th {\n",
       "        text-align: right;\n",
       "    }\n",
       "</style>\n",
       "<table border=\"1\" class=\"dataframe\">\n",
       "  <thead>\n",
       "    <tr style=\"text-align: right;\">\n",
       "      <th></th>\n",
       "      <th>Mean</th>\n",
       "      <th>95% LL</th>\n",
       "      <th>95% UL</th>\n",
       "    </tr>\n",
       "  </thead>\n",
       "  <tbody>\n",
       "    <tr>\n",
       "      <th>gain</th>\n",
       "      <td>7.100768899757334</td>\n",
       "      <td>7.097723</td>\n",
       "      <td>7.103717</td>\n",
       "    </tr>\n",
       "    <tr>\n",
       "      <th>proximity</th>\n",
       "      <td>0.22307867893854588</td>\n",
       "      <td>0.219865</td>\n",
       "      <td>0.225997</td>\n",
       "    </tr>\n",
       "    <tr>\n",
       "      <th>lamda</th>\n",
       "      <td>0.9605101748297807</td>\n",
       "      <td>0.955898</td>\n",
       "      <td>0.964383</td>\n",
       "    </tr>\n",
       "    <tr>\n",
       "      <th>pi</th>\n",
       "      <td>0.07661475153698845</td>\n",
       "      <td>0.074828</td>\n",
       "      <td>0.078410</td>\n",
       "    </tr>\n",
       "    <tr>\n",
       "      <th>Keq</th>\n",
       "      <td>0.082935018578909</td>\n",
       "      <td>0.080880</td>\n",
       "      <td>0.085081</td>\n",
       "    </tr>\n",
       "    <tr>\n",
       "      <th>SNR</th>\n",
       "      <td>3.84891868091762</td>\n",
       "      <td>NaN</td>\n",
       "      <td>NaN</td>\n",
       "    </tr>\n",
       "    <tr>\n",
       "      <th>MCC</th>\n",
       "      <td>0.9016014291771309</td>\n",
       "      <td>NaN</td>\n",
       "      <td>NaN</td>\n",
       "    </tr>\n",
       "    <tr>\n",
       "      <th>Recall</th>\n",
       "      <td>0.8914011246485474</td>\n",
       "      <td>NaN</td>\n",
       "      <td>NaN</td>\n",
       "    </tr>\n",
       "    <tr>\n",
       "      <th>Precision</th>\n",
       "      <td>0.9286062972907005</td>\n",
       "      <td>NaN</td>\n",
       "      <td>NaN</td>\n",
       "    </tr>\n",
       "    <tr>\n",
       "      <th>TN</th>\n",
       "      <td>90879</td>\n",
       "      <td>NaN</td>\n",
       "      <td>NaN</td>\n",
       "    </tr>\n",
       "    <tr>\n",
       "      <th>FP</th>\n",
       "      <td>585</td>\n",
       "      <td>NaN</td>\n",
       "      <td>NaN</td>\n",
       "    </tr>\n",
       "    <tr>\n",
       "      <th>FN</th>\n",
       "      <td>927</td>\n",
       "      <td>NaN</td>\n",
       "      <td>NaN</td>\n",
       "    </tr>\n",
       "    <tr>\n",
       "      <th>TP</th>\n",
       "      <td>7609</td>\n",
       "      <td>NaN</td>\n",
       "      <td>NaN</td>\n",
       "    </tr>\n",
       "    <tr>\n",
       "      <th>p(specific)</th>\n",
       "      <td>0.9663999110452866</td>\n",
       "      <td>0.865765</td>\n",
       "      <td>0.984703</td>\n",
       "    </tr>\n",
       "    <tr>\n",
       "      <th>trained</th>\n",
       "      <td>True</td>\n",
       "      <td>NaN</td>\n",
       "      <td>NaN</td>\n",
       "    </tr>\n",
       "  </tbody>\n",
       "</table>\n",
       "</div>"
      ],
      "text/plain": [
       "                            Mean    95% LL    95% UL\n",
       "gain           7.100768899757334  7.097723  7.103717\n",
       "proximity    0.22307867893854588  0.219865  0.225997\n",
       "lamda         0.9605101748297807  0.955898  0.964383\n",
       "pi           0.07661475153698845  0.074828  0.078410\n",
       "Keq            0.082935018578909  0.080880  0.085081\n",
       "SNR             3.84891868091762       NaN       NaN\n",
       "MCC           0.9016014291771309       NaN       NaN\n",
       "Recall        0.8914011246485474       NaN       NaN\n",
       "Precision     0.9286062972907005       NaN       NaN\n",
       "TN                         90879       NaN       NaN\n",
       "FP                           585       NaN       NaN\n",
       "FN                           927       NaN       NaN\n",
       "TP                          7609       NaN       NaN\n",
       "p(specific)   0.9663999110452866  0.865765  0.984703\n",
       "trained                     True       NaN       NaN"
      ]
     },
     "execution_count": 4,
     "metadata": {},
     "output_type": "execute_result"
    }
   ],
   "source": [
    "model.statistics"
   ]
  },
  {
   "cell_type": "code",
   "execution_count": 14,
   "metadata": {},
   "outputs": [],
   "source": [
    "truth = {}\n",
    "fit = {}\n",
    "\n",
    "for data_path in SIMULATIONS_DIR.iterdir():\n",
    "    if data_path.is_dir() and data_path.name.startswith(\"kon\"):\n",
    "        # load results\n",
    "        truth[data_path.name] = pd.read_csv(\n",
    "            data_path / \"simulated_params.csv\",\n",
    "            squeeze=True, index_col=0\n",
    "        ).rename(data_path.name)\n",
    "        \n",
    "        model = Cosmos(verbose=False)\n",
    "        model.load(data_path, data_only=False)\n",
    "        \n",
    "        fit[data_path.name] = model.statistics.drop(\"trained\").astype(float)\n",
    "        #fit[data_path.name][\"kon\"] = truth[data_path.name][\"kon\"]\n",
    "        #fit[data_path.name][\"lamda\"] = truth[data_path.name][\"lamda\"]\n",
    "        for p in (\"gain\", \"proximity\", \"lamda\", \"SNR\", \"kon\", \"koff\"):\n",
    "            fit[data_path.name].loc[p, \"True\"] = truth[data_path.name][p]       \n",
    "\n",
    "        z_samples = dist.Bernoulli(model.params[\"p(specific)\"]).sample((500,))\n",
    "        # kon distribtion (MLE fit)\n",
    "        kon_samples = association_rate(z_samples)\n",
    "        fit[data_path.name].loc[\"kon\", \"Mean\"] = kon_samples.mean().item()\n",
    "        hdp = pi(kon_samples, 0.95, dim=0)\n",
    "        fit[data_path.name].loc[\"kon\", \"95% LL\"] = hdp[0].item()\n",
    "        fit[data_path.name].loc[\"kon\", \"95% UL\"] = hdp[1].item()\n",
    "        # koff distribution (MLE fit)\n",
    "        koff_samples = dissociation_rate(z_samples)\n",
    "        hdp = pi(koff_samples, 0.95, dim=0)\n",
    "        fit[data_path.name].loc[\"koff\", \"Mean\"] = koff_samples.mean().item()\n",
    "        fit[data_path.name].loc[\"koff\", \"95% LL\"] = hdp[0].item()\n",
    "        fit[data_path.name].loc[\"koff\", \"95% UL\"] = hdp[1].item()"
   ]
  },
  {
   "cell_type": "code",
   "execution_count": 12,
   "metadata": {},
   "outputs": [
    {
     "data": {
      "text/html": [
       "<div>\n",
       "<style scoped>\n",
       "    .dataframe tbody tr th:only-of-type {\n",
       "        vertical-align: middle;\n",
       "    }\n",
       "\n",
       "    .dataframe tbody tr th {\n",
       "        vertical-align: top;\n",
       "    }\n",
       "\n",
       "    .dataframe thead th {\n",
       "        text-align: right;\n",
       "    }\n",
       "</style>\n",
       "<table border=\"1\" class=\"dataframe\">\n",
       "  <thead>\n",
       "    <tr style=\"text-align: right;\">\n",
       "      <th></th>\n",
       "      <th>width</th>\n",
       "      <th>gain</th>\n",
       "      <th>kon</th>\n",
       "      <th>koff</th>\n",
       "      <th>lamda</th>\n",
       "      <th>proximity</th>\n",
       "      <th>offset</th>\n",
       "      <th>height</th>\n",
       "      <th>background</th>\n",
       "      <th>SNR</th>\n",
       "      <th>N</th>\n",
       "      <th>F</th>\n",
       "      <th>Nc</th>\n",
       "      <th>Fc</th>\n",
       "      <th>P</th>\n",
       "      <th>Keq</th>\n",
       "    </tr>\n",
       "  </thead>\n",
       "  <tbody>\n",
       "    <tr>\n",
       "      <th>kon0.01lamda0.01</th>\n",
       "      <td>1.4</td>\n",
       "      <td>7.0</td>\n",
       "      <td>0.01</td>\n",
       "      <td>0.2</td>\n",
       "      <td>0.01</td>\n",
       "      <td>0.2</td>\n",
       "      <td>90.0</td>\n",
       "      <td>3000.0</td>\n",
       "      <td>150.0</td>\n",
       "      <td>3.758899</td>\n",
       "      <td>100.0</td>\n",
       "      <td>1000.0</td>\n",
       "      <td>100.0</td>\n",
       "      <td>1000.0</td>\n",
       "      <td>14.0</td>\n",
       "      <td>0.05</td>\n",
       "    </tr>\n",
       "    <tr>\n",
       "      <th>kon0.01lamda0.15</th>\n",
       "      <td>1.4</td>\n",
       "      <td>7.0</td>\n",
       "      <td>0.01</td>\n",
       "      <td>0.2</td>\n",
       "      <td>0.15</td>\n",
       "      <td>0.2</td>\n",
       "      <td>90.0</td>\n",
       "      <td>3000.0</td>\n",
       "      <td>150.0</td>\n",
       "      <td>3.758899</td>\n",
       "      <td>100.0</td>\n",
       "      <td>1000.0</td>\n",
       "      <td>100.0</td>\n",
       "      <td>1000.0</td>\n",
       "      <td>14.0</td>\n",
       "      <td>0.05</td>\n",
       "    </tr>\n",
       "    <tr>\n",
       "      <th>kon0.01lamda0.5</th>\n",
       "      <td>1.4</td>\n",
       "      <td>7.0</td>\n",
       "      <td>0.01</td>\n",
       "      <td>0.2</td>\n",
       "      <td>0.50</td>\n",
       "      <td>0.2</td>\n",
       "      <td>90.0</td>\n",
       "      <td>3000.0</td>\n",
       "      <td>150.0</td>\n",
       "      <td>3.758899</td>\n",
       "      <td>100.0</td>\n",
       "      <td>1000.0</td>\n",
       "      <td>100.0</td>\n",
       "      <td>1000.0</td>\n",
       "      <td>14.0</td>\n",
       "      <td>0.05</td>\n",
       "    </tr>\n",
       "    <tr>\n",
       "      <th>kon0.01lamda1</th>\n",
       "      <td>1.4</td>\n",
       "      <td>7.0</td>\n",
       "      <td>0.01</td>\n",
       "      <td>0.2</td>\n",
       "      <td>1.00</td>\n",
       "      <td>0.2</td>\n",
       "      <td>90.0</td>\n",
       "      <td>3000.0</td>\n",
       "      <td>150.0</td>\n",
       "      <td>3.758899</td>\n",
       "      <td>100.0</td>\n",
       "      <td>1000.0</td>\n",
       "      <td>100.0</td>\n",
       "      <td>1000.0</td>\n",
       "      <td>14.0</td>\n",
       "      <td>0.05</td>\n",
       "    </tr>\n",
       "    <tr>\n",
       "      <th>kon0.02lamda0.01</th>\n",
       "      <td>1.4</td>\n",
       "      <td>7.0</td>\n",
       "      <td>0.02</td>\n",
       "      <td>0.2</td>\n",
       "      <td>0.01</td>\n",
       "      <td>0.2</td>\n",
       "      <td>90.0</td>\n",
       "      <td>3000.0</td>\n",
       "      <td>150.0</td>\n",
       "      <td>3.758899</td>\n",
       "      <td>100.0</td>\n",
       "      <td>1000.0</td>\n",
       "      <td>100.0</td>\n",
       "      <td>1000.0</td>\n",
       "      <td>14.0</td>\n",
       "      <td>0.10</td>\n",
       "    </tr>\n",
       "    <tr>\n",
       "      <th>kon0.02lamda0.15</th>\n",
       "      <td>1.4</td>\n",
       "      <td>7.0</td>\n",
       "      <td>0.02</td>\n",
       "      <td>0.2</td>\n",
       "      <td>0.15</td>\n",
       "      <td>0.2</td>\n",
       "      <td>90.0</td>\n",
       "      <td>3000.0</td>\n",
       "      <td>150.0</td>\n",
       "      <td>3.758899</td>\n",
       "      <td>100.0</td>\n",
       "      <td>1000.0</td>\n",
       "      <td>100.0</td>\n",
       "      <td>1000.0</td>\n",
       "      <td>14.0</td>\n",
       "      <td>0.10</td>\n",
       "    </tr>\n",
       "    <tr>\n",
       "      <th>kon0.02lamda0.5</th>\n",
       "      <td>1.4</td>\n",
       "      <td>7.0</td>\n",
       "      <td>0.02</td>\n",
       "      <td>0.2</td>\n",
       "      <td>0.50</td>\n",
       "      <td>0.2</td>\n",
       "      <td>90.0</td>\n",
       "      <td>3000.0</td>\n",
       "      <td>150.0</td>\n",
       "      <td>3.758899</td>\n",
       "      <td>100.0</td>\n",
       "      <td>1000.0</td>\n",
       "      <td>100.0</td>\n",
       "      <td>1000.0</td>\n",
       "      <td>14.0</td>\n",
       "      <td>0.10</td>\n",
       "    </tr>\n",
       "    <tr>\n",
       "      <th>kon0.02lamda1</th>\n",
       "      <td>1.4</td>\n",
       "      <td>7.0</td>\n",
       "      <td>0.02</td>\n",
       "      <td>0.2</td>\n",
       "      <td>1.00</td>\n",
       "      <td>0.2</td>\n",
       "      <td>90.0</td>\n",
       "      <td>3000.0</td>\n",
       "      <td>150.0</td>\n",
       "      <td>3.758899</td>\n",
       "      <td>100.0</td>\n",
       "      <td>1000.0</td>\n",
       "      <td>100.0</td>\n",
       "      <td>1000.0</td>\n",
       "      <td>14.0</td>\n",
       "      <td>0.10</td>\n",
       "    </tr>\n",
       "    <tr>\n",
       "      <th>kon0.03lamda0.01</th>\n",
       "      <td>1.4</td>\n",
       "      <td>7.0</td>\n",
       "      <td>0.03</td>\n",
       "      <td>0.2</td>\n",
       "      <td>0.01</td>\n",
       "      <td>0.2</td>\n",
       "      <td>90.0</td>\n",
       "      <td>3000.0</td>\n",
       "      <td>150.0</td>\n",
       "      <td>3.758899</td>\n",
       "      <td>100.0</td>\n",
       "      <td>1000.0</td>\n",
       "      <td>100.0</td>\n",
       "      <td>1000.0</td>\n",
       "      <td>14.0</td>\n",
       "      <td>0.15</td>\n",
       "    </tr>\n",
       "    <tr>\n",
       "      <th>kon0.03lamda0.15</th>\n",
       "      <td>1.4</td>\n",
       "      <td>7.0</td>\n",
       "      <td>0.03</td>\n",
       "      <td>0.2</td>\n",
       "      <td>0.15</td>\n",
       "      <td>0.2</td>\n",
       "      <td>90.0</td>\n",
       "      <td>3000.0</td>\n",
       "      <td>150.0</td>\n",
       "      <td>3.758899</td>\n",
       "      <td>100.0</td>\n",
       "      <td>1000.0</td>\n",
       "      <td>100.0</td>\n",
       "      <td>1000.0</td>\n",
       "      <td>14.0</td>\n",
       "      <td>0.15</td>\n",
       "    </tr>\n",
       "    <tr>\n",
       "      <th>kon0.03lamda0.5</th>\n",
       "      <td>1.4</td>\n",
       "      <td>7.0</td>\n",
       "      <td>0.03</td>\n",
       "      <td>0.2</td>\n",
       "      <td>0.50</td>\n",
       "      <td>0.2</td>\n",
       "      <td>90.0</td>\n",
       "      <td>3000.0</td>\n",
       "      <td>150.0</td>\n",
       "      <td>3.758899</td>\n",
       "      <td>100.0</td>\n",
       "      <td>1000.0</td>\n",
       "      <td>100.0</td>\n",
       "      <td>1000.0</td>\n",
       "      <td>14.0</td>\n",
       "      <td>0.15</td>\n",
       "    </tr>\n",
       "    <tr>\n",
       "      <th>kon0.03lamda1</th>\n",
       "      <td>1.4</td>\n",
       "      <td>7.0</td>\n",
       "      <td>0.03</td>\n",
       "      <td>0.2</td>\n",
       "      <td>1.00</td>\n",
       "      <td>0.2</td>\n",
       "      <td>90.0</td>\n",
       "      <td>3000.0</td>\n",
       "      <td>150.0</td>\n",
       "      <td>3.758899</td>\n",
       "      <td>100.0</td>\n",
       "      <td>1000.0</td>\n",
       "      <td>100.0</td>\n",
       "      <td>1000.0</td>\n",
       "      <td>14.0</td>\n",
       "      <td>0.15</td>\n",
       "    </tr>\n",
       "  </tbody>\n",
       "</table>\n",
       "</div>"
      ],
      "text/plain": [
       "                  width  gain   kon  koff  lamda  proximity  offset  height  \\\n",
       "kon0.01lamda0.01    1.4   7.0  0.01   0.2   0.01        0.2    90.0  3000.0   \n",
       "kon0.01lamda0.15    1.4   7.0  0.01   0.2   0.15        0.2    90.0  3000.0   \n",
       "kon0.01lamda0.5     1.4   7.0  0.01   0.2   0.50        0.2    90.0  3000.0   \n",
       "kon0.01lamda1       1.4   7.0  0.01   0.2   1.00        0.2    90.0  3000.0   \n",
       "kon0.02lamda0.01    1.4   7.0  0.02   0.2   0.01        0.2    90.0  3000.0   \n",
       "kon0.02lamda0.15    1.4   7.0  0.02   0.2   0.15        0.2    90.0  3000.0   \n",
       "kon0.02lamda0.5     1.4   7.0  0.02   0.2   0.50        0.2    90.0  3000.0   \n",
       "kon0.02lamda1       1.4   7.0  0.02   0.2   1.00        0.2    90.0  3000.0   \n",
       "kon0.03lamda0.01    1.4   7.0  0.03   0.2   0.01        0.2    90.0  3000.0   \n",
       "kon0.03lamda0.15    1.4   7.0  0.03   0.2   0.15        0.2    90.0  3000.0   \n",
       "kon0.03lamda0.5     1.4   7.0  0.03   0.2   0.50        0.2    90.0  3000.0   \n",
       "kon0.03lamda1       1.4   7.0  0.03   0.2   1.00        0.2    90.0  3000.0   \n",
       "\n",
       "                  background       SNR      N       F     Nc      Fc     P  \\\n",
       "kon0.01lamda0.01       150.0  3.758899  100.0  1000.0  100.0  1000.0  14.0   \n",
       "kon0.01lamda0.15       150.0  3.758899  100.0  1000.0  100.0  1000.0  14.0   \n",
       "kon0.01lamda0.5        150.0  3.758899  100.0  1000.0  100.0  1000.0  14.0   \n",
       "kon0.01lamda1          150.0  3.758899  100.0  1000.0  100.0  1000.0  14.0   \n",
       "kon0.02lamda0.01       150.0  3.758899  100.0  1000.0  100.0  1000.0  14.0   \n",
       "kon0.02lamda0.15       150.0  3.758899  100.0  1000.0  100.0  1000.0  14.0   \n",
       "kon0.02lamda0.5        150.0  3.758899  100.0  1000.0  100.0  1000.0  14.0   \n",
       "kon0.02lamda1          150.0  3.758899  100.0  1000.0  100.0  1000.0  14.0   \n",
       "kon0.03lamda0.01       150.0  3.758899  100.0  1000.0  100.0  1000.0  14.0   \n",
       "kon0.03lamda0.15       150.0  3.758899  100.0  1000.0  100.0  1000.0  14.0   \n",
       "kon0.03lamda0.5        150.0  3.758899  100.0  1000.0  100.0  1000.0  14.0   \n",
       "kon0.03lamda1          150.0  3.758899  100.0  1000.0  100.0  1000.0  14.0   \n",
       "\n",
       "                   Keq  \n",
       "kon0.01lamda0.01  0.05  \n",
       "kon0.01lamda0.15  0.05  \n",
       "kon0.01lamda0.5   0.05  \n",
       "kon0.01lamda1     0.05  \n",
       "kon0.02lamda0.01  0.10  \n",
       "kon0.02lamda0.15  0.10  \n",
       "kon0.02lamda0.5   0.10  \n",
       "kon0.02lamda1     0.10  \n",
       "kon0.03lamda0.01  0.15  \n",
       "kon0.03lamda0.15  0.15  \n",
       "kon0.03lamda0.5   0.15  \n",
       "kon0.03lamda1     0.15  "
      ]
     },
     "execution_count": 12,
     "metadata": {},
     "output_type": "execute_result"
    }
   ],
   "source": [
    "truth_df = pd.concat(truth.values(), axis=1).T.astype(float)\n",
    "truth_df[\"Keq\"] = truth_df[\"kon\"] / truth_df[\"koff\"]\n",
    "truth_df = truth_df.sort_values(by=[\"kon\", \"lamda\"])\n",
    "truth_df"
   ]
  },
  {
   "cell_type": "code",
   "execution_count": 13,
   "metadata": {},
   "outputs": [],
   "source": [
    "description = pd.Series(dtype=str, name=\"Description\")\n",
    "description[\"N\"] = \"Number of on-target AOIs\"\n",
    "description[\"F\"] = \"Number of frames for on-target AOIs\"\n",
    "description[\"Nc\"] = \"Number of control off-target AOIs\"\n",
    "description[\"Fc\"] = \"Number of frames for off-target AOIs\"\n",
    "description[\"P\"] = \"Number of pixels along x- and y-axes of an AOI\"\n",
    "description[\"height\"] = \"Spot intensity\"\n",
    "description[\"width\"] = \"Spot width\"\n",
    "description[\"snr\"] = \"Signal-to-noise ratio\"\n",
    "description[\"background\"] = \"Image background\"\n",
    "description[\"pi\"] = \"Average target-specific binding probability\"\n",
    "description[\"lamda\"] = \"Non-specific binding rate\"\n",
    "description[\"proximity\"] = \"Proximity parameter\"\n",
    "description[\"p(specific)\"] = \"Probability of there being any target-specific spot in an AOI image\"\n",
    "description[\"_ul\"] = \"95% CI upper-limit\"\n",
    "description[\"_ll\"] = \"95% CI lower-limit\"\n",
    "description[\"MCC\"] = \"Matthews correlation coefficient\"\n",
    "description[\"TP\"] = \"True positives\"\n",
    "description[\"FN\"] = \"False negatives\"\n",
    "description[\"TN\"] = \"True negatives\"\n",
    "description[\"FP\"] = \"False positives\""
   ]
  },
  {
   "cell_type": "markdown",
   "metadata": {},
   "source": [
    "## Supplementary Data 5"
   ]
  },
  {
   "cell_type": "code",
   "execution_count": 44,
   "metadata": {},
   "outputs": [],
   "source": [
    "with pd.ExcelWriter(\"/home/ordabayev/repos/tapqir-overleaf/supplementary/data5/kinetic.xlsx\") as writer:\n",
    "    truth_df.to_excel(writer, sheet_name=\"simulation\")\n",
    "    for key, value in fit.items():\n",
    "        value.to_excel(writer, sheet_name=key)\n",
    "    description.to_excel(writer, sheet_name=\"description\")"
   ]
  },
  {
   "cell_type": "markdown",
   "metadata": {},
   "source": [
    "## Figure 6"
   ]
  },
  {
   "cell_type": "markdown",
   "metadata": {},
   "source": [
    "### Keq"
   ]
  },
  {
   "cell_type": "code",
   "execution_count": 29,
   "metadata": {},
   "outputs": [
    {
     "data": {
      "image/png": "[encoded data removed]",
      "text/plain": [
       "<Figure size 86.4x86.4 with 1 Axes>"
      ]
     },
     "metadata": {
      "needs_background": "light"
     },
     "output_type": "display_data"
    }
   ],
   "source": [
    "fig, ax = plt.subplots(figsize=(1.2, 1.2))\n",
    "mask = (truth_df[\"kon\"] == 0.01)\n",
    "plt.scatter(truth_df.loc[mask, \"lamda\"], truth_df.loc[mask, \"Keq\"], marker=\"x\")\n",
    "plt.errorbar(truth_df.loc[mask, \"lamda\"], [fit[i].loc[\"Keq\", \"Mean\"] for i in truth_df.index if i.startswith(\"kon0.01\")],\n",
    "             yerr=torch.tensor([abs(fit[i].loc[\"Keq\", [\"95% LL\", \"95% UL\"]].values - fit[i].loc[\"Keq\", \"Mean\"]) for i in truth_df.index if i.startswith(\"kon0.01\")]).T,\n",
    "             fmt=\"o\", ms=3, mfc=\"k\", mec=\"k\", ecolor=\"k\", capsize=2, label=\"fit\")\n",
    "ax.set_ylim(0, 0.2)\n",
    "ax.set_xlim(-0.05, 1.05)\n",
    "ax.set_xticks([0, 0.5, 1])\n",
    "ax.tick_params(axis=\"both\", labelsize=8)\n",
    "plt.ylabel(r\"$K_{eq}$\", fontsize=8)\n",
    "ax.xaxis.set_major_formatter(FormatStrFormatter('%g'))\n",
    "ax.yaxis.set_major_formatter(FormatStrFormatter('%g'))\n",
    "plt.savefig(\"/home/ordabayev/repos/tapqir-overleaf/figures/figure6/keq1.svg\")\n",
    "plt.show()"
   ]
  },
  {
   "cell_type": "code",
   "execution_count": 30,
   "metadata": {},
   "outputs": [
    {
     "data": {
      "image/png": "[encoded data removed]",
      "text/plain": [
       "<Figure size 86.4x86.4 with 1 Axes>"
      ]
     },
     "metadata": {
      "needs_background": "light"
     },
     "output_type": "display_data"
    }
   ],
   "source": [
    "fig, ax = plt.subplots(figsize=(1.2, 1.2))\n",
    "mask = (truth_df[\"kon\"] == 0.02)\n",
    "plt.scatter(truth_df.loc[mask, \"lamda\"], truth_df.loc[mask, \"Keq\"], marker=\"x\")\n",
    "plt.errorbar(truth_df.loc[mask, \"lamda\"], [fit[i].loc[\"Keq\", \"Mean\"] for i in truth_df.index if i.startswith(\"kon0.02\")],\n",
    "             yerr=torch.tensor([abs(fit[i].loc[\"Keq\", [\"95% LL\", \"95% UL\"]].values - fit[i].loc[\"Keq\", \"Mean\"]) for i in truth_df.index if i.startswith(\"kon0.02\")]).T,\n",
    "             fmt=\"o\", ms=3, mfc=\"k\", mec=\"k\", ecolor=\"k\", capsize=2, label=\"fit\")\n",
    "ax.set_ylim(0, 0.2)\n",
    "ax.set_xlim(-0.05, 1.05)\n",
    "ax.set_yticks([])\n",
    "ax.set_xticks([0, 0.5, 1])\n",
    "ax.tick_params(axis=\"both\", labelsize=8)\n",
    "ax.set_xlabel(r\"$\\lambda$\", fontsize=8)\n",
    "ax.xaxis.set_major_formatter(FormatStrFormatter('%g'))\n",
    "ax.yaxis.set_major_formatter(FormatStrFormatter('%g'))\n",
    "plt.savefig(\"/home/ordabayev/repos/tapqir-overleaf/figures/figure6/keq2.svg\")\n",
    "plt.show()"
   ]
  },
  {
   "cell_type": "code",
   "execution_count": 31,
   "metadata": {},
   "outputs": [
    {
     "data": {
      "image/png": "[encoded data removed]",
      "text/plain": [
       "<Figure size 86.4x86.4 with 1 Axes>"
      ]
     },
     "metadata": {
      "needs_background": "light"
     },
     "output_type": "display_data"
    }
   ],
   "source": [
    "fig, ax = plt.subplots(figsize=(1.2, 1.2))\n",
    "mask = (truth_df[\"kon\"] == 0.03)\n",
    "plt.scatter(truth_df.loc[mask, \"lamda\"], truth_df.loc[mask, \"Keq\"], marker=\"x\")\n",
    "plt.errorbar(truth_df.loc[mask, \"lamda\"], [fit[i].loc[\"Keq\", \"Mean\"] for i in truth_df.index if i.startswith(\"kon0.03\")],\n",
    "             yerr=torch.tensor([abs(fit[i].loc[\"Keq\", [\"95% LL\", \"95% UL\"]].values - fit[i].loc[\"Keq\", \"Mean\"]) for i in truth_df.index if i.startswith(\"kon0.03\")]).T,\n",
    "             fmt=\"o\", ms=3, mfc=\"k\", mec=\"k\", ecolor=\"k\", capsize=2, label=\"fit\")\n",
    "ax.set_ylim(0, 0.2)\n",
    "ax.set_xlim(-0.05, 1.05)\n",
    "ax.set_yticks([])\n",
    "ax.set_xticks([0, 0.5, 1])\n",
    "ax.tick_params(axis=\"both\", labelsize=8)\n",
    "ax.xaxis.set_major_formatter(FormatStrFormatter('%g'))\n",
    "ax.yaxis.set_major_formatter(FormatStrFormatter('%g'))\n",
    "plt.savefig(\"/home/ordabayev/repos/tapqir-overleaf/figures/figure6/keq3.svg\")\n",
    "plt.show()"
   ]
  },
  {
   "cell_type": "markdown",
   "metadata": {},
   "source": [
    "### kon"
   ]
  },
  {
   "cell_type": "code",
   "execution_count": 19,
   "metadata": {},
   "outputs": [
    {
     "data": {
      "image/png": "[encoded data removed]",
      "text/plain": [
       "<Figure size 86.4x86.4 with 1 Axes>"
      ]
     },
     "metadata": {
      "needs_background": "light"
     },
     "output_type": "display_data"
    }
   ],
   "source": [
    "fig, ax = plt.subplots(figsize=(1.2, 1.2))\n",
    "mask = (truth_df[\"kon\"] == 0.01)\n",
    "plt.scatter(truth_df.loc[mask, \"lamda\"], truth_df.loc[mask, \"kon\"], marker=\"x\", label=\"simulation\")\n",
    "plt.errorbar(truth_df.loc[mask, \"lamda\"], [fit[i].loc[\"kon\", \"Mean\"] for i in truth_df.index if i.startswith(\"kon0.01\")],\n",
    "             yerr=torch.tensor([abs(fit[i].loc[\"kon\", [\"95% LL\", \"95% UL\"]].values - fit[i].loc[\"kon\", \"Mean\"]) for i in truth_df.index if i.startswith(\"kon0.01\")]).T,\n",
    "             fmt=\"o\", ms=3, mfc=\"k\", mec=\"k\", ecolor=\"k\", capsize=2, label=\"fit\")\n",
    "ax.set_ylim(0, 0.05)\n",
    "ax.set_xlim(-0.05, 1.05)\n",
    "# ax.set_yticks([])\n",
    "ax.set_xticks([0, 0.5, 1])\n",
    "ax.tick_params(axis=\"both\", labelsize=8)\n",
    "ax.xaxis.set_major_formatter(FormatStrFormatter('%g'))\n",
    "ax.yaxis.set_major_formatter(FormatStrFormatter('%g'))\n",
    "ax.set_ylabel(r\"$k_{on}$ (s$^{-1}$)\", fontsize=8)\n",
    "# plt.legend(fontsize=8)\n",
    "plt.savefig(\"/home/ordabayev/repos/tapqir-overleaf/figures/figure6/kon1.svg\")\n",
    "plt.show()"
   ]
  },
  {
   "cell_type": "code",
   "execution_count": 20,
   "metadata": {},
   "outputs": [
    {
     "data": {
      "image/png": "[encoded data removed]",
      "text/plain": [
       "<Figure size 86.4x86.4 with 1 Axes>"
      ]
     },
     "metadata": {
      "needs_background": "light"
     },
     "output_type": "display_data"
    }
   ],
   "source": [
    "fig, ax = plt.subplots(figsize=(1.2, 1.2))\n",
    "mask = (truth_df[\"kon\"] == 0.02)\n",
    "plt.scatter(truth_df.loc[mask, \"lamda\"], truth_df.loc[mask, \"kon\"], marker=\"x\")\n",
    "plt.errorbar(truth_df.loc[mask, \"lamda\"], [fit[i].loc[\"kon\", \"Mean\"] for i in truth_df.index if i.startswith(\"kon0.02\")],\n",
    "             yerr=torch.tensor([abs(fit[i].loc[\"kon\", [\"95% LL\", \"95% UL\"]].values - fit[i].loc[\"kon\", \"Mean\"]) for i in truth_df.index if i.startswith(\"kon0.02\")]).T,\n",
    "             fmt=\"o\", ms=3, mfc=\"k\", mec=\"k\", ecolor=\"k\", capsize=2, label=\"fit\")\n",
    "ax.set_ylim(0, 0.05)\n",
    "ax.set_xlim(-0.05, 1.05)\n",
    "ax.set_yticks([])\n",
    "ax.set_xticks([0, 0.5, 1])\n",
    "ax.tick_params(axis=\"both\", labelsize=8)\n",
    "ax.xaxis.set_major_formatter(FormatStrFormatter('%g'))\n",
    "ax.yaxis.set_major_formatter(FormatStrFormatter('%g'))\n",
    "ax.set_xlabel(r\"$\\lambda$\", fontsize=8)\n",
    "plt.savefig(\"/home/ordabayev/repos/tapqir-overleaf/figures/figure6/kon2.svg\")\n",
    "plt.show()"
   ]
  },
  {
   "cell_type": "code",
   "execution_count": 21,
   "metadata": {},
   "outputs": [
    {
     "data": {
      "image/png": "[encoded data removed]",
      "text/plain": [
       "<Figure size 86.4x86.4 with 1 Axes>"
      ]
     },
     "metadata": {
      "needs_background": "light"
     },
     "output_type": "display_data"
    }
   ],
   "source": [
    "fig, ax = plt.subplots(figsize=(1.2, 1.2))\n",
    "mask = (truth_df[\"kon\"] == 0.03)\n",
    "plt.scatter(truth_df.loc[mask, \"lamda\"], truth_df.loc[mask, \"kon\"], marker=\"x\")\n",
    "plt.errorbar(truth_df.loc[mask, \"lamda\"], [fit[i].loc[\"kon\", \"Mean\"] for i in truth_df.index if i.startswith(\"kon0.03\")],\n",
    "             yerr=torch.tensor([abs(fit[i].loc[\"kon\", [\"95% LL\", \"95% UL\"]].values - fit[i].loc[\"kon\", \"Mean\"]) for i in truth_df.index if i.startswith(\"kon0.03\")]).T,\n",
    "             fmt=\"o\", ms=3, mfc=\"k\", mec=\"k\", ecolor=\"k\", capsize=2, label=\"fit\")\n",
    "ax.set_ylim(0, 0.05)\n",
    "ax.set_xlim(-0.05, 1.05)\n",
    "ax.set_yticks([])\n",
    "ax.set_xticks([0, 0.5, 1])\n",
    "ax.tick_params(axis=\"both\", labelsize=8)\n",
    "ax.xaxis.set_major_formatter(FormatStrFormatter('%g'))\n",
    "ax.yaxis.set_major_formatter(FormatStrFormatter('%g'))\n",
    "plt.savefig(\"/home/ordabayev/repos/tapqir-overleaf/figures/figure6/kon3.svg\")\n",
    "plt.show()"
   ]
  },
  {
   "cell_type": "markdown",
   "metadata": {},
   "source": [
    "### koff"
   ]
  },
  {
   "cell_type": "code",
   "execution_count": 24,
   "metadata": {},
   "outputs": [
    {
     "data": {
      "image/png": "[encoded data removed]",
      "text/plain": [
       "<Figure size 86.4x86.4 with 1 Axes>"
      ]
     },
     "metadata": {
      "needs_background": "light"
     },
     "output_type": "display_data"
    }
   ],
   "source": [
    "fig, ax = plt.subplots(figsize=(1.2, 1.2))\n",
    "mask = (truth_df[\"kon\"] == 0.01)\n",
    "plt.scatter(truth_df.loc[mask, \"lamda\"], truth_df.loc[mask, \"koff\"], marker=\"x\")\n",
    "plt.errorbar(truth_df.loc[mask, \"lamda\"], [fit[i].loc[\"koff\", \"Mean\"] for i in truth_df.index if i.startswith(\"kon0.01\")],\n",
    "             yerr=torch.tensor([abs(fit[i].loc[\"koff\", [\"95% LL\", \"95% UL\"]].values - fit[i].loc[\"koff\", \"Mean\"]) for i in truth_df.index if i.startswith(\"kon0.01\")]).T,\n",
    "             fmt=\"o\", ms=3, mfc=\"k\", mec=\"k\", ecolor=\"k\", capsize=2, label=\"fit\")\n",
    "ax.set_ylim(0, 0.5)\n",
    "ax.set_xlim(-0.05, 1.05)\n",
    "ax.set_xticks([0, 0.5, 1])\n",
    "ax.tick_params(axis=\"both\", labelsize=8)\n",
    "ax.xaxis.set_major_formatter(FormatStrFormatter('%g'))\n",
    "ax.yaxis.set_major_formatter(FormatStrFormatter('%g'))\n",
    "ax.set_ylabel(r\"$k_{off}$ (s$^{-1}$)\", fontsize=8)\n",
    "plt.savefig(\"/home/ordabayev/repos/tapqir-overleaf/figures/figure6/koff1.svg\")\n",
    "plt.show()"
   ]
  },
  {
   "cell_type": "code",
   "execution_count": 25,
   "metadata": {},
   "outputs": [
    {
     "data": {
      "image/png": "[encoded data removed]",
      "text/plain": [
       "<Figure size 86.4x86.4 with 1 Axes>"
      ]
     },
     "metadata": {
      "needs_background": "light"
     },
     "output_type": "display_data"
    }
   ],
   "source": [
    "fig, ax = plt.subplots(figsize=(1.2, 1.2))\n",
    "mask = (truth_df[\"kon\"] == 0.02)\n",
    "plt.scatter(truth_df.loc[mask, \"lamda\"], truth_df.loc[mask, \"koff\"], marker=\"x\")\n",
    "plt.errorbar(truth_df.loc[mask, \"lamda\"], [fit[i].loc[\"koff\", \"Mean\"] for i in truth_df.index if i.startswith(\"kon0.02\")],\n",
    "             yerr=torch.tensor([abs(fit[i].loc[\"koff\", [\"95% LL\", \"95% UL\"]].values - fit[i].loc[\"koff\", \"Mean\"]) for i in truth_df.index if i.startswith(\"kon0.02\")]).T,\n",
    "             fmt=\"o\", ms=3, mfc=\"k\", mec=\"k\", ecolor=\"k\", capsize=2, label=\"fit\")\n",
    "ax.set_ylim(0, 0.5)\n",
    "ax.set_xlim(-0.05, 1.05)\n",
    "ax.set_yticks([])\n",
    "ax.set_xticks([0, 0.5, 1])\n",
    "ax.tick_params(axis=\"both\", labelsize=8)\n",
    "ax.xaxis.set_major_formatter(FormatStrFormatter('%g'))\n",
    "ax.yaxis.set_major_formatter(FormatStrFormatter('%g'))\n",
    "ax.set_xlabel(r\"$\\lambda$\", fontsize=8)\n",
    "plt.savefig(\"/home/ordabayev/repos/tapqir-overleaf/figures/figure6/koff2.svg\")\n",
    "plt.show()"
   ]
  },
  {
   "cell_type": "code",
   "execution_count": 27,
   "metadata": {},
   "outputs": [
    {
     "data": {
      "image/png": "[encoded data removed]",
      "text/plain": [
       "<Figure size 86.4x86.4 with 1 Axes>"
      ]
     },
     "metadata": {
      "needs_background": "light"
     },
     "output_type": "display_data"
    }
   ],
   "source": [
    "fig, ax = plt.subplots(figsize=(1.2, 1.2))\n",
    "mask = (truth_df[\"kon\"] == 0.03)\n",
    "plt.scatter(truth_df.loc[mask, \"lamda\"], truth_df.loc[mask, \"koff\"], marker=\"x\")\n",
    "plt.errorbar(truth_df.loc[mask, \"lamda\"], [fit[i].loc[\"koff\", \"Mean\"] for i in truth_df.index if i.startswith(\"kon0.03\")],\n",
    "             yerr=torch.tensor([abs(fit[i].loc[\"koff\", [\"95% LL\", \"95% UL\"]].values - fit[i].loc[\"koff\", \"Mean\"]) for i in truth_df.index if i.startswith(\"kon0.03\")]).T,\n",
    "             fmt=\"o\", ms=3, mfc=\"k\", mec=\"k\", ecolor=\"k\", capsize=2, label=\"fit\")\n",
    "ax.set_ylim(0, 0.5)\n",
    "ax.set_xlim(-0.05, 1.05)\n",
    "ax.set_yticks([])\n",
    "ax.set_xticks([0, 0.5, 1])\n",
    "ax.tick_params(axis=\"both\", labelsize=8)\n",
    "ax.xaxis.set_major_formatter(FormatStrFormatter('%g'))\n",
    "ax.yaxis.set_major_formatter(FormatStrFormatter('%g'))\n",
    "plt.savefig(\"/home/ordabayev/repos/tapqir-overleaf/figures/figure6/koff3.svg\")\n",
    "plt.show()"
   ]
  },
  {
   "cell_type": "markdown",
   "metadata": {},
   "source": [
    "### Traces"
   ]
  },
  {
   "cell_type": "code",
   "execution_count": 34,
   "metadata": {},
   "outputs": [],
   "source": [
    "model = Cosmos(verbose=False)\n",
    "model.load(SIMULATIONS_DIR / \"kon0.02lamda1\", data_only=False)\n",
    "z_samples = dist.Bernoulli(model.params[\"p(specific)\"]).sample((500,))"
   ]
  },
  {
   "cell_type": "code",
   "execution_count": 40,
   "metadata": {},
   "outputs": [
    {
     "data": {
      "image/png": "[encoded data removed]",
      "text/plain": [
       "<Figure size 216x36 with 1 Axes>"
      ]
     },
     "metadata": {
      "needs_background": "light"
     },
     "output_type": "display_data"
    }
   ],
   "source": [
    "plt.figure(figsize=(3, 0.5))\n",
    "\n",
    "n = 4\n",
    "f1 = 0\n",
    "f2 = 300\n",
    "plt.plot(\n",
    "    torch.arange(f1, f2),\n",
    "    model.data.ontarget.labels[\"z\"][n, f1:f2],\n",
    "    \"-\", lw=1, color=\"C4\", label=\"simulation\")\n",
    "\n",
    "plt.xticks([], fontsize=8)\n",
    "plt.yticks([0, 1], fontsize=8)\n",
    "plt.xlim(f1-1, f2-1)\n",
    "plt.ylim(-0.15, 1.15)\n",
    "plt.gca().yaxis.set_major_formatter(FormatStrFormatter('%g'))\n",
    "\n",
    "plt.savefig(\"/home/ordabayev/repos/tapqir-overleaf/figures/figure6/simulation.svg\")\n",
    "plt.show()"
   ]
  },
  {
   "cell_type": "code",
   "execution_count": 41,
   "metadata": {},
   "outputs": [
    {
     "data": {
      "image/png": "[encoded data removed]",
      "text/plain": [
       "<Figure size 216x36 with 1 Axes>"
      ]
     },
     "metadata": {
      "needs_background": "light"
     },
     "output_type": "display_data"
    }
   ],
   "source": [
    "plt.figure(figsize=(3, 0.5))\n",
    "\n",
    "plt.plot(\n",
    "    torch.arange(f1, f2),\n",
    "    model.params[\"p(specific)\"][n, f1:f2],\n",
    "    \"o-\", ms=1, lw=0.5, color=\"C2\", label=\"fit\")\n",
    "\n",
    "plt.xticks([], fontsize=8)\n",
    "plt.yticks([0, 1], fontsize=8)\n",
    "plt.xlim(f1-1, f2-1)\n",
    "plt.ylim(-0.15, 1.15)\n",
    "plt.gca().yaxis.set_major_formatter(FormatStrFormatter('%g'))\n",
    "\n",
    "plt.savefig(\"/home/ordabayev/repos/tapqir-overleaf/figures/figure6/pspecific.svg\")\n",
    "plt.show()"
   ]
  },
  {
   "cell_type": "code",
   "execution_count": 42,
   "metadata": {},
   "outputs": [
    {
     "data": {
      "image/png": "[encoded data removed]",
      "text/plain": [
       "<Figure size 216x36 with 1 Axes>"
      ]
     },
     "metadata": {
      "needs_background": "light"
     },
     "output_type": "display_data"
    }
   ],
   "source": [
    "plt.figure(figsize=(3, 0.5))\n",
    "\n",
    "plt.plot(\n",
    "    torch.arange(f1, f2),\n",
    "    z_samples[5, n, f1:f2],\n",
    "    \"-\", ms=2, lw=0.5, color=\"k\", label=\"fit\")\n",
    "\n",
    "plt.xticks([], fontsize=8)\n",
    "plt.yticks([0, 1], fontsize=8)\n",
    "plt.xlim(f1-1, f2-1)\n",
    "plt.ylim(-0.15, 1.15)\n",
    "plt.gca().yaxis.set_major_formatter(FormatStrFormatter('%g'))\n",
    "\n",
    "plt.savefig(\"/home/ordabayev/repos/tapqir-overleaf/figures/figure6/sample1.svg\")\n",
    "plt.show()"
   ]
  },
  {
   "cell_type": "code",
   "execution_count": 43,
   "metadata": {},
   "outputs": [
    {
     "data": {
      "image/png": "[encoded data removed]",
      "text/plain": [
       "<Figure size 216x36 with 1 Axes>"
      ]
     },
     "metadata": {
      "needs_background": "light"
     },
     "output_type": "display_data"
    }
   ],
   "source": [
    "plt.figure(figsize=(3, 0.5))\n",
    "\n",
    "plt.plot(\n",
    "    torch.arange(f1, f2),\n",
    "    z_samples[1, n, f1:f2],\n",
    "    \"-\", ms=2, lw=0.5, color=\"k\", label=\"fit\")\n",
    "\n",
    "plt.xticks(fontsize=8)\n",
    "plt.yticks([0, 1], fontsize=8)\n",
    "plt.xlim(f1-1, f2-1)\n",
    "plt.ylim(-0.15, 1.15)\n",
    "plt.xlabel(\"Frame\", fontsize=8)\n",
    "plt.gca().yaxis.set_major_formatter(FormatStrFormatter('%g'))\n",
    "\n",
    "plt.savefig(\"/home/ordabayev/repos/tapqir-overleaf/figures/figure6/sample2.svg\")\n",
    "plt.show()"
   ]
  },
  {
   "cell_type": "code",
   "execution_count": null,
   "metadata": {},
   "outputs": [],
   "source": []
  }
 ],
 "metadata": {
  "hide_input": false,
  "kernelspec": {
   "display_name": "Python 3 (ipykernel)",
   "language": "python",
   "name": "python3"
  },
  "language_info": {
   "codemirror_mode": {
    "name": "ipython",
    "version": 3
   },
   "file_extension": ".py",
   "mimetype": "text/x-python",
   "name": "python",
   "nbconvert_exporter": "python",
   "pygments_lexer": "ipython3",
   "version": "3.8.10"
  },
  "toc": {
   "base_numbering": 1,
   "nav_menu": {},
   "number_sections": true,
   "sideBar": true,
   "skip_h1_title": false,
   "title_cell": "Table of Contents",
   "title_sidebar": "Contents",
   "toc_cell": false,
   "toc_position": {
    "height": "calc(100% - 180px)",
    "left": "10px",
    "top": "150px",
    "width": "340.25px"
   },
   "toc_section_display": true,
   "toc_window_display": true
  }
 },
 "nbformat": 4,
 "nbformat_minor": 4
}
