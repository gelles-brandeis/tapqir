{
  "nbformat": 4,
  "nbformat_minor": 5,
  "metadata": {
    "kernelspec": {
      "display_name": "Python 3 (ipykernel)",
      "language": "python",
      "name": "python3"
    },
    "language_info": {
      "codemirror_mode": {
        "name": "ipython",
        "version": 3
      },
      "file_extension": ".py",
      "mimetype": "text/x-python",
      "name": "python",
      "nbconvert_exporter": "python",
      "pygments_lexer": "ipython3",
      "version": "3.8.10"
    },
    "nbsphinx": {
      "execute": "never"
    },
    "toc": {
      "base_numbering": 1,
      "nav_menu": {},
      "number_sections": true,
      "sideBar": true,
      "skip_h1_title": false,
      "title_cell": "Table of Contents",
      "title_sidebar": "Contents",
      "toc_cell": false,
      "toc_position": {},
      "toc_section_display": true,
      "toc_window_display": false
    },
    "colab": {
      "name": "tutorial.ipynb",
      "provenance": [],
      "machine_shape": "hm"
    },
    "accelerator": "GPU"
  },
  "cells": [
    {
      "cell_type": "markdown",
      "metadata": {
        "id": "bd03d75a"
      },
      "source": [
        "# Part II: Tapqir analysis (Colab)\n",
        "\n",
        "In this tutorial we will use a Jupyter notebook to analyze the Data set A in [Ordabayev et al., 2022](https://doi.org/10.7554/eLife.73860). **To work with the live version of the notebook run it in Google Colab using the link above**. The data are taken from [Rosen et al., 2020](https://dx.doi.org/10.1073/pnas.2011224117) and have already been preprocesssed using [imscroll](https://github.com/gelles-brandeis/CoSMoS_Analysis/wiki) ([Friedman et al., 2015](https://dx.doi.org/10.1016/j.ymeth.2015.05.026)).\n",
        "\n",
        "## Set up the environment\n",
        "\n",
        "* Change runtime to GPU (in the menu select `Runtime -> Change runtime type -> GPU`)\n",
        "* Connect Google Drive to be able to save the analysis output (to view Files & Folders click on a Folder icon on the left):"
      ],
      "id": "bd03d75a"
    },
    {
      "cell_type": "code",
      "metadata": {
        "colab": {
          "base_uri": "https://localhost:8080/"
        },
        "id": "DhA21mMtnYz3",
        "outputId": "173654e3-b9b9-4fa9-c128-2bc0367cf659"
      },
      "source": [
        "# Run this cell to connect to Google Drive\n",
        "from google.colab import drive\n",
        "\n",
        "drive.mount(\"/content/drive\")"
      ],
      "id": "DhA21mMtnYz3",
      "execution_count": null,
      "outputs": [
        {
          "output_type": "stream",
          "name": "stdout",
          "text": [
            "Mounted at /content/drive\n"
          ]
        }
      ]
    },
    {
      "cell_type": "markdown",
      "metadata": {
        "id": "DkWlOQBBnrAB"
      },
      "source": [
        "* Run the cell below to install `tapqir` (takes about a minute):"
      ],
      "id": "DkWlOQBBnrAB"
    },
    {
      "cell_type": "code",
      "metadata": {
        "id": "dc0a79f0"
      },
      "source": [
        "!pip install --quiet tapqir > install.log"
      ],
      "id": "dc0a79f0",
      "execution_count": null,
      "outputs": []
    },
    {
      "cell_type": "markdown",
      "metadata": {
        "id": "6ab78be2"
      },
      "source": [
        "## Download input data\n",
        "\n",
        "These data were acquired with [Glimpse](https://github.com/gelles-brandeis/Glimpse) and pre-processed with the [imscroll](https://github.com/gelles-brandeis/CoSMoS_Analysis/wiki) program ([Friedman et al., 2015](https://dx.doi.org/10.1016/j.ymeth.2015.05.026)). Change directory to MyDrive:"
      ],
      "id": "6ab78be2"
    },
    {
      "cell_type": "code",
      "source": [
        "%cd drive/MyDrive/"
      ],
      "metadata": {
        "colab": {
          "base_uri": "https://localhost:8080/"
        },
        "id": "HKjj8wq9_UIi",
        "outputId": "7e39d0a6-02b3-4f9b-9ee6-460c407a2d16"
      },
      "id": "HKjj8wq9_UIi",
      "execution_count": null,
      "outputs": [
        {
          "output_type": "stream",
          "name": "stdout",
          "text": [
            "/content/drive/MyDrive\n"
          ]
        }
      ]
    },
    {
      "cell_type": "markdown",
      "source": [
        "Download data files using [wget](https://www.gnu.org/software/wget/) and then unzip files:"
      ],
      "metadata": {
        "id": "2S4_ol22_Pvg"
      },
      "id": "2S4_ol22_Pvg"
    },
    {
      "cell_type": "code",
      "metadata": {
        "id": "r8_jAWvimkFL"
      },
      "source": [
        "!wget https://zenodo.org/record/5659927/files/DatasetA_glimpse.zip\n",
        "!unzip DatasetA_glimpse.zip && rm DatasetA_glimpse.zip"
      ],
      "id": "r8_jAWvimkFL",
      "execution_count": null,
      "outputs": []
    },
    {
      "cell_type": "markdown",
      "metadata": {
        "id": "a632239b"
      },
      "source": [
        "The raw input data are:\n",
        "\n",
        "* `garosen00267` - folder containing image data in glimpse format and header files\n",
        "* `green_DNA_locations.dat` - aoiinfo file designating target molecule (DNA) locations in the binder channel\n",
        "* `green_nonDNA_locations.dat` - aoiinfo file designating off-target (nonDNA) locations in the binder channel\n",
        "* `green_driftlist.dat` - driftlist file recording the stage movement that took place during the experiment"
      ],
      "id": "a632239b"
    },
    {
      "cell_type": "markdown",
      "metadata": {
        "id": "4cf68ab1"
      },
      "source": [
        "To start the analysis create an empty folder (here named `tutorial`) which will be the working directory:"
      ],
      "id": "4cf68ab1"
    },
    {
      "cell_type": "code",
      "metadata": {
        "id": "f4f1cbb8"
      },
      "source": [
        "%mkdir tutorial"
      ],
      "id": "f4f1cbb8",
      "execution_count": null,
      "outputs": []
    },
    {
      "cell_type": "markdown",
      "source": [
        "## Start the program\n",
        "To start the program run:"
      ],
      "metadata": {
        "id": "dcQitt5sldUb"
      },
      "id": "dcQitt5sldUb"
    },
    {
      "cell_type": "code",
      "source": [
        "from tapqir import gui\n",
        "\n",
        "gui.run()"
      ],
      "metadata": {
        "id": "PlckMGhHlqjS"
      },
      "id": "PlckMGhHlqjS",
      "execution_count": null,
      "outputs": []
    },
    {
      "cell_type": "markdown",
      "source": [
        "which will display the Tapqir GUI:\n",
        "\n",
        "<img src=\"https://github.com/gelles-brandeis/tapqir/blob/latest/docs/source/tutorials/start-page.png?raw=true\" width=\"800\" />"
      ],
      "metadata": {
        "id": "MzuiACM9lrWI"
      },
      "id": "MzuiACM9lrWI"
    },
    {
      "cell_type": "markdown",
      "source": [
        "## Select working directory\n",
        "\n",
        "Click the `Select` button to set the working directory to `/content/drive/MyDrive/tutorial`:\n",
        "\n",
        "<img src=\"https://github.com/gelles-brandeis/tapqir/blob/latest/docs/source/tutorials/working-directory_colab.png?raw=true\" width=\"800\" />\n",
        "\n",
        "Setting working directory creates a `.tapqir` sub-folder that will store internal files such as `config.yaml` configuration file, `loginfo` logging file, and model checkpoints."
      ],
      "metadata": {
        "id": "sTNr2P4tmKs0"
      },
      "id": "sTNr2P4tmKs0"
    },
    {
      "cell_type": "markdown",
      "metadata": {
        "id": "Ecms7tBm9pFz"
      },
      "source": [
        "## Extract AOIs\n",
        "\n",
        "To extract AOIs specify the following options in the `Extract AOIs` tab:\n",
        "\n",
        "* A dataset name: `Rpb1SNAP549` (an arbitrary name)\n",
        "* Size of AOI images: we recommend to use `14` pixels\n",
        "* Starting and ending frame numbers to be included in the analysis (`1` and `790`). If starting and ending frames are not specified then the full range of frames from the driftlist file will be analyzed.\n",
        "* The number of color channels `1` (this data set has only one color channel available)\n",
        "* Use off-target AOI locations?: `True` (we recommended including off-target AOI locations in the analysis)."
      ],
      "id": "Ecms7tBm9pFz"
    },
    {
      "cell_type": "markdown",
      "source": [
        "And specify the locations of input files for each color channel (only one color channel in this example):\n",
        "\n",
        "* Channel name: `SNAP549` (an arbitrary name)\n",
        "* Header/glimpse folder: `/content/drive/MyDrive/tutorial/DatasetA_glimpse/garosen00267`\n",
        "* Driftlist file: `/content/drive/MyDrive/tutorial/DatasetA_glimpse/green_driftlist.dat`\n",
        "* Target molecule locations file: `/content/drive/MyDrive/tutorial/DatasetA_glimpse/green_DNA_locations.dat`\n",
        "* Off-target control locations file: `/content/drive/MyDrive/tutorial/DatasetA_glimpse/green_nonDNA_locations.dat`"
      ],
      "metadata": {
        "id": "URqERtuTcrDs"
      },
      "id": "URqERtuTcrDs"
    },
    {
      "cell_type": "markdown",
      "source": [
        "> **About indexing**. In Python indexing starts with 0. We stick to this convention and index AOIs, frames, color channels, and pixels starting with 0. Note, however, that for starting and ending frame numbers we used `1` and `790` which are according to Matlab indexing convention (in Matlab indexing starts with 1) since driftlist file was produced using a Matlab script.\n",
        "\n",
        "Next, click `Extract AOIs` button:\n",
        "\n",
        "<img src=\"https://github.com/gelles-brandeis/tapqir/blob/latest/docs/source/tutorials/extract-aois_colab.png?raw=true\" width=\"800\" />"
      ],
      "metadata": {
        "id": "NEcOqJJ2cuCH"
      },
      "id": "NEcOqJJ2cuCH"
    },
    {
      "cell_type": "markdown",
      "metadata": {
        "id": "bgWLD68qsw4f"
      },
      "source": [
        "Great! The program has outputted a `data.tpqr` file containing extracted AOI images (N=331 target and Nc=526 off-target control locations):"
      ],
      "id": "bgWLD68qsw4f"
    },
    {
      "cell_type": "code",
      "metadata": {
        "id": "d709b3f6",
        "colab": {
          "base_uri": "https://localhost:8080/"
        },
        "outputId": "eae4df67-d30c-4f98-dd3a-734c92c732b0"
      },
      "source": [
        "%ls tutorial/"
      ],
      "id": "d709b3f6",
      "execution_count": null,
      "outputs": [
        {
          "output_type": "stream",
          "name": "stdout",
          "text": [
            "data.tpqr            offset-distribution.png  offtarget-channel0.png\n",
            "offset-channel0.png  offset-medians.png       ontarget-channel0.png\n"
          ]
        }
      ]
    },
    {
      "cell_type": "markdown",
      "metadata": {
        "id": "1xda8oFAph8m"
      },
      "source": [
        "Additionally, the program has saved\n",
        "\n",
        "* Image files (`ontarget-channel0.png` and `offtarget-channel0.png`) displaying locations of on-target and off-target AOIs in the first frame. You should inspect these images to make sure that AOIs are inside the field of view:\n",
        "\n",
        "  <img src=\"https://github.com/gelles-brandeis/tapqir/blob/latest/docs/source/tutorials/ontarget-channel0.png?raw=true\" width=\"700\" />\n",
        "  <img src=\"https://github.com/gelles-brandeis/tapqir/blob/latest/docs/source/tutorials/offtarget-channel0.png?raw=true\" width=\"700\" />\n",
        "\n",
        "* You should also look at `offset-channel0.png` to check that offset data is taken from a region outside the field of view:\n",
        "\n",
        "  <img src=\"https://github.com/gelles-brandeis/tapqir/blob/latest/docs/source/tutorials/offset-channel0.png?raw=true\" width=\"700\" />\n",
        "\n",
        "* The other two files show the intensity histograms (`offset-distribution.png`) and the offset median time record (`offset-medians.png`) (offset distribution shouldn’t drift over time):\n",
        "\n",
        "  <img src=\"https://github.com/gelles-brandeis/tapqir/blob/latest/docs/source/tutorials/offset-distribution.png?raw=true\" width=\"300\" />\n",
        "  <img src=\"https://github.com/gelles-brandeis/tapqir/blob/latest/docs/source/tutorials/offset-medians.png?raw=true\" width=\"500\" />"
      ],
      "id": "1xda8oFAph8m"
    },
    {
      "cell_type": "markdown",
      "metadata": {
        "id": "2afb0202"
      },
      "source": [
        "## Fit the data\n",
        "\n",
        "Now the data is ready for fitting. Options that we will select:\n",
        "\n",
        "* Model - the default single-color time-independent `cosmos` model ([Ordabayev et al., 2022](https://doi.org/10.7554/eLife.73860)).\n",
        "* Color channel number - first chanel (`0`) (there is only one color channel in this data)\n",
        "* Run computations on GPU: yes (`True`).\n",
        "* AOI batch size - use default (`10`).\n",
        "* Frame batch size - use default (`512`).\n",
        "* Learning rate - use default (`0.005`).\n",
        "* Number of iterations - use default (`0`)"
      ],
      "id": "2afb0202"
    },
    {
      "cell_type": "markdown",
      "metadata": {
        "id": "cS3HizaduHaG"
      },
      "source": [
        "> **About batch size**. Batch sizes should impact *training time* and *memory consumption*. Ideally, it should not affect the final result. Batch sizes can be optimized for a particular GPU hardware by trying different batch size values and comparing training time/memory usage (`nvidia-smi` shell command shows Memory-Usage and GPU-Util values).\n",
        "\n",
        "Next, press `Fit the data` button:\n",
        "\n",
        "<img src=\"https://github.com/gelles-brandeis/tapqir/blob/latest/docs/source/tutorials/fit-data.png?raw=true\" width=\"800\" />"
      ],
      "id": "cS3HizaduHaG"
    },
    {
      "cell_type": "markdown",
      "metadata": {
        "id": "65ERuUNR5AMp"
      },
      "source": [
        "The program will automatically save a checkpoint every 200 iterations (checkpoint is saved at `.tapqir/cosmos-channel0-model.tpqr`). The program can be stopped at any time by clicking in the terminal window and pressing `Ctrl-C`. To restart the program again re-run `tapqir-gui` command and the program will resume from the last saved checkpoint.\n",
        "\n",
        "After fitting is finished, the program computes 95% credible intervals (CI) of model parameters and saves the parameters and CIs in `cosmos-channel0-params.tqpr`, `cosmos-channel0-params.mat` (if Matlab format is selected), and `cosmos-channel0-summary.csv` files.\n",
        "\n",
        "If you get an error message saying that there is a memory overflow you can decrease either frame batch size (e.g., to `128` or `256`) or AOI batch size (e.g., to `5`)."
      ],
      "id": "65ERuUNR5AMp"
    },
    {
      "cell_type": "markdown",
      "metadata": {
        "id": "c22dabbb"
      },
      "source": [
        "## Tensorboard\n",
        "\n",
        "At every checkpoint the values of global variational parameters (`-ELBO`, `gain_loc`, `proximity_loc`, `pi_mean`, `lamda_loc`) are recorded. Fitting progress can be inspected while fitting is taking place or afterwards with the [tensorboard program](https://www.tensorflow.org/tensorboard) which shows the parameters values as a function of iteration number:"
      ],
      "id": "c22dabbb"
    },
    {
      "cell_type": "code",
      "metadata": {
        "id": "f2ae2b6b"
      },
      "source": [
        "%load_ext tensorboard"
      ],
      "id": "f2ae2b6b",
      "execution_count": null,
      "outputs": []
    },
    {
      "cell_type": "code",
      "metadata": {
        "id": "417245d3"
      },
      "source": [
        "%tensorboard --logdir /content/drive/MyDrive/tutorial/"
      ],
      "id": "417245d3",
      "execution_count": null,
      "outputs": []
    },
    {
      "cell_type": "markdown",
      "source": [
        "<img src=\"https://github.com/gelles-brandeis/tapqir/blob/latest/docs/source/tutorials/tensorboard_colab.png?raw=true\" width=\"800\" />\n",
        "\n",
        "Set smoothing to 0 (in the left panel) and use refresh button at the top right to refresh plots.\n",
        "\n",
        "Plateaued plots signify convergence.\n",
        "\n",
        "> **About number of iterations**. Fitting the data requires many iterations (about 50,000-100,000) until parameters converge. Setting the number of iterations to 0 will run the program till Tapqir’s custom convergence criteria is satisfied. We recommend to set it to 0 (default) and then run for additional number of iterations if required."
      ],
      "metadata": {
        "id": "KDk7LnVQcmPD"
      },
      "id": "KDk7LnVQcmPD"
    },
    {
      "cell_type": "markdown",
      "source": [
        "## View results\n",
        "\n",
        "This is not supported in the Colab version of Tapqir yet."
      ],
      "metadata": {
        "id": "GO1rlVFNo8U2"
      },
      "id": "GO1rlVFNo8U2"
    },
    {
      "cell_type": "markdown",
      "source": [
        "## Advanced settings\n",
        "\n",
        "Tapqir settings can be directly accessed and modified through the configuration file `config.yaml` under `.tapqir` sub-folder of the working directory. It also contains additional options that are not available through the GUI.\n",
        "\n",
        "### Offset\n",
        "\n",
        "Offset data region (square) can be edited using three variables:\n",
        "\n",
        "* `offset_x`: left corner of the square (default is 10 pixels)\n",
        "* `offset_y`: top corner of the square (default is 10 pixels)\n",
        "* `offset_P`: size of the square (default is 30 pixels)\n",
        "\n",
        "Bin size for the offset intensity histogram by default is 1. The bin size can be increased (try 3 or 5; odd number) to make the histogram sparser which will speed up fitting.\n",
        "\n",
        "* `bin_size`: offset intensity histogram bin size (default is 1)\n",
        "\n",
        "### Prior distributions\n",
        "\n",
        "Parameters of prior distirbutions (Eqs. 6a, 6b, 11, 12, 13, 15, and 16 in [Ordabayev et al., 2022](https://doi.org/10.7554/eLife.73860)):\n",
        "\n",
        "* `background_mean_std` (default 1000): standard deviation of the HalfNormal distribution in Eq. 6a\n",
        "* `background_std_std` (default 100): standard deviation of the HalfNormal distribution in Eq. 6b\n",
        "* `lamda_rate` (default 1): rate parameter of the Exponential distribution in Eq. 11\n",
        "* `heiht_std` (default 10,000): standard deviation of the HalfNormal distribution in Eq. 12\n",
        "* `width_min` (default 0.75): minimum value of Uniform distribution in Eq. 13\n",
        "* `width_max` (default 2.25): maximum value of Uniform distribution in Eq. 13\n",
        "* `proximity_rate` (default 1): rate parameter of the Exponential distribution in Eq. 15\n",
        "* `gain_std` (default 50): standard deviation of the HalfNormal distribution in Eq. 16"
      ],
      "metadata": {
        "id": "QKNrsnBHpI65"
      },
      "id": "QKNrsnBHpI65"
    }
  ]
}