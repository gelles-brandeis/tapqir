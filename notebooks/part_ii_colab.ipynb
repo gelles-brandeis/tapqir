{
  "nbformat": 4,
  "nbformat_minor": 5,
  "metadata": {
    "kernelspec": {
      "display_name": "Python 3 (ipykernel)",
      "language": "python",
      "name": "python3"
    },
    "language_info": {
      "codemirror_mode": {
        "name": "ipython",
        "version": 3
      },
      "file_extension": ".py",
      "mimetype": "text/x-python",
      "name": "python",
      "nbconvert_exporter": "python",
      "pygments_lexer": "ipython3",
      "version": "3.8.10"
    },
    "nbsphinx": {
      "execute": "never"
    },
    "toc": {
      "base_numbering": 1,
      "nav_menu": {},
      "number_sections": true,
      "sideBar": true,
      "skip_h1_title": false,
      "title_cell": "Table of Contents",
      "title_sidebar": "Contents",
      "toc_cell": false,
      "toc_position": {},
      "toc_section_display": true,
      "toc_window_display": false
    },
    "colab": {
      "name": "tutorial.ipynb",
      "provenance": [],
      "machine_shape": "hm"
    },
    "accelerator": "GPU"
  },
  "cells": [
    {
      "cell_type": "markdown",
      "metadata": {
        "id": "bd03d75a"
      },
      "source": [
        "# Part II: Tapqir analysis (Colab)\n",
        "\n",
        "This tutorial is a Jupyter notebook that illustrates steps involved in Tapqir analysis. To work with the live version of the notebook run it in Google Colab using the link above.\n",
        "\n",
        "**Note**: Jupyter notebook is a Python environment. It can also run shell commands with the ! sign prepended to the command (or sometimes % sign for jupyter [magic commands](https://ipython.readthedocs.io/en/stable/interactive/magics.html)).\n",
        "\n",
        "## Set up the environment\n",
        "\n",
        "* Change runtime to GPU (in the menu select `Runtime -> Change runtime type -> GPU`)\n",
        "* Connect Google Drive to be able to save the analysis output (to view Files & Folders click on a Folder icon on the left):"
      ],
      "id": "bd03d75a"
    },
    {
      "cell_type": "code",
      "metadata": {
        "colab": {
          "base_uri": "https://localhost:8080/"
        },
        "id": "DhA21mMtnYz3",
        "outputId": "d1c59b98-d81e-427e-88ca-bf9c0cd6f45b"
      },
      "source": [
        "# Run this cell to connect to Google Drive\n",
        "from google.colab import drive\n",
        "\n",
        "drive.mount(\"/content/drive\")\n",
        "# change directory to MyDrive\n",
        "%cd drive/MyDrive/"
      ],
      "id": "DhA21mMtnYz3",
      "execution_count": 5,
      "outputs": [
        {
          "output_type": "stream",
          "name": "stdout",
          "text": [
            "Mounted at /content/drive\n",
            "/content/drive/MyDrive\n"
          ]
        }
      ]
    },
    {
      "cell_type": "markdown",
      "metadata": {
        "id": "DkWlOQBBnrAB"
      },
      "source": [
        "* Run the cell below to install `tapqir` (takes about a minute):"
      ],
      "id": "DkWlOQBBnrAB"
    },
    {
      "cell_type": "code",
      "metadata": {
        "id": "dc0a79f0"
      },
      "source": [
        "!pip install --quiet git+https://github.com/gelles-brandeis/tapqir.git#egg=tapqir[colab] > install.log"
      ],
      "id": "dc0a79f0",
      "execution_count": 2,
      "outputs": []
    },
    {
      "cell_type": "markdown",
      "metadata": {
        "id": "4cf68ab1"
      },
      "source": [
        "## Initialize folder\n",
        "\n",
        "To start the analysis create an empty folder (here named `tutorial`), change directory to the newly created folder, and initialize it by running `tapqir init` inside the new folder:"
      ],
      "id": "4cf68ab1"
    },
    {
      "cell_type": "code",
      "metadata": {
        "id": "f4f1cbb8",
        "colab": {
          "base_uri": "https://localhost:8080/"
        },
        "outputId": "d9109718-16da-45ba-9f49-5d54ed55dbb8"
      },
      "source": [
        "# create a new directory\n",
        "%mkdir tutorial\n",
        "# change direcotry\n",
        "%cd tutorial\n",
        "# initialize tapqir\n",
        "!tapqir init"
      ],
      "id": "f4f1cbb8",
      "execution_count": 6,
      "outputs": [
        {
          "output_type": "stream",
          "name": "stdout",
          "text": [
            "/content/drive/MyDrive/tutorial\n",
            "Initialized Tapqir in the working directory.\n",
            "\u001b[33m---------------------------------------------------------------\u001b[39m\n",
            "- Checkout the documentation: <\u001b[36mhttps://tapqir.readthedocs.io/\u001b[39m>\n",
            "- Get help on our forum: <\u001b[36mhttps://github.com/gelles-brandeis/tapqir/discussions\u001b[39m>\n"
          ]
        }
      ]
    },
    {
      "cell_type": "markdown",
      "metadata": {
        "id": "dqrzD3NKtiiV"
      },
      "source": [
        "`tapqir init` command has created a `.tapqir` sub-folder that will store internal files such as `config.yml` configuration file, `loginfo` logging file, and model checkpoints."
      ],
      "id": "dqrzD3NKtiiV"
    },
    {
      "cell_type": "code",
      "metadata": {
        "colab": {
          "base_uri": "https://localhost:8080/"
        },
        "id": "e2b55QXNt0sm",
        "outputId": "0a82015a-41a6-404c-a513-438b5745541f"
      },
      "source": [
        "# list all files (including hidden files)\n",
        "%ls -alh"
      ],
      "id": "e2b55QXNt0sm",
      "execution_count": 7,
      "outputs": [
        {
          "output_type": "stream",
          "name": "stdout",
          "text": [
            "total 4.0K\n",
            "drwx------ 2 root root 4.0K Dec  5 21:40 \u001b[0m\u001b[01;34m.tapqir\u001b[0m/\n"
          ]
        }
      ]
    },
    {
      "cell_type": "markdown",
      "metadata": {
        "id": "6ab78be2"
      },
      "source": [
        "## Download input data\n",
        "\n",
        "This data was acquired with Glimpse and pre-processed with [imscroll](https://github.com/gelles-brandeis/CoSMoS_Analysis/wiki) program ([Friedman et al., 2015](https://dx.doi.org/10.1016/j.ymeth.2015.05.026)). Let’s download data files using [wget](https://www.gnu.org/software/wget/) and then unzip files:"
      ],
      "id": "6ab78be2"
    },
    {
      "cell_type": "markdown",
      "metadata": {
        "id": "a632239b"
      },
      "source": [
        "The raw input data are:\n",
        "\n",
        "* `garosen00267` - folder containing image data in glimpse format and header files\n",
        "* `green_DNA_locations.dat` - aoiinfo file designating target molecule (DNA) locations in the binder channel\n",
        "* `green_nonDNA_locations.dat` - aoiinfo file designating off-target (nonDNA) locations in the binder channel\n",
        "* `green_driftlist.dat` - driftlist file recording the stage movement that took place during the experiment"
      ],
      "id": "a632239b"
    },
    {
      "cell_type": "code",
      "metadata": {
        "id": "r8_jAWvimkFL"
      },
      "source": [
        "%%capture\n",
        "# Download and unzip raw input files\n",
        "!wget https://zenodo.org/record/5659927/files/DatasetA_glimpse.zip\n",
        "!unzip DatasetA_glimpse.zip && rm DatasetA_glimpse.zip"
      ],
      "id": "r8_jAWvimkFL",
      "execution_count": 8,
      "outputs": []
    },
    {
      "cell_type": "markdown",
      "metadata": {
        "id": "Ecms7tBm9pFz"
      },
      "source": [
        "## Extract AOIs\n",
        "\n",
        "Extract AOIs from raw images using `tapqir glimpse` command which will run interactively:"
      ],
      "id": "Ecms7tBm9pFz"
    },
    {
      "cell_type": "code",
      "metadata": {
        "id": "AEGNFs5M-MVd",
        "colab": {
          "base_uri": "https://localhost:8080/"
        },
        "outputId": "340634be-6809-4b18-946a-490e3b9ece9c"
      },
      "source": [
        "!tapqir glimpse"
      ],
      "id": "AEGNFs5M-MVd",
      "execution_count": 11,
      "outputs": [
        {
          "output_type": "stream",
          "name": "stdout",
          "text": [
            "Dataset name [Rpb1SNAP549]: Rpb1SNAP549\n",
            "AOI image size - number of pixels along the axis [14]: \n",
            "Number of color channels [1]: \n",
            "Overwrite defaults values? [Y/n]: \n",
            "Specify frame range? [Y/n]: \n",
            "First frame to include in the analysis [1]: \n",
            "Last frame to include in the analysis [790]: \n",
            "\n",
            "INPUTS FOR CHANNEL #0\n",
            "\n",
            "Channel name [SNAP549]: \n",
            "Header/glimpse folder [/content/drive/MyDrive/tutorial/DatasetA_glimpse/garosen00267]: \n",
            "Target molecule locations file [/content/drive/MyDrive/DatasetA_glimpse/green_DNA_locations.dat]: /content/drive/MyDrive/tutorial/DatasetA_glimpse/green_DNA_locations.dat\n",
            "Add off-target AOI locations? [Y/n]: y\n",
            "Off-target control locations file [/content/drive/MyDrive/DatasetA_glimpse/green_nonDNA_locations.dat]: /content/drive/MyDrive/tutorial/DatasetA_glimpse/green_nonDNA_locations.dat\n",
            "Driftlist file [/content/drive/MyDrive/DatasetA_glimpse/green_driftlist.dat]: /content/drive/MyDrive/tutorial/DatasetA_glimpse/green_driftlist.dat\n",
            "Extracting AOIs ...\n",
            "100% 790/790 [00:10<00:00, 73.55it/s]\n",
            "tcmalloc: large alloc 1112186880 bytes == 0x5653e7b6e000 @  0x7f02e1dff887 0x7f021611f150 0x7f02161315ba 0x7f0216135c26 0x7f0216135de2 0x7f02167a444a 0x7f02165fd83f 0x7f0217e67101 0x7f0217e67680 0x7f0216666dda 0x7f02bf61ed69 0x56535eb61544 0x56535eb61240 0x56535ebd5627 0x56535ebcf9ee 0x56535eb62bda 0x56535ebd0915 0x56535ebcf9ee 0x56535eaa1e2b 0x56535ebd1fe4 0x56535ebcfced 0x56535eaa1e2b 0x56535ebd1fe4 0x56535ebcfced 0x56535eb62bda 0x56535ebd1737 0x56535ebcfced 0x56535eaa1e2b 0x56535ebd1fe4 0x56535ebcf9ee 0x56535eaa1e2b\n",
            "INFO - Dataset: N=331 on-target AOIs, Nc=526 off-target AOIs, F=790 frames, C=1 channels, Px=14 pixels, Py=14 pixels\n",
            "INFO - Data is saved in /content/drive/My Drive/tutorial/data.tpqr\n",
            "Extracting AOIs: Done\n"
          ]
        }
      ]
    },
    {
      "cell_type": "markdown",
      "metadata": {
        "id": "FvGPMMxL-Xf3"
      },
      "source": [
        "Above we specified\n",
        "\n",
        "* A dataset name (`Rpb1SNAP549`)\n",
        "* Size of AOI images (we recommend to use `14` pixels)\n",
        "* First and last frames included in the analysis (`1` and `790`). If starting and ending frames are not specified then the full range of frames from the driftlist file will be analyzed\n",
        "* The number of color channels (`1`)\n",
        "* Locations of input files for each color channel (only one color channel in this example)."
      ],
      "id": "FvGPMMxL-Xf3"
    },
    {
      "cell_type": "markdown",
      "metadata": {
        "id": "hKQspFUMtjui"
      },
      "source": [
        "> **About indexing**. In Python indexing starts with 0. We stick to this convention and index AOIs, frames, color channels, and pixels starting with 0. Note, however, that in the `tapqir glimpse` command above for frame numbers we used `1` and `790` which are according to Matlab indexing convention (in Matlab indexing starts with 1) since driftlist file was produced using the Matlab script."
      ],
      "id": "hKQspFUMtjui"
    },
    {
      "cell_type": "markdown",
      "metadata": {
        "id": "bgWLD68qsw4f"
      },
      "source": [
        "Great! The program has outputted `data.tpqr` file containing extracted AOI images (N=331 target and Nc=526 off-target control locations), the camera offset empirical distirbution sample values and their weights:"
      ],
      "id": "bgWLD68qsw4f"
    },
    {
      "cell_type": "code",
      "metadata": {
        "id": "d709b3f6",
        "colab": {
          "base_uri": "https://localhost:8080/"
        },
        "outputId": "47f6d557-15ff-4a6b-a548-d3325357c4cf"
      },
      "source": [
        "# list current folder content\n",
        "%ls"
      ],
      "id": "d709b3f6",
      "execution_count": null,
      "outputs": [
        {
          "output_type": "stream",
          "name": "stdout",
          "text": [
            "total 1.1G\n",
            "-rw------- 1 root root 1.1G Sep 20 22:06 data.tpqr\n",
            "drwx------ 3 root root 4.0K Aug 20 19:39 \u001b[0m\u001b[01;34mRpb1SNAP549_glimpse\u001b[0m/\n",
            "drwx------ 2 root root 4.0K Sep 20 22:06 \u001b[01;34m.tapqir\u001b[0m/\n"
          ]
        }
      ]
    },
    {
      "cell_type": "markdown",
      "metadata": {
        "id": "g30vkbgjrqHR"
      },
      "source": [
        "![ontarget AOIs](/content/drive/MyDrive/tutorial/ontarget-channel0.png)"
      ],
      "id": "g30vkbgjrqHR"
    },
    {
      "cell_type": "markdown",
      "metadata": {
        "id": "1xda8oFAph8m"
      },
      "source": [
        "Additionally, the program has saved\n",
        "\n",
        "* Image files (`ontarget-channel0.png` and `offtarget-channel0.png`) displaying locations of on-target and off-target AOIs in the first frame (make sure that AOIs are inside the FOV):\n",
        "\n",
        "  ![ontarget AOIs](/content/drive/MyDrive/tutorial/ontarget-channel0.png)\n",
        "\n",
        "* Location from the dark corner of the image (`offset-channel0.png`) used to create the offset empirical distribution (make sure that offset region is outside the FOV):\n",
        "\n",
        "* The intensity distribution histograms for offset and data from different channels (`offset-distribution.png`):\n",
        "\n",
        "* Offset median change (offset distribution shouldn’t drift over time) (`offset-medians.png`):"
      ],
      "id": "1xda8oFAph8m"
    },
    {
      "cell_type": "markdown",
      "metadata": {
        "id": "2afb0202"
      },
      "source": [
        "## Fit the data\n",
        "\n",
        "Now the data is ready for analysis. We will fit the data to the time-independent `cosmos` model ([Ordabayev et al., 2021](https://doi.org/10.1101/2021.09.30.462536)):"
      ],
      "id": "2afb0202"
    },
    {
      "cell_type": "code",
      "metadata": {
        "id": "8763a5b5",
        "colab": {
          "base_uri": "https://localhost:8080/"
        },
        "outputId": "745beda7-900d-4619-b6d6-3b357bc2fb74"
      },
      "source": [
        "!tapqir fit"
      ],
      "id": "8763a5b5",
      "execution_count": null,
      "outputs": [
        {
          "output_type": "stream",
          "name": "stdout",
          "text": [
            "Tapqir model (cosmos) [cosmos]: \n",
            "Channel numbers (space separated if multiple) [0]: \n",
            "Run computations on GPU? [Y/n]: \n",
            "AOI batch size [10]: \n",
            "Frame batch size [512]: \n",
            "Learning rate [0.005]: \n",
            "Number of iterations [0]: \n",
            "Save parameters in matlab format? [y/N]: \n",
            "Overwrite defaults values? [Y/n]: \n",
            "INFO - Iteration #39200. Loaded a model checkpoint from /content/drive/MyDrive/tutorial/.tapqir\n",
            "Fitting the data ...\n",
            "  0% 0/100000 [00:00<?, ?it/s][pyKeOps] Initializing build folder for dtype=float64 and lang=torch in /root/.cache/pykeops-1.5-cpython-37 ... done.\n",
            "[pyKeOps] Compiling libKeOpstorchfc3462e783 in /root/.cache/pykeops-1.5-cpython-37:\n",
            "       formula: Max_SumShiftExp_Reduction(wj+Log(Step(xi-gj-IntCst(1)))+(ai-IntCst(1))*Log(IfElse(xi-gj-IntCst(1),xi-gj,xi))-bi*(xi-gj),0)\n",
            "       aliases: wj = Vj(0,1); gj = Vj(1,1); ai = Vi(2,1); bi = Vi(3,1); xi = Vi(4,1); \n",
            "       dtype  : float64\n",
            "... \n",
            "nvcc warning : The 'compute_35', 'compute_37', 'compute_50', 'sm_35', 'sm_37' and 'sm_50' architectures are deprecated, and may be removed in a future release (Use -Wno-deprecated-gpu-targets to suppress warning).\n",
            "[pyKeOps] Compiling pybind11 template libKeOps_template_660bc304e8 in /root/.cache/pykeops-1.5-cpython-37 ... \u001b[33mCMake Warning (dev) at /usr/local/lib/python3.7/dist-packages/cmake/data/share/cmake-3.22/Modules/CMakeDependentOption.cmake:84 (message):\n",
            "  Policy CMP0127 is not set: cmake_dependent_option() supports full Condition\n",
            "  Syntax.  Run \"cmake --help-policy CMP0127\" for policy details.  Use the\n",
            "  cmake_policy command to set the policy and suppress this warning.\n",
            "Call Stack (most recent call first):\n",
            "  /usr/local/lib/python3.7/dist-packages/pykeops/pybind11/CMakeLists.txt:91 (cmake_dependent_option)\n",
            "This warning is for project developers.  Use -Wno-dev to suppress it.\n",
            "\u001b[0m\n",
            "done.\n",
            "Done.\n",
            "[pyKeOps] Compiling libKeOpstorchafd30232e9 in /root/.cache/pykeops-1.5-cpython-37:\n",
            "       formula: Grad_WithSavedForward(Max_SumShiftExp_Reduction(wj+Log(Step(xi-gj-IntCst(1)))+(ai-IntCst(1))*Log(IfElse(xi-gj-IntCst(1),xi-gj,xi))-bi*(xi-gj),0), Var(2,1,0), Var(5,2,0), Var(6,2,0))\n",
            "       aliases: wj = Vj(0,1); gj = Vj(1,1); ai = Vi(2,1); bi = Vi(3,1); xi = Vi(4,1); Var(5,2,0); Var(6,2,0); \n",
            "       dtype  : float64\n",
            "... \n",
            "nvcc warning : The 'compute_35', 'compute_37', 'compute_50', 'sm_35', 'sm_37' and 'sm_50' architectures are deprecated, and may be removed in a future release (Use -Wno-deprecated-gpu-targets to suppress warning).\n",
            "Done.\n",
            "[pyKeOps] Compiling libKeOpstorchb078dba18d in /root/.cache/pykeops-1.5-cpython-37:\n",
            "       formula: Grad_WithSavedForward(Max_SumShiftExp_Reduction(wj+Log(Step(xi-gj-IntCst(1)))+(ai-IntCst(1))*Log(IfElse(xi-gj-IntCst(1),xi-gj,xi))-bi*(xi-gj),0), Var(3,1,0), Var(5,2,0), Var(6,2,0))\n",
            "       aliases: wj = Vj(0,1); gj = Vj(1,1); ai = Vi(2,1); bi = Vi(3,1); xi = Vi(4,1); Var(5,2,0); Var(6,2,0); \n",
            "       dtype  : float64\n",
            "... \n",
            "nvcc warning : The 'compute_35', 'compute_37', 'compute_50', 'sm_35', 'sm_37' and 'sm_50' architectures are deprecated, and may be removed in a future release (Use -Wno-deprecated-gpu-targets to suppress warning).\n",
            "Done.\n",
            " 26% 25907/100000 [2:02:24<5:33:03,  3.71it/s]"
          ]
        }
      ]
    },
    {
      "cell_type": "markdown",
      "metadata": {
        "id": "ivgI_w_d_xCB"
      },
      "source": [
        "Options that we selected:\n",
        "\n",
        "* Model - the default single-color time-independent model (`cosmos`).\n",
        "* Color channel number - first chanel (`0`) (there is only one color channel in this data)\n",
        "* Run computations on GPU: yes (`y`).\n",
        "* AOI batch size - use default (`10`).\n",
        "* Frame batch size - use default (`512`).\n",
        "* Learning rate - use default (`0.005`).\n",
        "* Number of iterations - use default (`0`)"
      ],
      "id": "ivgI_w_d_xCB"
    },
    {
      "cell_type": "markdown",
      "metadata": {
        "id": "cS3HizaduHaG"
      },
      "source": [
        "> **About batch size**. In theory, batch size should impact _training time_ and _memory consumption_, but not the _performance_. It can be optimized for a particular GPU hardware by trying different batch size values and comparing training time/memory usage (`nvidia-smi` shell command shows Memory-Usage and GPU-Util values). In particular, if there is a memory overflow you can decrease either frame batch size (e.g., to `128` or `256`) or AOI batch size (e.g., to `5`).\n",
        "\n",
        "> **About number of iterations**. Fitting the data requires many iterations (about 50,000-100,000) until parameters converge. Setting the number of iterations to 0 will run the program till Tapqir’s custom convergence criteria is satisfied. We recommend to set it to 0 (default) and then run for additional number of iterations if required. Convergence of global parameters can be visually checked using tensorboard."
      ],
      "id": "cS3HizaduHaG"
    },
    {
      "cell_type": "markdown",
      "metadata": {
        "id": "65ERuUNR5AMp"
      },
      "source": [
        "The program will save a checkpoint every 200 iterations (checkpoint is saved at `.tapqir/cosmos-channel0-model.tpqr`). Starting the program again will resume from the last saved checkpoint. The program can be stopped using `Ctrl-C`. At every checkpoint the values of global variational parameters (`-ELBO`, `gain_loc`, `proximity_loc`, `pi_mean`, `lamda_loc`) are also recorded for visualization by tensorboard. Plateaued plots signify convergence.\n",
        "\n",
        "After fitting is finished the program computes 95% credible intervals of model parameters and saves them in `cosmos-channel0-params.tqpr` and `cosmos-channel0-summary.csv` files."
      ],
      "id": "65ERuUNR5AMp"
    },
    {
      "cell_type": "markdown",
      "metadata": {
        "id": "c22dabbb"
      },
      "source": [
        "### Tensorboard\n",
        "\n",
        "To monitor fitting progress (variational parameters vs number of iterations) use tensorboard. [More](https://www.tensorflow.org/tensorboard/tensorboard_in_notebooks) on using tensorboard in notebooks. Run the program until `-ELBO`, `gain_loc`, `lamda_loc`, `pi_mean`, `proximity_loc` values converge."
      ],
      "id": "c22dabbb"
    },
    {
      "cell_type": "code",
      "metadata": {
        "id": "f2ae2b6b"
      },
      "source": [
        "%load_ext tensorboard"
      ],
      "id": "f2ae2b6b",
      "execution_count": null,
      "outputs": []
    },
    {
      "cell_type": "code",
      "metadata": {
        "id": "417245d3"
      },
      "source": [
        "%tensorboard --logdir ."
      ],
      "id": "417245d3",
      "execution_count": null,
      "outputs": []
    },
    {
      "cell_type": "markdown",
      "metadata": {
        "id": "o2Ou7aF2-Lou"
      },
      "source": [
        "For illustration purposes, below is a saved image of tensorboard output after all the runs above have completed. We can see that `-ELBO` is decreasing as expected. `gain_loc` went up and then down and then plateaued (converged). Notice that `gain_loc` is changing only during the run of the marginal model (first 54,100+10,000 iterations) and then is fixed during the run of the full model (last 15,000 iterations)."
      ],
      "id": "o2Ou7aF2-Lou"
    },
    {
      "cell_type": "code",
      "metadata": {
        "colab": {
          "base_uri": "https://localhost:8080/",
          "height": 759
        },
        "id": "4fTT23xb9lgB",
        "outputId": "9172c00d-b248-485d-ea34-5f8900b5f00d"
      },
      "source": [
        "from IPython.display import Image\n",
        "\n",
        "Image(\"http://centaur.biochem.brandeis.edu/tensorboard.png\", width=1200)"
      ],
      "id": "4fTT23xb9lgB",
      "execution_count": null,
      "outputs": [
        {
          "output_type": "execute_result",
          "data": {
            "image/png": "[encoded data removed]",
            "text/plain": [
              "<IPython.core.display.Image object>"
            ]
          },
          "metadata": {
            "image/png": {
              "width": 1200
            }
          },
          "execution_count": 8
        }
      ]
    },
    {
      "cell_type": "markdown",
      "metadata": {
        "id": "ff22ddad"
      },
      "source": [
        "### Posterior distributions\n",
        "\n",
        "Model variational parameters are saved in `.tapqir` folder. To obtain 95% credible intervals use `tapqir stats` command which will save the output in `cosmos-params.tpqr` file (PyTorch format). Use `--matlab` flag to save the output in Matlab format as well (`cosmos-params.mat` file). Additionally, values of global model parameters are also saved in `cosmos-summary.csv` file which is easier to access (with Excel or any text editor)."
      ],
      "id": "ff22ddad"
    },
    {
      "cell_type": "code",
      "metadata": {
        "id": "h31o7m38kGKM"
      },
      "source": [
        ""
      ],
      "id": "h31o7m38kGKM",
      "execution_count": null,
      "outputs": []
    }
  ]
}