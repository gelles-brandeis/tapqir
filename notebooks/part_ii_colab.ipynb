{
  "nbformat": 4,
  "nbformat_minor": 5,
  "metadata": {
    "kernelspec": {
      "display_name": "Python 3 (ipykernel)",
      "language": "python",
      "name": "python3"
    },
    "language_info": {
      "codemirror_mode": {
        "name": "ipython",
        "version": 3
      },
      "file_extension": ".py",
      "mimetype": "text/x-python",
      "name": "python",
      "nbconvert_exporter": "python",
      "pygments_lexer": "ipython3",
      "version": "3.8.10"
    },
    "nbsphinx": {
      "execute": "never"
    },
    "toc": {
      "base_numbering": 1,
      "nav_menu": {},
      "number_sections": true,
      "sideBar": true,
      "skip_h1_title": false,
      "title_cell": "Table of Contents",
      "title_sidebar": "Contents",
      "toc_cell": false,
      "toc_position": {},
      "toc_section_display": true,
      "toc_window_display": false
    },
    "colab": {
      "name": "tutorial.ipynb",
      "provenance": [],
      "machine_shape": "hm"
    },
    "accelerator": "GPU"
  },
  "cells": [
    {
      "cell_type": "markdown",
      "metadata": {
        "id": "bd03d75a"
      },
      "source": [
        "# Part II: Tapqir analysis (Colab)\n",
        "\n",
        "In this tutorial we will use a linux computer to analyze the Data set A in [Ordabayev et al., 2021](https://doi.org/10.1101/2021.09.30.462536). The data are taken from [Rosen et al., 2020](https://dx.doi.org/10.1073/pnas.2011224117) and have already been preprocesssed using [imscroll](https://github.com/gelles-brandeis/CoSMoS_Analysis/wiki) ([Friedman et al., 2015](https://dx.doi.org/10.1016/j.ymeth.2015.05.026)).\n",
        "\n",
        "**Note**: This tutorial is a Jupyter notebook. To work with the live version of the notebook run it in Google Colab using the link above.\n",
        "\n",
        "## Set up the environment\n",
        "\n",
        "* Change runtime to GPU (in the menu select `Runtime -> Change runtime type -> GPU`)\n",
        "* Connect Google Drive to be able to save the analysis output (to view Files & Folders click on a Folder icon on the left):"
      ],
      "id": "bd03d75a"
    },
    {
      "cell_type": "code",
      "metadata": {
        "colab": {
          "base_uri": "https://localhost:8080/"
        },
        "id": "DhA21mMtnYz3",
        "outputId": "f673e251-4397-4aeb-ed79-a3e0d812009e"
      },
      "source": [
        "# Run this cell to connect to Google Drive\n",
        "from google.colab import drive\n",
        "\n",
        "drive.mount(\"/content/drive\")\n",
        "# change directory to MyDrive\n",
        "%cd drive/MyDrive/"
      ],
      "id": "DhA21mMtnYz3",
      "execution_count": 1,
      "outputs": [
        {
          "output_type": "stream",
          "name": "stdout",
          "text": [
            "Mounted at /content/drive\n",
            "/content/drive/MyDrive\n"
          ]
        }
      ]
    },
    {
      "cell_type": "markdown",
      "metadata": {
        "id": "DkWlOQBBnrAB"
      },
      "source": [
        "* Run the cell below to install `tapqir` (takes about a minute):"
      ],
      "id": "DkWlOQBBnrAB"
    },
    {
      "cell_type": "code",
      "metadata": {
        "id": "dc0a79f0"
      },
      "source": [
        "!pip install --quiet git+https://github.com/gelles-brandeis/tapqir.git > install.log"
      ],
      "id": "dc0a79f0",
      "execution_count": 2,
      "outputs": []
    },
    {
      "cell_type": "markdown",
      "metadata": {
        "id": "4cf68ab1"
      },
      "source": [
        "To start the analysis create an empty folder (here named `tutorial`) which will be the working directory:"
      ],
      "id": "4cf68ab1"
    },
    {
      "cell_type": "code",
      "metadata": {
        "id": "f4f1cbb8",
        "colab": {
          "base_uri": "https://localhost:8080/"
        },
        "outputId": "b3b5c9f1-b349-46d7-de36-616f69f60a75"
      },
      "source": [
        "# create a new directory\n",
        "%mkdir tutorial\n",
        "%cd tutorial"
      ],
      "id": "f4f1cbb8",
      "execution_count": 3,
      "outputs": [
        {
          "output_type": "stream",
          "name": "stdout",
          "text": [
            "/content/drive/MyDrive/tutorial\n"
          ]
        }
      ]
    },
    {
      "cell_type": "markdown",
      "metadata": {
        "id": "6ab78be2"
      },
      "source": [
        "## Download input data\n",
        "\n",
        "These data were acquired with [Glimpse](https://github.com/gelles-brandeis/Glimpse) and pre-processed with the [imscroll](https://github.com/gelles-brandeis/CoSMoS_Analysis/wiki) program ([Friedman et al., 2015](https://dx.doi.org/10.1016/j.ymeth.2015.05.026)). Let’s download data files using [wget](https://www.gnu.org/software/wget/) and then unzip files:"
      ],
      "id": "6ab78be2"
    },
    {
      "cell_type": "code",
      "metadata": {
        "id": "r8_jAWvimkFL"
      },
      "source": [
        "%%capture\n",
        "# Download and unzip raw input files\n",
        "!wget https://zenodo.org/record/5659927/files/DatasetA_glimpse.zip\n",
        "!unzip DatasetA_glimpse.zip && rm DatasetA_glimpse.zip"
      ],
      "id": "r8_jAWvimkFL",
      "execution_count": null,
      "outputs": []
    },
    {
      "cell_type": "markdown",
      "metadata": {
        "id": "a632239b"
      },
      "source": [
        "The raw input data are:\n",
        "\n",
        "* `garosen00267` - folder containing image data in glimpse format and header files\n",
        "* `green_DNA_locations.dat` - aoiinfo file designating target molecule (DNA) locations in the binder channel\n",
        "* `green_nonDNA_locations.dat` - aoiinfo file designating off-target (nonDNA) locations in the binder channel\n",
        "* `green_driftlist.dat` - driftlist file recording the stage movement that took place during the experiment"
      ],
      "id": "a632239b"
    },
    {
      "cell_type": "markdown",
      "source": [
        "## Start the program\n",
        "To start the program run:"
      ],
      "metadata": {
        "id": "dcQitt5sldUb"
      },
      "id": "dcQitt5sldUb"
    },
    {
      "cell_type": "code",
      "source": [
        "from tapqir import gui\n",
        "gui.notebook()"
      ],
      "metadata": {
        "id": "PlckMGhHlqjS"
      },
      "id": "PlckMGhHlqjS",
      "execution_count": null,
      "outputs": []
    },
    {
      "cell_type": "markdown",
      "source": [
        "which will display the Tapqir GUI:\n",
        "\n",
        "<img src=\"https://github.com/gelles-brandeis/tapqir/blob/latest/docs/source/tutorials/start-page.png?raw=true\" width=\"800\" />"
      ],
      "metadata": {
        "id": "MzuiACM9lrWI"
      },
      "id": "MzuiACM9lrWI"
    },
    {
      "cell_type": "markdown",
      "source": [
        "## Select working directory\n",
        "\n",
        "Click the `Select` button at the top to set the working directory to `/tmp/tutorial`:\n",
        "\n",
        "<img src=\"https://github.com/gelles-brandeis/tapqir/blob/latest/docs/source/tutorials/working-directory.png?raw=true\" width=\"800\" />\n",
        "\n",
        "Setting working directory creates a `.tapqir` sub-folder that will store internal files such as `config.yaml` configuration file, `loginfo` logging file, and model checkpoints."
      ],
      "metadata": {
        "id": "sTNr2P4tmKs0"
      },
      "id": "sTNr2P4tmKs0"
    },
    {
      "cell_type": "markdown",
      "metadata": {
        "id": "Ecms7tBm9pFz"
      },
      "source": [
        "## Extract AOIs\n",
        "\n",
        "To extract AOIs specify the following options in the `Extract AOIs` tab:\n",
        "\n",
        "* A dataset name: `Rpb1SNAP549` (an arbitrary name)\n",
        "* Size of AOI images: we recommend to use `14` pixels\n",
        "* Starting and ending frame numbers to be included in the analysis (`1` and `790`). If starting and ending frames are not specified then the full range of frames from the driftlist file will be analyzed.\n",
        "* The number of color channels `1` (this data set has only one color channel available)\n",
        "* Use off-target AOI locations?: `True` (we recommended including off-target AOI locations in the analysis).\n",
        "\n",
        "And specify the locations of input files for each color channel (only one color channel in this example):\n",
        "\n",
        "* Channel name: `SNAP549` (an arbitrary name)\n",
        "* Header/glimpse folder: `/tmp/tutorial/DatasetA_glimpse/garosen00267`\n",
        "* Target molecule locations file: `/tmp/tutorial/DatasetA_glimpse/green_DNA_locations.dat`\n",
        "* Off-target control locations file: `/tmp/tutorial/DatasetA_glimpse/green_nonDNA_locations.dat`\n",
        "* Driftlist file: `/tmp/tutorial/DatasetA_glimpse/green_driftlist.dat`\n",
        "\n",
        "> **About indexing**. In Python indexing starts with 0. We stick to this convention and index AOIs, frames, color channels, and pixels starting with 0. Note, however, that for starting and ending frame numbers we used `1` and `790` which are according to Matlab indexing convention (in Matlab indexing starts with 1) since driftlist file was produced using a Matlab script.\n",
        "\n",
        "Next, click Extract AOIs button:\n",
        "\n",
        "<img src=\"https://github.com/gelles-brandeis/tapqir/blob/latest/docs/source/tutorials/extract-aois.png?raw=true\" width=\"800\" />"
      ],
      "id": "Ecms7tBm9pFz"
    },
    {
      "cell_type": "markdown",
      "metadata": {
        "id": "bgWLD68qsw4f"
      },
      "source": [
        "Great! The program has outputted a `data.tpqr` file containing extracted AOI images (N=331 target and Nc=526 off-target control locations):"
      ],
      "id": "bgWLD68qsw4f"
    },
    {
      "cell_type": "code",
      "metadata": {
        "id": "d709b3f6",
        "colab": {
          "base_uri": "https://localhost:8080/"
        },
        "outputId": "47f6d557-15ff-4a6b-a548-d3325357c4cf"
      },
      "source": [
        "# list current folder content\n",
        "%ls"
      ],
      "id": "d709b3f6",
      "execution_count": null,
      "outputs": [
        {
          "output_type": "stream",
          "name": "stdout",
          "text": [
            "total 1.1G\n",
            "-rw------- 1 root root 1.1G Sep 20 22:06 data.tpqr\n",
            "drwx------ 3 root root 4.0K Aug 20 19:39 \u001b[0m\u001b[01;34mRpb1SNAP549_glimpse\u001b[0m/\n",
            "drwx------ 2 root root 4.0K Sep 20 22:06 \u001b[01;34m.tapqir\u001b[0m/\n"
          ]
        }
      ]
    },
    {
      "cell_type": "markdown",
      "metadata": {
        "id": "1xda8oFAph8m"
      },
      "source": [
        "Additionally, the program has saved\n",
        "\n",
        "* Image files (`ontarget-channel0.png` and `offtarget-channel0.png`) displaying locations of on-target and off-target AOIs in the first frame. You should inspect these images to make sure that AOIs are inside the field of view:\n",
        "\n",
        "  <img src=\"https://github.com/gelles-brandeis/tapqir/blob/latest/docs/source/tutorials/ontarget-channel0.png?raw=true\" width=\"700\" />\n",
        "  <img src=\"https://github.com/gelles-brandeis/tapqir/blob/latest/docs/source/tutorials/offtarget-channel0.png?raw=true\" width=\"700\" />\n",
        "\n",
        "* You should also look at `offset-channel0.png` to check that offset data is taken from a region outside the field of view:\n",
        "\n",
        "  <img src=\"https://github.com/gelles-brandeis/tapqir/blob/latest/docs/source/tutorials/offset-channel0.png?raw=true\" width=\"700\" />\n",
        "\n",
        "* The other two files show the intensity histograms (`offset-distribution.png`) and the offset median time record (`offset-medians.png`) (offset distribution shouldn’t drift over time):\n",
        "\n",
        "  <img src=\"https://github.com/gelles-brandeis/tapqir/blob/latest/docs/source/tutorials/offset-distribution.png?raw=true\" width=\"300\" />\n",
        "  <img src=\"https://github.com/gelles-brandeis/tapqir/blob/latest/docs/source/tutorials/offset-medians.png?raw=true\" width=\"500\" />"
      ],
      "id": "1xda8oFAph8m"
    },
    {
      "cell_type": "markdown",
      "metadata": {
        "id": "2afb0202"
      },
      "source": [
        "## Fit the data\n",
        "\n",
        "Now the data is ready for fitting. Options that we will select:\n",
        "\n",
        "* Model - the default single-color time-independent `cosmos` model ([Ordabayev et al., 2021](https://doi.org/10.1101/2021.09.30.462536)).\n",
        "* Color channel number - first chanel (`0`) (there is only one color channel in this data)\n",
        "* Run computations on GPU: yes (`True`).\n",
        "* AOI batch size - use default (`10`).\n",
        "* Frame batch size - use default (`512`).\n",
        "* Learning rate - use default (`0.005`).\n",
        "* Number of iterations - use default (`0`)"
      ],
      "id": "2afb0202"
    },
    {
      "cell_type": "markdown",
      "metadata": {
        "id": "cS3HizaduHaG"
      },
      "source": [
        "> **About batch size**. Batch sizes should impact *training time* and *memory consumption*. Ideally, it should not affect the final result. Batch sizes can be optimized for a particular GPU hardware by trying different batch size values and comparing training time/memory usage (`nvidia-smi` shell command shows Memory-Usage and GPU-Util values).\n",
        "\n",
        "Next, press `Fit the data` button:\n",
        "\n",
        "<img src=\"https://github.com/gelles-brandeis/tapqir/blob/latest/docs/source/tutorials/fit-data2.png?raw=true\" width=\"800\" />"
      ],
      "id": "cS3HizaduHaG"
    },
    {
      "cell_type": "markdown",
      "metadata": {
        "id": "65ERuUNR5AMp"
      },
      "source": [
        "The program will automatically save a checkpoint every 200 iterations (checkpoint is saved at `.tapqir/cosmos-channel0-model.tpqr`). The program can be stopped at any time by clicking in the terminal window and pressing `Ctrl-C`. To restart the program again re-run `tapqir-gui` command and the program will resume from the last saved checkpoint.\n",
        "\n",
        "After fitting is finished, the program computes 95% credible intervals (CI) of model parameters and saves the parameters and CIs in `cosmos-channel0-params.tqpr`, `cosmos-channel0-params.mat` (if Matlab format is selected), and `cosmos-channel0-summary.csv` files.\n",
        "\n",
        "If you get an error message saying that there is a memory overflow you can decrease either frame batch size (e.g., to `128` or `256`) or AOI batch size (e.g., to `5`)."
      ],
      "id": "65ERuUNR5AMp"
    },
    {
      "cell_type": "markdown",
      "metadata": {
        "id": "c22dabbb"
      },
      "source": [
        "### Tensorboard\n",
        "\n",
        "At every checkpoint the values of global variational parameters (`-ELBO`, `gain_loc`, `proximity_loc`, `pi_mean`, `lamda_loc`) are recorded. Fitting progress can be inspected while fitting is taking place or afterwards with the [tensorboard gui](https://www.tensorflow.org/tensorboard) displayed in the Tensorboard tab, which shows the parameters values as a function of iteration number:\n",
        "\n",
        "<img src=\"https://github.com/gelles-brandeis/tapqir/blob/latest/docs/source/tutorials/tensorboard-tab.png?raw=true\" width=\"800\" />\n",
        "\n",
        "Set smoothing to 0 (in the left panel) and use refresh button at the top right to refresh plots.\n",
        "\n",
        "Plateaued plots signify convergence.\n",
        "\n",
        "> **About number of iterations**. Fitting the data requires many iterations (about 50,000-100,000) until parameters converge. Setting the number of iterations to 0 will run the program till Tapqir’s custom convergence criteria is satisfied. We recommend to set it to 0 (default) and then run for additional number of iterations if required."
      ],
      "id": "c22dabbb"
    },
    {
      "cell_type": "code",
      "metadata": {
        "id": "f2ae2b6b"
      },
      "source": [
        "%load_ext tensorboard"
      ],
      "id": "f2ae2b6b",
      "execution_count": null,
      "outputs": []
    },
    {
      "cell_type": "code",
      "metadata": {
        "id": "417245d3"
      },
      "source": [
        "%tensorboard --logdir ."
      ],
      "id": "417245d3",
      "execution_count": null,
      "outputs": []
    }
  ]
}