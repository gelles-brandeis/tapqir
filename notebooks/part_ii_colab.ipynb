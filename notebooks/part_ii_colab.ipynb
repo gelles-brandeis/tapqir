{
  "nbformat": 4,
  "nbformat_minor": 5,
  "metadata": {
    "kernelspec": {
      "display_name": "Python 3 (ipykernel)",
      "language": "python",
      "name": "python3"
    },
    "language_info": {
      "codemirror_mode": {
        "name": "ipython",
        "version": 3
      },
      "file_extension": ".py",
      "mimetype": "text/x-python",
      "name": "python",
      "nbconvert_exporter": "python",
      "pygments_lexer": "ipython3",
      "version": "3.8.10"
    },
    "nbsphinx": {
      "execute": "never"
    },
    "toc": {
      "base_numbering": 1,
      "nav_menu": {},
      "number_sections": true,
      "sideBar": true,
      "skip_h1_title": false,
      "title_cell": "Table of Contents",
      "title_sidebar": "Contents",
      "toc_cell": false,
      "toc_position": {},
      "toc_section_display": true,
      "toc_window_display": false
    },
    "colab": {
      "name": "tutorial.ipynb",
      "provenance": [],
      "machine_shape": "hm"
    },
    "accelerator": "GPU"
  },
  "cells": [
    {
      "cell_type": "markdown",
      "metadata": {
        "id": "bd03d75a"
      },
      "source": [
        "# Part II: Tapqir analysis (Colab)\n",
        "\n",
        "This tutorial is a Jupyter notebook that illustrates steps involved in Tapqir analysis. To work with the live version of the notebook run it in Google Colab using the link above.\n",
        "\n",
        "**Note**: Jupyter notebook is a Python environment. It can also run shell commands with the ! sign prepended to the command (or sometimes % sign for jupyter [magic commands](https://ipython.readthedocs.io/en/stable/interactive/magics.html)).\n",
        "\n",
        "## Set up the environment\n",
        "\n",
        "* Change runtime to GPU (in the menu select `Runtime -> Change runtime type -> GPU`)\n",
        "* Connect Google Drive to be able to save the analysis output (to view Files & Folders click on a Folder icon on the left):"
      ],
      "id": "bd03d75a"
    },
    {
      "cell_type": "code",
      "metadata": {
        "colab": {
          "base_uri": "https://localhost:8080/"
        },
        "id": "DhA21mMtnYz3",
        "outputId": "a97186d7-4334-4063-f154-dddf0fcf442f"
      },
      "source": [
        "# Run this cell to connect to Google Drive\n",
        "from google.colab import drive\n",
        "\n",
        "drive.mount(\"/content/drive\")\n",
        "# change directory to MyDrive\n",
        "%cd drive/MyDrive/"
      ],
      "id": "DhA21mMtnYz3",
      "execution_count": null,
      "outputs": [
        {
          "output_type": "stream",
          "name": "stdout",
          "text": [
            "Mounted at /content/drive\n",
            "/content/drive/MyDrive\n"
          ]
        }
      ]
    },
    {
      "cell_type": "markdown",
      "metadata": {
        "id": "DkWlOQBBnrAB"
      },
      "source": [
        "* Run the cell below to install `tapqir` (takes about a minute):"
      ],
      "id": "DkWlOQBBnrAB"
    },
    {
      "cell_type": "code",
      "metadata": {
        "id": "dc0a79f0"
      },
      "source": [
        "!pip install git+https://github.com/gelles-brandeis/tapqir.git > install.log"
      ],
      "id": "dc0a79f0",
      "execution_count": null,
      "outputs": []
    },
    {
      "cell_type": "markdown",
      "metadata": {
        "id": "4cf68ab1"
      },
      "source": [
        "## Initialize folder\n",
        "\n",
        "To start the analysis create an empty folder (here named `tutorial`), change directory to the newly created folder, and initialize it by running `tapqir init` inside the new folder:"
      ],
      "id": "4cf68ab1"
    },
    {
      "cell_type": "code",
      "metadata": {
        "id": "f4f1cbb8",
        "colab": {
          "base_uri": "https://localhost:8080/"
        },
        "outputId": "d9109718-16da-45ba-9f49-5d54ed55dbb8"
      },
      "source": [
        "# create a new directory\n",
        "%mkdir tutorial\n",
        "# change direcotry\n",
        "%cd tutorial\n",
        "# initialize tapqir\n",
        "!tapqir init"
      ],
      "id": "f4f1cbb8",
      "execution_count": null,
      "outputs": [
        {
          "output_type": "stream",
          "name": "stdout",
          "text": [
            "/content/drive/MyDrive/tutorial\n",
            "Initialized Tapqir in the working directory.\n",
            "\u001b[33m---------------------------------------------------------------\u001b[39m\n",
            "- Checkout the documentation: <\u001b[36mhttps://tapqir.readthedocs.io/\u001b[39m>\n",
            "- Get help on our forum: <\u001b[36mhttps://github.com/gelles-brandeis/tapqir/discussions\u001b[39m>\n"
          ]
        }
      ]
    },
    {
      "cell_type": "markdown",
      "metadata": {
        "id": "dqrzD3NKtiiV"
      },
      "source": [
        "`tapqir init` command has created a `.tapqir` sub-folder that will store internal files such as `config.yml` configuration file, `loginfo` logging file, and model checkpoints."
      ],
      "id": "dqrzD3NKtiiV"
    },
    {
      "cell_type": "code",
      "metadata": {
        "colab": {
          "base_uri": "https://localhost:8080/"
        },
        "id": "e2b55QXNt0sm",
        "outputId": "0a82015a-41a6-404c-a513-438b5745541f"
      },
      "source": [
        "# list all files (including hidden files)\n",
        "%ls -alh"
      ],
      "id": "e2b55QXNt0sm",
      "execution_count": null,
      "outputs": [
        {
          "output_type": "stream",
          "name": "stdout",
          "text": [
            "total 4.0K\n",
            "drwx------ 2 root root 4.0K Dec  5 21:40 \u001b[0m\u001b[01;34m.tapqir\u001b[0m/\n"
          ]
        }
      ]
    },
    {
      "cell_type": "markdown",
      "metadata": {
        "id": "6ab78be2"
      },
      "source": [
        "## Download input data\n",
        "\n",
        "This data was acquired with Glimpse and pre-processed with [imscroll](https://github.com/gelles-brandeis/CoSMoS_Analysis/wiki) program ([Friedman et al., 2015](https://dx.doi.org/10.1016/j.ymeth.2015.05.026)). Let’s download data files using [wget](https://www.gnu.org/software/wget/) and then unzip files:"
      ],
      "id": "6ab78be2"
    },
    {
      "cell_type": "markdown",
      "metadata": {
        "id": "a632239b"
      },
      "source": [
        "The raw input data are:\n",
        "\n",
        "* `garosen00267` - folder containing image data in glimpse format and header files\n",
        "* `green_DNA_locations.dat` - aoiinfo file designating target molecule (DNA) locations in the binder channel\n",
        "* `green_nonDNA_locations.dat` - aoiinfo file designating off-target (nonDNA) locations in the binder channel\n",
        "* `green_driftlist.dat` - driftlist file recording the stage movement that took place during the experiment"
      ],
      "id": "a632239b"
    },
    {
      "cell_type": "code",
      "metadata": {
        "id": "r8_jAWvimkFL"
      },
      "source": [
        "%%capture\n",
        "# Download and unzip raw input files\n",
        "!wget https://zenodo.org/record/5659927/files/DatasetA_glimpse.zip\n",
        "!unzip DatasetA_glimpse.zip && rm DatasetA_glimpse.zip"
      ],
      "id": "r8_jAWvimkFL",
      "execution_count": null,
      "outputs": []
    },
    {
      "cell_type": "markdown",
      "metadata": {
        "id": "Ecms7tBm9pFz"
      },
      "source": [
        "## Extract AOIs\n",
        "\n",
        "Extract AOIs from raw images using `tapqir glimpse` command which will run interactively:"
      ],
      "id": "Ecms7tBm9pFz"
    },
    {
      "cell_type": "code",
      "metadata": {
        "id": "AEGNFs5M-MVd",
        "colab": {
          "base_uri": "https://localhost:8080/"
        },
        "outputId": "71cb2d66-6aa3-40a3-8f64-ad1ef0415118"
      },
      "source": [
        "!tapqir glimpse"
      ],
      "id": "AEGNFs5M-MVd",
      "execution_count": null,
      "outputs": [
        {
          "output_type": "stream",
          "name": "stdout",
          "text": [
            "Dataset name [Rpb1SNAP549]: \n",
            "AOI image size - number of pixels along the axis [14]: \n",
            "Number of color channels [1]: \n",
            "Overwrite defaults values? [Y/n]: \n",
            "Specify frame range? [Y/n]: \n",
            "First frame to include in the analysis [1]: \n",
            "Last frame to include in the analysis [790]: \n",
            "\n",
            "INPUTS FOR CHANNEL #0\n",
            "\n",
            "Channel name [SNAP549]: \n",
            "Header/glimpse folder [/content/drive/MyDrive/tutorial/DatasetA_glimpse/garosen00267]: \n",
            "Target molecule locations file [/content/drive/MyDrive/tutorial/DatasetA_glimpse/green_DNA_locations.dat]: \n",
            "Add off-target AOI locations? [Y/n]: \n",
            "Off-target control locations file [/content/drive/MyDrive/tutorial/DatasetA_glimpse/green_nonDNA_locations.dat]: \n",
            "Driftlist file [/content/drive/MyDrive/tutorial/DatasetA_glimpse/green_driftlist.dat]: \n",
            "Extracting AOIs ...\n",
            "100% 790/790 [08:25<00:00,  1.56it/s]\n",
            "tcmalloc: large alloc 1112186880 bytes == 0x55ba2ae4e000 @  0x7fc0f410b887 0x7fbff627d150 0x7fbff628f5ba 0x7fbff6293c26 0x7fbff6293de2 0x7fbff690244a 0x7fbff675b83f 0x7fbff7fc5101 0x7fbff7fc5680 0x7fbff67c4dda 0x7fc09f15fd69 0x55b9a2653544 0x55b9a2653240 0x55b9a26c7627 0x55b9a26c19ee 0x55b9a2654bda 0x55b9a26c2915 0x55b9a26c19ee 0x55b9a2593e2b 0x55b9a26c3fe4 0x55b9a26c1ced 0x55b9a2593e2b 0x55b9a26c3fe4 0x55b9a26c1ced 0x55b9a2654bda 0x55b9a26c3737 0x55b9a26c1ced 0x55b9a2593e2b 0x55b9a26c3fe4 0x55b9a26c19ee 0x55b9a2593e2b\n",
            "INFO - Dataset: N=331 on-target AOIs, Nc=526 off-target AOIs, F=790 frames, C=1 channels, Px=14 pixels, Py=14 pixels\n",
            "INFO - Data is saved in /content/drive/MyDrive/tutorial/data.tpqr\n",
            "Extracting AOIs: Done\n"
          ]
        }
      ]
    },
    {
      "cell_type": "markdown",
      "metadata": {
        "id": "FvGPMMxL-Xf3"
      },
      "source": [
        "Above we specified\n",
        "\n",
        "* A dataset name (`Rpb1SNAP549`)\n",
        "* Size of AOI images (we recommend to use `14` pixels)\n",
        "* First and last frames included in the analysis (`1` and `790`). If starting and ending frames are not specified then the full range of frames from the driftlist file will be analyzed\n",
        "* The number of color channels (`1`)\n",
        "* Locations of input files for each color channel (only one color channel in this example)."
      ],
      "id": "FvGPMMxL-Xf3"
    },
    {
      "cell_type": "markdown",
      "metadata": {
        "id": "hKQspFUMtjui"
      },
      "source": [
        "> **About indexing**. In Python indexing starts with 0. We stick to this convention and index AOIs, frames, color channels, and pixels starting with 0. Note, however, that in the `tapqir glimpse` command above for frame numbers we used `1` and `790` which are according to Matlab indexing convention (in Matlab indexing starts with 1) since driftlist file was produced using the Matlab script."
      ],
      "id": "hKQspFUMtjui"
    },
    {
      "cell_type": "markdown",
      "metadata": {
        "id": "bgWLD68qsw4f"
      },
      "source": [
        "Great! The program has outputted `data.tpqr` file containing extracted AOI images (N=331 target and Nc=526 off-target control locations), the camera offset empirical distirbution sample values and their weights:"
      ],
      "id": "bgWLD68qsw4f"
    },
    {
      "cell_type": "code",
      "metadata": {
        "id": "d709b3f6",
        "colab": {
          "base_uri": "https://localhost:8080/"
        },
        "outputId": "47f6d557-15ff-4a6b-a548-d3325357c4cf"
      },
      "source": [
        "# list current folder content\n",
        "%ls"
      ],
      "id": "d709b3f6",
      "execution_count": null,
      "outputs": [
        {
          "output_type": "stream",
          "name": "stdout",
          "text": [
            "total 1.1G\n",
            "-rw------- 1 root root 1.1G Sep 20 22:06 data.tpqr\n",
            "drwx------ 3 root root 4.0K Aug 20 19:39 \u001b[0m\u001b[01;34mRpb1SNAP549_glimpse\u001b[0m/\n",
            "drwx------ 2 root root 4.0K Sep 20 22:06 \u001b[01;34m.tapqir\u001b[0m/\n"
          ]
        }
      ]
    },
    {
      "cell_type": "markdown",
      "metadata": {
        "id": "1xda8oFAph8m"
      },
      "source": [
        "Additionally, the program has saved\n",
        "\n",
        "* Image files (`ontarget-channel0.png` and `offtarget-channel0.png`) displaying locations of on-target and off-target AOIs in the first frame (make sure that AOIs are inside the FOV):\n",
        "\n",
        "  <img src=\"https://github.com/gelles-brandeis/tapqir/blob/latest/docs/source/tutorials/ontarget-channel0.png?raw=true\" width=\"700\" />\n",
        "  <img src=\"https://github.com/gelles-brandeis/tapqir/blob/latest/docs/source/tutorials/offtarget-channel0.png?raw=true\" width=\"700\" />\n",
        "\n",
        "* Location from the dark corner of the image (`offset-channel0.png`) used to create the offset empirical distribution (make sure that offset region is outside the FOV):\n",
        "\n",
        "  <img src=\"https://github.com/gelles-brandeis/tapqir/blob/latest/docs/source/tutorials/offset-channel0.png?raw=true\" width=\"700\" />\n",
        "\n",
        "* The intensity distribution histograms for offset and data from different channels (`offset-distribution.png`):\n",
        "\n",
        "  <img src=\"https://github.com/gelles-brandeis/tapqir/blob/latest/docs/source/tutorials/offset-distribution.png?raw=true\" width=\"300\" />\n",
        "\n",
        "* Offset median change (offset distribution shouldn’t drift over time) (`offset-medians.png`):\n",
        "\n",
        "  <img src=\"https://github.com/gelles-brandeis/tapqir/blob/latest/docs/source/tutorials/offset-medians.png?raw=true\" width=\"500\" />"
      ],
      "id": "1xda8oFAph8m"
    },
    {
      "cell_type": "markdown",
      "metadata": {
        "id": "2afb0202"
      },
      "source": [
        "## Fit the data\n",
        "\n",
        "Now the data is ready for analysis. We will fit the data to the time-independent `cosmos` model ([Ordabayev et al., 2021](https://doi.org/10.1101/2021.09.30.462536)):"
      ],
      "id": "2afb0202"
    },
    {
      "cell_type": "code",
      "metadata": {
        "id": "8763a5b5",
        "colab": {
          "base_uri": "https://localhost:8080/"
        },
        "outputId": "dadde83b-7e30-4469-868c-5aff5d578f87"
      },
      "source": [
        "!tapqir fit"
      ],
      "id": "8763a5b5",
      "execution_count": null,
      "outputs": [
        {
          "output_type": "stream",
          "name": "stdout",
          "text": [
            "Tapqir model (cosmos) [cosmos]: \n",
            "Channel numbers (space separated if multiple) [0]: \n",
            "Run computations on GPU? [Y/n]: \n",
            "AOI batch size [10]: \n",
            "Frame batch size [512]: \n",
            "Learning rate [0.005]: \n",
            "Number of iterations [0]: \n",
            "Save parameters in matlab format? [y/N]: \n",
            "Overwrite defaults values? [Y/n]: \n",
            "INFO - Iteration #87800. Loaded a model checkpoint from /content/drive/My Drive/tutorial/.tapqir\n",
            "Fitting the data ...\n",
            "  0% 0/100000 [00:00<?, ?it/s][pyKeOps] Initializing build folder for dtype=float64 and lang=torch in /root/.cache/pykeops-1.5-cpython-37 ... done.\n",
            "[pyKeOps] Compiling libKeOpstorchfc3462e783 in /root/.cache/pykeops-1.5-cpython-37:\n",
            "       formula: Max_SumShiftExp_Reduction(wj+Log(Step(xi-gj-IntCst(1)))+(ai-IntCst(1))*Log(IfElse(xi-gj-IntCst(1),xi-gj,xi))-bi*(xi-gj),0)\n",
            "       aliases: wj = Vj(0,1); gj = Vj(1,1); ai = Vi(2,1); bi = Vi(3,1); xi = Vi(4,1); \n",
            "       dtype  : float64\n",
            "... \n",
            "[pyKeOps] Compiling pybind11 template libKeOps_template_660bc304e8 in /root/.cache/pykeops-1.5-cpython-37 ... \u001b[33mCMake Warning (dev) at /usr/local/lib/python3.7/dist-packages/cmake/data/share/cmake-3.22/Modules/CMakeDependentOption.cmake:84 (message):\n",
            "  Policy CMP0127 is not set: cmake_dependent_option() supports full Condition\n",
            "  Syntax.  Run \"cmake --help-policy CMP0127\" for policy details.  Use the\n",
            "  cmake_policy command to set the policy and suppress this warning.\n",
            "Call Stack (most recent call first):\n",
            "  /usr/local/lib/python3.7/dist-packages/pykeops/pybind11/CMakeLists.txt:91 (cmake_dependent_option)\n",
            "This warning is for project developers.  Use -Wno-dev to suppress it.\n",
            "\u001b[0m\n",
            "done.\n",
            "Done.\n",
            "[pyKeOps] Compiling libKeOpstorchafd30232e9 in /root/.cache/pykeops-1.5-cpython-37:\n",
            "       formula: Grad_WithSavedForward(Max_SumShiftExp_Reduction(wj+Log(Step(xi-gj-IntCst(1)))+(ai-IntCst(1))*Log(IfElse(xi-gj-IntCst(1),xi-gj,xi))-bi*(xi-gj),0), Var(2,1,0), Var(5,2,0), Var(6,2,0))\n",
            "       aliases: wj = Vj(0,1); gj = Vj(1,1); ai = Vi(2,1); bi = Vi(3,1); xi = Vi(4,1); Var(5,2,0); Var(6,2,0); \n",
            "       dtype  : float64\n",
            "... \n",
            "Done.\n",
            "[pyKeOps] Compiling libKeOpstorchb078dba18d in /root/.cache/pykeops-1.5-cpython-37:\n",
            "       formula: Grad_WithSavedForward(Max_SumShiftExp_Reduction(wj+Log(Step(xi-gj-IntCst(1)))+(ai-IntCst(1))*Log(IfElse(xi-gj-IntCst(1),xi-gj,xi))-bi*(xi-gj),0), Var(3,1,0), Var(5,2,0), Var(6,2,0))\n",
            "       aliases: wj = Vj(0,1); gj = Vj(1,1); ai = Vi(2,1); bi = Vi(3,1); xi = Vi(4,1); Var(5,2,0); Var(6,2,0); \n",
            "       dtype  : float64\n",
            "... \n",
            "Done.\n",
            "  4% 4200/100000 [09:02<3:26:16,  7.74it/s]\n",
            "Fitting the data: Done\n",
            "Computing stats ...\n",
            "tcmalloc: large alloc 4246339584 bytes == 0x562b17a6e000 @  0x7f920641cb6b 0x7f920643c379 0x7f9102dd7cde 0x7f9102dd9452 0x7f9154a38ab9 0x7f9154a39817 0x7f9154e7bdc9 0x7f91555677b3 0x7f915559ebdf 0x7f9154a23c5b 0x7f9154a24fa3 0x7f9154a26675 0x7f9154bcaa1e 0x7f915558c263 0x7f915558c312 0x7f91552099a9 0x7f9156ce85f6 0x7f9156ce8c05 0x7f91552620df 0x7f91fe2ba025 0x7f91fe2babb6 0x562a0150e8d4 0x562a013f96f2 0x562a0143e7f0 0x562a014401f0 0x562a014e30b2 0x562a0146962d 0x562a014679ee 0x562a013fabda 0x562a01468915 0x562a013faafa\n",
            "tcmalloc: large alloc 4246339584 bytes == 0x562c14c0e000 @  0x7f920641cb6b 0x7f920643c379 0x7f9102dd7cde 0x7f9102dd9452 0x7f9154a38ab9 0x7f9154a39817 0x7f9154e7bdc9 0x7f91555677b3 0x7f91555a0fdf 0x7f9154a20dff 0x7f9154a24e4d 0x7f9154a2611a 0x7f9154d71a7d 0x7f915558ea4b 0x7f915558eaef 0x7f9155208904 0x7f9155208ff2 0x7f9156a8f15e 0x7f9156a8f7c2 0x7f9155243e2d 0x7f91fe2d920d 0x562a0150e8d4 0x562a014eb0cf 0x562a013fb698 0x562a01469fe4 0x562a01467ced 0x562a013fccfe 0x562a0143e7bf 0x562a0151cc45 0x562a014e35a3 0x562a0146a61f\n",
            "tcmalloc: large alloc 4246339584 bytes == 0x562b17a6e000 @  0x7f920641cb6b 0x7f920643c379 0x7f9102dd7cde 0x7f9102dd9452 0x7f9154a38ab9 0x7f9154a39817 0x7f9154e7bdc9 0x7f91555677b3 0x7f915559d9df 0x7f9154a20dff 0x7f9154a24e4d 0x7f9154a2611a 0x7f915558af03 0x7f915558af8c 0x7f91550f713f 0x7f91550f7f0e 0x7f9156a8c259 0x7f9156a8c63f 0x7f915512ee3d 0x7f91fe254712 0x562a0150e888 0x562a013f96f2 0x562a0143da10 0x562a0146ad4f 0x562a014679ee 0x562a013fabda 0x562a01468915 0x562a013faafa 0x562a01468915 0x562a014679ee 0x562a013fabda\n",
            "tcmalloc: large alloc 4246339584 bytes == 0x562c14c0e000 @  0x7f920641cb6b 0x7f920643c379 0x7f9102dd7cde 0x7f9102dd9452 0x7f9154a38ab9 0x7f9154a39817 0x7f9154e7bdc9 0x7f91555677b3 0x7f915559c6df 0x7f9154a23c5b 0x7f9154a24fa3 0x7f9154a26505 0x7f9155589b0b 0x7f9155589b9f 0x7f915548e1d4 0x7f915548e542 0x7f9156b03dd1 0x7f9156b04592 0x7f91554b94b6 0x7f91fe340ea5 0x7f91fe341a36 0x562a0150e8d4 0x562a013f96f2 0x562a0143e7f0 0x562a0143ff6c 0x562a013dc933 0x562a014e3496 0x562a0146a84a 0x562a014679ee 0x562a013fabda 0x562a01468915\n",
            "tcmalloc: large alloc 4246339584 bytes == 0x562b17a6e000 @  0x7f920641cb6b 0x7f920643c379 0x7f9102dd7cde 0x7f9102dd9452 0x7f9154a38ab9 0x7f9154a39817 0x7f9154e7bdc9 0x7f91555677b3 0x7f915559ebdf 0x7f9154a23c5b 0x7f9154a24fa3 0x7f9154a26675 0x7f9154bcaa1e 0x7f915558c263 0x7f915558c312 0x7f91552099a9 0x7f9156ce85f6 0x7f9156ce8c05 0x7f91552620df 0x7f91fe2ba025 0x7f91fe2babb6 0x562a0150e8d4 0x562a013f96f2 0x562a0143e7f0 0x562a014401f0 0x562a014e30b2 0x562a0146962d 0x562a014679ee 0x562a013fabda 0x562a01468915 0x562a013faafa\n",
            "tcmalloc: large alloc 4246339584 bytes == 0x562c14c0e000 @  0x7f920641cb6b 0x7f920643c379 0x7f9102dd7cde 0x7f9102dd9452 0x7f9154a38ab9 0x7f9154a39817 0x7f9154e7bdc9 0x7f91555677b3 0x7f915559ebdf 0x7f9154a23c5b 0x7f9154a24fa3 0x7f9154a26675 0x7f9154bcaa1e 0x7f915558c263 0x7f915558c312 0x7f91552099a9 0x7f9156ce85f6 0x7f9156ce8c05 0x7f91552620df 0x7f91fe2ba025 0x7f91fe2babb6 0x562a0150e8d4 0x562a013f96f2 0x562a0143e7f0 0x562a014401f0 0x562a014e3113 0x562a0146962d 0x562a014679ee 0x562a013fabda 0x562a01468915 0x562a013faafa\n",
            "Computing stats: Done\n"
          ]
        }
      ]
    },
    {
      "cell_type": "markdown",
      "metadata": {
        "id": "ivgI_w_d_xCB"
      },
      "source": [
        "Options that we selected:\n",
        "\n",
        "* Model - the default single-color time-independent model (`cosmos`).\n",
        "* Color channel number - first chanel (`0`) (there is only one color channel in this data)\n",
        "* Run computations on GPU: yes (`y`).\n",
        "* AOI batch size - use default (`10`).\n",
        "* Frame batch size - use default (`512`).\n",
        "* Learning rate - use default (`0.005`).\n",
        "* Number of iterations - use default (`0`)"
      ],
      "id": "ivgI_w_d_xCB"
    },
    {
      "cell_type": "markdown",
      "metadata": {
        "id": "cS3HizaduHaG"
      },
      "source": [
        "> **About batch size**. In theory, batch size should impact _training time_ and _memory consumption_, but not the _performance_. It can be optimized for a particular GPU hardware by trying different batch size values and comparing training time/memory usage (`nvidia-smi` shell command shows Memory-Usage and GPU-Util values). In particular, if there is a memory overflow you can decrease either frame batch size (e.g., to `128` or `256`) or AOI batch size (e.g., to `5`).\n",
        "\n",
        "> **About number of iterations**. Fitting the data requires many iterations (about 50,000-100,000) until parameters converge. Setting the number of iterations to 0 will run the program till Tapqir’s custom convergence criteria is satisfied. We recommend to set it to 0 (default) and then run for additional number of iterations if required. Convergence of global parameters can be visually checked using tensorboard."
      ],
      "id": "cS3HizaduHaG"
    },
    {
      "cell_type": "markdown",
      "metadata": {
        "id": "65ERuUNR5AMp"
      },
      "source": [
        "The program will save a checkpoint every 200 iterations (checkpoint is saved at `.tapqir/cosmos-channel0-model.tpqr`). Starting the program again will resume from the last saved checkpoint. The program can be stopped using `Ctrl-C`. At every checkpoint the values of global variational parameters (`-ELBO`, `gain_loc`, `proximity_loc`, `pi_mean`, `lamda_loc`) are also recorded for visualization by tensorboard. Plateaued plots signify convergence.\n",
        "\n",
        "After fitting is finished the program computes 95% credible intervals of model parameters and saves them in `cosmos-channel0-params.tqpr` and `cosmos-channel0-summary.csv` files."
      ],
      "id": "65ERuUNR5AMp"
    },
    {
      "cell_type": "markdown",
      "metadata": {
        "id": "c22dabbb"
      },
      "source": [
        "### Tensorboard\n",
        "\n",
        "To monitor fitting progress (variational parameters vs number of iterations) use tensorboard. [More](https://www.tensorflow.org/tensorboard/tensorboard_in_notebooks) on using tensorboard in notebooks. Run the program until `-ELBO`, `gain_loc`, `lamda_loc`, `pi_mean`, `proximity_loc` values converge."
      ],
      "id": "c22dabbb"
    },
    {
      "cell_type": "code",
      "metadata": {
        "id": "f2ae2b6b"
      },
      "source": [
        "%load_ext tensorboard"
      ],
      "id": "f2ae2b6b",
      "execution_count": null,
      "outputs": []
    },
    {
      "cell_type": "code",
      "metadata": {
        "id": "417245d3"
      },
      "source": [
        "%tensorboard --logdir ."
      ],
      "id": "417245d3",
      "execution_count": null,
      "outputs": []
    },
    {
      "cell_type": "markdown",
      "metadata": {
        "id": "o2Ou7aF2-Lou"
      },
      "source": [
        "For illustration purposes, below is a saved image of tensorboard output after all the runs above have completed. We can see that `-ELBO` is decreasing as expected. `gain_loc` went up and then down and then plateaued (converged).\n",
        "\n",
        "<img src=\"https://github.com/gelles-brandeis/tapqir/blob/latest/docs/source/tutorials/tensorboard.png?raw=true\" width=\"1200\" />"
      ],
      "id": "o2Ou7aF2-Lou"
    }
  ]
}