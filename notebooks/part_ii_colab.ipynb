{
  "nbformat": 4,
  "nbformat_minor": 5,
  "metadata": {
    "kernelspec": {
      "display_name": "Python 3 (ipykernel)",
      "language": "python",
      "name": "python3"
    },
    "language_info": {
      "codemirror_mode": {
        "name": "ipython",
        "version": 3
      },
      "file_extension": ".py",
      "mimetype": "text/x-python",
      "name": "python",
      "nbconvert_exporter": "python",
      "pygments_lexer": "ipython3",
      "version": "3.8.10"
    },
    "nbsphinx": {
      "execute": "never"
    },
    "toc": {
      "base_numbering": 1,
      "nav_menu": {},
      "number_sections": true,
      "sideBar": true,
      "skip_h1_title": false,
      "title_cell": "Table of Contents",
      "title_sidebar": "Contents",
      "toc_cell": false,
      "toc_position": {},
      "toc_section_display": true,
      "toc_window_display": false
    },
    "colab": {
      "name": "tutorial.ipynb",
      "provenance": [],
      "machine_shape": "hm"
    },
    "widgets": {
      "application/vnd.jupyter.widget-state+json": {
        "96fc2f5a73c945ae85e086928ad27ff4": {
          "model_module": "@jupyter-widgets/controls",
          "model_name": "VBoxModel",
          "model_module_version": "1.5.0",
          "state": {
            "_view_name": "VBoxView",
            "_dom_classes": [],
            "_model_name": "VBoxModel",
            "_view_module": "@jupyter-widgets/controls",
            "_model_module_version": "1.5.0",
            "_view_count": null,
            "_view_module_version": "1.5.0",
            "box_style": "",
            "layout": "IPY_MODEL_121f322807a54047856d903b686a0d44",
            "_model_module": "@jupyter-widgets/controls",
            "children": [
              "IPY_MODEL_d663708d16eb4114bb35992e0fe5e278",
              "IPY_MODEL_9aa036592d024602abdedc5a096da34d"
            ]
          }
        },
        "121f322807a54047856d903b686a0d44": {
          "model_module": "@jupyter-widgets/base",
          "model_name": "LayoutModel",
          "model_module_version": "1.2.0",
          "state": {
            "_view_name": "LayoutView",
            "grid_template_rows": null,
            "right": null,
            "justify_content": null,
            "_view_module": "@jupyter-widgets/base",
            "overflow": null,
            "_model_module_version": "1.2.0",
            "_view_count": null,
            "flex_flow": null,
            "width": null,
            "min_width": null,
            "border": null,
            "align_items": null,
            "bottom": null,
            "_model_module": "@jupyter-widgets/base",
            "top": null,
            "grid_column": null,
            "overflow_y": null,
            "overflow_x": null,
            "grid_auto_flow": null,
            "grid_area": null,
            "grid_template_columns": null,
            "flex": null,
            "_model_name": "LayoutModel",
            "justify_items": null,
            "grid_row": null,
            "max_height": null,
            "align_content": null,
            "visibility": null,
            "align_self": null,
            "height": null,
            "min_height": null,
            "padding": null,
            "grid_auto_rows": null,
            "grid_gap": null,
            "max_width": null,
            "order": null,
            "_view_module_version": "1.2.0",
            "grid_template_areas": null,
            "object_position": null,
            "object_fit": null,
            "grid_auto_columns": null,
            "margin": null,
            "display": null,
            "left": null
          }
        },
        "d663708d16eb4114bb35992e0fe5e278": {
          "model_module": "@jupyter-widgets/controls",
          "model_name": "VBoxModel",
          "model_module_version": "1.5.0",
          "state": {
            "_view_name": "VBoxView",
            "_dom_classes": [],
            "_model_name": "VBoxModel",
            "_view_module": "@jupyter-widgets/controls",
            "_model_module_version": "1.5.0",
            "_view_count": null,
            "_view_module_version": "1.5.0",
            "box_style": "",
            "layout": "IPY_MODEL_1980dea2aee74e36a0b6caf290162d7b",
            "_model_module": "@jupyter-widgets/controls",
            "children": [
              "IPY_MODEL_d693cd48b3cb4f90a90175a4466a31b4",
              "IPY_MODEL_c46a419d42e94680aca1783008d87aa0",
              "IPY_MODEL_dece0bda9deb48efbe71ee9a143ef4c8"
            ]
          }
        },
        "9aa036592d024602abdedc5a096da34d": {
          "model_module": "@jupyter-widgets/controls",
          "model_name": "TabModel",
          "model_module_version": "1.5.0",
          "state": {
            "_view_name": "TabView",
            "_dom_classes": [],
            "_titles": {
              "0": "Extract AOIs"
            },
            "_model_name": "TabModel",
            "_view_module": "@jupyter-widgets/controls",
            "selected_index": 0,
            "_model_module_version": "1.5.0",
            "_view_count": null,
            "_view_module_version": "1.5.0",
            "box_style": "",
            "layout": "IPY_MODEL_20221419223b4caa82d4494742543cd8",
            "_model_module": "@jupyter-widgets/controls",
            "children": [
              "IPY_MODEL_8c0daa14f0004998b9a3af629928fe3e"
            ]
          }
        },
        "1980dea2aee74e36a0b6caf290162d7b": {
          "model_module": "@jupyter-widgets/base",
          "model_name": "LayoutModel",
          "model_module_version": "1.2.0",
          "state": {
            "_view_name": "LayoutView",
            "grid_template_rows": null,
            "right": null,
            "justify_content": null,
            "_view_module": "@jupyter-widgets/base",
            "overflow": null,
            "_model_module_version": "1.2.0",
            "_view_count": null,
            "flex_flow": null,
            "width": "500px",
            "min_width": null,
            "border": null,
            "align_items": null,
            "bottom": null,
            "_model_module": "@jupyter-widgets/base",
            "top": null,
            "grid_column": null,
            "overflow_y": null,
            "overflow_x": null,
            "grid_auto_flow": null,
            "grid_area": null,
            "grid_template_columns": null,
            "flex": null,
            "_model_name": "LayoutModel",
            "justify_items": null,
            "grid_row": null,
            "max_height": null,
            "align_content": null,
            "visibility": null,
            "align_self": null,
            "height": null,
            "min_height": null,
            "padding": null,
            "grid_auto_rows": null,
            "grid_gap": null,
            "max_width": null,
            "order": null,
            "_view_module_version": "1.2.0",
            "grid_template_areas": null,
            "object_position": null,
            "object_fit": null,
            "grid_auto_columns": null,
            "margin": null,
            "display": null,
            "left": null
          }
        },
        "d693cd48b3cb4f90a90175a4466a31b4": {
          "model_module": "@jupyter-widgets/controls",
          "model_name": "HTMLModel",
          "model_module_version": "1.5.0",
          "state": {
            "_view_name": "HTMLView",
            "style": "IPY_MODEL_db8320399dc64a7197c901be39665e33",
            "_dom_classes": [],
            "description": "",
            "_model_name": "HTMLModel",
            "placeholder": "​",
            "_view_module": "@jupyter-widgets/controls",
            "_model_module_version": "1.5.0",
            "value": "",
            "_view_count": null,
            "_view_module_version": "1.5.0",
            "description_tooltip": null,
            "_model_module": "@jupyter-widgets/controls",
            "layout": "IPY_MODEL_fbb5a71830874527afca9e93214bc24c"
          }
        },
        "c46a419d42e94680aca1783008d87aa0": {
          "model_module": "@jupyter-widgets/controls",
          "model_name": "GridBoxModel",
          "model_module_version": "1.5.0",
          "state": {
            "_view_name": "GridBoxView",
            "_dom_classes": [],
            "_model_name": "GridBoxModel",
            "_view_module": "@jupyter-widgets/controls",
            "_model_module_version": "1.5.0",
            "_view_count": null,
            "_view_module_version": "1.5.0",
            "box_style": "",
            "layout": "IPY_MODEL_a7d655c59f8d4d47924e169ae895aa1b",
            "_model_module": "@jupyter-widgets/controls",
            "children": [
              "IPY_MODEL_5f824ee4659b4fc7b6c5fe7c08f08e6b",
              "IPY_MODEL_29c98475b1554d7eb4439183930c8c97",
              "IPY_MODEL_7547c06f019e46c2889e39d170aa7efe"
            ]
          }
        },
        "dece0bda9deb48efbe71ee9a143ef4c8": {
          "model_module": "@jupyter-widgets/controls",
          "model_name": "HBoxModel",
          "model_module_version": "1.5.0",
          "state": {
            "_view_name": "HBoxView",
            "_dom_classes": [],
            "_model_name": "HBoxModel",
            "_view_module": "@jupyter-widgets/controls",
            "_model_module_version": "1.5.0",
            "_view_count": null,
            "_view_module_version": "1.5.0",
            "box_style": "",
            "layout": "IPY_MODEL_16169de0896b4d2caa30817a8659c45e",
            "_model_module": "@jupyter-widgets/controls",
            "children": [
              "IPY_MODEL_195b2aba27264a188861968c911f0a6e",
              "IPY_MODEL_dcf6cd4774864aac9d4c43acef142b16",
              "IPY_MODEL_d7c08b9a3bc1405884655203de0bfd74"
            ]
          }
        },
        "20221419223b4caa82d4494742543cd8": {
          "model_module": "@jupyter-widgets/base",
          "model_name": "LayoutModel",
          "model_module_version": "1.2.0",
          "state": {
            "_view_name": "LayoutView",
            "grid_template_rows": null,
            "right": null,
            "justify_content": null,
            "_view_module": "@jupyter-widgets/base",
            "overflow": null,
            "_model_module_version": "1.2.0",
            "_view_count": null,
            "flex_flow": null,
            "width": null,
            "min_width": null,
            "border": null,
            "align_items": null,
            "bottom": null,
            "_model_module": "@jupyter-widgets/base",
            "top": null,
            "grid_column": null,
            "overflow_y": null,
            "overflow_x": null,
            "grid_auto_flow": null,
            "grid_area": null,
            "grid_template_columns": null,
            "flex": null,
            "_model_name": "LayoutModel",
            "justify_items": null,
            "grid_row": null,
            "max_height": null,
            "align_content": null,
            "visibility": null,
            "align_self": null,
            "height": null,
            "min_height": null,
            "padding": null,
            "grid_auto_rows": null,
            "grid_gap": null,
            "max_width": null,
            "order": null,
            "_view_module_version": "1.2.0",
            "grid_template_areas": null,
            "object_position": null,
            "object_fit": null,
            "grid_auto_columns": null,
            "margin": null,
            "display": null,
            "left": null
          }
        },
        "8c0daa14f0004998b9a3af629928fe3e": {
          "model_module": "@jupyter-widgets/controls",
          "model_name": "VBoxModel",
          "model_module_version": "1.5.0",
          "state": {
            "_view_name": "VBoxView",
            "_dom_classes": [],
            "_model_name": "VBoxModel",
            "_view_module": "@jupyter-widgets/controls",
            "_model_module_version": "1.5.0",
            "_view_count": null,
            "_view_module_version": "1.5.0",
            "box_style": "",
            "layout": "IPY_MODEL_e46bbe7c5dff45e9865e87ff8800076f",
            "_model_module": "@jupyter-widgets/controls",
            "children": [
              "IPY_MODEL_d0c1b85154b8413bb97ac37f2f30d689",
              "IPY_MODEL_4435697927034ab8a21a0cc2ed8b67d2",
              "IPY_MODEL_1fc231fe4f6f45cbbecc0024058acc80",
              "IPY_MODEL_1bcbed2f7a03478abc87f4456d68a4ae",
              "IPY_MODEL_fd1b26f91a9e429cac67b5037994933d",
              "IPY_MODEL_5e1191a8d0cd49159b670f7d01e38011"
            ]
          }
        },
        "db8320399dc64a7197c901be39665e33": {
          "model_module": "@jupyter-widgets/controls",
          "model_name": "DescriptionStyleModel",
          "model_module_version": "1.5.0",
          "state": {
            "_view_name": "StyleView",
            "_model_name": "DescriptionStyleModel",
            "description_width": "",
            "_view_module": "@jupyter-widgets/base",
            "_model_module_version": "1.5.0",
            "_view_count": null,
            "_view_module_version": "1.2.0",
            "_model_module": "@jupyter-widgets/controls"
          }
        },
        "fbb5a71830874527afca9e93214bc24c": {
          "model_module": "@jupyter-widgets/base",
          "model_name": "LayoutModel",
          "model_module_version": "1.2.0",
          "state": {
            "_view_name": "LayoutView",
            "grid_template_rows": null,
            "right": null,
            "justify_content": null,
            "_view_module": "@jupyter-widgets/base",
            "overflow": null,
            "_model_module_version": "1.2.0",
            "_view_count": null,
            "flex_flow": null,
            "width": null,
            "min_width": null,
            "border": null,
            "align_items": null,
            "bottom": null,
            "_model_module": "@jupyter-widgets/base",
            "top": null,
            "grid_column": null,
            "overflow_y": null,
            "overflow_x": null,
            "grid_auto_flow": null,
            "grid_area": null,
            "grid_template_columns": null,
            "flex": null,
            "_model_name": "LayoutModel",
            "justify_items": null,
            "grid_row": null,
            "max_height": null,
            "align_content": null,
            "visibility": null,
            "align_self": null,
            "height": null,
            "min_height": null,
            "padding": null,
            "grid_auto_rows": null,
            "grid_gap": null,
            "max_width": null,
            "order": null,
            "_view_module_version": "1.2.0",
            "grid_template_areas": null,
            "object_position": null,
            "object_fit": null,
            "grid_auto_columns": null,
            "margin": null,
            "display": "none",
            "left": null
          }
        },
        "a7d655c59f8d4d47924e169ae895aa1b": {
          "model_module": "@jupyter-widgets/base",
          "model_name": "LayoutModel",
          "model_module_version": "1.2.0",
          "state": {
            "_view_name": "LayoutView",
            "grid_template_rows": "auto auto",
            "right": null,
            "justify_content": null,
            "_view_module": "@jupyter-widgets/base",
            "overflow": null,
            "_model_module_version": "1.2.0",
            "_view_count": null,
            "flex_flow": null,
            "width": "auto",
            "min_width": null,
            "border": null,
            "align_items": null,
            "bottom": null,
            "_model_module": "@jupyter-widgets/base",
            "top": null,
            "grid_column": null,
            "overflow_y": null,
            "overflow_x": null,
            "grid_auto_flow": null,
            "grid_area": null,
            "grid_template_columns": "60% 40%",
            "flex": null,
            "_model_name": "LayoutModel",
            "justify_items": null,
            "grid_row": null,
            "max_height": null,
            "align_content": null,
            "visibility": null,
            "align_self": null,
            "height": null,
            "min_height": null,
            "padding": null,
            "grid_auto_rows": null,
            "grid_gap": "0px 0px",
            "max_width": null,
            "order": null,
            "_view_module_version": "1.2.0",
            "grid_template_areas": "\n                    'pathlist filename'\n                    'dircontent dircontent'\n                    ",
            "object_position": null,
            "object_fit": null,
            "grid_auto_columns": null,
            "margin": null,
            "display": "none",
            "left": null
          }
        },
        "5f824ee4659b4fc7b6c5fe7c08f08e6b": {
          "model_module": "@jupyter-widgets/controls",
          "model_name": "DropdownModel",
          "model_module_version": "1.5.0",
          "state": {
            "_options_labels": [
              "/content",
              "/"
            ],
            "_view_name": "DropdownView",
            "style": "IPY_MODEL_508735e2821243a4b59105a8a93fa084",
            "_dom_classes": [],
            "description": "",
            "_model_name": "DropdownModel",
            "index": 0,
            "_view_module": "@jupyter-widgets/controls",
            "_model_module_version": "1.5.0",
            "_view_count": null,
            "disabled": false,
            "_view_module_version": "1.5.0",
            "description_tooltip": null,
            "_model_module": "@jupyter-widgets/controls",
            "layout": "IPY_MODEL_f59b6d88887e4b7b947720a371cb2441"
          }
        },
        "29c98475b1554d7eb4439183930c8c97": {
          "model_module": "@jupyter-widgets/controls",
          "model_name": "TextModel",
          "model_module_version": "1.5.0",
          "state": {
            "_view_name": "TextView",
            "style": "IPY_MODEL_3c3972015cdf41e1995f565fa5c47d80",
            "_dom_classes": [],
            "description": "",
            "_model_name": "TextModel",
            "placeholder": "output filename",
            "_view_module": "@jupyter-widgets/controls",
            "_model_module_version": "1.5.0",
            "value": "",
            "_view_count": null,
            "disabled": false,
            "_view_module_version": "1.5.0",
            "continuous_update": true,
            "description_tooltip": null,
            "_model_module": "@jupyter-widgets/controls",
            "layout": "IPY_MODEL_859caeb270d743a3afbc251f2d23c7b7"
          }
        },
        "7547c06f019e46c2889e39d170aa7efe": {
          "model_module": "@jupyter-widgets/controls",
          "model_name": "SelectModel",
          "model_module_version": "1.5.0",
          "state": {
            "_options_labels": [
              "📁 ..",
              "📁 sample_data"
            ],
            "_view_name": "SelectView",
            "style": "IPY_MODEL_a56cfb226e424461a4a584507d419d84",
            "rows": 8,
            "_dom_classes": [],
            "description": "",
            "_model_name": "SelectModel",
            "index": null,
            "_view_module": "@jupyter-widgets/controls",
            "_model_module_version": "1.5.0",
            "_view_count": null,
            "disabled": false,
            "_view_module_version": "1.5.0",
            "description_tooltip": null,
            "_model_module": "@jupyter-widgets/controls",
            "layout": "IPY_MODEL_e8f62fec222d451e8620bed3f686d2be"
          }
        },
        "16169de0896b4d2caa30817a8659c45e": {
          "model_module": "@jupyter-widgets/base",
          "model_name": "LayoutModel",
          "model_module_version": "1.2.0",
          "state": {
            "_view_name": "LayoutView",
            "grid_template_rows": null,
            "right": null,
            "justify_content": null,
            "_view_module": "@jupyter-widgets/base",
            "overflow": null,
            "_model_module_version": "1.2.0",
            "_view_count": null,
            "flex_flow": null,
            "width": "auto",
            "min_width": null,
            "border": null,
            "align_items": null,
            "bottom": null,
            "_model_module": "@jupyter-widgets/base",
            "top": null,
            "grid_column": null,
            "overflow_y": null,
            "overflow_x": null,
            "grid_auto_flow": null,
            "grid_area": null,
            "grid_template_columns": null,
            "flex": null,
            "_model_name": "LayoutModel",
            "justify_items": null,
            "grid_row": null,
            "max_height": null,
            "align_content": null,
            "visibility": null,
            "align_self": null,
            "height": null,
            "min_height": null,
            "padding": null,
            "grid_auto_rows": null,
            "grid_gap": null,
            "max_width": null,
            "order": null,
            "_view_module_version": "1.2.0",
            "grid_template_areas": null,
            "object_position": null,
            "object_fit": null,
            "grid_auto_columns": null,
            "margin": null,
            "display": null,
            "left": null
          }
        },
        "195b2aba27264a188861968c911f0a6e": {
          "model_module": "@jupyter-widgets/controls",
          "model_name": "ButtonModel",
          "model_module_version": "1.5.0",
          "state": {
            "_view_name": "ButtonView",
            "style": "IPY_MODEL_d292d78a2def4377b62fa47506a6511f",
            "_dom_classes": [],
            "description": "Select",
            "_model_name": "ButtonModel",
            "button_style": "",
            "_view_module": "@jupyter-widgets/controls",
            "_model_module_version": "1.5.0",
            "tooltip": "",
            "_view_count": null,
            "disabled": false,
            "_view_module_version": "1.5.0",
            "layout": "IPY_MODEL_696bfd5c885b4ef2b23f54f481dc9a39",
            "_model_module": "@jupyter-widgets/controls",
            "icon": ""
          }
        },
        "dcf6cd4774864aac9d4c43acef142b16": {
          "model_module": "@jupyter-widgets/controls",
          "model_name": "ButtonModel",
          "model_module_version": "1.5.0",
          "state": {
            "_view_name": "ButtonView",
            "style": "IPY_MODEL_8a2c84d2459d427ea756c4b328a5752a",
            "_dom_classes": [],
            "description": "Cancel",
            "_model_name": "ButtonModel",
            "button_style": "",
            "_view_module": "@jupyter-widgets/controls",
            "_model_module_version": "1.5.0",
            "tooltip": "",
            "_view_count": null,
            "disabled": false,
            "_view_module_version": "1.5.0",
            "layout": "IPY_MODEL_af9deabd7ac9404498c6fb70962bc202",
            "_model_module": "@jupyter-widgets/controls",
            "icon": ""
          }
        },
        "d7c08b9a3bc1405884655203de0bfd74": {
          "model_module": "@jupyter-widgets/controls",
          "model_name": "BoxModel",
          "model_module_version": "1.5.0",
          "state": {
            "_view_name": "BoxView",
            "_dom_classes": [],
            "_model_name": "BoxModel",
            "_view_module": "@jupyter-widgets/controls",
            "_model_module_version": "1.5.0",
            "_view_count": null,
            "_view_module_version": "1.5.0",
            "box_style": "",
            "layout": "IPY_MODEL_5acbfcf8ba4146dfaab238d3bcfe7bb6",
            "_model_module": "@jupyter-widgets/controls",
            "children": [
              "IPY_MODEL_ac73f9d9921f4f2dbfcd2350211fe6a5"
            ]
          }
        },
        "e46bbe7c5dff45e9865e87ff8800076f": {
          "model_module": "@jupyter-widgets/base",
          "model_name": "LayoutModel",
          "model_module_version": "1.2.0",
          "state": {
            "_view_name": "LayoutView",
            "grid_template_rows": null,
            "right": null,
            "justify_content": null,
            "_view_module": "@jupyter-widgets/base",
            "overflow": null,
            "_model_module_version": "1.2.0",
            "_view_count": null,
            "flex_flow": null,
            "width": null,
            "min_width": null,
            "border": null,
            "align_items": null,
            "bottom": null,
            "_model_module": "@jupyter-widgets/base",
            "top": null,
            "grid_column": null,
            "overflow_y": null,
            "overflow_x": null,
            "grid_auto_flow": null,
            "grid_area": null,
            "grid_template_columns": null,
            "flex": null,
            "_model_name": "LayoutModel",
            "justify_items": null,
            "grid_row": null,
            "max_height": null,
            "align_content": null,
            "visibility": null,
            "align_self": null,
            "height": null,
            "min_height": null,
            "padding": null,
            "grid_auto_rows": null,
            "grid_gap": null,
            "max_width": null,
            "order": null,
            "_view_module_version": "1.2.0",
            "grid_template_areas": null,
            "object_position": null,
            "object_fit": null,
            "grid_auto_columns": null,
            "margin": null,
            "display": null,
            "left": null
          }
        },
        "d0c1b85154b8413bb97ac37f2f30d689": {
          "model_module": "@jupyter-widgets/controls",
          "model_name": "TextModel",
          "model_module_version": "1.5.0",
          "state": {
            "_view_name": "TextView",
            "style": "IPY_MODEL_0885d853dadb4c85bf24dbba81a66999",
            "_dom_classes": [],
            "description": "Dataset name",
            "_model_name": "TextModel",
            "placeholder": "​",
            "_view_module": "@jupyter-widgets/controls",
            "_model_module_version": "1.5.0",
            "value": "",
            "_view_count": null,
            "disabled": false,
            "_view_module_version": "1.5.0",
            "continuous_update": true,
            "description_tooltip": null,
            "_model_module": "@jupyter-widgets/controls",
            "layout": "IPY_MODEL_210a9b5af0ad425aa9901899d860fadb"
          }
        },
        "4435697927034ab8a21a0cc2ed8b67d2": {
          "model_module": "@jupyter-widgets/controls",
          "model_name": "IntTextModel",
          "model_module_version": "1.5.0",
          "state": {
            "_view_name": "IntTextView",
            "style": "IPY_MODEL_b6df9440746743c2b62a28ad931b8763",
            "_dom_classes": [],
            "description": "AOI image size",
            "_model_name": "IntTextModel",
            "_view_module": "@jupyter-widgets/controls",
            "_model_module_version": "1.5.0",
            "value": 14,
            "_view_count": null,
            "disabled": false,
            "_view_module_version": "1.5.0",
            "continuous_update": false,
            "step": 1,
            "description_tooltip": null,
            "_model_module": "@jupyter-widgets/controls",
            "layout": "IPY_MODEL_eb99f63ba4024c45b2b7945afd88cfe5"
          }
        },
        "1fc231fe4f6f45cbbecc0024058acc80": {
          "model_module": "@jupyter-widgets/controls",
          "model_name": "IntTextModel",
          "model_module_version": "1.5.0",
          "state": {
            "_view_name": "IntTextView",
            "style": "IPY_MODEL_103ad96d02e74c00993b982f2312b917",
            "_dom_classes": [],
            "description": "Number of color channels",
            "_model_name": "IntTextModel",
            "_view_module": "@jupyter-widgets/controls",
            "_model_module_version": "1.5.0",
            "value": 1,
            "_view_count": null,
            "disabled": false,
            "_view_module_version": "1.5.0",
            "continuous_update": false,
            "step": 1,
            "description_tooltip": null,
            "_model_module": "@jupyter-widgets/controls",
            "layout": "IPY_MODEL_d766400bd44d4e9abd4f8ceb7adc29ab"
          }
        },
        "1bcbed2f7a03478abc87f4456d68a4ae": {
          "model_module": "@jupyter-widgets/controls",
          "model_name": "CheckboxModel",
          "model_module_version": "1.5.0",
          "state": {
            "_view_name": "CheckboxView",
            "style": "IPY_MODEL_9f4ead9f9215450db0fb5e558a5082f7",
            "_dom_classes": [],
            "description": "Specify frame range?",
            "_model_name": "CheckboxModel",
            "_view_module": "@jupyter-widgets/controls",
            "_model_module_version": "1.5.0",
            "value": false,
            "_view_count": null,
            "disabled": false,
            "_view_module_version": "1.5.0",
            "indent": false,
            "description_tooltip": null,
            "_model_module": "@jupyter-widgets/controls",
            "layout": "IPY_MODEL_7602021a171f4adf8906fd0996b42320"
          }
        },
        "fd1b26f91a9e429cac67b5037994933d": {
          "model_module": "@jupyter-widgets/controls",
          "model_name": "IntTextModel",
          "model_module_version": "1.5.0",
          "state": {
            "_view_name": "IntTextView",
            "style": "IPY_MODEL_c311f55bf6774cd49fc1a4e51a80cb36",
            "_dom_classes": [],
            "description": "First frame",
            "_model_name": "IntTextModel",
            "_view_module": "@jupyter-widgets/controls",
            "_model_module_version": "1.5.0",
            "value": 1,
            "_view_count": null,
            "disabled": false,
            "_view_module_version": "1.5.0",
            "continuous_update": false,
            "step": 1,
            "description_tooltip": null,
            "_model_module": "@jupyter-widgets/controls",
            "layout": "IPY_MODEL_acd88175e0b146d4832318bdab9b39f8"
          }
        },
        "5e1191a8d0cd49159b670f7d01e38011": {
          "model_module": "@jupyter-widgets/controls",
          "model_name": "IntTextModel",
          "model_module_version": "1.5.0",
          "state": {
            "_view_name": "IntTextView",
            "style": "IPY_MODEL_3218747e63dd400ba0bc6e948a2347f5",
            "_dom_classes": [],
            "description": "Last frame",
            "_model_name": "IntTextModel",
            "_view_module": "@jupyter-widgets/controls",
            "_model_module_version": "1.5.0",
            "value": 2,
            "_view_count": null,
            "disabled": false,
            "_view_module_version": "1.5.0",
            "continuous_update": false,
            "step": 1,
            "description_tooltip": null,
            "_model_module": "@jupyter-widgets/controls",
            "layout": "IPY_MODEL_cc1a7b19db044005ae083c0ef695b53e"
          }
        },
        "508735e2821243a4b59105a8a93fa084": {
          "model_module": "@jupyter-widgets/controls",
          "model_name": "DescriptionStyleModel",
          "model_module_version": "1.5.0",
          "state": {
            "_view_name": "StyleView",
            "_model_name": "DescriptionStyleModel",
            "description_width": "",
            "_view_module": "@jupyter-widgets/base",
            "_model_module_version": "1.5.0",
            "_view_count": null,
            "_view_module_version": "1.2.0",
            "_model_module": "@jupyter-widgets/controls"
          }
        },
        "f59b6d88887e4b7b947720a371cb2441": {
          "model_module": "@jupyter-widgets/base",
          "model_name": "LayoutModel",
          "model_module_version": "1.2.0",
          "state": {
            "_view_name": "LayoutView",
            "grid_template_rows": null,
            "right": null,
            "justify_content": null,
            "_view_module": "@jupyter-widgets/base",
            "overflow": null,
            "_model_module_version": "1.2.0",
            "_view_count": null,
            "flex_flow": null,
            "width": "auto",
            "min_width": null,
            "border": null,
            "align_items": null,
            "bottom": null,
            "_model_module": "@jupyter-widgets/base",
            "top": null,
            "grid_column": null,
            "overflow_y": null,
            "overflow_x": null,
            "grid_auto_flow": null,
            "grid_area": "pathlist",
            "grid_template_columns": null,
            "flex": null,
            "_model_name": "LayoutModel",
            "justify_items": null,
            "grid_row": null,
            "max_height": null,
            "align_content": null,
            "visibility": null,
            "align_self": null,
            "height": null,
            "min_height": null,
            "padding": null,
            "grid_auto_rows": null,
            "grid_gap": null,
            "max_width": null,
            "order": null,
            "_view_module_version": "1.2.0",
            "grid_template_areas": null,
            "object_position": null,
            "object_fit": null,
            "grid_auto_columns": null,
            "margin": null,
            "display": null,
            "left": null
          }
        },
        "3c3972015cdf41e1995f565fa5c47d80": {
          "model_module": "@jupyter-widgets/controls",
          "model_name": "DescriptionStyleModel",
          "model_module_version": "1.5.0",
          "state": {
            "_view_name": "StyleView",
            "_model_name": "DescriptionStyleModel",
            "description_width": "",
            "_view_module": "@jupyter-widgets/base",
            "_model_module_version": "1.5.0",
            "_view_count": null,
            "_view_module_version": "1.2.0",
            "_model_module": "@jupyter-widgets/controls"
          }
        },
        "859caeb270d743a3afbc251f2d23c7b7": {
          "model_module": "@jupyter-widgets/base",
          "model_name": "LayoutModel",
          "model_module_version": "1.2.0",
          "state": {
            "_view_name": "LayoutView",
            "grid_template_rows": null,
            "right": null,
            "justify_content": null,
            "_view_module": "@jupyter-widgets/base",
            "overflow": null,
            "_model_module_version": "1.2.0",
            "_view_count": null,
            "flex_flow": null,
            "width": "auto",
            "min_width": null,
            "border": null,
            "align_items": null,
            "bottom": null,
            "_model_module": "@jupyter-widgets/base",
            "top": null,
            "grid_column": null,
            "overflow_y": null,
            "overflow_x": null,
            "grid_auto_flow": null,
            "grid_area": "filename",
            "grid_template_columns": null,
            "flex": null,
            "_model_name": "LayoutModel",
            "justify_items": null,
            "grid_row": null,
            "max_height": null,
            "align_content": null,
            "visibility": null,
            "align_self": null,
            "height": null,
            "min_height": null,
            "padding": null,
            "grid_auto_rows": null,
            "grid_gap": null,
            "max_width": null,
            "order": null,
            "_view_module_version": "1.2.0",
            "grid_template_areas": null,
            "object_position": null,
            "object_fit": null,
            "grid_auto_columns": null,
            "margin": null,
            "display": null,
            "left": null
          }
        },
        "a56cfb226e424461a4a584507d419d84": {
          "model_module": "@jupyter-widgets/controls",
          "model_name": "DescriptionStyleModel",
          "model_module_version": "1.5.0",
          "state": {
            "_view_name": "StyleView",
            "_model_name": "DescriptionStyleModel",
            "description_width": "",
            "_view_module": "@jupyter-widgets/base",
            "_model_module_version": "1.5.0",
            "_view_count": null,
            "_view_module_version": "1.2.0",
            "_model_module": "@jupyter-widgets/controls"
          }
        },
        "e8f62fec222d451e8620bed3f686d2be": {
          "model_module": "@jupyter-widgets/base",
          "model_name": "LayoutModel",
          "model_module_version": "1.2.0",
          "state": {
            "_view_name": "LayoutView",
            "grid_template_rows": null,
            "right": null,
            "justify_content": null,
            "_view_module": "@jupyter-widgets/base",
            "overflow": null,
            "_model_module_version": "1.2.0",
            "_view_count": null,
            "flex_flow": null,
            "width": "auto",
            "min_width": null,
            "border": null,
            "align_items": null,
            "bottom": null,
            "_model_module": "@jupyter-widgets/base",
            "top": null,
            "grid_column": null,
            "overflow_y": null,
            "overflow_x": null,
            "grid_auto_flow": null,
            "grid_area": "dircontent",
            "grid_template_columns": null,
            "flex": null,
            "_model_name": "LayoutModel",
            "justify_items": null,
            "grid_row": null,
            "max_height": null,
            "align_content": null,
            "visibility": null,
            "align_self": null,
            "height": null,
            "min_height": null,
            "padding": null,
            "grid_auto_rows": null,
            "grid_gap": null,
            "max_width": null,
            "order": null,
            "_view_module_version": "1.2.0",
            "grid_template_areas": null,
            "object_position": null,
            "object_fit": null,
            "grid_auto_columns": null,
            "margin": null,
            "display": null,
            "left": null
          }
        },
        "d292d78a2def4377b62fa47506a6511f": {
          "model_module": "@jupyter-widgets/controls",
          "model_name": "ButtonStyleModel",
          "model_module_version": "1.5.0",
          "state": {
            "_view_name": "StyleView",
            "_model_name": "ButtonStyleModel",
            "_view_module": "@jupyter-widgets/base",
            "_model_module_version": "1.5.0",
            "_view_count": null,
            "button_color": null,
            "font_weight": "",
            "_view_module_version": "1.2.0",
            "_model_module": "@jupyter-widgets/controls"
          }
        },
        "696bfd5c885b4ef2b23f54f481dc9a39": {
          "model_module": "@jupyter-widgets/base",
          "model_name": "LayoutModel",
          "model_module_version": "1.2.0",
          "state": {
            "_view_name": "LayoutView",
            "grid_template_rows": null,
            "right": null,
            "justify_content": null,
            "_view_module": "@jupyter-widgets/base",
            "overflow": null,
            "_model_module_version": "1.2.0",
            "_view_count": null,
            "flex_flow": null,
            "width": "6em",
            "min_width": "6em",
            "border": null,
            "align_items": null,
            "bottom": null,
            "_model_module": "@jupyter-widgets/base",
            "top": null,
            "grid_column": null,
            "overflow_y": null,
            "overflow_x": null,
            "grid_auto_flow": null,
            "grid_area": null,
            "grid_template_columns": null,
            "flex": null,
            "_model_name": "LayoutModel",
            "justify_items": null,
            "grid_row": null,
            "max_height": null,
            "align_content": null,
            "visibility": null,
            "align_self": null,
            "height": null,
            "min_height": null,
            "padding": null,
            "grid_auto_rows": null,
            "grid_gap": null,
            "max_width": null,
            "order": null,
            "_view_module_version": "1.2.0",
            "grid_template_areas": null,
            "object_position": null,
            "object_fit": null,
            "grid_auto_columns": null,
            "margin": null,
            "display": null,
            "left": null
          }
        },
        "8a2c84d2459d427ea756c4b328a5752a": {
          "model_module": "@jupyter-widgets/controls",
          "model_name": "ButtonStyleModel",
          "model_module_version": "1.5.0",
          "state": {
            "_view_name": "StyleView",
            "_model_name": "ButtonStyleModel",
            "_view_module": "@jupyter-widgets/base",
            "_model_module_version": "1.5.0",
            "_view_count": null,
            "button_color": null,
            "font_weight": "",
            "_view_module_version": "1.2.0",
            "_model_module": "@jupyter-widgets/controls"
          }
        },
        "af9deabd7ac9404498c6fb70962bc202": {
          "model_module": "@jupyter-widgets/base",
          "model_name": "LayoutModel",
          "model_module_version": "1.2.0",
          "state": {
            "_view_name": "LayoutView",
            "grid_template_rows": null,
            "right": null,
            "justify_content": null,
            "_view_module": "@jupyter-widgets/base",
            "overflow": null,
            "_model_module_version": "1.2.0",
            "_view_count": null,
            "flex_flow": null,
            "width": "6em",
            "min_width": "6em",
            "border": null,
            "align_items": null,
            "bottom": null,
            "_model_module": "@jupyter-widgets/base",
            "top": null,
            "grid_column": null,
            "overflow_y": null,
            "overflow_x": null,
            "grid_auto_flow": null,
            "grid_area": null,
            "grid_template_columns": null,
            "flex": null,
            "_model_name": "LayoutModel",
            "justify_items": null,
            "grid_row": null,
            "max_height": null,
            "align_content": null,
            "visibility": null,
            "align_self": null,
            "height": null,
            "min_height": null,
            "padding": null,
            "grid_auto_rows": null,
            "grid_gap": null,
            "max_width": null,
            "order": null,
            "_view_module_version": "1.2.0",
            "grid_template_areas": null,
            "object_position": null,
            "object_fit": null,
            "grid_auto_columns": null,
            "margin": null,
            "display": "none",
            "left": null
          }
        },
        "5acbfcf8ba4146dfaab238d3bcfe7bb6": {
          "model_module": "@jupyter-widgets/base",
          "model_name": "LayoutModel",
          "model_module_version": "1.2.0",
          "state": {
            "_view_name": "LayoutView",
            "grid_template_rows": null,
            "right": null,
            "justify_content": null,
            "_view_module": "@jupyter-widgets/base",
            "overflow": "auto",
            "_model_module_version": "1.2.0",
            "_view_count": null,
            "flex_flow": null,
            "width": null,
            "min_width": null,
            "border": null,
            "align_items": null,
            "bottom": null,
            "_model_module": "@jupyter-widgets/base",
            "top": null,
            "grid_column": null,
            "overflow_y": null,
            "overflow_x": null,
            "grid_auto_flow": null,
            "grid_area": null,
            "grid_template_columns": null,
            "flex": null,
            "_model_name": "LayoutModel",
            "justify_items": null,
            "grid_row": null,
            "max_height": null,
            "align_content": null,
            "visibility": null,
            "align_self": null,
            "height": null,
            "min_height": null,
            "padding": null,
            "grid_auto_rows": null,
            "grid_gap": null,
            "max_width": null,
            "order": null,
            "_view_module_version": "1.2.0",
            "grid_template_areas": null,
            "object_position": null,
            "object_fit": null,
            "grid_auto_columns": null,
            "margin": null,
            "display": null,
            "left": null
          }
        },
        "ac73f9d9921f4f2dbfcd2350211fe6a5": {
          "model_module": "@jupyter-widgets/controls",
          "model_name": "HTMLModel",
          "model_module_version": "1.5.0",
          "state": {
            "_view_name": "HTMLView",
            "style": "IPY_MODEL_ee9f1df705904ddb8ad4f0bf0a0f1dd2",
            "_dom_classes": [],
            "description": "",
            "_model_name": "HTMLModel",
            "placeholder": "",
            "_view_module": "@jupyter-widgets/controls",
            "_model_module_version": "1.5.0",
            "value": "<span style=\"color:black;\">No selection</span>",
            "_view_count": null,
            "_view_module_version": "1.5.0",
            "description_tooltip": null,
            "_model_module": "@jupyter-widgets/controls",
            "layout": "IPY_MODEL_15d1de2448e34f6093591b3353d21a7d"
          }
        },
        "0885d853dadb4c85bf24dbba81a66999": {
          "model_module": "@jupyter-widgets/controls",
          "model_name": "DescriptionStyleModel",
          "model_module_version": "1.5.0",
          "state": {
            "_view_name": "StyleView",
            "_model_name": "DescriptionStyleModel",
            "description_width": "initial",
            "_view_module": "@jupyter-widgets/base",
            "_model_module_version": "1.5.0",
            "_view_count": null,
            "_view_module_version": "1.2.0",
            "_model_module": "@jupyter-widgets/controls"
          }
        },
        "210a9b5af0ad425aa9901899d860fadb": {
          "model_module": "@jupyter-widgets/base",
          "model_name": "LayoutModel",
          "model_module_version": "1.2.0",
          "state": {
            "_view_name": "LayoutView",
            "grid_template_rows": null,
            "right": null,
            "justify_content": null,
            "_view_module": "@jupyter-widgets/base",
            "overflow": null,
            "_model_module_version": "1.2.0",
            "_view_count": null,
            "flex_flow": null,
            "width": null,
            "min_width": null,
            "border": null,
            "align_items": null,
            "bottom": null,
            "_model_module": "@jupyter-widgets/base",
            "top": null,
            "grid_column": null,
            "overflow_y": null,
            "overflow_x": null,
            "grid_auto_flow": null,
            "grid_area": null,
            "grid_template_columns": null,
            "flex": null,
            "_model_name": "LayoutModel",
            "justify_items": null,
            "grid_row": null,
            "max_height": null,
            "align_content": null,
            "visibility": null,
            "align_self": null,
            "height": null,
            "min_height": null,
            "padding": null,
            "grid_auto_rows": null,
            "grid_gap": null,
            "max_width": null,
            "order": null,
            "_view_module_version": "1.2.0",
            "grid_template_areas": null,
            "object_position": null,
            "object_fit": null,
            "grid_auto_columns": null,
            "margin": null,
            "display": null,
            "left": null
          }
        },
        "b6df9440746743c2b62a28ad931b8763": {
          "model_module": "@jupyter-widgets/controls",
          "model_name": "DescriptionStyleModel",
          "model_module_version": "1.5.0",
          "state": {
            "_view_name": "StyleView",
            "_model_name": "DescriptionStyleModel",
            "description_width": "initial",
            "_view_module": "@jupyter-widgets/base",
            "_model_module_version": "1.5.0",
            "_view_count": null,
            "_view_module_version": "1.2.0",
            "_model_module": "@jupyter-widgets/controls"
          }
        },
        "eb99f63ba4024c45b2b7945afd88cfe5": {
          "model_module": "@jupyter-widgets/base",
          "model_name": "LayoutModel",
          "model_module_version": "1.2.0",
          "state": {
            "_view_name": "LayoutView",
            "grid_template_rows": null,
            "right": null,
            "justify_content": null,
            "_view_module": "@jupyter-widgets/base",
            "overflow": null,
            "_model_module_version": "1.2.0",
            "_view_count": null,
            "flex_flow": null,
            "width": null,
            "min_width": null,
            "border": null,
            "align_items": null,
            "bottom": null,
            "_model_module": "@jupyter-widgets/base",
            "top": null,
            "grid_column": null,
            "overflow_y": null,
            "overflow_x": null,
            "grid_auto_flow": null,
            "grid_area": null,
            "grid_template_columns": null,
            "flex": null,
            "_model_name": "LayoutModel",
            "justify_items": null,
            "grid_row": null,
            "max_height": null,
            "align_content": null,
            "visibility": null,
            "align_self": null,
            "height": null,
            "min_height": null,
            "padding": null,
            "grid_auto_rows": null,
            "grid_gap": null,
            "max_width": null,
            "order": null,
            "_view_module_version": "1.2.0",
            "grid_template_areas": null,
            "object_position": null,
            "object_fit": null,
            "grid_auto_columns": null,
            "margin": null,
            "display": null,
            "left": null
          }
        },
        "103ad96d02e74c00993b982f2312b917": {
          "model_module": "@jupyter-widgets/controls",
          "model_name": "DescriptionStyleModel",
          "model_module_version": "1.5.0",
          "state": {
            "_view_name": "StyleView",
            "_model_name": "DescriptionStyleModel",
            "description_width": "initial",
            "_view_module": "@jupyter-widgets/base",
            "_model_module_version": "1.5.0",
            "_view_count": null,
            "_view_module_version": "1.2.0",
            "_model_module": "@jupyter-widgets/controls"
          }
        },
        "d766400bd44d4e9abd4f8ceb7adc29ab": {
          "model_module": "@jupyter-widgets/base",
          "model_name": "LayoutModel",
          "model_module_version": "1.2.0",
          "state": {
            "_view_name": "LayoutView",
            "grid_template_rows": null,
            "right": null,
            "justify_content": null,
            "_view_module": "@jupyter-widgets/base",
            "overflow": null,
            "_model_module_version": "1.2.0",
            "_view_count": null,
            "flex_flow": null,
            "width": null,
            "min_width": null,
            "border": null,
            "align_items": null,
            "bottom": null,
            "_model_module": "@jupyter-widgets/base",
            "top": null,
            "grid_column": null,
            "overflow_y": null,
            "overflow_x": null,
            "grid_auto_flow": null,
            "grid_area": null,
            "grid_template_columns": null,
            "flex": null,
            "_model_name": "LayoutModel",
            "justify_items": null,
            "grid_row": null,
            "max_height": null,
            "align_content": null,
            "visibility": null,
            "align_self": null,
            "height": null,
            "min_height": null,
            "padding": null,
            "grid_auto_rows": null,
            "grid_gap": null,
            "max_width": null,
            "order": null,
            "_view_module_version": "1.2.0",
            "grid_template_areas": null,
            "object_position": null,
            "object_fit": null,
            "grid_auto_columns": null,
            "margin": null,
            "display": null,
            "left": null
          }
        },
        "9f4ead9f9215450db0fb5e558a5082f7": {
          "model_module": "@jupyter-widgets/controls",
          "model_name": "DescriptionStyleModel",
          "model_module_version": "1.5.0",
          "state": {
            "_view_name": "StyleView",
            "_model_name": "DescriptionStyleModel",
            "description_width": "",
            "_view_module": "@jupyter-widgets/base",
            "_model_module_version": "1.5.0",
            "_view_count": null,
            "_view_module_version": "1.2.0",
            "_model_module": "@jupyter-widgets/controls"
          }
        },
        "7602021a171f4adf8906fd0996b42320": {
          "model_module": "@jupyter-widgets/base",
          "model_name": "LayoutModel",
          "model_module_version": "1.2.0",
          "state": {
            "_view_name": "LayoutView",
            "grid_template_rows": null,
            "right": null,
            "justify_content": null,
            "_view_module": "@jupyter-widgets/base",
            "overflow": null,
            "_model_module_version": "1.2.0",
            "_view_count": null,
            "flex_flow": null,
            "width": null,
            "min_width": null,
            "border": null,
            "align_items": null,
            "bottom": null,
            "_model_module": "@jupyter-widgets/base",
            "top": null,
            "grid_column": null,
            "overflow_y": null,
            "overflow_x": null,
            "grid_auto_flow": null,
            "grid_area": null,
            "grid_template_columns": null,
            "flex": null,
            "_model_name": "LayoutModel",
            "justify_items": null,
            "grid_row": null,
            "max_height": null,
            "align_content": null,
            "visibility": null,
            "align_self": null,
            "height": null,
            "min_height": null,
            "padding": null,
            "grid_auto_rows": null,
            "grid_gap": null,
            "max_width": null,
            "order": null,
            "_view_module_version": "1.2.0",
            "grid_template_areas": null,
            "object_position": null,
            "object_fit": null,
            "grid_auto_columns": null,
            "margin": null,
            "display": null,
            "left": null
          }
        },
        "c311f55bf6774cd49fc1a4e51a80cb36": {
          "model_module": "@jupyter-widgets/controls",
          "model_name": "DescriptionStyleModel",
          "model_module_version": "1.5.0",
          "state": {
            "_view_name": "StyleView",
            "_model_name": "DescriptionStyleModel",
            "description_width": "initial",
            "_view_module": "@jupyter-widgets/base",
            "_model_module_version": "1.5.0",
            "_view_count": null,
            "_view_module_version": "1.2.0",
            "_model_module": "@jupyter-widgets/controls"
          }
        },
        "acd88175e0b146d4832318bdab9b39f8": {
          "model_module": "@jupyter-widgets/base",
          "model_name": "LayoutModel",
          "model_module_version": "1.2.0",
          "state": {
            "_view_name": "LayoutView",
            "grid_template_rows": null,
            "right": null,
            "justify_content": null,
            "_view_module": "@jupyter-widgets/base",
            "overflow": null,
            "_model_module_version": "1.2.0",
            "_view_count": null,
            "flex_flow": null,
            "width": null,
            "min_width": null,
            "border": null,
            "align_items": null,
            "bottom": null,
            "_model_module": "@jupyter-widgets/base",
            "top": null,
            "grid_column": null,
            "overflow_y": null,
            "overflow_x": null,
            "grid_auto_flow": null,
            "grid_area": null,
            "grid_template_columns": null,
            "flex": null,
            "_model_name": "LayoutModel",
            "justify_items": null,
            "grid_row": null,
            "max_height": null,
            "align_content": null,
            "visibility": null,
            "align_self": null,
            "height": null,
            "min_height": null,
            "padding": null,
            "grid_auto_rows": null,
            "grid_gap": null,
            "max_width": null,
            "order": null,
            "_view_module_version": "1.2.0",
            "grid_template_areas": null,
            "object_position": null,
            "object_fit": null,
            "grid_auto_columns": null,
            "margin": null,
            "display": null,
            "left": null
          }
        },
        "3218747e63dd400ba0bc6e948a2347f5": {
          "model_module": "@jupyter-widgets/controls",
          "model_name": "DescriptionStyleModel",
          "model_module_version": "1.5.0",
          "state": {
            "_view_name": "StyleView",
            "_model_name": "DescriptionStyleModel",
            "description_width": "initial",
            "_view_module": "@jupyter-widgets/base",
            "_model_module_version": "1.5.0",
            "_view_count": null,
            "_view_module_version": "1.2.0",
            "_model_module": "@jupyter-widgets/controls"
          }
        },
        "cc1a7b19db044005ae083c0ef695b53e": {
          "model_module": "@jupyter-widgets/base",
          "model_name": "LayoutModel",
          "model_module_version": "1.2.0",
          "state": {
            "_view_name": "LayoutView",
            "grid_template_rows": null,
            "right": null,
            "justify_content": null,
            "_view_module": "@jupyter-widgets/base",
            "overflow": null,
            "_model_module_version": "1.2.0",
            "_view_count": null,
            "flex_flow": null,
            "width": null,
            "min_width": null,
            "border": null,
            "align_items": null,
            "bottom": null,
            "_model_module": "@jupyter-widgets/base",
            "top": null,
            "grid_column": null,
            "overflow_y": null,
            "overflow_x": null,
            "grid_auto_flow": null,
            "grid_area": null,
            "grid_template_columns": null,
            "flex": null,
            "_model_name": "LayoutModel",
            "justify_items": null,
            "grid_row": null,
            "max_height": null,
            "align_content": null,
            "visibility": null,
            "align_self": null,
            "height": null,
            "min_height": null,
            "padding": null,
            "grid_auto_rows": null,
            "grid_gap": null,
            "max_width": null,
            "order": null,
            "_view_module_version": "1.2.0",
            "grid_template_areas": null,
            "object_position": null,
            "object_fit": null,
            "grid_auto_columns": null,
            "margin": null,
            "display": null,
            "left": null
          }
        },
        "ee9f1df705904ddb8ad4f0bf0a0f1dd2": {
          "model_module": "@jupyter-widgets/controls",
          "model_name": "DescriptionStyleModel",
          "model_module_version": "1.5.0",
          "state": {
            "_view_name": "StyleView",
            "_model_name": "DescriptionStyleModel",
            "description_width": "",
            "_view_module": "@jupyter-widgets/base",
            "_model_module_version": "1.5.0",
            "_view_count": null,
            "_view_module_version": "1.2.0",
            "_model_module": "@jupyter-widgets/controls"
          }
        },
        "15d1de2448e34f6093591b3353d21a7d": {
          "model_module": "@jupyter-widgets/base",
          "model_name": "LayoutModel",
          "model_module_version": "1.2.0",
          "state": {
            "_view_name": "LayoutView",
            "grid_template_rows": null,
            "right": null,
            "justify_content": null,
            "_view_module": "@jupyter-widgets/base",
            "overflow": null,
            "_model_module_version": "1.2.0",
            "_view_count": null,
            "flex_flow": null,
            "width": null,
            "min_width": null,
            "border": null,
            "align_items": null,
            "bottom": null,
            "_model_module": "@jupyter-widgets/base",
            "top": null,
            "grid_column": null,
            "overflow_y": null,
            "overflow_x": null,
            "grid_auto_flow": null,
            "grid_area": null,
            "grid_template_columns": null,
            "flex": null,
            "_model_name": "LayoutModel",
            "justify_items": null,
            "grid_row": null,
            "max_height": null,
            "align_content": null,
            "visibility": null,
            "align_self": null,
            "height": null,
            "min_height": null,
            "padding": null,
            "grid_auto_rows": null,
            "grid_gap": null,
            "max_width": null,
            "order": null,
            "_view_module_version": "1.2.0",
            "grid_template_areas": null,
            "object_position": null,
            "object_fit": null,
            "grid_auto_columns": null,
            "margin": "0 0 0 1em",
            "display": null,
            "left": null
          }
        }
      }
    }
  },
  "cells": [
    {
      "cell_type": "markdown",
      "metadata": {
        "id": "bd03d75a"
      },
      "source": [
        "# Part II: Tapqir analysis (Colab)\n",
        "\n",
        "This tutorial is a Jupyter notebook that illustrates steps involved in Tapqir analysis. To work with the live version of the notebook run it in Google Colab using the link above.\n",
        "\n",
        "**Note**: Jupyter notebook is a Python environment. It can also run shell commands with the ! sign prepended to the command (or sometimes % sign for jupyter [magic commands](https://ipython.readthedocs.io/en/stable/interactive/magics.html)).\n",
        "\n",
        "## Set up the environment\n",
        "\n",
        "* Change runtime to GPU (in the menu select `Runtime -> Change runtime type -> GPU`)\n",
        "* Connect Google Drive to be able to save the analysis output (to view Files & Folders click on a Folder icon on the left):"
      ],
      "id": "bd03d75a"
    },
    {
      "cell_type": "code",
      "metadata": {
        "colab": {
          "base_uri": "https://localhost:8080/"
        },
        "id": "DhA21mMtnYz3",
        "outputId": "a97186d7-4334-4063-f154-dddf0fcf442f"
      },
      "source": [
        "# Run this cell to connect to Google Drive\n",
        "from google.colab import drive\n",
        "\n",
        "drive.mount(\"/content/drive\")\n",
        "# change directory to MyDrive\n",
        "%cd drive/MyDrive/"
      ],
      "id": "DhA21mMtnYz3",
      "execution_count": null,
      "outputs": [
        {
          "output_type": "stream",
          "name": "stdout",
          "text": [
            "Mounted at /content/drive\n",
            "/content/drive/MyDrive\n"
          ]
        }
      ]
    },
    {
      "cell_type": "markdown",
      "metadata": {
        "id": "DkWlOQBBnrAB"
      },
      "source": [
        "* Run the cell below to install `tapqir` (takes about a minute):"
      ],
      "id": "DkWlOQBBnrAB"
    },
    {
      "cell_type": "code",
      "metadata": {
        "id": "dc0a79f0"
      },
      "source": [
        "!pip install git+https://github.com/gelles-brandeis/tapqir.git > install.log"
      ],
      "id": "dc0a79f0",
      "execution_count": null,
      "outputs": []
    },
    {
      "cell_type": "code",
      "source": [
        "!pip install ipyfilechooser"
      ],
      "metadata": {
        "id": "0yjtKaUv08Od",
        "outputId": "3408f393-f679-4a5e-e7d6-b549408ab6d2",
        "colab": {
          "base_uri": "https://localhost:8080/"
        }
      },
      "id": "0yjtKaUv08Od",
      "execution_count": 3,
      "outputs": [
        {
          "output_type": "stream",
          "name": "stdout",
          "text": [
            "Collecting ipyfilechooser\n",
            "  Downloading ipyfilechooser-0.6.0-py3-none-any.whl (11 kB)\n",
            "Requirement already satisfied: ipywidgets in /usr/local/lib/python3.7/dist-packages (from ipyfilechooser) (7.6.5)\n",
            "Requirement already satisfied: ipython-genutils~=0.2.0 in /usr/local/lib/python3.7/dist-packages (from ipywidgets->ipyfilechooser) (0.2.0)\n",
            "Requirement already satisfied: ipython>=4.0.0 in /usr/local/lib/python3.7/dist-packages (from ipywidgets->ipyfilechooser) (5.5.0)\n",
            "Requirement already satisfied: traitlets>=4.3.1 in /usr/local/lib/python3.7/dist-packages (from ipywidgets->ipyfilechooser) (5.1.1)\n",
            "Requirement already satisfied: ipykernel>=4.5.1 in /usr/local/lib/python3.7/dist-packages (from ipywidgets->ipyfilechooser) (4.10.1)\n",
            "Requirement already satisfied: widgetsnbextension~=3.5.0 in /usr/local/lib/python3.7/dist-packages (from ipywidgets->ipyfilechooser) (3.5.2)\n",
            "Requirement already satisfied: jupyterlab-widgets>=1.0.0 in /usr/local/lib/python3.7/dist-packages (from ipywidgets->ipyfilechooser) (1.0.2)\n",
            "Requirement already satisfied: nbformat>=4.2.0 in /usr/local/lib/python3.7/dist-packages (from ipywidgets->ipyfilechooser) (5.1.3)\n",
            "Requirement already satisfied: tornado>=4.0 in /usr/local/lib/python3.7/dist-packages (from ipykernel>=4.5.1->ipywidgets->ipyfilechooser) (5.1.1)\n",
            "Requirement already satisfied: jupyter-client in /usr/local/lib/python3.7/dist-packages (from ipykernel>=4.5.1->ipywidgets->ipyfilechooser) (5.3.5)\n",
            "Requirement already satisfied: pexpect in /usr/local/lib/python3.7/dist-packages (from ipython>=4.0.0->ipywidgets->ipyfilechooser) (4.8.0)\n",
            "Requirement already satisfied: prompt-toolkit<2.0.0,>=1.0.4 in /usr/local/lib/python3.7/dist-packages (from ipython>=4.0.0->ipywidgets->ipyfilechooser) (1.0.18)\n",
            "Requirement already satisfied: simplegeneric>0.8 in /usr/local/lib/python3.7/dist-packages (from ipython>=4.0.0->ipywidgets->ipyfilechooser) (0.8.1)\n",
            "Requirement already satisfied: decorator in /usr/local/lib/python3.7/dist-packages (from ipython>=4.0.0->ipywidgets->ipyfilechooser) (4.4.2)\n",
            "Requirement already satisfied: setuptools>=18.5 in /usr/local/lib/python3.7/dist-packages (from ipython>=4.0.0->ipywidgets->ipyfilechooser) (57.4.0)\n",
            "Requirement already satisfied: pygments in /usr/local/lib/python3.7/dist-packages (from ipython>=4.0.0->ipywidgets->ipyfilechooser) (2.6.1)\n",
            "Requirement already satisfied: pickleshare in /usr/local/lib/python3.7/dist-packages (from ipython>=4.0.0->ipywidgets->ipyfilechooser) (0.7.5)\n",
            "Requirement already satisfied: jsonschema!=2.5.0,>=2.4 in /usr/local/lib/python3.7/dist-packages (from nbformat>=4.2.0->ipywidgets->ipyfilechooser) (2.6.0)\n",
            "Requirement already satisfied: jupyter-core in /usr/local/lib/python3.7/dist-packages (from nbformat>=4.2.0->ipywidgets->ipyfilechooser) (4.9.1)\n",
            "Requirement already satisfied: six>=1.9.0 in /usr/local/lib/python3.7/dist-packages (from prompt-toolkit<2.0.0,>=1.0.4->ipython>=4.0.0->ipywidgets->ipyfilechooser) (1.15.0)\n",
            "Requirement already satisfied: wcwidth in /usr/local/lib/python3.7/dist-packages (from prompt-toolkit<2.0.0,>=1.0.4->ipython>=4.0.0->ipywidgets->ipyfilechooser) (0.2.5)\n",
            "Requirement already satisfied: notebook>=4.4.1 in /usr/local/lib/python3.7/dist-packages (from widgetsnbextension~=3.5.0->ipywidgets->ipyfilechooser) (5.3.1)\n",
            "Requirement already satisfied: Send2Trash in /usr/local/lib/python3.7/dist-packages (from notebook>=4.4.1->widgetsnbextension~=3.5.0->ipywidgets->ipyfilechooser) (1.8.0)\n",
            "Requirement already satisfied: nbconvert in /usr/local/lib/python3.7/dist-packages (from notebook>=4.4.1->widgetsnbextension~=3.5.0->ipywidgets->ipyfilechooser) (5.6.1)\n",
            "Requirement already satisfied: jinja2 in /usr/local/lib/python3.7/dist-packages (from notebook>=4.4.1->widgetsnbextension~=3.5.0->ipywidgets->ipyfilechooser) (2.11.3)\n",
            "Requirement already satisfied: terminado>=0.8.1 in /usr/local/lib/python3.7/dist-packages (from notebook>=4.4.1->widgetsnbextension~=3.5.0->ipywidgets->ipyfilechooser) (0.12.1)\n",
            "Requirement already satisfied: pyzmq>=13 in /usr/local/lib/python3.7/dist-packages (from jupyter-client->ipykernel>=4.5.1->ipywidgets->ipyfilechooser) (22.3.0)\n",
            "Requirement already satisfied: python-dateutil>=2.1 in /usr/local/lib/python3.7/dist-packages (from jupyter-client->ipykernel>=4.5.1->ipywidgets->ipyfilechooser) (2.8.2)\n",
            "Requirement already satisfied: ptyprocess in /usr/local/lib/python3.7/dist-packages (from terminado>=0.8.1->notebook>=4.4.1->widgetsnbextension~=3.5.0->ipywidgets->ipyfilechooser) (0.7.0)\n",
            "Requirement already satisfied: MarkupSafe>=0.23 in /usr/local/lib/python3.7/dist-packages (from jinja2->notebook>=4.4.1->widgetsnbextension~=3.5.0->ipywidgets->ipyfilechooser) (2.0.1)\n",
            "Requirement already satisfied: testpath in /usr/local/lib/python3.7/dist-packages (from nbconvert->notebook>=4.4.1->widgetsnbextension~=3.5.0->ipywidgets->ipyfilechooser) (0.5.0)\n",
            "Requirement already satisfied: bleach in /usr/local/lib/python3.7/dist-packages (from nbconvert->notebook>=4.4.1->widgetsnbextension~=3.5.0->ipywidgets->ipyfilechooser) (4.1.0)\n",
            "Requirement already satisfied: defusedxml in /usr/local/lib/python3.7/dist-packages (from nbconvert->notebook>=4.4.1->widgetsnbextension~=3.5.0->ipywidgets->ipyfilechooser) (0.7.1)\n",
            "Requirement already satisfied: mistune<2,>=0.8.1 in /usr/local/lib/python3.7/dist-packages (from nbconvert->notebook>=4.4.1->widgetsnbextension~=3.5.0->ipywidgets->ipyfilechooser) (0.8.4)\n",
            "Requirement already satisfied: pandocfilters>=1.4.1 in /usr/local/lib/python3.7/dist-packages (from nbconvert->notebook>=4.4.1->widgetsnbextension~=3.5.0->ipywidgets->ipyfilechooser) (1.5.0)\n",
            "Requirement already satisfied: entrypoints>=0.2.2 in /usr/local/lib/python3.7/dist-packages (from nbconvert->notebook>=4.4.1->widgetsnbextension~=3.5.0->ipywidgets->ipyfilechooser) (0.3)\n",
            "Requirement already satisfied: packaging in /usr/local/lib/python3.7/dist-packages (from bleach->nbconvert->notebook>=4.4.1->widgetsnbextension~=3.5.0->ipywidgets->ipyfilechooser) (21.3)\n",
            "Requirement already satisfied: webencodings in /usr/local/lib/python3.7/dist-packages (from bleach->nbconvert->notebook>=4.4.1->widgetsnbextension~=3.5.0->ipywidgets->ipyfilechooser) (0.5.1)\n",
            "Requirement already satisfied: pyparsing!=3.0.5,>=2.0.2 in /usr/local/lib/python3.7/dist-packages (from packaging->bleach->nbconvert->notebook>=4.4.1->widgetsnbextension~=3.5.0->ipywidgets->ipyfilechooser) (3.0.6)\n",
            "Installing collected packages: ipyfilechooser\n",
            "Successfully installed ipyfilechooser-0.6.0\n"
          ]
        }
      ]
    },
    {
      "cell_type": "code",
      "source": [
        "import ipywidgets as widgets\n",
        "\n",
        "from ipyfilechooser import FileChooser"
      ],
      "metadata": {
        "id": "d594t4Zb0kEz"
      },
      "id": "d594t4Zb0kEz",
      "execution_count": 4,
      "outputs": []
    },
    {
      "cell_type": "code",
      "source": [
        "def initUI():\n",
        "  layout = widgets.VBox()\n",
        "\n",
        "  # Create and display a FileChooser widget\n",
        "  cd = FileChooser('.')\n",
        "\n",
        "  tab = widgets.Tab()\n",
        "  glimpseLayout = glimpseUI()\n",
        "  tab.children = [glimpseLayout]\n",
        "  tab.set_title(0, \"Extract AOIs\")\n",
        "  layout.children = [cd, tab]\n",
        "  return layout\n",
        "\n",
        "def glimpseUI():\n",
        "  # Extract AOIs\n",
        "  layout = widgets.VBox()\n",
        "  # Dataset name\n",
        "  datasetName = widgets.Text(\n",
        "      description=\"Dataset name\",\n",
        "      style={\"description_width\": \"initial\"},\n",
        "  )\n",
        "  # AOI image size\n",
        "  aoiSize = widgets.IntText(\n",
        "      value=14,\n",
        "      description=\"AOI image size\",\n",
        "      style={\"description_width\": \"initial\"},\n",
        "      disabled=False\n",
        "  )\n",
        "  # Number of channels\n",
        "  numChannels = widgets.IntText(\n",
        "      value=1,\n",
        "      description=\"Number of color channels\",\n",
        "      style={\"description_width\": \"initial\"},\n",
        "      disabled=False\n",
        "  )\n",
        "  # Specify frame range?\n",
        "  specifyFrame = widgets.Checkbox(\n",
        "      value=False,\n",
        "      description=\"Specify frame range?\",\n",
        "      disabled=False,\n",
        "      indent=False\n",
        "  )\n",
        "  # First frame\n",
        "  firstFrame = widgets.IntText(\n",
        "      value=1,\n",
        "      description=\"First frame\",\n",
        "      style={\"description_width\": \"initial\"},\n",
        "      disabled=False\n",
        "  )\n",
        "  # Last frame\n",
        "  lastFrame = widgets.IntText(\n",
        "      value=2,\n",
        "      description=\"Last frame\",\n",
        "      style={\"description_width\": \"initial\"},\n",
        "      disabled=False\n",
        "  )\n",
        "  # Channel tabs\n",
        "  channelTabs = widgets.Tab()\n",
        "  # Layout\n",
        "  layout.children = [\n",
        "      datasetName,\n",
        "      aoiSize,\n",
        "      numChannels,\n",
        "      specifyFrame,\n",
        "      firstFrame,\n",
        "      lastFrame,\n",
        "  ]\n",
        "  return layout\n",
        "\n",
        "initUI()"
      ],
      "metadata": {
        "id": "KTHKCwg20weQ",
        "outputId": "68996d1e-c032-4d6a-f613-e753c94be5e3",
        "colab": {
          "base_uri": "https://localhost:8080/",
          "height": 305,
          "referenced_widgets": [
            "96fc2f5a73c945ae85e086928ad27ff4",
            "121f322807a54047856d903b686a0d44",
            "d663708d16eb4114bb35992e0fe5e278",
            "9aa036592d024602abdedc5a096da34d",
            "1980dea2aee74e36a0b6caf290162d7b",
            "d693cd48b3cb4f90a90175a4466a31b4",
            "c46a419d42e94680aca1783008d87aa0",
            "dece0bda9deb48efbe71ee9a143ef4c8",
            "20221419223b4caa82d4494742543cd8",
            "8c0daa14f0004998b9a3af629928fe3e",
            "db8320399dc64a7197c901be39665e33",
            "fbb5a71830874527afca9e93214bc24c",
            "a7d655c59f8d4d47924e169ae895aa1b",
            "5f824ee4659b4fc7b6c5fe7c08f08e6b",
            "29c98475b1554d7eb4439183930c8c97",
            "7547c06f019e46c2889e39d170aa7efe",
            "16169de0896b4d2caa30817a8659c45e",
            "195b2aba27264a188861968c911f0a6e",
            "dcf6cd4774864aac9d4c43acef142b16",
            "d7c08b9a3bc1405884655203de0bfd74",
            "e46bbe7c5dff45e9865e87ff8800076f",
            "d0c1b85154b8413bb97ac37f2f30d689",
            "4435697927034ab8a21a0cc2ed8b67d2",
            "1fc231fe4f6f45cbbecc0024058acc80",
            "1bcbed2f7a03478abc87f4456d68a4ae",
            "fd1b26f91a9e429cac67b5037994933d",
            "5e1191a8d0cd49159b670f7d01e38011",
            "508735e2821243a4b59105a8a93fa084",
            "f59b6d88887e4b7b947720a371cb2441",
            "3c3972015cdf41e1995f565fa5c47d80",
            "859caeb270d743a3afbc251f2d23c7b7",
            "a56cfb226e424461a4a584507d419d84",
            "e8f62fec222d451e8620bed3f686d2be",
            "d292d78a2def4377b62fa47506a6511f",
            "696bfd5c885b4ef2b23f54f481dc9a39",
            "8a2c84d2459d427ea756c4b328a5752a",
            "af9deabd7ac9404498c6fb70962bc202",
            "5acbfcf8ba4146dfaab238d3bcfe7bb6",
            "ac73f9d9921f4f2dbfcd2350211fe6a5",
            "0885d853dadb4c85bf24dbba81a66999",
            "210a9b5af0ad425aa9901899d860fadb",
            "b6df9440746743c2b62a28ad931b8763",
            "eb99f63ba4024c45b2b7945afd88cfe5",
            "103ad96d02e74c00993b982f2312b917",
            "d766400bd44d4e9abd4f8ceb7adc29ab",
            "9f4ead9f9215450db0fb5e558a5082f7",
            "7602021a171f4adf8906fd0996b42320",
            "c311f55bf6774cd49fc1a4e51a80cb36",
            "acd88175e0b146d4832318bdab9b39f8",
            "3218747e63dd400ba0bc6e948a2347f5",
            "cc1a7b19db044005ae083c0ef695b53e",
            "ee9f1df705904ddb8ad4f0bf0a0f1dd2",
            "15d1de2448e34f6093591b3353d21a7d"
          ]
        }
      },
      "id": "KTHKCwg20weQ",
      "execution_count": 23,
      "outputs": [
        {
          "output_type": "display_data",
          "data": {
            "application/vnd.jupyter.widget-view+json": {
              "model_id": "96fc2f5a73c945ae85e086928ad27ff4",
              "version_minor": 0,
              "version_major": 2
            },
            "text/plain": [
              "VBox(children=(FileChooser(path='/content', filename='', title='', show_hidden=False, select_desc='Select', ch…"
            ]
          },
          "metadata": {}
        }
      ]
    },
    {
      "cell_type": "markdown",
      "metadata": {
        "id": "4cf68ab1"
      },
      "source": [
        "## Initialize folder\n",
        "\n",
        "To start the analysis create an empty folder (here named `tutorial`), change directory to the newly created folder, and initialize it by running `tapqir init` inside the new folder:"
      ],
      "id": "4cf68ab1"
    },
    {
      "cell_type": "code",
      "metadata": {
        "id": "f4f1cbb8",
        "colab": {
          "base_uri": "https://localhost:8080/"
        },
        "outputId": "d9109718-16da-45ba-9f49-5d54ed55dbb8"
      },
      "source": [
        "# create a new directory\n",
        "%mkdir tutorial\n",
        "# change direcotry\n",
        "%cd tutorial\n",
        "# initialize tapqir\n",
        "!tapqir init"
      ],
      "id": "f4f1cbb8",
      "execution_count": null,
      "outputs": [
        {
          "output_type": "stream",
          "name": "stdout",
          "text": [
            "/content/drive/MyDrive/tutorial\n",
            "Initialized Tapqir in the working directory.\n",
            "\u001b[33m---------------------------------------------------------------\u001b[39m\n",
            "- Checkout the documentation: <\u001b[36mhttps://tapqir.readthedocs.io/\u001b[39m>\n",
            "- Get help on our forum: <\u001b[36mhttps://github.com/gelles-brandeis/tapqir/discussions\u001b[39m>\n"
          ]
        }
      ]
    },
    {
      "cell_type": "markdown",
      "metadata": {
        "id": "dqrzD3NKtiiV"
      },
      "source": [
        "`tapqir init` command has created a `.tapqir` sub-folder that will store internal files such as `config.yml` configuration file, `loginfo` logging file, and model checkpoints."
      ],
      "id": "dqrzD3NKtiiV"
    },
    {
      "cell_type": "code",
      "metadata": {
        "colab": {
          "base_uri": "https://localhost:8080/"
        },
        "id": "e2b55QXNt0sm",
        "outputId": "0a82015a-41a6-404c-a513-438b5745541f"
      },
      "source": [
        "# list all files (including hidden files)\n",
        "%ls -alh"
      ],
      "id": "e2b55QXNt0sm",
      "execution_count": null,
      "outputs": [
        {
          "output_type": "stream",
          "name": "stdout",
          "text": [
            "total 4.0K\n",
            "drwx------ 2 root root 4.0K Dec  5 21:40 \u001b[0m\u001b[01;34m.tapqir\u001b[0m/\n"
          ]
        }
      ]
    },
    {
      "cell_type": "markdown",
      "metadata": {
        "id": "6ab78be2"
      },
      "source": [
        "## Download input data\n",
        "\n",
        "This data was acquired with Glimpse and pre-processed with [imscroll](https://github.com/gelles-brandeis/CoSMoS_Analysis/wiki) program ([Friedman et al., 2015](https://dx.doi.org/10.1016/j.ymeth.2015.05.026)). Let’s download data files using [wget](https://www.gnu.org/software/wget/) and then unzip files:"
      ],
      "id": "6ab78be2"
    },
    {
      "cell_type": "markdown",
      "metadata": {
        "id": "a632239b"
      },
      "source": [
        "The raw input data are:\n",
        "\n",
        "* `garosen00267` - folder containing image data in glimpse format and header files\n",
        "* `green_DNA_locations.dat` - aoiinfo file designating target molecule (DNA) locations in the binder channel\n",
        "* `green_nonDNA_locations.dat` - aoiinfo file designating off-target (nonDNA) locations in the binder channel\n",
        "* `green_driftlist.dat` - driftlist file recording the stage movement that took place during the experiment"
      ],
      "id": "a632239b"
    },
    {
      "cell_type": "code",
      "metadata": {
        "id": "r8_jAWvimkFL"
      },
      "source": [
        "%%capture\n",
        "# Download and unzip raw input files\n",
        "!wget https://zenodo.org/record/5659927/files/DatasetA_glimpse.zip\n",
        "!unzip DatasetA_glimpse.zip && rm DatasetA_glimpse.zip"
      ],
      "id": "r8_jAWvimkFL",
      "execution_count": null,
      "outputs": []
    },
    {
      "cell_type": "markdown",
      "metadata": {
        "id": "Ecms7tBm9pFz"
      },
      "source": [
        "## Extract AOIs\n",
        "\n",
        "Extract AOIs from raw images using `tapqir glimpse` command which will run interactively:"
      ],
      "id": "Ecms7tBm9pFz"
    },
    {
      "cell_type": "code",
      "metadata": {
        "id": "AEGNFs5M-MVd",
        "colab": {
          "base_uri": "https://localhost:8080/"
        },
        "outputId": "71cb2d66-6aa3-40a3-8f64-ad1ef0415118"
      },
      "source": [
        "!tapqir glimpse"
      ],
      "id": "AEGNFs5M-MVd",
      "execution_count": null,
      "outputs": [
        {
          "output_type": "stream",
          "name": "stdout",
          "text": [
            "Dataset name [Rpb1SNAP549]: \n",
            "AOI image size - number of pixels along the axis [14]: \n",
            "Number of color channels [1]: \n",
            "Overwrite defaults values? [Y/n]: \n",
            "Specify frame range? [Y/n]: \n",
            "First frame to include in the analysis [1]: \n",
            "Last frame to include in the analysis [790]: \n",
            "\n",
            "INPUTS FOR CHANNEL #0\n",
            "\n",
            "Channel name [SNAP549]: \n",
            "Header/glimpse folder [/content/drive/MyDrive/tutorial/DatasetA_glimpse/garosen00267]: \n",
            "Target molecule locations file [/content/drive/MyDrive/tutorial/DatasetA_glimpse/green_DNA_locations.dat]: \n",
            "Add off-target AOI locations? [Y/n]: \n",
            "Off-target control locations file [/content/drive/MyDrive/tutorial/DatasetA_glimpse/green_nonDNA_locations.dat]: \n",
            "Driftlist file [/content/drive/MyDrive/tutorial/DatasetA_glimpse/green_driftlist.dat]: \n",
            "Extracting AOIs ...\n",
            "100% 790/790 [08:25<00:00,  1.56it/s]\n",
            "tcmalloc: large alloc 1112186880 bytes == 0x55ba2ae4e000 @  0x7fc0f410b887 0x7fbff627d150 0x7fbff628f5ba 0x7fbff6293c26 0x7fbff6293de2 0x7fbff690244a 0x7fbff675b83f 0x7fbff7fc5101 0x7fbff7fc5680 0x7fbff67c4dda 0x7fc09f15fd69 0x55b9a2653544 0x55b9a2653240 0x55b9a26c7627 0x55b9a26c19ee 0x55b9a2654bda 0x55b9a26c2915 0x55b9a26c19ee 0x55b9a2593e2b 0x55b9a26c3fe4 0x55b9a26c1ced 0x55b9a2593e2b 0x55b9a26c3fe4 0x55b9a26c1ced 0x55b9a2654bda 0x55b9a26c3737 0x55b9a26c1ced 0x55b9a2593e2b 0x55b9a26c3fe4 0x55b9a26c19ee 0x55b9a2593e2b\n",
            "INFO - Dataset: N=331 on-target AOIs, Nc=526 off-target AOIs, F=790 frames, C=1 channels, Px=14 pixels, Py=14 pixels\n",
            "INFO - Data is saved in /content/drive/MyDrive/tutorial/data.tpqr\n",
            "Extracting AOIs: Done\n"
          ]
        }
      ]
    },
    {
      "cell_type": "markdown",
      "metadata": {
        "id": "FvGPMMxL-Xf3"
      },
      "source": [
        "Above we specified\n",
        "\n",
        "* A dataset name (`Rpb1SNAP549`)\n",
        "* Size of AOI images (we recommend to use `14` pixels)\n",
        "* First and last frames included in the analysis (`1` and `790`). If starting and ending frames are not specified then the full range of frames from the driftlist file will be analyzed\n",
        "* The number of color channels (`1`)\n",
        "* Locations of input files for each color channel (only one color channel in this example)."
      ],
      "id": "FvGPMMxL-Xf3"
    },
    {
      "cell_type": "markdown",
      "metadata": {
        "id": "hKQspFUMtjui"
      },
      "source": [
        "> **About indexing**. In Python indexing starts with 0. We stick to this convention and index AOIs, frames, color channels, and pixels starting with 0. Note, however, that in the `tapqir glimpse` command above for frame numbers we used `1` and `790` which are according to Matlab indexing convention (in Matlab indexing starts with 1) since driftlist file was produced using the Matlab script."
      ],
      "id": "hKQspFUMtjui"
    },
    {
      "cell_type": "markdown",
      "metadata": {
        "id": "bgWLD68qsw4f"
      },
      "source": [
        "Great! The program has outputted `data.tpqr` file containing extracted AOI images (N=331 target and Nc=526 off-target control locations), the camera offset empirical distirbution sample values and their weights:"
      ],
      "id": "bgWLD68qsw4f"
    },
    {
      "cell_type": "code",
      "metadata": {
        "id": "d709b3f6",
        "colab": {
          "base_uri": "https://localhost:8080/"
        },
        "outputId": "47f6d557-15ff-4a6b-a548-d3325357c4cf"
      },
      "source": [
        "# list current folder content\n",
        "%ls"
      ],
      "id": "d709b3f6",
      "execution_count": null,
      "outputs": [
        {
          "output_type": "stream",
          "name": "stdout",
          "text": [
            "total 1.1G\n",
            "-rw------- 1 root root 1.1G Sep 20 22:06 data.tpqr\n",
            "drwx------ 3 root root 4.0K Aug 20 19:39 \u001b[0m\u001b[01;34mRpb1SNAP549_glimpse\u001b[0m/\n",
            "drwx------ 2 root root 4.0K Sep 20 22:06 \u001b[01;34m.tapqir\u001b[0m/\n"
          ]
        }
      ]
    },
    {
      "cell_type": "markdown",
      "metadata": {
        "id": "1xda8oFAph8m"
      },
      "source": [
        "Additionally, the program has saved\n",
        "\n",
        "* Image files (`ontarget-channel0.png` and `offtarget-channel0.png`) displaying locations of on-target and off-target AOIs in the first frame (make sure that AOIs are inside the FOV):\n",
        "\n",
        "  <img src=\"https://github.com/gelles-brandeis/tapqir/blob/latest/docs/source/tutorials/ontarget-channel0.png?raw=true\" width=\"700\" />\n",
        "  <img src=\"https://github.com/gelles-brandeis/tapqir/blob/latest/docs/source/tutorials/offtarget-channel0.png?raw=true\" width=\"700\" />\n",
        "\n",
        "* Location from the dark corner of the image (`offset-channel0.png`) used to create the offset empirical distribution (make sure that offset region is outside the FOV):\n",
        "\n",
        "  <img src=\"https://github.com/gelles-brandeis/tapqir/blob/latest/docs/source/tutorials/offset-channel0.png?raw=true\" width=\"700\" />\n",
        "\n",
        "* The intensity distribution histograms for offset and data from different channels (`offset-distribution.png`):\n",
        "\n",
        "  <img src=\"https://github.com/gelles-brandeis/tapqir/blob/latest/docs/source/tutorials/offset-distribution.png?raw=true\" width=\"300\" />\n",
        "\n",
        "* Offset median change (offset distribution shouldn’t drift over time) (`offset-medians.png`):\n",
        "\n",
        "  <img src=\"https://github.com/gelles-brandeis/tapqir/blob/latest/docs/source/tutorials/offset-medians.png?raw=true\" width=\"500\" />"
      ],
      "id": "1xda8oFAph8m"
    },
    {
      "cell_type": "markdown",
      "metadata": {
        "id": "2afb0202"
      },
      "source": [
        "## Fit the data\n",
        "\n",
        "Now the data is ready for analysis. We will fit the data to the time-independent `cosmos` model ([Ordabayev et al., 2021](https://doi.org/10.1101/2021.09.30.462536)):"
      ],
      "id": "2afb0202"
    },
    {
      "cell_type": "code",
      "metadata": {
        "id": "8763a5b5",
        "colab": {
          "base_uri": "https://localhost:8080/"
        },
        "outputId": "dadde83b-7e30-4469-868c-5aff5d578f87"
      },
      "source": [
        "!tapqir fit"
      ],
      "id": "8763a5b5",
      "execution_count": null,
      "outputs": [
        {
          "output_type": "stream",
          "name": "stdout",
          "text": [
            "Tapqir model (cosmos) [cosmos]: \n",
            "Channel numbers (space separated if multiple) [0]: \n",
            "Run computations on GPU? [Y/n]: \n",
            "AOI batch size [10]: \n",
            "Frame batch size [512]: \n",
            "Learning rate [0.005]: \n",
            "Number of iterations [0]: \n",
            "Save parameters in matlab format? [y/N]: \n",
            "Overwrite defaults values? [Y/n]: \n",
            "INFO - Iteration #87800. Loaded a model checkpoint from /content/drive/My Drive/tutorial/.tapqir\n",
            "Fitting the data ...\n",
            "  0% 0/100000 [00:00<?, ?it/s][pyKeOps] Initializing build folder for dtype=float64 and lang=torch in /root/.cache/pykeops-1.5-cpython-37 ... done.\n",
            "[pyKeOps] Compiling libKeOpstorchfc3462e783 in /root/.cache/pykeops-1.5-cpython-37:\n",
            "       formula: Max_SumShiftExp_Reduction(wj+Log(Step(xi-gj-IntCst(1)))+(ai-IntCst(1))*Log(IfElse(xi-gj-IntCst(1),xi-gj,xi))-bi*(xi-gj),0)\n",
            "       aliases: wj = Vj(0,1); gj = Vj(1,1); ai = Vi(2,1); bi = Vi(3,1); xi = Vi(4,1); \n",
            "       dtype  : float64\n",
            "... \n",
            "[pyKeOps] Compiling pybind11 template libKeOps_template_660bc304e8 in /root/.cache/pykeops-1.5-cpython-37 ... \u001b[33mCMake Warning (dev) at /usr/local/lib/python3.7/dist-packages/cmake/data/share/cmake-3.22/Modules/CMakeDependentOption.cmake:84 (message):\n",
            "  Policy CMP0127 is not set: cmake_dependent_option() supports full Condition\n",
            "  Syntax.  Run \"cmake --help-policy CMP0127\" for policy details.  Use the\n",
            "  cmake_policy command to set the policy and suppress this warning.\n",
            "Call Stack (most recent call first):\n",
            "  /usr/local/lib/python3.7/dist-packages/pykeops/pybind11/CMakeLists.txt:91 (cmake_dependent_option)\n",
            "This warning is for project developers.  Use -Wno-dev to suppress it.\n",
            "\u001b[0m\n",
            "done.\n",
            "Done.\n",
            "[pyKeOps] Compiling libKeOpstorchafd30232e9 in /root/.cache/pykeops-1.5-cpython-37:\n",
            "       formula: Grad_WithSavedForward(Max_SumShiftExp_Reduction(wj+Log(Step(xi-gj-IntCst(1)))+(ai-IntCst(1))*Log(IfElse(xi-gj-IntCst(1),xi-gj,xi))-bi*(xi-gj),0), Var(2,1,0), Var(5,2,0), Var(6,2,0))\n",
            "       aliases: wj = Vj(0,1); gj = Vj(1,1); ai = Vi(2,1); bi = Vi(3,1); xi = Vi(4,1); Var(5,2,0); Var(6,2,0); \n",
            "       dtype  : float64\n",
            "... \n",
            "Done.\n",
            "[pyKeOps] Compiling libKeOpstorchb078dba18d in /root/.cache/pykeops-1.5-cpython-37:\n",
            "       formula: Grad_WithSavedForward(Max_SumShiftExp_Reduction(wj+Log(Step(xi-gj-IntCst(1)))+(ai-IntCst(1))*Log(IfElse(xi-gj-IntCst(1),xi-gj,xi))-bi*(xi-gj),0), Var(3,1,0), Var(5,2,0), Var(6,2,0))\n",
            "       aliases: wj = Vj(0,1); gj = Vj(1,1); ai = Vi(2,1); bi = Vi(3,1); xi = Vi(4,1); Var(5,2,0); Var(6,2,0); \n",
            "       dtype  : float64\n",
            "... \n",
            "Done.\n",
            "  4% 4200/100000 [09:02<3:26:16,  7.74it/s]\n",
            "Fitting the data: Done\n",
            "Computing stats ...\n",
            "tcmalloc: large alloc 4246339584 bytes == 0x562b17a6e000 @  0x7f920641cb6b 0x7f920643c379 0x7f9102dd7cde 0x7f9102dd9452 0x7f9154a38ab9 0x7f9154a39817 0x7f9154e7bdc9 0x7f91555677b3 0x7f915559ebdf 0x7f9154a23c5b 0x7f9154a24fa3 0x7f9154a26675 0x7f9154bcaa1e 0x7f915558c263 0x7f915558c312 0x7f91552099a9 0x7f9156ce85f6 0x7f9156ce8c05 0x7f91552620df 0x7f91fe2ba025 0x7f91fe2babb6 0x562a0150e8d4 0x562a013f96f2 0x562a0143e7f0 0x562a014401f0 0x562a014e30b2 0x562a0146962d 0x562a014679ee 0x562a013fabda 0x562a01468915 0x562a013faafa\n",
            "tcmalloc: large alloc 4246339584 bytes == 0x562c14c0e000 @  0x7f920641cb6b 0x7f920643c379 0x7f9102dd7cde 0x7f9102dd9452 0x7f9154a38ab9 0x7f9154a39817 0x7f9154e7bdc9 0x7f91555677b3 0x7f91555a0fdf 0x7f9154a20dff 0x7f9154a24e4d 0x7f9154a2611a 0x7f9154d71a7d 0x7f915558ea4b 0x7f915558eaef 0x7f9155208904 0x7f9155208ff2 0x7f9156a8f15e 0x7f9156a8f7c2 0x7f9155243e2d 0x7f91fe2d920d 0x562a0150e8d4 0x562a014eb0cf 0x562a013fb698 0x562a01469fe4 0x562a01467ced 0x562a013fccfe 0x562a0143e7bf 0x562a0151cc45 0x562a014e35a3 0x562a0146a61f\n",
            "tcmalloc: large alloc 4246339584 bytes == 0x562b17a6e000 @  0x7f920641cb6b 0x7f920643c379 0x7f9102dd7cde 0x7f9102dd9452 0x7f9154a38ab9 0x7f9154a39817 0x7f9154e7bdc9 0x7f91555677b3 0x7f915559d9df 0x7f9154a20dff 0x7f9154a24e4d 0x7f9154a2611a 0x7f915558af03 0x7f915558af8c 0x7f91550f713f 0x7f91550f7f0e 0x7f9156a8c259 0x7f9156a8c63f 0x7f915512ee3d 0x7f91fe254712 0x562a0150e888 0x562a013f96f2 0x562a0143da10 0x562a0146ad4f 0x562a014679ee 0x562a013fabda 0x562a01468915 0x562a013faafa 0x562a01468915 0x562a014679ee 0x562a013fabda\n",
            "tcmalloc: large alloc 4246339584 bytes == 0x562c14c0e000 @  0x7f920641cb6b 0x7f920643c379 0x7f9102dd7cde 0x7f9102dd9452 0x7f9154a38ab9 0x7f9154a39817 0x7f9154e7bdc9 0x7f91555677b3 0x7f915559c6df 0x7f9154a23c5b 0x7f9154a24fa3 0x7f9154a26505 0x7f9155589b0b 0x7f9155589b9f 0x7f915548e1d4 0x7f915548e542 0x7f9156b03dd1 0x7f9156b04592 0x7f91554b94b6 0x7f91fe340ea5 0x7f91fe341a36 0x562a0150e8d4 0x562a013f96f2 0x562a0143e7f0 0x562a0143ff6c 0x562a013dc933 0x562a014e3496 0x562a0146a84a 0x562a014679ee 0x562a013fabda 0x562a01468915\n",
            "tcmalloc: large alloc 4246339584 bytes == 0x562b17a6e000 @  0x7f920641cb6b 0x7f920643c379 0x7f9102dd7cde 0x7f9102dd9452 0x7f9154a38ab9 0x7f9154a39817 0x7f9154e7bdc9 0x7f91555677b3 0x7f915559ebdf 0x7f9154a23c5b 0x7f9154a24fa3 0x7f9154a26675 0x7f9154bcaa1e 0x7f915558c263 0x7f915558c312 0x7f91552099a9 0x7f9156ce85f6 0x7f9156ce8c05 0x7f91552620df 0x7f91fe2ba025 0x7f91fe2babb6 0x562a0150e8d4 0x562a013f96f2 0x562a0143e7f0 0x562a014401f0 0x562a014e30b2 0x562a0146962d 0x562a014679ee 0x562a013fabda 0x562a01468915 0x562a013faafa\n",
            "tcmalloc: large alloc 4246339584 bytes == 0x562c14c0e000 @  0x7f920641cb6b 0x7f920643c379 0x7f9102dd7cde 0x7f9102dd9452 0x7f9154a38ab9 0x7f9154a39817 0x7f9154e7bdc9 0x7f91555677b3 0x7f915559ebdf 0x7f9154a23c5b 0x7f9154a24fa3 0x7f9154a26675 0x7f9154bcaa1e 0x7f915558c263 0x7f915558c312 0x7f91552099a9 0x7f9156ce85f6 0x7f9156ce8c05 0x7f91552620df 0x7f91fe2ba025 0x7f91fe2babb6 0x562a0150e8d4 0x562a013f96f2 0x562a0143e7f0 0x562a014401f0 0x562a014e3113 0x562a0146962d 0x562a014679ee 0x562a013fabda 0x562a01468915 0x562a013faafa\n",
            "Computing stats: Done\n"
          ]
        }
      ]
    },
    {
      "cell_type": "markdown",
      "metadata": {
        "id": "ivgI_w_d_xCB"
      },
      "source": [
        "Options that we selected:\n",
        "\n",
        "* Model - the default single-color time-independent model (`cosmos`).\n",
        "* Color channel number - first chanel (`0`) (there is only one color channel in this data)\n",
        "* Run computations on GPU: yes (`y`).\n",
        "* AOI batch size - use default (`10`).\n",
        "* Frame batch size - use default (`512`).\n",
        "* Learning rate - use default (`0.005`).\n",
        "* Number of iterations - use default (`0`)"
      ],
      "id": "ivgI_w_d_xCB"
    },
    {
      "cell_type": "markdown",
      "metadata": {
        "id": "cS3HizaduHaG"
      },
      "source": [
        "> **About batch size**. In theory, batch size should impact _training time_ and _memory consumption_, but not the _performance_. It can be optimized for a particular GPU hardware by trying different batch size values and comparing training time/memory usage (`nvidia-smi` shell command shows Memory-Usage and GPU-Util values). In particular, if there is a memory overflow you can decrease either frame batch size (e.g., to `128` or `256`) or AOI batch size (e.g., to `5`).\n",
        "\n",
        "> **About number of iterations**. Fitting the data requires many iterations (about 50,000-100,000) until parameters converge. Setting the number of iterations to 0 will run the program till Tapqir’s custom convergence criteria is satisfied. We recommend to set it to 0 (default) and then run for additional number of iterations if required. Convergence of global parameters can be visually checked using tensorboard."
      ],
      "id": "cS3HizaduHaG"
    },
    {
      "cell_type": "markdown",
      "metadata": {
        "id": "65ERuUNR5AMp"
      },
      "source": [
        "The program will save a checkpoint every 200 iterations (checkpoint is saved at `.tapqir/cosmos-channel0-model.tpqr`). Starting the program again will resume from the last saved checkpoint. The program can be stopped using `Ctrl-C`. At every checkpoint the values of global variational parameters (`-ELBO`, `gain_loc`, `proximity_loc`, `pi_mean`, `lamda_loc`) are also recorded for visualization by tensorboard. Plateaued plots signify convergence.\n",
        "\n",
        "After fitting is finished the program computes 95% credible intervals of model parameters and saves them in `cosmos-channel0-params.tqpr` and `cosmos-channel0-summary.csv` files."
      ],
      "id": "65ERuUNR5AMp"
    },
    {
      "cell_type": "markdown",
      "metadata": {
        "id": "c22dabbb"
      },
      "source": [
        "### Tensorboard\n",
        "\n",
        "To monitor fitting progress (variational parameters vs number of iterations) use tensorboard. [More](https://www.tensorflow.org/tensorboard/tensorboard_in_notebooks) on using tensorboard in notebooks. Run the program until `-ELBO`, `gain_loc`, `lamda_loc`, `pi_mean`, `proximity_loc` values converge."
      ],
      "id": "c22dabbb"
    },
    {
      "cell_type": "code",
      "metadata": {
        "id": "f2ae2b6b"
      },
      "source": [
        "%load_ext tensorboard"
      ],
      "id": "f2ae2b6b",
      "execution_count": null,
      "outputs": []
    },
    {
      "cell_type": "code",
      "metadata": {
        "id": "417245d3"
      },
      "source": [
        "%tensorboard --logdir ."
      ],
      "id": "417245d3",
      "execution_count": null,
      "outputs": []
    },
    {
      "cell_type": "markdown",
      "metadata": {
        "id": "o2Ou7aF2-Lou"
      },
      "source": [
        "For illustration purposes, below is a saved image of tensorboard output after all the runs above have completed. We can see that `-ELBO` is decreasing as expected. `gain_loc` went up and then down and then plateaued (converged).\n",
        "\n",
        "<img src=\"https://github.com/gelles-brandeis/tapqir/blob/latest/docs/source/tutorials/tensorboard.png?raw=true\" width=\"1200\" />"
      ],
      "id": "o2Ou7aF2-Lou"
    }
  ]
}