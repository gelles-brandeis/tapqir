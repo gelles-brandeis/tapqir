{
 "cells": [
  {
   "cell_type": "markdown",
   "metadata": {},
   "source": [
    "# Varying non-specific binding rate"
   ]
  },
  {
   "cell_type": "code",
   "execution_count": 3,
   "metadata": {},
   "outputs": [],
   "source": [
    "import numpy as np\n",
    "import pandas as pd\n",
    "import pyro\n",
    "import torch\n",
    "import matplotlib.pyplot as plt\n",
    "from collections import defaultdict\n",
    "from matplotlib.ticker import FormatStrFormatter\n",
    "from matplotlib.patches import Rectangle, Circle\n",
    "from pathlib import Path\n",
    "from tapqir.models import Cosmos"
   ]
  },
  {
   "cell_type": "markdown",
   "metadata": {},
   "source": [
    "## Load results"
   ]
  },
  {
   "cell_type": "code",
   "execution_count": 4,
   "metadata": {},
   "outputs": [],
   "source": [
    "EXAMLES_DIR = Path.cwd().resolve().parent.parent.parent / \"examples\" / \"data\""
   ]
  },
  {
   "cell_type": "code",
   "execution_count": 5,
   "metadata": {},
   "outputs": [],
   "source": [
    "truth = {}\n",
    "fit = {}\n",
    "predictions = defaultdict(dict)\n",
    "for data_path in EXAMLES_DIR.iterdir():\n",
    "    if data_path.is_dir() and data_path.name.startswith(\"lamda\"):\n",
    "        # load results\n",
    "        truth[data_path.name] = pd.read_csv(\n",
    "            data_path / \"simulated_params.csv\",\n",
    "            squeeze=True, index_col=0\n",
    "        ).rename(data_path.name)\n",
    "        \n",
    "        param_path = data_path / \"runs/cosmos/v1.1.6/S1/control/lr0.005/bs4/\"\n",
    "        \n",
    "        fit[data_path.name] = pd.read_csv(\n",
    "            param_path / \"statistics.csv\",\n",
    "            squeeze=True,\n",
    "            index_col=0\n",
    "        ).rename(data_path.name)\n",
    "        fit[data_path.name][\"lamda\"] = truth[data_path.name][\"lamda\"]\n",
    "        \n",
    "        model = Cosmos()\n",
    "        model.load(data_path, True, \"cpu\")\n",
    "        model.load_parameters(param_path)\n",
    "        mask = torch.from_numpy(model.data.labels[\"z\"])\n",
    "        samples = torch.masked_select(model.z_marginal, mask)\n",
    "        predictions[data_path.name][\"z_masked\"] = samples\n",
    "        predictions[data_path.name][\"z_all\"] = model.z_marginal.flatten()"
   ]
  },
  {
   "cell_type": "code",
   "execution_count": 11,
   "metadata": {},
   "outputs": [
    {
     "data": {
      "text/html": [
       "<div>\n",
       "<style scoped>\n",
       "    .dataframe tbody tr th:only-of-type {\n",
       "        vertical-align: middle;\n",
       "    }\n",
       "\n",
       "    .dataframe tbody tr th {\n",
       "        vertical-align: top;\n",
       "    }\n",
       "\n",
       "    .dataframe thead th {\n",
       "        text-align: right;\n",
       "    }\n",
       "</style>\n",
       "<table border=\"1\" class=\"dataframe\">\n",
       "  <thead>\n",
       "    <tr style=\"text-align: right;\">\n",
       "      <th></th>\n",
       "      <th>width</th>\n",
       "      <th>gain</th>\n",
       "      <th>pi</th>\n",
       "      <th>lamda</th>\n",
       "      <th>proximity</th>\n",
       "      <th>offset</th>\n",
       "      <th>height</th>\n",
       "      <th>background</th>\n",
       "      <th>snr</th>\n",
       "    </tr>\n",
       "  </thead>\n",
       "  <tbody>\n",
       "    <tr>\n",
       "      <th>lamda0.01</th>\n",
       "      <td>1.4</td>\n",
       "      <td>7.0</td>\n",
       "      <td>0.15</td>\n",
       "      <td>0.01</td>\n",
       "      <td>0.2</td>\n",
       "      <td>90.0</td>\n",
       "      <td>3000.0</td>\n",
       "      <td>150.0</td>\n",
       "      <td>3.758899</td>\n",
       "    </tr>\n",
       "    <tr>\n",
       "      <th>lamda0.05</th>\n",
       "      <td>1.4</td>\n",
       "      <td>7.0</td>\n",
       "      <td>0.15</td>\n",
       "      <td>0.05</td>\n",
       "      <td>0.2</td>\n",
       "      <td>90.0</td>\n",
       "      <td>3000.0</td>\n",
       "      <td>150.0</td>\n",
       "      <td>3.758899</td>\n",
       "    </tr>\n",
       "    <tr>\n",
       "      <th>lamda0.15</th>\n",
       "      <td>1.4</td>\n",
       "      <td>7.0</td>\n",
       "      <td>0.15</td>\n",
       "      <td>0.15</td>\n",
       "      <td>0.2</td>\n",
       "      <td>90.0</td>\n",
       "      <td>3000.0</td>\n",
       "      <td>150.0</td>\n",
       "      <td>3.758899</td>\n",
       "    </tr>\n",
       "    <tr>\n",
       "      <th>lamda0.5</th>\n",
       "      <td>1.4</td>\n",
       "      <td>7.0</td>\n",
       "      <td>0.15</td>\n",
       "      <td>0.50</td>\n",
       "      <td>0.2</td>\n",
       "      <td>90.0</td>\n",
       "      <td>3000.0</td>\n",
       "      <td>150.0</td>\n",
       "      <td>3.758899</td>\n",
       "    </tr>\n",
       "    <tr>\n",
       "      <th>lamda1</th>\n",
       "      <td>1.4</td>\n",
       "      <td>7.0</td>\n",
       "      <td>0.15</td>\n",
       "      <td>1.00</td>\n",
       "      <td>0.2</td>\n",
       "      <td>90.0</td>\n",
       "      <td>3000.0</td>\n",
       "      <td>150.0</td>\n",
       "      <td>3.758899</td>\n",
       "    </tr>\n",
       "  </tbody>\n",
       "</table>\n",
       "</div>"
      ],
      "text/plain": [
       "           width  gain    pi  lamda  proximity  offset  height  background  \\\n",
       "lamda0.01    1.4   7.0  0.15   0.01        0.2    90.0  3000.0       150.0   \n",
       "lamda0.05    1.4   7.0  0.15   0.05        0.2    90.0  3000.0       150.0   \n",
       "lamda0.15    1.4   7.0  0.15   0.15        0.2    90.0  3000.0       150.0   \n",
       "lamda0.5     1.4   7.0  0.15   0.50        0.2    90.0  3000.0       150.0   \n",
       "lamda1       1.4   7.0  0.15   1.00        0.2    90.0  3000.0       150.0   \n",
       "\n",
       "                snr  \n",
       "lamda0.01  3.758899  \n",
       "lamda0.05  3.758899  \n",
       "lamda0.15  3.758899  \n",
       "lamda0.5   3.758899  \n",
       "lamda1     3.758899  "
      ]
     },
     "execution_count": 11,
     "metadata": {},
     "output_type": "execute_result"
    }
   ],
   "source": [
    "truth_df = pd.concat(truth.values(), axis=1).T.sort_values(by=\"lamda\").astype(float)\n",
    "truth_df"
   ]
  },
  {
   "cell_type": "code",
   "execution_count": 12,
   "metadata": {},
   "outputs": [
    {
     "data": {
      "text/plain": [
       "lamda0.01    True\n",
       "lamda0.05    True\n",
       "lamda0.15    True\n",
       "lamda0.5     True\n",
       "lamda1       True\n",
       "Name: marginal, dtype: object"
      ]
     },
     "execution_count": 12,
     "metadata": {},
     "output_type": "execute_result"
    }
   ],
   "source": [
    "fit_df = pd.concat(fit.values(), axis=1).T.sort_values(by=\"lamda\")\n",
    "fit_df[\"marginal\"]"
   ]
  },
  {
   "cell_type": "code",
   "execution_count": 13,
   "metadata": {},
   "outputs": [
    {
     "data": {
      "text/plain": [
       "lamda0.01    True\n",
       "lamda0.05    True\n",
       "lamda0.15    True\n",
       "lamda0.5     True\n",
       "lamda1       True\n",
       "Name: classifier, dtype: object"
      ]
     },
     "execution_count": 13,
     "metadata": {},
     "output_type": "execute_result"
    }
   ],
   "source": [
    "fit_df[\"classifier\"]"
   ]
  },
  {
   "cell_type": "code",
   "execution_count": 17,
   "metadata": {},
   "outputs": [
    {
     "data": {
      "text/plain": [
       "lamda0.01    0.197120\n",
       "lamda0.05    0.192259\n",
       "lamda0.15    0.204713\n",
       "lamda0.5     0.213073\n",
       "lamda1       0.209150\n",
       "Name: proximity_mean, dtype: float64"
      ]
     },
     "execution_count": 17,
     "metadata": {},
     "output_type": "execute_result"
    }
   ],
   "source": [
    "fit_df[\"proximity_mean\"]"
   ]
  },
  {
   "cell_type": "code",
   "execution_count": 14,
   "metadata": {},
   "outputs": [
    {
     "data": {
      "text/html": [
       "<div>\n",
       "<style scoped>\n",
       "    .dataframe tbody tr th:only-of-type {\n",
       "        vertical-align: middle;\n",
       "    }\n",
       "\n",
       "    .dataframe tbody tr th {\n",
       "        vertical-align: top;\n",
       "    }\n",
       "\n",
       "    .dataframe thead th {\n",
       "        text-align: right;\n",
       "    }\n",
       "</style>\n",
       "<table border=\"1\" class=\"dataframe\">\n",
       "  <thead>\n",
       "    <tr style=\"text-align: right;\">\n",
       "      <th></th>\n",
       "      <th>snr</th>\n",
       "      <th>gain_mean</th>\n",
       "      <th>gain_ll</th>\n",
       "      <th>gain_ul</th>\n",
       "      <th>pi_mean</th>\n",
       "      <th>pi_ll</th>\n",
       "      <th>pi_ul</th>\n",
       "      <th>lamda_mean</th>\n",
       "      <th>lamda_ll</th>\n",
       "      <th>lamda_ul</th>\n",
       "      <th>...</th>\n",
       "      <th>Recall</th>\n",
       "      <th>Precision</th>\n",
       "      <th>TN</th>\n",
       "      <th>FP</th>\n",
       "      <th>FN</th>\n",
       "      <th>TP</th>\n",
       "      <th>z_median</th>\n",
       "      <th>z_ll</th>\n",
       "      <th>z_ul</th>\n",
       "      <th>lamda</th>\n",
       "    </tr>\n",
       "  </thead>\n",
       "  <tbody>\n",
       "    <tr>\n",
       "      <th>lamda0.01</th>\n",
       "      <td>3.740959</td>\n",
       "      <td>7.003331</td>\n",
       "      <td>7.003331</td>\n",
       "      <td>7.003331</td>\n",
       "      <td>0.146225</td>\n",
       "      <td>0.146225</td>\n",
       "      <td>0.146225</td>\n",
       "      <td>0.011004</td>\n",
       "      <td>0.011004</td>\n",
       "      <td>0.011004</td>\n",
       "      <td>...</td>\n",
       "      <td>1.000000</td>\n",
       "      <td>1.000000</td>\n",
       "      <td>2142.0</td>\n",
       "      <td>0.0</td>\n",
       "      <td>0.0</td>\n",
       "      <td>358.0</td>\n",
       "      <td>0.999849</td>\n",
       "      <td>0.999711</td>\n",
       "      <td>0.999895</td>\n",
       "      <td>0.01</td>\n",
       "    </tr>\n",
       "    <tr>\n",
       "      <th>lamda0.05</th>\n",
       "      <td>3.748954</td>\n",
       "      <td>6.995525</td>\n",
       "      <td>6.995525</td>\n",
       "      <td>6.995525</td>\n",
       "      <td>0.145051</td>\n",
       "      <td>0.145051</td>\n",
       "      <td>0.145051</td>\n",
       "      <td>0.051432</td>\n",
       "      <td>0.051432</td>\n",
       "      <td>0.051432</td>\n",
       "      <td>...</td>\n",
       "      <td>0.986034</td>\n",
       "      <td>0.994366</td>\n",
       "      <td>2140.0</td>\n",
       "      <td>2.0</td>\n",
       "      <td>5.0</td>\n",
       "      <td>353.0</td>\n",
       "      <td>0.999297</td>\n",
       "      <td>0.998651</td>\n",
       "      <td>0.999506</td>\n",
       "      <td>0.05</td>\n",
       "    </tr>\n",
       "    <tr>\n",
       "      <th>lamda0.15</th>\n",
       "      <td>3.767562</td>\n",
       "      <td>6.999659</td>\n",
       "      <td>6.999659</td>\n",
       "      <td>6.999659</td>\n",
       "      <td>0.147087</td>\n",
       "      <td>0.147087</td>\n",
       "      <td>0.147087</td>\n",
       "      <td>0.136816</td>\n",
       "      <td>0.136816</td>\n",
       "      <td>0.136816</td>\n",
       "      <td>...</td>\n",
       "      <td>0.977654</td>\n",
       "      <td>0.980392</td>\n",
       "      <td>2135.0</td>\n",
       "      <td>7.0</td>\n",
       "      <td>8.0</td>\n",
       "      <td>350.0</td>\n",
       "      <td>0.997925</td>\n",
       "      <td>0.995820</td>\n",
       "      <td>0.998526</td>\n",
       "      <td>0.15</td>\n",
       "    </tr>\n",
       "    <tr>\n",
       "      <th>lamda0.5</th>\n",
       "      <td>3.807789</td>\n",
       "      <td>7.030880</td>\n",
       "      <td>7.030880</td>\n",
       "      <td>7.030880</td>\n",
       "      <td>0.141167</td>\n",
       "      <td>0.141167</td>\n",
       "      <td>0.141167</td>\n",
       "      <td>0.492269</td>\n",
       "      <td>0.492269</td>\n",
       "      <td>0.492269</td>\n",
       "      <td>...</td>\n",
       "      <td>0.949721</td>\n",
       "      <td>0.965909</td>\n",
       "      <td>2130.0</td>\n",
       "      <td>12.0</td>\n",
       "      <td>18.0</td>\n",
       "      <td>340.0</td>\n",
       "      <td>0.992178</td>\n",
       "      <td>0.981530</td>\n",
       "      <td>0.995503</td>\n",
       "      <td>0.50</td>\n",
       "    </tr>\n",
       "    <tr>\n",
       "      <th>lamda1</th>\n",
       "      <td>3.837327</td>\n",
       "      <td>7.041692</td>\n",
       "      <td>7.041692</td>\n",
       "      <td>7.041692</td>\n",
       "      <td>0.134233</td>\n",
       "      <td>0.134233</td>\n",
       "      <td>0.134233</td>\n",
       "      <td>0.974017</td>\n",
       "      <td>0.974017</td>\n",
       "      <td>0.974017</td>\n",
       "      <td>...</td>\n",
       "      <td>0.910615</td>\n",
       "      <td>0.953216</td>\n",
       "      <td>2126.0</td>\n",
       "      <td>16.0</td>\n",
       "      <td>32.0</td>\n",
       "      <td>326.0</td>\n",
       "      <td>0.984635</td>\n",
       "      <td>0.957786</td>\n",
       "      <td>0.991965</td>\n",
       "      <td>1.00</td>\n",
       "    </tr>\n",
       "  </tbody>\n",
       "</table>\n",
       "<p>5 rows × 24 columns</p>\n",
       "</div>"
      ],
      "text/plain": [
       "                snr  gain_mean   gain_ll   gain_ul   pi_mean     pi_ll  \\\n",
       "lamda0.01  3.740959   7.003331  7.003331  7.003331  0.146225  0.146225   \n",
       "lamda0.05  3.748954   6.995525  6.995525  6.995525  0.145051  0.145051   \n",
       "lamda0.15  3.767562   6.999659  6.999659  6.999659  0.147087  0.147087   \n",
       "lamda0.5   3.807789   7.030880  7.030880  7.030880  0.141167  0.141167   \n",
       "lamda1     3.837327   7.041692  7.041692  7.041692  0.134233  0.134233   \n",
       "\n",
       "              pi_ul  lamda_mean  lamda_ll  lamda_ul  ...    Recall  Precision  \\\n",
       "lamda0.01  0.146225    0.011004  0.011004  0.011004  ...  1.000000   1.000000   \n",
       "lamda0.05  0.145051    0.051432  0.051432  0.051432  ...  0.986034   0.994366   \n",
       "lamda0.15  0.147087    0.136816  0.136816  0.136816  ...  0.977654   0.980392   \n",
       "lamda0.5   0.141167    0.492269  0.492269  0.492269  ...  0.949721   0.965909   \n",
       "lamda1     0.134233    0.974017  0.974017  0.974017  ...  0.910615   0.953216   \n",
       "\n",
       "               TN    FP    FN     TP  z_median      z_ll      z_ul  lamda  \n",
       "lamda0.01  2142.0   0.0   0.0  358.0  0.999849  0.999711  0.999895   0.01  \n",
       "lamda0.05  2140.0   2.0   5.0  353.0  0.999297  0.998651  0.999506   0.05  \n",
       "lamda0.15  2135.0   7.0   8.0  350.0  0.997925  0.995820  0.998526   0.15  \n",
       "lamda0.5   2130.0  12.0  18.0  340.0  0.992178  0.981530  0.995503   0.50  \n",
       "lamda1     2126.0  16.0  32.0  326.0  0.984635  0.957786  0.991965   1.00  \n",
       "\n",
       "[5 rows x 24 columns]"
      ]
     },
     "execution_count": 14,
     "metadata": {},
     "output_type": "execute_result"
    }
   ],
   "source": [
    "fit_df = fit_df.drop(columns=[\"marginal\", \"classifier\"]).astype(float)\n",
    "fit_df"
   ]
  },
  {
   "cell_type": "markdown",
   "metadata": {},
   "source": [
    "## Supplementary Data 3"
   ]
  },
  {
   "cell_type": "code",
   "execution_count": 10,
   "metadata": {},
   "outputs": [],
   "source": [
    "with pd.ExcelWriter(\"/home/ordabayev/repos/tapqir-overleaf/supplementary/data3/lamda.xlsx\") as writer:\n",
    "    truth_df.to_excel(writer, sheet_name=\"simulation\")\n",
    "    fit_df.to_excel(writer, sheet_name=\"fit\")"
   ]
  },
  {
   "cell_type": "markdown",
   "metadata": {},
   "source": [
    "## Figure 5"
   ]
  },
  {
   "cell_type": "code",
   "execution_count": 9,
   "metadata": {},
   "outputs": [
    {
     "data": {
      "image/png": "[encoded data removed]",
      "text/plain": [
       "<Figure size 90x90 with 1 Axes>"
      ]
     },
     "metadata": {
      "needs_background": "light"
     },
     "output_type": "display_data"
    },
    {
     "data": {
      "image/png": "[encoded data removed]",
      "text/plain": [
       "<Figure size 90x90 with 1 Axes>"
      ]
     },
     "metadata": {
      "needs_background": "light"
     },
     "output_type": "display_data"
    },
    {
     "data": {
      "image/png": "[encoded data removed]",
      "text/plain": [
       "<Figure size 90x90 with 1 Axes>"
      ]
     },
     "metadata": {
      "needs_background": "light"
     },
     "output_type": "display_data"
    },
    {
     "data": {
      "image/png": "[encoded data removed]",
      "text/plain": [
       "<Figure size 90x90 with 1 Axes>"
      ]
     },
     "metadata": {
      "needs_background": "light"
     },
     "output_type": "display_data"
    },
    {
     "data": {
      "image/png": "[encoded data removed]",
      "text/plain": [
       "<Figure size 90x90 with 1 Axes>"
      ]
     },
     "metadata": {
      "needs_background": "light"
     },
     "output_type": "display_data"
    }
   ],
   "source": [
    "for name in fit_df.index:\n",
    "    fig, ax = plt.subplots(figsize=(1.25, 1.25))\n",
    "    ax.hist(predictions[name][\"z_all\"].numpy(),\n",
    "             bins=np.arange(0, 1.05, 0.05), histtype=\"bar\", lw=1.,\n",
    "             color=\"#dddddd\", edgecolor=\"k\")\n",
    "    ax.hist(predictions[name][\"z_masked\"].numpy(),\n",
    "             bins=np.arange(0, 1.05, 0.05), histtype=\"bar\", lw=1.,\n",
    "             color=\"C2\", edgecolor=\"k\", alpha=0.6)\n",
    "    ax.set_yscale(\"log\")\n",
    "    ax.set_xlim(-0.05,1.05)\n",
    "    ax.set_ylim(1e-1, 5e3)\n",
    "    ax.set_xticks([0, 0.5, 1])\n",
    "    ax.tick_params(axis=\"x\", labelsize=8, top=True)\n",
    "    \n",
    "    if name == \"lamda0.01\":\n",
    "        ax.set_ylabel(\"Counts\", fontsize=8)\n",
    "        ax.set_yticks([1, 10, 100, 1000])\n",
    "        ax.tick_params(axis=\"y\", labelsize=8)\n",
    "    else:\n",
    "        ax.set_yticks([])\n",
    "        ax.tick_params(axis=\"y\", labelsize=8)\n",
    "    if name == \"lamda0.15\":\n",
    "        ax.set_xlabel(r\"$p(\\mathsf{specific})$\", fontsize=8)\n",
    "    ax.xaxis.set_major_formatter(FormatStrFormatter('%g'))\n",
    "    # plt.savefig(f\"/home/ordabayev/repos/tapqir-overleaf/figures/figure5/lamda{name}.svg\")\n",
    "    plt.show()"
   ]
  },
  {
   "cell_type": "code",
   "execution_count": 12,
   "metadata": {},
   "outputs": [
    {
     "data": {
      "image/png": "[encoded data removed]",
      "text/plain": [
       "<Figure size 90x90 with 1 Axes>"
      ]
     },
     "metadata": {
      "needs_background": "light"
     },
     "output_type": "display_data"
    }
   ],
   "source": [
    "fig, ax = plt.subplots(figsize=(1.25, 1.25))\n",
    "ax.errorbar(truth_df[\"lamda\"], fit_df[\"z_median\"],\n",
    "             yerr=abs(fit_df[[\"z_ll\", \"z_ul\"]].values.T-fit_df[\"z_median\"].values),\n",
    "             fmt=\"o-\", ms=3, color=\"k\", mfc=\"C2\", mec=\"C2\", ecolor=\"C2\", capsize=2)\n",
    "ax.set_xlim(0, 1.03)\n",
    "ax.set_ylim(0, 1.03)\n",
    "ax.set_xticks([0, 0.5, 1])\n",
    "ax.set_yticks([0, 0.5, 1])\n",
    "ax.tick_params(axis=\"x\", labelsize=8, top=True)\n",
    "ax.tick_params(axis=\"y\", labelsize=8, right=True)\n",
    "ax.set_xlabel(r\"$\\lambda$\", fontsize=8)\n",
    "ax.set_ylabel(r\"$p(\\mathsf{specific})$\", fontsize=8)\n",
    "ax.yaxis.set_major_formatter(FormatStrFormatter('%g'))\n",
    "ax.xaxis.set_major_formatter(FormatStrFormatter('%g'))\n",
    "# plt.savefig(\"/home/ordabayev/repos/tapqir-overleaf/figures/figure5/lamda-pspecific.svg\")\n",
    "plt.show()"
   ]
  },
  {
   "cell_type": "code",
   "execution_count": 14,
   "metadata": {},
   "outputs": [
    {
     "data": {
      "image/png": "[encoded data removed]",
      "text/plain": [
       "<Figure size 90x90 with 1 Axes>"
      ]
     },
     "metadata": {
      "needs_background": "light"
     },
     "output_type": "display_data"
    }
   ],
   "source": [
    "fig, ax = plt.subplots(figsize=(1.25, 1.25))\n",
    "ax.plot(truth_df[\"lamda\"], fit_df[\"Recall\"], \"o-\", color=\"k\", ms=3, label=\"Recall\")\n",
    "ax.plot(truth_df[\"lamda\"], fit_df[\"Precision\"], \"o-\", color=\"C3\", ms=3, label=\"Precision\")\n",
    "ax.plot(truth_df[\"lamda\"], fit_df[\"MCC\"], \"o-\", color=\"C0\", ms=3, label=\"MCC\")\n",
    "ax.set_xlim(0, 1.03)\n",
    "ax.set_ylim(0, 1.03)\n",
    "ax.set_xticks([0, 0.5, 1])\n",
    "ax.set_yticks([0, 0.5, 1])\n",
    "ax.tick_params(axis=\"x\", labelsize=8, top=True)\n",
    "ax.tick_params(axis=\"y\", labelsize=8, right=True)\n",
    "ax.set_xlabel(r\"$\\lambda$\", fontsize=8)\n",
    "ax.set_ylabel(\"Accuracy\", fontsize=8)\n",
    "ax.yaxis.set_major_formatter(FormatStrFormatter('%g'))\n",
    "ax.xaxis.set_major_formatter(FormatStrFormatter('%g'))\n",
    "# plt.savefig(\"/home/ordabayev/repos/tapqir-overleaf/figures/figure5/lamda-accuracy.svg\")\n",
    "plt.show()"
   ]
  },
  {
   "cell_type": "code",
   "execution_count": null,
   "metadata": {},
   "outputs": [],
   "source": []
  }
 ],
 "metadata": {
  "hide_input": false,
  "kernelspec": {
   "display_name": "Python 3",
   "language": "python",
   "name": "python3"
  },
  "language_info": {
   "codemirror_mode": {
    "name": "ipython",
    "version": 3
   },
   "file_extension": ".py",
   "mimetype": "text/x-python",
   "name": "python",
   "nbconvert_exporter": "python",
   "pygments_lexer": "ipython3",
   "version": "3.8.10"
  },
  "toc": {
   "base_numbering": 1,
   "nav_menu": {},
   "number_sections": true,
   "sideBar": true,
   "skip_h1_title": false,
   "title_cell": "Table of Contents",
   "title_sidebar": "Contents",
   "toc_cell": false,
   "toc_position": {
    "height": "calc(100% - 180px)",
    "left": "10px",
    "top": "150px",
    "width": "408.312px"
   },
   "toc_section_display": true,
   "toc_window_display": true
  }
 },
 "nbformat": 4,
 "nbformat_minor": 4
}
