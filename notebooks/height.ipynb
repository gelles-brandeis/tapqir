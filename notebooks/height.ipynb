{
 "cells": [
  {
   "cell_type": "markdown",
   "metadata": {},
   "source": [
    "# Varying SNR\n",
    "\n",
    "Here we analyze simulated data over a range of SNR where SNR was varied by changing spot intensity $h$ while keeping other parameters constant (Figure 3, Figure 4, Figure 5, Supplementary Data 1 in the manuscript)."
   ]
  },
  {
   "cell_type": "markdown",
   "metadata": {},
   "source": [
    "## Running simulations & analysis using Slurm"
   ]
  },
  {
   "cell_type": "code",
   "execution_count": null,
   "metadata": {},
   "outputs": [],
   "source": [
    "%load_ext slurm_magic"
   ]
  },
  {
   "cell_type": "code",
   "execution_count": null,
   "metadata": {},
   "outputs": [],
   "source": [
    "%%sbatch\n",
    "#!/bin/bash\n",
    "#SBATCH --job-name=height\n",
    "#SBATCH --output=simulations/height%a_%A.out\n",
    "#SBATCH --gres=gpu:1   # Request 1 GPU\n",
    "#SBATCH --array=0-7\n",
    "\n",
    "heights=(300 500 600 750 1000 1500 2000 3000)\n",
    "\n",
    "# Path to your executable\n",
    "python ../examples/cosmos_simulations.py \\\n",
    "  --gain 7 --pi 0.15 --lamda 0.15 --proximity 0.2 \\\n",
    "  -bs 4 --cuda --dtype double \\\n",
    "  --height ${heights[${SLURM_ARRAY_TASK_ID}]} \\\n",
    "  --path simulations/height${heights[${SLURM_ARRAY_TASK_ID}]}"
   ]
  },
  {
   "cell_type": "code",
   "execution_count": null,
   "metadata": {},
   "outputs": [],
   "source": [
    "%squeue"
   ]
  },
  {
   "cell_type": "markdown",
   "metadata": {},
   "source": [
    "## Load results"
   ]
  },
  {
   "cell_type": "code",
   "execution_count": 1,
   "metadata": {},
   "outputs": [],
   "source": [
    "from collections import defaultdict\n",
    "from pathlib import Path\n",
    "\n",
    "import matplotlib.pyplot as plt\n",
    "import numpy as np\n",
    "import pandas as pd\n",
    "import torch\n",
    "from matplotlib.ticker import FormatStrFormatter\n",
    "\n",
    "from tapqir.models import Cosmos\n",
    "from tapqir.utils.dataset import load"
   ]
  },
  {
   "cell_type": "code",
   "execution_count": 2,
   "metadata": {},
   "outputs": [],
   "source": [
    "# path to simulated data\n",
    "SIMULATIONS_DIR = Path(\"simulations\")"
   ]
  },
  {
   "cell_type": "code",
   "execution_count": 3,
   "metadata": {},
   "outputs": [],
   "source": [
    "truth = {}\n",
    "fit = {}\n",
    "predictions = defaultdict(dict)\n",
    "\n",
    "# load results\n",
    "for data_path in SIMULATIONS_DIR.iterdir():\n",
    "    if data_path.is_dir() and data_path.name.startswith(\"height\"):\n",
    "        \n",
    "        truth[data_path.name] = pd.read_csv(\n",
    "            data_path / \"simulated_params.csv\",\n",
    "            squeeze=True, index_col=0\n",
    "        ).rename(data_path.name)\n",
    "        \n",
    "        model = Cosmos(verbose=False)\n",
    "        model.load(data_path, data_only=False)\n",
    "        \n",
    "        fit[data_path.name] = model.statistics.drop(\"trained\").astype(float)\n",
    "        for p in (\"gain\", \"proximity\", \"pi\", \"lamda\", \"SNR\"):\n",
    "            fit[data_path.name].loc[p, \"True\"] = truth[data_path.name][p]\n",
    "        \n",
    "        mask = torch.from_numpy(model.data.ontarget.labels[\"z\"])\n",
    "        samples = torch.masked_select(model.params[\"p(specific)\"], mask)\n",
    "        predictions[data_path.name][\"z_masked\"] = samples\n",
    "        predictions[data_path.name][\"z_all\"] = model.params[\"p(specific)\"].flatten()"
   ]
  },
  {
   "cell_type": "code",
   "execution_count": 4,
   "metadata": {},
   "outputs": [
    {
     "data": {
      "text/html": [
       "<div>\n",
       "<style scoped>\n",
       "    .dataframe tbody tr th:only-of-type {\n",
       "        vertical-align: middle;\n",
       "    }\n",
       "\n",
       "    .dataframe tbody tr th {\n",
       "        vertical-align: top;\n",
       "    }\n",
       "\n",
       "    .dataframe thead th {\n",
       "        text-align: right;\n",
       "    }\n",
       "</style>\n",
       "<table border=\"1\" class=\"dataframe\">\n",
       "  <thead>\n",
       "    <tr style=\"text-align: right;\">\n",
       "      <th></th>\n",
       "      <th>width</th>\n",
       "      <th>gain</th>\n",
       "      <th>pi</th>\n",
       "      <th>lamda</th>\n",
       "      <th>proximity</th>\n",
       "      <th>offset</th>\n",
       "      <th>height</th>\n",
       "      <th>background</th>\n",
       "      <th>SNR</th>\n",
       "      <th>N</th>\n",
       "      <th>F</th>\n",
       "      <th>Nc</th>\n",
       "      <th>Fc</th>\n",
       "      <th>P</th>\n",
       "    </tr>\n",
       "  </thead>\n",
       "  <tbody>\n",
       "    <tr>\n",
       "      <th>height300</th>\n",
       "      <td>1.4</td>\n",
       "      <td>7.0</td>\n",
       "      <td>0.15</td>\n",
       "      <td>0.15</td>\n",
       "      <td>0.2</td>\n",
       "      <td>90.0</td>\n",
       "      <td>300.0</td>\n",
       "      <td>150.0</td>\n",
       "      <td>0.375890</td>\n",
       "      <td>5.0</td>\n",
       "      <td>500.0</td>\n",
       "      <td>5.0</td>\n",
       "      <td>500.0</td>\n",
       "      <td>14.0</td>\n",
       "    </tr>\n",
       "    <tr>\n",
       "      <th>height500</th>\n",
       "      <td>1.4</td>\n",
       "      <td>7.0</td>\n",
       "      <td>0.15</td>\n",
       "      <td>0.15</td>\n",
       "      <td>0.2</td>\n",
       "      <td>90.0</td>\n",
       "      <td>500.0</td>\n",
       "      <td>150.0</td>\n",
       "      <td>0.626483</td>\n",
       "      <td>5.0</td>\n",
       "      <td>500.0</td>\n",
       "      <td>5.0</td>\n",
       "      <td>500.0</td>\n",
       "      <td>14.0</td>\n",
       "    </tr>\n",
       "    <tr>\n",
       "      <th>height600</th>\n",
       "      <td>1.4</td>\n",
       "      <td>7.0</td>\n",
       "      <td>0.15</td>\n",
       "      <td>0.15</td>\n",
       "      <td>0.2</td>\n",
       "      <td>90.0</td>\n",
       "      <td>600.0</td>\n",
       "      <td>150.0</td>\n",
       "      <td>0.751780</td>\n",
       "      <td>5.0</td>\n",
       "      <td>500.0</td>\n",
       "      <td>5.0</td>\n",
       "      <td>500.0</td>\n",
       "      <td>14.0</td>\n",
       "    </tr>\n",
       "    <tr>\n",
       "      <th>height750</th>\n",
       "      <td>1.4</td>\n",
       "      <td>7.0</td>\n",
       "      <td>0.15</td>\n",
       "      <td>0.15</td>\n",
       "      <td>0.2</td>\n",
       "      <td>90.0</td>\n",
       "      <td>750.0</td>\n",
       "      <td>150.0</td>\n",
       "      <td>0.939725</td>\n",
       "      <td>5.0</td>\n",
       "      <td>500.0</td>\n",
       "      <td>5.0</td>\n",
       "      <td>500.0</td>\n",
       "      <td>14.0</td>\n",
       "    </tr>\n",
       "    <tr>\n",
       "      <th>height1000</th>\n",
       "      <td>1.4</td>\n",
       "      <td>7.0</td>\n",
       "      <td>0.15</td>\n",
       "      <td>0.15</td>\n",
       "      <td>0.2</td>\n",
       "      <td>90.0</td>\n",
       "      <td>1000.0</td>\n",
       "      <td>150.0</td>\n",
       "      <td>1.252966</td>\n",
       "      <td>5.0</td>\n",
       "      <td>500.0</td>\n",
       "      <td>5.0</td>\n",
       "      <td>500.0</td>\n",
       "      <td>14.0</td>\n",
       "    </tr>\n",
       "    <tr>\n",
       "      <th>height1500</th>\n",
       "      <td>1.4</td>\n",
       "      <td>7.0</td>\n",
       "      <td>0.15</td>\n",
       "      <td>0.15</td>\n",
       "      <td>0.2</td>\n",
       "      <td>90.0</td>\n",
       "      <td>1500.0</td>\n",
       "      <td>150.0</td>\n",
       "      <td>1.879450</td>\n",
       "      <td>5.0</td>\n",
       "      <td>500.0</td>\n",
       "      <td>5.0</td>\n",
       "      <td>500.0</td>\n",
       "      <td>14.0</td>\n",
       "    </tr>\n",
       "    <tr>\n",
       "      <th>height2000</th>\n",
       "      <td>1.4</td>\n",
       "      <td>7.0</td>\n",
       "      <td>0.15</td>\n",
       "      <td>0.15</td>\n",
       "      <td>0.2</td>\n",
       "      <td>90.0</td>\n",
       "      <td>2000.0</td>\n",
       "      <td>150.0</td>\n",
       "      <td>2.505933</td>\n",
       "      <td>5.0</td>\n",
       "      <td>500.0</td>\n",
       "      <td>5.0</td>\n",
       "      <td>500.0</td>\n",
       "      <td>14.0</td>\n",
       "    </tr>\n",
       "    <tr>\n",
       "      <th>height3000</th>\n",
       "      <td>1.4</td>\n",
       "      <td>7.0</td>\n",
       "      <td>0.15</td>\n",
       "      <td>0.15</td>\n",
       "      <td>0.2</td>\n",
       "      <td>90.0</td>\n",
       "      <td>3000.0</td>\n",
       "      <td>150.0</td>\n",
       "      <td>3.758899</td>\n",
       "      <td>5.0</td>\n",
       "      <td>500.0</td>\n",
       "      <td>5.0</td>\n",
       "      <td>500.0</td>\n",
       "      <td>14.0</td>\n",
       "    </tr>\n",
       "  </tbody>\n",
       "</table>\n",
       "</div>"
      ],
      "text/plain": [
       "            width  gain    pi  lamda  proximity  offset  height  background  \\\n",
       "height300     1.4   7.0  0.15   0.15        0.2    90.0   300.0       150.0   \n",
       "height500     1.4   7.0  0.15   0.15        0.2    90.0   500.0       150.0   \n",
       "height600     1.4   7.0  0.15   0.15        0.2    90.0   600.0       150.0   \n",
       "height750     1.4   7.0  0.15   0.15        0.2    90.0   750.0       150.0   \n",
       "height1000    1.4   7.0  0.15   0.15        0.2    90.0  1000.0       150.0   \n",
       "height1500    1.4   7.0  0.15   0.15        0.2    90.0  1500.0       150.0   \n",
       "height2000    1.4   7.0  0.15   0.15        0.2    90.0  2000.0       150.0   \n",
       "height3000    1.4   7.0  0.15   0.15        0.2    90.0  3000.0       150.0   \n",
       "\n",
       "                 SNR    N      F   Nc     Fc     P  \n",
       "height300   0.375890  5.0  500.0  5.0  500.0  14.0  \n",
       "height500   0.626483  5.0  500.0  5.0  500.0  14.0  \n",
       "height600   0.751780  5.0  500.0  5.0  500.0  14.0  \n",
       "height750   0.939725  5.0  500.0  5.0  500.0  14.0  \n",
       "height1000  1.252966  5.0  500.0  5.0  500.0  14.0  \n",
       "height1500  1.879450  5.0  500.0  5.0  500.0  14.0  \n",
       "height2000  2.505933  5.0  500.0  5.0  500.0  14.0  \n",
       "height3000  3.758899  5.0  500.0  5.0  500.0  14.0  "
      ]
     },
     "execution_count": 4,
     "metadata": {},
     "output_type": "execute_result"
    }
   ],
   "source": [
    "truth_df = pd.concat(truth.values(), axis=1).T.astype(float)\n",
    "truth_df = truth_df.sort_values(by=\"height\")\n",
    "truth_df"
   ]
  },
  {
   "cell_type": "code",
   "execution_count": 5,
   "metadata": {},
   "outputs": [],
   "source": [
    "description = pd.Series(dtype=str, name=\"Description\")\n",
    "description[\"N\"] = \"Number of on-target AOIs\"\n",
    "description[\"F\"] = \"Number of frames for on-target AOIs\"\n",
    "description[\"Nc\"] = \"Number of control off-target AOIs\"\n",
    "description[\"Fc\"] = \"Number of frames for off-target AOIs\"\n",
    "description[\"P\"] = \"Number of pixels along x- and y-axes of an AOI\"\n",
    "description[\"height\"] = \"Spot intensity\"\n",
    "description[\"width\"] = \"Spot width\"\n",
    "description[\"snr\"] = \"Signal-to-noise ratio\"\n",
    "description[\"background\"] = \"Image background\"\n",
    "description[\"pi\"] = \"Average target-specific binding probability\"\n",
    "description[\"lamda\"] = \"Non-specific binding rate\"\n",
    "description[\"proximity\"] = \"Proximity parameter\"\n",
    "description[\"p(specific)\"] = \"Probability of there being any target-specific spot in an AOI image\"\n",
    "description[\"_ul\"] = \"95% CI upper-limit\"\n",
    "description[\"_ll\"] = \"95% CI lower-limit\"\n",
    "description[\"MCC\"] = \"Matthews correlation coefficient\"\n",
    "description[\"TP\"] = \"True positives\"\n",
    "description[\"FN\"] = \"False negatives\"\n",
    "description[\"TN\"] = \"True negatives\"\n",
    "description[\"FP\"] = \"False positives\""
   ]
  },
  {
   "cell_type": "markdown",
   "metadata": {},
   "source": [
    "## Supplementary Data 3"
   ]
  },
  {
   "cell_type": "code",
   "execution_count": 6,
   "metadata": {},
   "outputs": [],
   "source": [
    "with pd.ExcelWriter(\"/home/ordabayev/repos/tapqir-overleaf/supplementary/data3/height.xlsx\") as writer:\n",
    "    truth_df.to_excel(writer, sheet_name=\"simulation\")\n",
    "    for key, value in fit.items():\n",
    "        value.to_excel(writer, sheet_name=key)\n",
    "    description.to_excel(writer, sheet_name=\"description\")"
   ]
  },
  {
   "cell_type": "markdown",
   "metadata": {},
   "source": [
    "## Figures"
   ]
  },
  {
   "cell_type": "markdown",
   "metadata": {},
   "source": [
    "### Figure 5"
   ]
  },
  {
   "cell_type": "code",
   "execution_count": 9,
   "metadata": {},
   "outputs": [
    {
     "data": {
      "image/png": "[encoded data removed]",
      "text/plain": [
       "<Figure size 90x90 with 1 Axes>"
      ]
     },
     "metadata": {
      "needs_background": "light"
     },
     "output_type": "display_data"
    },
    {
     "data": {
      "image/png": "[encoded data removed]",
      "text/plain": [
       "<Figure size 90x90 with 1 Axes>"
      ]
     },
     "metadata": {
      "needs_background": "light"
     },
     "output_type": "display_data"
    },
    {
     "data": {
      "image/png": "[encoded data removed]",
      "text/plain": [
       "<Figure size 90x90 with 1 Axes>"
      ]
     },
     "metadata": {
      "needs_background": "light"
     },
     "output_type": "display_data"
    },
    {
     "data": {
      "image/png": "[encoded data removed]",
      "text/plain": [
       "<Figure size 90x90 with 1 Axes>"
      ]
     },
     "metadata": {
      "needs_background": "light"
     },
     "output_type": "display_data"
    },
    {
     "data": {
      "image/png": "[encoded data removed]",
      "text/plain": [
       "<Figure size 90x90 with 1 Axes>"
      ]
     },
     "metadata": {
      "needs_background": "light"
     },
     "output_type": "display_data"
    },
    {
     "data": {
      "image/png": "[encoded data removed]",
      "text/plain": [
       "<Figure size 90x90 with 1 Axes>"
      ]
     },
     "metadata": {
      "needs_background": "light"
     },
     "output_type": "display_data"
    },
    {
     "data": {
      "image/png": "[encoded data removed]",
      "text/plain": [
       "<Figure size 90x90 with 1 Axes>"
      ]
     },
     "metadata": {
      "needs_background": "light"
     },
     "output_type": "display_data"
    },
    {
     "data": {
      "image/png": "[encoded data removed]",
      "text/plain": [
       "<Figure size 90x90 with 1 Axes>"
      ]
     },
     "metadata": {
      "needs_background": "light"
     },
     "output_type": "display_data"
    }
   ],
   "source": [
    "for name in truth_df.index:\n",
    "    plt.figure(figsize=(1.25, 1.25))\n",
    "    plt.hist(predictions[name][\"z_all\"].numpy(),\n",
    "             bins=np.arange(0, 1.05, 0.05), histtype=\"bar\", lw=1.,\n",
    "             color=\"#dddddd\", edgecolor=\"k\",\n",
    "             label=f\"{truth_df.loc[name, 'SNR']:.2f} SNR\")\n",
    "    plt.hist(predictions[name][\"z_masked\"].numpy(),\n",
    "             bins=np.arange(0, 1.05, 0.05), histtype=\"bar\", lw=1.,\n",
    "             color=\"C2\", edgecolor=\"k\", alpha=0.6,\n",
    "             label=f\"{truth_df.loc[name, 'SNR']:.2f} SNR\")\n",
    "    plt.yscale(\"log\")\n",
    "    plt.xlim(-0.05,1.05)\n",
    "    plt.ylim(1e-1, 5e3)\n",
    "    plt.xticks([0, 0.5, 1], fontsize=8)\n",
    "    \n",
    "    if name == \"height300\":\n",
    "        plt.ylabel(\"Counts\", fontsize=8)\n",
    "        plt.yticks([1, 10, 100, 1000], fontsize=8)\n",
    "    else:\n",
    "        plt.yticks([])\n",
    "    if name == \"height750\":\n",
    "        plt.xlabel(r\"$p(\\mathsf{specific})$\", fontsize=8)\n",
    "    plt.gca().xaxis.set_major_formatter(FormatStrFormatter('%g'))\n",
    "    # plt.legend(loc=\"upper center\", fontsize=8)\n",
    "    plt.savefig(f\"/home/ordabayev/repos/tapqir-overleaf/figures/figure5/{name}.svg\")\n",
    "    plt.show()"
   ]
  },
  {
   "cell_type": "code",
   "execution_count": 10,
   "metadata": {},
   "outputs": [
    {
     "data": {
      "image/png": "[encoded data removed]",
      "text/plain": [
       "<Figure size 90x90 with 1 Axes>"
      ]
     },
     "metadata": {
      "needs_background": "light"
     },
     "output_type": "display_data"
    }
   ],
   "source": [
    "fig, ax = plt.subplots(figsize=(1.25, 1.25))\n",
    "ax.errorbar(truth_df[\"SNR\"], [fit[i].loc[\"p(specific)\", \"Mean\"] for i in truth_df.index],\n",
    "            yerr=np.array([abs(fit[i].loc[\"p(specific)\", [\"95% LL\", \"95% UL\"]].values - fit[i].loc[\"p(specific)\", \"Mean\"]) for i in truth_df.index]).T,\n",
    "            #yerr=abs(fit_df[[\"z_ll\", \"z_ul\"]].values.T-fit_df[\"z_median\"].values),\n",
    "            fmt=\"o-\", ms=3, color=\"k\", mfc=\"C2\", mec=\"C2\", ecolor=\"C2\", capsize=2)\n",
    "ax.set_xlim(0, 4)\n",
    "ax.set_ylim(0, 1.03)\n",
    "ax.set_xticks([0, 1, 2, 3, 4])\n",
    "ax.set_yticks([0, 0.5, 1])\n",
    "ax.tick_params(axis=\"x\", labelsize=8, top=True)\n",
    "ax.tick_params(axis=\"y\", labelsize=8, right=True)\n",
    "ax.set_xlabel(\"SNR\", fontsize=8)\n",
    "ax.set_ylabel(r\"$p(\\mathsf{specific})$\", fontsize=8)\n",
    "ax.yaxis.set_major_formatter(FormatStrFormatter('%g'))\n",
    "plt.savefig(\"/home/ordabayev/repos/tapqir-overleaf/figures/figure5/height-pspecific.svg\")\n",
    "plt.show()"
   ]
  },
  {
   "cell_type": "code",
   "execution_count": 11,
   "metadata": {},
   "outputs": [
    {
     "data": {
      "image/png": "[encoded data removed]",
      "text/plain": [
       "<Figure size 90x90 with 1 Axes>"
      ]
     },
     "metadata": {
      "needs_background": "light"
     },
     "output_type": "display_data"
    }
   ],
   "source": [
    "fig, ax = plt.subplots(figsize=(1.25, 1.25))\n",
    "ax.plot(\n",
    "    truth_df[\"SNR\"],\n",
    "    [fit[i].loc[\"Recall\", \"Mean\"] for i in truth_df.index],\n",
    "    \"o-\", color=\"k\", ms=3, label=\"Recall\"\n",
    ")\n",
    "ax.plot(\n",
    "    truth_df[\"SNR\"],\n",
    "    [fit[i].loc[\"Precision\", \"Mean\"] for i in truth_df.index],\n",
    "    \"o-\", color=\"C3\", ms=3, label=\"Recall\"\n",
    ")\n",
    "ax.plot(\n",
    "    truth_df[\"SNR\"],\n",
    "    [fit[i].loc[\"MCC\", \"Mean\"] for i in truth_df.index],\n",
    "    \"o-\", color=\"C0\", ms=3, label=\"Recall\"\n",
    ")\n",
    "ax.set_xlim(0, 4)\n",
    "ax.set_ylim(0, 1.03)\n",
    "ax.set_xticks([0, 1, 2, 3, 4])\n",
    "ax.set_yticks([0, 0.5, 1])\n",
    "ax.tick_params(axis=\"x\", labelsize=8, top=True)\n",
    "ax.tick_params(axis=\"y\", labelsize=8, right=True)\n",
    "ax.set_xlabel(\"SNR\", fontsize=8)\n",
    "ax.set_ylabel(\"Accuracy\", fontsize=8)\n",
    "ax.yaxis.set_major_formatter(FormatStrFormatter('%g'))\n",
    "# plt.legend(fontsize=8)\n",
    "plt.savefig(\"/home/ordabayev/repos/tapqir-overleaf/figures/figure5/height-accuracy.svg\")\n",
    "plt.show()"
   ]
  },
  {
   "cell_type": "code",
   "execution_count": 12,
   "metadata": {},
   "outputs": [
    {
     "data": {
      "image/png": "[encoded data removed]",
      "text/plain": [
       "<Figure size 432x216 with 8 Axes>"
      ]
     },
     "metadata": {},
     "output_type": "display_data"
    }
   ],
   "source": [
    "plt.figure(figsize=(6,3))\n",
    "for i, name in enumerate(truth_df.index):\n",
    "    plt.subplot(1, len(truth_df), i+1)\n",
    "    plt.xticks([], [])\n",
    "    plt.yticks([], [])\n",
    "    plt.title(f\"{truth_df.loc[name, 'SNR']:.2f}\", fontsize=8)\n",
    "    data = load(SIMULATIONS_DIR / name)\n",
    "    plt.imshow(data.ontarget.images[3, 222].numpy(), vmin=190, vmax=380, cmap=\"gray\")\n",
    "plt.savefig(\"/home/ordabayev/repos/tapqir-overleaf/figures/figure5/height-images.png\", dpi=600)\n",
    "plt.show()"
   ]
  },
  {
   "cell_type": "code",
   "execution_count": null,
   "metadata": {},
   "outputs": [],
   "source": []
  }
 ],
 "metadata": {
  "hide_input": false,
  "kernelspec": {
   "display_name": "Python 3 (ipykernel)",
   "language": "python",
   "name": "python3"
  },
  "language_info": {
   "codemirror_mode": {
    "name": "ipython",
    "version": 3
   },
   "file_extension": ".py",
   "mimetype": "text/x-python",
   "name": "python",
   "nbconvert_exporter": "python",
   "pygments_lexer": "ipython3",
   "version": "3.8.10"
  },
  "toc": {
   "base_numbering": 1,
   "nav_menu": {},
   "number_sections": true,
   "sideBar": true,
   "skip_h1_title": false,
   "title_cell": "Table of Contents",
   "title_sidebar": "Contents",
   "toc_cell": false,
   "toc_position": {
    "height": "calc(100% - 180px)",
    "left": "10px",
    "top": "150px",
    "width": "510.391px"
   },
   "toc_section_display": true,
   "toc_window_display": true
  }
 },
 "nbformat": 4,
 "nbformat_minor": 4
}
