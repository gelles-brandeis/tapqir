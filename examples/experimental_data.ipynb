{
 "cells": [
  {
   "cell_type": "code",
   "execution_count": 1,
   "metadata": {},
   "outputs": [],
   "source": [
    "import torch\n",
    "import pyro\n",
    "import numpy as np\n",
    "import pandas as pd\n",
    "import os\n",
    "import matplotlib.pyplot as plt\n",
    "\n",
    "%load_ext autoreload\n",
    "%autoreload 2"
   ]
  },
  {
   "cell_type": "code",
   "execution_count": 2,
   "metadata": {},
   "outputs": [],
   "source": [
    "import pyro.distributions as dist\n",
    "# from cosmos.utils.glimpse_reader import CoSMoSDataset"
   ]
  },
  {
   "cell_type": "code",
   "execution_count": 3,
   "metadata": {},
   "outputs": [],
   "source": [
    "from scipy.io import savemat\n",
    "plt.rc('text', usetex=True)"
   ]
  },
  {
   "cell_type": "code",
   "execution_count": 4,
   "metadata": {},
   "outputs": [],
   "source": [
    "from sklearn.metrics import matthews_corrcoef, confusion_matrix, \\\n",
    "                            precision_score, recall_score, \\\n",
    "                            roc_curve\n",
    "\n",
    "from scipy.io import loadmat"
   ]
  },
  {
   "cell_type": "markdown",
   "metadata": {},
   "source": [
    "### Orange dye non-attenuated data"
   ]
  },
  {
   "cell_type": "markdown",
   "metadata": {},
   "source": [
    "Tracker v1.0"
   ]
  },
  {
   "cell_type": "code",
   "execution_count": 6,
   "metadata": {},
   "outputs": [],
   "source": [
    "results = {}\n",
    "predictions = {}\n",
    "true_labels = {}\n",
    "\n",
    "names = [\"FL_5555_6684_1p3OD\", \"FL_4445_5554_1p1OD\", \"FL_3339_4444_0p8OD\",\n",
    "         \"FL_2226_3338_0p6OD\", \"FL_1118_2225_0p3OD\", \"FL_1_1117_0OD\"]\n",
    "batch_sizes = [32, 28, 32, 32, 32, 32]\n",
    "\n",
    "for name, bs in zip(names, batch_sizes):\n",
    "    results[name] = pd.read_csv(\n",
    "        \"experimental_data/{}/runs/trackerv1.0/nojit/lr0.005/Adam/{}/params_last.csv\"\n",
    "        .format(name, bs),\n",
    "        header=None, squeeze=True, index_col=0)\n",
    "    predictions[name] = np.load(\n",
    "        \"experimental_data/{}/runs/trackerv1.0/nojit/lr0.005/Adam/{}/predictions.npy\"\n",
    "        .format(name, bs))\n",
    "    true_labels[name] = np.load(\"experimental_data/{}/test_labels.npy\".format(name))"
   ]
  },
  {
   "cell_type": "code",
   "execution_count": 7,
   "metadata": {},
   "outputs": [],
   "source": [
    "results[\"LarryCy3sigma54\"] = pd.read_csv(\n",
    "    \"test_data/LarryCy3sigma54/runs/trackerv1.0/nojit/lr0.005/Adam/16/params_last.csv\",\n",
    "    header=None, squeeze=True, index_col=0)\n",
    "predictions[\"LarryCy3sigma54\"] = np.load(\n",
    "    \"test_data/LarryCy3sigma54/runs/trackerv1.0/nojit/lr0.005/Adam/16/predictions.npy\")\n",
    "\n",
    "results[\"GraceArticlePol2\"] = pd.read_csv(\n",
    "    \"test_data/GraceArticlePol2/runs/trackerv1.0/nojit/lr0.005/Adam/32/params_last.csv\",\n",
    "    header=None, squeeze=True, index_col=0)\n",
    "predictions[\"GraceArticlePol2\"] = np.load(\n",
    "    \"test_data/GraceArticlePol2/runs/trackerv1.0/nojit/lr0.005/Adam/32/predictions.npy\")"
   ]
  },
  {
   "cell_type": "code",
   "execution_count": 8,
   "metadata": {},
   "outputs": [
    {
     "data": {
      "text/html": [
       "<div>\n",
       "<style scoped>\n",
       "    .dataframe tbody tr th:only-of-type {\n",
       "        vertical-align: middle;\n",
       "    }\n",
       "\n",
       "    .dataframe tbody tr th {\n",
       "        vertical-align: top;\n",
       "    }\n",
       "\n",
       "    .dataframe thead th {\n",
       "        text-align: right;\n",
       "    }\n",
       "</style>\n",
       "<table border=\"1\" class=\"dataframe\">\n",
       "  <thead>\n",
       "    <tr style=\"text-align: right;\">\n",
       "      <th></th>\n",
       "      <th>MCC</th>\n",
       "      <th>Recall</th>\n",
       "      <th>TNR</th>\n",
       "      <th>TN</th>\n",
       "      <th>FP</th>\n",
       "      <th>TP</th>\n",
       "      <th>FN</th>\n",
       "      <th>epoch_count</th>\n",
       "      <th>-ELBO</th>\n",
       "    </tr>\n",
       "  </thead>\n",
       "  <tbody>\n",
       "    <tr>\n",
       "      <th>FL_5555_6684_1p3OD</th>\n",
       "      <td>0.934352</td>\n",
       "      <td>0.910097</td>\n",
       "      <td>0.999230</td>\n",
       "      <td>33752</td>\n",
       "      <td>26</td>\n",
       "      <td>658</td>\n",
       "      <td>65</td>\n",
       "      <td>19900</td>\n",
       "      <td>81713296.0</td>\n",
       "    </tr>\n",
       "    <tr>\n",
       "      <th>FL_4445_5554_1p1OD</th>\n",
       "      <td>0.965572</td>\n",
       "      <td>0.961796</td>\n",
       "      <td>0.998308</td>\n",
       "      <td>23013</td>\n",
       "      <td>39</td>\n",
       "      <td>1435</td>\n",
       "      <td>57</td>\n",
       "      <td>19900</td>\n",
       "      <td>60863816.0</td>\n",
       "    </tr>\n",
       "    <tr>\n",
       "      <th>FL_3339_4444_0p8OD</th>\n",
       "      <td>0.925553</td>\n",
       "      <td>0.960938</td>\n",
       "      <td>0.996752</td>\n",
       "      <td>26393</td>\n",
       "      <td>86</td>\n",
       "      <td>738</td>\n",
       "      <td>30</td>\n",
       "      <td>19900</td>\n",
       "      <td>73938168.0</td>\n",
       "    </tr>\n",
       "    <tr>\n",
       "      <th>FL_2226_3338_0p6OD</th>\n",
       "      <td>0.961293</td>\n",
       "      <td>0.957091</td>\n",
       "      <td>0.998088</td>\n",
       "      <td>33934</td>\n",
       "      <td>65</td>\n",
       "      <td>2119</td>\n",
       "      <td>95</td>\n",
       "      <td>19900</td>\n",
       "      <td>87769728.0</td>\n",
       "    </tr>\n",
       "    <tr>\n",
       "      <th>FL_1118_2225_0p3OD</th>\n",
       "      <td>0.937152</td>\n",
       "      <td>0.920110</td>\n",
       "      <td>0.999155</td>\n",
       "      <td>35464</td>\n",
       "      <td>30</td>\n",
       "      <td>668</td>\n",
       "      <td>58</td>\n",
       "      <td>19900</td>\n",
       "      <td>89621960.0</td>\n",
       "    </tr>\n",
       "    <tr>\n",
       "      <th>FL_1_1117_0OD</th>\n",
       "      <td>0.902241</td>\n",
       "      <td>0.844189</td>\n",
       "      <td>0.999475</td>\n",
       "      <td>41877</td>\n",
       "      <td>22</td>\n",
       "      <td>661</td>\n",
       "      <td>122</td>\n",
       "      <td>14400</td>\n",
       "      <td>99727120.0</td>\n",
       "    </tr>\n",
       "    <tr>\n",
       "      <th>LarryCy3sigma54</th>\n",
       "      <td>0.964929</td>\n",
       "      <td>0.976361</td>\n",
       "      <td>0.996067</td>\n",
       "      <td>432776</td>\n",
       "      <td>1709</td>\n",
       "      <td>40766</td>\n",
       "      <td>987</td>\n",
       "      <td>24900</td>\n",
       "      <td>808483968.0</td>\n",
       "    </tr>\n",
       "    <tr>\n",
       "      <th>GraceArticlePol2</th>\n",
       "      <td>0.837339</td>\n",
       "      <td>0.780264</td>\n",
       "      <td>0.992671</td>\n",
       "      <td>248405</td>\n",
       "      <td>1834</td>\n",
       "      <td>27374</td>\n",
       "      <td>7709</td>\n",
       "      <td>24900</td>\n",
       "      <td>751807168.0</td>\n",
       "    </tr>\n",
       "  </tbody>\n",
       "</table>\n",
       "</div>"
      ],
      "text/plain": [
       "                         MCC    Recall       TNR      TN    FP     TP    FN  \\\n",
       "FL_5555_6684_1p3OD  0.934352  0.910097  0.999230   33752    26    658    65   \n",
       "FL_4445_5554_1p1OD  0.965572  0.961796  0.998308   23013    39   1435    57   \n",
       "FL_3339_4444_0p8OD  0.925553  0.960938  0.996752   26393    86    738    30   \n",
       "FL_2226_3338_0p6OD  0.961293  0.957091  0.998088   33934    65   2119    95   \n",
       "FL_1118_2225_0p3OD  0.937152  0.920110  0.999155   35464    30    668    58   \n",
       "FL_1_1117_0OD       0.902241  0.844189  0.999475   41877    22    661   122   \n",
       "LarryCy3sigma54     0.964929  0.976361  0.996067  432776  1709  40766   987   \n",
       "GraceArticlePol2    0.837339  0.780264  0.992671  248405  1834  27374  7709   \n",
       "\n",
       "                    epoch_count        -ELBO  \n",
       "FL_5555_6684_1p3OD        19900   81713296.0  \n",
       "FL_4445_5554_1p1OD        19900   60863816.0  \n",
       "FL_3339_4444_0p8OD        19900   73938168.0  \n",
       "FL_2226_3338_0p6OD        19900   87769728.0  \n",
       "FL_1118_2225_0p3OD        19900   89621960.0  \n",
       "FL_1_1117_0OD             14400   99727120.0  \n",
       "LarryCy3sigma54           24900  808483968.0  \n",
       "GraceArticlePol2          24900  751807168.0  "
      ]
     },
     "execution_count": 8,
     "metadata": {},
     "output_type": "execute_result"
    }
   ],
   "source": [
    "pd.DataFrame(data={\"MCC\": [float(results[name][\"MCC\"]) for name in results.keys()],\n",
    "                   \"Recall\": [float(results[name][\"TPR\"]) for name in results.keys()],\n",
    "                   \"TNR\": [float(results[name][\"TNR\"]) for name in results.keys()],\n",
    "                   \"TN\": [int(results[name][\"TN\"]) for name in results.keys()],\n",
    "                   \"FP\": [int(results[name][\"FP\"]) for name in results.keys()],\n",
    "                   \"TP\": [int(results[name][\"TP\"]) for name in results.keys()],\n",
    "                   \"FN\": [int(results[name][\"FN\"]) for name in results.keys()],\n",
    "                   \"epoch_count\": [int(results[name][\"epoch_count\"]) for name in results.keys()],\n",
    "                   \"-ELBO\": [float(results[name][\"-ELBO\"]) for name in results.keys()]},\n",
    "             index=results.keys())"
   ]
  },
  {
   "cell_type": "markdown",
   "metadata": {},
   "source": [
    "Tracker v1.1"
   ]
  },
  {
   "cell_type": "code",
   "execution_count": 9,
   "metadata": {},
   "outputs": [],
   "source": [
    "results = {}\n",
    "predictions = {}\n",
    "true_labels = {}\n",
    "\n",
    "names = [\"FL_5555_6684_1p3OD\", \"FL_4445_5554_1p1OD\", \"FL_3339_4444_0p8OD\",\n",
    "         \"FL_2226_3338_0p6OD\", \"FL_1118_2225_0p3OD\", \"FL_1_1117_0OD\"]\n",
    "\n",
    "for name in names:\n",
    "    results[name] = pd.read_csv(\n",
    "        \"experimental_data/{}/runs/trackerv1.1/nojit/lr0.005/Adam/16/params_last.csv\"\n",
    "        .format(name),\n",
    "        header=None, squeeze=True, index_col=0)\n",
    "    predictions[name] = np.load(\n",
    "        \"experimental_data/{}/runs/trackerv1.1/nojit/lr0.005/Adam/16/predictions.npy\"\n",
    "        .format(name))\n",
    "    true_labels[name] = np.load(\"experimental_data/{}/test_labels.npy\".format(name))"
   ]
  },
  {
   "cell_type": "code",
   "execution_count": 11,
   "metadata": {},
   "outputs": [],
   "source": [
    "results[\"LarryCy3sigma54\"] = pd.read_csv(\n",
    "    \"test_data/LarryCy3sigma54/runs/trackerv1.1/nojit/lr0.005/Adam/2/params_last.csv\",\n",
    "    header=None, squeeze=True, index_col=0)\n",
    "predictions[\"LarryCy3sigma54\"] = np.load(\n",
    "    \"test_data/LarryCy3sigma54/runs/trackerv1.1/nojit/lr0.005/Adam/2/predictions.npy\")\n",
    "\n",
    "results[\"GraceArticlePol2\"] = pd.read_csv(\n",
    "    \"test_data/GraceArticlePol2/runs/trackerv1.1/nojit/lr0.005/Adam/8/params_last.csv\",\n",
    "    header=None, squeeze=True, index_col=0)\n",
    "predictions[\"GraceArticlePol2\"] = np.load(\n",
    "    \"test_data/GraceArticlePol2/runs/trackerv1.1/nojit/lr0.005/Adam/8/predictions.npy\")"
   ]
  },
  {
   "cell_type": "code",
   "execution_count": 12,
   "metadata": {
    "scrolled": true
   },
   "outputs": [
    {
     "data": {
      "text/html": [
       "<div>\n",
       "<style scoped>\n",
       "    .dataframe tbody tr th:only-of-type {\n",
       "        vertical-align: middle;\n",
       "    }\n",
       "\n",
       "    .dataframe tbody tr th {\n",
       "        vertical-align: top;\n",
       "    }\n",
       "\n",
       "    .dataframe thead th {\n",
       "        text-align: right;\n",
       "    }\n",
       "</style>\n",
       "<table border=\"1\" class=\"dataframe\">\n",
       "  <thead>\n",
       "    <tr style=\"text-align: right;\">\n",
       "      <th></th>\n",
       "      <th>MCC</th>\n",
       "      <th>Recall</th>\n",
       "      <th>TNR</th>\n",
       "      <th>TN</th>\n",
       "      <th>FP</th>\n",
       "      <th>TP</th>\n",
       "      <th>FN</th>\n",
       "      <th>epoch_count</th>\n",
       "      <th>-ELBO</th>\n",
       "    </tr>\n",
       "  </thead>\n",
       "  <tbody>\n",
       "    <tr>\n",
       "      <th>FL_5555_6684_1p3OD</th>\n",
       "      <td>0.934956</td>\n",
       "      <td>0.907331</td>\n",
       "      <td>0.999319</td>\n",
       "      <td>33755</td>\n",
       "      <td>23</td>\n",
       "      <td>656</td>\n",
       "      <td>67</td>\n",
       "      <td>19900</td>\n",
       "      <td>81967944.0</td>\n",
       "    </tr>\n",
       "    <tr>\n",
       "      <th>FL_4445_5554_1p1OD</th>\n",
       "      <td>0.966290</td>\n",
       "      <td>0.962466</td>\n",
       "      <td>0.998352</td>\n",
       "      <td>23014</td>\n",
       "      <td>38</td>\n",
       "      <td>1436</td>\n",
       "      <td>56</td>\n",
       "      <td>19900</td>\n",
       "      <td>60705440.0</td>\n",
       "    </tr>\n",
       "    <tr>\n",
       "      <th>FL_3339_4444_0p8OD</th>\n",
       "      <td>0.924394</td>\n",
       "      <td>0.960938</td>\n",
       "      <td>0.996677</td>\n",
       "      <td>26391</td>\n",
       "      <td>88</td>\n",
       "      <td>738</td>\n",
       "      <td>30</td>\n",
       "      <td>19900</td>\n",
       "      <td>74326216.0</td>\n",
       "    </tr>\n",
       "    <tr>\n",
       "      <th>FL_2226_3338_0p6OD</th>\n",
       "      <td>0.963019</td>\n",
       "      <td>0.959801</td>\n",
       "      <td>0.998118</td>\n",
       "      <td>33935</td>\n",
       "      <td>64</td>\n",
       "      <td>2125</td>\n",
       "      <td>89</td>\n",
       "      <td>19900</td>\n",
       "      <td>88067184.0</td>\n",
       "    </tr>\n",
       "    <tr>\n",
       "      <th>FL_1118_2225_0p3OD</th>\n",
       "      <td>0.937840</td>\n",
       "      <td>0.920110</td>\n",
       "      <td>0.999183</td>\n",
       "      <td>35465</td>\n",
       "      <td>29</td>\n",
       "      <td>668</td>\n",
       "      <td>58</td>\n",
       "      <td>19900</td>\n",
       "      <td>89329928.0</td>\n",
       "    </tr>\n",
       "    <tr>\n",
       "      <th>FL_1_1117_0OD</th>\n",
       "      <td>0.901752</td>\n",
       "      <td>0.849298</td>\n",
       "      <td>0.999356</td>\n",
       "      <td>41872</td>\n",
       "      <td>27</td>\n",
       "      <td>665</td>\n",
       "      <td>118</td>\n",
       "      <td>17600</td>\n",
       "      <td>99662288.0</td>\n",
       "    </tr>\n",
       "    <tr>\n",
       "      <th>LarryCy3sigma54</th>\n",
       "      <td>0.965290</td>\n",
       "      <td>0.971978</td>\n",
       "      <td>0.996584</td>\n",
       "      <td>433001</td>\n",
       "      <td>1484</td>\n",
       "      <td>40583</td>\n",
       "      <td>1170</td>\n",
       "      <td>24900</td>\n",
       "      <td>826416576.0</td>\n",
       "    </tr>\n",
       "    <tr>\n",
       "      <th>GraceArticlePol2</th>\n",
       "      <td>0.831236</td>\n",
       "      <td>0.767551</td>\n",
       "      <td>0.993143</td>\n",
       "      <td>248523</td>\n",
       "      <td>1716</td>\n",
       "      <td>26928</td>\n",
       "      <td>8155</td>\n",
       "      <td>29800</td>\n",
       "      <td>750510336.0</td>\n",
       "    </tr>\n",
       "  </tbody>\n",
       "</table>\n",
       "</div>"
      ],
      "text/plain": [
       "                         MCC    Recall       TNR      TN    FP     TP    FN  \\\n",
       "FL_5555_6684_1p3OD  0.934956  0.907331  0.999319   33755    23    656    67   \n",
       "FL_4445_5554_1p1OD  0.966290  0.962466  0.998352   23014    38   1436    56   \n",
       "FL_3339_4444_0p8OD  0.924394  0.960938  0.996677   26391    88    738    30   \n",
       "FL_2226_3338_0p6OD  0.963019  0.959801  0.998118   33935    64   2125    89   \n",
       "FL_1118_2225_0p3OD  0.937840  0.920110  0.999183   35465    29    668    58   \n",
       "FL_1_1117_0OD       0.901752  0.849298  0.999356   41872    27    665   118   \n",
       "LarryCy3sigma54     0.965290  0.971978  0.996584  433001  1484  40583  1170   \n",
       "GraceArticlePol2    0.831236  0.767551  0.993143  248523  1716  26928  8155   \n",
       "\n",
       "                    epoch_count        -ELBO  \n",
       "FL_5555_6684_1p3OD        19900   81967944.0  \n",
       "FL_4445_5554_1p1OD        19900   60705440.0  \n",
       "FL_3339_4444_0p8OD        19900   74326216.0  \n",
       "FL_2226_3338_0p6OD        19900   88067184.0  \n",
       "FL_1118_2225_0p3OD        19900   89329928.0  \n",
       "FL_1_1117_0OD             17600   99662288.0  \n",
       "LarryCy3sigma54           24900  826416576.0  \n",
       "GraceArticlePol2          29800  750510336.0  "
      ]
     },
     "execution_count": 12,
     "metadata": {},
     "output_type": "execute_result"
    }
   ],
   "source": [
    "pd.DataFrame(data={\"MCC\": [float(results[name][\"MCC\"]) for name in results.keys()],\n",
    "                   \"Recall\": [float(results[name][\"TPR\"]) for name in results.keys()],\n",
    "                   \"TNR\": [float(results[name][\"TNR\"]) for name in results.keys()],\n",
    "                   \"TN\": [int(results[name][\"TN\"]) for name in results.keys()],\n",
    "                   \"FP\": [int(results[name][\"FP\"]) for name in results.keys()],\n",
    "                   \"TP\": [int(results[name][\"TP\"]) for name in results.keys()],\n",
    "                   \"FN\": [int(results[name][\"FN\"]) for name in results.keys()],\n",
    "                   \"epoch_count\": [int(results[name][\"epoch_count\"]) for name in results.keys()],\n",
    "                   \"-ELBO\": [float(results[name][\"-ELBO\"]) for name in results.keys()]},\n",
    "             index=results.keys())"
   ]
  },
  {
   "cell_type": "markdown",
   "metadata": {},
   "source": [
    "Globalhwb v1.1"
   ]
  },
  {
   "cell_type": "code",
   "execution_count": 13,
   "metadata": {},
   "outputs": [],
   "source": [
    "results = {}\n",
    "predictions = {}\n",
    "true_labels = {}\n",
    "\n",
    "results[\"LarryCy3sigma54\"] = pd.read_csv(\n",
    "    \"test_data/LarryCy3sigma54/runs/globalhwbv1.1/nojit/lr0.005/Adam/2/params_last.csv\",\n",
    "    header=None, squeeze=True, index_col=0)\n",
    "predictions[\"LarryCy3sigma54\"] = np.load(\n",
    "    \"test_data/LarryCy3sigma54/runs/globalhwbv1.1/nojit/lr0.005/Adam/2/predictions.npy\")\n",
    "\n",
    "results[\"GraceArticlePol2\"] = pd.read_csv(\n",
    "    \"test_data/GraceArticlePol2/runs/globalhwbv1.1/nojit/lr0.005/Adam/8/params_last.csv\",\n",
    "    header=None, squeeze=True, index_col=0)\n",
    "predictions[\"GraceArticlePol2\"] = np.load(\n",
    "    \"test_data/GraceArticlePol2/runs/globalhwbv1.1/nojit/lr0.005/Adam/8/predictions.npy\")"
   ]
  },
  {
   "cell_type": "code",
   "execution_count": 14,
   "metadata": {
    "scrolled": true
   },
   "outputs": [
    {
     "data": {
      "text/html": [
       "<div>\n",
       "<style scoped>\n",
       "    .dataframe tbody tr th:only-of-type {\n",
       "        vertical-align: middle;\n",
       "    }\n",
       "\n",
       "    .dataframe tbody tr th {\n",
       "        vertical-align: top;\n",
       "    }\n",
       "\n",
       "    .dataframe thead th {\n",
       "        text-align: right;\n",
       "    }\n",
       "</style>\n",
       "<table border=\"1\" class=\"dataframe\">\n",
       "  <thead>\n",
       "    <tr style=\"text-align: right;\">\n",
       "      <th></th>\n",
       "      <th>MCC</th>\n",
       "      <th>Recall</th>\n",
       "      <th>TNR</th>\n",
       "      <th>TN</th>\n",
       "      <th>FP</th>\n",
       "      <th>TP</th>\n",
       "      <th>FN</th>\n",
       "      <th>epoch_count</th>\n",
       "      <th>-ELBO</th>\n",
       "    </tr>\n",
       "  </thead>\n",
       "  <tbody>\n",
       "    <tr>\n",
       "      <th>LarryCy3sigma54</th>\n",
       "      <td>0.956604</td>\n",
       "      <td>0.965176</td>\n",
       "      <td>0.995701</td>\n",
       "      <td>432617</td>\n",
       "      <td>1868</td>\n",
       "      <td>40299</td>\n",
       "      <td>1454</td>\n",
       "      <td>33000</td>\n",
       "      <td>833454784.0</td>\n",
       "    </tr>\n",
       "    <tr>\n",
       "      <th>GraceArticlePol2</th>\n",
       "      <td>0.387582</td>\n",
       "      <td>0.654448</td>\n",
       "      <td>0.837104</td>\n",
       "      <td>209476</td>\n",
       "      <td>40763</td>\n",
       "      <td>22960</td>\n",
       "      <td>12123</td>\n",
       "      <td>16600</td>\n",
       "      <td>759290432.0</td>\n",
       "    </tr>\n",
       "  </tbody>\n",
       "</table>\n",
       "</div>"
      ],
      "text/plain": [
       "                       MCC    Recall       TNR      TN     FP     TP     FN  \\\n",
       "LarryCy3sigma54   0.956604  0.965176  0.995701  432617   1868  40299   1454   \n",
       "GraceArticlePol2  0.387582  0.654448  0.837104  209476  40763  22960  12123   \n",
       "\n",
       "                  epoch_count        -ELBO  \n",
       "LarryCy3sigma54         33000  833454784.0  \n",
       "GraceArticlePol2        16600  759290432.0  "
      ]
     },
     "execution_count": 14,
     "metadata": {},
     "output_type": "execute_result"
    }
   ],
   "source": [
    "pd.DataFrame(data={\"MCC\": [float(results[name][\"MCC\"]) for name in results.keys()],\n",
    "                   \"Recall\": [float(results[name][\"TPR\"]) for name in results.keys()],\n",
    "                   \"TNR\": [float(results[name][\"TNR\"]) for name in results.keys()],\n",
    "                   \"TN\": [int(results[name][\"TN\"]) for name in results.keys()],\n",
    "                   \"FP\": [int(results[name][\"FP\"]) for name in results.keys()],\n",
    "                   \"TP\": [int(results[name][\"TP\"]) for name in results.keys()],\n",
    "                   \"FN\": [int(results[name][\"FN\"]) for name in results.keys()],\n",
    "                   \"epoch_count\": [int(results[name][\"epoch_count\"]) for name in results.keys()],\n",
    "                   \"-ELBO\": [float(results[name][\"-ELBO\"]) for name in results.keys()]},\n",
    "             index=results.keys())"
   ]
  },
  {
   "cell_type": "markdown",
   "metadata": {},
   "source": [
    "Tracker v1.1.3"
   ]
  },
  {
   "cell_type": "code",
   "execution_count": 5,
   "metadata": {},
   "outputs": [],
   "source": [
    "results = {}\n",
    "predictions = {}\n",
    "true_labels = {}\n",
    "\n",
    "names = [\"FL_5555_6684_1p3OD\", \"FL_4445_5554_1p1OD\", \"FL_3339_4444_0p8OD\",\n",
    "         \"FL_2226_3338_0p6OD\", \"FL_1118_2225_0p3OD\", \"FL_1_1117_0OD\"]\n",
    "\n",
    "for name in names:\n",
    "    results[name] = pd.read_csv(\n",
    "        \"experimental/nonattenuated/{}/runs/tracker/v1.1.3/S1/nocontrol/lr0.005/bs10/params_last.csv\"\n",
    "        .format(name),\n",
    "        header=None, squeeze=True, index_col=0)\n",
    "    predictions[name] = np.load(\n",
    "        \"experimental/nonattenuated/{}/runs/tracker/v1.1.3/S1/nocontrol/lr0.005/bs10/predictions.npy\"\n",
    "        .format(name))\n",
    "    true_labels[name] = np.load(\"experimental/nonattenuated/{}/labels.npy\".format(name))"
   ]
  },
  {
   "cell_type": "code",
   "execution_count": 6,
   "metadata": {},
   "outputs": [],
   "source": [
    "names = [\"GraceArticlePol2\", \"GraceArticleCy5\", \"LarryCy3sigma54\",\n",
    "         \"DanPol2\", \"DanMed7\"]\n",
    "batch_sizes = [10, 10, 2, 10, 10]\n",
    "\n",
    "for name, bs in zip(names, batch_sizes):\n",
    "    results[name] = pd.read_csv(\n",
    "        \"test/{}/runs/tracker/v1.1.3/S1/nocontrol/lr0.005/bs{}/params_last.csv\"\n",
    "        .format(name, bs),\n",
    "        header=None, squeeze=True, index_col=0)\n",
    "    predictions[name] = np.load(\n",
    "        \"test/{}/runs/tracker/v1.1.3/S1/nocontrol/lr0.005/bs{}/predictions.npy\"\n",
    "        .format(name, bs))\n",
    "    true_labels[name] = np.load(\"test/{}/labels.npy\".format(name))"
   ]
  },
  {
   "cell_type": "code",
   "execution_count": 7,
   "metadata": {
    "scrolled": false
   },
   "outputs": [
    {
     "data": {
      "text/html": [
       "<div>\n",
       "<style scoped>\n",
       "    .dataframe tbody tr th:only-of-type {\n",
       "        vertical-align: middle;\n",
       "    }\n",
       "\n",
       "    .dataframe tbody tr th {\n",
       "        vertical-align: top;\n",
       "    }\n",
       "\n",
       "    .dataframe thead th {\n",
       "        text-align: right;\n",
       "    }\n",
       "</style>\n",
       "<table border=\"1\" class=\"dataframe\">\n",
       "  <thead>\n",
       "    <tr style=\"text-align: right;\">\n",
       "      <th></th>\n",
       "      <th>MCC</th>\n",
       "      <th>Recall</th>\n",
       "      <th>Precision</th>\n",
       "      <th>TN</th>\n",
       "      <th>FP</th>\n",
       "      <th>TP</th>\n",
       "      <th>FN</th>\n",
       "      <th>gain</th>\n",
       "      <th>iter</th>\n",
       "      <th>-ELBO</th>\n",
       "    </tr>\n",
       "  </thead>\n",
       "  <tbody>\n",
       "    <tr>\n",
       "      <th>FL_5555_6684_1p3OD</th>\n",
       "      <td>0.935212</td>\n",
       "      <td>0.914246</td>\n",
       "      <td>0.959361</td>\n",
       "      <td>33750</td>\n",
       "      <td>28</td>\n",
       "      <td>661</td>\n",
       "      <td>62</td>\n",
       "      <td>6.813893</td>\n",
       "      <td>29900</td>\n",
       "      <td>4.087696e+07</td>\n",
       "    </tr>\n",
       "    <tr>\n",
       "      <th>FL_4445_5554_1p1OD</th>\n",
       "      <td>0.969558</td>\n",
       "      <td>0.967158</td>\n",
       "      <td>0.975659</td>\n",
       "      <td>23016</td>\n",
       "      <td>36</td>\n",
       "      <td>1443</td>\n",
       "      <td>49</td>\n",
       "      <td>6.702144</td>\n",
       "      <td>28700</td>\n",
       "      <td>3.040652e+07</td>\n",
       "    </tr>\n",
       "    <tr>\n",
       "      <th>FL_3339_4444_0p8OD</th>\n",
       "      <td>0.911796</td>\n",
       "      <td>0.972656</td>\n",
       "      <td>0.859609</td>\n",
       "      <td>26357</td>\n",
       "      <td>122</td>\n",
       "      <td>747</td>\n",
       "      <td>21</td>\n",
       "      <td>6.630430</td>\n",
       "      <td>29900</td>\n",
       "      <td>3.674946e+07</td>\n",
       "    </tr>\n",
       "    <tr>\n",
       "      <th>FL_2226_3338_0p6OD</th>\n",
       "      <td>0.960615</td>\n",
       "      <td>0.957995</td>\n",
       "      <td>0.968051</td>\n",
       "      <td>33929</td>\n",
       "      <td>70</td>\n",
       "      <td>2121</td>\n",
       "      <td>93</td>\n",
       "      <td>6.861265</td>\n",
       "      <td>28300</td>\n",
       "      <td>4.390996e+07</td>\n",
       "    </tr>\n",
       "    <tr>\n",
       "      <th>FL_1118_2225_0p3OD</th>\n",
       "      <td>0.934025</td>\n",
       "      <td>0.925620</td>\n",
       "      <td>0.945148</td>\n",
       "      <td>35455</td>\n",
       "      <td>39</td>\n",
       "      <td>672</td>\n",
       "      <td>54</td>\n",
       "      <td>6.586484</td>\n",
       "      <td>27400</td>\n",
       "      <td>4.504149e+07</td>\n",
       "    </tr>\n",
       "    <tr>\n",
       "      <th>FL_1_1117_0OD</th>\n",
       "      <td>0.899042</td>\n",
       "      <td>0.848020</td>\n",
       "      <td>0.956772</td>\n",
       "      <td>41869</td>\n",
       "      <td>30</td>\n",
       "      <td>664</td>\n",
       "      <td>119</td>\n",
       "      <td>6.754858</td>\n",
       "      <td>24500</td>\n",
       "      <td>4.993123e+07</td>\n",
       "    </tr>\n",
       "    <tr>\n",
       "      <th>GraceArticlePol2</th>\n",
       "      <td>0.836745</td>\n",
       "      <td>0.789613</td>\n",
       "      <td>0.925683</td>\n",
       "      <td>248015</td>\n",
       "      <td>2224</td>\n",
       "      <td>27702</td>\n",
       "      <td>7381</td>\n",
       "      <td>6.668624</td>\n",
       "      <td>28600</td>\n",
       "      <td>2.905708e+08</td>\n",
       "    </tr>\n",
       "    <tr>\n",
       "      <th>GraceArticleCy5</th>\n",
       "      <td>0.737621</td>\n",
       "      <td>0.604026</td>\n",
       "      <td>0.915520</td>\n",
       "      <td>276249</td>\n",
       "      <td>479</td>\n",
       "      <td>5191</td>\n",
       "      <td>3403</td>\n",
       "      <td>6.537928</td>\n",
       "      <td>39900</td>\n",
       "      <td>3.008679e+08</td>\n",
       "    </tr>\n",
       "    <tr>\n",
       "      <th>LarryCy3sigma54</th>\n",
       "      <td>0.966184</td>\n",
       "      <td>0.974349</td>\n",
       "      <td>0.964006</td>\n",
       "      <td>432966</td>\n",
       "      <td>1519</td>\n",
       "      <td>40682</td>\n",
       "      <td>1071</td>\n",
       "      <td>11.861751</td>\n",
       "      <td>29900</td>\n",
       "      <td>3.790091e+08</td>\n",
       "    </tr>\n",
       "    <tr>\n",
       "      <th>DanPol2</th>\n",
       "      <td>0.679784</td>\n",
       "      <td>0.660943</td>\n",
       "      <td>0.743984</td>\n",
       "      <td>857100</td>\n",
       "      <td>15246</td>\n",
       "      <td>44305</td>\n",
       "      <td>22728</td>\n",
       "      <td>17.412964</td>\n",
       "      <td>16200</td>\n",
       "      <td>1.025838e+09</td>\n",
       "    </tr>\n",
       "    <tr>\n",
       "      <th>DanMed7</th>\n",
       "      <td>0.106210</td>\n",
       "      <td>0.047125</td>\n",
       "      <td>0.311983</td>\n",
       "      <td>891685</td>\n",
       "      <td>4490</td>\n",
       "      <td>2036</td>\n",
       "      <td>41168</td>\n",
       "      <td>16.647243</td>\n",
       "      <td>9300</td>\n",
       "      <td>9.760370e+08</td>\n",
       "    </tr>\n",
       "  </tbody>\n",
       "</table>\n",
       "</div>"
      ],
      "text/plain": [
       "                         MCC    Recall  Precision      TN     FP     TP  \\\n",
       "FL_5555_6684_1p3OD  0.935212  0.914246   0.959361   33750     28    661   \n",
       "FL_4445_5554_1p1OD  0.969558  0.967158   0.975659   23016     36   1443   \n",
       "FL_3339_4444_0p8OD  0.911796  0.972656   0.859609   26357    122    747   \n",
       "FL_2226_3338_0p6OD  0.960615  0.957995   0.968051   33929     70   2121   \n",
       "FL_1118_2225_0p3OD  0.934025  0.925620   0.945148   35455     39    672   \n",
       "FL_1_1117_0OD       0.899042  0.848020   0.956772   41869     30    664   \n",
       "GraceArticlePol2    0.836745  0.789613   0.925683  248015   2224  27702   \n",
       "GraceArticleCy5     0.737621  0.604026   0.915520  276249    479   5191   \n",
       "LarryCy3sigma54     0.966184  0.974349   0.964006  432966   1519  40682   \n",
       "DanPol2             0.679784  0.660943   0.743984  857100  15246  44305   \n",
       "DanMed7             0.106210  0.047125   0.311983  891685   4490   2036   \n",
       "\n",
       "                       FN       gain   iter         -ELBO  \n",
       "FL_5555_6684_1p3OD     62   6.813893  29900  4.087696e+07  \n",
       "FL_4445_5554_1p1OD     49   6.702144  28700  3.040652e+07  \n",
       "FL_3339_4444_0p8OD     21   6.630430  29900  3.674946e+07  \n",
       "FL_2226_3338_0p6OD     93   6.861265  28300  4.390996e+07  \n",
       "FL_1118_2225_0p3OD     54   6.586484  27400  4.504149e+07  \n",
       "FL_1_1117_0OD         119   6.754858  24500  4.993123e+07  \n",
       "GraceArticlePol2     7381   6.668624  28600  2.905708e+08  \n",
       "GraceArticleCy5      3403   6.537928  39900  3.008679e+08  \n",
       "LarryCy3sigma54      1071  11.861751  29900  3.790091e+08  \n",
       "DanPol2             22728  17.412964  16200  1.025838e+09  \n",
       "DanMed7             41168  16.647243   9300  9.760370e+08  "
      ]
     },
     "execution_count": 7,
     "metadata": {},
     "output_type": "execute_result"
    }
   ],
   "source": [
    "pd.DataFrame(data={\"MCC\": [float(results[name][\"MCC\"]) for name in results.keys()],\n",
    "                   \"Recall\": [float(results[name][\"Recall\"]) for name in results.keys()],\n",
    "                   \"Precision\": [float(results[name][\"Precision\"]) for name in results.keys()],\n",
    "                   \"TN\": [int(results[name][\"TN\"]) for name in results.keys()],\n",
    "                   \"FP\": [int(results[name][\"FP\"]) for name in results.keys()],\n",
    "                   \"TP\": [int(results[name][\"TP\"]) for name in results.keys()],\n",
    "                   \"FN\": [int(results[name][\"FN\"]) for name in results.keys()],\n",
    "                   \"gain\": [float(results[name][\"gain\"]) for name in results.keys()],\n",
    "                   \"iter\": [int(results[name][\"iter\"]) for name in results.keys()],\n",
    "                   \"-ELBO\": [float(results[name][\"-ELBO\"]) for name in results.keys()]},\n",
    "             index=results.keys())"
   ]
  },
  {
   "cell_type": "markdown",
   "metadata": {},
   "source": [
    "Tracker v1.1.3flat"
   ]
  },
  {
   "cell_type": "code",
   "execution_count": 5,
   "metadata": {},
   "outputs": [],
   "source": [
    "results = {}\n",
    "predictions = {}\n",
    "true_labels = {}\n",
    "\n",
    "names = [\"FL_5555_6684_1p3OD\", \"FL_4445_5554_1p1OD\", \"FL_3339_4444_0p8OD\",\n",
    "         \"FL_2226_3338_0p6OD\", \"FL_1118_2225_0p3OD\", \"FL_1_1117_0OD\"]\n",
    "\n",
    "for name in names:\n",
    "    results[name] = pd.read_csv(\n",
    "        \"experimental/nonattenuated/{}/runs/tracker/v1.1.3flat/S1/nocontrol/lr0.005/bs10/params_last.csv\"\n",
    "        .format(name),\n",
    "        header=None, squeeze=True, index_col=0)\n",
    "    predictions[name] = np.load(\n",
    "        \"experimental/nonattenuated/{}/runs/tracker/v1.1.3flat/S1/nocontrol/lr0.005/bs10/predictions.npy\"\n",
    "        .format(name))\n",
    "    true_labels[name] = np.load(\"experimental/nonattenuated/{}/labels.npy\".format(name))"
   ]
  },
  {
   "cell_type": "code",
   "execution_count": 6,
   "metadata": {},
   "outputs": [],
   "source": [
    "names = [\"GraceArticlePol2\", \"GraceArticleCy5\", \"LarryCy3sigma54\",\n",
    "         \"DanPol2\", \"DanMed7\"]\n",
    "batch_sizes = [10, 10, 2, 10, 10]\n",
    "\n",
    "for name, bs in zip(names, batch_sizes):\n",
    "    results[name] = pd.read_csv(\n",
    "        \"test/{}/runs/tracker/v1.1.3/S1/nocontrol/lr0.005/bs{}/params_last.csv\"\n",
    "        .format(name, bs),\n",
    "        header=None, squeeze=True, index_col=0)\n",
    "    predictions[name] = np.load(\n",
    "        \"test/{}/runs/tracker/v1.1.3/S1/nocontrol/lr0.005/bs{}/predictions.npy\"\n",
    "        .format(name, bs))\n",
    "    true_labels[name] = np.load(\"test/{}/labels.npy\".format(name))"
   ]
  },
  {
   "cell_type": "code",
   "execution_count": 7,
   "metadata": {
    "scrolled": false
   },
   "outputs": [
    {
     "data": {
      "text/html": [
       "<div>\n",
       "<style scoped>\n",
       "    .dataframe tbody tr th:only-of-type {\n",
       "        vertical-align: middle;\n",
       "    }\n",
       "\n",
       "    .dataframe tbody tr th {\n",
       "        vertical-align: top;\n",
       "    }\n",
       "\n",
       "    .dataframe thead th {\n",
       "        text-align: right;\n",
       "    }\n",
       "</style>\n",
       "<table border=\"1\" class=\"dataframe\">\n",
       "  <thead>\n",
       "    <tr style=\"text-align: right;\">\n",
       "      <th></th>\n",
       "      <th>MCC</th>\n",
       "      <th>Recall</th>\n",
       "      <th>Precision</th>\n",
       "      <th>TN</th>\n",
       "      <th>FP</th>\n",
       "      <th>TP</th>\n",
       "      <th>FN</th>\n",
       "      <th>gain</th>\n",
       "      <th>iter</th>\n",
       "      <th>-ELBO</th>\n",
       "    </tr>\n",
       "  </thead>\n",
       "  <tbody>\n",
       "    <tr>\n",
       "      <th>FL_5555_6684_1p3OD</th>\n",
       "      <td>0.915697</td>\n",
       "      <td>0.905947</td>\n",
       "      <td>0.929078</td>\n",
       "      <td>33728</td>\n",
       "      <td>50</td>\n",
       "      <td>655</td>\n",
       "      <td>68</td>\n",
       "      <td>6.852407</td>\n",
       "      <td>29900</td>\n",
       "      <td>4.051594e+07</td>\n",
       "    </tr>\n",
       "    <tr>\n",
       "      <th>FL_4445_5554_1p1OD</th>\n",
       "      <td>0.964020</td>\n",
       "      <td>0.967828</td>\n",
       "      <td>0.964596</td>\n",
       "      <td>22999</td>\n",
       "      <td>53</td>\n",
       "      <td>1444</td>\n",
       "      <td>48</td>\n",
       "      <td>6.725662</td>\n",
       "      <td>29900</td>\n",
       "      <td>3.059132e+07</td>\n",
       "    </tr>\n",
       "    <tr>\n",
       "      <th>FL_3339_4444_0p8OD</th>\n",
       "      <td>0.895820</td>\n",
       "      <td>0.975260</td>\n",
       "      <td>0.828540</td>\n",
       "      <td>26324</td>\n",
       "      <td>155</td>\n",
       "      <td>749</td>\n",
       "      <td>19</td>\n",
       "      <td>6.634371</td>\n",
       "      <td>29900</td>\n",
       "      <td>3.688645e+07</td>\n",
       "    </tr>\n",
       "    <tr>\n",
       "      <th>FL_2226_3338_0p6OD</th>\n",
       "      <td>0.961233</td>\n",
       "      <td>0.962511</td>\n",
       "      <td>0.964690</td>\n",
       "      <td>33921</td>\n",
       "      <td>78</td>\n",
       "      <td>2131</td>\n",
       "      <td>83</td>\n",
       "      <td>6.926970</td>\n",
       "      <td>29900</td>\n",
       "      <td>4.365495e+07</td>\n",
       "    </tr>\n",
       "    <tr>\n",
       "      <th>FL_1118_2225_0p3OD</th>\n",
       "      <td>0.927009</td>\n",
       "      <td>0.929752</td>\n",
       "      <td>0.927198</td>\n",
       "      <td>35441</td>\n",
       "      <td>53</td>\n",
       "      <td>675</td>\n",
       "      <td>51</td>\n",
       "      <td>6.566349</td>\n",
       "      <td>29900</td>\n",
       "      <td>4.510156e+07</td>\n",
       "    </tr>\n",
       "    <tr>\n",
       "      <th>FL_1_1117_0OD</th>\n",
       "      <td>0.899000</td>\n",
       "      <td>0.878672</td>\n",
       "      <td>0.923490</td>\n",
       "      <td>41842</td>\n",
       "      <td>57</td>\n",
       "      <td>688</td>\n",
       "      <td>95</td>\n",
       "      <td>6.729361</td>\n",
       "      <td>29900</td>\n",
       "      <td>4.963664e+07</td>\n",
       "    </tr>\n",
       "    <tr>\n",
       "      <th>GraceArticlePol2</th>\n",
       "      <td>0.836745</td>\n",
       "      <td>0.789613</td>\n",
       "      <td>0.925683</td>\n",
       "      <td>248015</td>\n",
       "      <td>2224</td>\n",
       "      <td>27702</td>\n",
       "      <td>7381</td>\n",
       "      <td>6.668624</td>\n",
       "      <td>28600</td>\n",
       "      <td>2.905708e+08</td>\n",
       "    </tr>\n",
       "    <tr>\n",
       "      <th>GraceArticleCy5</th>\n",
       "      <td>0.737621</td>\n",
       "      <td>0.604026</td>\n",
       "      <td>0.915520</td>\n",
       "      <td>276249</td>\n",
       "      <td>479</td>\n",
       "      <td>5191</td>\n",
       "      <td>3403</td>\n",
       "      <td>6.537928</td>\n",
       "      <td>39900</td>\n",
       "      <td>3.008679e+08</td>\n",
       "    </tr>\n",
       "    <tr>\n",
       "      <th>LarryCy3sigma54</th>\n",
       "      <td>0.966184</td>\n",
       "      <td>0.974349</td>\n",
       "      <td>0.964006</td>\n",
       "      <td>432966</td>\n",
       "      <td>1519</td>\n",
       "      <td>40682</td>\n",
       "      <td>1071</td>\n",
       "      <td>11.861751</td>\n",
       "      <td>29900</td>\n",
       "      <td>3.790091e+08</td>\n",
       "    </tr>\n",
       "    <tr>\n",
       "      <th>DanPol2</th>\n",
       "      <td>0.679784</td>\n",
       "      <td>0.660943</td>\n",
       "      <td>0.743984</td>\n",
       "      <td>857100</td>\n",
       "      <td>15246</td>\n",
       "      <td>44305</td>\n",
       "      <td>22728</td>\n",
       "      <td>17.412964</td>\n",
       "      <td>16200</td>\n",
       "      <td>1.025838e+09</td>\n",
       "    </tr>\n",
       "    <tr>\n",
       "      <th>DanMed7</th>\n",
       "      <td>0.106210</td>\n",
       "      <td>0.047125</td>\n",
       "      <td>0.311983</td>\n",
       "      <td>891685</td>\n",
       "      <td>4490</td>\n",
       "      <td>2036</td>\n",
       "      <td>41168</td>\n",
       "      <td>16.647243</td>\n",
       "      <td>9300</td>\n",
       "      <td>9.760370e+08</td>\n",
       "    </tr>\n",
       "  </tbody>\n",
       "</table>\n",
       "</div>"
      ],
      "text/plain": [
       "                         MCC    Recall  Precision      TN     FP     TP  \\\n",
       "FL_5555_6684_1p3OD  0.915697  0.905947   0.929078   33728     50    655   \n",
       "FL_4445_5554_1p1OD  0.964020  0.967828   0.964596   22999     53   1444   \n",
       "FL_3339_4444_0p8OD  0.895820  0.975260   0.828540   26324    155    749   \n",
       "FL_2226_3338_0p6OD  0.961233  0.962511   0.964690   33921     78   2131   \n",
       "FL_1118_2225_0p3OD  0.927009  0.929752   0.927198   35441     53    675   \n",
       "FL_1_1117_0OD       0.899000  0.878672   0.923490   41842     57    688   \n",
       "GraceArticlePol2    0.836745  0.789613   0.925683  248015   2224  27702   \n",
       "GraceArticleCy5     0.737621  0.604026   0.915520  276249    479   5191   \n",
       "LarryCy3sigma54     0.966184  0.974349   0.964006  432966   1519  40682   \n",
       "DanPol2             0.679784  0.660943   0.743984  857100  15246  44305   \n",
       "DanMed7             0.106210  0.047125   0.311983  891685   4490   2036   \n",
       "\n",
       "                       FN       gain   iter         -ELBO  \n",
       "FL_5555_6684_1p3OD     68   6.852407  29900  4.051594e+07  \n",
       "FL_4445_5554_1p1OD     48   6.725662  29900  3.059132e+07  \n",
       "FL_3339_4444_0p8OD     19   6.634371  29900  3.688645e+07  \n",
       "FL_2226_3338_0p6OD     83   6.926970  29900  4.365495e+07  \n",
       "FL_1118_2225_0p3OD     51   6.566349  29900  4.510156e+07  \n",
       "FL_1_1117_0OD          95   6.729361  29900  4.963664e+07  \n",
       "GraceArticlePol2     7381   6.668624  28600  2.905708e+08  \n",
       "GraceArticleCy5      3403   6.537928  39900  3.008679e+08  \n",
       "LarryCy3sigma54      1071  11.861751  29900  3.790091e+08  \n",
       "DanPol2             22728  17.412964  16200  1.025838e+09  \n",
       "DanMed7             41168  16.647243   9300  9.760370e+08  "
      ]
     },
     "execution_count": 7,
     "metadata": {},
     "output_type": "execute_result"
    }
   ],
   "source": [
    "pd.DataFrame(data={\"MCC\": [float(results[name][\"MCC\"]) for name in results.keys()],\n",
    "                   \"Recall\": [float(results[name][\"Recall\"]) for name in results.keys()],\n",
    "                   \"Precision\": [float(results[name][\"Precision\"]) for name in results.keys()],\n",
    "                   \"TN\": [int(results[name][\"TN\"]) for name in results.keys()],\n",
    "                   \"FP\": [int(results[name][\"FP\"]) for name in results.keys()],\n",
    "                   \"TP\": [int(results[name][\"TP\"]) for name in results.keys()],\n",
    "                   \"FN\": [int(results[name][\"FN\"]) for name in results.keys()],\n",
    "                   \"gain\": [float(results[name][\"gain\"]) for name in results.keys()],\n",
    "                   \"iter\": [int(results[name][\"iter\"]) for name in results.keys()],\n",
    "                   \"-ELBO\": [float(results[name][\"-ELBO\"]) for name in results.keys()]},\n",
    "             index=results.keys())"
   ]
  },
  {
   "cell_type": "markdown",
   "metadata": {},
   "source": [
    "### Orange dye attenuated data"
   ]
  },
  {
   "cell_type": "code",
   "execution_count": 9,
   "metadata": {},
   "outputs": [],
   "source": [
    "snr = [0.63, 0.79, 1.12, 1.41, 1.99, 2.81]"
   ]
  },
  {
   "cell_type": "markdown",
   "metadata": {},
   "source": [
    "Tracker v1.0"
   ]
  },
  {
   "cell_type": "code",
   "execution_count": 43,
   "metadata": {},
   "outputs": [],
   "source": [
    "results = {}\n",
    "predictions = {}\n",
    "true_labels = {}\n",
    "\n",
    "names = [\"FL_5555_6684_1p3OD_atten_noHysteresis_0p5_prob\", \"FL_4445_5554_1p1OD_atten_noHysteresis_0p5_prob\",\n",
    "         \"FL_3339_4444_0p8OD_atten_noHysteresis_0p5_prob\", \"FL_2226_3338_0p6OD_atten_noHysteresis_0p5_prob\",\n",
    "         \"FL_1118_2225_0p3OD_atten_noHysteresis_0p5_prob\", \"FL_1_1117_0OD_atten_noHysteresis_0p5_prob\"]\n",
    "batch_sizes = [32, 28, 32, 32, 32, 32]\n",
    "\n",
    "for name, bs in zip(names, batch_sizes):\n",
    "    results[name] = pd.read_csv(\n",
    "        \"experimental_data/{}/runs/trackerv1.0/nojit/lr0.005/Adam/{}/params_last.csv\"\n",
    "        .format(name, bs),\n",
    "        header=None, squeeze=True, index_col=0)\n",
    "    predictions[name] = np.load(\n",
    "        \"experimental_data/{}/runs/trackerv1.0/nojit/lr0.005/Adam/{}/predictions.npy\"\n",
    "        .format(name, bs))\n",
    "    true_labels[name] = np.load(\"experimental_data/{}/test_labels.npy\".format(name))"
   ]
  },
  {
   "cell_type": "code",
   "execution_count": 44,
   "metadata": {},
   "outputs": [
    {
     "data": {
      "text/html": [
       "<div>\n",
       "<style scoped>\n",
       "    .dataframe tbody tr th:only-of-type {\n",
       "        vertical-align: middle;\n",
       "    }\n",
       "\n",
       "    .dataframe tbody tr th {\n",
       "        vertical-align: top;\n",
       "    }\n",
       "\n",
       "    .dataframe thead th {\n",
       "        text-align: right;\n",
       "    }\n",
       "</style>\n",
       "<table border=\"1\" class=\"dataframe\">\n",
       "  <thead>\n",
       "    <tr style=\"text-align: right;\">\n",
       "      <th></th>\n",
       "      <th>MCC</th>\n",
       "      <th>Recall</th>\n",
       "      <th>TNR</th>\n",
       "      <th>TN</th>\n",
       "      <th>FP</th>\n",
       "      <th>TP</th>\n",
       "      <th>FN</th>\n",
       "      <th>epoch_count</th>\n",
       "      <th>-ELBO</th>\n",
       "    </tr>\n",
       "  </thead>\n",
       "  <tbody>\n",
       "    <tr>\n",
       "      <th>FL_5555_6684_1p3OD_atten_noHysteresis_0p5_prob</th>\n",
       "      <td>0.358584</td>\n",
       "      <td>0.136778</td>\n",
       "      <td>0.999881</td>\n",
       "      <td>33748</td>\n",
       "      <td>4</td>\n",
       "      <td>90</td>\n",
       "      <td>568</td>\n",
       "      <td>19900</td>\n",
       "      <td>49202528.0</td>\n",
       "    </tr>\n",
       "    <tr>\n",
       "      <th>FL_4445_5554_1p1OD_atten_noHysteresis_0p5_prob</th>\n",
       "      <td>0.501784</td>\n",
       "      <td>0.264111</td>\n",
       "      <td>0.999957</td>\n",
       "      <td>23012</td>\n",
       "      <td>1</td>\n",
       "      <td>379</td>\n",
       "      <td>1056</td>\n",
       "      <td>19900</td>\n",
       "      <td>37661432.0</td>\n",
       "    </tr>\n",
       "    <tr>\n",
       "      <th>FL_3339_4444_0p8OD_atten_noHysteresis_0p5_prob</th>\n",
       "      <td>0.743015</td>\n",
       "      <td>0.600271</td>\n",
       "      <td>0.998788</td>\n",
       "      <td>26361</td>\n",
       "      <td>32</td>\n",
       "      <td>443</td>\n",
       "      <td>295</td>\n",
       "      <td>19900</td>\n",
       "      <td>49752800.0</td>\n",
       "    </tr>\n",
       "    <tr>\n",
       "      <th>FL_2226_3338_0p6OD_atten_noHysteresis_0p5_prob</th>\n",
       "      <td>0.929669</td>\n",
       "      <td>0.888155</td>\n",
       "      <td>0.998939</td>\n",
       "      <td>33898</td>\n",
       "      <td>36</td>\n",
       "      <td>1882</td>\n",
       "      <td>237</td>\n",
       "      <td>19900</td>\n",
       "      <td>62629708.0</td>\n",
       "    </tr>\n",
       "    <tr>\n",
       "      <th>FL_1118_2225_0p3OD_atten_noHysteresis_0p5_prob</th>\n",
       "      <td>0.951491</td>\n",
       "      <td>0.970060</td>\n",
       "      <td>0.998731</td>\n",
       "      <td>35419</td>\n",
       "      <td>45</td>\n",
       "      <td>648</td>\n",
       "      <td>20</td>\n",
       "      <td>15100</td>\n",
       "      <td>72651920.0</td>\n",
       "    </tr>\n",
       "    <tr>\n",
       "      <th>FL_1_1117_0OD_atten_noHysteresis_0p5_prob</th>\n",
       "      <td>0.902374</td>\n",
       "      <td>0.978820</td>\n",
       "      <td>0.996943</td>\n",
       "      <td>41749</td>\n",
       "      <td>128</td>\n",
       "      <td>647</td>\n",
       "      <td>14</td>\n",
       "      <td>15200</td>\n",
       "      <td>87980600.0</td>\n",
       "    </tr>\n",
       "  </tbody>\n",
       "</table>\n",
       "</div>"
      ],
      "text/plain": [
       "                                                     MCC    Recall       TNR  \\\n",
       "FL_5555_6684_1p3OD_atten_noHysteresis_0p5_prob  0.358584  0.136778  0.999881   \n",
       "FL_4445_5554_1p1OD_atten_noHysteresis_0p5_prob  0.501784  0.264111  0.999957   \n",
       "FL_3339_4444_0p8OD_atten_noHysteresis_0p5_prob  0.743015  0.600271  0.998788   \n",
       "FL_2226_3338_0p6OD_atten_noHysteresis_0p5_prob  0.929669  0.888155  0.998939   \n",
       "FL_1118_2225_0p3OD_atten_noHysteresis_0p5_prob  0.951491  0.970060  0.998731   \n",
       "FL_1_1117_0OD_atten_noHysteresis_0p5_prob       0.902374  0.978820  0.996943   \n",
       "\n",
       "                                                   TN   FP    TP    FN  \\\n",
       "FL_5555_6684_1p3OD_atten_noHysteresis_0p5_prob  33748    4    90   568   \n",
       "FL_4445_5554_1p1OD_atten_noHysteresis_0p5_prob  23012    1   379  1056   \n",
       "FL_3339_4444_0p8OD_atten_noHysteresis_0p5_prob  26361   32   443   295   \n",
       "FL_2226_3338_0p6OD_atten_noHysteresis_0p5_prob  33898   36  1882   237   \n",
       "FL_1118_2225_0p3OD_atten_noHysteresis_0p5_prob  35419   45   648    20   \n",
       "FL_1_1117_0OD_atten_noHysteresis_0p5_prob       41749  128   647    14   \n",
       "\n",
       "                                                epoch_count       -ELBO  \n",
       "FL_5555_6684_1p3OD_atten_noHysteresis_0p5_prob        19900  49202528.0  \n",
       "FL_4445_5554_1p1OD_atten_noHysteresis_0p5_prob        19900  37661432.0  \n",
       "FL_3339_4444_0p8OD_atten_noHysteresis_0p5_prob        19900  49752800.0  \n",
       "FL_2226_3338_0p6OD_atten_noHysteresis_0p5_prob        19900  62629708.0  \n",
       "FL_1118_2225_0p3OD_atten_noHysteresis_0p5_prob        15100  72651920.0  \n",
       "FL_1_1117_0OD_atten_noHysteresis_0p5_prob             15200  87980600.0  "
      ]
     },
     "execution_count": 44,
     "metadata": {},
     "output_type": "execute_result"
    }
   ],
   "source": [
    "scores_v1p0 = pd.DataFrame(data={\"MCC\": [float(results[name][\"MCC\"]) for name in names],\n",
    "                   \"Recall\": [float(results[name][\"TPR\"]) for name in names],\n",
    "                   \"TNR\": [float(results[name][\"TNR\"]) for name in names],\n",
    "                   \"TN\": [int(results[name][\"TN\"]) for name in names],\n",
    "                   \"FP\": [int(results[name][\"FP\"]) for name in names],\n",
    "                   \"TP\": [int(results[name][\"TP\"]) for name in names],\n",
    "                   \"FN\": [int(results[name][\"FN\"]) for name in names],\n",
    "                   \"epoch_count\": [int(results[name][\"epoch_count\"]) for name in names],\n",
    "                   \"-ELBO\": [float(results[name][\"-ELBO\"]) for name in names]},\n",
    "             index=names)\n",
    "scores_v1p0"
   ]
  },
  {
   "cell_type": "markdown",
   "metadata": {},
   "source": [
    "Tracker v1.1"
   ]
  },
  {
   "cell_type": "code",
   "execution_count": 73,
   "metadata": {},
   "outputs": [],
   "source": [
    "results = {}\n",
    "predictions = {}\n",
    "true_labels = {}\n",
    "\n",
    "names = [\"FL_5555_6684_1p3OD_atten_noHysteresis_0p5_prob\", \"FL_4445_5554_1p1OD_atten_noHysteresis_0p5_prob\",\n",
    "         \"FL_3339_4444_0p8OD_atten_noHysteresis_0p5_prob\", \"FL_2226_3338_0p6OD_atten_noHysteresis_0p5_prob\",\n",
    "         \"FL_1118_2225_0p3OD_atten_noHysteresis_0p5_prob\", \"FL_1_1117_0OD_atten_noHysteresis_0p5_prob\"]\n",
    "\n",
    "for name in names:\n",
    "    results[name] = pd.read_csv(\n",
    "        \"experimental_data/{}/runs/trackerv1.1/nojit/lr0.005/Adam/16/params_last.csv\"\n",
    "        .format(name),\n",
    "        header=None, squeeze=True, index_col=0)\n",
    "    predictions[name] = np.load(\n",
    "        \"experimental_data/{}/runs/trackerv1.1/nojit/lr0.005/Adam/16/predictions.npy\"\n",
    "        .format(name))\n",
    "    true_labels[name] = np.load(\"experimental_data/{}/test_labels.npy\".format(name))"
   ]
  },
  {
   "cell_type": "code",
   "execution_count": 74,
   "metadata": {},
   "outputs": [
    {
     "data": {
      "text/html": [
       "<div>\n",
       "<style scoped>\n",
       "    .dataframe tbody tr th:only-of-type {\n",
       "        vertical-align: middle;\n",
       "    }\n",
       "\n",
       "    .dataframe tbody tr th {\n",
       "        vertical-align: top;\n",
       "    }\n",
       "\n",
       "    .dataframe thead th {\n",
       "        text-align: right;\n",
       "    }\n",
       "</style>\n",
       "<table border=\"1\" class=\"dataframe\">\n",
       "  <thead>\n",
       "    <tr style=\"text-align: right;\">\n",
       "      <th></th>\n",
       "      <th>MCC</th>\n",
       "      <th>Recall</th>\n",
       "      <th>TNR</th>\n",
       "      <th>TN</th>\n",
       "      <th>FP</th>\n",
       "      <th>TP</th>\n",
       "      <th>FN</th>\n",
       "      <th>epoch_count</th>\n",
       "      <th>-ELBO</th>\n",
       "    </tr>\n",
       "  </thead>\n",
       "  <tbody>\n",
       "    <tr>\n",
       "      <th>FL_5555_6684_1p3OD_atten_noHysteresis_0p5_prob</th>\n",
       "      <td>0.426782</td>\n",
       "      <td>0.214939</td>\n",
       "      <td>0.999348</td>\n",
       "      <td>33733</td>\n",
       "      <td>22</td>\n",
       "      <td>141</td>\n",
       "      <td>515</td>\n",
       "      <td>19900</td>\n",
       "      <td>55099996.0</td>\n",
       "    </tr>\n",
       "    <tr>\n",
       "      <th>FL_4445_5554_1p1OD_atten_noHysteresis_0p5_prob</th>\n",
       "      <td>0.519200</td>\n",
       "      <td>0.287604</td>\n",
       "      <td>0.999652</td>\n",
       "      <td>23006</td>\n",
       "      <td>8</td>\n",
       "      <td>413</td>\n",
       "      <td>1023</td>\n",
       "      <td>19900</td>\n",
       "      <td>40712504.0</td>\n",
       "    </tr>\n",
       "    <tr>\n",
       "      <th>FL_3339_4444_0p8OD_atten_noHysteresis_0p5_prob</th>\n",
       "      <td>0.736703</td>\n",
       "      <td>0.592141</td>\n",
       "      <td>0.998750</td>\n",
       "      <td>26358</td>\n",
       "      <td>33</td>\n",
       "      <td>437</td>\n",
       "      <td>301</td>\n",
       "      <td>19900</td>\n",
       "      <td>50764684.0</td>\n",
       "    </tr>\n",
       "    <tr>\n",
       "      <th>FL_2226_3338_0p6OD_atten_noHysteresis_0p5_prob</th>\n",
       "      <td>0.929040</td>\n",
       "      <td>0.884706</td>\n",
       "      <td>0.999086</td>\n",
       "      <td>33904</td>\n",
       "      <td>31</td>\n",
       "      <td>1880</td>\n",
       "      <td>245</td>\n",
       "      <td>19900</td>\n",
       "      <td>63284660.0</td>\n",
       "    </tr>\n",
       "    <tr>\n",
       "      <th>FL_1118_2225_0p3OD_atten_noHysteresis_0p5_prob</th>\n",
       "      <td>0.952989</td>\n",
       "      <td>0.971557</td>\n",
       "      <td>0.998759</td>\n",
       "      <td>35421</td>\n",
       "      <td>44</td>\n",
       "      <td>649</td>\n",
       "      <td>19</td>\n",
       "      <td>19900</td>\n",
       "      <td>72770968.0</td>\n",
       "    </tr>\n",
       "    <tr>\n",
       "      <th>FL_1_1117_0OD_atten_noHysteresis_0p5_prob</th>\n",
       "      <td>0.904968</td>\n",
       "      <td>0.972932</td>\n",
       "      <td>0.997158</td>\n",
       "      <td>41753</td>\n",
       "      <td>119</td>\n",
       "      <td>647</td>\n",
       "      <td>18</td>\n",
       "      <td>15500</td>\n",
       "      <td>87875304.0</td>\n",
       "    </tr>\n",
       "  </tbody>\n",
       "</table>\n",
       "</div>"
      ],
      "text/plain": [
       "                                                     MCC    Recall       TNR  \\\n",
       "FL_5555_6684_1p3OD_atten_noHysteresis_0p5_prob  0.426782  0.214939  0.999348   \n",
       "FL_4445_5554_1p1OD_atten_noHysteresis_0p5_prob  0.519200  0.287604  0.999652   \n",
       "FL_3339_4444_0p8OD_atten_noHysteresis_0p5_prob  0.736703  0.592141  0.998750   \n",
       "FL_2226_3338_0p6OD_atten_noHysteresis_0p5_prob  0.929040  0.884706  0.999086   \n",
       "FL_1118_2225_0p3OD_atten_noHysteresis_0p5_prob  0.952989  0.971557  0.998759   \n",
       "FL_1_1117_0OD_atten_noHysteresis_0p5_prob       0.904968  0.972932  0.997158   \n",
       "\n",
       "                                                   TN   FP    TP    FN  \\\n",
       "FL_5555_6684_1p3OD_atten_noHysteresis_0p5_prob  33733   22   141   515   \n",
       "FL_4445_5554_1p1OD_atten_noHysteresis_0p5_prob  23006    8   413  1023   \n",
       "FL_3339_4444_0p8OD_atten_noHysteresis_0p5_prob  26358   33   437   301   \n",
       "FL_2226_3338_0p6OD_atten_noHysteresis_0p5_prob  33904   31  1880   245   \n",
       "FL_1118_2225_0p3OD_atten_noHysteresis_0p5_prob  35421   44   649    19   \n",
       "FL_1_1117_0OD_atten_noHysteresis_0p5_prob       41753  119   647    18   \n",
       "\n",
       "                                                epoch_count       -ELBO  \n",
       "FL_5555_6684_1p3OD_atten_noHysteresis_0p5_prob        19900  55099996.0  \n",
       "FL_4445_5554_1p1OD_atten_noHysteresis_0p5_prob        19900  40712504.0  \n",
       "FL_3339_4444_0p8OD_atten_noHysteresis_0p5_prob        19900  50764684.0  \n",
       "FL_2226_3338_0p6OD_atten_noHysteresis_0p5_prob        19900  63284660.0  \n",
       "FL_1118_2225_0p3OD_atten_noHysteresis_0p5_prob        19900  72770968.0  \n",
       "FL_1_1117_0OD_atten_noHysteresis_0p5_prob             15500  87875304.0  "
      ]
     },
     "execution_count": 74,
     "metadata": {},
     "output_type": "execute_result"
    }
   ],
   "source": [
    "scores_v1p1 = pd.DataFrame(data={\"MCC\": [float(results[name][\"MCC\"]) for name in names],\n",
    "                   \"Recall\": [float(results[name][\"TPR\"]) for name in names],\n",
    "                   \"TNR\": [float(results[name][\"TNR\"]) for name in names],\n",
    "                   \"TN\": [int(results[name][\"TN\"]) for name in names],\n",
    "                   \"FP\": [int(results[name][\"FP\"]) for name in names],\n",
    "                   \"TP\": [int(results[name][\"TP\"]) for name in names],\n",
    "                   \"FN\": [int(results[name][\"FN\"]) for name in names],\n",
    "                   \"epoch_count\": [int(results[name][\"epoch_count\"]) for name in names],\n",
    "                   \"-ELBO\": [float(results[name][\"-ELBO\"]) for name in names]},\n",
    "             index=names)\n",
    "scores_v1p1"
   ]
  },
  {
   "cell_type": "markdown",
   "metadata": {},
   "source": [
    "Tracker v1.1.3"
   ]
  },
  {
   "cell_type": "code",
   "execution_count": 4,
   "metadata": {},
   "outputs": [],
   "source": [
    "results = {}\n",
    "predictions = {}\n",
    "true_labels = {}\n",
    "\n",
    "names = [\"FL_5555_6684_1p3OD_atten_noHysteresis_0p5_prob\", \"FL_4445_5554_1p1OD_atten_noHysteresis_0p5_prob\",\n",
    "         \"FL_3339_4444_0p8OD_atten_noHysteresis_0p5_prob\", \"FL_2226_3338_0p6OD_atten_noHysteresis_0p5_prob\",\n",
    "         \"FL_1118_2225_0p3OD_atten_noHysteresis_0p5_prob\", \"FL_1_1117_0OD_atten_noHysteresis_0p5_prob\"]\n",
    "\n",
    "for name in names:\n",
    "    results[name] = pd.read_csv(\n",
    "        \"experimental/attenuated/{}/runs/tracker/v1.1.3/S1/nocontrol/lr0.005/bs10/params_last.csv\"\n",
    "        .format(name),\n",
    "        header=None, squeeze=True, index_col=0)\n",
    "    predictions[name] = np.load(\n",
    "        \"experimental/attenuated/{}/runs/tracker/v1.1.3/S1/nocontrol/lr0.005/bs10/predictions.npy\"\n",
    "        .format(name))\n",
    "    true_labels[name] = np.load(\"experimental/attenuated/{}/labels.npy\".format(name))"
   ]
  },
  {
   "cell_type": "code",
   "execution_count": 5,
   "metadata": {},
   "outputs": [
    {
     "data": {
      "text/html": [
       "<div>\n",
       "<style scoped>\n",
       "    .dataframe tbody tr th:only-of-type {\n",
       "        vertical-align: middle;\n",
       "    }\n",
       "\n",
       "    .dataframe tbody tr th {\n",
       "        vertical-align: top;\n",
       "    }\n",
       "\n",
       "    .dataframe thead th {\n",
       "        text-align: right;\n",
       "    }\n",
       "</style>\n",
       "<table border=\"1\" class=\"dataframe\">\n",
       "  <thead>\n",
       "    <tr style=\"text-align: right;\">\n",
       "      <th></th>\n",
       "      <th>MCC</th>\n",
       "      <th>Recall</th>\n",
       "      <th>Precision</th>\n",
       "      <th>TN</th>\n",
       "      <th>FP</th>\n",
       "      <th>TP</th>\n",
       "      <th>FN</th>\n",
       "      <th>gain</th>\n",
       "      <th>iter</th>\n",
       "      <th>-ELBO</th>\n",
       "    </tr>\n",
       "  </thead>\n",
       "  <tbody>\n",
       "    <tr>\n",
       "      <th>FL_5555_6684_1p3OD_atten_noHysteresis_0p5_prob</th>\n",
       "      <td>0.420119</td>\n",
       "      <td>0.195159</td>\n",
       "      <td>0.921429</td>\n",
       "      <td>33739</td>\n",
       "      <td>11</td>\n",
       "      <td>129</td>\n",
       "      <td>532</td>\n",
       "      <td>1.829710</td>\n",
       "      <td>18900</td>\n",
       "      <td>27404944.0</td>\n",
       "    </tr>\n",
       "    <tr>\n",
       "      <th>FL_4445_5554_1p1OD_atten_noHysteresis_0p5_prob</th>\n",
       "      <td>0.512830</td>\n",
       "      <td>0.277200</td>\n",
       "      <td>0.992556</td>\n",
       "      <td>23013</td>\n",
       "      <td>3</td>\n",
       "      <td>400</td>\n",
       "      <td>1043</td>\n",
       "      <td>2.763174</td>\n",
       "      <td>23600</td>\n",
       "      <td>20822746.0</td>\n",
       "    </tr>\n",
       "    <tr>\n",
       "      <th>FL_3339_4444_0p8OD_atten_noHysteresis_0p5_prob</th>\n",
       "      <td>0.719570</td>\n",
       "      <td>0.586345</td>\n",
       "      <td>0.897541</td>\n",
       "      <td>26307</td>\n",
       "      <td>50</td>\n",
       "      <td>438</td>\n",
       "      <td>309</td>\n",
       "      <td>5.254915</td>\n",
       "      <td>20800</td>\n",
       "      <td>25341236.0</td>\n",
       "    </tr>\n",
       "    <tr>\n",
       "      <th>FL_2226_3338_0p6OD_atten_noHysteresis_0p5_prob</th>\n",
       "      <td>0.925784</td>\n",
       "      <td>0.884017</td>\n",
       "      <td>0.978091</td>\n",
       "      <td>33887</td>\n",
       "      <td>42</td>\n",
       "      <td>1875</td>\n",
       "      <td>246</td>\n",
       "      <td>6.797799</td>\n",
       "      <td>29900</td>\n",
       "      <td>31206850.0</td>\n",
       "    </tr>\n",
       "    <tr>\n",
       "      <th>FL_1118_2225_0p3OD_atten_noHysteresis_0p5_prob</th>\n",
       "      <td>0.947720</td>\n",
       "      <td>0.971726</td>\n",
       "      <td>0.926241</td>\n",
       "      <td>35403</td>\n",
       "      <td>52</td>\n",
       "      <td>653</td>\n",
       "      <td>19</td>\n",
       "      <td>6.822933</td>\n",
       "      <td>29900</td>\n",
       "      <td>36285644.0</td>\n",
       "    </tr>\n",
       "    <tr>\n",
       "      <th>FL_1_1117_0OD_atten_noHysteresis_0p5_prob</th>\n",
       "      <td>0.893441</td>\n",
       "      <td>0.978916</td>\n",
       "      <td>0.818640</td>\n",
       "      <td>41725</td>\n",
       "      <td>144</td>\n",
       "      <td>650</td>\n",
       "      <td>14</td>\n",
       "      <td>7.009550</td>\n",
       "      <td>24100</td>\n",
       "      <td>44571216.0</td>\n",
       "    </tr>\n",
       "  </tbody>\n",
       "</table>\n",
       "</div>"
      ],
      "text/plain": [
       "                                                     MCC    Recall  Precision  \\\n",
       "FL_5555_6684_1p3OD_atten_noHysteresis_0p5_prob  0.420119  0.195159   0.921429   \n",
       "FL_4445_5554_1p1OD_atten_noHysteresis_0p5_prob  0.512830  0.277200   0.992556   \n",
       "FL_3339_4444_0p8OD_atten_noHysteresis_0p5_prob  0.719570  0.586345   0.897541   \n",
       "FL_2226_3338_0p6OD_atten_noHysteresis_0p5_prob  0.925784  0.884017   0.978091   \n",
       "FL_1118_2225_0p3OD_atten_noHysteresis_0p5_prob  0.947720  0.971726   0.926241   \n",
       "FL_1_1117_0OD_atten_noHysteresis_0p5_prob       0.893441  0.978916   0.818640   \n",
       "\n",
       "                                                   TN   FP    TP    FN  \\\n",
       "FL_5555_6684_1p3OD_atten_noHysteresis_0p5_prob  33739   11   129   532   \n",
       "FL_4445_5554_1p1OD_atten_noHysteresis_0p5_prob  23013    3   400  1043   \n",
       "FL_3339_4444_0p8OD_atten_noHysteresis_0p5_prob  26307   50   438   309   \n",
       "FL_2226_3338_0p6OD_atten_noHysteresis_0p5_prob  33887   42  1875   246   \n",
       "FL_1118_2225_0p3OD_atten_noHysteresis_0p5_prob  35403   52   653    19   \n",
       "FL_1_1117_0OD_atten_noHysteresis_0p5_prob       41725  144   650    14   \n",
       "\n",
       "                                                    gain   iter       -ELBO  \n",
       "FL_5555_6684_1p3OD_atten_noHysteresis_0p5_prob  1.829710  18900  27404944.0  \n",
       "FL_4445_5554_1p1OD_atten_noHysteresis_0p5_prob  2.763174  23600  20822746.0  \n",
       "FL_3339_4444_0p8OD_atten_noHysteresis_0p5_prob  5.254915  20800  25341236.0  \n",
       "FL_2226_3338_0p6OD_atten_noHysteresis_0p5_prob  6.797799  29900  31206850.0  \n",
       "FL_1118_2225_0p3OD_atten_noHysteresis_0p5_prob  6.822933  29900  36285644.0  \n",
       "FL_1_1117_0OD_atten_noHysteresis_0p5_prob       7.009550  24100  44571216.0  "
      ]
     },
     "execution_count": 5,
     "metadata": {},
     "output_type": "execute_result"
    }
   ],
   "source": [
    "scores_v1p13 = pd.DataFrame(data={\"MCC\": [float(results[name][\"MCC\"]) for name in results.keys()],\n",
    "                   \"Recall\": [float(results[name][\"Recall\"]) for name in results.keys()],\n",
    "                   \"Precision\": [float(results[name][\"Precision\"]) for name in results.keys()],\n",
    "                   \"TN\": [int(results[name][\"TN\"]) for name in results.keys()],\n",
    "                   \"FP\": [int(results[name][\"FP\"]) for name in results.keys()],\n",
    "                   \"TP\": [int(results[name][\"TP\"]) for name in results.keys()],\n",
    "                   \"FN\": [int(results[name][\"FN\"]) for name in results.keys()],\n",
    "                   \"gain\": [float(results[name][\"gain\"]) for name in results.keys()],\n",
    "                   \"iter\": [int(results[name][\"iter\"]) for name in results.keys()],\n",
    "                   \"-ELBO\": [float(results[name][\"-ELBO\"]) for name in results.keys()]},\n",
    "             index=results.keys())\n",
    "scores_v1p13"
   ]
  },
  {
   "cell_type": "code",
   "execution_count": 6,
   "metadata": {},
   "outputs": [
    {
     "data": {
      "text/html": [
       "<div>\n",
       "<style scoped>\n",
       "    .dataframe tbody tr th:only-of-type {\n",
       "        vertical-align: middle;\n",
       "    }\n",
       "\n",
       "    .dataframe tbody tr th {\n",
       "        vertical-align: top;\n",
       "    }\n",
       "\n",
       "    .dataframe thead th {\n",
       "        text-align: right;\n",
       "    }\n",
       "</style>\n",
       "<table border=\"1\" class=\"dataframe\">\n",
       "  <thead>\n",
       "    <tr style=\"text-align: right;\">\n",
       "      <th></th>\n",
       "      <th>spMCC</th>\n",
       "      <th>spRecall</th>\n",
       "      <th>spPrecision</th>\n",
       "    </tr>\n",
       "  </thead>\n",
       "  <tbody>\n",
       "    <tr>\n",
       "      <th>FL_5555_6684_1p3OD_atten_noHysteresis_0p5_prob</th>\n",
       "      <td>0.426138</td>\n",
       "      <td>0.211800</td>\n",
       "      <td>0.875000</td>\n",
       "    </tr>\n",
       "    <tr>\n",
       "      <th>FL_4445_5554_1p1OD_atten_noHysteresis_0p5_prob</th>\n",
       "      <td>0.480272</td>\n",
       "      <td>0.244629</td>\n",
       "      <td>0.988796</td>\n",
       "    </tr>\n",
       "    <tr>\n",
       "      <th>FL_3339_4444_0p8OD_atten_noHysteresis_0p5_prob</th>\n",
       "      <td>0.674511</td>\n",
       "      <td>0.514056</td>\n",
       "      <td>0.901408</td>\n",
       "    </tr>\n",
       "    <tr>\n",
       "      <th>FL_2226_3338_0p6OD_atten_noHysteresis_0p5_prob</th>\n",
       "      <td>0.893359</td>\n",
       "      <td>0.857614</td>\n",
       "      <td>0.942976</td>\n",
       "    </tr>\n",
       "    <tr>\n",
       "      <th>FL_1118_2225_0p3OD_atten_noHysteresis_0p5_prob</th>\n",
       "      <td>0.910230</td>\n",
       "      <td>0.962798</td>\n",
       "      <td>0.863818</td>\n",
       "    </tr>\n",
       "    <tr>\n",
       "      <th>FL_1_1117_0OD_atten_noHysteresis_0p5_prob</th>\n",
       "      <td>0.840818</td>\n",
       "      <td>0.980422</td>\n",
       "      <td>0.725753</td>\n",
       "    </tr>\n",
       "  </tbody>\n",
       "</table>\n",
       "</div>"
      ],
      "text/plain": [
       "                                                   spMCC  spRecall  \\\n",
       "FL_5555_6684_1p3OD_atten_noHysteresis_0p5_prob  0.426138  0.211800   \n",
       "FL_4445_5554_1p1OD_atten_noHysteresis_0p5_prob  0.480272  0.244629   \n",
       "FL_3339_4444_0p8OD_atten_noHysteresis_0p5_prob  0.674511  0.514056   \n",
       "FL_2226_3338_0p6OD_atten_noHysteresis_0p5_prob  0.893359  0.857614   \n",
       "FL_1118_2225_0p3OD_atten_noHysteresis_0p5_prob  0.910230  0.962798   \n",
       "FL_1_1117_0OD_atten_noHysteresis_0p5_prob       0.840818  0.980422   \n",
       "\n",
       "                                                spPrecision  \n",
       "FL_5555_6684_1p3OD_atten_noHysteresis_0p5_prob     0.875000  \n",
       "FL_4445_5554_1p1OD_atten_noHysteresis_0p5_prob     0.988796  \n",
       "FL_3339_4444_0p8OD_atten_noHysteresis_0p5_prob     0.901408  \n",
       "FL_2226_3338_0p6OD_atten_noHysteresis_0p5_prob     0.942976  \n",
       "FL_1118_2225_0p3OD_atten_noHysteresis_0p5_prob     0.863818  \n",
       "FL_1_1117_0OD_atten_noHysteresis_0p5_prob          0.725753  "
      ]
     },
     "execution_count": 6,
     "metadata": {},
     "output_type": "execute_result"
    }
   ],
   "source": [
    "scores_sp = pd.DataFrame(data={\"spMCC\": [matthews_corrcoef(true_labels[name][\"z\"][true_labels[name][\"z\"]<2], true_labels[name][\"spotpicker\"][true_labels[name][\"z\"]<2]) for name in names],\n",
    "                   \"spRecall\": [recall_score(true_labels[name][\"z\"][true_labels[name][\"z\"]<2], true_labels[name][\"spotpicker\"][true_labels[name][\"z\"]<2]) for name in names],\n",
    "                   \"spPrecision\": [precision_score(true_labels[name][\"z\"][true_labels[name][\"z\"]<2], true_labels[name][\"spotpicker\"][true_labels[name][\"z\"]<2]) for name in names],\n",
    "                    },\n",
    "             index=names)\n",
    "scores_sp"
   ]
  },
  {
   "cell_type": "code",
   "execution_count": 15,
   "metadata": {},
   "outputs": [
    {
     "data": {
      "image/png": "[encoded data removed]",
      "text/plain": [
       "<Figure size 720x576 with 2 Axes>"
      ]
     },
     "metadata": {
      "needs_background": "light"
     },
     "output_type": "display_data"
    }
   ],
   "source": [
    "plt.figure(figsize=(10,8))\n",
    "\n",
    "plt.subplot(221)\n",
    "plt.plot(snr, scores_v1p13[\"MCC\"], \"o-\", label=\"MCC\")\n",
    "plt.plot(snr, scores_v1p13[\"Recall\"], \"o-\", label=\"Recall\")\n",
    "plt.plot(snr, scores_v1p13[\"Precision\"], \"o-\", label=\"Precision\")\n",
    "\n",
    "plt.ylim(0,1.05)\n",
    "plt.xlim(0,1)\n",
    "plt.xlabel(\"S/N\", fontsize=20)\n",
    "plt.ylabel(\"Accuracy\", fontsize=20)\n",
    "plt.title(\"Bayesian analysis\", fontsize=20)\n",
    "\n",
    "plt.gca().axes.get_xaxis().set_ticks(np.arange(6)*0.6)\n",
    "plt.gca().axes.get_yaxis().set_ticks(np.arange(6)*0.2)\n",
    "plt.xticks(size=20)\n",
    "plt.yticks(size=20)\n",
    "plt.legend(fontsize=16)\n",
    "\n",
    "plt.subplot(222)\n",
    "plt.plot(snr, scores_sp[\"spMCC\"], \"o--\", label=\"MCC\")\n",
    "plt.plot(snr, scores_v1p13[\"MCC\"], \"o-\", color=\"C0\", label=\"MCC (Bayesian)\")\n",
    "plt.plot(snr, scores_sp[\"spRecall\"], \"o--\", label=\"Recall\")\n",
    "plt.plot(snr, scores_sp[\"spPrecision\"], \"o--\", label=\"Precision\")\n",
    "plt.ylim(0,1.05)\n",
    "plt.xlim(0,1)\n",
    "plt.xlabel(\"S/N\", fontsize=20)\n",
    "plt.ylabel(\"Accuracy\", fontsize=20)\n",
    "plt.title(\"Heuristic (spotpicker) analysis\", fontsize=20)\n",
    "\n",
    "plt.gca().axes.get_xaxis().set_ticks(np.arange(6)*0.6)\n",
    "plt.gca().axes.get_yaxis().set_ticks(np.arange(6)*0.2)\n",
    "plt.xticks(size=20)\n",
    "plt.yticks(size=20)\n",
    "plt.legend(fontsize=16)\n",
    "\n",
    "\n",
    "plt.tight_layout()\n",
    "plt.show()"
   ]
  },
  {
   "cell_type": "code",
   "execution_count": 12,
   "metadata": {},
   "outputs": [
    {
     "name": "stderr",
     "output_type": "stream",
     "text": [
      "/home/ordabayev/anaconda3/envs/dev/lib/python3.7/site-packages/matplotlib/axes/_axes.py:6607: RuntimeWarning: All-NaN slice encountered\n",
      "  xmin = min(xmin, np.nanmin(xi))\n",
      "/home/ordabayev/anaconda3/envs/dev/lib/python3.7/site-packages/matplotlib/axes/_axes.py:6608: RuntimeWarning: All-NaN slice encountered\n",
      "  xmax = max(xmax, np.nanmax(xi))\n"
     ]
    },
    {
     "ename": "ValueError",
     "evalue": "autodetected range of [nan, nan] is not finite",
     "output_type": "error",
     "traceback": [
      "\u001b[0;31m---------------------------------------------------------------------------\u001b[0m",
      "\u001b[0;31mValueError\u001b[0m                                Traceback (most recent call last)",
      "\u001b[0;32m<ipython-input-12-7053f67fad42>\u001b[0m in \u001b[0;36m<module>\u001b[0;34m\u001b[0m\n\u001b[1;32m      2\u001b[0m \u001b[0;32mfor\u001b[0m \u001b[0mi\u001b[0m\u001b[0;34m,\u001b[0m \u001b[0mname\u001b[0m \u001b[0;32min\u001b[0m \u001b[0menumerate\u001b[0m\u001b[0;34m(\u001b[0m\u001b[0mnames\u001b[0m\u001b[0;34m)\u001b[0m\u001b[0;34m:\u001b[0m\u001b[0;34m\u001b[0m\u001b[0;34m\u001b[0m\u001b[0m\n\u001b[1;32m      3\u001b[0m     \u001b[0mplt\u001b[0m\u001b[0;34m.\u001b[0m\u001b[0msubplot\u001b[0m\u001b[0;34m(\u001b[0m\u001b[0;36m4\u001b[0m\u001b[0;34m,\u001b[0m \u001b[0;36m4\u001b[0m\u001b[0;34m,\u001b[0m \u001b[0mi\u001b[0m\u001b[0;34m+\u001b[0m\u001b[0;36m1\u001b[0m\u001b[0;34m)\u001b[0m\u001b[0;34m\u001b[0m\u001b[0;34m\u001b[0m\u001b[0m\n\u001b[0;32m----> 4\u001b[0;31m     \u001b[0mplt\u001b[0m\u001b[0;34m.\u001b[0m\u001b[0mhist\u001b[0m\u001b[0;34m(\u001b[0m\u001b[0mpredictions\u001b[0m\u001b[0;34m[\u001b[0m\u001b[0mname\u001b[0m\u001b[0;34m]\u001b[0m\u001b[0;34m[\u001b[0m\u001b[0;34m\"z_prob\"\u001b[0m\u001b[0;34m]\u001b[0m\u001b[0;34m.\u001b[0m\u001b[0mravel\u001b[0m\u001b[0;34m(\u001b[0m\u001b[0;34m)\u001b[0m\u001b[0;34m,\u001b[0m \u001b[0mbins\u001b[0m\u001b[0;34m=\u001b[0m\u001b[0;36m100\u001b[0m\u001b[0;34m,\u001b[0m \u001b[0malpha\u001b[0m\u001b[0;34m=\u001b[0m\u001b[0;36m0.7\u001b[0m\u001b[0;34m)\u001b[0m\u001b[0;34m\u001b[0m\u001b[0;34m\u001b[0m\u001b[0m\n\u001b[0m\u001b[1;32m      5\u001b[0m     \u001b[0mplt\u001b[0m\u001b[0;34m.\u001b[0m\u001b[0mxlim\u001b[0m\u001b[0;34m(\u001b[0m\u001b[0;36m0\u001b[0m\u001b[0;34m,\u001b[0m \u001b[0;36m1\u001b[0m\u001b[0;34m)\u001b[0m\u001b[0;34m\u001b[0m\u001b[0;34m\u001b[0m\u001b[0m\n\u001b[1;32m      6\u001b[0m     \u001b[0;31m#plt.ylim(0, 10)\u001b[0m\u001b[0;34m\u001b[0m\u001b[0;34m\u001b[0m\u001b[0;34m\u001b[0m\u001b[0m\n",
      "\u001b[0;32m~/anaconda3/envs/dev/lib/python3.7/site-packages/matplotlib/pyplot.py\u001b[0m in \u001b[0;36mhist\u001b[0;34m(x, bins, range, density, weights, cumulative, bottom, histtype, align, orientation, rwidth, log, color, label, stacked, data, **kwargs)\u001b[0m\n\u001b[1;32m   2671\u001b[0m         \u001b[0malign\u001b[0m\u001b[0;34m=\u001b[0m\u001b[0malign\u001b[0m\u001b[0;34m,\u001b[0m \u001b[0morientation\u001b[0m\u001b[0;34m=\u001b[0m\u001b[0morientation\u001b[0m\u001b[0;34m,\u001b[0m \u001b[0mrwidth\u001b[0m\u001b[0;34m=\u001b[0m\u001b[0mrwidth\u001b[0m\u001b[0;34m,\u001b[0m \u001b[0mlog\u001b[0m\u001b[0;34m=\u001b[0m\u001b[0mlog\u001b[0m\u001b[0;34m,\u001b[0m\u001b[0;34m\u001b[0m\u001b[0;34m\u001b[0m\u001b[0m\n\u001b[1;32m   2672\u001b[0m         \u001b[0mcolor\u001b[0m\u001b[0;34m=\u001b[0m\u001b[0mcolor\u001b[0m\u001b[0;34m,\u001b[0m \u001b[0mlabel\u001b[0m\u001b[0;34m=\u001b[0m\u001b[0mlabel\u001b[0m\u001b[0;34m,\u001b[0m \u001b[0mstacked\u001b[0m\u001b[0;34m=\u001b[0m\u001b[0mstacked\u001b[0m\u001b[0;34m,\u001b[0m\u001b[0;34m\u001b[0m\u001b[0;34m\u001b[0m\u001b[0m\n\u001b[0;32m-> 2673\u001b[0;31m         **({\"data\": data} if data is not None else {}), **kwargs)\n\u001b[0m\u001b[1;32m   2674\u001b[0m \u001b[0;34m\u001b[0m\u001b[0m\n\u001b[1;32m   2675\u001b[0m \u001b[0;34m\u001b[0m\u001b[0m\n",
      "\u001b[0;32m~/anaconda3/envs/dev/lib/python3.7/site-packages/matplotlib/__init__.py\u001b[0m in \u001b[0;36minner\u001b[0;34m(ax, data, *args, **kwargs)\u001b[0m\n\u001b[1;32m   1429\u001b[0m     \u001b[0;32mdef\u001b[0m \u001b[0minner\u001b[0m\u001b[0;34m(\u001b[0m\u001b[0max\u001b[0m\u001b[0;34m,\u001b[0m \u001b[0;34m*\u001b[0m\u001b[0margs\u001b[0m\u001b[0;34m,\u001b[0m \u001b[0mdata\u001b[0m\u001b[0;34m=\u001b[0m\u001b[0;32mNone\u001b[0m\u001b[0;34m,\u001b[0m \u001b[0;34m**\u001b[0m\u001b[0mkwargs\u001b[0m\u001b[0;34m)\u001b[0m\u001b[0;34m:\u001b[0m\u001b[0;34m\u001b[0m\u001b[0;34m\u001b[0m\u001b[0m\n\u001b[1;32m   1430\u001b[0m         \u001b[0;32mif\u001b[0m \u001b[0mdata\u001b[0m \u001b[0;32mis\u001b[0m \u001b[0;32mNone\u001b[0m\u001b[0;34m:\u001b[0m\u001b[0;34m\u001b[0m\u001b[0;34m\u001b[0m\u001b[0m\n\u001b[0;32m-> 1431\u001b[0;31m             \u001b[0;32mreturn\u001b[0m \u001b[0mfunc\u001b[0m\u001b[0;34m(\u001b[0m\u001b[0max\u001b[0m\u001b[0;34m,\u001b[0m \u001b[0;34m*\u001b[0m\u001b[0mmap\u001b[0m\u001b[0;34m(\u001b[0m\u001b[0msanitize_sequence\u001b[0m\u001b[0;34m,\u001b[0m \u001b[0margs\u001b[0m\u001b[0;34m)\u001b[0m\u001b[0;34m,\u001b[0m \u001b[0;34m**\u001b[0m\u001b[0mkwargs\u001b[0m\u001b[0;34m)\u001b[0m\u001b[0;34m\u001b[0m\u001b[0;34m\u001b[0m\u001b[0m\n\u001b[0m\u001b[1;32m   1432\u001b[0m \u001b[0;34m\u001b[0m\u001b[0m\n\u001b[1;32m   1433\u001b[0m         \u001b[0mbound\u001b[0m \u001b[0;34m=\u001b[0m \u001b[0mnew_sig\u001b[0m\u001b[0;34m.\u001b[0m\u001b[0mbind\u001b[0m\u001b[0;34m(\u001b[0m\u001b[0max\u001b[0m\u001b[0;34m,\u001b[0m \u001b[0;34m*\u001b[0m\u001b[0margs\u001b[0m\u001b[0;34m,\u001b[0m \u001b[0;34m**\u001b[0m\u001b[0mkwargs\u001b[0m\u001b[0;34m)\u001b[0m\u001b[0;34m\u001b[0m\u001b[0;34m\u001b[0m\u001b[0m\n",
      "\u001b[0;32m~/anaconda3/envs/dev/lib/python3.7/site-packages/matplotlib/axes/_axes.py\u001b[0m in \u001b[0;36mhist\u001b[0;34m(self, x, bins, range, density, weights, cumulative, bottom, histtype, align, orientation, rwidth, log, color, label, stacked, **kwargs)\u001b[0m\n\u001b[1;32m   6633\u001b[0m             \u001b[0;31m# this will automatically overwrite bins,\u001b[0m\u001b[0;34m\u001b[0m\u001b[0;34m\u001b[0m\u001b[0;34m\u001b[0m\u001b[0m\n\u001b[1;32m   6634\u001b[0m             \u001b[0;31m# so that each histogram uses the same bins\u001b[0m\u001b[0;34m\u001b[0m\u001b[0;34m\u001b[0m\u001b[0;34m\u001b[0m\u001b[0m\n\u001b[0;32m-> 6635\u001b[0;31m             \u001b[0mm\u001b[0m\u001b[0;34m,\u001b[0m \u001b[0mbins\u001b[0m \u001b[0;34m=\u001b[0m \u001b[0mnp\u001b[0m\u001b[0;34m.\u001b[0m\u001b[0mhistogram\u001b[0m\u001b[0;34m(\u001b[0m\u001b[0mx\u001b[0m\u001b[0;34m[\u001b[0m\u001b[0mi\u001b[0m\u001b[0;34m]\u001b[0m\u001b[0;34m,\u001b[0m \u001b[0mbins\u001b[0m\u001b[0;34m,\u001b[0m \u001b[0mweights\u001b[0m\u001b[0;34m=\u001b[0m\u001b[0mw\u001b[0m\u001b[0;34m[\u001b[0m\u001b[0mi\u001b[0m\u001b[0;34m]\u001b[0m\u001b[0;34m,\u001b[0m \u001b[0;34m**\u001b[0m\u001b[0mhist_kwargs\u001b[0m\u001b[0;34m)\u001b[0m\u001b[0;34m\u001b[0m\u001b[0;34m\u001b[0m\u001b[0m\n\u001b[0m\u001b[1;32m   6636\u001b[0m             \u001b[0mtops\u001b[0m\u001b[0;34m.\u001b[0m\u001b[0mappend\u001b[0m\u001b[0;34m(\u001b[0m\u001b[0mm\u001b[0m\u001b[0;34m)\u001b[0m\u001b[0;34m\u001b[0m\u001b[0;34m\u001b[0m\u001b[0m\n\u001b[1;32m   6637\u001b[0m         \u001b[0mtops\u001b[0m \u001b[0;34m=\u001b[0m \u001b[0mnp\u001b[0m\u001b[0;34m.\u001b[0m\u001b[0marray\u001b[0m\u001b[0;34m(\u001b[0m\u001b[0mtops\u001b[0m\u001b[0;34m,\u001b[0m \u001b[0mfloat\u001b[0m\u001b[0;34m)\u001b[0m  \u001b[0;31m# causes problems later if it's an int\u001b[0m\u001b[0;34m\u001b[0m\u001b[0;34m\u001b[0m\u001b[0m\n",
      "\u001b[0;32m<__array_function__ internals>\u001b[0m in \u001b[0;36mhistogram\u001b[0;34m(*args, **kwargs)\u001b[0m\n",
      "\u001b[0;32m~/anaconda3/envs/dev/lib/python3.7/site-packages/numpy/lib/histograms.py\u001b[0m in \u001b[0;36mhistogram\u001b[0;34m(a, bins, range, normed, weights, density)\u001b[0m\n\u001b[1;32m    790\u001b[0m     \u001b[0ma\u001b[0m\u001b[0;34m,\u001b[0m \u001b[0mweights\u001b[0m \u001b[0;34m=\u001b[0m \u001b[0m_ravel_and_check_weights\u001b[0m\u001b[0;34m(\u001b[0m\u001b[0ma\u001b[0m\u001b[0;34m,\u001b[0m \u001b[0mweights\u001b[0m\u001b[0;34m)\u001b[0m\u001b[0;34m\u001b[0m\u001b[0;34m\u001b[0m\u001b[0m\n\u001b[1;32m    791\u001b[0m \u001b[0;34m\u001b[0m\u001b[0m\n\u001b[0;32m--> 792\u001b[0;31m     \u001b[0mbin_edges\u001b[0m\u001b[0;34m,\u001b[0m \u001b[0muniform_bins\u001b[0m \u001b[0;34m=\u001b[0m \u001b[0m_get_bin_edges\u001b[0m\u001b[0;34m(\u001b[0m\u001b[0ma\u001b[0m\u001b[0;34m,\u001b[0m \u001b[0mbins\u001b[0m\u001b[0;34m,\u001b[0m \u001b[0mrange\u001b[0m\u001b[0;34m,\u001b[0m \u001b[0mweights\u001b[0m\u001b[0;34m)\u001b[0m\u001b[0;34m\u001b[0m\u001b[0;34m\u001b[0m\u001b[0m\n\u001b[0m\u001b[1;32m    793\u001b[0m \u001b[0;34m\u001b[0m\u001b[0m\n\u001b[1;32m    794\u001b[0m     \u001b[0;31m# Histogram is an integer or a float array depending on the weights.\u001b[0m\u001b[0;34m\u001b[0m\u001b[0;34m\u001b[0m\u001b[0;34m\u001b[0m\u001b[0m\n",
      "\u001b[0;32m~/anaconda3/envs/dev/lib/python3.7/site-packages/numpy/lib/histograms.py\u001b[0m in \u001b[0;36m_get_bin_edges\u001b[0;34m(a, bins, range, weights)\u001b[0m\n\u001b[1;32m    424\u001b[0m             \u001b[0;32mraise\u001b[0m \u001b[0mValueError\u001b[0m\u001b[0;34m(\u001b[0m\u001b[0;34m'`bins` must be positive, when an integer'\u001b[0m\u001b[0;34m)\u001b[0m\u001b[0;34m\u001b[0m\u001b[0;34m\u001b[0m\u001b[0m\n\u001b[1;32m    425\u001b[0m \u001b[0;34m\u001b[0m\u001b[0m\n\u001b[0;32m--> 426\u001b[0;31m         \u001b[0mfirst_edge\u001b[0m\u001b[0;34m,\u001b[0m \u001b[0mlast_edge\u001b[0m \u001b[0;34m=\u001b[0m \u001b[0m_get_outer_edges\u001b[0m\u001b[0;34m(\u001b[0m\u001b[0ma\u001b[0m\u001b[0;34m,\u001b[0m \u001b[0mrange\u001b[0m\u001b[0;34m)\u001b[0m\u001b[0;34m\u001b[0m\u001b[0;34m\u001b[0m\u001b[0m\n\u001b[0m\u001b[1;32m    427\u001b[0m \u001b[0;34m\u001b[0m\u001b[0m\n\u001b[1;32m    428\u001b[0m     \u001b[0;32melif\u001b[0m \u001b[0mnp\u001b[0m\u001b[0;34m.\u001b[0m\u001b[0mndim\u001b[0m\u001b[0;34m(\u001b[0m\u001b[0mbins\u001b[0m\u001b[0;34m)\u001b[0m \u001b[0;34m==\u001b[0m \u001b[0;36m1\u001b[0m\u001b[0;34m:\u001b[0m\u001b[0;34m\u001b[0m\u001b[0;34m\u001b[0m\u001b[0m\n",
      "\u001b[0;32m~/anaconda3/envs/dev/lib/python3.7/site-packages/numpy/lib/histograms.py\u001b[0m in \u001b[0;36m_get_outer_edges\u001b[0;34m(a, range)\u001b[0m\n\u001b[1;32m    322\u001b[0m         \u001b[0;32mif\u001b[0m \u001b[0;32mnot\u001b[0m \u001b[0;34m(\u001b[0m\u001b[0mnp\u001b[0m\u001b[0;34m.\u001b[0m\u001b[0misfinite\u001b[0m\u001b[0;34m(\u001b[0m\u001b[0mfirst_edge\u001b[0m\u001b[0;34m)\u001b[0m \u001b[0;32mand\u001b[0m \u001b[0mnp\u001b[0m\u001b[0;34m.\u001b[0m\u001b[0misfinite\u001b[0m\u001b[0;34m(\u001b[0m\u001b[0mlast_edge\u001b[0m\u001b[0;34m)\u001b[0m\u001b[0;34m)\u001b[0m\u001b[0;34m:\u001b[0m\u001b[0;34m\u001b[0m\u001b[0;34m\u001b[0m\u001b[0m\n\u001b[1;32m    323\u001b[0m             raise ValueError(\n\u001b[0;32m--> 324\u001b[0;31m                 \"autodetected range of [{}, {}] is not finite\".format(first_edge, last_edge))\n\u001b[0m\u001b[1;32m    325\u001b[0m \u001b[0;34m\u001b[0m\u001b[0m\n\u001b[1;32m    326\u001b[0m     \u001b[0;31m# expand empty range to avoid divide by zero\u001b[0m\u001b[0;34m\u001b[0m\u001b[0;34m\u001b[0m\u001b[0;34m\u001b[0m\u001b[0m\n",
      "\u001b[0;31mValueError\u001b[0m: autodetected range of [nan, nan] is not finite"
     ]
    },
    {
     "data": {
      "image/png": "[encoded data removed]",
      "text/plain": [
       "<Figure size 1080x1080 with 1 Axes>"
      ]
     },
     "metadata": {
      "needs_background": "light"
     },
     "output_type": "display_data"
    }
   ],
   "source": [
    "plt.figure(figsize=(15,15))\n",
    "for i, name in enumerate(names):\n",
    "    plt.subplot(4, 4, i+1)\n",
    "    plt.hist(predictions[name][\"z_prob\"].ravel(), bins=100, alpha=0.7)\n",
    "    plt.xlim(0, 1)\n",
    "    #plt.ylim(0, 10)\n",
    "    plt.yscale('log', nonposy='clip')\n",
    "    #plt.gca().axes.get_xaxis().set_ticks([0.8, 0.9, 1])\n",
    "    #plt.gca().axes.get_yaxis().set_ticks(np.arange(6)*0.2)\n",
    "    plt.xticks(size=20)\n",
    "    plt.yticks(size=20)\n",
    "    plt.xlabel(r\"p($z$)\", fontsize=20)\n",
    "    plt.ylabel(r\"counts\", fontsize=20)\n",
    "    plt.title(r\"S/N = {}\".format(snr[i]), fontsize=20)\n",
    "\n",
    "plt.tight_layout()\n",
    "plt.show()"
   ]
  },
  {
   "cell_type": "code",
   "execution_count": 56,
   "metadata": {},
   "outputs": [],
   "source": [
    "pyro.clear_param_store()\n",
    "pyro.get_param_store().load(\n",
    "    filename=os.path.join(\"experimental_data/FL_1_1117_0OD/runs/trackerv1.0/nojit/lr0.005/Adam/32\", \"params\"),\n",
    "    map_location=torch.device(\"cpu\"))"
   ]
  },
  {
   "cell_type": "code",
   "execution_count": 60,
   "metadata": {},
   "outputs": [
    {
     "data": {
      "image/png": "[encoded data removed]",
      "text/plain": [
       "<Figure size 432x288 with 1 Axes>"
      ]
     },
     "metadata": {
      "needs_background": "light"
     },
     "output_type": "display_data"
    }
   ],
   "source": [
    "#mask = (predictions[\"FL_1_1117_0OD\"][\"m_prob\"] > 0.2) & (predictions[\"FL_1_1117_0OD\"][\"m_prob\"] < 0.8)\n",
    "#mask = predictions[\"FL_1_1117_0OD\"][\"m_prob\"] > 0.8\n",
    "#mask = predictions[\"FL_1_1117_0OD\"][\"m\"]\n",
    "mask = np.transpose(mask, (2, 0, 1))\n",
    "m_prob = np.transpose(predictions[\"FL_1_1117_0OD\"][\"m_prob\"], (2, 0, 1))\n",
    "z_prob = predictions[\"FL_1_1117_0OD\"][\"z_prob\"]\n",
    "#plt.hist(pyro.param(\"d/h_loc\").data.numpy()[mask], bins=50, alpha=0.3)\n",
    "plt.hist((pyro.param(\"d/h_loc\").data.numpy()*m_prob).reshape(-1), bins=50, alpha=0.3)\n",
    "#plt.hist((pyro.param(\"d/h_loc\").data.numpy()*z_prob).reshape(-1), bins=50, alpha=0.3)\n",
    "#plt.xlim(0., 5000)\n",
    "plt.ylim(0, 400)\n",
    "plt.xticks(size=20)\n",
    "plt.yticks(size=20)\n",
    "plt.show()"
   ]
  },
  {
   "cell_type": "code",
   "execution_count": null,
   "metadata": {},
   "outputs": [],
   "source": []
  },
  {
   "cell_type": "code",
   "execution_count": 25,
   "metadata": {},
   "outputs": [],
   "source": [
    "bayes_mcc = [0.8349, 0.9303, 0.9336, 0.7625, 0.5713, 0.449]\n",
    "sp_mcc = [0.9011, 0.9408, 0.9613, 0.8414, 0.6655, 0.5787]\n",
    "sp_nohysteresis_mcc = [0.9164, 0.929, 0.8283, 0.6255, 0.4884, 0.3745]\n",
    "sp_nohysteresis_0p5_mcc = [0.8459, 0.897, 0.879, 0.664, 0.4725, 0.4086]"
   ]
  },
  {
   "cell_type": "code",
   "execution_count": null,
   "metadata": {},
   "outputs": [],
   "source": []
  },
  {
   "cell_type": "code",
   "execution_count": 558,
   "metadata": {},
   "outputs": [],
   "source": []
  },
  {
   "cell_type": "code",
   "execution_count": 572,
   "metadata": {},
   "outputs": [
    {
     "name": "stdout",
     "output_type": "stream",
     "text": [
      "tensor([[ 10.,  10.,  10.,  ...,  10.,  10.,  10.],\n",
      "        [ 10.,  10.,  10.,  ...,  10.,  10.,  10.],\n",
      "        [ 10.,  10.,  10.,  ...,  10.,  10.,  10.],\n",
      "        ...,\n",
      "        [103., 102., 101.,  ...,  84.,  83.,  82.],\n",
      "        [104., 103., 102.,  ...,  85.,  84.,  83.],\n",
      "        [105., 104., 103.,  ...,  86.,  85.,  84.]])\n",
      "tensor([[  -5.2557,   -5.2557,   -5.2557,  ...,   -5.2557,   -5.2557,\n",
      "           -5.2557],\n",
      "        [  -5.2557,   -5.2557,   -5.2557,  ...,   -5.2557,   -5.2557,\n",
      "           -5.2557],\n",
      "        [  -5.2557,   -5.2557,   -5.2557,  ...,   -5.2557,   -5.2557,\n",
      "           -5.2557],\n",
      "        ...,\n",
      "        [-123.7950, -122.4438, -121.0930,  ...,  -98.2146,  -96.8745,\n",
      "          -95.5351],\n",
      "        [-125.1467, -123.7950, -122.4438,  ...,  -99.5554,  -98.2146,\n",
      "          -96.8745],\n",
      "        [-126.4989, -125.1467, -123.7950,  ..., -100.8969,  -99.5554,\n",
      "          -98.2146]])\n"
     ]
    },
    {
     "data": {
      "image/png": "[encoded data removed]",
      "text/plain": [
       "<Figure size 720x720 with 1 Axes>"
      ]
     },
     "metadata": {
      "needs_background": "light"
     },
     "output_type": "display_data"
    }
   ],
   "source": [
    "value = torch.arange(0, 200., 1)\n",
    "cg = ConvGamma(torch.ones(200)*6., 1.4, offset_samples, offset_log_weights)\n",
    "result = cg.log_prob(value).exp()\n",
    "\n",
    "plt.figure(figsize=(10,10))\n",
    "\n",
    "mu, var = data.offset.mean(), data.offset.var()\n",
    "d1 = dist.Gamma(mu**2/var, mu/var)\n",
    "d2 = dist.Gamma(6., 1.4)\n",
    "d3 = dist.Gamma(6./1.4*1.88, 1.88)\n",
    "plt.hist(d1.sample(torch.tensor([1500]))+d2.sample(torch.tensor([1500])), bins=30, density=True, alpha=0.3, color=\"C2\")\n",
    "plt.hist(data.offset.reshape(-1), bins=70, range=(80,150), density=True, alpha=0.3)\n",
    "plt.hist(data.data.reshape(-1), bins=70, range=(80,150), density=True, alpha=0.3)\n",
    "\n",
    "plt.plot(value, result, label=\"conv\")\n",
    "#plt.plot(value, d1.log_prob(value).exp(), label=\"offset\")\n",
    "plt.plot(value+89, d3.log_prob(value).exp(), label=\"signal\")\n",
    "plt.xticks(size=20)\n",
    "plt.yticks(size=20)\n",
    "plt.xlim(50, 160)\n",
    "plt.legend()\n",
    "plt.show()"
   ]
  },
  {
   "cell_type": "code",
   "execution_count": 435,
   "metadata": {},
   "outputs": [
    {
     "data": {
      "text/plain": [
       "torch.Size([2, 17])"
      ]
     },
     "execution_count": 435,
     "metadata": {},
     "output_type": "execute_result"
    }
   ],
   "source": [
    "value = torch.ones(17,14,14)*150\n",
    "cg = ConvGamma(torch.ones(2,17,14,14)*10., 0.2, offset_samples, offset_log_weights).to_event(2)\n",
    "cg.log_prob(value).shape\n",
    "#cg.event_shape"
   ]
  },
  {
   "cell_type": "code",
   "execution_count": 320,
   "metadata": {},
   "outputs": [
    {
     "data": {
      "text/plain": [
       "torch.Size([190])"
      ]
     },
     "execution_count": 320,
     "metadata": {},
     "output_type": "execute_result"
    }
   ],
   "source": [
    "dc = dist.Gamma(torch.ones(190,22)*10., 0.2).mask(value.unsqueeze(dim=-1) > offset_samples).to_event(1)\n",
    "#dc = dist.Gamma(torch.ones(190,22)*10., 0.2).to_event(1)\n",
    "obs_logits = dc.log_prob(value.unsqueeze(dim=-1) - offset_samples)\n",
    "obs_logits.shape"
   ]
  },
  {
   "cell_type": "code",
   "execution_count": 333,
   "metadata": {},
   "outputs": [
    {
     "ename": "ValueError",
     "evalue": "shape mismatch: objects cannot be broadcast to a single shape: torch.Size([1, 170, 22]) vs torch.Size([190, 22])",
     "output_type": "error",
     "traceback": [
      "\u001b[0;31m---------------------------------------------------------------------------\u001b[0m",
      "\u001b[0;31mValueError\u001b[0m                                Traceback (most recent call last)",
      "\u001b[0;32m<ipython-input-333-3330da13368e>\u001b[0m in \u001b[0;36m<module>\u001b[0;34m\u001b[0m\n\u001b[1;32m      1\u001b[0m \u001b[0mvalue\u001b[0m \u001b[0;34m=\u001b[0m \u001b[0mtorch\u001b[0m\u001b[0;34m.\u001b[0m\u001b[0marange\u001b[0m\u001b[0;34m(\u001b[0m\u001b[0;36m115\u001b[0m\u001b[0;34m,\u001b[0m \u001b[0;36m200.\u001b[0m\u001b[0;34m,\u001b[0m \u001b[0;36m0.5\u001b[0m\u001b[0;34m)\u001b[0m\u001b[0;34m.\u001b[0m\u001b[0munsqueeze\u001b[0m\u001b[0;34m(\u001b[0m\u001b[0;36m0\u001b[0m\u001b[0;34m)\u001b[0m\u001b[0;34m\u001b[0m\u001b[0;34m\u001b[0m\u001b[0m\n\u001b[0;32m----> 2\u001b[0;31m \u001b[0mdc\u001b[0m \u001b[0;34m=\u001b[0m \u001b[0mdist\u001b[0m\u001b[0;34m.\u001b[0m\u001b[0mGamma\u001b[0m\u001b[0;34m(\u001b[0m\u001b[0mtorch\u001b[0m\u001b[0;34m.\u001b[0m\u001b[0mones\u001b[0m\u001b[0;34m(\u001b[0m\u001b[0;36m190\u001b[0m\u001b[0;34m,\u001b[0m\u001b[0;36m22\u001b[0m\u001b[0;34m)\u001b[0m\u001b[0;34m*\u001b[0m\u001b[0;36m10.\u001b[0m\u001b[0;34m,\u001b[0m \u001b[0;36m0.2\u001b[0m\u001b[0;34m)\u001b[0m\u001b[0;34m.\u001b[0m\u001b[0mmask\u001b[0m\u001b[0;34m(\u001b[0m\u001b[0mvalue\u001b[0m\u001b[0;34m.\u001b[0m\u001b[0munsqueeze\u001b[0m\u001b[0;34m(\u001b[0m\u001b[0mdim\u001b[0m\u001b[0;34m=\u001b[0m\u001b[0;34m-\u001b[0m\u001b[0;36m1\u001b[0m\u001b[0;34m)\u001b[0m \u001b[0;34m>\u001b[0m \u001b[0moffset_samples\u001b[0m\u001b[0;34m)\u001b[0m\u001b[0;34m\u001b[0m\u001b[0;34m\u001b[0m\u001b[0m\n\u001b[0m\u001b[1;32m      3\u001b[0m \u001b[0;31m#dc = dist.Gamma(torch.ones(190,22)*10., 0.2)\u001b[0m\u001b[0;34m\u001b[0m\u001b[0;34m\u001b[0m\u001b[0;34m\u001b[0m\u001b[0m\n\u001b[1;32m      4\u001b[0m \u001b[0mobs_logits\u001b[0m \u001b[0;34m=\u001b[0m \u001b[0mdc\u001b[0m\u001b[0;34m.\u001b[0m\u001b[0mlog_prob\u001b[0m\u001b[0;34m(\u001b[0m\u001b[0mvalue\u001b[0m\u001b[0;34m.\u001b[0m\u001b[0munsqueeze\u001b[0m\u001b[0;34m(\u001b[0m\u001b[0mdim\u001b[0m\u001b[0;34m=\u001b[0m\u001b[0;34m-\u001b[0m\u001b[0;36m1\u001b[0m\u001b[0;34m)\u001b[0m \u001b[0;34m-\u001b[0m \u001b[0moffset_samples\u001b[0m\u001b[0;34m)\u001b[0m\u001b[0;34m\u001b[0m\u001b[0;34m\u001b[0m\u001b[0m\n\u001b[1;32m      5\u001b[0m \u001b[0mresult\u001b[0m \u001b[0;34m=\u001b[0m \u001b[0mobs_logits\u001b[0m \u001b[0;34m+\u001b[0m \u001b[0moffset_log_weights\u001b[0m\u001b[0;34m\u001b[0m\u001b[0;34m\u001b[0m\u001b[0m\n",
      "\u001b[0;32m~/anaconda3/envs/dev/lib/python3.7/site-packages/pyro/distributions/torch_distribution.py\u001b[0m in \u001b[0;36mmask\u001b[0;34m(self, mask)\u001b[0m\n\u001b[1;32m    169\u001b[0m         \u001b[0;34m:\u001b[0m\u001b[0mrtype\u001b[0m\u001b[0;34m:\u001b[0m \u001b[0;34m:\u001b[0m\u001b[0;32mclass\u001b[0m\u001b[0;34m:\u001b[0m\u001b[0;31m`\u001b[0m\u001b[0mMaskedDistribution\u001b[0m\u001b[0;31m`\u001b[0m\u001b[0;34m\u001b[0m\u001b[0;34m\u001b[0m\u001b[0m\n\u001b[1;32m    170\u001b[0m         \"\"\"\n\u001b[0;32m--> 171\u001b[0;31m         \u001b[0;32mreturn\u001b[0m \u001b[0mMaskedDistribution\u001b[0m\u001b[0;34m(\u001b[0m\u001b[0mself\u001b[0m\u001b[0;34m,\u001b[0m \u001b[0mmask\u001b[0m\u001b[0;34m)\u001b[0m\u001b[0;34m\u001b[0m\u001b[0;34m\u001b[0m\u001b[0m\n\u001b[0m\u001b[1;32m    172\u001b[0m \u001b[0;34m\u001b[0m\u001b[0m\n\u001b[1;32m    173\u001b[0m \u001b[0;34m\u001b[0m\u001b[0m\n",
      "\u001b[0;32m~/anaconda3/envs/dev/lib/python3.7/site-packages/pyro/distributions/torch_distribution.py\u001b[0m in \u001b[0;36m__init__\u001b[0;34m(self, base_dist, mask)\u001b[0m\n\u001b[1;32m    257\u001b[0m             \u001b[0mself\u001b[0m\u001b[0;34m.\u001b[0m\u001b[0m_mask\u001b[0m \u001b[0;34m=\u001b[0m \u001b[0mmask\u001b[0m\u001b[0;34m\u001b[0m\u001b[0;34m\u001b[0m\u001b[0m\n\u001b[1;32m    258\u001b[0m         \u001b[0;32melse\u001b[0m\u001b[0;34m:\u001b[0m\u001b[0;34m\u001b[0m\u001b[0;34m\u001b[0m\u001b[0m\n\u001b[0;32m--> 259\u001b[0;31m             \u001b[0;32mif\u001b[0m \u001b[0mbroadcast_shape\u001b[0m\u001b[0;34m(\u001b[0m\u001b[0mmask\u001b[0m\u001b[0;34m.\u001b[0m\u001b[0mshape\u001b[0m\u001b[0;34m,\u001b[0m \u001b[0mbase_dist\u001b[0m\u001b[0;34m.\u001b[0m\u001b[0mbatch_shape\u001b[0m\u001b[0;34m)\u001b[0m \u001b[0;34m!=\u001b[0m \u001b[0mbase_dist\u001b[0m\u001b[0;34m.\u001b[0m\u001b[0mbatch_shape\u001b[0m\u001b[0;34m:\u001b[0m\u001b[0;34m\u001b[0m\u001b[0;34m\u001b[0m\u001b[0m\n\u001b[0m\u001b[1;32m    260\u001b[0m                 raise ValueError(\"Expected mask.shape to be broadcastable to base_dist.batch_shape, \"\n\u001b[1;32m    261\u001b[0m                                  \"actual {} vs {}\".format(mask.shape, base_dist.batch_shape))\n",
      "\u001b[0;32m~/anaconda3/envs/dev/lib/python3.7/site-packages/pyro/distributions/util.py\u001b[0m in \u001b[0;36mbroadcast_shape\u001b[0;34m(*shapes, **kwargs)\u001b[0m\n\u001b[1;32m    140\u001b[0m             \u001b[0;32melif\u001b[0m \u001b[0mreversed_shape\u001b[0m\u001b[0;34m[\u001b[0m\u001b[0mi\u001b[0m\u001b[0;34m]\u001b[0m \u001b[0;34m!=\u001b[0m \u001b[0msize\u001b[0m \u001b[0;32mand\u001b[0m \u001b[0;34m(\u001b[0m\u001b[0msize\u001b[0m \u001b[0;34m!=\u001b[0m \u001b[0;36m1\u001b[0m \u001b[0;32mor\u001b[0m \u001b[0mstrict\u001b[0m\u001b[0;34m)\u001b[0m\u001b[0;34m:\u001b[0m\u001b[0;34m\u001b[0m\u001b[0;34m\u001b[0m\u001b[0m\n\u001b[1;32m    141\u001b[0m                 raise ValueError('shape mismatch: objects cannot be broadcast to a single shape: {}'.format(\n\u001b[0;32m--> 142\u001b[0;31m                     ' vs '.join(map(str, shapes))))\n\u001b[0m\u001b[1;32m    143\u001b[0m     \u001b[0;32mreturn\u001b[0m \u001b[0mtuple\u001b[0m\u001b[0;34m(\u001b[0m\u001b[0mreversed\u001b[0m\u001b[0;34m(\u001b[0m\u001b[0mreversed_shape\u001b[0m\u001b[0;34m)\u001b[0m\u001b[0;34m)\u001b[0m\u001b[0;34m\u001b[0m\u001b[0;34m\u001b[0m\u001b[0m\n\u001b[1;32m    144\u001b[0m \u001b[0;34m\u001b[0m\u001b[0m\n",
      "\u001b[0;31mValueError\u001b[0m: shape mismatch: objects cannot be broadcast to a single shape: torch.Size([1, 170, 22]) vs torch.Size([190, 22])"
     ]
    }
   ],
   "source": [
    "value = torch.arange(115, 200., 0.5)\n",
    "dc = dist.Gamma(torch.ones(190,22)*10., 0.2).mask(value.unsqueeze(dim=-1) > offset_samples)\n",
    "#dc = dist.Gamma(torch.ones(190,22)*10., 0.2)\n",
    "obs_logits = dc.log_prob(value.unsqueeze(dim=-1) - offset_samples)\n",
    "result = obs_logits + offset_log_weights\n",
    "result = torch.logsumexp(result, -1).exp()"
   ]
  },
  {
   "cell_type": "code",
   "execution_count": 305,
   "metadata": {},
   "outputs": [
    {
     "data": {
      "text/plain": [
       "tensor([[ 11.0000,  10.0000,   9.0000,  ...,  -8.0000,  -9.0000, -10.0000],\n",
       "        [ 11.5000,  10.5000,   9.5000,  ...,  -7.5000,  -8.5000,  -9.5000],\n",
       "        [ 12.0000,  11.0000,  10.0000,  ...,  -7.0000,  -8.0000,  -9.0000],\n",
       "        ...,\n",
       "        [104.5000, 103.5000, 102.5000,  ...,  85.5000,  84.5000,  83.5000],\n",
       "        [105.0000, 104.0000, 103.0000,  ...,  86.0000,  85.0000,  84.0000],\n",
       "        [105.5000, 104.5000, 103.5000,  ...,  86.5000,  85.5000,  84.5000]])"
      ]
     },
     "execution_count": 305,
     "metadata": {},
     "output_type": "execute_result"
    }
   ],
   "source": [
    "value.unsqueeze(dim=-1) - offset_samples"
   ]
  },
  {
   "cell_type": "code",
   "execution_count": 306,
   "metadata": {},
   "outputs": [
    {
     "data": {
      "text/plain": [
       "tensor([[ -9.5151, -10.1729, -10.9212,  ...,      nan,      nan,      nan],\n",
       "        [ -9.2151,  -9.8338, -10.5346,  ...,      nan,      nan,      nan],\n",
       "        [ -8.9320,  -9.5151, -10.1729,  ...,      nan,      nan,      nan],\n",
       "        ...,\n",
       "        [ -7.9535,  -7.8401,  -7.7274,  ...,  -5.9596,  -5.8654,  -5.7726],\n",
       "        [ -8.0106,  -7.8967,  -7.7836,  ...,  -6.0071,  -5.9123,  -5.8189],\n",
       "        [ -8.0678,  -7.9535,  -7.8401,  ...,  -6.0549,  -5.9596,  -5.8654]])"
      ]
     },
     "execution_count": 306,
     "metadata": {},
     "output_type": "execute_result"
    }
   ],
   "source": [
    "obs_logits"
   ]
  },
  {
   "cell_type": "code",
   "execution_count": 307,
   "metadata": {},
   "outputs": [
    {
     "data": {
      "image/png": "[encoded data removed]",
      "text/plain": [
       "<Figure size 720x720 with 1 Axes>"
      ]
     },
     "metadata": {
      "needs_background": "light"
     },
     "output_type": "display_data"
    }
   ],
   "source": [
    "plt.figure(figsize=(10,10))\n",
    "\n",
    "mu, var = data.offset.mean(), data.offset.var()\n",
    "d1 = dist.Gamma(mu**2/var, mu/var)\n",
    "d2 = dist.Gamma(10., 0.2)\n",
    "plt.hist(d1.sample(torch.tensor([1500]))+d2.sample(torch.tensor([1500])), bins=30, density=True, alpha=0.3, color=\"C2\")\n",
    "\n",
    "#x = torch.arange(80, 160., 0.1)\n",
    "#mu, var = data.offset.median(), data.offset.var()\n",
    "#d = dist.Gamma(mu**2/var, mu/var)\n",
    "#dn = dist.Normal(mu, torch.sqrt(var))\n",
    "#plt.plot(x, torch.exp(d.log_prob(x)).cpu(), lw=5)\n",
    "#plt.plot(x, torch.exp(dn.log_prob(x)).cpu(), lw=5)\n",
    "#plt.hist(data.offset.reshape(-1), bins=500, density=True, alpha=0.3, color=\"C0\")\n",
    "#plt.xlim(70, 160)\n",
    "plt.plot(value, result)\n",
    "plt.xticks(size=20)\n",
    "plt.yticks(size=20)\n",
    "plt.show()"
   ]
  },
  {
   "cell_type": "code",
   "execution_count": 247,
   "metadata": {},
   "outputs": [
    {
     "data": {
      "text/plain": [
       "torch.Size([22])"
      ]
     },
     "execution_count": 247,
     "metadata": {},
     "output_type": "execute_result"
    }
   ],
   "source": [
    "offset_log_weights.shape"
   ]
  },
  {
   "cell_type": "code",
   "execution_count": null,
   "metadata": {},
   "outputs": [],
   "source": [
    "class Distribution(TorchDistribution):\n",
    "    arg_constraints = {}  # nothing to be constrained\n",
    "\n",
    "    def __init__(self, dist, emission_logits):\n",
    "        self.dist = dist\n",
    "        self.emission_logits = emission_logits\n",
    "        batch_shape = emission_logits.shape[:-1]\n",
    "        event_shape = self.dist.event_shape\n",
    "        super().__init__(batch_shape, event_shape)\n",
    "\n",
    "    def log_prob(self, value):\n",
    "        #value = value.unsqueeze(-1 - self.dist.event_dim)\n",
    "        obs_logits = dist.Gamma(10., 0.2).log_prob(value - offset_samples)\n",
    "        result = obs_logits.unsqueeze(dim=-2) + offset_weights.log()\n",
    "        result = torch.logsumexp(result, -1)\n",
    "        return result"
   ]
  },
  {
   "cell_type": "code",
   "execution_count": 115,
   "metadata": {},
   "outputs": [
    {
     "data": {
      "image/png": "[encoded data removed]",
      "text/plain": [
       "<Figure size 360x360 with 1 Axes>"
      ]
     },
     "metadata": {
      "needs_background": "light"
     },
     "output_type": "display_data"
    }
   ],
   "source": [
    "plt.figure(figsize=(5,5))\n",
    "plt.hist(data.offset.reshape(-1), bins=100, density=True, alpha=0.3)\n",
    "\n",
    "x = torch.arange(80, 160., 0.1)\n",
    "mu, var = data.offset.median(), data.offset.var()\n",
    "d = dist.Gamma(mu**2/var, mu/var)\n",
    "plt.plot(x, torch.exp(d.log_prob(x)).cpu(), lw=5)\n",
    "#plt.xlim(70, 500)\n",
    "plt.xticks(size=20)\n",
    "plt.yticks(size=20)\n",
    "plt.show()"
   ]
  },
  {
   "cell_type": "code",
   "execution_count": 116,
   "metadata": {},
   "outputs": [
    {
     "data": {
      "text/plain": [
       "(tensor(99.), tensor(14.8781))"
      ]
     },
     "execution_count": 116,
     "metadata": {},
     "output_type": "execute_result"
    }
   ],
   "source": [
    "mu, var"
   ]
  },
  {
   "cell_type": "code",
   "execution_count": 151,
   "metadata": {},
   "outputs": [
    {
     "data": {
      "image/png": "[encoded data removed]",
      "text/plain": [
       "<Figure size 720x720 with 1 Axes>"
      ]
     },
     "metadata": {
      "needs_background": "light"
     },
     "output_type": "display_data"
    }
   ],
   "source": [
    "plt.figure(figsize=(10,10))\n",
    "\n",
    "x = torch.arange(80, 160., 0.1)\n",
    "mu, var = data.offset.median(), data.offset.var()\n",
    "d = dist.Gamma(mu**2/var, mu/var)\n",
    "dn = dist.Normal(mu, torch.sqrt(var))\n",
    "plt.plot(x, torch.exp(d.log_prob(x)).cpu(), lw=5)\n",
    "plt.plot(x, torch.exp(dn.log_prob(x)).cpu(), lw=5)\n",
    "plt.hist(data.offset.reshape(-1), bins=500, density=True, alpha=0.3, color=\"C0\")\n",
    "plt.xlim(70, 160)\n",
    "plt.xticks(size=20)\n",
    "plt.yticks(size=20)\n",
    "plt.show()"
   ]
  },
  {
   "cell_type": "code",
   "execution_count": 122,
   "metadata": {},
   "outputs": [
    {
     "data": {
      "image/png": "[encoded data removed]",
      "text/plain": [
       "<Figure size 720x720 with 1 Axes>"
      ]
     },
     "metadata": {
      "needs_background": "light"
     },
     "output_type": "display_data"
    }
   ],
   "source": [
    "plt.figure(figsize=(10,10))\n",
    "\n",
    "x = torch.arange(80, 160., 0.1)\n",
    "mu, var = data.offset.median(), data.offset.var()\n",
    "d = dist.Gamma(mu**2/var, mu/var)\n",
    "dfl = dist.Gamma(15 / 3.12, 1/3.12)\n",
    "dfi = dist.Gamma((6+mu)**2/(6*5.75+var), (6+mu)/(6*5.75+var))\n",
    "plt.plot(x, torch.exp(d.log_prob(x)).cpu(), lw=5)\n",
    "plt.plot(x, torch.exp(dfl.log_prob(x-90)).cpu(), lw=5)\n",
    "plt.plot(x, torch.exp(dfi.log_prob(x)).cpu(), lw=5)\n",
    "plt.hist(data.offset.reshape(-1), bins=500, density=True, alpha=0.3, color=\"C0\")\n",
    "plt.hist(data.data.reshape(-1), bins=500, density=True, alpha=0.3, color=\"C1\")\n",
    "plt.xlim(70, 160)\n",
    "plt.xticks(size=20)\n",
    "plt.yticks(size=20)\n",
    "plt.show()"
   ]
  },
  {
   "cell_type": "code",
   "execution_count": 136,
   "metadata": {},
   "outputs": [
    {
     "data": {
      "text/plain": [
       "tensor(92.8461)"
      ]
     },
     "execution_count": 136,
     "metadata": {},
     "output_type": "execute_result"
    }
   ],
   "source": [
    "om = - (var+6*5.75)**2 / (var**2/mu + 6*5.75**2) + mu + 6\n",
    "om"
   ]
  },
  {
   "cell_type": "code",
   "execution_count": 138,
   "metadata": {},
   "outputs": [
    {
     "data": {
      "text/plain": [
       "tensor(4.0628)"
      ]
     },
     "execution_count": 138,
     "metadata": {},
     "output_type": "execute_result"
    }
   ],
   "source": [
    "g = (var+6*5.75) / (6 + mu - om)\n",
    "g"
   ]
  },
  {
   "cell_type": "code",
   "execution_count": 140,
   "metadata": {},
   "outputs": [
    {
     "data": {
      "text/plain": [
       "tensor(12.1539)"
      ]
     },
     "execution_count": 140,
     "metadata": {},
     "output_type": "execute_result"
    }
   ],
   "source": [
    "loc = mu + 6 - om\n",
    "loc"
   ]
  },
  {
   "cell_type": "code",
   "execution_count": 149,
   "metadata": {},
   "outputs": [
    {
     "data": {
      "image/png": "[encoded data removed]",
      "text/plain": [
       "<Figure size 720x720 with 1 Axes>"
      ]
     },
     "metadata": {
      "needs_background": "light"
     },
     "output_type": "display_data"
    }
   ],
   "source": [
    "plt.figure(figsize=(10,10))\n",
    "\n",
    "x = torch.arange(80, 160., 0.5)\n",
    "mu, var = data.offset.median(), data.offset.var()\n",
    "d1 = dist.Gamma(mu**2/var, mu/var)\n",
    "d2 = dist.Gamma(6 / 5.75, 1/5.75)\n",
    "dfi = dist.Gamma((6+mu)**2/(6*5.75+var), (6+mu)/(6*5.75+var))\n",
    "dfl = dist.Gamma(15 / 3.12, 1/3.12)\n",
    "dm = dist.Gamma(loc/ g, 1/g)\n",
    "#plt.plot(x, torch.exp(d1.log_prob(x)).cpu(), lw=5)\n",
    "#plt.plot(x, torch.exp(d2.log_prob(x)).cpu(), lw=5)\n",
    "#plt.plot(x, torch.exp(dfi.log_prob(x)).cpu(), lw=5)\n",
    "#plt.hist(d1.sample(torch.tensor([500])), bins=20, density=True, alpha=0.3, color=\"C0\")\n",
    "#plt.hist(d2.sample(torch.tensor([500])), bins=20, density=True, alpha=0.3, color=\"C1\")\n",
    "#plt.hist(d1.sample(torch.tensor([1500]))+d2.sample(torch.tensor([1500])), bins=30, density=True, alpha=0.3, color=\"C2\")\n",
    "plt.hist(data.data.reshape(-1), bins=500, density=True, alpha=0.3, color=\"C1\")\n",
    "plt.plot(x, torch.exp(dfl.log_prob(x-90)).cpu(), lw=5)\n",
    "plt.plot(x, torch.exp(dm.log_prob(x-om)).cpu(), lw=5)\n",
    "plt.xlim(80, 160)\n",
    "plt.xticks(size=20)\n",
    "plt.yticks(size=20)\n",
    "plt.show()"
   ]
  },
  {
   "cell_type": "code",
   "execution_count": 425,
   "metadata": {},
   "outputs": [],
   "source": [
    "pyro.clear_param_store()\n",
    "pyro.get_param_store().load(\n",
    "    filename=os.path.join(\"experimental_data/FL_1118_2225_0p3OD/runs/featurev0.9.8/nojit/lr0.005/Adam/32\", \"params\"),\n",
    "    map_location=torch.device(\"cpu\"))"
   ]
  },
  {
   "cell_type": "code",
   "execution_count": 637,
   "metadata": {},
   "outputs": [],
   "source": [
    "results = {}\n",
    "predictions = {}\n",
    "hs = [\"h1000\", \"h1500\", \"h2000\", \"-2-g4f08789\"]\n",
    "\n",
    "\n",
    "for h in hs:\n",
    "    results[h] = pd.read_csv(\"experimental_data/FL_3339_4444_0p8OD/runs/marginalv0.9.9{}/nojit/lr0.005/Adam/32/params_last.csv\".format(h),\n",
    "                            header=None, squeeze=True, index_col=0)\n",
    "    predictions[h] = np.load(\n",
    "        \"experimental_data/FL_3339_4444_0p8OD/runs/marginalv0.9.9{}/nojit/lr0.005/Adam/32/predictions.npy\".format(h))"
   ]
  },
  {
   "cell_type": "code",
   "execution_count": 638,
   "metadata": {},
   "outputs": [
    {
     "name": "stdout",
     "output_type": "stream",
     "text": [
      "h1000\n",
      "0.5877620057069463\n",
      "1289.0\n",
      "12.0\n",
      "\n",
      "h1500\n",
      "0.7541964804275003\n",
      "499.0\n",
      "23.0\n",
      "\n",
      "h2000\n",
      "0.8967707663610587\n",
      "123.0\n",
      "41.0\n",
      "\n",
      "-2-g4f08789\n",
      "0.833230781742093\n",
      "271.0\n",
      "30.0\n",
      "\n"
     ]
    }
   ],
   "source": [
    "for h in hs:\n",
    "    print(h)\n",
    "    print(results[h][\"MCC\"])\n",
    "    print(results[h][\"FP\"])\n",
    "    print(results[h][\"FN\"])\n",
    "    print(\"\")"
   ]
  },
  {
   "cell_type": "code",
   "execution_count": 659,
   "metadata": {},
   "outputs": [],
   "source": [
    "results = {}\n",
    "predictions = {}\n",
    "hs = [\"h1000\", \"h2000\", \"h2500\"]\n",
    "\n",
    "\n",
    "for h in hs:\n",
    "    results[h] = pd.read_csv(\"experimental_data/FL_3339_4444_0p8OD/runs/marginalv0.9.9-3-ge7eadea{}/nojit/lr0.005/Adam/32/params_last.csv\".format(h),\n",
    "                            header=None, squeeze=True, index_col=0)\n",
    "    predictions[h] = np.load(\n",
    "        \"experimental_data/FL_3339_4444_0p8OD/runs/marginalv0.9.9-3-ge7eadea{}/nojit/lr0.005/Adam/32/predictions.npy\".format(h))"
   ]
  },
  {
   "cell_type": "code",
   "execution_count": 660,
   "metadata": {},
   "outputs": [
    {
     "name": "stdout",
     "output_type": "stream",
     "text": [
      "h1000\n",
      "0.8161193586794108\n",
      "301.0\n",
      "36.0\n",
      "\n",
      "h2000\n",
      "0.8509395734967966\n",
      "215.0\n",
      "40.0\n",
      "\n",
      "h2500\n",
      "0.8471353169023704\n",
      "228.0\n",
      "37.0\n",
      "\n"
     ]
    }
   ],
   "source": [
    "for h in hs:\n",
    "    print(h)\n",
    "    print(results[h][\"MCC\"])\n",
    "    print(results[h][\"FP\"])\n",
    "    print(results[h][\"FN\"])\n",
    "    print(\"\")"
   ]
  },
  {
   "cell_type": "code",
   "execution_count": null,
   "metadata": {},
   "outputs": [],
   "source": [
    "v0.9.6\n",
    "h500\n",
    "0.71\n",
    "641\n",
    "25\n",
    "\n",
    "h1000\n",
    "0.8166\n",
    "320\n",
    "25\n",
    "\n",
    "h2000\n",
    "0.891\n",
    "131\n",
    "43"
   ]
  },
  {
   "cell_type": "code",
   "execution_count": 85,
   "metadata": {},
   "outputs": [],
   "source": [
    "results = {}\n",
    "predictions = {}\n",
    "hs = [\"1000\", \"1500\", \"2000\"]\n",
    "\n",
    "\n",
    "for h in hs:\n",
    "    results[h] = pd.read_csv(\"test_data/GraceArticlePol2/runs/marginalv0.9.9h{}/nojit/lr0.005/Adam/32/params_last.csv\".format(h),\n",
    "                            header=None, squeeze=True, index_col=0)\n",
    "    predictions[h] = np.load(\n",
    "        \"test_data/GraceArticlePol2/runs/marginalv0.9.9h{}/nojit/lr0.005/Adam/32/predictions.npy\".format(h))"
   ]
  },
  {
   "cell_type": "code",
   "execution_count": 88,
   "metadata": {},
   "outputs": [
    {
     "name": "stdout",
     "output_type": "stream",
     "text": [
      "1000\n",
      "MCC 0.8294362828373321\n",
      "FP 4719.0\n",
      "FN 5662.0\n",
      "\n",
      "1500\n",
      "MCC 0.828344171964331\n",
      "FP 3289.0\n",
      "FN 6899.0\n",
      "\n",
      "2000\n",
      "MCC 0.7996639785064928\n",
      "FP 2041.0\n",
      "FN 9558.0\n",
      "\n"
     ]
    }
   ],
   "source": [
    "for h in hs:\n",
    "    print(h)\n",
    "    print(\"MCC\", results[h][\"MCC\"])\n",
    "    print(\"FP\", results[h][\"FP\"])\n",
    "    print(\"FN\", results[h][\"FN\"])\n",
    "    print(\"\")"
   ]
  },
  {
   "cell_type": "code",
   "execution_count": 632,
   "metadata": {},
   "outputs": [
    {
     "name": "stdout",
     "output_type": "stream",
     "text": [
      "1000\n",
      "0.8294362828373321\n",
      "4719.0\n",
      "5662.0\n",
      "\n",
      "1500\n",
      "0.828344171964331\n",
      "3289.0\n",
      "6899.0\n",
      "\n",
      "2000\n",
      "0.7996639785064928\n",
      "2041.0\n",
      "9558.0\n",
      "\n"
     ]
    }
   ],
   "source": [
    "for h in hs:\n",
    "    print(h)\n",
    "    print(results[h][\"MCC\"])\n",
    "    print(results[h][\"FP\"])\n",
    "    print(results[h][\"FN\"])\n",
    "    print(\"\")"
   ]
  },
  {
   "cell_type": "code",
   "execution_count": 79,
   "metadata": {},
   "outputs": [],
   "source": [
    "from cosmos.utils.glimpse_reader import load_data"
   ]
  },
  {
   "cell_type": "code",
   "execution_count": 81,
   "metadata": {},
   "outputs": [
    {
     "data": {
      "text/plain": [
       "CoSMoSDataset\n",
       "N=15, F=500, D=14\n",
       "dtype='test'"
      ]
     },
     "execution_count": 81,
     "metadata": {},
     "output_type": "execute_result"
    }
   ],
   "source": [
    "load_data(path=\"height_data/h0300pi15lamda15/\", dtype=\"test\", device=torch.device(\"cpu\"))"
   ]
  },
  {
   "cell_type": "code",
   "execution_count": 76,
   "metadata": {},
   "outputs": [
    {
     "name": "stdout",
     "output_type": "stream",
     "text": [
      "dir: \n",
      "header: \n",
      "aoiinfo: \n",
      "driftlist: \n",
      "labels: \n"
     ]
    },
    {
     "ename": "FileNotFoundError",
     "evalue": "[Errno 2] No such file or directory: '.mat'",
     "output_type": "error",
     "traceback": [
      "\u001b[0;31m---------------------------------------------------------------------------\u001b[0m",
      "\u001b[0;31mValueError\u001b[0m                                Traceback (most recent call last)",
      "\u001b[0;32m~/Documents/cosmos/cosmos/utils/aoi_reader.py\u001b[0m in \u001b[0;36mReadAoi\u001b[0;34m(path, control, device)\u001b[0m\n\u001b[1;32m     12\u001b[0m     \u001b[0;32mtry\u001b[0m\u001b[0;34m:\u001b[0m\u001b[0;34m\u001b[0m\u001b[0;34m\u001b[0m\u001b[0m\n\u001b[0;32m---> 13\u001b[0;31m         \u001b[0mdata\u001b[0m \u001b[0;34m=\u001b[0m \u001b[0mload_data\u001b[0m\u001b[0;34m(\u001b[0m\u001b[0mpath\u001b[0m\u001b[0;34m,\u001b[0m \u001b[0mdtype\u001b[0m\u001b[0;34m=\u001b[0m\u001b[0;34m\"test\"\u001b[0m\u001b[0;34m,\u001b[0m \u001b[0mdevice\u001b[0m\u001b[0;34m=\u001b[0m\u001b[0mdevice\u001b[0m\u001b[0;34m)\u001b[0m\u001b[0;34m\u001b[0m\u001b[0;34m\u001b[0m\u001b[0m\n\u001b[0m\u001b[1;32m     14\u001b[0m         \u001b[0;32mif\u001b[0m \u001b[0mcontrol\u001b[0m \u001b[0;32mis\u001b[0m \u001b[0;32mnot\u001b[0m \u001b[0;32mNone\u001b[0m\u001b[0;34m:\u001b[0m\u001b[0;34m\u001b[0m\u001b[0;34m\u001b[0m\u001b[0m\n",
      "\u001b[0;32m~/Documents/cosmos/cosmos/utils/glimpse_reader.py\u001b[0m in \u001b[0;36mload_data\u001b[0;34m(path, dtype, device)\u001b[0m\n\u001b[1;32m     87\u001b[0m \u001b[0;34m\u001b[0m\u001b[0m\n\u001b[0;32m---> 88\u001b[0;31m     \u001b[0;32mreturn\u001b[0m \u001b[0mCoSMoSDataset\u001b[0m\u001b[0;34m(\u001b[0m\u001b[0mdata\u001b[0m\u001b[0;34m,\u001b[0m \u001b[0mtarget\u001b[0m\u001b[0;34m,\u001b[0m \u001b[0mdrift\u001b[0m\u001b[0;34m,\u001b[0m \u001b[0mlabels\u001b[0m\u001b[0;34m,\u001b[0m \u001b[0mdtype\u001b[0m\u001b[0;34m,\u001b[0m \u001b[0mdevice\u001b[0m\u001b[0;34m,\u001b[0m \u001b[0moffset\u001b[0m\u001b[0;34m)\u001b[0m\u001b[0;34m\u001b[0m\u001b[0;34m\u001b[0m\u001b[0m\n\u001b[0m\u001b[1;32m     89\u001b[0m \u001b[0;34m\u001b[0m\u001b[0m\n",
      "\u001b[0;32m~/Documents/cosmos/cosmos/utils/glimpse_reader.py\u001b[0m in \u001b[0;36m__init__\u001b[0;34m(self, data, target, drift, labels, dtype, device, offset)\u001b[0m\n\u001b[1;32m     33\u001b[0m                                              \u001b[0;31m#bins=8,\u001b[0m\u001b[0;34m\u001b[0m\u001b[0;34m\u001b[0m\u001b[0;34m\u001b[0m\u001b[0m\n\u001b[0;32m---> 34\u001b[0;31m                                              density=True)\n\u001b[0m\u001b[1;32m     35\u001b[0m         \u001b[0moffset_samples\u001b[0m \u001b[0;34m=\u001b[0m \u001b[0moffset_samples\u001b[0m\u001b[0;34m[\u001b[0m\u001b[0;34m:\u001b[0m\u001b[0;34m-\u001b[0m\u001b[0;36m1\u001b[0m\u001b[0;34m]\u001b[0m\u001b[0;34m\u001b[0m\u001b[0;34m\u001b[0m\u001b[0m\n",
      "\u001b[0;32m<__array_function__ internals>\u001b[0m in \u001b[0;36mhistogram\u001b[0;34m(*args, **kwargs)\u001b[0m\n",
      "\u001b[0;32m~/anaconda3/envs/bsd/lib/python3.7/site-packages/numpy/lib/histograms.py\u001b[0m in \u001b[0;36mhistogram\u001b[0;34m(a, bins, range, normed, weights, density)\u001b[0m\n\u001b[1;32m    794\u001b[0m \u001b[0;34m\u001b[0m\u001b[0m\n\u001b[0;32m--> 795\u001b[0;31m     \u001b[0mbin_edges\u001b[0m\u001b[0;34m,\u001b[0m \u001b[0muniform_bins\u001b[0m \u001b[0;34m=\u001b[0m \u001b[0m_get_bin_edges\u001b[0m\u001b[0;34m(\u001b[0m\u001b[0ma\u001b[0m\u001b[0;34m,\u001b[0m \u001b[0mbins\u001b[0m\u001b[0;34m,\u001b[0m \u001b[0mrange\u001b[0m\u001b[0;34m,\u001b[0m \u001b[0mweights\u001b[0m\u001b[0;34m)\u001b[0m\u001b[0;34m\u001b[0m\u001b[0;34m\u001b[0m\u001b[0m\n\u001b[0m\u001b[1;32m    796\u001b[0m \u001b[0;34m\u001b[0m\u001b[0m\n",
      "\u001b[0;32m~/anaconda3/envs/bsd/lib/python3.7/site-packages/numpy/lib/histograms.py\u001b[0m in \u001b[0;36m_get_bin_edges\u001b[0;34m(a, bins, range, weights)\u001b[0m\n\u001b[1;32m    426\u001b[0m         \u001b[0;32mif\u001b[0m \u001b[0mn_equal_bins\u001b[0m \u001b[0;34m<\u001b[0m \u001b[0;36m1\u001b[0m\u001b[0;34m:\u001b[0m\u001b[0;34m\u001b[0m\u001b[0;34m\u001b[0m\u001b[0m\n\u001b[0;32m--> 427\u001b[0;31m             \u001b[0;32mraise\u001b[0m \u001b[0mValueError\u001b[0m\u001b[0;34m(\u001b[0m\u001b[0;34m'`bins` must be positive, when an integer'\u001b[0m\u001b[0;34m)\u001b[0m\u001b[0;34m\u001b[0m\u001b[0;34m\u001b[0m\u001b[0m\n\u001b[0m\u001b[1;32m    428\u001b[0m \u001b[0;34m\u001b[0m\u001b[0m\n",
      "\u001b[0;31mValueError\u001b[0m: `bins` must be positive, when an integer",
      "\nDuring handling of the above exception, another exception occurred:\n",
      "\u001b[0;31mFileNotFoundError\u001b[0m                         Traceback (most recent call last)",
      "\u001b[0;32m~/anaconda3/envs/bsd/lib/python3.7/site-packages/scipy/io/matlab/mio.py\u001b[0m in \u001b[0;36m_open_file\u001b[0;34m(file_like, appendmat, mode)\u001b[0m\n\u001b[1;32m     38\u001b[0m     \u001b[0;32mtry\u001b[0m\u001b[0;34m:\u001b[0m\u001b[0;34m\u001b[0m\u001b[0;34m\u001b[0m\u001b[0m\n\u001b[0;32m---> 39\u001b[0;31m         \u001b[0;32mreturn\u001b[0m \u001b[0mopen\u001b[0m\u001b[0;34m(\u001b[0m\u001b[0mfile_like\u001b[0m\u001b[0;34m,\u001b[0m \u001b[0mmode\u001b[0m\u001b[0;34m)\u001b[0m\u001b[0;34m,\u001b[0m \u001b[0;32mTrue\u001b[0m\u001b[0;34m\u001b[0m\u001b[0;34m\u001b[0m\u001b[0m\n\u001b[0m\u001b[1;32m     40\u001b[0m     \u001b[0;32mexcept\u001b[0m \u001b[0mIOError\u001b[0m\u001b[0;34m:\u001b[0m\u001b[0;34m\u001b[0m\u001b[0;34m\u001b[0m\u001b[0m\n",
      "\u001b[0;31mFileNotFoundError\u001b[0m: [Errno 2] No such file or directory: ''",
      "\nDuring handling of the above exception, another exception occurred:\n",
      "\u001b[0;31mFileNotFoundError\u001b[0m                         Traceback (most recent call last)",
      "\u001b[0;32m<ipython-input-76-df1081a614a4>\u001b[0m in \u001b[0;36m<module>\u001b[0;34m\u001b[0m\n\u001b[1;32m      1\u001b[0m data, control = ReadAoi(path=\"height_data/h0300pi15lamda15/\",\n\u001b[0;32m----> 2\u001b[0;31m                   control=\"control\", device=torch.device(\"cpu\"))\n\u001b[0m",
      "\u001b[0;32m~/Documents/cosmos/cosmos/utils/aoi_reader.py\u001b[0m in \u001b[0;36mReadAoi\u001b[0;34m(path, control, device)\u001b[0m\n\u001b[1;32m     15\u001b[0m             \u001b[0mcontrol\u001b[0m \u001b[0;34m=\u001b[0m \u001b[0mload_data\u001b[0m\u001b[0;34m(\u001b[0m\u001b[0mpath\u001b[0m\u001b[0;34m,\u001b[0m \u001b[0mdtype\u001b[0m\u001b[0;34m=\u001b[0m\u001b[0;34m\"control\"\u001b[0m\u001b[0;34m,\u001b[0m \u001b[0mdevice\u001b[0m\u001b[0;34m=\u001b[0m\u001b[0mdevice\u001b[0m\u001b[0;34m)\u001b[0m\u001b[0;34m\u001b[0m\u001b[0;34m\u001b[0m\u001b[0m\n\u001b[1;32m     16\u001b[0m     \u001b[0;32mexcept\u001b[0m\u001b[0;34m:\u001b[0m\u001b[0;34m\u001b[0m\u001b[0;34m\u001b[0m\u001b[0m\n\u001b[0;32m---> 17\u001b[0;31m         \u001b[0mdata\u001b[0m \u001b[0;34m=\u001b[0m \u001b[0mread_glimpse\u001b[0m\u001b[0;34m(\u001b[0m\u001b[0mpath\u001b[0m\u001b[0;34m,\u001b[0m \u001b[0mD\u001b[0m\u001b[0;34m=\u001b[0m\u001b[0;36m14\u001b[0m\u001b[0;34m,\u001b[0m \u001b[0mdtype\u001b[0m\u001b[0;34m=\u001b[0m\u001b[0;34m\"test\"\u001b[0m\u001b[0;34m,\u001b[0m \u001b[0mdevice\u001b[0m\u001b[0;34m=\u001b[0m\u001b[0mdevice\u001b[0m\u001b[0;34m)\u001b[0m\u001b[0;34m\u001b[0m\u001b[0;34m\u001b[0m\u001b[0m\n\u001b[0m\u001b[1;32m     18\u001b[0m         \u001b[0mdata\u001b[0m\u001b[0;34m.\u001b[0m\u001b[0msave\u001b[0m\u001b[0;34m(\u001b[0m\u001b[0mpath\u001b[0m\u001b[0;34m)\u001b[0m\u001b[0;34m\u001b[0m\u001b[0;34m\u001b[0m\u001b[0m\n\u001b[1;32m     19\u001b[0m         \u001b[0;32mif\u001b[0m \u001b[0mcontrol\u001b[0m \u001b[0;32mis\u001b[0m \u001b[0;32mnot\u001b[0m \u001b[0;32mNone\u001b[0m\u001b[0;34m:\u001b[0m\u001b[0;34m\u001b[0m\u001b[0;34m\u001b[0m\u001b[0m\n",
      "\u001b[0;32m~/Documents/cosmos/cosmos/utils/glimpse_reader.py\u001b[0m in \u001b[0;36mread_glimpse\u001b[0;34m(name, D, dtype, device)\u001b[0m\n\u001b[1;32m    119\u001b[0m     \"\"\"\n\u001b[1;32m    120\u001b[0m     \u001b[0;31m# convert header into dict format\u001b[0m\u001b[0;34m\u001b[0m\u001b[0;34m\u001b[0m\u001b[0;34m\u001b[0m\u001b[0m\n\u001b[0;32m--> 121\u001b[0;31m     \u001b[0mmat_header\u001b[0m \u001b[0;34m=\u001b[0m \u001b[0mloadmat\u001b[0m\u001b[0;34m(\u001b[0m\u001b[0mpath_to\u001b[0m\u001b[0;34m[\u001b[0m\u001b[0;34m\"header\"\u001b[0m\u001b[0;34m]\u001b[0m\u001b[0;34m)\u001b[0m\u001b[0;34m\u001b[0m\u001b[0;34m\u001b[0m\u001b[0m\n\u001b[0m\u001b[1;32m    122\u001b[0m     \u001b[0mheader\u001b[0m \u001b[0;34m=\u001b[0m \u001b[0mdict\u001b[0m\u001b[0;34m(\u001b[0m\u001b[0;34m)\u001b[0m\u001b[0;34m\u001b[0m\u001b[0;34m\u001b[0m\u001b[0m\n\u001b[1;32m    123\u001b[0m     \u001b[0;32mfor\u001b[0m \u001b[0mi\u001b[0m\u001b[0;34m,\u001b[0m \u001b[0mdt\u001b[0m \u001b[0;32min\u001b[0m \u001b[0menumerate\u001b[0m\u001b[0;34m(\u001b[0m\u001b[0mmat_header\u001b[0m\u001b[0;34m[\u001b[0m\u001b[0;34m\"vid\"\u001b[0m\u001b[0;34m]\u001b[0m\u001b[0;34m.\u001b[0m\u001b[0mdtype\u001b[0m\u001b[0;34m.\u001b[0m\u001b[0mnames\u001b[0m\u001b[0;34m)\u001b[0m\u001b[0;34m:\u001b[0m\u001b[0;34m\u001b[0m\u001b[0;34m\u001b[0m\u001b[0m\n",
      "\u001b[0;32m~/anaconda3/envs/bsd/lib/python3.7/site-packages/scipy/io/matlab/mio.py\u001b[0m in \u001b[0;36mloadmat\u001b[0;34m(file_name, mdict, appendmat, **kwargs)\u001b[0m\n\u001b[1;32m    214\u001b[0m     \"\"\"\n\u001b[1;32m    215\u001b[0m     \u001b[0mvariable_names\u001b[0m \u001b[0;34m=\u001b[0m \u001b[0mkwargs\u001b[0m\u001b[0;34m.\u001b[0m\u001b[0mpop\u001b[0m\u001b[0;34m(\u001b[0m\u001b[0;34m'variable_names'\u001b[0m\u001b[0;34m,\u001b[0m \u001b[0;32mNone\u001b[0m\u001b[0;34m)\u001b[0m\u001b[0;34m\u001b[0m\u001b[0;34m\u001b[0m\u001b[0m\n\u001b[0;32m--> 216\u001b[0;31m     \u001b[0;32mwith\u001b[0m \u001b[0m_open_file_context\u001b[0m\u001b[0;34m(\u001b[0m\u001b[0mfile_name\u001b[0m\u001b[0;34m,\u001b[0m \u001b[0mappendmat\u001b[0m\u001b[0;34m)\u001b[0m \u001b[0;32mas\u001b[0m \u001b[0mf\u001b[0m\u001b[0;34m:\u001b[0m\u001b[0;34m\u001b[0m\u001b[0;34m\u001b[0m\u001b[0m\n\u001b[0m\u001b[1;32m    217\u001b[0m         \u001b[0mMR\u001b[0m\u001b[0;34m,\u001b[0m \u001b[0m_\u001b[0m \u001b[0;34m=\u001b[0m \u001b[0mmat_reader_factory\u001b[0m\u001b[0;34m(\u001b[0m\u001b[0mf\u001b[0m\u001b[0;34m,\u001b[0m \u001b[0;34m**\u001b[0m\u001b[0mkwargs\u001b[0m\u001b[0;34m)\u001b[0m\u001b[0;34m\u001b[0m\u001b[0;34m\u001b[0m\u001b[0m\n\u001b[1;32m    218\u001b[0m         \u001b[0mmatfile_dict\u001b[0m \u001b[0;34m=\u001b[0m \u001b[0mMR\u001b[0m\u001b[0;34m.\u001b[0m\u001b[0mget_variables\u001b[0m\u001b[0;34m(\u001b[0m\u001b[0mvariable_names\u001b[0m\u001b[0;34m)\u001b[0m\u001b[0;34m\u001b[0m\u001b[0;34m\u001b[0m\u001b[0m\n",
      "\u001b[0;32m~/anaconda3/envs/bsd/lib/python3.7/contextlib.py\u001b[0m in \u001b[0;36m__enter__\u001b[0;34m(self)\u001b[0m\n\u001b[1;32m    110\u001b[0m         \u001b[0;32mdel\u001b[0m \u001b[0mself\u001b[0m\u001b[0;34m.\u001b[0m\u001b[0margs\u001b[0m\u001b[0;34m,\u001b[0m \u001b[0mself\u001b[0m\u001b[0;34m.\u001b[0m\u001b[0mkwds\u001b[0m\u001b[0;34m,\u001b[0m \u001b[0mself\u001b[0m\u001b[0;34m.\u001b[0m\u001b[0mfunc\u001b[0m\u001b[0;34m\u001b[0m\u001b[0;34m\u001b[0m\u001b[0m\n\u001b[1;32m    111\u001b[0m         \u001b[0;32mtry\u001b[0m\u001b[0;34m:\u001b[0m\u001b[0;34m\u001b[0m\u001b[0;34m\u001b[0m\u001b[0m\n\u001b[0;32m--> 112\u001b[0;31m             \u001b[0;32mreturn\u001b[0m \u001b[0mnext\u001b[0m\u001b[0;34m(\u001b[0m\u001b[0mself\u001b[0m\u001b[0;34m.\u001b[0m\u001b[0mgen\u001b[0m\u001b[0;34m)\u001b[0m\u001b[0;34m\u001b[0m\u001b[0;34m\u001b[0m\u001b[0m\n\u001b[0m\u001b[1;32m    113\u001b[0m         \u001b[0;32mexcept\u001b[0m \u001b[0mStopIteration\u001b[0m\u001b[0;34m:\u001b[0m\u001b[0;34m\u001b[0m\u001b[0;34m\u001b[0m\u001b[0m\n\u001b[1;32m    114\u001b[0m             \u001b[0;32mraise\u001b[0m \u001b[0mRuntimeError\u001b[0m\u001b[0;34m(\u001b[0m\u001b[0;34m\"generator didn't yield\"\u001b[0m\u001b[0;34m)\u001b[0m \u001b[0;32mfrom\u001b[0m \u001b[0;32mNone\u001b[0m\u001b[0;34m\u001b[0m\u001b[0;34m\u001b[0m\u001b[0m\n",
      "\u001b[0;32m~/anaconda3/envs/bsd/lib/python3.7/site-packages/scipy/io/matlab/mio.py\u001b[0m in \u001b[0;36m_open_file_context\u001b[0;34m(file_like, appendmat, mode)\u001b[0m\n\u001b[1;32m     17\u001b[0m \u001b[0;34m@\u001b[0m\u001b[0mcontextmanager\u001b[0m\u001b[0;34m\u001b[0m\u001b[0;34m\u001b[0m\u001b[0m\n\u001b[1;32m     18\u001b[0m \u001b[0;32mdef\u001b[0m \u001b[0m_open_file_context\u001b[0m\u001b[0;34m(\u001b[0m\u001b[0mfile_like\u001b[0m\u001b[0;34m,\u001b[0m \u001b[0mappendmat\u001b[0m\u001b[0;34m,\u001b[0m \u001b[0mmode\u001b[0m\u001b[0;34m=\u001b[0m\u001b[0;34m'rb'\u001b[0m\u001b[0;34m)\u001b[0m\u001b[0;34m:\u001b[0m\u001b[0;34m\u001b[0m\u001b[0;34m\u001b[0m\u001b[0m\n\u001b[0;32m---> 19\u001b[0;31m     \u001b[0mf\u001b[0m\u001b[0;34m,\u001b[0m \u001b[0mopened\u001b[0m \u001b[0;34m=\u001b[0m \u001b[0m_open_file\u001b[0m\u001b[0;34m(\u001b[0m\u001b[0mfile_like\u001b[0m\u001b[0;34m,\u001b[0m \u001b[0mappendmat\u001b[0m\u001b[0;34m,\u001b[0m \u001b[0mmode\u001b[0m\u001b[0;34m)\u001b[0m\u001b[0;34m\u001b[0m\u001b[0;34m\u001b[0m\u001b[0m\n\u001b[0m\u001b[1;32m     20\u001b[0m     \u001b[0;32myield\u001b[0m \u001b[0mf\u001b[0m\u001b[0;34m\u001b[0m\u001b[0;34m\u001b[0m\u001b[0m\n\u001b[1;32m     21\u001b[0m     \u001b[0;32mif\u001b[0m \u001b[0mopened\u001b[0m\u001b[0;34m:\u001b[0m\u001b[0;34m\u001b[0m\u001b[0;34m\u001b[0m\u001b[0m\n",
      "\u001b[0;32m~/anaconda3/envs/bsd/lib/python3.7/site-packages/scipy/io/matlab/mio.py\u001b[0m in \u001b[0;36m_open_file\u001b[0;34m(file_like, appendmat, mode)\u001b[0m\n\u001b[1;32m     43\u001b[0m             \u001b[0;32mif\u001b[0m \u001b[0mappendmat\u001b[0m \u001b[0;32mand\u001b[0m \u001b[0;32mnot\u001b[0m \u001b[0mfile_like\u001b[0m\u001b[0;34m.\u001b[0m\u001b[0mendswith\u001b[0m\u001b[0;34m(\u001b[0m\u001b[0;34m'.mat'\u001b[0m\u001b[0;34m)\u001b[0m\u001b[0;34m:\u001b[0m\u001b[0;34m\u001b[0m\u001b[0;34m\u001b[0m\u001b[0m\n\u001b[1;32m     44\u001b[0m                 \u001b[0mfile_like\u001b[0m \u001b[0;34m+=\u001b[0m \u001b[0;34m'.mat'\u001b[0m\u001b[0;34m\u001b[0m\u001b[0;34m\u001b[0m\u001b[0m\n\u001b[0;32m---> 45\u001b[0;31m             \u001b[0;32mreturn\u001b[0m \u001b[0mopen\u001b[0m\u001b[0;34m(\u001b[0m\u001b[0mfile_like\u001b[0m\u001b[0;34m,\u001b[0m \u001b[0mmode\u001b[0m\u001b[0;34m)\u001b[0m\u001b[0;34m,\u001b[0m \u001b[0;32mTrue\u001b[0m\u001b[0;34m\u001b[0m\u001b[0;34m\u001b[0m\u001b[0m\n\u001b[0m\u001b[1;32m     46\u001b[0m         \u001b[0;32melse\u001b[0m\u001b[0;34m:\u001b[0m\u001b[0;34m\u001b[0m\u001b[0;34m\u001b[0m\u001b[0m\n\u001b[1;32m     47\u001b[0m             \u001b[0;32mraise\u001b[0m \u001b[0mIOError\u001b[0m\u001b[0;34m(\u001b[0m\u001b[0;34m'Reader needs file name or open file-like object'\u001b[0m\u001b[0;34m)\u001b[0m\u001b[0;34m\u001b[0m\u001b[0;34m\u001b[0m\u001b[0m\n",
      "\u001b[0;31mFileNotFoundError\u001b[0m: [Errno 2] No such file or directory: '.mat'"
     ]
    }
   ],
   "source": [
    "data, control = ReadAoi(path=\"height_data/h0300pi15lamda15/\",\n",
    "                  control=\"control\", device=torch.device(\"cpu\"))"
   ]
  },
  {
   "cell_type": "code",
   "execution_count": null,
   "metadata": {},
   "outputs": [],
   "source": []
  }
 ],
 "metadata": {
  "hide_input": true,
  "kernelspec": {
   "display_name": "Python 3",
   "language": "python",
   "name": "python3"
  },
  "language_info": {
   "codemirror_mode": {
    "name": "ipython",
    "version": 3
   },
   "file_extension": ".py",
   "mimetype": "text/x-python",
   "name": "python",
   "nbconvert_exporter": "python",
   "pygments_lexer": "ipython3",
   "version": "3.7.7"
  }
 },
 "nbformat": 4,
 "nbformat_minor": 4
}
