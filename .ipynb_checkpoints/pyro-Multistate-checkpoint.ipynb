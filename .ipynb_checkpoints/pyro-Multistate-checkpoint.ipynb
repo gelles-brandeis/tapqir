{
 "cells": [
  {
   "cell_type": "markdown",
   "metadata": {},
   "source": [
    "# Introduction"
   ]
  },
  {
   "cell_type": "code",
   "execution_count": 1,
   "metadata": {
    "ExecuteTime": {
     "end_time": "2019-06-29T13:53:31.318020Z",
     "start_time": "2019-06-29T13:53:30.182935Z"
    }
   },
   "outputs": [],
   "source": [
    "import numpy as np\n",
    "import matplotlib.pyplot as plt\n",
    "%matplotlib inline\n",
    "\n",
    "# pyro & pytorch\n",
    "import torch\n",
    "import torch.distributions.constraints as constraints\n",
    "import pyro\n",
    "from pyro import poutine\n",
    "from pyro.optim import Adam\n",
    "from pyro.infer import SVI, Trace_ELBO, TraceEnum_ELBO, config_enumerate\n",
    "import pyro.distributions as dist\n",
    "\n",
    "from sklearn.metrics import matthews_corrcoef as mcc\n",
    "\n",
    "# loading & saving data\n",
    "from scipy.io import loadmat\n",
    "import pandas as pd\n",
    "import os\n",
    "import time\n",
    "import datetime\n",
    "import pickle\n",
    "import inspect\n",
    "\n",
    "# gui\n",
    "import qgrid\n",
    "qgrid.enable()\n",
    "import ipywidgets as widgets\n",
    "from ipywidgets import interact, interact_manual\n",
    "import math\n",
    "\n",
    "\n",
    "pyro.enable_validation(True)\n",
    "\n",
    "%load_ext autoreload\n",
    "%autoreload 2"
   ]
  },
  {
   "cell_type": "code",
   "execution_count": 2,
   "metadata": {
    "ExecuteTime": {
     "end_time": "2019-06-29T13:53:31.333585Z",
     "start_time": "2019-06-29T13:53:31.319583Z"
    }
   },
   "outputs": [
    {
     "data": {
      "text/plain": [
       "16.0"
      ]
     },
     "execution_count": 2,
     "metadata": {},
     "output_type": "execute_result"
    }
   ],
   "source": [
    "plt.rcParams[\"font.size\"] = 16\n",
    "plt.rcParams[\"font.size\"]"
   ]
  },
  {
   "cell_type": "code",
   "execution_count": 3,
   "metadata": {
    "ExecuteTime": {
     "end_time": "2019-06-29T13:53:31.349135Z",
     "start_time": "2019-06-29T13:53:31.335259Z"
    }
   },
   "outputs": [],
   "source": [
    "def save_obj(obj, name):\n",
    "    with open(name, 'wb') as f:\n",
    "        pickle.dump(obj, f, pickle.HIGHEST_PROTOCOL)\n",
    "\n",
    "def load_obj(name):\n",
    "    with open(name, 'rb') as f:\n",
    "        return pickle.load(f)"
   ]
  },
  {
   "cell_type": "markdown",
   "metadata": {},
   "source": [
    "## Enable Cuda"
   ]
  },
  {
   "cell_type": "code",
   "execution_count": 4,
   "metadata": {
    "ExecuteTime": {
     "end_time": "2019-06-28T14:47:16.524487Z",
     "start_time": "2019-06-28T14:47:16.501484Z"
    }
   },
   "outputs": [],
   "source": [
    "#device = torch.device(\"cuda:0\")\n",
    "#torch.set_default_tensor_type('torch.cuda.FloatTensor')\n",
    "#torch.cuda.is_available()"
   ]
  },
  {
   "cell_type": "markdown",
   "metadata": {},
   "source": [
    "# Explore Data"
   ]
  },
  {
   "cell_type": "code",
   "execution_count": 46,
   "metadata": {
    "ExecuteTime": {
     "end_time": "2019-06-28T17:40:34.661576Z",
     "start_time": "2019-06-28T17:40:34.643663Z"
    }
   },
   "outputs": [],
   "source": [
    "path = \"/home/ordabayev/Documents/postdoc/Bayesian_test_files\"\n",
    "path_glimpse = \"/home/ordabayev/Documents/postdoc/Bayesian_test_files/b33p43e_440\"\n",
    "header = loadmat(os.path.join(path_glimpse, \"header.mat\"))"
   ]
  },
  {
   "cell_type": "code",
   "execution_count": 97,
   "metadata": {
    "ExecuteTime": {
     "end_time": "2019-06-28T18:18:48.985467Z",
     "start_time": "2019-06-28T18:18:48.921070Z"
    }
   },
   "outputs": [
    {
     "name": "stdout",
     "output_type": "stream",
     "text": [
      "dict_keys(['__header__', '__version__', '__globals__', 'FL_1_1117_0OD', 'FL_1118_2225_0p3OD', 'FL_2226_3338_0p6OD', 'FL_3339_4444_0p8OD', 'FL_4445_5554_1p1OD', 'FL_5555_6684_1p3OD'])\n"
     ]
    },
    {
     "data": {
      "application/vnd.jupyter.widget-view+json": {
       "model_id": "6cd4c459f0b14f63a1083ad1af4d29a1",
       "version_major": 2,
       "version_minor": 0
      },
      "text/plain": [
       "QgridWidget(grid_options={'fullWidthRows': True, 'syncColumnCellResize': True, 'forceFitColumns': True, 'defau…"
      ]
     },
     "metadata": {},
     "output_type": "display_data"
    }
   ],
   "source": [
    "framelist_name = \"B33p44a_FrameList_files.dat\"\n",
    "framelist_mat = loadmat(os.path.join(path, framelist_name))\n",
    "print(framelist_mat.keys())\n",
    "framelist_df = pd.DataFrame(framelist_mat[\"FL_2226_3338_0p6OD\"], columns=[\"aoi\", \"detected\", \"frame\"])\n",
    "framelist_df"
   ]
  },
  {
   "cell_type": "code",
   "execution_count": 98,
   "metadata": {
    "ExecuteTime": {
     "end_time": "2019-06-28T18:18:54.286441Z",
     "start_time": "2019-06-28T18:18:54.233835Z"
    }
   },
   "outputs": [
    {
     "data": {
      "application/vnd.jupyter.widget-view+json": {
       "model_id": "1a96acc95b1845068613e6d459ef5bf8",
       "version_major": 2,
       "version_minor": 0
      },
      "text/plain": [
       "QgridWidget(grid_options={'fullWidthRows': True, 'syncColumnCellResize': True, 'forceFitColumns': True, 'defau…"
      ]
     },
     "metadata": {},
     "output_type": "display_data"
    }
   ],
   "source": [
    "aoi_filename = \"b33p36g.dat\" # long wv\n",
    "aoi_mat = loadmat(os.path.join(path, aoi_filename))\n",
    "#print(aoi_mat.keys())\n",
    "aoi_df = pd.DataFrame(aoi_mat[\"aoiinfo2\"], columns=[\"frame\", \"ave\", \"x\", \"y\", \"pixnum\", \"aoi\"])\n",
    "aoi_df = aoi_df.set_index(\"aoi\")\n",
    "aoi_df"
   ]
  },
  {
   "cell_type": "code",
   "execution_count": 99,
   "metadata": {
    "ExecuteTime": {
     "end_time": "2019-06-28T18:18:55.922671Z",
     "start_time": "2019-06-28T18:18:55.862791Z"
    }
   },
   "outputs": [
    {
     "data": {
      "application/vnd.jupyter.widget-view+json": {
       "model_id": "73e05b9832af4d3b8f3cd2df9066ceae",
       "version_major": 2,
       "version_minor": 0
      },
      "text/plain": [
       "QgridWidget(grid_options={'fullWidthRows': True, 'syncColumnCellResize': True, 'forceFitColumns': True, 'defau…"
      ]
     },
     "metadata": {},
     "output_type": "display_data"
    }
   ],
   "source": [
    "drift_filename = \"B33p43e_440_Cy5_driftlist.dat\"\n",
    "drift_mat = loadmat(os.path.join(path, drift_filename))\n",
    "# calculate the cumulative sum of dx and dy\n",
    "drift_mat[\"driftlist\"][:,1:3] = np.cumsum(drift_mat[\"driftlist\"][:,1:3], axis=0)\n",
    "drift_df = pd.DataFrame(drift_mat[\"driftlist\"], columns=[\"frame\", \"dx\", \"dy\", \"timestamp\"])\n",
    "drift_df = drift_df.set_index(\"frame\")\n",
    "drift_df"
   ]
  },
  {
   "cell_type": "code",
   "execution_count": 100,
   "metadata": {
    "ExecuteTime": {
     "end_time": "2019-06-28T18:18:56.823916Z",
     "start_time": "2019-06-28T18:18:56.810047Z"
    }
   },
   "outputs": [
    {
     "data": {
      "text/plain": [
       "5.0"
      ]
     },
     "execution_count": 100,
     "metadata": {},
     "output_type": "execute_result"
    }
   ],
   "source": [
    "drift_df.loc[5000,\"dx\"] // 1"
   ]
  },
  {
   "cell_type": "code",
   "execution_count": 101,
   "metadata": {
    "ExecuteTime": {
     "end_time": "2019-06-28T18:18:57.628979Z",
     "start_time": "2019-06-28T18:18:57.502002Z"
    }
   },
   "outputs": [
    {
     "data": {
      "image/png": "[encoded data removed]",
      "text/plain": [
       "<Figure size 432x288 with 1 Axes>"
      ]
     },
     "metadata": {
      "needs_background": "light"
     },
     "output_type": "display_data"
    }
   ],
   "source": [
    "plt.plot(drift_df[\"dx\"], drift_df[\"dy\"])\n",
    "plt.plot(smd[\"trace\"][3][\"dx\"], smd[\"trace\"][3][\"dy\"])\n",
    "plt.ylim()\n",
    "plt.show()"
   ]
  },
  {
   "cell_type": "code",
   "execution_count": 243,
   "metadata": {
    "ExecuteTime": {
     "end_time": "2019-06-28T20:53:02.196994Z",
     "start_time": "2019-06-28T20:53:01.730778Z"
    }
   },
   "outputs": [
    {
     "data": {
      "application/vnd.jupyter.widget-view+json": {
       "model_id": "ba208c01656945cfb37d2aa3c860ce64",
       "version_major": 2,
       "version_minor": 0
      },
      "text/plain": [
       "interactive(children=(Dropdown(description='frame', options=(1.0, 2.0, 3.0, 4.0, 5.0, 6.0, 7.0, 8.0, 9.0, 10.0…"
      ]
     },
     "metadata": {},
     "output_type": "display_data"
    }
   ],
   "source": [
    "@interact\n",
    "def view_glimpse(frame=drift_df.index):\n",
    "    height = int(header[\"vid\"][\"height\"])\n",
    "    width = int(header[\"vid\"][\"width\"])\n",
    "    glimpse_number = header[\"vid\"][\"filenumber\"][0][0][0][int(frame-1)]\n",
    "    with open(os.path.join(path_glimpse, \"{}.glimpse\".format(glimpse_number))) as fid:\n",
    "        fid.seek(header['vid']['offset'][0][0][0][int(frame-1)])\n",
    "        img = np.fromfile(fid, dtype='>i2', count=height*width).reshape(height,width)\n",
    "        img += 2**15\n",
    "        img.astype(np.uint16)\n",
    "    plt.figure(figsize=(15,7.5))\n",
    "    plt.imshow(img,  cmap='gray', vmin=np.percentile(img, 1), vmax=np.percentile(img, 99.5))\n",
    "    plt.show()\n",
    "    \n",
    "    print(img.min(), img[:10,:10].mean(), img[height-10:,:10].mean(), img[:10,width-10:].mean(), img[height-10:,width-10:].mean())"
   ]
  },
  {
   "cell_type": "code",
   "execution_count": 103,
   "metadata": {
    "ExecuteTime": {
     "end_time": "2019-06-28T18:19:08.414664Z",
     "start_time": "2019-06-28T18:19:08.345638Z"
    }
   },
   "outputs": [],
   "source": [
    "aoi_list = framelist_df[\"aoi\"].unique().tolist()\n",
    "\n",
    "frame_list = []\n",
    "for i in aoi_list:\n",
    "    frame_list.append(framelist_df.loc[(framelist_df[\"aoi\"] == i) & (framelist_df[\"detected\"] > 0), \"frame\"].tolist())"
   ]
  },
  {
   "cell_type": "code",
   "execution_count": 104,
   "metadata": {
    "ExecuteTime": {
     "end_time": "2019-06-28T18:19:39.395124Z",
     "start_time": "2019-06-28T18:19:09.516156Z"
    }
   },
   "outputs": [],
   "source": [
    "from glimpse_read import load_aois\n",
    "smd = load_aois(path_glimpse, header, aoi_df, drift_df, aoi_list, frame_list)"
   ]
  },
  {
   "cell_type": "code",
   "execution_count": 105,
   "metadata": {
    "ExecuteTime": {
     "end_time": "2019-06-28T18:19:48.943909Z",
     "start_time": "2019-06-28T18:19:48.481366Z"
    },
    "scrolled": false
   },
   "outputs": [
    {
     "data": {
      "application/vnd.jupyter.widget-view+json": {
       "model_id": "74798ce7c90d44e0a1932b808dfaf299",
       "version_major": 2,
       "version_minor": 0
      },
      "text/plain": [
       "interactive(children=(Dropdown(description='aoi', options=(3, 7, 13, 24, 28, 47, 62, 65, 70, 71, 76, 83, 90, 9…"
      ]
     },
     "metadata": {},
     "output_type": "display_data"
    }
   ],
   "source": [
    "@interact\n",
    "def view_trace(aoi=aoi_list):\n",
    "    plt.figure(figsize=(15,4))\n",
    "    plt.subplot(1,2,1)\n",
    "    plt.plot(smd[\"trace\"][aoi].index, smd[\"trace\"][aoi][\"intensity\"])\n",
    "    #plt.plot(pyro.param(\"z_probs\")[:,1].detach().numpy())\n",
    "    plt.xlabel(\"frame #\")\n",
    "    plt.ylabel(\"integrated intensity\")\n",
    "    \n",
    "    plt.subplot(1,2,2)\n",
    "    plt.hist(smd[\"data\"][aoi].reshape(-1).cpu(), bins=100)\n",
    "    plt.xlabel(\"pixel intensity\")\n",
    "    plt.ylabel(\"counts\")\n",
    "    \n",
    "    plt.tight_layout()\n",
    "    plt.show()"
   ]
  },
  {
   "cell_type": "code",
   "execution_count": 106,
   "metadata": {
    "ExecuteTime": {
     "end_time": "2019-06-28T18:23:34.649188Z",
     "start_time": "2019-06-28T18:23:34.584172Z"
    }
   },
   "outputs": [
    {
     "data": {
      "application/vnd.jupyter.widget-view+json": {
       "model_id": "af3ca82421714da299fe62a898d6227b",
       "version_major": 2,
       "version_minor": 0
      },
      "text/plain": [
       "QgridWidget(grid_options={'fullWidthRows': True, 'syncColumnCellResize': True, 'forceFitColumns': True, 'defau…"
      ]
     },
     "metadata": {},
     "output_type": "display_data"
    }
   ],
   "source": [
    "smd[\"trace\"][3]"
   ]
  },
  {
   "cell_type": "code",
   "execution_count": 107,
   "metadata": {
    "ExecuteTime": {
     "end_time": "2019-06-28T18:23:58.488983Z",
     "start_time": "2019-06-28T18:23:57.230589Z"
    }
   },
   "outputs": [
    {
     "data": {
      "application/vnd.jupyter.widget-view+json": {
       "model_id": "6587e77a9f224851ac0af65147162ee3",
       "version_major": 2,
       "version_minor": 0
      },
      "text/plain": [
       "interactive(children=(Dropdown(description='aoi', options=(3, 7, 13, 24, 28, 47, 62, 65, 70, 71, 76, 83, 90, 9…"
      ]
     },
     "metadata": {},
     "output_type": "display_data"
    }
   ],
   "source": [
    "# 11 2252\n",
    "# 17 2070 22 1181\n",
    "@interact\n",
    "def view_aoi(aoi=aoi_list, frame=drift_df.index):   \n",
    "    plt.figure(figsize=(15,6))\n",
    "    for i in range(10):\n",
    "        plt.subplot(2,5,i+1)\n",
    "        plt.title(\"frame {:d}\".format(int(frame+i)))\n",
    "        vmin = np.percentile(smd[\"data\"][aoi].cpu(), 5)\n",
    "        vmax = np.percentile(smd[\"data\"][aoi].cpu(), 99)\n",
    "        plt.imshow(smd[\"data\"][aoi][int(frame+i-1)].cpu(), cmap='gray', vmin=vmin, vmax=vmax)\n",
    "    plt.tight_layout()\n",
    "    plt.show()"
   ]
  },
  {
   "cell_type": "code",
   "execution_count": 27,
   "metadata": {
    "ExecuteTime": {
     "end_time": "2019-06-28T14:59:04.102365Z",
     "start_time": "2019-06-28T14:59:04.077089Z"
    },
    "scrolled": false
   },
   "outputs": [],
   "source": [
    "#trace = poutine.trace(gmm.guide).get_trace(batch_size)\n",
    "#trace.nodes"
   ]
  },
  {
   "cell_type": "code",
   "execution_count": 23,
   "metadata": {},
   "outputs": [
    {
     "data": {
      "text/plain": [
       "torch.Size([2366, 2])"
      ]
     },
     "execution_count": 23,
     "metadata": {},
     "output_type": "execute_result"
    }
   ],
   "source": [
    "history[\"z_probs\"][0].shape"
   ]
  },
  {
   "cell_type": "code",
   "execution_count": 52,
   "metadata": {},
   "outputs": [
    {
     "data": {
      "text/plain": [
       "1153173.25"
      ]
     },
     "execution_count": 52,
     "metadata": {},
     "output_type": "execute_result"
    }
   ],
   "source": [
    "history[\"losses\"][-1]"
   ]
  },
  {
   "cell_type": "code",
   "execution_count": null,
   "metadata": {},
   "outputs": [],
   "source": [
    "print(history)"
   ]
  },
  {
   "cell_type": "markdown",
   "metadata": {},
   "source": [
    "# Train the model"
   ]
  },
  {
   "cell_type": "code",
   "execution_count": null,
   "metadata": {},
   "outputs": [],
   "source": [
    "# load checkpoint\n",
    "optim.load(\"checkpoints/gmm_aoi17_optim_2019-06-24_10:01:04.ckpt\")\n",
    "pyro.get_param_store().load(\"checkpoints/gmm_aoi17_param_2019-06-24_10:01:04.ckpt\")\n",
    "history = load_obj(\"checkpoints/gmm_aoi17_history_2019-06-24_10:01:04.pkl\")"
   ]
  },
  {
   "cell_type": "code",
   "execution_count": 286,
   "metadata": {
    "ExecuteTime": {
     "end_time": "2019-06-28T21:30:49.562742Z",
     "start_time": "2019-06-28T21:30:49.527001Z"
    }
   },
   "outputs": [],
   "source": [
    "from gammamodel import GammaNoise\n",
    "\n",
    "pyro.clear_param_store()\n",
    "aoi = 83\n",
    "gmm = GammaNoise(data=smd[\"data\"][aoi], info=smd[\"trace\"][aoi], D=10, K=3)\n",
    "#gmm = GMM(data=smd[\"data\"], trace=smd[\"trace\"], D=10, K=3)\n",
    "batch_size = 256\n",
    "\n",
    "def per_param_callable(module_name, param_name):\n",
    "    if param_name in [\"offset_delta\", \"background_loc\", \"background_scale\", \"height_loc\", \"gain_delta\"]:\n",
    "        return {\"lr\": 0.2, 'betas': [0.9, 0.999]}\n",
    "    else:\n",
    "        return {\"lr\": 0.05, 'betas': [0.9, 0.999]}\n",
    "#optim = pyro.optim.ASGD({\"lr\":0.1})\n",
    "optim = pyro.optim.Adam(per_param_callable)\n",
    "elbo = TraceEnum_ELBO()\n",
    "#elbo = Trace_ELBO()\n",
    "svi = SVI(gmm.model, gmm.guide, optim, loss=elbo)"
   ]
  },
  {
   "cell_type": "code",
   "execution_count": 287,
   "metadata": {
    "ExecuteTime": {
     "end_time": "2019-06-28T21:30:50.165763Z",
     "start_time": "2019-06-28T21:30:50.087669Z"
    }
   },
   "outputs": [],
   "source": [
    "history = {}\n",
    "history[\"code\"] = inspect.getsource(GammaNoise)\n",
    "history[\"trace\"] = smd[\"trace\"][aoi]\n",
    "history[\"batch_size\"] = batch_size\n",
    "history[\"losses\"] = [svi.evaluate_loss(batch_size)]\n",
    "for p in pyro.get_param_store().get_all_param_names():\n",
    "    if p in [\"weights_conc\", \"z_probs\"]:\n",
    "        history[p] = [pyro.param(p)]\n",
    "    else:\n",
    "        history[p] = [pyro.param(p).item()]"
   ]
  },
  {
   "cell_type": "code",
   "execution_count": 290,
   "metadata": {
    "ExecuteTime": {
     "end_time": "2019-06-28T21:32:44.768413Z",
     "start_time": "2019-06-28T21:31:38.703611Z"
    }
   },
   "outputs": [
    {
     "name": "stdout",
     "output_type": "stream",
     "text": [
      "...................................................................................................."
     ]
    }
   ],
   "source": [
    "n_steps = 1000\n",
    "for i in range(n_steps):\n",
    "    loss = svi.step(batch_size)\n",
    "    history[\"losses\"].append(loss)\n",
    "    for p in pyro.get_param_store().get_all_param_names():\n",
    "        if p in [\"weights_conc\", \"z_probs\"]:\n",
    "            history[p].append(pyro.param(p))\n",
    "        else:\n",
    "            history[p].append(pyro.param(p).item())\n",
    "    print(\"\" if i % int(n_steps/100) else \".\", end=\"\")\n",
    "    \n",
    "save_obj(history, os.path.join(path, \"checkpoints\", \"last.pkl\"))"
   ]
  },
  {
   "cell_type": "code",
   "execution_count": 42,
   "metadata": {},
   "outputs": [],
   "source": [
    "# save checkpoint\n",
    "st = datetime.datetime.fromtimestamp(end).strftime('%Y-%m-%d_%H:%M:%S')\n",
    "optim.save(\"checkpoints/{}_aoi{}_optim_{}.ckpt\".format(gmm.name, aoi, st))\n",
    "pyro.get_param_store().save(\"checkpoints/{}_aoi{}_param_{}.ckpt\".format(gmm.name, aoi, st))\n",
    "save_obj(history, \"checkpoints/{}_aoi{}_history_{}.pkl\".format(gmm.name, aoi, st))"
   ]
  },
  {
   "cell_type": "code",
   "execution_count": 114,
   "metadata": {
    "ExecuteTime": {
     "end_time": "2019-06-28T18:29:46.792288Z",
     "start_time": "2019-06-28T18:29:46.768596Z"
    }
   },
   "outputs": [
    {
     "data": {
      "text/plain": [
       "455424.09375"
      ]
     },
     "execution_count": 114,
     "metadata": {},
     "output_type": "execute_result"
    }
   ],
   "source": [
    "history[\"losses\"][-1]"
   ]
  },
  {
   "cell_type": "code",
   "execution_count": 119,
   "metadata": {
    "ExecuteTime": {
     "end_time": "2019-06-28T18:32:51.081111Z",
     "start_time": "2019-06-28T18:32:51.052453Z"
    }
   },
   "outputs": [
    {
     "data": {
      "text/plain": [
       "tensor(185.)"
      ]
     },
     "execution_count": 119,
     "metadata": {},
     "output_type": "execute_result"
    }
   ],
   "source": [
    "smd[\"data\"][aoi].min()"
   ]
  },
  {
   "cell_type": "code",
   "execution_count": 51,
   "metadata": {
    "ExecuteTime": {
     "end_time": "2019-06-28T15:29:19.820120Z",
     "start_time": "2019-06-28T15:29:19.795508Z"
    }
   },
   "outputs": [
    {
     "data": {
      "text/plain": [
       "tensor(0.5000, grad_fn=<SelectBackward>)"
      ]
     },
     "execution_count": 51,
     "metadata": {},
     "output_type": "execute_result"
    }
   ],
   "source": [
    "history[\"z_probs\"][0][0,0]"
   ]
  },
  {
   "cell_type": "code",
   "execution_count": 291,
   "metadata": {
    "ExecuteTime": {
     "end_time": "2019-06-28T21:32:51.058359Z",
     "start_time": "2019-06-28T21:32:48.334180Z"
    },
    "scrolled": false
   },
   "outputs": [
    {
     "data": {
      "application/vnd.jupyter.widget-view+json": {
       "model_id": "7f12396a04de454aacd31e555e9c0018",
       "version_major": 2,
       "version_minor": 0
      },
      "text/plain": [
       "interactive(children=(Dropdown(description='filename', options=('last.pkl',), value='last.pkl'), Output()), _d…"
      ]
     },
     "metadata": {},
     "output_type": "display_data"
    }
   ],
   "source": [
    "%matplotlib inline\n",
    "\n",
    "@interact\n",
    "def view_history(filename=[file for file in os.listdir(os.path.join(path, \"checkpoints\")) if file.endswith(\".pkl\")]):\n",
    "    history = load_obj(os.path.join(path, \"checkpoints\", filename))\n",
    "    rows = math.ceil(len(history)/3)\n",
    "    plt.figure(figsize=(15,4*rows))\n",
    "    i = 1\n",
    "    for p in history.keys():\n",
    "        if p == \"weights_conc\":\n",
    "            plt.subplot(rows,3,i)\n",
    "            plt.plot([w[0] for w in history[p]])\n",
    "            plt.plot([w[1] for w in history[p]])\n",
    "            plt.plot([w[2] for w in history[p]])\n",
    "            plt.xlabel(\"iters\")\n",
    "            plt.title(p)\n",
    "            i += 1\n",
    "        elif p not in [\"code\", \"trace\", \"batch_size\", \"z_probs\"]:\n",
    "            plt.subplot(rows,3,i)\n",
    "            plt.plot(history[p])\n",
    "            plt.xlabel(\"iters\")\n",
    "            plt.title(p)\n",
    "            i += 1\n",
    "        elif p == \"z_probs\":\n",
    "            plt.subplot(rows,3,i)\n",
    "            plt.plot([w[1,0] for w in history[p]])\n",
    "            plt.plot([w[1,1] for w in history[p]])\n",
    "            plt.plot([w[1,2] for w in history[p]])\n",
    "            plt.xlabel(\"iters\")\n",
    "            plt.title(p)\n",
    "            i += 1\n",
    "\n",
    "    plt.tight_layout()\n",
    "    plt.show()"
   ]
  },
  {
   "cell_type": "code",
   "execution_count": 223,
   "metadata": {
    "ExecuteTime": {
     "end_time": "2019-06-28T20:38:16.939847Z",
     "start_time": "2019-06-28T20:38:16.913237Z"
    }
   },
   "outputs": [
    {
     "data": {
      "text/plain": [
       "tensor(75.6728, grad_fn=<AddBackward0>)"
      ]
     },
     "execution_count": 223,
     "metadata": {},
     "output_type": "execute_result"
    }
   ],
   "source": [
    "pyro.param(\"height_loc\")"
   ]
  },
  {
   "cell_type": "code",
   "execution_count": 29,
   "metadata": {},
   "outputs": [
    {
     "data": {
      "application/vnd.jupyter.widget-view+json": {
       "model_id": "3b06478877a244efbffd2bfe26a4dbdf",
       "version_major": 2,
       "version_minor": 0
      },
      "text/plain": [
       "QgridWidget(grid_options={'fullWidthRows': True, 'syncColumnCellResize': True, 'forceFitColumns': True, 'defau…"
      ]
     },
     "metadata": {},
     "output_type": "display_data"
    }
   ],
   "source": [
    "history[\"trace\"]"
   ]
  },
  {
   "cell_type": "markdown",
   "metadata": {},
   "source": [
    "# Fitting results"
   ]
  },
  {
   "cell_type": "code",
   "execution_count": 292,
   "metadata": {
    "ExecuteTime": {
     "end_time": "2019-06-28T21:33:26.581948Z",
     "start_time": "2019-06-28T21:33:26.544053Z"
    }
   },
   "outputs": [],
   "source": [
    "smd[\"trace\"][aoi][\"x\"] = pyro.param(\"x_delta\").item() + gmm.info[\"dx\"].values\n",
    "smd[\"trace\"][aoi][\"y\"] = pyro.param(\"y_delta\").item() + gmm.info[\"dy\"].values\n",
    "smd[\"trace\"][aoi][\"z0\"] = pyro.param(\"z_probs\")[:,0].detach()\n",
    "smd[\"trace\"][aoi][\"z1\"] = pyro.param(\"z_probs\")[:,1].detach()\n",
    "smd[\"trace\"][aoi][\"z2\"] = pyro.param(\"z_probs\")[:,2].detach()"
   ]
  },
  {
   "cell_type": "code",
   "execution_count": 293,
   "metadata": {
    "ExecuteTime": {
     "end_time": "2019-06-28T21:33:27.285459Z",
     "start_time": "2019-06-28T21:33:27.064595Z"
    }
   },
   "outputs": [
    {
     "data": {
      "image/png": "[encoded data removed]",
      "text/plain": [
       "<Figure size 1080x360 with 1 Axes>"
      ]
     },
     "metadata": {
      "needs_background": "light"
     },
     "output_type": "display_data"
    }
   ],
   "source": [
    "plt.figure(figsize=(15,5))\n",
    "plt.scatter(framelist_df.loc[(framelist_df[\"aoi\"] == aoi) & (framelist_df[\"detected\"] > 0), \"frame\"], framelist_df.loc[(framelist_df[\"aoi\"] == aoi) & (framelist_df[\"detected\"] > 0), \"detected\"])\n",
    "plt.scatter(smd[\"trace\"][aoi].index, smd[\"trace\"][aoi][\"z0\"]+0.2)\n",
    "plt.scatter(smd[\"trace\"][aoi].index, smd[\"trace\"][aoi][\"z1\"]+0.2)\n",
    "plt.scatter(smd[\"trace\"][aoi].index, smd[\"trace\"][aoi][\"z2\"]+0.2)\n",
    "plt.scatter(smd[\"trace\"][aoi].index, smd[\"trace\"][aoi][\"intensity\"]/10000-2.5)\n",
    "plt.show()"
   ]
  },
  {
   "cell_type": "code",
   "execution_count": null,
   "metadata": {},
   "outputs": [],
   "source": [
    "@interact\n",
    "def view_trace(aoi=aoi_list):\n",
    "    plt.figure(figsize=(15,4))\n",
    "    plt.subplot(1,2,1)\n",
    "    plt.plot(smd[\"trace\"][aoi].index, smd[\"trace\"][aoi][\"intensity\"])\n",
    "    #plt.plot(pyro.param(\"z_probs\")[:,1].detach().numpy())\n",
    "    plt.xlabel(\"frame #\")\n",
    "    plt.ylabel(\"integrated intensity\")\n",
    "    \n",
    "    plt.subplot(1,2,2)\n",
    "    plt.hist(smd[\"data\"][aoi].reshape(-1).cpu(), bins=100)\n",
    "    plt.xlabel(\"pixel intensity\")\n",
    "    plt.ylabel(\"counts\")\n",
    "    \n",
    "    plt.tight_layout()\n",
    "    plt.show()"
   ]
  },
  {
   "cell_type": "code",
   "execution_count": null,
   "metadata": {},
   "outputs": [],
   "source": []
  },
  {
   "cell_type": "code",
   "execution_count": 129,
   "metadata": {
    "ExecuteTime": {
     "end_time": "2019-06-28T18:39:29.621874Z",
     "start_time": "2019-06-28T18:39:29.543027Z"
    }
   },
   "outputs": [
    {
     "data": {
      "application/vnd.jupyter.widget-view+json": {
       "model_id": "648ec73110b242c1abcd488b23c12309",
       "version_major": 2,
       "version_minor": 0
      },
      "text/plain": [
       "QgridWidget(grid_options={'fullWidthRows': True, 'syncColumnCellResize': True, 'forceFitColumns': True, 'defau…"
      ]
     },
     "metadata": {},
     "output_type": "display_data"
    }
   ],
   "source": [
    "framelist_df.loc[(framelist_df[\"aoi\"] == aoi) & (framelist_df[\"detected\"] > 0)]"
   ]
  },
  {
   "cell_type": "code",
   "execution_count": 209,
   "metadata": {
    "ExecuteTime": {
     "end_time": "2019-06-28T20:23:20.414660Z",
     "start_time": "2019-06-28T20:23:20.353199Z"
    }
   },
   "outputs": [
    {
     "data": {
      "application/vnd.jupyter.widget-view+json": {
       "model_id": "626e302bb01b45cc8e0ef983c84589ca",
       "version_major": 2,
       "version_minor": 0
      },
      "text/plain": [
       "QgridWidget(grid_options={'fullWidthRows': True, 'syncColumnCellResize': True, 'forceFitColumns': True, 'defau…"
      ]
     },
     "metadata": {},
     "output_type": "display_data"
    }
   ],
   "source": [
    "smd[\"trace\"][aoi]"
   ]
  },
  {
   "cell_type": "code",
   "execution_count": 134,
   "metadata": {
    "ExecuteTime": {
     "end_time": "2019-06-28T18:43:51.285892Z",
     "start_time": "2019-06-28T18:43:51.253487Z"
    }
   },
   "outputs": [],
   "source": [
    "z_p = pyro.param(\"z_probs\")"
   ]
  },
  {
   "cell_type": "code",
   "execution_count": 135,
   "metadata": {
    "ExecuteTime": {
     "end_time": "2019-06-28T18:43:55.834123Z",
     "start_time": "2019-06-28T18:43:55.215418Z"
    }
   },
   "outputs": [
    {
     "name": "stderr",
     "output_type": "stream",
     "text": [
      "WARNING:matplotlib.legend:No handles with labels found to put in legend.\n"
     ]
    },
    {
     "data": {
      "image/png": "[encoded data removed]",
      "text/plain": [
       "<Figure size 1080x576 with 4 Axes>"
      ]
     },
     "metadata": {
      "needs_background": "light"
     },
     "output_type": "display_data"
    }
   ],
   "source": [
    "plt.figure(figsize=(15,8))\n",
    "\n",
    "X = torch.arange(pyro.param(\"height_loc\").item()-pyro.param(\"height_scale\").item()*10, pyro.param(\"height_loc\").item()+pyro.param(\"height_scale\").item()*10,0.1)\n",
    "#X = torch.arange(190,240,0.1)\n",
    "prior = dist.HalfNormal(500.)\n",
    "posterior = dist.Normal(pyro.param(\"height_loc\"), pyro.param(\"height_scale\"))\n",
    "Y_prior = torch.exp(prior.log_prob(X))\n",
    "Y_posterior = torch.exp(posterior.log_prob(X))\n",
    "\n",
    "plt.subplot(2,3,1)\n",
    "plt.plot(X.cpu().numpy(), Y_prior.data.cpu().numpy(), label=\"prior\")\n",
    "plt.plot(X.cpu().numpy(), Y_posterior.data.cpu().numpy(), label=\"posterior\")\n",
    "#plt.plot([h_true, h_true], [0., Y_posterior.max().item()], 'k--', label=\"true\")\n",
    "plt.title(\"Height\")\n",
    "plt.ylabel(\"probability density\")\n",
    "plt.xlabel(\"height\")\n",
    "plt.ylim(0,)\n",
    "plt.legend()\n",
    "\n",
    "\n",
    "X = torch.arange(0.5,2.,0.01)\n",
    "prior = dist.Gamma(1., 0.1)\n",
    "#posterior = dist.Gamma(pyro.param(\"width_alpha\"), pyro.param(\"width_beta\"))\n",
    "Y_prior = torch.exp(prior.log_prob(X))\n",
    "Y_posterior = torch.exp(posterior.log_prob(X))\n",
    "\n",
    "plt.subplot(2,3,2)\n",
    "plt.title(\"Width/Precision\")\n",
    "plt.ylabel(\"probability density\")\n",
    "plt.xlabel(\"height\")\n",
    "plt.legend()\n",
    "\n",
    "\n",
    "X = torch.arange(pyro.param(\"background_loc\").item()-pyro.param(\"background_scale\").item()*10, pyro.param(\"background_loc\").item()+pyro.param(\"background_scale\").item()*10,0.01)\n",
    "prior = dist.HalfNormal(1000.)\n",
    "posterior = dist.Normal(pyro.param(\"background_loc\"), pyro.param(\"background_scale\"))\n",
    "Y_prior = torch.exp(prior.log_prob(X))\n",
    "Y_posterior = torch.exp(posterior.log_prob(X))\n",
    "\n",
    "plt.subplot(2,3,3)\n",
    "plt.plot(X.cpu().numpy(), Y_prior.data.cpu().numpy(), label=\"prior\")\n",
    "plt.plot(X.cpu().numpy(), Y_posterior.data.cpu().numpy(), label=\"posterior\")\n",
    "#plt.plot([b_true, b_true], [0., Y_posterior.max().item()], 'k--', label=\"true\")\n",
    "plt.title(\"Background\")\n",
    "plt.ylabel(\"probability density\")\n",
    "plt.xlabel(\"background\")\n",
    "plt.legend()\n",
    "\n",
    "X = torch.stack((torch.arange(0,1,0.001), torch.arange(1,0,-0.001)), dim=1)\n",
    "prior = dist.Dirichlet(0.5 * torch.ones(2))\n",
    "posterior = dist.Dirichlet(pyro.param(\"weights_conc\"))\n",
    "Y_prior = torch.exp(prior.log_prob(X))\n",
    "Y_posterior = torch.exp(posterior.log_prob(X))\n",
    "\n",
    "plt.subplot(2,3,4)\n",
    "plt.plot(X.cpu().numpy(), Y_prior.data.cpu().numpy(), label=\"prior\")\n",
    "plt.plot(X.cpu().numpy(), Y_posterior.data.cpu().numpy(), label=\"posterior\")\n",
    "#plt.plot([pi_true[0], pi_true[0]], [0., Y_posterior.max().item()], 'k--')\n",
    "#plt.plot([pi_true[1], pi_true[1]], [0., Y_posterior.max().item()], 'k--')\n",
    "plt.title(\"Weights\")\n",
    "plt.ylabel(\"probability density\")\n",
    "plt.xlabel(\"weights\")\n",
    "plt.legend()\n",
    "\n",
    "\n",
    "\n",
    "\n",
    "plt.tight_layout()\n",
    "plt.show()"
   ]
  },
  {
   "cell_type": "code",
   "execution_count": 224,
   "metadata": {
    "ExecuteTime": {
     "end_time": "2019-06-28T20:39:14.179600Z",
     "start_time": "2019-06-28T20:39:13.914067Z"
    }
   },
   "outputs": [
    {
     "data": {
      "application/vnd.jupyter.widget-view+json": {
       "model_id": "1db6cd33a84d43ed82c3bb55512f0057",
       "version_major": 2,
       "version_minor": 0
      },
      "text/plain": [
       "interactive(children=(Dropdown(description='p1', options=(0, 1, 2, 3, 4, 5, 6, 7, 8, 9), value=0), Dropdown(de…"
      ]
     },
     "metadata": {},
     "output_type": "display_data"
    },
    {
     "data": {
      "image/png": "[encoded data removed]",
      "text/plain": [
       "<Figure size 864x288 with 1 Axes>"
      ]
     },
     "metadata": {
      "needs_background": "light"
     },
     "output_type": "display_data"
    }
   ],
   "source": [
    "from scipy.stats import poisson, gamma\n",
    "\n",
    "@interact\n",
    "def view_noise(p1=np.arange(10), p2=np.arange(10)):\n",
    "\n",
    "    plt.figure(figsize=(12,4))\n",
    "    plt.subplot(1,3,1)\n",
    "    plt.hist(gmm.data[z_p[:,0]>0.5].reshape(-1), bins=50, alpha=0.3, density=True, range=(50,550))\n",
    "    plt.hist(gmm.sample(0).reshape(-1).detach(), bins=50, alpha=0.3, density=True, range=(50,550))\n",
    "    plt.title(\"no spot\")\n",
    "    plt.ylabel(\"density\")\n",
    "    plt.xlabel(\"intensity\")\n",
    "\n",
    "\n",
    "    plt.subplot(1,3,2)\n",
    "    plt.hist(gmm.data[z_p[:,1]>0.5].reshape(-1), bins=50, alpha=0.3, density=True, range=(50,550))\n",
    "    plt.hist(gmm.sample(1).reshape(-1).detach(), bins=50, alpha=0.3, density=True, range=(50,550))\n",
    "    plt.title(\"spot\")\n",
    "    plt.ylabel(\"density\")\n",
    "    plt.xlabel(\"intensity\")\n",
    "    #plt.legend()\n",
    "\n",
    "    plt.subplot(1,3,3)\n",
    "    plt.hist(gmm.data[z_p[:,1]>0.5,p1,p2].reshape(-1), bins=50, alpha=0.3, density=True, range=(50,550))\n",
    "    plt.hist(gmm.sample(1)[:,p1,p2].reshape(-1).detach(), bins=50, alpha=0.3, density=True, range=(50,550))\n",
    "    plt.title(\"{}_{}\".format(p1, p2))\n",
    "    plt.ylabel(\"density\")\n",
    "    plt.xlabel(\"intensity\")\n",
    "\n",
    "    plt.tight_layout()\n",
    "    plt.show()"
   ]
  },
  {
   "cell_type": "code",
   "execution_count": 140,
   "metadata": {
    "ExecuteTime": {
     "end_time": "2019-06-28T18:45:32.605434Z",
     "start_time": "2019-06-28T18:45:28.610571Z"
    }
   },
   "outputs": [
    {
     "data": {
      "text/plain": [
       "(torch.Size([158, 100]), torch.Size([89200, 100]))"
      ]
     },
     "execution_count": 140,
     "metadata": {},
     "output_type": "execute_result"
    }
   ],
   "source": [
    "spot_data = gmm.data[z_p[:,1]>0.5].reshape(-1,100)\n",
    "\n",
    "sample_data = torch.zeros(100*len(gmm.data),gmm.D,gmm.D)\n",
    "for i in range(100):\n",
    "    sample_data[i*len(gmm.data):(i+1)*len(gmm.data),:,:] = gmm.sample(1)\n",
    "sample_data = sample_data.reshape(-1,100).detach()\n",
    "\n",
    "spot_data.shape, sample_data.shape"
   ]
  },
  {
   "cell_type": "code",
   "execution_count": 141,
   "metadata": {
    "ExecuteTime": {
     "end_time": "2019-06-28T18:46:01.840210Z",
     "start_time": "2019-06-28T18:45:33.961810Z"
    }
   },
   "outputs": [
    {
     "data": {
      "image/png": "[encoded data removed]",
      "text/plain": [
       "<Figure size 1080x1080 with 100 Axes>"
      ]
     },
     "metadata": {
      "needs_background": "light"
     },
     "output_type": "display_data"
    }
   ],
   "source": [
    "plt.figure(figsize=(15,15))\n",
    "for i in range(gmm.D**2):\n",
    "    plt.subplot(gmm.D,gmm.D,i+1)\n",
    "    plt.hist(spot_data[:,i], bins=50, alpha=0.3, density=True, range=(50,550))\n",
    "    plt.hist(sample_data[:,i], bins=50, alpha=0.3, density=True, range=(50,550))\n",
    "    frame1 = plt.gca()\n",
    "    frame1.axes.xaxis.set_ticklabels([])\n",
    "    frame1.axes.yaxis.set_ticklabels([])\n",
    "\n",
    "plt.tight_layout()\n",
    "plt.show()"
   ]
  },
  {
   "cell_type": "code",
   "execution_count": 166,
   "metadata": {
    "ExecuteTime": {
     "end_time": "2019-06-28T19:29:18.993864Z",
     "start_time": "2019-06-28T19:29:18.967864Z"
    }
   },
   "outputs": [
    {
     "data": {
      "text/plain": [
       "Int64Index([2230, 2231, 2232, 2233, 2234, 2235, 2236, 2237, 2238, 2239, 2240], dtype='int64', name='frame')"
      ]
     },
     "execution_count": 166,
     "metadata": {},
     "output_type": "execute_result"
    }
   ],
   "source": [
    "smd[\"trace\"][aoi].loc[2230:2240].index"
   ]
  },
  {
   "cell_type": "code",
   "execution_count": 163,
   "metadata": {
    "ExecuteTime": {
     "end_time": "2019-06-28T19:27:43.950478Z",
     "start_time": "2019-06-28T19:27:43.891473Z"
    }
   },
   "outputs": [
    {
     "data": {
      "application/vnd.jupyter.widget-view+json": {
       "model_id": "d07678fb8e1445bfbbb11e7c51cdb716",
       "version_major": 2,
       "version_minor": 0
      },
      "text/plain": [
       "QgridWidget(grid_options={'fullWidthRows': True, 'syncColumnCellResize': True, 'forceFitColumns': True, 'defau…"
      ]
     },
     "metadata": {},
     "output_type": "display_data"
    }
   ],
   "source": [
    "smd[\"trace\"][aoi]"
   ]
  },
  {
   "cell_type": "code",
   "execution_count": 190,
   "metadata": {
    "ExecuteTime": {
     "end_time": "2019-06-28T19:51:21.327292Z",
     "start_time": "2019-06-28T19:51:21.294387Z"
    }
   },
   "outputs": [
    {
     "data": {
      "text/plain": [
       "True"
      ]
     },
     "execution_count": 190,
     "metadata": {},
     "output_type": "execute_result"
    }
   ],
   "source": [
    "(framelist_df.loc[(framelist_df[\"aoi\"] == 47) & (framelist_df[\"frame\"] == 2707), \"detected\"] == 1).bool()"
   ]
  },
  {
   "cell_type": "code",
   "execution_count": 259,
   "metadata": {
    "ExecuteTime": {
     "end_time": "2019-06-28T21:06:46.631024Z",
     "start_time": "2019-06-28T21:06:45.185467Z"
    },
    "scrolled": false
   },
   "outputs": [
    {
     "data": {
      "application/vnd.jupyter.widget-view+json": {
       "model_id": "7d07844d531a44ed99db6b64d0e18f8d",
       "version_major": 2,
       "version_minor": 0
      },
      "text/plain": [
       "interactive(children=(IntSlider(value=47, description='aoi', max=141, min=-47), Dropdown(description='frame', …"
      ]
     },
     "metadata": {},
     "output_type": "display_data"
    },
    {
     "data": {
      "image/png": "[encoded data removed]",
      "text/plain": [
       "<Figure size 1080x432 with 10 Axes>"
      ]
     },
     "metadata": {
      "needs_background": "light"
     },
     "output_type": "display_data"
    },
    {
     "data": {
      "image/png": "[encoded data removed]",
      "text/plain": [
       "<Figure size 1080x432 with 10 Axes>"
      ]
     },
     "metadata": {
      "needs_background": "light"
     },
     "output_type": "display_data"
    },
    {
     "data": {
      "image/png": "[encoded data removed]",
      "text/plain": [
       "<Figure size 1080x432 with 10 Axes>"
      ]
     },
     "metadata": {
      "needs_background": "light"
     },
     "output_type": "display_data"
    },
    {
     "data": {
      "image/png": "[encoded data removed]",
      "text/plain": [
       "<Figure size 1080x432 with 10 Axes>"
      ]
     },
     "metadata": {
      "needs_background": "light"
     },
     "output_type": "display_data"
    }
   ],
   "source": [
    "import matplotlib.patches as patches\n",
    "from copy import copy\n",
    "\n",
    "rect = patches.Rectangle((0,0),9,9,linewidth=3,edgecolor='r',facecolor='none')\n",
    "rect2 = patches.Rectangle((0.5,0.5),8,8,linewidth=3,edgecolor='b',facecolor='none')\n",
    "\n",
    "# 11 2252\n",
    "# 17 2070 22 1181\n",
    "@interact\n",
    "def view_aoi(aoi=aoi, frame=smd[\"trace\"][aoi].index):\n",
    "    frames = smd[\"trace\"][aoi].loc[frame:].index\n",
    "    #frame = 345\n",
    "    fig = plt.figure(figsize=(15,6))\n",
    "    for i in range(10):\n",
    "        #print(i)\n",
    "        ax = fig.add_subplot(2,5,i+1)\n",
    "        plt.title(\"f {:d}\".format(frames[i]))\n",
    "        vmin = np.percentile(smd[\"data\"][aoi].cpu(), 5)\n",
    "        vmax = np.percentile(smd[\"data\"][aoi].cpu(), 99)\n",
    "        plt.imshow(smd[\"data\"][aoi][smd[\"trace\"][aoi].index.get_loc(frames[i])].cpu(), cmap='gray', vmin=vmin, vmax=vmax)\n",
    "        #plt.scatter(smd[\"trace\"][aoi].at[frames[i], \"x\"], smd[\"trace\"][aoi].at[frames[i], \"y\"], marker=\"x\", s=100, c=\"r\")\n",
    "        if smd[\"trace\"][aoi].at[frames[i],\"z1\"] > 0.5:\n",
    "            new_rect = copy(rect)\n",
    "            ax.add_patch(new_rect)\n",
    "        if smd[\"trace\"][aoi].at[frames[i],\"z2\"] > 0.5:\n",
    "            new_rect = copy(rect2)\n",
    "            ax.add_patch(new_rect)\n",
    "        #if (framelist_df.loc[(framelist_df[\"aoi\"] == aoi) & (framelist_df[\"frame\"] == frames[i]), \"detected\"] == 1).bool():\n",
    "        #    new_rect = copy(rect2)\n",
    "        #    ax.add_patch(new_rect)\n",
    "    plt.tight_layout()\n",
    "    plt.show()"
   ]
  },
  {
   "cell_type": "code",
   "execution_count": 268,
   "metadata": {
    "ExecuteTime": {
     "end_time": "2019-06-28T21:14:20.583450Z",
     "start_time": "2019-06-28T21:14:20.085127Z"
    }
   },
   "outputs": [],
   "source": [
    "import numpy as np\n",
    "import matplotlib.pyplot as plt\n",
    "from mpl_toolkits.mplot3d import Axes3D\n",
    "%matplotlib tk\n",
    "\n",
    "def surface_plot (matrix, ax, **kwargs):\n",
    "    # acquire the cartesian coordinate matrices from the matrix\n",
    "    # x is cols, y is rows\n",
    "    (x, y) = np.meshgrid(np.arange(matrix.shape[0]), np.arange(matrix.shape[1]))\n",
    "    \n",
    "    \n",
    "    surf = ax.plot_surface(x, y, matrix, **kwargs)\n",
    "    return surf\n",
    "\n",
    "def wireframe_plot (matrix, ax, **kwargs):\n",
    "    # acquire the cartesian coordinate matrices from the matrix\n",
    "    # x is cols, y is rows\n",
    "    (x, y) = np.meshgrid(np.arange(matrix.shape[0]), np.arange(matrix.shape[1]))\n",
    "    \n",
    "    \n",
    "    surf = ax.plot_wireframe(x, y, matrix, **kwargs)\n",
    "    return surf\n",
    "\n",
    "def scatter_plot (matrix, ax, **kwargs):\n",
    "    # acquire the cartesian coordinate matrices from the matrix\n",
    "    # x is cols, y is rows\n",
    "    (x, y) = np.meshgrid(np.arange(matrix.shape[0]), np.arange(matrix.shape[1]))\n",
    "    \n",
    "    \n",
    "    surf = ax.scatter(x, y, matrix, **kwargs)\n",
    "    return surf\n",
    "\n",
    "\n",
    "fig = plt.figure(figsize=(15,11))\n",
    "ax = fig.add_subplot(221, projection='3d')\n",
    "surf = surface_plot(smd[\"data\"][aoi][smd[\"trace\"][aoi].index.get_loc(2500)].numpy(), ax, cmap=plt.cm.coolwarm)\n",
    "#surf = scatter_plot(smd[\"data\"][0,97].cpu().numpy(), ax, cmap=plt.cm.coolwarm)\n",
    "#fig.colorbar(surf)\n",
    "#frame1 = plt.gca()\n",
    "ax.axes.xaxis.set_ticklabels([])\n",
    "ax.axes.yaxis.set_ticklabels([])\n",
    "ax.axes.zaxis.set_ticklabels([])\n",
    "ax.set_zlim(0,500)\n",
    "#ax.set_xlabel('X (cols)')\n",
    "#ax.set_ylabel('Y (rows)')\n",
    "#ax.set_zlabel('Z (values)')\n",
    "\n",
    "ax = fig.add_subplot(222, projection='3d')\n",
    "surf = surface_plot(smd[\"data\"][aoi][smd[\"trace\"][aoi].index.get_loc(2715)].numpy(), ax, cmap=plt.cm.coolwarm)\n",
    "\n",
    "ax.axes.xaxis.set_ticklabels([])\n",
    "ax.axes.yaxis.set_ticklabels([])\n",
    "ax.axes.zaxis.set_ticklabels([])\n",
    "ax.set_zlim(0,500)\n",
    "\n",
    "plt.pause(0.1)"
   ]
  },
  {
   "cell_type": "code",
   "execution_count": 239,
   "metadata": {
    "ExecuteTime": {
     "end_time": "2019-06-28T20:51:26.442709Z",
     "start_time": "2019-06-28T20:51:26.410005Z"
    }
   },
   "outputs": [
    {
     "data": {
      "text/plain": [
       "tensor([[294., 297., 274., 396., 274., 331., 315., 350., 402., 274.],\n",
       "        [353., 327., 324., 363., 366., 261., 319., 251., 341., 280.],\n",
       "        [326., 350., 292., 272., 319., 246., 364., 279., 284., 307.],\n",
       "        [219., 337., 291., 283., 283., 300., 296., 321., 326., 287.],\n",
       "        [281., 290., 276., 327., 287., 290., 354., 300., 238., 284.],\n",
       "        [256., 316., 315., 349., 333., 301., 327., 312., 311., 313.],\n",
       "        [310., 274., 343., 291., 342., 276., 363., 358., 354., 336.],\n",
       "        [269., 284., 322., 352., 262., 263., 329., 319., 321., 362.],\n",
       "        [300., 335., 284., 264., 287., 323., 296., 227., 258., 344.],\n",
       "        [283., 303., 307., 324., 377., 314., 382., 297., 361., 292.]])"
      ]
     },
     "execution_count": 239,
     "metadata": {},
     "output_type": "execute_result"
    }
   ],
   "source": [
    "smd[\"data\"][aoi][smd[\"trace\"][aoi].index.get_loc(2898)]"
   ]
  },
  {
   "cell_type": "code",
   "execution_count": 240,
   "metadata": {
    "ExecuteTime": {
     "end_time": "2019-06-28T20:51:30.392956Z",
     "start_time": "2019-06-28T20:51:30.375834Z"
    }
   },
   "outputs": [
    {
     "data": {
      "text/plain": [
       "tensor([[304., 335., 335., 347., 307., 317., 319., 294., 302., 288.],\n",
       "        [381., 301., 335., 312., 321., 299., 313., 304., 319., 266.],\n",
       "        [308., 276., 293., 352., 303., 290., 275., 330., 392., 288.],\n",
       "        [342., 320., 388., 302., 247., 307., 313., 331., 357., 409.],\n",
       "        [322., 339., 378., 249., 280., 313., 297., 291., 263., 391.],\n",
       "        [281., 321., 310., 334., 321., 275., 305., 370., 280., 328.],\n",
       "        [345., 321., 346., 308., 309., 265., 295., 339., 317., 351.],\n",
       "        [309., 327., 278., 288., 220., 327., 351., 267., 338., 307.],\n",
       "        [377., 289., 342., 240., 322., 287., 345., 258., 310., 354.],\n",
       "        [367., 271., 297., 316., 264., 276., 294., 225., 374., 283.]])"
      ]
     },
     "execution_count": 240,
     "metadata": {},
     "output_type": "execute_result"
    }
   ],
   "source": [
    "smd[\"data\"][aoi][smd[\"trace\"][aoi].index.get_loc(2903)]"
   ]
  },
  {
   "cell_type": "code",
   "execution_count": 232,
   "metadata": {
    "ExecuteTime": {
     "end_time": "2019-06-28T20:49:05.979994Z",
     "start_time": "2019-06-28T20:49:05.548689Z"
    }
   },
   "outputs": [
    {
     "data": {
      "image/png": "[encoded data removed]",
      "text/plain": [
       "<Figure size 432x288 with 1 Axes>"
      ]
     },
     "metadata": {
      "needs_background": "light"
     },
     "output_type": "display_data"
    }
   ],
   "source": [
    "plt.hist(smd[\"data\"][aoi][smd[\"trace\"][aoi].index.get_loc(2898)], alpha=0.3)\n",
    "plt.hist(smd[\"data\"][aoi][smd[\"trace\"][aoi].index.get_loc(2903)], bins=10, alpha=0.3)\n",
    "plt.show()"
   ]
  },
  {
   "cell_type": "code",
   "execution_count": 362,
   "metadata": {},
   "outputs": [
    {
     "data": {
      "image/png": "[encoded data removed]",
      "text/plain": [
       "<Figure size 432x288 with 1 Axes>"
      ]
     },
     "metadata": {
      "needs_background": "light"
     },
     "output_type": "display_data"
    }
   ],
   "source": [
    "plt.scatter(data[z_p[:,1] > 0.5].mean(dim=0).reshape(-1).numpy(), data[z_p[:,1] > 0.5].var(dim=0).reshape(-1).numpy())\n",
    "plt.scatter(data[z_p[:,0] > 0.5].mean().reshape(-1).numpy(), data[z_p[:,0] > 0.5].var().reshape(-1).numpy())\n",
    "#plt.scatter(pyro.param(\"background_loc\").detach(),)\n",
    "plt.xlim(4,100)\n",
    "plt.ylim(500,2000)\n",
    "plt.show()"
   ]
  },
  {
   "cell_type": "code",
   "execution_count": null,
   "metadata": {},
   "outputs": [],
   "source": []
  }
 ],
 "metadata": {
  "kernelspec": {
   "display_name": "Python 3",
   "language": "python",
   "name": "python3"
  },
  "language_info": {
   "codemirror_mode": {
    "name": "ipython",
    "version": 3
   },
   "file_extension": ".py",
   "mimetype": "text/x-python",
   "name": "python",
   "nbconvert_exporter": "python",
   "pygments_lexer": "ipython3",
   "version": "3.7.3"
  },
  "toc": {
   "base_numbering": 1,
   "nav_menu": {
    "height": "18px",
    "width": "480px"
   },
   "number_sections": true,
   "sideBar": true,
   "skip_h1_title": false,
   "title_cell": "Table of Contents",
   "title_sidebar": "Contents",
   "toc_cell": false,
   "toc_position": {},
   "toc_section_display": true,
   "toc_window_display": true
  }
 },
 "nbformat": 4,
 "nbformat_minor": 2
}
