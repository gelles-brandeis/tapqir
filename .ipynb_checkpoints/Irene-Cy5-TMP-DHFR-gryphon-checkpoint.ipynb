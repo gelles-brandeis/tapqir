{
 "cells": [
  {
   "cell_type": "markdown",
   "metadata": {},
   "source": [
    "# Introduction"
   ]
  },
  {
   "cell_type": "markdown",
   "metadata": {
    "heading_collapsed": true
   },
   "source": [
    "## Mathematical model\n",
    "Product rule\n",
    "$$ p(X,Z,\\theta) = p(X|Z,\\theta)p(Z|\\theta)p(\\theta) = p(Z|\\theta,X)p(\\theta|X)p(X) $$\n",
    "\n",
    "Bayes rule\n",
    "$$ p(Z|\\theta,X)p(\\theta|X) = \\dfrac{p(X|Z,\\theta)p(Z|\\theta)p(\\theta)}{p(X)} $$\n",
    "\n",
    "$$ p(Z|\\pi,X)p(\\mu|X)p(\\eta|X)p(\\pi|X) = \\dfrac{p(X|Z,\\mu,\\eta)p(Z|\\pi)p(\\mu)p(\\eta)p(\\pi)}{p(X)} $$\n",
    "\n",
    "Likelihood\n",
    "$$ p(X|Z,\\mu,\\eta) = \\prod_f p(X_f|Z_f,\\mu,\\eta) = \\prod_f \\prod_{ij} p(X_{fij}|Z_f,\\mu,\\eta) = \\prod_f \\prod_{ij} Noise(X_{fij}|Z_f,\\mu,\\eta) $$\n",
    "\n",
    "where $\\mu$ is a spot model\n",
    "$$ \\mu(height_k,width_k,x_k,y_k,background) $$\n",
    "\n",
    "Prior\n",
    "$$ p(Z|\\theta) = \\prod_f p(Z_f|\\theta) = \\prod_f Categorical(Z_f|\\pi) = \\prod_f \\prod_k \\pi_k^{Z_{fk}} $$\n",
    "\n",
    "Posterior\n",
    "$$ p(\\theta|X) $$\n",
    "\n",
    "$$ p(Z|X,\\theta) = \\prod_f p(Z_f|X_f,\\theta) $$\n",
    "\n",
    "where\n",
    "$$ \\theta = \\mu \\cup \\eta \\cup \\pi $$"
   ]
  },
  {
   "cell_type": "markdown",
   "metadata": {
    "hidden": true
   },
   "source": [
    "$$ p(x,z,\\mu,\\sigma, \\pi) = p(x|z,\\mu,\\sigma)p(z|\\pi)p(\\mu)p(\\sigma)p(\\pi) $$\n",
    "\n",
    "$$ \\prod_n \\prod_f p(x_{nf}|z_{nf},\\mu_{nf},\\sigma)p(z_{nf}|\\pi)p(\\mu_{nf})p(\\sigma)p(\\pi) $$\n",
    "\n",
    "$$ p(x|z,\\mu,\\sigma) = \\prod_n \\prod_f p(x_{nf}|\\mu_{nf}[z_f],\\sigma) $$\n",
    "\n",
    "$$ p(z|\\pi) = \\prod_n \\prod_f \\pi[z_{nf}] $$"
   ]
  },
  {
   "cell_type": "markdown",
   "metadata": {
    "hidden": true
   },
   "source": [
    "### Spot model\n",
    "$$ \\mu_{fij}(Z_f,height_k,width_k,x_k,y_k,background) $$\n",
    "\n",
    "$$ p(\\mu|X) \\simeq q(background) \\prod_k q(height_k) q(width_k) q(x_k) q(y_k) $$\n",
    "\n",
    "$$ q(height_k) = Normal(height\\_loc_k, height\\_scale_k) $$\n",
    "\n",
    "$$ q(background) = Normal(background\\_loc, background\\_scale) $$\n",
    "\n",
    "$$ q(width_k) = Delta(w_k) $$\n",
    "\n",
    "$$ q(x_k) = Delta(x_k) $$\n",
    "\n",
    "$$ q(y_k) = Delta(y_k) $$"
   ]
  },
  {
   "cell_type": "markdown",
   "metadata": {
    "hidden": true
   },
   "source": [
    "### Noise model (Likelihood)\n",
    "\n",
    "$$ p(X_{fij}|Z_f,\\mu,\\eta) = Gamma(X_{fij}-offset|\\alpha_{fij}, \\beta_{fij})Delta(offset) $$\n",
    "where\n",
    "$$ \\alpha_{fij} = \\dfrac{\\mu_{fij}(Z_f,\\theta)}{gain}; \\beta_{fij} = \\dfrac{1}{gain} $$\n",
    "\n",
    "$$ \\eta = \\{gain, offset\\} $$\n",
    "\n",
    "$$ p(\\eta|X) \\simeq q(gain) q(offset) = Delta(g)Delta(o) $$"
   ]
  },
  {
   "cell_type": "markdown",
   "metadata": {
    "hidden": true
   },
   "source": [
    "### Classification\n",
    "\n",
    "$$ p(\\pi|X) = q(\\pi) =  Dirichlet(\\rho_1,...,\\rho_K) $$\n",
    "\n",
    "\n",
    "$$ p(Z_f|X_f,\\pi) = q(Z_f) = Categorical(Z_f|z\\_prob_f) = \\prod_k z\\_prob_{fk}^{Z_{fk}} $$"
   ]
  },
  {
   "cell_type": "markdown",
   "metadata": {},
   "source": [
    "## Imports"
   ]
  },
  {
   "cell_type": "code",
   "execution_count": 1,
   "metadata": {
    "ExecuteTime": {
     "end_time": "2019-08-15T21:30:34.165784Z",
     "start_time": "2019-08-15T21:30:33.266523Z"
    }
   },
   "outputs": [],
   "source": [
    "import inspect\n",
    "import math\n",
    "import os\n",
    "import time\n",
    "\n",
    "import ipywidgets as widgets\n",
    "import matplotlib.pyplot as plt\n",
    "import numpy as np\n",
    "import pandas as pd\n",
    "import pyro\n",
    "import pyro.distributions as dist\n",
    "# gui\n",
    "import qgrid\n",
    "import seaborn as sns\n",
    "# pyro & pytorch\n",
    "import torch\n",
    "import torch.distributions.constraints as constraints\n",
    "from ipywidgets import fixed, interact\n",
    "from pyro import poutine\n",
    "from pyro.infer import SVI, Trace_ELBO, TraceEnum_ELBO, config_enumerate\n",
    "from pyro.optim import Adam\n",
    "# loading & saving data\n",
    "from scipy.io import loadmat\n",
    "from sklearn.metrics import matthews_corrcoef\n",
    "from torch.utils.data import DataLoader\n",
    "from torch.utils.tensorboard import SummaryWriter\n",
    "from tqdm import tqdm\n",
    "\n",
    "%matplotlib inline\n",
    "qgrid.enable()\n",
    "pyro.enable_validation(True)\n",
    "\n",
    "%load_ext autoreload\n",
    "%autoreload 2"
   ]
  },
  {
   "cell_type": "code",
   "execution_count": 2,
   "metadata": {},
   "outputs": [
    {
     "data": {
      "text/plain": [
       "True"
      ]
     },
     "execution_count": 2,
     "metadata": {},
     "output_type": "execute_result"
    }
   ],
   "source": [
    "device = torch.device(\"cuda:0\")\n",
    "torch.set_default_tensor_type('torch.cuda.FloatTensor')\n",
    "torch.cuda.is_available()"
   ]
  },
  {
   "cell_type": "code",
   "execution_count": 3,
   "metadata": {
    "ExecuteTime": {
     "end_time": "2019-08-15T21:30:35.906519Z",
     "start_time": "2019-08-15T21:30:34.188231Z"
    }
   },
   "outputs": [],
   "source": [
    "from utils import (view_aoi,\n",
    "                   view_aoi_class_average, view_aoi_class_summary,\n",
    "                   view_aoi_summary, view_glimpse, write_summary, view_feature_summary)"
   ]
  },
  {
   "cell_type": "code",
   "execution_count": 4,
   "metadata": {},
   "outputs": [],
   "source": [
    "from feature_read import ReadFeatures\n",
    "from aoi_reader import ReadAoi"
   ]
  },
  {
   "cell_type": "code",
   "execution_count": 5,
   "metadata": {},
   "outputs": [
    {
     "name": "stdout",
     "output_type": "stream",
     "text": [
      "reading Irenecy5Gryphon ...\n",
      "Data was read from data.pt, target.csv, and drift.csv files\n",
      "Features were read from saved files.\n"
     ]
    }
   ],
   "source": [
    "data = ReadFeatures(\"Irenecy5Gryphon\")"
   ]
  },
  {
   "cell_type": "code",
   "execution_count": 6,
   "metadata": {},
   "outputs": [],
   "source": [
    "data.probs = torch.load(os.path.join(path, \"runs/Modelv1/Modelv1p1-16-256/K2\", \"probs.pt\"))\n",
    "data.predictions = data.probs.argmax(dim=2)"
   ]
  },
  {
   "cell_type": "markdown",
   "metadata": {},
   "source": [
    "# Visualize Data"
   ]
  },
  {
   "cell_type": "markdown",
   "metadata": {},
   "source": [
    "## View glimpse images"
   ]
  },
  {
   "cell_type": "code",
   "execution_count": 6,
   "metadata": {
    "ExecuteTime": {
     "end_time": "2019-08-15T20:51:08.622828Z",
     "start_time": "2019-08-15T20:51:07.637021Z"
    },
    "scrolled": false
   },
   "outputs": [
    {
     "ename": "ImportError",
     "evalue": "cannot import name 'aoi_df' from 'aoi_reader' (/home/ordabayev/BayesianImage/aoi_reader.py)",
     "output_type": "error",
     "traceback": [
      "\u001b[0;31m---------------------------------------------------------------------------\u001b[0m",
      "\u001b[0;31mImportError\u001b[0m                               Traceback (most recent call last)",
      "\u001b[0;32m<ipython-input-6-c20c98fa6b07>\u001b[0m in \u001b[0;36m<module>\u001b[0;34m\u001b[0m\n\u001b[0;32m----> 1\u001b[0;31m \u001b[0;32mfrom\u001b[0m \u001b[0maoi_reader\u001b[0m \u001b[0;32mimport\u001b[0m \u001b[0maoi_df\u001b[0m\u001b[0;34m,\u001b[0m \u001b[0mdrift_df\u001b[0m\u001b[0;34m,\u001b[0m \u001b[0mheader\u001b[0m\u001b[0;34m,\u001b[0m \u001b[0mpath_header\u001b[0m\u001b[0;34m\u001b[0m\u001b[0;34m\u001b[0m\u001b[0m\n\u001b[0m\u001b[1;32m      2\u001b[0m \u001b[0maoi_list\u001b[0m \u001b[0;34m=\u001b[0m \u001b[0maoi_df\u001b[0m\u001b[0;34m.\u001b[0m\u001b[0mindex\u001b[0m\u001b[0;34m\u001b[0m\u001b[0;34m\u001b[0m\u001b[0m\n\u001b[1;32m      3\u001b[0m \u001b[0mframe_list\u001b[0m \u001b[0;34m=\u001b[0m \u001b[0mdrift_df\u001b[0m\u001b[0;34m.\u001b[0m\u001b[0mindex\u001b[0m\u001b[0;34m\u001b[0m\u001b[0;34m\u001b[0m\u001b[0m\n\u001b[1;32m      4\u001b[0m \u001b[0;34m\u001b[0m\u001b[0m\n\u001b[1;32m      5\u001b[0m interact(view_glimpse, frame=frame_list, aoi=aoi_list,\n",
      "\u001b[0;31mImportError\u001b[0m: cannot import name 'aoi_df' from 'aoi_reader' (/home/ordabayev/BayesianImage/aoi_reader.py)"
     ]
    }
   ],
   "source": [
    "from aoi_reader import aoi_df, drift_df, header, path_header\n",
    "aoi_list = aoi_df.index\n",
    "frame_list = drift_df.index\n",
    "\n",
    "interact(view_glimpse, frame=frame_list, aoi=aoi_list,\n",
    "         aoi_df=fixed(aoi_df.loc[aoi_list]), drift_df=fixed(drift_df.loc[frame_list]), \n",
    "         header=fixed(header), path_glimpse=fixed(path_header),\n",
    "         selected_aoi=True, all_aois=True, label=False, offset=False)"
   ]
  },
  {
   "cell_type": "markdown",
   "metadata": {},
   "source": [
    "## View AoI"
   ]
  },
  {
   "cell_type": "code",
   "execution_count": 7,
   "metadata": {
    "ExecuteTime": {
     "end_time": "2019-08-15T20:51:10.114463Z",
     "start_time": "2019-08-15T20:51:09.501377Z"
    },
    "scrolled": false
   },
   "outputs": [
    {
     "data": {
      "application/vnd.jupyter.widget-view+json": {
       "model_id": "834fb80e4143423cb3952d3912963414",
       "version_major": 2,
       "version_minor": 0
      },
      "text/plain": [
       "interactive(children=(Dropdown(description='aoi', options=((1, 0), (2, 1), (3, 2), (4, 3), (5, 4), (6, 5), (7,…"
      ]
     },
     "metadata": {},
     "output_type": "display_data"
    },
    {
     "data": {
      "text/plain": [
       "<function utils.view_aoi_summary(aoi, data, show_class=False)>"
      ]
     },
     "execution_count": 7,
     "metadata": {},
     "output_type": "execute_result"
    }
   ],
   "source": [
    "aoi_widget = widgets.Dropdown(options=[(j,i) for i,j in enumerate(data.target.index)])\n",
    "\n",
    "interact(view_aoi_summary, aoi=aoi_widget, data=fixed(data))"
   ]
  },
  {
   "cell_type": "code",
   "execution_count": 8,
   "metadata": {
    "ExecuteTime": {
     "end_time": "2019-08-11T20:51:19.506527Z",
     "start_time": "2019-08-11T20:51:18.586748Z"
    }
   },
   "outputs": [
    {
     "data": {
      "application/vnd.jupyter.widget-view+json": {
       "model_id": "12b94d87e5234eadae7700fd2da26308",
       "version_major": 2,
       "version_minor": 0
      },
      "text/plain": [
       "interactive(children=(Dropdown(description='aoi', options=((1, 0), (2, 1), (3, 2), (4, 3), (5, 4), (6, 5), (7,…"
      ]
     },
     "metadata": {},
     "output_type": "display_data"
    },
    {
     "data": {
      "text/plain": [
       "<function utils.view_feature_summary(aoi, data, show_class=False)>"
      ]
     },
     "execution_count": 8,
     "metadata": {},
     "output_type": "execute_result"
    }
   ],
   "source": [
    "aoi_widget = widgets.Dropdown(options=[(j,i) for i,j in enumerate(data.target.index)])\n",
    "\n",
    "interact(view_feature_summary, aoi=aoi_widget, data=fixed(data), show_class=False)"
   ]
  },
  {
   "cell_type": "code",
   "execution_count": 9,
   "metadata": {
    "ExecuteTime": {
     "end_time": "2019-08-15T15:50:26.519565Z",
     "start_time": "2019-08-15T15:50:24.750206Z"
    }
   },
   "outputs": [
    {
     "data": {
      "application/vnd.jupyter.widget-view+json": {
       "model_id": "4195bc10e5bf42c6820e2f9b471c8b23",
       "version_major": 2,
       "version_minor": 0
      },
      "text/plain": [
       "interactive(children=(Dropdown(description='aoi', options=((1, 0), (2, 1), (3, 2), (4, 3), (5, 4), (6, 5), (7,…"
      ]
     },
     "metadata": {},
     "output_type": "display_data"
    },
    {
     "data": {
      "text/plain": [
       "<function utils.view_aoi(aoi, frame, data, show_class=False)>"
      ]
     },
     "execution_count": 9,
     "metadata": {},
     "output_type": "execute_result"
    }
   ],
   "source": [
    "frame_widget = widgets.Dropdown(options=[(j,i) for i,j in enumerate(data.drift.index)])\n",
    "\n",
    "aoi_widget = widgets.Dropdown(options=[(j,i) for i,j in enumerate(data.target.index)])\n",
    "\n",
    "interact(view_aoi, aoi=aoi_widget, frame=frame_widget, data=fixed(data), show_class=False)"
   ]
  },
  {
   "cell_type": "markdown",
   "metadata": {},
   "source": [
    "# Modelv1"
   ]
  },
  {
   "cell_type": "code",
   "execution_count": 5,
   "metadata": {},
   "outputs": [],
   "source": [
    "from classifier import select_model, run_model"
   ]
  },
  {
   "cell_type": "code",
   "execution_count": 6,
   "metadata": {},
   "outputs": [],
   "source": [
    "pyro.clear_param_store()\n",
    "\n",
    "svi, model, writer = select_model(\"Modelv1\", Modelv1)"
   ]
  },
  {
   "cell_type": "code",
   "execution_count": 7,
   "metadata": {},
   "outputs": [],
   "source": [
    "epoch_count = 0"
   ]
  },
  {
   "cell_type": "code",
   "execution_count": 8,
   "metadata": {},
   "outputs": [],
   "source": [
    "from Modelv1 import timings"
   ]
  },
  {
   "cell_type": "code",
   "execution_count": 11,
   "metadata": {},
   "outputs": [
    {
     "data": {
      "text/plain": [
       "defaultdict(float,\n",
       "            {_bound_partial(functools.partial(<function _context_wrap at 0x7f0b03180200>, <pyro.poutine.infer_config_messenger.InferConfigMessenger object at 0x7f0aaa3f0690>, <function Modelv1.locs_mixture_guide at 0x7f0aaa691950>)): 5.757862567901611,\n",
       "             <function Modelv1.Modelv1.gaussian_spot(self, batch_idx, frame_idx, height, width, x0, y0)>: 0.6714935302734375,\n",
       "             _bound_partial(functools.partial(<function _context_wrap at 0x7f0b03180200>, <pyro.poutine.infer_config_messenger.InferConfigMessenger object at 0x7f0aaa3f0610>, <function Modelv1.locs_mixture_model at 0x7f0aaa6915f0>)): 4.239910125732422})"
      ]
     },
     "execution_count": 11,
     "metadata": {},
     "output_type": "execute_result"
    }
   ],
   "source": [
    "timings"
   ]
  },
  {
   "cell_type": "code",
   "execution_count": 16,
   "metadata": {},
   "outputs": [
    {
     "data": {
      "text/plain": [
       "2.0"
      ]
     },
     "execution_count": 16,
     "metadata": {},
     "output_type": "execute_result"
    }
   ],
   "source": [
    "d[1]"
   ]
  },
  {
   "cell_type": "markdown",
   "metadata": {},
   "source": [
    "## Train the model"
   ]
  },
  {
   "cell_type": "code",
   "execution_count": 10,
   "metadata": {
    "ExecuteTime": {
     "end_time": "2019-08-15T21:30:51.579105Z",
     "start_time": "2019-08-15T21:30:51.515549Z"
    }
   },
   "outputs": [
    {
     "name": "stderr",
     "output_type": "stream",
     "text": [
      "100%|██████████| 1/1 [00:36<00:00, 36.30s/it]\n"
     ]
    }
   ],
   "source": [
    "run_model(svi, model, writer, epoch_count, n_epochs=1)"
   ]
  },
  {
   "cell_type": "markdown",
   "metadata": {},
   "source": [
    "# Classification"
   ]
  },
  {
   "cell_type": "code",
   "execution_count": 30,
   "metadata": {
    "ExecuteTime": {
     "end_time": "2019-08-15T15:17:46.728383Z",
     "start_time": "2019-08-15T15:17:46.699780Z"
    }
   },
   "outputs": [],
   "source": [
    "# class based on the highest probability\n",
    "model.data.predictions = pyro.param(\"z_probs\").cpu().squeeze().detach().argmax(dim=2)\n",
    "# probabilities\n",
    "model.data.probs = pyro.param(\"z_probs\").squeeze().detach().cuda()"
   ]
  },
  {
   "cell_type": "code",
   "execution_count": 26,
   "metadata": {
    "ExecuteTime": {
     "end_time": "2019-08-08T15:06:58.893043Z",
     "start_time": "2019-08-08T15:06:58.845781Z"
    }
   },
   "outputs": [],
   "source": [
    "torch.save(data.probs, os.path.join(path, \"probs.pt\"))"
   ]
  },
  {
   "cell_type": "code",
   "execution_count": 25,
   "metadata": {
    "ExecuteTime": {
     "end_time": "2019-08-08T19:43:06.435803Z",
     "start_time": "2019-08-08T19:43:06.402034Z"
    }
   },
   "outputs": [
    {
     "data": {
      "text/plain": [
       "tensor([  3,   7,  28,  30,  48,  55,  57,  58,  74,  78,  83,  84,  99, 103,\n",
       "        111, 112, 118, 120, 124, 137, 147, 155, 156, 157, 160, 161, 169, 175,\n",
       "        176, 182, 185, 186, 195, 201, 210], device='cpu')"
      ]
     },
     "execution_count": 25,
     "metadata": {},
     "output_type": "execute_result"
    }
   ],
   "source": [
    "torch.nonzero((pyro.param(\"z_probs\").cpu().squeeze()[...,0] > 0.3) & (pyro.param(\"z_probs\").cpu().squeeze()[...,0] < 0.7))[:,0].unique()"
   ]
  },
  {
   "cell_type": "code",
   "execution_count": 18,
   "metadata": {
    "ExecuteTime": {
     "end_time": "2019-08-09T03:41:32.880491Z",
     "start_time": "2019-08-09T03:41:32.849506Z"
    }
   },
   "outputs": [
    {
     "data": {
      "text/plain": [
       "tensor([ 15,  74,  82,  99, 109, 176, 185, 192], device='cpu')"
      ]
     },
     "execution_count": 18,
     "metadata": {},
     "output_type": "execute_result"
    }
   ],
   "source": [
    "torch.nonzero((pyro.param(\"z_probs\").cpu().squeeze()[...,0] > 0.3) & (pyro.param(\"z_probs\").cpu().squeeze()[...,0] < 0.7))[:,0].unique()"
   ]
  },
  {
   "cell_type": "code",
   "execution_count": 32,
   "metadata": {
    "ExecuteTime": {
     "end_time": "2019-08-15T15:18:01.498231Z",
     "start_time": "2019-08-15T15:18:01.460898Z"
    }
   },
   "outputs": [
    {
     "data": {
      "text/plain": [
       "tensor([  3,   7,  48,  55,  74,  83,  84,  99, 103, 118, 120, 155, 157, 160,\n",
       "        161, 169, 175, 176, 185, 195, 201, 210], device='cpu')"
      ]
     },
     "execution_count": 32,
     "metadata": {},
     "output_type": "execute_result"
    }
   ],
   "source": [
    "torch.nonzero((pyro.param(\"z_probs\").cpu().squeeze()[...,0] > 0.3) & (pyro.param(\"z_probs\").cpu().squeeze()[...,0] < 0.7))[:,0].unique()"
   ]
  },
  {
   "cell_type": "code",
   "execution_count": 28,
   "metadata": {
    "ExecuteTime": {
     "end_time": "2019-08-09T04:37:48.350428Z",
     "start_time": "2019-08-09T04:37:48.334920Z"
    }
   },
   "outputs": [
    {
     "data": {
      "text/plain": [
       "-483.6231345936594"
      ]
     },
     "execution_count": 28,
     "metadata": {},
     "output_type": "execute_result"
    }
   ],
   "source": [
    "-2.4487e+8 / model.N / model.F"
   ]
  },
  {
   "cell_type": "code",
   "execution_count": 28,
   "metadata": {
    "ExecuteTime": {
     "end_time": "2019-08-08T19:44:22.376622Z",
     "start_time": "2019-08-08T19:44:22.350426Z"
    }
   },
   "outputs": [],
   "source": [
    "#pyro.param(\"x_scale\").squeeze()[:,42]\n",
    "# aoi 24 16"
   ]
  },
  {
   "cell_type": "code",
   "execution_count": 31,
   "metadata": {
    "ExecuteTime": {
     "end_time": "2019-08-15T15:17:54.838496Z",
     "start_time": "2019-08-15T15:17:54.570568Z"
    },
    "scrolled": false
   },
   "outputs": [
    {
     "data": {
      "application/vnd.jupyter.widget-view+json": {
       "model_id": "c5b6d8516d5541feb8014c4b1ce27864",
       "version_major": 2,
       "version_minor": 0
      },
      "text/plain": [
       "interactive(children=(Dropdown(description='aoi', options=((1, 0), (2, 1), (3, 2), (4, 3), (5, 4), (6, 5), (7,…"
      ]
     },
     "metadata": {},
     "output_type": "display_data"
    },
    {
     "data": {
      "text/plain": [
       "<function utils.view_aoi_summary(aoi, data, show_class=False)>"
      ]
     },
     "execution_count": 31,
     "metadata": {},
     "output_type": "execute_result"
    }
   ],
   "source": [
    "aoi_widget = widgets.Dropdown(options=[(j,i) for i,j in enumerate(data.target.index)])\n",
    "\n",
    "interact(view_aoi_summary, aoi=aoi_widget, data=fixed(data), show_class=True)"
   ]
  },
  {
   "cell_type": "code",
   "execution_count": 25,
   "metadata": {
    "ExecuteTime": {
     "end_time": "2019-08-15T15:20:02.605877Z",
     "start_time": "2019-08-15T15:20:01.501295Z"
    }
   },
   "outputs": [
    {
     "data": {
      "application/vnd.jupyter.widget-view+json": {
       "model_id": "30975294e84b41d484aec2086ff08f82",
       "version_major": 2,
       "version_minor": 0
      },
      "text/plain": [
       "interactive(children=(Dropdown(description='aoi', options=((1, 0), (2, 1), (3, 2), (4, 3), (5, 4), (6, 5), (7,…"
      ]
     },
     "metadata": {},
     "output_type": "display_data"
    },
    {
     "data": {
      "text/plain": [
       "<function utils.view_feature_summary(aoi, data, show_class=False)>"
      ]
     },
     "execution_count": 25,
     "metadata": {},
     "output_type": "execute_result"
    }
   ],
   "source": [
    "aoi_widget = widgets.Dropdown(options=[(j,i) for i,j in enumerate(data.target.index)])\n",
    "\n",
    "interact(view_feature_summary, aoi=aoi_widget, data=fixed(data))"
   ]
  },
  {
   "cell_type": "code",
   "execution_count": null,
   "metadata": {},
   "outputs": [],
   "source": [
    "# aoi 116"
   ]
  },
  {
   "cell_type": "code",
   "execution_count": 29,
   "metadata": {
    "ExecuteTime": {
     "end_time": "2019-08-04T01:29:09.140178Z",
     "start_time": "2019-08-04T01:29:08.923963Z"
    }
   },
   "outputs": [
    {
     "data": {
      "text/plain": [
       "(-5, 5)"
      ]
     },
     "execution_count": 29,
     "metadata": {},
     "output_type": "execute_result"
    },
    {
     "data": {
      "image/png": "[encoded data removed]",
      "text/plain": [
       "<Figure size 1080x288 with 1 Axes>"
      ]
     },
     "metadata": {
      "needs_background": "light"
     },
     "output_type": "display_data"
    }
   ],
   "source": [
    "plt.figure(figsize=(15,4))\n",
    "mean = pyro.param(\"x_loc\").cpu().squeeze().detach().numpy()[21]\n",
    "sd = pyro.param(\"x_scale\").cpu().squeeze().detach().numpy()[21]\n",
    "plt.plot(data.drift.index, mean)\n",
    "plt.fill_between(data.drift.index, mean - sd, mean + sd, color='C0', alpha=0.3)\n",
    "plt.ylim(-5,5)"
   ]
  },
  {
   "cell_type": "code",
   "execution_count": 40,
   "metadata": {
    "ExecuteTime": {
     "end_time": "2019-08-04T03:12:54.751615Z",
     "start_time": "2019-08-04T03:12:54.589555Z"
    }
   },
   "outputs": [
    {
     "data": {
      "image/png": "[encoded data removed]",
      "text/plain": [
       "<Figure size 1080x288 with 1 Axes>"
      ]
     },
     "metadata": {
      "needs_background": "light"
     },
     "output_type": "display_data"
    }
   ],
   "source": [
    "plt.figure(figsize=(15,4))\n",
    "#plt.plot(pyro.param(\"b_loc\").squeeze().cpu().detach().numpy()[1])\n",
    "#plt.plot(pyro.param(\"b_loc\").squeeze().cpu().detach().numpy()[2])\n",
    "plt.plot(pyro.param(\"b_loc\").squeeze().cpu().detach().numpy()[39])\n",
    "plt.show()"
   ]
  },
  {
   "cell_type": "code",
   "execution_count": 37,
   "metadata": {
    "ExecuteTime": {
     "end_time": "2019-08-02T18:30:38.694072Z",
     "start_time": "2019-08-02T18:30:38.326504Z"
    }
   },
   "outputs": [
    {
     "data": {
      "application/vnd.jupyter.widget-view+json": {
       "model_id": "140d2b72b722402793b80c0d2dc4313f",
       "version_major": 2,
       "version_minor": 0
      },
      "text/plain": [
       "interactive(children=(Dropdown(description='aoi', options=((1, 0), (2, 1), (3, 2), (4, 3), (5, 4), (6, 5), (7,…"
      ]
     },
     "metadata": {},
     "output_type": "display_data"
    },
    {
     "data": {
      "text/plain": [
       "<function utils.view_feature_summary(aoi, data, show_class=False)>"
      ]
     },
     "execution_count": 37,
     "metadata": {},
     "output_type": "execute_result"
    }
   ],
   "source": [
    "aoi_widget = widgets.Dropdown(options=[(j,i) for i,j in enumerate(data.target.index)])\n",
    "\n",
    "interact(view_feature_summary, aoi=aoi_widget, data=fixed(data))"
   ]
  },
  {
   "cell_type": "code",
   "execution_count": null,
   "metadata": {},
   "outputs": [],
   "source": []
  },
  {
   "cell_type": "code",
   "execution_count": 22,
   "metadata": {
    "ExecuteTime": {
     "end_time": "2019-08-08T19:37:10.136945Z",
     "start_time": "2019-08-08T19:37:08.423821Z"
    },
    "scrolled": false
   },
   "outputs": [
    {
     "data": {
      "application/vnd.jupyter.widget-view+json": {
       "model_id": "022f2a1c8d0440139a1e3f139a28da53",
       "version_major": 2,
       "version_minor": 0
      },
      "text/plain": [
       "interactive(children=(Dropdown(description='aoi', options=((1, 0), (2, 1), (3, 2), (4, 3), (5, 4), (6, 5), (7,…"
      ]
     },
     "metadata": {},
     "output_type": "display_data"
    },
    {
     "data": {
      "text/plain": [
       "<function utils.view_aoi(aoi, frame, data, show_class=False)>"
      ]
     },
     "execution_count": 22,
     "metadata": {},
     "output_type": "execute_result"
    }
   ],
   "source": [
    "frame_widget = widgets.Dropdown(options=[(j,i) for i,j in enumerate(model.data.drift.index)])\n",
    "\n",
    "aoi_widget = widgets.Dropdown(options=[(j,i) for i,j in enumerate(model.data.target.index)])\n",
    "\n",
    "interact(view_aoi, aoi=aoi_widget, frame=frame_widget, data=fixed(model.data), show_class=True)"
   ]
  },
  {
   "cell_type": "code",
   "execution_count": 26,
   "metadata": {
    "ExecuteTime": {
     "end_time": "2019-07-29T17:46:35.341711Z",
     "start_time": "2019-07-29T17:46:35.320919Z"
    }
   },
   "outputs": [
    {
     "data": {
      "text/plain": [
       "array([0.12156863, 0.46666667, 0.70588235])"
      ]
     },
     "execution_count": 26,
     "metadata": {},
     "output_type": "execute_result"
    }
   ],
   "source": [
    "from matplotlib.colors import to_rgba_array\n",
    "to_rgba_array(\"C{}\".format(0))[0,:3] "
   ]
  },
  {
   "cell_type": "code",
   "execution_count": 27,
   "metadata": {
    "ExecuteTime": {
     "end_time": "2019-07-29T17:46:53.804048Z",
     "start_time": "2019-07-29T17:46:53.782493Z"
    }
   },
   "outputs": [
    {
     "data": {
      "text/plain": [
       "3.3166183e-05"
      ]
     },
     "execution_count": 27,
     "metadata": {},
     "output_type": "execute_result"
    }
   ],
   "source": [
    "data.probs.cpu().numpy()[0,0,0]"
   ]
  },
  {
   "cell_type": "code",
   "execution_count": null,
   "metadata": {},
   "outputs": [],
   "source": [
    "# aoi 58 frame 35 double spot\n",
    "# aoi 31 frame 83 -> solved by local bg\n",
    "# aoi 4\n",
    "# aoi 8 frame 41\n",
    "# aoi 29 frame 1 (dirt at left bottom frame 330)\n",
    "# aoi 10 nice!\n",
    "# aoi 13 frame 1192 interesting case\n",
    "# aoi 23 very bright in the beginning"
   ]
  },
  {
   "cell_type": "code",
   "execution_count": 43,
   "metadata": {
    "ExecuteTime": {
     "end_time": "2019-07-17T20:44:20.390310Z",
     "start_time": "2019-07-17T20:44:20.081829Z"
    }
   },
   "outputs": [
    {
     "data": {
      "image/png": "[encoded data removed]",
      "text/plain": [
       "<Figure size 432x216 with 2 Axes>"
      ]
     },
     "metadata": {
      "needs_background": "light"
     },
     "output_type": "display_data"
    }
   ],
   "source": [
    "view_aoi_class_average(model.data, model.K)"
   ]
  },
  {
   "cell_type": "markdown",
   "metadata": {
    "heading_collapsed": true
   },
   "source": [
    "# Fitting results"
   ]
  },
  {
   "cell_type": "code",
   "execution_count": 67,
   "metadata": {
    "ExecuteTime": {
     "end_time": "2019-07-03T21:14:53.219211Z",
     "start_time": "2019-07-03T21:14:52.620089Z"
    },
    "hidden": true
   },
   "outputs": [
    {
     "name": "stderr",
     "output_type": "stream",
     "text": [
      "WARNING:matplotlib.legend:No handles with labels found to put in legend.\n"
     ]
    },
    {
     "data": {
      "image/png": "[encoded data removed]",
      "text/plain": [
       "<Figure size 1080x576 with 4 Axes>"
      ]
     },
     "metadata": {
      "needs_background": "light"
     },
     "output_type": "display_data"
    }
   ],
   "source": [
    "plt.figure(figsize=(15,8))\n",
    "\n",
    "X = torch.arange(pyro.param(\"height_loc\").item()-pyro.param(\"height_scale\").item()*10, pyro.param(\"height_loc\").item()+pyro.param(\"height_scale\").item()*10,0.1)\n",
    "#X = torch.arange(190,240,0.1)\n",
    "prior = dist.HalfNormal(500.)\n",
    "posterior = dist.Normal(pyro.param(\"height_loc\"), pyro.param(\"height_scale\"))\n",
    "Y_prior = torch.exp(prior.log_prob(X))\n",
    "Y_posterior = torch.exp(posterior.log_prob(X))\n",
    "\n",
    "plt.subplot(2,3,1)\n",
    "plt.plot(X.cpu().numpy(), Y_prior.data.cpu().numpy(), label=\"prior\")\n",
    "plt.plot(X.cpu().numpy(), Y_posterior.data.cpu().numpy(), label=\"posterior\")\n",
    "#plt.plot([h_true, h_true], [0., Y_posterior.max().item()], 'k--', label=\"true\")\n",
    "plt.title(\"Height\")\n",
    "plt.ylabel(\"probability density\")\n",
    "plt.xlabel(\"height\")\n",
    "plt.ylim(0,)\n",
    "plt.legend()\n",
    "\n",
    "\n",
    "X = torch.arange(0.5,2.,0.01)\n",
    "prior = dist.Gamma(1., 0.1)\n",
    "#posterior = dist.Gamma(pyro.param(\"width_alpha\"), pyro.param(\"width_beta\"))\n",
    "Y_prior = torch.exp(prior.log_prob(X))\n",
    "Y_posterior = torch.exp(posterior.log_prob(X))\n",
    "\n",
    "plt.subplot(2,3,2)\n",
    "plt.title(\"Width/Precision\")\n",
    "plt.ylabel(\"probability density\")\n",
    "plt.xlabel(\"height\")\n",
    "plt.legend()\n",
    "\n",
    "\n",
    "X = torch.arange(pyro.param(\"background_loc\").item()-pyro.param(\"background_scale\").item()*10, pyro.param(\"background_loc\").item()+pyro.param(\"background_scale\").item()*10,0.01)\n",
    "prior = dist.HalfNormal(1000.)\n",
    "posterior = dist.Normal(pyro.param(\"background_loc\"), pyro.param(\"background_scale\"))\n",
    "Y_prior = torch.exp(prior.log_prob(X))\n",
    "Y_posterior = torch.exp(posterior.log_prob(X))\n",
    "\n",
    "plt.subplot(2,3,3)\n",
    "plt.plot(X.cpu().numpy(), Y_prior.data.cpu().numpy(), label=\"prior\")\n",
    "plt.plot(X.cpu().numpy(), Y_posterior.data.cpu().numpy(), label=\"posterior\")\n",
    "#plt.plot([b_true, b_true], [0., Y_posterior.max().item()], 'k--', label=\"true\")\n",
    "plt.title(\"Background\")\n",
    "plt.ylabel(\"probability density\")\n",
    "plt.xlabel(\"background\")\n",
    "plt.legend()\n",
    "\n",
    "X = torch.stack((torch.arange(0,1,0.001), torch.arange(1,0,-0.001)), dim=1)\n",
    "prior = dist.Dirichlet(0.5 * torch.ones(2))\n",
    "posterior = dist.Dirichlet(pyro.param(\"weights_conc\"))\n",
    "Y_prior = torch.exp(prior.log_prob(X))\n",
    "Y_posterior = torch.exp(posterior.log_prob(X))\n",
    "\n",
    "plt.subplot(2,3,4)\n",
    "plt.plot(X.cpu().numpy(), Y_prior.data.cpu().numpy(), label=\"prior\")\n",
    "plt.plot(X.cpu().numpy(), Y_posterior.data.cpu().numpy(), label=\"posterior\")\n",
    "#plt.plot([pi_true[0], pi_true[0]], [0., Y_posterior.max().item()], 'k--')\n",
    "#plt.plot([pi_true[1], pi_true[1]], [0., Y_posterior.max().item()], 'k--')\n",
    "plt.title(\"Weights\")\n",
    "plt.ylabel(\"probability density\")\n",
    "plt.xlabel(\"weights\")\n",
    "plt.legend()\n",
    "\n",
    "\n",
    "\n",
    "\n",
    "plt.tight_layout()\n",
    "plt.show()"
   ]
  },
  {
   "cell_type": "code",
   "execution_count": null,
   "metadata": {
    "hidden": true
   },
   "outputs": [],
   "source": [
    "\n",
    "\n",
    "def per_param_callable(module_name, param_name):\n",
    "    if param_name in [\"background_loc\", \"background_scale\", \"height_scale\", \"height_loc\"]:\n",
    "        return {\"lr\": 0.2, 'betas': [0.9, 0.999]}\n",
    "    else:\n",
    "        return {\"lr\": 0.05, 'betas': [0.9, 0.999]}\n",
    "#optim = pyro.optim.ASGD({\"lr\":0.1})"
   ]
  },
  {
   "cell_type": "code",
   "execution_count": null,
   "metadata": {
    "hidden": true
   },
   "outputs": [],
   "source": [
    "#trace = poutine.trace(gaussgamma.mixture_model).get_trace(gaussgamma.data[:], torch.arange(len(gaussgamma.data)))\n",
    "#trace.compute_log_prob()  # optional, but allows printing of log_prob shapes\n",
    "#print(trace.format_shapes())"
   ]
  },
  {
   "cell_type": "code",
   "execution_count": null,
   "metadata": {
    "hidden": true
   },
   "outputs": [],
   "source": [
    "# load checkpoint\n",
    "optim.load(\"checkpoints/gmm_aoi17_optim_2019-06-24_10:01:04.ckpt\")\n",
    "pyro.get_param_store().load(\"checkpoints/gmm_aoi17_param_2019-06-24_10:01:04.ckpt\")\n",
    "history = load_obj(\"checkpoints/gmm_aoi17_history_2019-06-24_10:01:04.pkl\")"
   ]
  },
  {
   "cell_type": "code",
   "execution_count": null,
   "metadata": {
    "hidden": true
   },
   "outputs": [],
   "source": [
    "# save checkpoint\n",
    "st = datetime.datetime.fromtimestamp(end).strftime('%Y-%m-%d_%H:%M:%S')\n",
    "optim.save(\"checkpoints/{}_aoi{}_optim_{}.ckpt\".format(gmm.name, aoi, st))\n",
    "pyro.get_param_store().save(\"checkpoints/{}_aoi{}_param_{}.ckpt\".format(gmm.name, aoi, st))\n",
    "save_obj(history, \"checkpoints/{}_aoi{}_history_{}.pkl\".format(gmm.name, aoi, st))"
   ]
  }
 ],
 "metadata": {
  "kernelspec": {
   "display_name": "Python 3",
   "language": "python",
   "name": "python3"
  },
  "language_info": {
   "codemirror_mode": {
    "name": "ipython",
    "version": 3
   },
   "file_extension": ".py",
   "mimetype": "text/x-python",
   "name": "python",
   "nbconvert_exporter": "python",
   "pygments_lexer": "ipython3",
   "version": "3.7.4"
  },
  "toc": {
   "base_numbering": 1,
   "nav_menu": {
    "height": "18px",
    "width": "480px"
   },
   "number_sections": true,
   "sideBar": true,
   "skip_h1_title": false,
   "title_cell": "Table of Contents",
   "title_sidebar": "Contents",
   "toc_cell": false,
   "toc_position": {
    "height": "calc(100% - 180px)",
    "left": "10px",
    "top": "150px",
    "width": "371px"
   },
   "toc_section_display": true,
   "toc_window_display": true
  }
 },
 "nbformat": 4,
 "nbformat_minor": 2
}
