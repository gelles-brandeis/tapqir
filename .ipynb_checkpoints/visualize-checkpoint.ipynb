{
 "cells": [
  {
   "cell_type": "markdown",
   "metadata": {},
   "source": [
    "# Visualize Results"
   ]
  },
  {
   "cell_type": "markdown",
   "metadata": {},
   "source": [
    "## Load imports & data"
   ]
  },
  {
   "cell_type": "code",
   "execution_count": 1,
   "metadata": {
    "ExecuteTime": {
     "end_time": "2019-08-15T21:30:34.165784Z",
     "start_time": "2019-08-15T21:30:33.266523Z"
    }
   },
   "outputs": [],
   "source": [
    "import os\n",
    "import ipywidgets as widgets\n",
    "import matplotlib.pyplot as plt\n",
    "import numpy as np\n",
    "import pandas as pd\n",
    "import pyro\n",
    "import pyro.distributions as dist\n",
    "# gui\n",
    "import qgrid\n",
    "import seaborn as sns\n",
    "# pyro & pytorch\n",
    "import torch\n",
    "from ipywidgets import fixed, interact\n",
    "from tqdm import tqdm\n",
    "\n",
    "%matplotlib inline\n",
    "qgrid.enable()\n",
    "\n",
    "%load_ext autoreload\n",
    "%autoreload 2"
   ]
  },
  {
   "cell_type": "code",
   "execution_count": 2,
   "metadata": {},
   "outputs": [
    {
     "data": {
      "text/plain": [
       "True"
      ]
     },
     "execution_count": 2,
     "metadata": {},
     "output_type": "execute_result"
    }
   ],
   "source": [
    "device = torch.device(\"cuda:0\")\n",
    "torch.set_default_tensor_type('torch.cuda.FloatTensor')\n",
    "torch.cuda.is_available()"
   ]
  },
  {
   "cell_type": "code",
   "execution_count": 3,
   "metadata": {
    "ExecuteTime": {
     "end_time": "2019-08-15T21:30:35.906519Z",
     "start_time": "2019-08-15T21:30:34.188231Z"
    }
   },
   "outputs": [],
   "source": [
    "from cosmos.utils.utils import (view_aoi,\n",
    "                   view_aoi_class_average, view_aoi_class_summary,\n",
    "                   view_aoi_summary, view_glimpse, write_summary, view_feature_summary)"
   ]
  },
  {
   "cell_type": "code",
   "execution_count": 4,
   "metadata": {},
   "outputs": [],
   "source": [
    "from cosmos.utils.feature_read import ReadFeatures\n",
    "from cosmos.utils.aoi_reader import ReadAoi"
   ]
  },
  {
   "cell_type": "code",
   "execution_count": 27,
   "metadata": {},
   "outputs": [
    {
     "name": "stdout",
     "output_type": "stream",
     "text": [
      "reading config.ini for DanPol2 ... done\n",
      "reading header ... done\n",
      "reading drift file ... calculating cumulative drift ... done\n",
      "reading aoiinfo file ... adjusting target position to frame 1 ... done\n",
      "saving drift_df.csv and aoi_df.csv files ..., done\n",
      "aois were read from data.pt, target.csv, and drift.csv files\n",
      "Features were read from saved files.\n"
     ]
    }
   ],
   "source": [
    "data = ReadFeatures(\"DanPol2\", device)"
   ]
  },
  {
   "cell_type": "code",
   "execution_count": 28,
   "metadata": {},
   "outputs": [],
   "source": [
    "data.z_probs = torch.load(os.path.join(data.path, \"runs/classifier/v3/K2\", \"z_probs.pt\"))\n",
    "#data.j_probs = torch.load(os.path.join(data.path, \"runs/classifier/v4/K2\", \"j_probs.pt\"))\n",
    "#data.predictions = data.probs.argmax(dim=2)"
   ]
  },
  {
   "cell_type": "markdown",
   "metadata": {},
   "source": [
    "# Visualize Data"
   ]
  },
  {
   "cell_type": "markdown",
   "metadata": {},
   "source": [
    "## View glimpse images"
   ]
  },
  {
   "cell_type": "code",
   "execution_count": 8,
   "metadata": {
    "ExecuteTime": {
     "end_time": "2019-08-15T20:51:08.622828Z",
     "start_time": "2019-08-15T20:51:07.637021Z"
    },
    "scrolled": false
   },
   "outputs": [
    {
     "ename": "ImportError",
     "evalue": "cannot import name 'aoi_df' from 'aoi_reader' (/home/ordabayev/Documents/BayesianImage/aoi_reader.py)",
     "output_type": "error",
     "traceback": [
      "\u001b[0;31m---------------------------------------------------------------------------\u001b[0m",
      "\u001b[0;31mImportError\u001b[0m                               Traceback (most recent call last)",
      "\u001b[0;32m<ipython-input-8-c20c98fa6b07>\u001b[0m in \u001b[0;36m<module>\u001b[0;34m\u001b[0m\n\u001b[0;32m----> 1\u001b[0;31m \u001b[0;32mfrom\u001b[0m \u001b[0maoi_reader\u001b[0m \u001b[0;32mimport\u001b[0m \u001b[0maoi_df\u001b[0m\u001b[0;34m,\u001b[0m \u001b[0mdrift_df\u001b[0m\u001b[0;34m,\u001b[0m \u001b[0mheader\u001b[0m\u001b[0;34m,\u001b[0m \u001b[0mpath_header\u001b[0m\u001b[0;34m\u001b[0m\u001b[0;34m\u001b[0m\u001b[0m\n\u001b[0m\u001b[1;32m      2\u001b[0m \u001b[0maoi_list\u001b[0m \u001b[0;34m=\u001b[0m \u001b[0maoi_df\u001b[0m\u001b[0;34m.\u001b[0m\u001b[0mindex\u001b[0m\u001b[0;34m\u001b[0m\u001b[0;34m\u001b[0m\u001b[0m\n\u001b[1;32m      3\u001b[0m \u001b[0mframe_list\u001b[0m \u001b[0;34m=\u001b[0m \u001b[0mdrift_df\u001b[0m\u001b[0;34m.\u001b[0m\u001b[0mindex\u001b[0m\u001b[0;34m\u001b[0m\u001b[0;34m\u001b[0m\u001b[0m\n\u001b[1;32m      4\u001b[0m \u001b[0;34m\u001b[0m\u001b[0m\n\u001b[1;32m      5\u001b[0m interact(view_glimpse, frame=frame_list, aoi=aoi_list,\n",
      "\u001b[0;31mImportError\u001b[0m: cannot import name 'aoi_df' from 'aoi_reader' (/home/ordabayev/Documents/BayesianImage/aoi_reader.py)"
     ]
    }
   ],
   "source": [
    "from aoi_reader import aoi_df, drift_df, header, path_header\n",
    "aoi_list = aoi_df.index\n",
    "frame_list = drift_df.index\n",
    "\n",
    "interact(view_glimpse, frame=frame_list, aoi=aoi_list,\n",
    "         aoi_df=fixed(aoi_df.loc[aoi_list]), drift_df=fixed(drift_df.loc[frame_list]), \n",
    "         header=fixed(header), path_glimpse=fixed(path_header),\n",
    "         selected_aoi=True, all_aois=True, label=False, offset=False)"
   ]
  },
  {
   "cell_type": "code",
   "execution_count": 28,
   "metadata": {},
   "outputs": [
    {
     "data": {
      "text/plain": [
       "tensor([ 99, 176, 185, 197])"
      ]
     },
     "execution_count": 28,
     "metadata": {},
     "output_type": "execute_result"
    }
   ],
   "source": [
    "torch.nonzero((data.probs[...,0] > 0.3) & (data.probs[...,0] < 0.7))[:,0].unique()"
   ]
  },
  {
   "cell_type": "markdown",
   "metadata": {},
   "source": [
    "## View AoI"
   ]
  },
  {
   "cell_type": "code",
   "execution_count": 15,
   "metadata": {},
   "outputs": [],
   "source": [
    "# grace aoi 180"
   ]
  },
  {
   "cell_type": "code",
   "execution_count": 11,
   "metadata": {
    "ExecuteTime": {
     "end_time": "2019-08-15T20:51:10.114463Z",
     "start_time": "2019-08-15T20:51:09.501377Z"
    },
    "scrolled": false
   },
   "outputs": [
    {
     "data": {
      "application/vnd.jupyter.widget-view+json": {
       "model_id": "34e7155c1adf4993af7b55608bd5d728",
       "version_major": 2,
       "version_minor": 0
      },
      "text/plain": [
       "interactive(children=(Dropdown(description='aoi', options=((1, 0), (2, 1), (3, 2), (4, 3), (5, 4), (6, 5), (7,…"
      ]
     },
     "metadata": {},
     "output_type": "display_data"
    },
    {
     "data": {
      "text/plain": [
       "<function cosmos.utils.utils.view_aoi_summary(aoi, data, show_class=False)>"
      ]
     },
     "execution_count": 11,
     "metadata": {},
     "output_type": "execute_result"
    },
    {
     "data": {
      "text/plain": [
       "<Figure size 1080x288 with 0 Axes>"
      ]
     },
     "metadata": {},
     "output_type": "display_data"
    }
   ],
   "source": [
    "aoi_widget = widgets.Dropdown(options=[(j,i) for i,j in enumerate(data.target.index)])\n",
    "\n",
    "interact(view_aoi_summary, aoi=aoi_widget, data=fixed(data), show_class=True)"
   ]
  },
  {
   "cell_type": "code",
   "execution_count": 29,
   "metadata": {},
   "outputs": [
    {
     "data": {
      "application/vnd.jupyter.widget-view+json": {
       "model_id": "a9f7050a4f854b88bed594f02d01738b",
       "version_major": 2,
       "version_minor": 0
      },
      "text/plain": [
       "interactive(children=(Dropdown(description='aoi', options=((1, 0), (2, 1), (3, 2), (4, 3), (5, 4), (6, 5), (7,…"
      ]
     },
     "metadata": {},
     "output_type": "display_data"
    },
    {
     "data": {
      "text/plain": [
       "<function cosmos.utils.utils.view_feature_summary(aoi, data, show_class=None)>"
      ]
     },
     "execution_count": 29,
     "metadata": {},
     "output_type": "execute_result"
    }
   ],
   "source": [
    "aoi_widget = widgets.Dropdown(options=[(j,i) for i,j in enumerate(data.target.index)])\n",
    "\n",
    "interact(view_feature_summary, aoi=aoi_widget, data=fixed(data), show_class=[None, \"spot\", \"junk\"])"
   ]
  },
  {
   "cell_type": "code",
   "execution_count": 26,
   "metadata": {},
   "outputs": [
    {
     "data": {
      "application/vnd.jupyter.widget-view+json": {
       "model_id": "fb5dad65f74f4f5680e50ba73268d32a",
       "version_major": 2,
       "version_minor": 0
      },
      "text/plain": [
       "interactive(children=(Dropdown(description='aoi', options=((1, 0), (2, 1), (3, 2), (4, 3), (5, 4), (6, 5), (7,…"
      ]
     },
     "metadata": {},
     "output_type": "display_data"
    },
    {
     "data": {
      "text/plain": [
       "<function cosmos.utils.utils.view_aoi(aoi, frame, data, show_class=None)>"
      ]
     },
     "execution_count": 26,
     "metadata": {},
     "output_type": "execute_result"
    }
   ],
   "source": [
    "frame_widget = widgets.Dropdown(options=[(j,i) for i,j in enumerate(data.drift.index)])\n",
    "\n",
    "aoi_widget = widgets.Dropdown(options=[(j,i) for i,j in enumerate(data.target.index)])\n",
    "\n",
    "interact(view_aoi, aoi=aoi_widget, frame=frame_widget, data=fixed(data), show_class=[None, \"spot\", \"junk\"])"
   ]
  },
  {
   "cell_type": "markdown",
   "metadata": {},
   "source": [
    "# Modelv1"
   ]
  },
  {
   "cell_type": "code",
   "execution_count": 5,
   "metadata": {},
   "outputs": [],
   "source": [
    "from classifier import select_model, run_model"
   ]
  },
  {
   "cell_type": "code",
   "execution_count": 6,
   "metadata": {},
   "outputs": [],
   "source": [
    "pyro.clear_param_store()\n",
    "\n",
    "svi, model, writer = select_model(\"Modelv1\", Modelv1)"
   ]
  },
  {
   "cell_type": "code",
   "execution_count": 7,
   "metadata": {},
   "outputs": [],
   "source": [
    "epoch_count = 0"
   ]
  },
  {
   "cell_type": "code",
   "execution_count": 8,
   "metadata": {},
   "outputs": [],
   "source": [
    "from Modelv1 import timings"
   ]
  },
  {
   "cell_type": "code",
   "execution_count": 22,
   "metadata": {},
   "outputs": [
    {
     "data": {
      "image/png": "[encoded data removed]",
      "text/plain": [
       "<Figure size 432x288 with 1 Axes>"
      ]
     },
     "metadata": {
      "needs_background": "light"
     },
     "output_type": "display_data"
    }
   ],
   "source": [
    "d = dist.Normal(0, 1)\n",
    "#d2 = dist.Normal(0, 10)\n",
    "d3 = dist.Uniform(-500, 500)\n",
    "d4 = dist.Uniform(-7.5, 7.5)\n",
    "x = torch.arange(-5,5,0.1)\n",
    "plt.plot(x.cpu(), torch.exp(d.log_prob(x)).cpu())\n",
    "#plt.plot(x.cpu(), torch.exp(d2.log_prob(x)).cpu())\n",
    "plt.plot(x.cpu(), torch.exp(d3.log_prob(x)).cpu(), label=\"u5\")\n",
    "#plt.plot(x.cpu(), torch.exp(d4.log_prob(x)).cpu(), label=\"u7.5\")\n",
    "#plt.ylim(0,0.05)\n",
    "plt.legend()\n",
    "plt.show()"
   ]
  },
  {
   "cell_type": "markdown",
   "metadata": {
    "heading_collapsed": true
   },
   "source": [
    "## Mathematical model\n",
    "Product rule\n",
    "$$ p(X,Z,\\theta) = p(X|Z,\\theta)p(Z|\\theta)p(\\theta) = p(Z|\\theta,X)p(\\theta|X)p(X) $$\n",
    "\n",
    "Bayes rule\n",
    "$$ p(Z|\\theta,X)p(\\theta|X) = \\dfrac{p(X|Z,\\theta)p(Z|\\theta)p(\\theta)}{p(X)} $$\n",
    "\n",
    "$$ p(Z|\\pi,X)p(\\mu|X)p(\\eta|X)p(\\pi|X) = \\dfrac{p(X|Z,\\mu,\\eta)p(Z|\\pi)p(\\mu)p(\\eta)p(\\pi)}{p(X)} $$\n",
    "\n",
    "Likelihood\n",
    "$$ p(X|Z,\\mu,\\eta) = \\prod_f p(X_f|Z_f,\\mu,\\eta) = \\prod_f \\prod_{ij} p(X_{fij}|Z_f,\\mu,\\eta) = \\prod_f \\prod_{ij} Noise(X_{fij}|Z_f,\\mu,\\eta) $$\n",
    "\n",
    "where $\\mu$ is a spot model\n",
    "$$ \\mu(height_k,width_k,x_k,y_k,background) $$\n",
    "\n",
    "Prior\n",
    "$$ p(Z|\\theta) = \\prod_f p(Z_f|\\theta) = \\prod_f Categorical(Z_f|\\pi) = \\prod_f \\prod_k \\pi_k^{Z_{fk}} $$\n",
    "\n",
    "Posterior\n",
    "$$ p(\\theta|X) $$\n",
    "\n",
    "$$ p(Z|X,\\theta) = \\prod_f p(Z_f|X_f,\\theta) $$\n",
    "\n",
    "where\n",
    "$$ \\theta = \\mu \\cup \\eta \\cup \\pi $$"
   ]
  },
  {
   "cell_type": "markdown",
   "metadata": {
    "hidden": true
   },
   "source": [
    "$$ p(x,z,\\mu,\\sigma, \\pi) = p(x|z,\\mu,\\sigma)p(z|\\pi)p(\\mu)p(\\sigma)p(\\pi) $$\n",
    "\n",
    "$$ \\prod_n \\prod_f p(x_{nf}|z_{nf},\\mu_{nf},\\sigma)p(z_{nf}|\\pi)p(\\mu_{nf})p(\\sigma)p(\\pi) $$\n",
    "\n",
    "$$ p(x|z,\\mu,\\sigma) = \\prod_n \\prod_f p(x_{nf}|\\mu_{nf}[z_f],\\sigma) $$\n",
    "\n",
    "$$ p(z|\\pi) = \\prod_n \\prod_f \\pi[z_{nf}] $$"
   ]
  },
  {
   "cell_type": "markdown",
   "metadata": {
    "hidden": true
   },
   "source": [
    "### Spot model\n",
    "$$ \\mu_{fij}(Z_f,height_k,width_k,x_k,y_k,background) $$\n",
    "\n",
    "$$ p(\\mu|X) \\simeq q(background) \\prod_k q(height_k) q(width_k) q(x_k) q(y_k) $$\n",
    "\n",
    "$$ q(height_k) = Normal(height\\_loc_k, height\\_scale_k) $$\n",
    "\n",
    "$$ q(background) = Normal(background\\_loc, background\\_scale) $$\n",
    "\n",
    "$$ q(width_k) = Delta(w_k) $$\n",
    "\n",
    "$$ q(x_k) = Delta(x_k) $$\n",
    "\n",
    "$$ q(y_k) = Delta(y_k) $$"
   ]
  },
  {
   "cell_type": "markdown",
   "metadata": {
    "hidden": true
   },
   "source": [
    "### Noise model (Likelihood)\n",
    "\n",
    "$$ p(X_{fij}|Z_f,\\mu,\\eta) = Gamma(X_{fij}-offset|\\alpha_{fij}, \\beta_{fij})Delta(offset) $$\n",
    "where\n",
    "$$ \\alpha_{fij} = \\dfrac{\\mu_{fij}(Z_f,\\theta)}{gain}; \\beta_{fij} = \\dfrac{1}{gain} $$\n",
    "\n",
    "$$ \\eta = \\{gain, offset\\} $$\n",
    "\n",
    "$$ p(\\eta|X) \\simeq q(gain) q(offset) = Delta(g)Delta(o) $$"
   ]
  },
  {
   "cell_type": "markdown",
   "metadata": {
    "hidden": true
   },
   "source": [
    "### Classification\n",
    "\n",
    "$$ p(\\pi|X) = q(\\pi) =  Dirichlet(\\rho_1,...,\\rho_K) $$\n",
    "\n",
    "\n",
    "$$ p(Z_f|X_f,\\pi) = q(Z_f) = Categorical(Z_f|z\\_prob_f) = \\prod_k z\\_prob_{fk}^{Z_{fk}} $$"
   ]
  }
 ],
 "metadata": {
  "kernelspec": {
   "display_name": "Python 3",
   "language": "python",
   "name": "python3"
  },
  "language_info": {
   "codemirror_mode": {
    "name": "ipython",
    "version": 3
   },
   "file_extension": ".py",
   "mimetype": "text/x-python",
   "name": "python",
   "nbconvert_exporter": "python",
   "pygments_lexer": "ipython3",
   "version": "3.7.4"
  },
  "toc": {
   "base_numbering": 1,
   "nav_menu": {
    "height": "18px",
    "width": "480px"
   },
   "number_sections": true,
   "sideBar": true,
   "skip_h1_title": false,
   "title_cell": "Table of Contents",
   "title_sidebar": "Contents",
   "toc_cell": false,
   "toc_position": {
    "height": "calc(100% - 180px)",
    "left": "10px",
    "top": "150px",
    "width": "371px"
   },
   "toc_section_display": true,
   "toc_window_display": true
  }
 },
 "nbformat": 4,
 "nbformat_minor": 2
}
