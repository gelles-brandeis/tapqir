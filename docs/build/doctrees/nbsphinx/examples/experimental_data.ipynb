{
 "cells": [
  {
   "cell_type": "markdown",
   "metadata": {},
   "source": [
    "# Experimental data"
   ]
  },
  {
   "cell_type": "code",
   "execution_count": 1,
   "metadata": {},
   "outputs": [],
   "source": []
  },
  {
   "cell_type": "code",
   "execution_count": null,
   "metadata": {},
   "outputs": [],
   "source": []
  },
  {
   "cell_type": "code",
   "execution_count": 1,
   "metadata": {},
   "outputs": [],
   "source": [
    "import torch\n",
    "import pyro\n",
    "import pyro.distributions as dist\n",
    "import numpy as np\n",
    "import pandas as pd\n",
    "import os\n",
    "import matplotlib.pyplot as plt"
   ]
  },
  {
   "cell_type": "code",
   "execution_count": 2,
   "metadata": {},
   "outputs": [],
   "source": [
    "#from matplotlib import rc\n",
    "#rc('font',**{'family':'sans-serif','sans-serif':['Helvetica']})\n",
    "## for Palatino and other serif fonts use:\n",
    "#rc('font',**{'family':'serif','serif':['Palatino']})\n",
    "#rc('text', usetex=True)\n"
   ]
  },
  {
   "cell_type": "code",
   "execution_count": 3,
   "metadata": {},
   "outputs": [],
   "source": [
    "from sklearn.metrics import matthews_corrcoef, confusion_matrix, \\\n",
    "                            precision_score, recall_score, \\\n",
    "                            roc_curve\n",
    "\n",
    "from scipy.io import loadmat"
   ]
  },
  {
   "cell_type": "markdown",
   "metadata": {},
   "source": [
    "## Orange dye non-attenuated data"
   ]
  },
  {
   "cell_type": "markdown",
   "metadata": {},
   "source": [
    "Tracker v1.1.3flat"
   ]
  },
  {
   "cell_type": "code",
   "execution_count": 2,
   "metadata": {},
   "outputs": [],
   "source": [
    "results = {}\n",
    "predictions = {}\n",
    "true_labels = {}\n",
    "\n",
    "names = [\"FL_5555_6684_1p3OD\", \"FL_4445_5554_1p1OD\", \"FL_3339_4444_0p8OD\",\n",
    "         \"FL_2226_3338_0p6OD\", \"FL_1118_2225_0p3OD\", \"FL_1_1117_0OD\"]\n",
    "\n",
    "for name in names:\n",
    "    results[name] = pd.read_csv(\n",
    "        \"/shared/centaur/data/experimental/nonattenuated/{}/runs/tracker/v1.1.3flat/S1/nocontrol/lr0.005/bs10/params_last.csv\"\n",
    "        .format(name),\n",
    "        header=None, squeeze=True, index_col=0)\n",
    "    predictions[name] = np.load(\n",
    "        \"/shared/centaur/data/experimental/nonattenuated/{}/runs/tracker/v1.1.3flat/S1/nocontrol/lr0.005/bs10/predictions.npy\"\n",
    "        .format(name))\n",
    "    true_labels[name] = np.load(\"/shared/centaur/data/experimental/nonattenuated/{}/labels.npy\".format(name))"
   ]
  },
  {
   "cell_type": "code",
   "execution_count": 3,
   "metadata": {},
   "outputs": [
    {
     "data": {
      "text/html": [
       "<div>\n",
       "<style scoped>\n",
       "    .dataframe tbody tr th:only-of-type {\n",
       "        vertical-align: middle;\n",
       "    }\n",
       "\n",
       "    .dataframe tbody tr th {\n",
       "        vertical-align: top;\n",
       "    }\n",
       "\n",
       "    .dataframe thead th {\n",
       "        text-align: right;\n",
       "    }\n",
       "</style>\n",
       "<table border=\"1\" class=\"dataframe\">\n",
       "  <thead>\n",
       "    <tr style=\"text-align: right;\">\n",
       "      <th></th>\n",
       "      <th>iter</th>\n",
       "      <th>-ELBO</th>\n",
       "      <th>gain</th>\n",
       "      <th>pi_1</th>\n",
       "      <th>lamda_1</th>\n",
       "      <th>MCC</th>\n",
       "      <th>Recall</th>\n",
       "      <th>Precision</th>\n",
       "      <th>FN</th>\n",
       "      <th>TP</th>\n",
       "      <th>TN</th>\n",
       "      <th>FP</th>\n",
       "    </tr>\n",
       "  </thead>\n",
       "  <tbody>\n",
       "    <tr>\n",
       "      <th>FL_5555_6684_1p3OD</th>\n",
       "      <td>29900.0</td>\n",
       "      <td>40515940.0</td>\n",
       "      <td>6.852407</td>\n",
       "      <td>0.038298</td>\n",
       "      <td>0.031055</td>\n",
       "      <td>0.915697</td>\n",
       "      <td>0.905947</td>\n",
       "      <td>0.929078</td>\n",
       "      <td>68.0</td>\n",
       "      <td>655.0</td>\n",
       "      <td>33728.0</td>\n",
       "      <td>50.0</td>\n",
       "    </tr>\n",
       "    <tr>\n",
       "      <th>FL_4445_5554_1p1OD</th>\n",
       "      <td>29900.0</td>\n",
       "      <td>30591322.0</td>\n",
       "      <td>6.725662</td>\n",
       "      <td>0.101534</td>\n",
       "      <td>0.023240</td>\n",
       "      <td>0.964020</td>\n",
       "      <td>0.967828</td>\n",
       "      <td>0.964596</td>\n",
       "      <td>48.0</td>\n",
       "      <td>1444.0</td>\n",
       "      <td>22999.0</td>\n",
       "      <td>53.0</td>\n",
       "    </tr>\n",
       "    <tr>\n",
       "      <th>FL_3339_4444_0p8OD</th>\n",
       "      <td>29900.0</td>\n",
       "      <td>36886452.0</td>\n",
       "      <td>6.634371</td>\n",
       "      <td>0.074356</td>\n",
       "      <td>0.015539</td>\n",
       "      <td>0.895820</td>\n",
       "      <td>0.975260</td>\n",
       "      <td>0.828540</td>\n",
       "      <td>19.0</td>\n",
       "      <td>749.0</td>\n",
       "      <td>26324.0</td>\n",
       "      <td>155.0</td>\n",
       "    </tr>\n",
       "    <tr>\n",
       "      <th>FL_2226_3338_0p6OD</th>\n",
       "      <td>29900.0</td>\n",
       "      <td>43654948.0</td>\n",
       "      <td>6.926970</td>\n",
       "      <td>0.098242</td>\n",
       "      <td>0.075726</td>\n",
       "      <td>0.961233</td>\n",
       "      <td>0.962511</td>\n",
       "      <td>0.964690</td>\n",
       "      <td>83.0</td>\n",
       "      <td>2131.0</td>\n",
       "      <td>33921.0</td>\n",
       "      <td>78.0</td>\n",
       "    </tr>\n",
       "    <tr>\n",
       "      <th>FL_1118_2225_0p3OD</th>\n",
       "      <td>29900.0</td>\n",
       "      <td>45101560.0</td>\n",
       "      <td>6.566349</td>\n",
       "      <td>0.031429</td>\n",
       "      <td>0.038498</td>\n",
       "      <td>0.927009</td>\n",
       "      <td>0.929752</td>\n",
       "      <td>0.927198</td>\n",
       "      <td>51.0</td>\n",
       "      <td>675.0</td>\n",
       "      <td>35441.0</td>\n",
       "      <td>53.0</td>\n",
       "    </tr>\n",
       "    <tr>\n",
       "      <th>FL_1_1117_0OD</th>\n",
       "      <td>29900.0</td>\n",
       "      <td>49636644.0</td>\n",
       "      <td>6.729361</td>\n",
       "      <td>0.030443</td>\n",
       "      <td>0.090154</td>\n",
       "      <td>0.899000</td>\n",
       "      <td>0.878672</td>\n",
       "      <td>0.923490</td>\n",
       "      <td>95.0</td>\n",
       "      <td>688.0</td>\n",
       "      <td>41842.0</td>\n",
       "      <td>57.0</td>\n",
       "    </tr>\n",
       "  </tbody>\n",
       "</table>\n",
       "</div>"
      ],
      "text/plain": [
       "0                      iter       -ELBO      gain      pi_1   lamda_1  \\\n",
       "FL_5555_6684_1p3OD  29900.0  40515940.0  6.852407  0.038298  0.031055   \n",
       "FL_4445_5554_1p1OD  29900.0  30591322.0  6.725662  0.101534  0.023240   \n",
       "FL_3339_4444_0p8OD  29900.0  36886452.0  6.634371  0.074356  0.015539   \n",
       "FL_2226_3338_0p6OD  29900.0  43654948.0  6.926970  0.098242  0.075726   \n",
       "FL_1118_2225_0p3OD  29900.0  45101560.0  6.566349  0.031429  0.038498   \n",
       "FL_1_1117_0OD       29900.0  49636644.0  6.729361  0.030443  0.090154   \n",
       "\n",
       "0                        MCC    Recall  Precision    FN      TP       TN  \\\n",
       "FL_5555_6684_1p3OD  0.915697  0.905947   0.929078  68.0   655.0  33728.0   \n",
       "FL_4445_5554_1p1OD  0.964020  0.967828   0.964596  48.0  1444.0  22999.0   \n",
       "FL_3339_4444_0p8OD  0.895820  0.975260   0.828540  19.0   749.0  26324.0   \n",
       "FL_2226_3338_0p6OD  0.961233  0.962511   0.964690  83.0  2131.0  33921.0   \n",
       "FL_1118_2225_0p3OD  0.927009  0.929752   0.927198  51.0   675.0  35441.0   \n",
       "FL_1_1117_0OD       0.899000  0.878672   0.923490  95.0   688.0  41842.0   \n",
       "\n",
       "0                      FP  \n",
       "FL_5555_6684_1p3OD   50.0  \n",
       "FL_4445_5554_1p1OD   53.0  \n",
       "FL_3339_4444_0p8OD  155.0  \n",
       "FL_2226_3338_0p6OD   78.0  \n",
       "FL_1118_2225_0p3OD   53.0  \n",
       "FL_1_1117_0OD        57.0  "
      ]
     },
     "execution_count": 3,
     "metadata": {},
     "output_type": "execute_result"
    }
   ],
   "source": [
    "pd.DataFrame(data=results).T.drop(columns=[float(\"nan\"), \"pi_0\", \"lamda_0\", \"width_mode_0\", \"width_size_0\"])"
   ]
  },
  {
   "cell_type": "markdown",
   "metadata": {},
   "source": [
    "## Orange dye attenuated data"
   ]
  },
  {
   "cell_type": "code",
   "execution_count": 157,
   "metadata": {},
   "outputs": [],
   "source": [
    "snr = np.array([0.63, 0.79, 1.12, 1.41, 1.99, 2.81]) * 2.1 / 2.81"
   ]
  },
  {
   "cell_type": "markdown",
   "metadata": {},
   "source": [
    "Tracker v1.1.3"
   ]
  },
  {
   "cell_type": "code",
   "execution_count": 14,
   "metadata": {},
   "outputs": [],
   "source": [
    "results = {}\n",
    "predictions = {}\n",
    "true_labels = {}\n",
    "\n",
    "names = [\"FL_5555_6684_1p3OD_atten_noHysteresis_0p5_prob\", \"FL_4445_5554_1p1OD_atten_noHysteresis_0p5_prob\",\n",
    "         \"FL_3339_4444_0p8OD_atten_noHysteresis_0p5_prob\", \"FL_2226_3338_0p6OD_atten_noHysteresis_0p5_prob\",\n",
    "         \"FL_1118_2225_0p3OD_atten_noHysteresis_0p5_prob\", \"FL_1_1117_0OD_atten_noHysteresis_0p5_prob\"]\n",
    "\n",
    "for name in names:\n",
    "    results[name] = pd.read_csv(\n",
    "        \"/shared/centaur/data/experimental/attenuated/{}/runs/tracker/v1.1.3flat/S1/nocontrol/lr0.005/bs10/params_last.csv\"\n",
    "        .format(name),\n",
    "        header=None, squeeze=True, index_col=0)\n",
    "    predictions[name] = np.load(\n",
    "        \"/shared/centaur/data/experimental/attenuated/{}/runs/tracker/v1.1.3flat/S1/nocontrol/lr0.005/bs10/predictions.npy\"\n",
    "        .format(name))\n",
    "    true_labels[name] = np.load(\"/shared/centaur/data/experimental/attenuated/{}/labels.npy\".format(name))"
   ]
  },
  {
   "cell_type": "code",
   "execution_count": 15,
   "metadata": {},
   "outputs": [
    {
     "data": {
      "text/html": [
       "<div>\n",
       "<style scoped>\n",
       "    .dataframe tbody tr th:only-of-type {\n",
       "        vertical-align: middle;\n",
       "    }\n",
       "\n",
       "    .dataframe tbody tr th {\n",
       "        vertical-align: top;\n",
       "    }\n",
       "\n",
       "    .dataframe thead th {\n",
       "        text-align: right;\n",
       "    }\n",
       "</style>\n",
       "<table border=\"1\" class=\"dataframe\">\n",
       "  <thead>\n",
       "    <tr style=\"text-align: right;\">\n",
       "      <th></th>\n",
       "      <th>iter</th>\n",
       "      <th>-ELBO</th>\n",
       "      <th>gain</th>\n",
       "      <th>pi_1</th>\n",
       "      <th>lamda_1</th>\n",
       "      <th>MCC</th>\n",
       "      <th>Recall</th>\n",
       "      <th>Precision</th>\n",
       "      <th>FN</th>\n",
       "      <th>TP</th>\n",
       "      <th>TN</th>\n",
       "      <th>FP</th>\n",
       "    </tr>\n",
       "  </thead>\n",
       "  <tbody>\n",
       "    <tr>\n",
       "      <th>FL_5555_6684_1p3OD_atten_noHysteresis_0p5_prob</th>\n",
       "      <td>29900.0</td>\n",
       "      <td>27305760.0</td>\n",
       "      <td>1.769059</td>\n",
       "      <td>0.003534</td>\n",
       "      <td>0.026631</td>\n",
       "      <td>0.389858</td>\n",
       "      <td>0.163389</td>\n",
       "      <td>0.947368</td>\n",
       "      <td>553.0</td>\n",
       "      <td>108.0</td>\n",
       "      <td>33744.0</td>\n",
       "      <td>6.0</td>\n",
       "    </tr>\n",
       "    <tr>\n",
       "      <th>FL_4445_5554_1p1OD_atten_noHysteresis_0p5_prob</th>\n",
       "      <td>29900.0</td>\n",
       "      <td>20433688.0</td>\n",
       "      <td>2.877008</td>\n",
       "      <td>0.014074</td>\n",
       "      <td>0.027418</td>\n",
       "      <td>0.502883</td>\n",
       "      <td>0.266805</td>\n",
       "      <td>0.992268</td>\n",
       "      <td>1058.0</td>\n",
       "      <td>385.0</td>\n",
       "      <td>23013.0</td>\n",
       "      <td>3.0</td>\n",
       "    </tr>\n",
       "    <tr>\n",
       "      <th>FL_3339_4444_0p8OD_atten_noHysteresis_0p5_prob</th>\n",
       "      <td>29900.0</td>\n",
       "      <td>25251286.0</td>\n",
       "      <td>5.252812</td>\n",
       "      <td>0.023329</td>\n",
       "      <td>0.002412</td>\n",
       "      <td>0.721728</td>\n",
       "      <td>0.591700</td>\n",
       "      <td>0.894737</td>\n",
       "      <td>305.0</td>\n",
       "      <td>442.0</td>\n",
       "      <td>26305.0</td>\n",
       "      <td>52.0</td>\n",
       "    </tr>\n",
       "    <tr>\n",
       "      <th>FL_2226_3338_0p6OD_atten_noHysteresis_0p5_prob</th>\n",
       "      <td>29900.0</td>\n",
       "      <td>31451082.0</td>\n",
       "      <td>6.725665</td>\n",
       "      <td>0.073904</td>\n",
       "      <td>0.008817</td>\n",
       "      <td>0.927197</td>\n",
       "      <td>0.890618</td>\n",
       "      <td>0.973711</td>\n",
       "      <td>232.0</td>\n",
       "      <td>1889.0</td>\n",
       "      <td>33878.0</td>\n",
       "      <td>51.0</td>\n",
       "    </tr>\n",
       "    <tr>\n",
       "      <th>FL_1118_2225_0p3OD_atten_noHysteresis_0p5_prob</th>\n",
       "      <td>29900.0</td>\n",
       "      <td>36758332.0</td>\n",
       "      <td>6.801042</td>\n",
       "      <td>0.042468</td>\n",
       "      <td>0.017617</td>\n",
       "      <td>0.941185</td>\n",
       "      <td>0.974702</td>\n",
       "      <td>0.910987</td>\n",
       "      <td>17.0</td>\n",
       "      <td>655.0</td>\n",
       "      <td>35391.0</td>\n",
       "      <td>64.0</td>\n",
       "    </tr>\n",
       "    <tr>\n",
       "      <th>FL_1_1117_0OD_atten_noHysteresis_0p5_prob</th>\n",
       "      <td>29900.0</td>\n",
       "      <td>44042968.0</td>\n",
       "      <td>6.901953</td>\n",
       "      <td>0.040881</td>\n",
       "      <td>0.093299</td>\n",
       "      <td>0.880256</td>\n",
       "      <td>0.980422</td>\n",
       "      <td>0.793902</td>\n",
       "      <td>13.0</td>\n",
       "      <td>651.0</td>\n",
       "      <td>41700.0</td>\n",
       "      <td>169.0</td>\n",
       "    </tr>\n",
       "  </tbody>\n",
       "</table>\n",
       "</div>"
      ],
      "text/plain": [
       "0                                                  iter       -ELBO      gain  \\\n",
       "FL_5555_6684_1p3OD_atten_noHysteresis_0p5_prob  29900.0  27305760.0  1.769059   \n",
       "FL_4445_5554_1p1OD_atten_noHysteresis_0p5_prob  29900.0  20433688.0  2.877008   \n",
       "FL_3339_4444_0p8OD_atten_noHysteresis_0p5_prob  29900.0  25251286.0  5.252812   \n",
       "FL_2226_3338_0p6OD_atten_noHysteresis_0p5_prob  29900.0  31451082.0  6.725665   \n",
       "FL_1118_2225_0p3OD_atten_noHysteresis_0p5_prob  29900.0  36758332.0  6.801042   \n",
       "FL_1_1117_0OD_atten_noHysteresis_0p5_prob       29900.0  44042968.0  6.901953   \n",
       "\n",
       "0                                                   pi_1   lamda_1       MCC  \\\n",
       "FL_5555_6684_1p3OD_atten_noHysteresis_0p5_prob  0.003534  0.026631  0.389858   \n",
       "FL_4445_5554_1p1OD_atten_noHysteresis_0p5_prob  0.014074  0.027418  0.502883   \n",
       "FL_3339_4444_0p8OD_atten_noHysteresis_0p5_prob  0.023329  0.002412  0.721728   \n",
       "FL_2226_3338_0p6OD_atten_noHysteresis_0p5_prob  0.073904  0.008817  0.927197   \n",
       "FL_1118_2225_0p3OD_atten_noHysteresis_0p5_prob  0.042468  0.017617  0.941185   \n",
       "FL_1_1117_0OD_atten_noHysteresis_0p5_prob       0.040881  0.093299  0.880256   \n",
       "\n",
       "0                                                 Recall  Precision      FN  \\\n",
       "FL_5555_6684_1p3OD_atten_noHysteresis_0p5_prob  0.163389   0.947368   553.0   \n",
       "FL_4445_5554_1p1OD_atten_noHysteresis_0p5_prob  0.266805   0.992268  1058.0   \n",
       "FL_3339_4444_0p8OD_atten_noHysteresis_0p5_prob  0.591700   0.894737   305.0   \n",
       "FL_2226_3338_0p6OD_atten_noHysteresis_0p5_prob  0.890618   0.973711   232.0   \n",
       "FL_1118_2225_0p3OD_atten_noHysteresis_0p5_prob  0.974702   0.910987    17.0   \n",
       "FL_1_1117_0OD_atten_noHysteresis_0p5_prob       0.980422   0.793902    13.0   \n",
       "\n",
       "0                                                   TP       TN     FP  \n",
       "FL_5555_6684_1p3OD_atten_noHysteresis_0p5_prob   108.0  33744.0    6.0  \n",
       "FL_4445_5554_1p1OD_atten_noHysteresis_0p5_prob   385.0  23013.0    3.0  \n",
       "FL_3339_4444_0p8OD_atten_noHysteresis_0p5_prob   442.0  26305.0   52.0  \n",
       "FL_2226_3338_0p6OD_atten_noHysteresis_0p5_prob  1889.0  33878.0   51.0  \n",
       "FL_1118_2225_0p3OD_atten_noHysteresis_0p5_prob   655.0  35391.0   64.0  \n",
       "FL_1_1117_0OD_atten_noHysteresis_0p5_prob        651.0  41700.0  169.0  "
      ]
     },
     "execution_count": 15,
     "metadata": {},
     "output_type": "execute_result"
    }
   ],
   "source": [
    "scores_v1p13 = pd.DataFrame(data=results).T.drop(columns=[float(\"nan\"), \"pi_0\", \"lamda_0\", \"width_mode_0\", \"width_size_0\"])\n",
    "scores_v1p13"
   ]
  },
  {
   "cell_type": "code",
   "execution_count": 16,
   "metadata": {},
   "outputs": [
    {
     "data": {
      "text/plain": [
       "array([0.1633888 , 0.26680527, 0.59170013, 0.89061763, 0.97470238,\n",
       "       0.98042169])"
      ]
     },
     "execution_count": 16,
     "metadata": {},
     "output_type": "execute_result"
    }
   ],
   "source": [
    "scores_v1p13[\"Recall\"].values"
   ]
  },
  {
   "cell_type": "code",
   "execution_count": 160,
   "metadata": {},
   "outputs": [
    {
     "data": {
      "text/html": [
       "<div>\n",
       "<style scoped>\n",
       "    .dataframe tbody tr th:only-of-type {\n",
       "        vertical-align: middle;\n",
       "    }\n",
       "\n",
       "    .dataframe tbody tr th {\n",
       "        vertical-align: top;\n",
       "    }\n",
       "\n",
       "    .dataframe thead th {\n",
       "        text-align: right;\n",
       "    }\n",
       "</style>\n",
       "<table border=\"1\" class=\"dataframe\">\n",
       "  <thead>\n",
       "    <tr style=\"text-align: right;\">\n",
       "      <th></th>\n",
       "      <th>spMCC</th>\n",
       "      <th>spRecall</th>\n",
       "      <th>spPrecision</th>\n",
       "    </tr>\n",
       "  </thead>\n",
       "  <tbody>\n",
       "    <tr>\n",
       "      <th>FL_5555_6684_1p3OD_atten_noHysteresis_0p5_prob</th>\n",
       "      <td>0.426138</td>\n",
       "      <td>0.211800</td>\n",
       "      <td>0.875000</td>\n",
       "    </tr>\n",
       "    <tr>\n",
       "      <th>FL_4445_5554_1p1OD_atten_noHysteresis_0p5_prob</th>\n",
       "      <td>0.480272</td>\n",
       "      <td>0.244629</td>\n",
       "      <td>0.988796</td>\n",
       "    </tr>\n",
       "    <tr>\n",
       "      <th>FL_3339_4444_0p8OD_atten_noHysteresis_0p5_prob</th>\n",
       "      <td>0.674511</td>\n",
       "      <td>0.514056</td>\n",
       "      <td>0.901408</td>\n",
       "    </tr>\n",
       "    <tr>\n",
       "      <th>FL_2226_3338_0p6OD_atten_noHysteresis_0p5_prob</th>\n",
       "      <td>0.893359</td>\n",
       "      <td>0.857614</td>\n",
       "      <td>0.942976</td>\n",
       "    </tr>\n",
       "    <tr>\n",
       "      <th>FL_1118_2225_0p3OD_atten_noHysteresis_0p5_prob</th>\n",
       "      <td>0.910230</td>\n",
       "      <td>0.962798</td>\n",
       "      <td>0.863818</td>\n",
       "    </tr>\n",
       "    <tr>\n",
       "      <th>FL_1_1117_0OD_atten_noHysteresis_0p5_prob</th>\n",
       "      <td>0.840818</td>\n",
       "      <td>0.980422</td>\n",
       "      <td>0.725753</td>\n",
       "    </tr>\n",
       "  </tbody>\n",
       "</table>\n",
       "</div>"
      ],
      "text/plain": [
       "                                                   spMCC  spRecall  \\\n",
       "FL_5555_6684_1p3OD_atten_noHysteresis_0p5_prob  0.426138  0.211800   \n",
       "FL_4445_5554_1p1OD_atten_noHysteresis_0p5_prob  0.480272  0.244629   \n",
       "FL_3339_4444_0p8OD_atten_noHysteresis_0p5_prob  0.674511  0.514056   \n",
       "FL_2226_3338_0p6OD_atten_noHysteresis_0p5_prob  0.893359  0.857614   \n",
       "FL_1118_2225_0p3OD_atten_noHysteresis_0p5_prob  0.910230  0.962798   \n",
       "FL_1_1117_0OD_atten_noHysteresis_0p5_prob       0.840818  0.980422   \n",
       "\n",
       "                                                spPrecision  \n",
       "FL_5555_6684_1p3OD_atten_noHysteresis_0p5_prob     0.875000  \n",
       "FL_4445_5554_1p1OD_atten_noHysteresis_0p5_prob     0.988796  \n",
       "FL_3339_4444_0p8OD_atten_noHysteresis_0p5_prob     0.901408  \n",
       "FL_2226_3338_0p6OD_atten_noHysteresis_0p5_prob     0.942976  \n",
       "FL_1118_2225_0p3OD_atten_noHysteresis_0p5_prob     0.863818  \n",
       "FL_1_1117_0OD_atten_noHysteresis_0p5_prob          0.725753  "
      ]
     },
     "execution_count": 160,
     "metadata": {},
     "output_type": "execute_result"
    }
   ],
   "source": [
    "scores_sp = pd.DataFrame(data={\"spMCC\": [matthews_corrcoef(true_labels[name][\"z\"][true_labels[name][\"z\"]<2], true_labels[name][\"spotpicker\"][true_labels[name][\"z\"]<2]) for name in names],\n",
    "                   \"spRecall\": [recall_score(true_labels[name][\"z\"][true_labels[name][\"z\"]<2], true_labels[name][\"spotpicker\"][true_labels[name][\"z\"]<2]) for name in names],\n",
    "                   \"spPrecision\": [precision_score(true_labels[name][\"z\"][true_labels[name][\"z\"]<2], true_labels[name][\"spotpicker\"][true_labels[name][\"z\"]<2]) for name in names],\n",
    "                    },\n",
    "             index=names)\n",
    "scores_sp"
   ]
  },
  {
   "cell_type": "code",
   "execution_count": 161,
   "metadata": {},
   "outputs": [
    {
     "data": {
      "image/png": "[encoded data removed]",
      "text/plain": [
       "<Figure size 720x576 with 2 Axes>"
      ]
     },
     "metadata": {
      "needs_background": "light"
     },
     "output_type": "display_data"
    }
   ],
   "source": [
    "plt.figure(figsize=(10,8))\n",
    "\n",
    "plt.subplot(221)\n",
    "plt.plot(snr, scores_v1p13[\"MCC\"], \"o-\", label=\"MCC\")\n",
    "plt.plot(snr, scores_v1p13[\"Recall\"], \"o-\", label=\"Recall\")\n",
    "plt.plot(snr, scores_v1p13[\"Precision\"], \"o-\", label=\"Precision\")\n",
    "\n",
    "plt.ylim(0,1.05)\n",
    "plt.xlim(0,1)\n",
    "plt.xlabel(r\"S/N\", fontsize=20)\n",
    "plt.ylabel(r\"Accuracy\", fontsize=20)\n",
    "plt.title(r\"Bayesian analysis\", fontsize=20)\n",
    "\n",
    "plt.gca().axes.get_xaxis().set_ticks(np.arange(6)*0.6)\n",
    "plt.gca().axes.get_yaxis().set_ticks(np.arange(6)*0.2)\n",
    "plt.xticks(size=20)\n",
    "plt.yticks(size=20)\n",
    "plt.legend(fontsize=16)\n",
    "\n",
    "plt.subplot(222)\n",
    "plt.plot(snr, scores_sp[\"spMCC\"], \"o--\", label=\"MCC\")\n",
    "plt.plot(snr, scores_v1p13[\"MCC\"], \"o-\", color=\"C0\", label=\"MCC (Bayesian)\")\n",
    "plt.plot(snr, scores_sp[\"spRecall\"], \"o--\", label=\"Recall\")\n",
    "plt.plot(snr, scores_sp[\"spPrecision\"], \"o--\", label=\"Precision\")\n",
    "plt.ylim(0,1.05)\n",
    "plt.xlim(0,1)\n",
    "plt.xlabel(r\"S/N\", fontsize=20)\n",
    "plt.ylabel(r\"Accuracy\", fontsize=20)\n",
    "plt.title(r\"Heuristic (spotpicker) analysis\", fontsize=20)\n",
    "\n",
    "plt.gca().axes.get_xaxis().set_ticks(np.arange(6)*0.6)\n",
    "plt.gca().axes.get_yaxis().set_ticks(np.arange(6)*0.2)\n",
    "plt.xticks(size=20)\n",
    "plt.yticks(size=20)\n",
    "plt.legend(fontsize=16)\n",
    "\n",
    "\n",
    "plt.tight_layout()\n",
    "plt.show()"
   ]
  },
  {
   "cell_type": "code",
   "execution_count": 76,
   "metadata": {},
   "outputs": [
    {
     "data": {
      "image/png": "[encoded data removed]",
      "text/plain": [
       "<Figure size 1080x1080 with 6 Axes>"
      ]
     },
     "metadata": {
      "needs_background": "light"
     },
     "output_type": "display_data"
    }
   ],
   "source": [
    "plt.figure(figsize=(15,15))\n",
    "for i, name in enumerate(names):\n",
    "    plt.subplot(4, 4, i+1)\n",
    "    plt.hist(predictions[name][\"z_prob\"].ravel(), bins=50, density=True, alpha=0.7)\n",
    "    plt.xlim(-0.03, 1.03)\n",
    "    #plt.ylim(0, 10)\n",
    "    plt.yscale('log', nonpositive='clip')\n",
    "    #plt.gca().axes.get_xaxis().set_ticks([0.8, 0.9, 1])\n",
    "    #plt.gca().axes.get_yaxis().set_ticks(np.arange(6)*0.2)\n",
    "    plt.xticks(size=20)\n",
    "    plt.yticks(size=20)\n",
    "    plt.xlabel(r\"p($z$)\", fontsize=20)\n",
    "    plt.ylabel(r\"density\", fontsize=20)\n",
    "    plt.title(r\"S/N = {}\".format(snr[i]), fontsize=20)\n",
    "\n",
    "plt.tight_layout()\n",
    "plt.show()"
   ]
  },
  {
   "cell_type": "code",
   "execution_count": 4,
   "metadata": {},
   "outputs": [],
   "source": [
    "names = [\"FL_5555_6684_1p3OD_atten_noHysteresis_0p5_prob\", \"FL_4445_5554_1p1OD_atten_noHysteresis_0p5_prob\",\n",
    "         \"FL_3339_4444_0p8OD_atten_noHysteresis_0p5_prob\", \"FL_2226_3338_0p6OD_atten_noHysteresis_0p5_prob\",\n",
    "         \"FL_1118_2225_0p3OD_atten_noHysteresis_0p5_prob\", \"FL_1_1117_0OD_atten_noHysteresis_0p5_prob\"]"
   ]
  },
  {
   "cell_type": "code",
   "execution_count": 5,
   "metadata": {},
   "outputs": [],
   "source": [
    "from cosmos.models import Tracker"
   ]
  },
  {
   "cell_type": "code",
   "execution_count": 6,
   "metadata": {},
   "outputs": [],
   "source": [
    "snrs = []"
   ]
  },
  {
   "cell_type": "code",
   "execution_count": 7,
   "metadata": {},
   "outputs": [],
   "source": [
    "name = names[5]\n",
    "path_data = \"/shared/centaur/data/experimental/attenuated/{}/\".format(name)\n",
    "path_params = \"/shared/centaur/data/experimental/attenuated/{}/runs/tracker/v1.1.3flat/S1/nocontrol/lr0.005/bs10\".format(name)"
   ]
  },
  {
   "cell_type": "code",
   "execution_count": 8,
   "metadata": {},
   "outputs": [],
   "source": [
    "model = Tracker(S=1)\n",
    "model.load(path_data, False, \"cpu\")\n",
    "model.load_parameters(path_params)"
   ]
  },
  {
   "cell_type": "code",
   "execution_count": 9,
   "metadata": {},
   "outputs": [],
   "source": [
    "from pyro.infer import Predictive\n",
    "\n",
    "predictive = Predictive(model.model, guide=model.guide, num_samples=2)"
   ]
  },
  {
   "cell_type": "code",
   "execution_count": 10,
   "metadata": {},
   "outputs": [],
   "source": [
    "samples = predictive()"
   ]
  },
  {
   "cell_type": "code",
   "execution_count": 11,
   "metadata": {},
   "outputs": [
    {
     "data": {
      "text/plain": [
       "dict_keys(['d/background', 'd/theta', 'd/m_0', 'd/height_0', 'd/width_0', 'd/x_0', 'd/y_0', 'd/m_1', 'd/height_1', 'd/width_1', 'd/x_1', 'd/y_1', 'd/data'])"
      ]
     },
     "execution_count": 11,
     "metadata": {},
     "output_type": "execute_result"
    }
   ],
   "source": [
    "samples.keys()"
   ]
  },
  {
   "cell_type": "code",
   "execution_count": 12,
   "metadata": {},
   "outputs": [
    {
     "data": {
      "image/png": "[encoded data removed]",
      "text/plain": [
       "<Figure size 432x288 with 1 Axes>"
      ]
     },
     "metadata": {
      "needs_background": "light"
     },
     "output_type": "display_data"
    }
   ],
   "source": [
    "plt.imshow(samples[\"d/data\"][0, 0, 0].numpy())\n",
    "plt.show()"
   ]
  },
  {
   "cell_type": "code",
   "execution_count": 12,
   "metadata": {},
   "outputs": [],
   "source": [
    "spot = model.data_loc(\n",
    "    pyro.param(\"d/h_loc\").data[0],\n",
    "    pyro.param(\"d/w_mode\").data[0],\n",
    "    pyro.param(\"d/x_mode\").data[0],\n",
    "    pyro.param(\"d/y_mode\").data[0],\n",
    "    torch.arange(model.data.N)[:, None],\n",
    "    torch.arange(model.data.F))"
   ]
  },
  {
   "cell_type": "code",
   "execution_count": 13,
   "metadata": {},
   "outputs": [],
   "source": [
    "signal = spot ** 2 / pyro.param(\"d/h_loc\").data[0, :, :, None, None]\n",
    "signal = signal.sum(dim=(-2,-1))"
   ]
  },
  {
   "cell_type": "code",
   "execution_count": 14,
   "metadata": {},
   "outputs": [
    {
     "data": {
      "text/plain": [
       "tensor(13.0769)"
      ]
     },
     "execution_count": 14,
     "metadata": {},
     "output_type": "execute_result"
    }
   ],
   "source": [
    "model.data.offset.var()"
   ]
  },
  {
   "cell_type": "code",
   "execution_count": 15,
   "metadata": {},
   "outputs": [
    {
     "data": {
      "text/plain": [
       "tensor(21.8066)"
      ]
     },
     "execution_count": 15,
     "metadata": {},
     "output_type": "execute_result"
    }
   ],
   "source": [
    "noise = (pyro.param(\"d/b_loc\").data * pyro.param(\"gain\").item() + model.data.offset.var()).sqrt()\n",
    "noise.mean()"
   ]
  },
  {
   "cell_type": "code",
   "execution_count": 16,
   "metadata": {},
   "outputs": [
    {
     "data": {
      "text/plain": [
       "tensor(21.4995)"
      ]
     },
     "execution_count": 16,
     "metadata": {},
     "output_type": "execute_result"
    }
   ],
   "source": [
    "noise = (pyro.param(\"d/b_loc\").data * pyro.param(\"gain\").item()).sqrt()\n",
    "noise.mean()"
   ]
  },
  {
   "cell_type": "code",
   "execution_count": 17,
   "metadata": {},
   "outputs": [],
   "source": [
    "snr = signal / noise"
   ]
  },
  {
   "cell_type": "code",
   "execution_count": 18,
   "metadata": {},
   "outputs": [],
   "source": [
    "mask = pyro.param(\"d/theta_probs\")[..., 1] > 0.5"
   ]
  },
  {
   "cell_type": "code",
   "execution_count": 19,
   "metadata": {},
   "outputs": [],
   "source": [
    "height = pyro.param(\"d/h_loc\")[0].data[mask]\n",
    "width = pyro.param(\"d/w_mode\")[0].data[mask]\n",
    "x = pyro.param(\"d/x_mode\")[0].data[mask]\n",
    "y = pyro.param(\"d/y_mode\")[0].data[mask]\n",
    "snr = snr[mask]"
   ]
  },
  {
   "cell_type": "code",
   "execution_count": 20,
   "metadata": {},
   "outputs": [
    {
     "data": {
      "image/png": "[encoded data removed]",
      "text/plain": [
       "<Figure size 720x720 with 4 Axes>"
      ]
     },
     "metadata": {
      "needs_background": "light"
     },
     "output_type": "display_data"
    }
   ],
   "source": [
    "plt.figure(figsize=(10,10))\n",
    "plt.subplot(221)\n",
    "plt.hist(height.numpy(), bins=20)\n",
    "\n",
    "plt.subplot(222)\n",
    "plt.hist(width.numpy(), bins=20)\n",
    "\n",
    "plt.subplot(223)\n",
    "plt.hist(x.numpy(), bins=20)\n",
    "\n",
    "plt.subplot(224)\n",
    "plt.hist(snr.numpy(), bins=20)\n",
    "plt.show()"
   ]
  },
  {
   "cell_type": "code",
   "execution_count": 21,
   "metadata": {},
   "outputs": [
    {
     "data": {
      "text/plain": [
       "tensor(2.1416)"
      ]
     },
     "execution_count": 21,
     "metadata": {},
     "output_type": "execute_result"
    }
   ],
   "source": [
    "snr.mean()"
   ]
  },
  {
   "cell_type": "code",
   "execution_count": 22,
   "metadata": {},
   "outputs": [],
   "source": [
    "D = 14\n",
    "\n",
    "rv = dist.MultivariateNormal(\n",
    "    torch.tensor([6.5, 6.5]),\n",
    "    scale_tril=torch.eye(2) * torch.tensor([1.4])[..., None, None])\n",
    "\n",
    "D_range = torch.arange(D, dtype=torch.float)\n",
    "i_pixel, j_pixel = torch.meshgrid(D_range, D_range)\n",
    "ij_pixel = torch.stack((i_pixel, j_pixel), dim=-1)"
   ]
  },
  {
   "cell_type": "code",
   "execution_count": null,
   "metadata": {},
   "outputs": [],
   "source": [
    "# calculate signal-to-noise ratio\n",
    "snr = []\n",
    "for h in heights:\n",
    "    spot = rv.log_prob(ij_pixel).exp() * float(h)\n",
    "    signal = (spot * rv.log_prob(ij_pixel).exp()).sum()\n",
    "    noise = (background * gain).sqrt()\n",
    "    snr.append(float(signal / noise))"
   ]
  }
 ],
 "metadata": {
  "hide_input": false,
  "kernelspec": {
   "display_name": "Python 3",
   "language": "python",
   "name": "python3"
  },
  "language_info": {
   "codemirror_mode": {
    "name": "ipython",
    "version": 3
   },
   "file_extension": ".py",
   "mimetype": "text/x-python",
   "name": "python",
   "nbconvert_exporter": "python",
   "pygments_lexer": "ipython3",
   "version": "3.7.7"
  }
 },
 "nbformat": 4,
 "nbformat_minor": 4
}
