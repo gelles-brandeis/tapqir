{
 "cells": [
  {
   "cell_type": "markdown",
   "metadata": {},
   "source": [
    "## Off-target frequency simulations"
   ]
  },
  {
   "cell_type": "code",
   "execution_count": 1,
   "metadata": {},
   "outputs": [],
   "source": [
    "import numpy as np\n",
    "import pandas as pd\n",
    "import pyro\n",
    "import torch\n",
    "import matplotlib.pyplot as plt\n",
    "from collections import defaultdict\n",
    "from matplotlib.patches import Circle\n",
    "from matplotlib.ticker import FormatStrFormatter\n",
    "from pathlib import Path\n",
    "from pyro.ops.stats import hpdi, quantile\n",
    "\n",
    "from tapqir.models import Cosmos"
   ]
  },
  {
   "cell_type": "markdown",
   "metadata": {},
   "source": [
    "### Load results"
   ]
  },
  {
   "cell_type": "code",
   "execution_count": 2,
   "metadata": {},
   "outputs": [],
   "source": [
    "EXAMLES_DIR = Path.cwd().resolve().parent.parent.parent / \"examples\" / \"data\""
   ]
  },
  {
   "cell_type": "code",
   "execution_count": 3,
   "metadata": {},
   "outputs": [],
   "source": [
    "truth = {}\n",
    "fit = {}\n",
    "predictions = defaultdict(dict)\n",
    "models = {}\n",
    "for data_path in EXAMLES_DIR.iterdir():\n",
    "    if data_path.is_dir() and data_path.name.startswith(\"ratej\"):\n",
    "        # load results\n",
    "        truth[data_path.name] = pd.read_csv(\n",
    "            data_path / \"simulated_params.csv\",\n",
    "            squeeze=True, index_col=0\n",
    "        ).rename(data_path.name)\n",
    "        \n",
    "        param_path = data_path / \"runs/cosmos/v1.1.6/S1/control/lr0.005/bs4/\"\n",
    "        \n",
    "        fit[data_path.name] = pd.read_csv(\n",
    "            param_path / \"global_params.csv\",\n",
    "            squeeze=True,\n",
    "            index_col=0\n",
    "        ).rename(data_path.name)\n",
    "        fit[data_path.name][\"height\"] = truth[data_path.name][\"height\"]\n",
    "        \n",
    "        models[data_path.name] = Cosmos()\n",
    "        models[data_path.name].load(data_path, True, \"cpu\")\n",
    "        models[data_path.name].load_parameters(param_path)\n",
    "        \n",
    "        # calculate ci\n",
    "        mask = torch.from_numpy(models[data_path.name].data.labels[\"z\"])\n",
    "        samples = torch.masked_select(models[data_path.name].z_marginal, mask)\n",
    "        predictions[data_path.name][\"z_masked\"] = samples\n",
    "        predictions[data_path.name][\"z_all\"] = models[data_path.name].z_marginal.flatten()\n",
    "        low, high = hpdi(samples, 0.68)\n",
    "        median = quantile(samples, 0.5)\n",
    "        fit[data_path.name][\"median\"] = median.item()\n",
    "        fit[data_path.name][\"low\"] = low.item()\n",
    "        fit[data_path.name][\"high\"] = high.item()"
   ]
  },
  {
   "cell_type": "code",
   "execution_count": 4,
   "metadata": {},
   "outputs": [
    {
     "data": {
      "text/html": [
       "<div>\n",
       "<style scoped>\n",
       "    .dataframe tbody tr th:only-of-type {\n",
       "        vertical-align: middle;\n",
       "    }\n",
       "\n",
       "    .dataframe tbody tr th {\n",
       "        vertical-align: top;\n",
       "    }\n",
       "\n",
       "    .dataframe thead th {\n",
       "        text-align: right;\n",
       "    }\n",
       "</style>\n",
       "<table border=\"1\" class=\"dataframe\">\n",
       "  <thead>\n",
       "    <tr style=\"text-align: right;\">\n",
       "      <th></th>\n",
       "      <th>gain</th>\n",
       "      <th>probs_z</th>\n",
       "      <th>rate_j</th>\n",
       "      <th>proximity</th>\n",
       "      <th>offset</th>\n",
       "      <th>height</th>\n",
       "      <th>background</th>\n",
       "    </tr>\n",
       "  </thead>\n",
       "  <tbody>\n",
       "    <tr>\n",
       "      <th>ratej1</th>\n",
       "      <td>7.0</td>\n",
       "      <td>0.15</td>\n",
       "      <td>0.01</td>\n",
       "      <td>0.2</td>\n",
       "      <td>90.0</td>\n",
       "      <td>3000.0</td>\n",
       "      <td>150.0</td>\n",
       "    </tr>\n",
       "    <tr>\n",
       "      <th>ratej5</th>\n",
       "      <td>7.0</td>\n",
       "      <td>0.15</td>\n",
       "      <td>0.05</td>\n",
       "      <td>0.2</td>\n",
       "      <td>90.0</td>\n",
       "      <td>3000.0</td>\n",
       "      <td>150.0</td>\n",
       "    </tr>\n",
       "    <tr>\n",
       "      <th>ratej15</th>\n",
       "      <td>7.0</td>\n",
       "      <td>0.15</td>\n",
       "      <td>0.15</td>\n",
       "      <td>0.2</td>\n",
       "      <td>90.0</td>\n",
       "      <td>3000.0</td>\n",
       "      <td>150.0</td>\n",
       "    </tr>\n",
       "    <tr>\n",
       "      <th>ratej50</th>\n",
       "      <td>7.0</td>\n",
       "      <td>0.15</td>\n",
       "      <td>0.50</td>\n",
       "      <td>0.2</td>\n",
       "      <td>90.0</td>\n",
       "      <td>3000.0</td>\n",
       "      <td>150.0</td>\n",
       "    </tr>\n",
       "    <tr>\n",
       "      <th>ratej100</th>\n",
       "      <td>7.0</td>\n",
       "      <td>0.15</td>\n",
       "      <td>1.00</td>\n",
       "      <td>0.2</td>\n",
       "      <td>90.0</td>\n",
       "      <td>3000.0</td>\n",
       "      <td>150.0</td>\n",
       "    </tr>\n",
       "  </tbody>\n",
       "</table>\n",
       "</div>"
      ],
      "text/plain": [
       "          gain  probs_z  rate_j  proximity  offset  height  background\n",
       "ratej1     7.0     0.15    0.01        0.2    90.0  3000.0       150.0\n",
       "ratej5     7.0     0.15    0.05        0.2    90.0  3000.0       150.0\n",
       "ratej15    7.0     0.15    0.15        0.2    90.0  3000.0       150.0\n",
       "ratej50    7.0     0.15    0.50        0.2    90.0  3000.0       150.0\n",
       "ratej100   7.0     0.15    1.00        0.2    90.0  3000.0       150.0"
      ]
     },
     "execution_count": 4,
     "metadata": {},
     "output_type": "execute_result"
    }
   ],
   "source": [
    "truth_df = pd.concat(truth.values(), axis=1).T\n",
    "truth_df = truth_df.sort_values(by=\"rate_j\")\n",
    "truth_df"
   ]
  },
  {
   "cell_type": "code",
   "execution_count": 5,
   "metadata": {},
   "outputs": [
    {
     "data": {
      "text/html": [
       "<div>\n",
       "<style scoped>\n",
       "    .dataframe tbody tr th:only-of-type {\n",
       "        vertical-align: middle;\n",
       "    }\n",
       "\n",
       "    .dataframe tbody tr th {\n",
       "        vertical-align: top;\n",
       "    }\n",
       "\n",
       "    .dataframe thead th {\n",
       "        text-align: right;\n",
       "    }\n",
       "</style>\n",
       "<table border=\"1\" class=\"dataframe\">\n",
       "  <thead>\n",
       "    <tr style=\"text-align: right;\">\n",
       "      <th></th>\n",
       "      <th>-ELBO</th>\n",
       "      <th>proximity_0</th>\n",
       "      <th>gain</th>\n",
       "      <th>probs_z_0</th>\n",
       "      <th>probs_z_1</th>\n",
       "      <th>rate_j</th>\n",
       "      <th>MCC</th>\n",
       "      <th>Recall</th>\n",
       "      <th>Precision</th>\n",
       "      <th>FN</th>\n",
       "      <th>TP</th>\n",
       "      <th>TN</th>\n",
       "      <th>FP</th>\n",
       "      <th>median</th>\n",
       "      <th>low</th>\n",
       "      <th>high</th>\n",
       "    </tr>\n",
       "  </thead>\n",
       "  <tbody>\n",
       "    <tr>\n",
       "      <th>ratej1</th>\n",
       "      <td>4812824.0</td>\n",
       "      <td>0.205962</td>\n",
       "      <td>7.008488</td>\n",
       "      <td>0.842994</td>\n",
       "      <td>0.157006</td>\n",
       "      <td>0.008885</td>\n",
       "      <td>0.998461</td>\n",
       "      <td>1.000000</td>\n",
       "      <td>0.997396</td>\n",
       "      <td>0.0</td>\n",
       "      <td>383.0</td>\n",
       "      <td>2116.0</td>\n",
       "      <td>1.0</td>\n",
       "      <td>0.999654</td>\n",
       "      <td>0.999585</td>\n",
       "      <td>0.999724</td>\n",
       "    </tr>\n",
       "    <tr>\n",
       "      <th>ratej5</th>\n",
       "      <td>4816298.5</td>\n",
       "      <td>0.208851</td>\n",
       "      <td>7.010008</td>\n",
       "      <td>0.844858</td>\n",
       "      <td>0.155142</td>\n",
       "      <td>0.047991</td>\n",
       "      <td>0.996917</td>\n",
       "      <td>0.997389</td>\n",
       "      <td>0.997389</td>\n",
       "      <td>1.0</td>\n",
       "      <td>382.0</td>\n",
       "      <td>2116.0</td>\n",
       "      <td>1.0</td>\n",
       "      <td>0.999394</td>\n",
       "      <td>0.999222</td>\n",
       "      <td>0.999535</td>\n",
       "    </tr>\n",
       "    <tr>\n",
       "      <th>ratej15</th>\n",
       "      <td>4830442.5</td>\n",
       "      <td>0.211684</td>\n",
       "      <td>7.016755</td>\n",
       "      <td>0.846679</td>\n",
       "      <td>0.153321</td>\n",
       "      <td>0.142760</td>\n",
       "      <td>0.987667</td>\n",
       "      <td>0.989556</td>\n",
       "      <td>0.989556</td>\n",
       "      <td>4.0</td>\n",
       "      <td>379.0</td>\n",
       "      <td>2113.0</td>\n",
       "      <td>4.0</td>\n",
       "      <td>0.998818</td>\n",
       "      <td>0.998372</td>\n",
       "      <td>0.999277</td>\n",
       "    </tr>\n",
       "    <tr>\n",
       "      <th>ratej50</th>\n",
       "      <td>4892167.5</td>\n",
       "      <td>0.215065</td>\n",
       "      <td>7.026381</td>\n",
       "      <td>0.852242</td>\n",
       "      <td>0.147758</td>\n",
       "      <td>0.506029</td>\n",
       "      <td>0.955080</td>\n",
       "      <td>0.955614</td>\n",
       "      <td>0.968254</td>\n",
       "      <td>17.0</td>\n",
       "      <td>366.0</td>\n",
       "      <td>2105.0</td>\n",
       "      <td>12.0</td>\n",
       "      <td>0.992079</td>\n",
       "      <td>0.989515</td>\n",
       "      <td>0.997309</td>\n",
       "    </tr>\n",
       "    <tr>\n",
       "      <th>ratej100</th>\n",
       "      <td>4965197.5</td>\n",
       "      <td>0.209334</td>\n",
       "      <td>7.067310</td>\n",
       "      <td>0.855594</td>\n",
       "      <td>0.144406</td>\n",
       "      <td>0.974947</td>\n",
       "      <td>0.934764</td>\n",
       "      <td>0.934726</td>\n",
       "      <td>0.954667</td>\n",
       "      <td>25.0</td>\n",
       "      <td>358.0</td>\n",
       "      <td>2100.0</td>\n",
       "      <td>17.0</td>\n",
       "      <td>0.985250</td>\n",
       "      <td>0.979129</td>\n",
       "      <td>0.993969</td>\n",
       "    </tr>\n",
       "  </tbody>\n",
       "</table>\n",
       "</div>"
      ],
      "text/plain": [
       "              -ELBO  proximity_0      gain  probs_z_0  probs_z_1    rate_j  \\\n",
       "ratej1    4812824.0     0.205962  7.008488   0.842994   0.157006  0.008885   \n",
       "ratej5    4816298.5     0.208851  7.010008   0.844858   0.155142  0.047991   \n",
       "ratej15   4830442.5     0.211684  7.016755   0.846679   0.153321  0.142760   \n",
       "ratej50   4892167.5     0.215065  7.026381   0.852242   0.147758  0.506029   \n",
       "ratej100  4965197.5     0.209334  7.067310   0.855594   0.144406  0.974947   \n",
       "\n",
       "               MCC    Recall  Precision    FN     TP      TN    FP    median  \\\n",
       "ratej1    0.998461  1.000000   0.997396   0.0  383.0  2116.0   1.0  0.999654   \n",
       "ratej5    0.996917  0.997389   0.997389   1.0  382.0  2116.0   1.0  0.999394   \n",
       "ratej15   0.987667  0.989556   0.989556   4.0  379.0  2113.0   4.0  0.998818   \n",
       "ratej50   0.955080  0.955614   0.968254  17.0  366.0  2105.0  12.0  0.992079   \n",
       "ratej100  0.934764  0.934726   0.954667  25.0  358.0  2100.0  17.0  0.985250   \n",
       "\n",
       "               low      high  \n",
       "ratej1    0.999585  0.999724  \n",
       "ratej5    0.999222  0.999535  \n",
       "ratej15   0.998372  0.999277  \n",
       "ratej50   0.989515  0.997309  \n",
       "ratej100  0.979129  0.993969  "
      ]
     },
     "execution_count": 5,
     "metadata": {},
     "output_type": "execute_result"
    }
   ],
   "source": [
    "fit_df = pd.concat(fit.values(), axis=1).T\n",
    "fit_df = fit_df.sort_values(by=\"rate_j\").drop(\n",
    "    [\"width_mean_0\", \"width_size_0\", \"height_scale\", \"height\"],\n",
    "    axis=1\n",
    ")\n",
    "fit_df"
   ]
  },
  {
   "cell_type": "markdown",
   "metadata": {},
   "source": [
    "### Figure 2"
   ]
  },
  {
   "cell_type": "code",
   "execution_count": 6,
   "metadata": {},
   "outputs": [
    {
     "data": {
      "image/png": "[encoded data removed]",
      "text/plain": [
       "<Figure size 72x72 with 1 Axes>"
      ]
     },
     "metadata": {},
     "output_type": "display_data"
    },
    {
     "data": {
      "image/png": "[encoded data removed]",
      "text/plain": [
       "<Figure size 72x72 with 1 Axes>"
      ]
     },
     "metadata": {},
     "output_type": "display_data"
    },
    {
     "data": {
      "image/png": "[encoded data removed]",
      "text/plain": [
       "<Figure size 72x72 with 1 Axes>"
      ]
     },
     "metadata": {},
     "output_type": "display_data"
    }
   ],
   "source": [
    "model = models[\"ratej50\"]\n",
    "n = ontarget = 0\n",
    "frames = [175, 251, 252]\n",
    "\n",
    "for f in frames:\n",
    "    img_ideal = model.data.offset_mean + pyro.param(\"d/b_loc\").data[n, f:f+1, None, None]\n",
    "    gaussian = model.data_loc(\n",
    "        pyro.param(\"d/h_loc\").data[:, n, f:f+1].masked_fill(model.m_probs[:, n, f:f+1] < 0.5, 0.),\n",
    "        pyro.param(\"d/w_mean\").data[:, n, f:f+1],\n",
    "        pyro.param(\"d/x_mean\").data[:, n, f:f+1],\n",
    "        pyro.param(\"d/y_mean\").data[:, n, f:f+1],\n",
    "        n, torch.arange(f,f+1)\n",
    "    )\n",
    "    img_ideal = img_ideal + gaussian.sum(-4)\n",
    "    \n",
    "    plt.figure(figsize=(1., 1.))\n",
    "    plt.imshow(img_ideal[0].numpy(), vmin=230, vmax=380, cmap=\"gray\")\n",
    "    plt.xticks([], [])\n",
    "    plt.yticks([], [])\n",
    "    plt.savefig(f\"/tmp/theta0.png\", dpi=300)\n",
    "    plt.show()"
   ]
  },
  {
   "cell_type": "markdown",
   "metadata": {},
   "source": [
    "### Figure 3"
   ]
  },
  {
   "cell_type": "code",
   "execution_count": 7,
   "metadata": {},
   "outputs": [],
   "source": [
    "model = models[\"ratej50\"]\n",
    "n = ontarget = 0\n",
    "frames = [155, 158, 160, 163, 165, 168, 170, 173, 175]\n",
    "vmin, vmax = model.data.vmin, model.data.vmax"
   ]
  },
  {
   "cell_type": "code",
   "execution_count": 8,
   "metadata": {},
   "outputs": [
    {
     "data": {
      "image/png": "[encoded data removed]",
      "text/plain": [
       "<Figure size 25.2x25.2 with 1 Axes>"
      ]
     },
     "metadata": {
      "needs_background": "light"
     },
     "output_type": "display_data"
    },
    {
     "data": {
      "image/png": "[encoded data removed]",
      "text/plain": [
       "<Figure size 25.2x25.2 with 1 Axes>"
      ]
     },
     "metadata": {
      "needs_background": "light"
     },
     "output_type": "display_data"
    },
    {
     "data": {
      "image/png": "[encoded data removed]",
      "text/plain": [
       "<Figure size 25.2x25.2 with 1 Axes>"
      ]
     },
     "metadata": {
      "needs_background": "light"
     },
     "output_type": "display_data"
    },
    {
     "data": {
      "image/png": "[encoded data removed]",
      "text/plain": [
       "<Figure size 25.2x25.2 with 1 Axes>"
      ]
     },
     "metadata": {
      "needs_background": "light"
     },
     "output_type": "display_data"
    },
    {
     "data": {
      "image/png": "[encoded data removed]",
      "text/plain": [
       "<Figure size 25.2x25.2 with 1 Axes>"
      ]
     },
     "metadata": {
      "needs_background": "light"
     },
     "output_type": "display_data"
    },
    {
     "data": {
      "image/png": "[encoded data removed]",
      "text/plain": [
       "<Figure size 25.2x25.2 with 1 Axes>"
      ]
     },
     "metadata": {
      "needs_background": "light"
     },
     "output_type": "display_data"
    },
    {
     "data": {
      "image/png": "[encoded data removed]",
      "text/plain": [
       "<Figure size 25.2x25.2 with 1 Axes>"
      ]
     },
     "metadata": {
      "needs_background": "light"
     },
     "output_type": "display_data"
    },
    {
     "data": {
      "image/png": "[encoded data removed]",
      "text/plain": [
       "<Figure size 25.2x25.2 with 1 Axes>"
      ]
     },
     "metadata": {
      "needs_background": "light"
     },
     "output_type": "display_data"
    },
    {
     "data": {
      "image/png": "[encoded data removed]",
      "text/plain": [
       "<Figure size 25.2x25.2 with 1 Axes>"
      ]
     },
     "metadata": {
      "needs_background": "light"
     },
     "output_type": "display_data"
    }
   ],
   "source": [
    "for f in frames:\n",
    "    plt.figure(figsize=(0.35, 0.35))\n",
    "    plt.axis(\"off\")\n",
    "    plt.imshow(model.data[ontarget, f].numpy(),\n",
    "               vmin=vmin, vmax=vmax, cmap=\"gray\")\n",
    "    plt.savefig(f\"/tmp/simdna{f}.png\", dpi=600)\n",
    "    plt.show()"
   ]
  },
  {
   "cell_type": "code",
   "execution_count": 9,
   "metadata": {},
   "outputs": [
    {
     "data": {
      "image/png": "[encoded data removed]",
      "text/plain": [
       "<Figure size 25.2x25.2 with 1 Axes>"
      ]
     },
     "metadata": {
      "needs_background": "light"
     },
     "output_type": "display_data"
    },
    {
     "data": {
      "image/png": "[encoded data removed]",
      "text/plain": [
       "<Figure size 25.2x25.2 with 1 Axes>"
      ]
     },
     "metadata": {
      "needs_background": "light"
     },
     "output_type": "display_data"
    },
    {
     "data": {
      "image/png": "[encoded data removed]",
      "text/plain": [
       "<Figure size 25.2x25.2 with 1 Axes>"
      ]
     },
     "metadata": {
      "needs_background": "light"
     },
     "output_type": "display_data"
    },
    {
     "data": {
      "image/png": "[encoded data removed]",
      "text/plain": [
       "<Figure size 25.2x25.2 with 1 Axes>"
      ]
     },
     "metadata": {
      "needs_background": "light"
     },
     "output_type": "display_data"
    },
    {
     "data": {
      "image/png": "[encoded data removed]",
      "text/plain": [
       "<Figure size 25.2x25.2 with 1 Axes>"
      ]
     },
     "metadata": {
      "needs_background": "light"
     },
     "output_type": "display_data"
    },
    {
     "data": {
      "image/png": "[encoded data removed]",
      "text/plain": [
       "<Figure size 25.2x25.2 with 1 Axes>"
      ]
     },
     "metadata": {
      "needs_background": "light"
     },
     "output_type": "display_data"
    },
    {
     "data": {
      "image/png": "[encoded data removed]",
      "text/plain": [
       "<Figure size 25.2x25.2 with 1 Axes>"
      ]
     },
     "metadata": {
      "needs_background": "light"
     },
     "output_type": "display_data"
    },
    {
     "data": {
      "image/png": "[encoded data removed]",
      "text/plain": [
       "<Figure size 25.2x25.2 with 1 Axes>"
      ]
     },
     "metadata": {
      "needs_background": "light"
     },
     "output_type": "display_data"
    },
    {
     "data": {
      "image/png": "[encoded data removed]",
      "text/plain": [
       "<Figure size 25.2x25.2 with 1 Axes>"
      ]
     },
     "metadata": {
      "needs_background": "light"
     },
     "output_type": "display_data"
    }
   ],
   "source": [
    "for f in frames:\n",
    "    fig = plt.figure(figsize=(0.35, 0.35))\n",
    "\n",
    "    plt.imshow(np.ones((model.data.D, model.data.D)),\n",
    "               vmin=0, vmax=1, cmap=\"gray\")\n",
    "    # add patch\n",
    "    for k in range(2):\n",
    "        plt.gca().add_patch(\n",
    "            Circle(\n",
    "                (model.data.target[\"y\"].iloc[n] + model.data.drift[\"dy\"].iloc[f] +\n",
    "                 pyro.param(\"d/y_mean\")[k, n, f].item() + 0.5,\n",
    "                 model.data.target[\"x\"].iloc[n] + model.data.drift[\"dx\"].iloc[f] +\n",
    "                 pyro.param(\"d/x_mean\")[k, n, f].item() + 0.5),\n",
    "                1.5, color=f\"C{k}\", alpha=model.m_probs[k, n, f].item()\n",
    "            )\n",
    "        )\n",
    "    plt.axis(\"off\")\n",
    "    plt.savefig(f\"/tmp/simpoints{f}.png\", dpi=600)\n",
    "    plt.show()"
   ]
  },
  {
   "cell_type": "code",
   "execution_count": 10,
   "metadata": {},
   "outputs": [],
   "source": [
    "f1, f2 = 155, 176\n",
    "\n",
    "model.n = torch.tensor([n])\n",
    "trace = pyro.poutine.trace(model.guide).get_trace()"
   ]
  },
  {
   "cell_type": "code",
   "execution_count": 11,
   "metadata": {},
   "outputs": [
    {
     "data": {
      "image/png": "[encoded data removed]",
      "text/plain": [
       "<Figure size 252x36 with 1 Axes>"
      ]
     },
     "metadata": {
      "needs_background": "light"
     },
     "output_type": "display_data"
    }
   ],
   "source": [
    "plt.figure(figsize=(3.5,0.5))\n",
    "\n",
    "plt.plot(\n",
    "    np.arange(f1, f2),\n",
    "    model.z_probs[:, n, f1:f2].sum(0),\n",
    "    \"o-\", ms=2, lw=0.5, color=\"C2\", label=\"on-target\"\n",
    ")\n",
    "plt.plot(\n",
    "    np.arange(f1, f2),\n",
    "    1 - (1 - model.j_probs[:, n, f1:f2]).prod(0),\n",
    "    \"o-\", ms=2, lw=0.5, color=\"C3\", label=\"off-target\"\n",
    ")\n",
    "plt.xticks([])\n",
    "plt.yticks([0, 0.5, 1], fontsize=8)\n",
    "plt.xlim(f1-0.5, f2-0.5)\n",
    "plt.ylim(-0.15, 1.15)\n",
    "plt.ylabel(r\"$p$\", fontsize=8)\n",
    "plt.gca().yaxis.set_major_formatter(FormatStrFormatter('%g'))\n",
    "\n",
    "plt.savefig(\"/tmp/ratej-p.svg\")\n",
    "plt.show()"
   ]
  },
  {
   "cell_type": "code",
   "execution_count": 12,
   "metadata": {},
   "outputs": [
    {
     "data": {
      "image/png": "[encoded data removed]",
      "text/plain": [
       "<Figure size 252x36 with 1 Axes>"
      ]
     },
     "metadata": {
      "needs_background": "light"
     },
     "output_type": "display_data"
    }
   ],
   "source": [
    "plt.figure(figsize=(3.5,0.5))\n",
    "\n",
    "plt.plot(\n",
    "    np.arange(f1, f2),\n",
    "    model.z_probs[0, n, f1:f2],\n",
    "    \"o-\", ms=2, lw=0.5, color=\"C0\", label=r\"$\\theta=1$\"\n",
    ")\n",
    "plt.plot(\n",
    "    np.arange(f1, f2),\n",
    "    model.z_probs[1, n, f1:f2],\n",
    "    \"o-\", ms=2, lw=0.5, color=\"C1\", label=r\"$\\theta=2$\"\n",
    ")\n",
    "plt.xticks([])\n",
    "plt.yticks([0, 0.5, 1], fontsize=8)\n",
    "plt.xlim(f1-0.5, f2-0.5)\n",
    "plt.ylim(-0.15, 1.15)\n",
    "plt.ylabel(r\"$p(\\theta)$\", fontsize=8)\n",
    "plt.gca().yaxis.set_major_formatter(FormatStrFormatter('%g'))\n",
    "\n",
    "plt.savefig(\"/tmp/ratej-z.svg\")\n",
    "plt.show()"
   ]
  },
  {
   "cell_type": "code",
   "execution_count": 13,
   "metadata": {},
   "outputs": [
    {
     "data": {
      "image/png": "[encoded data removed]",
      "text/plain": [
       "<Figure size 252x36 with 1 Axes>"
      ]
     },
     "metadata": {
      "needs_background": "light"
     },
     "output_type": "display_data"
    }
   ],
   "source": [
    "plt.figure(figsize=(3.5,0.5))\n",
    "\n",
    "plt.plot(\n",
    "    np.arange(f1, f2),\n",
    "    model.m_probs[0, n, f1:f2],\n",
    "    \"o-\", ms=2, lw=0.5, color=\"C0\", label=r\"$m_{1}$\"\n",
    ")\n",
    "plt.plot(\n",
    "    np.arange(f1, f2),\n",
    "    model.m_probs[1, n, f1:f2],\n",
    "    \"o-\", ms=2, lw=0.5, color=\"C1\", label=r\"$m_{2}$\"\n",
    ")\n",
    "plt.xticks([])\n",
    "plt.yticks([0, 0.5, 1], fontsize=8)\n",
    "plt.xlim(f1-0.5, f2-0.5)\n",
    "plt.ylim(-0.15, 1.15)\n",
    "plt.ylabel(r\"$p(m)$\", fontsize=8)\n",
    "plt.gca().yaxis.set_major_formatter(FormatStrFormatter('%g'))\n",
    "\n",
    "plt.savefig(\"/tmp/ratej-m.svg\")\n",
    "plt.show()"
   ]
  },
  {
   "cell_type": "code",
   "execution_count": 14,
   "metadata": {},
   "outputs": [
    {
     "data": {
      "image/png": "[encoded data removed]",
      "text/plain": [
       "<Figure size 252x36 with 1 Axes>"
      ]
     },
     "metadata": {
      "needs_background": "light"
     },
     "output_type": "display_data"
    }
   ],
   "source": [
    "plt.figure(figsize=(3.5,0.5))\n",
    "\n",
    "hpd = hpdi(trace.nodes[\"d/height_0\"][\"fn\"].sample((500,)).data.squeeze(), 0.95, dim=0)\n",
    "mean = trace.nodes[\"d/height_0\"][\"fn\"].mean.data.squeeze()[f1:f2]\n",
    "plt.plot(\n",
    "    np.arange(f1, f2),\n",
    "    mean,\n",
    "    \"o-\", ms=2, lw=0.7, color=\"C0\", label=\"spot 1\"\n",
    ")\n",
    "plt.fill_between(\n",
    "    np.arange(f1, f2),\n",
    "    hpd[0][f1:f2], hpd[1][f1:f2],\n",
    "    alpha=0.15, color=\"C0\"\n",
    ")\n",
    "hpd = hpdi(trace.nodes[\"d/height_1\"][\"fn\"].sample((500,)).data.squeeze(), 0.95, dim=0)\n",
    "mean = trace.nodes[\"d/height_1\"][\"fn\"].mean.data.squeeze()[f1:f2]\n",
    "plt.plot(\n",
    "    np.arange(f1, f2),\n",
    "    mean,\n",
    "    \"o-\", ms=2, lw=0.7, color=\"C1\", label=\"spot 2\"\n",
    ")\n",
    "plt.fill_between(\n",
    "    np.arange(f1, f2),\n",
    "    hpd[0][f1:f2], hpd[1][f1:f2],\n",
    "    alpha=0.15, color=\"C1\"\n",
    ")\n",
    "plt.xticks([])\n",
    "plt.yticks([0, 2000, 4000], fontsize=8)\n",
    "plt.xlim(f1-0.5, f2-0.5)\n",
    "plt.ylim(-500, 4500)\n",
    "plt.ylabel(r\"$h$\", fontsize=8)\n",
    "\n",
    "plt.savefig(\"/tmp/ratej-h.svg\")\n",
    "plt.show()"
   ]
  },
  {
   "cell_type": "code",
   "execution_count": 15,
   "metadata": {},
   "outputs": [
    {
     "data": {
      "image/png": "[encoded data removed]",
      "text/plain": [
       "<Figure size 252x36 with 1 Axes>"
      ]
     },
     "metadata": {
      "needs_background": "light"
     },
     "output_type": "display_data"
    }
   ],
   "source": [
    "plt.figure(figsize=(3.5,0.5))\n",
    "\n",
    "hpd = hpdi(trace.nodes[\"d/x_0\"][\"fn\"].sample((500,)).data.squeeze(), 0.95, dim=0)\n",
    "mean = trace.nodes[\"d/x_0\"][\"fn\"].mean.data.squeeze()[f1:f2]\n",
    "plt.plot(\n",
    "    np.arange(f1, f2),\n",
    "    mean,\n",
    "    \"o-\", ms=2, lw=0.7, color=\"C0\", label=\"spot 1\"\n",
    ")\n",
    "plt.fill_between(\n",
    "    np.arange(f1, f2),\n",
    "    hpd[0][f1:f2], hpd[1][f1:f2],\n",
    "    alpha=0.15, color=\"C0\"\n",
    ")\n",
    "hpd = hpdi(trace.nodes[\"d/x_1\"][\"fn\"].sample((500,)).data.squeeze(), 0.95, dim=0)\n",
    "mean = trace.nodes[\"d/x_1\"][\"fn\"].mean.data.squeeze()[f1:f2]\n",
    "plt.plot(\n",
    "    np.arange(f1, f2),\n",
    "    mean,\n",
    "    \"o-\", ms=2, lw=0.7, color=\"C1\", label=\"spot 2\"\n",
    ")\n",
    "plt.fill_between(\n",
    "    np.arange(f1, f2),\n",
    "    hpd[0][f1:f2], hpd[1][f1:f2],\n",
    "    alpha=0.15, color=\"C1\"\n",
    ")\n",
    "plt.xticks([])\n",
    "plt.yticks([-6, 0, 6], fontsize=8)\n",
    "plt.xlim(f1-0.5, f2-0.5)\n",
    "plt.ylabel(r\"$x$\", fontsize=8)\n",
    "\n",
    "plt.savefig(\"/tmp/ratej-x.svg\")\n",
    "plt.show()"
   ]
  },
  {
   "cell_type": "code",
   "execution_count": 16,
   "metadata": {},
   "outputs": [
    {
     "data": {
      "image/png": "[encoded data removed]",
      "text/plain": [
       "<Figure size 252x36 with 1 Axes>"
      ]
     },
     "metadata": {
      "needs_background": "light"
     },
     "output_type": "display_data"
    }
   ],
   "source": [
    "plt.figure(figsize=(3.5,0.5))\n",
    "\n",
    "hpd = hpdi(trace.nodes[\"d/y_0\"][\"fn\"].sample((500,)).data.squeeze(), 0.95, dim=0)\n",
    "mean = trace.nodes[\"d/y_0\"][\"fn\"].mean.data.squeeze()[f1:f2]\n",
    "plt.plot(\n",
    "    np.arange(f1, f2),\n",
    "    mean,\n",
    "    \"o-\", ms=2, lw=0.7, color=\"C0\", label=\"spot 1\"\n",
    ")\n",
    "plt.fill_between(\n",
    "    np.arange(f1, f2),\n",
    "    hpd[0][f1:f2], hpd[1][f1:f2],\n",
    "    alpha=0.15, color=\"C0\"\n",
    ")\n",
    "hpd = hpdi(trace.nodes[\"d/y_1\"][\"fn\"].sample((500,)).data.squeeze(), 0.95, dim=0)\n",
    "mean = trace.nodes[\"d/y_1\"][\"fn\"].mean.data.squeeze()[f1:f2]\n",
    "plt.plot(\n",
    "    np.arange(f1, f2),\n",
    "    mean,\n",
    "    \"o-\", ms=2, lw=0.7, color=\"C1\", label=\"spot 2\"\n",
    ")\n",
    "plt.fill_between(\n",
    "    np.arange(f1, f2),\n",
    "    hpd[0][f1:f2], hpd[1][f1:f2],\n",
    "    alpha=0.15, color=\"C1\"\n",
    ")\n",
    "plt.xticks([])\n",
    "plt.yticks([-6, 0, 6], fontsize=8)\n",
    "plt.xlim(f1-0.5, f2-0.5)\n",
    "plt.ylabel(r\"$y$\", fontsize=8)\n",
    "\n",
    "plt.savefig(\"/tmp/ratej-y.svg\")\n",
    "plt.show()"
   ]
  },
  {
   "cell_type": "code",
   "execution_count": 17,
   "metadata": {},
   "outputs": [
    {
     "data": {
      "image/png": "[encoded data removed]",
      "text/plain": [
       "<Figure size 252x36 with 1 Axes>"
      ]
     },
     "metadata": {
      "needs_background": "light"
     },
     "output_type": "display_data"
    }
   ],
   "source": [
    "plt.figure(figsize=(3.5,0.5))\n",
    "\n",
    "hpd = hpdi(trace.nodes[\"d/background\"][\"fn\"].sample((500,)).data.squeeze(), 0.95, dim=0)\n",
    "mean = trace.nodes[\"d/background\"][\"fn\"].mean.data.squeeze()[f1:f2]\n",
    "plt.plot(\n",
    "    np.arange(f1, f2),\n",
    "    mean,\n",
    "    \"o-\", ms=2, lw=0.7, color=\"C0\", label=\"spot 1\"\n",
    ")\n",
    "plt.fill_between(\n",
    "    np.arange(f1, f2),\n",
    "    hpd[0][f1:f2], hpd[1][f1:f2],\n",
    "    alpha=0.15, color=\"C0\"\n",
    ")\n",
    "plt.xticks(np.arange(f1, f2+5, 5), fontsize=8)\n",
    "plt.yticks([0, 100, 200], fontsize=8)\n",
    "plt.xlim(f1-0.5, f2-0.5)\n",
    "plt.ylim(0, 230)\n",
    "plt.ylabel(r\"$b$\", fontsize=8)\n",
    "#plt.legend(fontsize=8)\n",
    "plt.xlabel(\"frame #\", fontsize=8)\n",
    "\n",
    "plt.savefig(\"/tmp/ratej-b.svg\")\n",
    "plt.show()"
   ]
  },
  {
   "cell_type": "markdown",
   "metadata": {},
   "source": [
    "### Figure 4"
   ]
  },
  {
   "cell_type": "code",
   "execution_count": 30,
   "metadata": {},
   "outputs": [
    {
     "data": {
      "image/png": "[encoded data removed]",
      "text/plain": [
       "<Figure size 108x108 with 1 Axes>"
      ]
     },
     "metadata": {
      "needs_background": "light"
     },
     "output_type": "display_data"
    },
    {
     "data": {
      "image/png": "[encoded data removed]",
      "text/plain": [
       "<Figure size 108x108 with 1 Axes>"
      ]
     },
     "metadata": {
      "needs_background": "light"
     },
     "output_type": "display_data"
    },
    {
     "data": {
      "image/png": "[encoded data removed]",
      "text/plain": [
       "<Figure size 108x108 with 1 Axes>"
      ]
     },
     "metadata": {
      "needs_background": "light"
     },
     "output_type": "display_data"
    },
    {
     "data": {
      "image/png": "[encoded data removed]",
      "text/plain": [
       "<Figure size 108x108 with 1 Axes>"
      ]
     },
     "metadata": {
      "needs_background": "light"
     },
     "output_type": "display_data"
    },
    {
     "data": {
      "image/png": "[encoded data removed]",
      "text/plain": [
       "<Figure size 108x108 with 1 Axes>"
      ]
     },
     "metadata": {
      "needs_background": "light"
     },
     "output_type": "display_data"
    }
   ],
   "source": [
    "for name in fit_df.index:\n",
    "    plt.figure(figsize=(1.5, 1.5))\n",
    "    plt.hist(predictions[name][\"z_all\"].numpy(),\n",
    "             bins=20, histtype=\"step\", lw=2, color=\"k\",\n",
    "             label=fr\"$\\lambda^j=${truth_df.loc[name, 'rate_j']:.2f}\")\n",
    "    plt.yscale(\"log\")\n",
    "    plt.xlim(-0.05,1.05)\n",
    "    plt.ylim(1e-1, 5e3)\n",
    "    plt.xticks([0, 0.5, 1], fontsize=8)\n",
    "    plt.yticks(fontsize=8)\n",
    "    plt.ylabel(\"counts\", fontsize=8)\n",
    "    plt.xlabel(\"probability\", fontsize=8)\n",
    "    plt.gca().xaxis.set_major_formatter(FormatStrFormatter('%g'))\n",
    "    plt.legend(loc=\"upper center\", fontsize=8)\n",
    "    plt.savefig(f\"/tmp/logdensity-{name}.svg\")\n",
    "    plt.show()"
   ]
  },
  {
   "cell_type": "code",
   "execution_count": 29,
   "metadata": {},
   "outputs": [
    {
     "data": {
      "image/png": "[encoded data removed]",
      "text/plain": [
       "<Figure size 108x108 with 1 Axes>"
      ]
     },
     "metadata": {
      "needs_background": "light"
     },
     "output_type": "display_data"
    },
    {
     "data": {
      "image/png": "[encoded data removed]",
      "text/plain": [
       "<Figure size 108x108 with 1 Axes>"
      ]
     },
     "metadata": {
      "needs_background": "light"
     },
     "output_type": "display_data"
    },
    {
     "data": {
      "image/png": "[encoded data removed]",
      "text/plain": [
       "<Figure size 108x108 with 1 Axes>"
      ]
     },
     "metadata": {
      "needs_background": "light"
     },
     "output_type": "display_data"
    },
    {
     "data": {
      "image/png": "[encoded data removed]",
      "text/plain": [
       "<Figure size 108x108 with 1 Axes>"
      ]
     },
     "metadata": {
      "needs_background": "light"
     },
     "output_type": "display_data"
    },
    {
     "data": {
      "image/png": "[encoded data removed]",
      "text/plain": [
       "<Figure size 108x108 with 1 Axes>"
      ]
     },
     "metadata": {
      "needs_background": "light"
     },
     "output_type": "display_data"
    }
   ],
   "source": [
    "for name in fit_df.index:\n",
    "    plt.figure(figsize=(1.5, 1.5))\n",
    "    plt.hist(predictions[name][\"z_all\"].numpy(),\n",
    "             bins=30, histtype=\"step\", lw=2, color=\"k\",\n",
    "             label=fr\"$\\lambda^j=${truth_df.loc[name, 'rate_j']:.2f}\")\n",
    "    plt.xlim(-0.05,1.05)\n",
    "    plt.ylim(0, 3000)\n",
    "    plt.xticks([0, 0.5, 1], fontsize=8)\n",
    "    plt.yticks(fontsize=8)\n",
    "    plt.ylabel(\"counts\", fontsize=8)\n",
    "    plt.xlabel(\"probability\", fontsize=8)\n",
    "    plt.gca().xaxis.set_major_formatter(FormatStrFormatter('%g'))\n",
    "    plt.legend(loc=\"upper center\", fontsize=8)\n",
    "    plt.savefig(f\"/tmp/density-{name}.svg\")\n",
    "    plt.show()"
   ]
  },
  {
   "cell_type": "code",
   "execution_count": 21,
   "metadata": {},
   "outputs": [
    {
     "data": {
      "image/png": "[encoded data removed]",
      "text/plain": [
       "<Figure size 108x108 with 1 Axes>"
      ]
     },
     "metadata": {
      "needs_background": "light"
     },
     "output_type": "display_data"
    }
   ],
   "source": [
    "plt.figure(figsize=(1.5, 1.5))\n",
    "plt.errorbar(truth_df[\"rate_j\"], fit_df[\"median\"],\n",
    "             yerr=abs(fit_df[[\"low\", \"high\"]].values.T-fit_df[\"median\"].values),\n",
    "             fmt=\"o-\", ms=3, color=\"C7\", mfc=\"k\", mec=\"k\", ecolor=\"k\", capsize=2)\n",
    "plt.xlim(0, 1.03)\n",
    "plt.ylim(0, 1.03)\n",
    "plt.xticks([0, 0.5, 1], fontsize=8)\n",
    "plt.yticks(fontsize=8)\n",
    "plt.xlabel(r\"$\\lambda^j$\", fontsize=8)\n",
    "plt.ylabel(\"probability\", fontsize=8)\n",
    "plt.savefig(\"/tmp/ratej-errorbar.svg\")\n",
    "plt.show()"
   ]
  },
  {
   "cell_type": "code",
   "execution_count": 22,
   "metadata": {},
   "outputs": [
    {
     "data": {
      "image/png": "[encoded data removed]",
      "text/plain": [
       "<Figure size 108x108 with 1 Axes>"
      ]
     },
     "metadata": {
      "needs_background": "light"
     },
     "output_type": "display_data"
    }
   ],
   "source": [
    "plt.figure(figsize=(1.5, 1.5))\n",
    "plt.plot(truth_df[\"rate_j\"], fit_df[\"MCC\"], \"o-\", ms=3, label=\"MCC\")\n",
    "plt.plot(truth_df[\"rate_j\"], fit_df[\"Recall\"], \"o-\", ms=3, label=\"Recall\")\n",
    "plt.plot(truth_df[\"rate_j\"], fit_df[\"Precision\"], \"o-\", ms=3, label=\"Precision\")\n",
    "plt.xlim(0, 1.03)\n",
    "plt.ylim(0, 1.03)\n",
    "plt.xticks([0, 0.5, 1], fontsize=8)\n",
    "plt.yticks(fontsize=8)\n",
    "plt.xlabel(r\"$\\lambda^j$\", fontsize=8)\n",
    "plt.ylabel(\"Accuracy\", fontsize=8)\n",
    "plt.legend(fontsize=8)\n",
    "plt.savefig(\"/tmp/ratej-mcc.svg\")\n",
    "plt.show()"
   ]
  },
  {
   "cell_type": "markdown",
   "metadata": {},
   "source": [
    "### Analysis"
   ]
  },
  {
   "cell_type": "code",
   "execution_count": 28,
   "metadata": {},
   "outputs": [
    {
     "data": {
      "image/png": "[encoded data removed]",
      "text/plain": [
       "<Figure size 144x144 with 1 Axes>"
      ]
     },
     "metadata": {
      "needs_background": "light"
     },
     "output_type": "display_data"
    }
   ],
   "source": [
    "plt.figure(figsize=(2, 2))\n",
    "plt.plot(truth_df[\"rate_j\"].sort_values(), truth_df[\"gain\"].sort_values(), \"k--\")\n",
    "plt.scatter(truth_df[\"rate_j\"], fit_df[\"gain\"], s=20)\n",
    "plt.ylim(0, 20)\n",
    "plt.xticks(fontsize=8)\n",
    "plt.yticks(fontsize=8)\n",
    "plt.xlabel(r\"$\\lambda^j$ (simulated)\", fontsize=8)\n",
    "plt.ylabel(\"gain (fitted)\", fontsize=8)\n",
    "plt.show()"
   ]
  },
  {
   "cell_type": "code",
   "execution_count": 27,
   "metadata": {},
   "outputs": [
    {
     "data": {
      "image/png": "[encoded data removed]",
      "text/plain": [
       "<Figure size 144x144 with 1 Axes>"
      ]
     },
     "metadata": {
      "needs_background": "light"
     },
     "output_type": "display_data"
    }
   ],
   "source": [
    "plt.figure(figsize=(2, 2))\n",
    "plt.plot(truth_df[\"rate_j\"].sort_values(), truth_df[\"probs_z\"].sort_values(), \"k--\")\n",
    "plt.scatter(truth_df[\"rate_j\"], fit_df[\"probs_z_1\"], s=20)\n",
    "plt.ylim(0, 1)\n",
    "plt.xticks(fontsize=8)\n",
    "plt.yticks(fontsize=8)\n",
    "plt.xlabel(r\"$\\lambda^j$ (simulated)\", fontsize=8)\n",
    "plt.ylabel(r\"$\\pi^z$ (fitted)\", fontsize=8)\n",
    "plt.show()"
   ]
  },
  {
   "cell_type": "code",
   "execution_count": 25,
   "metadata": {},
   "outputs": [
    {
     "data": {
      "image/png": "[encoded data removed]",
      "text/plain": [
       "<Figure size 144x144 with 1 Axes>"
      ]
     },
     "metadata": {
      "needs_background": "light"
     },
     "output_type": "display_data"
    }
   ],
   "source": [
    "plt.figure(figsize=(2, 2))\n",
    "plt.plot(truth_df[\"rate_j\"].sort_values(), truth_df[\"rate_j\"].sort_values(), \"k--\")\n",
    "plt.scatter(truth_df[\"rate_j\"], fit_df[\"rate_j\"], s=20)\n",
    "plt.ylim(0, 1.)\n",
    "plt.xticks(fontsize=8)\n",
    "plt.yticks(fontsize=8)\n",
    "plt.xlabel(r\"$\\lambda^j$ (simulated)\", fontsize=8)\n",
    "plt.ylabel(r\"$\\lambda^j$ (fitted)\", fontsize=8)\n",
    "plt.show()"
   ]
  },
  {
   "cell_type": "code",
   "execution_count": 26,
   "metadata": {},
   "outputs": [
    {
     "data": {
      "image/png": "[encoded data removed]",
      "text/plain": [
       "<Figure size 144x144 with 1 Axes>"
      ]
     },
     "metadata": {
      "needs_background": "light"
     },
     "output_type": "display_data"
    }
   ],
   "source": [
    "plt.figure(figsize=(2, 2))\n",
    "plt.plot(truth_df[\"rate_j\"].sort_values(), truth_df[\"proximity\"].sort_values(), \"k--\")\n",
    "plt.scatter(truth_df[\"rate_j\"], fit_df[\"proximity_0\"], s=20)\n",
    "plt.ylim(0., 0.6)\n",
    "plt.xticks(fontsize=8)\n",
    "plt.yticks(fontsize=8)\n",
    "plt.xlabel(r\"$\\lambda^j$ (simulated)\", fontsize=8)\n",
    "plt.ylabel(r\"$\\sigma^{xy}$ (fitted)\", fontsize=8)\n",
    "plt.show()"
   ]
  },
  {
   "cell_type": "code",
   "execution_count": null,
   "metadata": {},
   "outputs": [],
   "source": []
  }
 ],
 "metadata": {
  "hide_input": false,
  "kernelspec": {
   "display_name": "Python 3",
   "language": "python",
   "name": "python3"
  },
  "language_info": {
   "codemirror_mode": {
    "name": "ipython",
    "version": 3
   },
   "file_extension": ".py",
   "mimetype": "text/x-python",
   "name": "python",
   "nbconvert_exporter": "python",
   "pygments_lexer": "ipython3",
   "version": "3.9.1"
  },
  "toc": {
   "base_numbering": 1,
   "nav_menu": {},
   "number_sections": true,
   "sideBar": true,
   "skip_h1_title": false,
   "title_cell": "Table of Contents",
   "title_sidebar": "Contents",
   "toc_cell": false,
   "toc_position": {},
   "toc_section_display": true,
   "toc_window_display": true
  }
 },
 "nbformat": 4,
 "nbformat_minor": 4
}
