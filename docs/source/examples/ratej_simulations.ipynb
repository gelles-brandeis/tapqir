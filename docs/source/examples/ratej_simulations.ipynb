{
 "cells": [
  {
   "cell_type": "markdown",
   "metadata": {},
   "source": [
    "## Off-target frequency simulations"
   ]
  },
  {
   "cell_type": "code",
   "execution_count": 1,
   "metadata": {},
   "outputs": [],
   "source": [
    "import numpy as np\n",
    "import pandas as pd\n",
    "import pyro\n",
    "import torch\n",
    "import matplotlib.pyplot as plt\n",
    "from collections import defaultdict\n",
    "from matplotlib.ticker import FormatStrFormatter\n",
    "from matplotlib.patches import Rectangle, Circle\n",
    "from pathlib import Path\n",
    "from tapqir.models import Cosmos\n",
    "from tapqir.utils.stats import ci_from_trace"
   ]
  },
  {
   "cell_type": "markdown",
   "metadata": {},
   "source": [
    "### Load results"
   ]
  },
  {
   "cell_type": "code",
   "execution_count": 2,
   "metadata": {},
   "outputs": [],
   "source": [
    "EXAMLES_DIR = Path.cwd().resolve().parent.parent.parent / \"examples\" / \"data\""
   ]
  },
  {
   "cell_type": "code",
   "execution_count": 3,
   "metadata": {},
   "outputs": [],
   "source": [
    "truth = {}\n",
    "fit = {}\n",
    "predictions = defaultdict(dict)\n",
    "for data_path in EXAMLES_DIR.iterdir():\n",
    "    if data_path.is_dir() and data_path.name.startswith(\"lamda\"):\n",
    "        # load results\n",
    "        truth[data_path.name] = pd.read_csv(\n",
    "            data_path / \"simulated_params.csv\",\n",
    "            squeeze=True, index_col=0\n",
    "        ).rename(data_path.name)\n",
    "        \n",
    "        param_path = data_path / \"runs/cosmos/v1.1.6/S1/control/lr0.005/bs4/\"\n",
    "        \n",
    "        fit[data_path.name] = pd.read_csv(\n",
    "            param_path / \"statistics.csv\",\n",
    "            squeeze=True,\n",
    "            index_col=0\n",
    "        ).rename(data_path.name)\n",
    "        fit[data_path.name][\"lamda\"] = truth[data_path.name][\"lamda\"]\n",
    "        \n",
    "        model = Cosmos()\n",
    "        model.load(data_path, True, \"cpu\")\n",
    "        model.load_parameters(param_path)\n",
    "        mask = torch.from_numpy(model.data.labels[\"z\"])\n",
    "        samples = torch.masked_select(model.z_marginal, mask)\n",
    "        predictions[data_path.name][\"z_masked\"] = samples\n",
    "        predictions[data_path.name][\"z_all\"] = model.z_marginal.flatten()"
   ]
  },
  {
   "cell_type": "code",
   "execution_count": 4,
   "metadata": {},
   "outputs": [
    {
     "data": {
      "text/html": [
       "<div>\n",
       "<style scoped>\n",
       "    .dataframe tbody tr th:only-of-type {\n",
       "        vertical-align: middle;\n",
       "    }\n",
       "\n",
       "    .dataframe tbody tr th {\n",
       "        vertical-align: top;\n",
       "    }\n",
       "\n",
       "    .dataframe thead th {\n",
       "        text-align: right;\n",
       "    }\n",
       "</style>\n",
       "<table border=\"1\" class=\"dataframe\">\n",
       "  <thead>\n",
       "    <tr style=\"text-align: right;\">\n",
       "      <th></th>\n",
       "      <th>width</th>\n",
       "      <th>gain</th>\n",
       "      <th>pi</th>\n",
       "      <th>lamda</th>\n",
       "      <th>proximity</th>\n",
       "      <th>offset</th>\n",
       "      <th>height</th>\n",
       "      <th>background</th>\n",
       "      <th>snr</th>\n",
       "    </tr>\n",
       "  </thead>\n",
       "  <tbody>\n",
       "    <tr>\n",
       "      <th>lamda0.01</th>\n",
       "      <td>1.4</td>\n",
       "      <td>7.0</td>\n",
       "      <td>0.15</td>\n",
       "      <td>0.01</td>\n",
       "      <td>0.2</td>\n",
       "      <td>90.0</td>\n",
       "      <td>3000.0</td>\n",
       "      <td>150.0</td>\n",
       "      <td>3.758899</td>\n",
       "    </tr>\n",
       "    <tr>\n",
       "      <th>lamda0.05</th>\n",
       "      <td>1.4</td>\n",
       "      <td>7.0</td>\n",
       "      <td>0.15</td>\n",
       "      <td>0.05</td>\n",
       "      <td>0.2</td>\n",
       "      <td>90.0</td>\n",
       "      <td>3000.0</td>\n",
       "      <td>150.0</td>\n",
       "      <td>3.758899</td>\n",
       "    </tr>\n",
       "    <tr>\n",
       "      <th>lamda0.15</th>\n",
       "      <td>1.4</td>\n",
       "      <td>7.0</td>\n",
       "      <td>0.15</td>\n",
       "      <td>0.15</td>\n",
       "      <td>0.2</td>\n",
       "      <td>90.0</td>\n",
       "      <td>3000.0</td>\n",
       "      <td>150.0</td>\n",
       "      <td>3.758899</td>\n",
       "    </tr>\n",
       "    <tr>\n",
       "      <th>lamda0.5</th>\n",
       "      <td>1.4</td>\n",
       "      <td>7.0</td>\n",
       "      <td>0.15</td>\n",
       "      <td>0.50</td>\n",
       "      <td>0.2</td>\n",
       "      <td>90.0</td>\n",
       "      <td>3000.0</td>\n",
       "      <td>150.0</td>\n",
       "      <td>3.758899</td>\n",
       "    </tr>\n",
       "    <tr>\n",
       "      <th>lamda1</th>\n",
       "      <td>1.4</td>\n",
       "      <td>7.0</td>\n",
       "      <td>0.15</td>\n",
       "      <td>1.00</td>\n",
       "      <td>0.2</td>\n",
       "      <td>90.0</td>\n",
       "      <td>3000.0</td>\n",
       "      <td>150.0</td>\n",
       "      <td>3.758899</td>\n",
       "    </tr>\n",
       "  </tbody>\n",
       "</table>\n",
       "</div>"
      ],
      "text/plain": [
       "           width  gain    pi  lamda  proximity  offset  height  background  \\\n",
       "lamda0.01    1.4   7.0  0.15   0.01        0.2    90.0  3000.0       150.0   \n",
       "lamda0.05    1.4   7.0  0.15   0.05        0.2    90.0  3000.0       150.0   \n",
       "lamda0.15    1.4   7.0  0.15   0.15        0.2    90.0  3000.0       150.0   \n",
       "lamda0.5     1.4   7.0  0.15   0.50        0.2    90.0  3000.0       150.0   \n",
       "lamda1       1.4   7.0  0.15   1.00        0.2    90.0  3000.0       150.0   \n",
       "\n",
       "                snr  \n",
       "lamda0.01  3.758899  \n",
       "lamda0.05  3.758899  \n",
       "lamda0.15  3.758899  \n",
       "lamda0.5   3.758899  \n",
       "lamda1     3.758899  "
      ]
     },
     "execution_count": 4,
     "metadata": {},
     "output_type": "execute_result"
    }
   ],
   "source": [
    "truth_df = pd.concat(truth.values(), axis=1).T.sort_values(by=\"lamda\")\n",
    "truth_df"
   ]
  },
  {
   "cell_type": "code",
   "execution_count": 5,
   "metadata": {},
   "outputs": [
    {
     "data": {
      "text/html": [
       "<div>\n",
       "<style scoped>\n",
       "    .dataframe tbody tr th:only-of-type {\n",
       "        vertical-align: middle;\n",
       "    }\n",
       "\n",
       "    .dataframe tbody tr th {\n",
       "        vertical-align: top;\n",
       "    }\n",
       "\n",
       "    .dataframe thead th {\n",
       "        text-align: right;\n",
       "    }\n",
       "</style>\n",
       "<table border=\"1\" class=\"dataframe\">\n",
       "  <thead>\n",
       "    <tr style=\"text-align: right;\">\n",
       "      <th></th>\n",
       "      <th>snr</th>\n",
       "      <th>gain_mean</th>\n",
       "      <th>gain_ll</th>\n",
       "      <th>gain_ul</th>\n",
       "      <th>pi_mean</th>\n",
       "      <th>pi_ll</th>\n",
       "      <th>pi_ul</th>\n",
       "      <th>lamda_mean</th>\n",
       "      <th>lamda_ll</th>\n",
       "      <th>lamda_ul</th>\n",
       "      <th>...</th>\n",
       "      <th>Recall</th>\n",
       "      <th>Precision</th>\n",
       "      <th>TN</th>\n",
       "      <th>FP</th>\n",
       "      <th>FN</th>\n",
       "      <th>TP</th>\n",
       "      <th>z_median</th>\n",
       "      <th>z_ll</th>\n",
       "      <th>z_ul</th>\n",
       "      <th>lamda</th>\n",
       "    </tr>\n",
       "  </thead>\n",
       "  <tbody>\n",
       "    <tr>\n",
       "      <th>lamda0.01</th>\n",
       "      <td>3.740959</td>\n",
       "      <td>7.003331</td>\n",
       "      <td>7.003331</td>\n",
       "      <td>7.003331</td>\n",
       "      <td>0.146225</td>\n",
       "      <td>0.146225</td>\n",
       "      <td>0.146225</td>\n",
       "      <td>0.011004</td>\n",
       "      <td>0.011004</td>\n",
       "      <td>0.011004</td>\n",
       "      <td>...</td>\n",
       "      <td>1.000000</td>\n",
       "      <td>1.000000</td>\n",
       "      <td>2142.0</td>\n",
       "      <td>0.0</td>\n",
       "      <td>0.0</td>\n",
       "      <td>358.0</td>\n",
       "      <td>0.999849</td>\n",
       "      <td>0.999711</td>\n",
       "      <td>0.999895</td>\n",
       "      <td>0.01</td>\n",
       "    </tr>\n",
       "    <tr>\n",
       "      <th>lamda0.05</th>\n",
       "      <td>3.748954</td>\n",
       "      <td>6.995525</td>\n",
       "      <td>6.995525</td>\n",
       "      <td>6.995525</td>\n",
       "      <td>0.145051</td>\n",
       "      <td>0.145051</td>\n",
       "      <td>0.145051</td>\n",
       "      <td>0.051432</td>\n",
       "      <td>0.051432</td>\n",
       "      <td>0.051432</td>\n",
       "      <td>...</td>\n",
       "      <td>0.986034</td>\n",
       "      <td>0.994366</td>\n",
       "      <td>2140.0</td>\n",
       "      <td>2.0</td>\n",
       "      <td>5.0</td>\n",
       "      <td>353.0</td>\n",
       "      <td>0.999297</td>\n",
       "      <td>0.998651</td>\n",
       "      <td>0.999506</td>\n",
       "      <td>0.05</td>\n",
       "    </tr>\n",
       "    <tr>\n",
       "      <th>lamda0.15</th>\n",
       "      <td>3.767562</td>\n",
       "      <td>6.999659</td>\n",
       "      <td>6.999659</td>\n",
       "      <td>6.999659</td>\n",
       "      <td>0.147087</td>\n",
       "      <td>0.147087</td>\n",
       "      <td>0.147087</td>\n",
       "      <td>0.136816</td>\n",
       "      <td>0.136816</td>\n",
       "      <td>0.136816</td>\n",
       "      <td>...</td>\n",
       "      <td>0.977654</td>\n",
       "      <td>0.980392</td>\n",
       "      <td>2135.0</td>\n",
       "      <td>7.0</td>\n",
       "      <td>8.0</td>\n",
       "      <td>350.0</td>\n",
       "      <td>0.997925</td>\n",
       "      <td>0.995820</td>\n",
       "      <td>0.998526</td>\n",
       "      <td>0.15</td>\n",
       "    </tr>\n",
       "    <tr>\n",
       "      <th>lamda0.5</th>\n",
       "      <td>3.807789</td>\n",
       "      <td>7.030880</td>\n",
       "      <td>7.030880</td>\n",
       "      <td>7.030880</td>\n",
       "      <td>0.141167</td>\n",
       "      <td>0.141167</td>\n",
       "      <td>0.141167</td>\n",
       "      <td>0.492269</td>\n",
       "      <td>0.492269</td>\n",
       "      <td>0.492269</td>\n",
       "      <td>...</td>\n",
       "      <td>0.949721</td>\n",
       "      <td>0.965909</td>\n",
       "      <td>2130.0</td>\n",
       "      <td>12.0</td>\n",
       "      <td>18.0</td>\n",
       "      <td>340.0</td>\n",
       "      <td>0.992178</td>\n",
       "      <td>0.981530</td>\n",
       "      <td>0.995503</td>\n",
       "      <td>0.50</td>\n",
       "    </tr>\n",
       "    <tr>\n",
       "      <th>lamda1</th>\n",
       "      <td>3.837327</td>\n",
       "      <td>7.041692</td>\n",
       "      <td>7.041692</td>\n",
       "      <td>7.041692</td>\n",
       "      <td>0.134233</td>\n",
       "      <td>0.134233</td>\n",
       "      <td>0.134233</td>\n",
       "      <td>0.974017</td>\n",
       "      <td>0.974017</td>\n",
       "      <td>0.974017</td>\n",
       "      <td>...</td>\n",
       "      <td>0.910615</td>\n",
       "      <td>0.953216</td>\n",
       "      <td>2126.0</td>\n",
       "      <td>16.0</td>\n",
       "      <td>32.0</td>\n",
       "      <td>326.0</td>\n",
       "      <td>0.984635</td>\n",
       "      <td>0.957786</td>\n",
       "      <td>0.991965</td>\n",
       "      <td>1.00</td>\n",
       "    </tr>\n",
       "  </tbody>\n",
       "</table>\n",
       "<p>5 rows × 24 columns</p>\n",
       "</div>"
      ],
      "text/plain": [
       "                snr  gain_mean   gain_ll   gain_ul   pi_mean     pi_ll  \\\n",
       "lamda0.01  3.740959   7.003331  7.003331  7.003331  0.146225  0.146225   \n",
       "lamda0.05  3.748954   6.995525  6.995525  6.995525  0.145051  0.145051   \n",
       "lamda0.15  3.767562   6.999659  6.999659  6.999659  0.147087  0.147087   \n",
       "lamda0.5   3.807789   7.030880  7.030880  7.030880  0.141167  0.141167   \n",
       "lamda1     3.837327   7.041692  7.041692  7.041692  0.134233  0.134233   \n",
       "\n",
       "              pi_ul  lamda_mean  lamda_ll  lamda_ul  ...    Recall  Precision  \\\n",
       "lamda0.01  0.146225    0.011004  0.011004  0.011004  ...  1.000000   1.000000   \n",
       "lamda0.05  0.145051    0.051432  0.051432  0.051432  ...  0.986034   0.994366   \n",
       "lamda0.15  0.147087    0.136816  0.136816  0.136816  ...  0.977654   0.980392   \n",
       "lamda0.5   0.141167    0.492269  0.492269  0.492269  ...  0.949721   0.965909   \n",
       "lamda1     0.134233    0.974017  0.974017  0.974017  ...  0.910615   0.953216   \n",
       "\n",
       "               TN    FP    FN     TP  z_median      z_ll      z_ul  lamda  \n",
       "lamda0.01  2142.0   0.0   0.0  358.0  0.999849  0.999711  0.999895   0.01  \n",
       "lamda0.05  2140.0   2.0   5.0  353.0  0.999297  0.998651  0.999506   0.05  \n",
       "lamda0.15  2135.0   7.0   8.0  350.0  0.997925  0.995820  0.998526   0.15  \n",
       "lamda0.5   2130.0  12.0  18.0  340.0  0.992178  0.981530  0.995503   0.50  \n",
       "lamda1     2126.0  16.0  32.0  326.0  0.984635  0.957786  0.991965   1.00  \n",
       "\n",
       "[5 rows x 24 columns]"
      ]
     },
     "execution_count": 5,
     "metadata": {},
     "output_type": "execute_result"
    }
   ],
   "source": [
    "fit_df = pd.concat(fit.values(), axis=1).T.sort_values(by=\"lamda\")\n",
    "fit_df"
   ]
  },
  {
   "cell_type": "markdown",
   "metadata": {},
   "source": [
    "### Figure 2"
   ]
  },
  {
   "cell_type": "code",
   "execution_count": 6,
   "metadata": {},
   "outputs": [
    {
     "data": {
      "image/png": "[encoded data removed]",
      "text/plain": [
       "<Figure size 72x72 with 1 Axes>"
      ]
     },
     "metadata": {},
     "output_type": "display_data"
    },
    {
     "data": {
      "image/png": "[encoded data removed]",
      "text/plain": [
       "<Figure size 72x72 with 1 Axes>"
      ]
     },
     "metadata": {},
     "output_type": "display_data"
    },
    {
     "data": {
      "image/png": "[encoded data removed]",
      "text/plain": [
       "<Figure size 72x72 with 1 Axes>"
      ]
     },
     "metadata": {},
     "output_type": "display_data"
    }
   ],
   "source": [
    "model = models[\"lamda0.5\"]\n",
    "n = ontarget = 0\n",
    "frames = [175, 251, 252]\n",
    "\n",
    "for f in frames:\n",
    "    img_ideal = model.data.offset_mean + pyro.param(\"d/b_loc\").data[n, f:f+1, None, None]\n",
    "    gaussian = model.data_loc(\n",
    "        pyro.param(\"d/h_loc\").data[:, n, f:f+1].masked_fill(model.m_probs[:, n, f:f+1] < 0.5, 0.),\n",
    "        pyro.param(\"d/w_mean\").data[:, n, f:f+1],\n",
    "        pyro.param(\"d/x_mean\").data[:, n, f:f+1],\n",
    "        pyro.param(\"d/y_mean\").data[:, n, f:f+1],\n",
    "        n, torch.arange(f,f+1)\n",
    "    )\n",
    "    img_ideal = img_ideal + gaussian.sum(-4)\n",
    "    \n",
    "    plt.figure(figsize=(1., 1.))\n",
    "    plt.imshow(img_ideal[0].numpy(), vmin=230, vmax=380, cmap=\"gray\")\n",
    "    plt.xticks([], [])\n",
    "    plt.yticks([], [])\n",
    "    plt.savefig(f\"/tmp/theta0.png\", dpi=300)\n",
    "    plt.show()"
   ]
  },
  {
   "cell_type": "markdown",
   "metadata": {},
   "source": [
    "### Figure 3"
   ]
  },
  {
   "cell_type": "code",
   "execution_count": 51,
   "metadata": {},
   "outputs": [],
   "source": [
    "n = ontarget = 4\n",
    "frames = [155, 158, 160, 163, 165, 168, 170, 173, 175]\n",
    "vmin, vmax = model.data.vmin, model.data.vmax"
   ]
  },
  {
   "cell_type": "code",
   "execution_count": 52,
   "metadata": {},
   "outputs": [
    {
     "data": {
      "image/png": "[encoded data removed]",
      "text/plain": [
       "<Figure size 25.2x25.2 with 1 Axes>"
      ]
     },
     "metadata": {
      "needs_background": "light"
     },
     "output_type": "display_data"
    },
    {
     "data": {
      "image/png": "[encoded data removed]",
      "text/plain": [
       "<Figure size 25.2x25.2 with 1 Axes>"
      ]
     },
     "metadata": {
      "needs_background": "light"
     },
     "output_type": "display_data"
    },
    {
     "data": {
      "image/png": "[encoded data removed]",
      "text/plain": [
       "<Figure size 25.2x25.2 with 1 Axes>"
      ]
     },
     "metadata": {
      "needs_background": "light"
     },
     "output_type": "display_data"
    },
    {
     "data": {
      "image/png": "[encoded data removed]",
      "text/plain": [
       "<Figure size 25.2x25.2 with 1 Axes>"
      ]
     },
     "metadata": {
      "needs_background": "light"
     },
     "output_type": "display_data"
    },
    {
     "data": {
      "image/png": "[encoded data removed]",
      "text/plain": [
       "<Figure size 25.2x25.2 with 1 Axes>"
      ]
     },
     "metadata": {
      "needs_background": "light"
     },
     "output_type": "display_data"
    },
    {
     "data": {
      "image/png": "[encoded data removed]",
      "text/plain": [
       "<Figure size 25.2x25.2 with 1 Axes>"
      ]
     },
     "metadata": {
      "needs_background": "light"
     },
     "output_type": "display_data"
    },
    {
     "data": {
      "image/png": "[encoded data removed]",
      "text/plain": [
       "<Figure size 25.2x25.2 with 1 Axes>"
      ]
     },
     "metadata": {
      "needs_background": "light"
     },
     "output_type": "display_data"
    },
    {
     "data": {
      "image/png": "[encoded data removed]",
      "text/plain": [
       "<Figure size 25.2x25.2 with 1 Axes>"
      ]
     },
     "metadata": {
      "needs_background": "light"
     },
     "output_type": "display_data"
    },
    {
     "data": {
      "image/png": "[encoded data removed]",
      "text/plain": [
       "<Figure size 25.2x25.2 with 1 Axes>"
      ]
     },
     "metadata": {
      "needs_background": "light"
     },
     "output_type": "display_data"
    }
   ],
   "source": [
    "for f in frames:\n",
    "    plt.figure(figsize=(0.35, 0.35))\n",
    "    plt.axis(\"off\")\n",
    "    plt.imshow(model.data[ontarget, f+50].numpy(),\n",
    "               vmin=vmin, vmax=vmax, cmap=\"gray\")\n",
    "    plt.savefig(f\"/tmp/simdna{f}.png\", dpi=600)\n",
    "    plt.show()"
   ]
  },
  {
   "cell_type": "code",
   "execution_count": 53,
   "metadata": {},
   "outputs": [
    {
     "data": {
      "image/png": "[encoded data removed]",
      "text/plain": [
       "<Figure size 25.2x25.2 with 1 Axes>"
      ]
     },
     "metadata": {
      "needs_background": "light"
     },
     "output_type": "display_data"
    },
    {
     "data": {
      "image/png": "[encoded data removed]",
      "text/plain": [
       "<Figure size 25.2x25.2 with 1 Axes>"
      ]
     },
     "metadata": {
      "needs_background": "light"
     },
     "output_type": "display_data"
    },
    {
     "data": {
      "image/png": "[encoded data removed]",
      "text/plain": [
       "<Figure size 25.2x25.2 with 1 Axes>"
      ]
     },
     "metadata": {
      "needs_background": "light"
     },
     "output_type": "display_data"
    },
    {
     "data": {
      "image/png": "[encoded data removed]",
      "text/plain": [
       "<Figure size 25.2x25.2 with 1 Axes>"
      ]
     },
     "metadata": {
      "needs_background": "light"
     },
     "output_type": "display_data"
    },
    {
     "data": {
      "image/png": "[encoded data removed]",
      "text/plain": [
       "<Figure size 25.2x25.2 with 1 Axes>"
      ]
     },
     "metadata": {
      "needs_background": "light"
     },
     "output_type": "display_data"
    },
    {
     "data": {
      "image/png": "[encoded data removed]",
      "text/plain": [
       "<Figure size 25.2x25.2 with 1 Axes>"
      ]
     },
     "metadata": {
      "needs_background": "light"
     },
     "output_type": "display_data"
    },
    {
     "data": {
      "image/png": "[encoded data removed]",
      "text/plain": [
       "<Figure size 25.2x25.2 with 1 Axes>"
      ]
     },
     "metadata": {
      "needs_background": "light"
     },
     "output_type": "display_data"
    },
    {
     "data": {
      "image/png": "[encoded data removed]",
      "text/plain": [
       "<Figure size 25.2x25.2 with 1 Axes>"
      ]
     },
     "metadata": {
      "needs_background": "light"
     },
     "output_type": "display_data"
    },
    {
     "data": {
      "image/png": "[encoded data removed]",
      "text/plain": [
       "<Figure size 25.2x25.2 with 1 Axes>"
      ]
     },
     "metadata": {
      "needs_background": "light"
     },
     "output_type": "display_data"
    }
   ],
   "source": [
    "for f in frames:\n",
    "    fig = plt.figure(figsize=(0.35, 0.35))\n",
    "\n",
    "    plt.imshow(np.ones((model.data.D, model.data.D)),\n",
    "               vmin=0, vmax=1, cmap=\"gray\")\n",
    "    # add patch\n",
    "    for k in range(2):\n",
    "        plt.gca().add_patch(\n",
    "            Circle(\n",
    "                (model.data.target_locs[n, f, 1] +\n",
    "                 pyro.param(\"d/y_mean\")[k, n, f].item() + 0.5,\n",
    "                 model.data.target_locs[n, f, 0] +\n",
    "                 pyro.param(\"d/x_mean\")[k, n, f].item() + 0.5),\n",
    "                1.5, color=f\"C{k}\", alpha=model.m_probs[k, n, f].item()\n",
    "            )\n",
    "        )\n",
    "    plt.axis(\"off\")\n",
    "    plt.savefig(f\"/tmp/simpoints{f}.png\", dpi=600)\n",
    "    plt.show()"
   ]
  },
  {
   "cell_type": "code",
   "execution_count": 54,
   "metadata": {},
   "outputs": [],
   "source": [
    "f1, f2 = 155, 176\n",
    "\n",
    "model.n = torch.tensor([n])\n",
    "trace = pyro.poutine.trace(model.guide).get_trace()"
   ]
  },
  {
   "cell_type": "code",
   "execution_count": 55,
   "metadata": {},
   "outputs": [
    {
     "data": {
      "image/png": "[encoded data removed]",
      "text/plain": [
       "<Figure size 252x36 with 1 Axes>"
      ]
     },
     "metadata": {
      "needs_background": "light"
     },
     "output_type": "display_data"
    }
   ],
   "source": [
    "plt.figure(figsize=(3.5,0.5))\n",
    "\n",
    "plt.plot(\n",
    "    np.arange(f1, f2),\n",
    "    model.z_probs[:, n, f1:f2].sum(0),\n",
    "    \"o-\", ms=2, lw=0.5, color=\"C2\", label=\"on-target\"\n",
    ")\n",
    "#plt.plot(\n",
    "#    np.arange(f1, f2),\n",
    "#    1 - (1 - model.j_probs[:, n, f1:f2]).prod(0),\n",
    "#    \"o-\", ms=2, lw=0.5, color=\"C3\", label=\"off-target\"\n",
    "#)\n",
    "plt.xticks([])\n",
    "plt.yticks([0, 0.5, 1], fontsize=8)\n",
    "plt.xlim(f1-0.5, f2-0.5)\n",
    "plt.ylim(-0.15, 1.15)\n",
    "plt.ylabel(r\"$p(\\mathrm{specific})$\", fontsize=8)\n",
    "plt.gca().yaxis.set_major_formatter(FormatStrFormatter('%g'))\n",
    "\n",
    "plt.savefig(\"/tmp/ratej-p.svg\")\n",
    "plt.show()"
   ]
  },
  {
   "cell_type": "code",
   "execution_count": 56,
   "metadata": {},
   "outputs": [
    {
     "data": {
      "image/png": "[encoded data removed]",
      "text/plain": [
       "<Figure size 252x36 with 1 Axes>"
      ]
     },
     "metadata": {
      "needs_background": "light"
     },
     "output_type": "display_data"
    }
   ],
   "source": [
    "plt.figure(figsize=(3.5,0.5))\n",
    "\n",
    "plt.plot(\n",
    "    np.arange(f1, f2),\n",
    "    model.z_probs[0, n, f1:f2],\n",
    "    \"o-\", ms=2, lw=0.5, color=\"C0\", label=r\"$\\theta=1$\"\n",
    ")\n",
    "plt.plot(\n",
    "    np.arange(f1, f2),\n",
    "    model.z_probs[1, n, f1:f2],\n",
    "    \"o-\", ms=2, lw=0.5, color=\"C1\", label=r\"$\\theta=2$\"\n",
    ")\n",
    "plt.xticks([])\n",
    "plt.yticks([0, 0.5, 1], fontsize=8)\n",
    "plt.xlim(f1-0.5, f2-0.5)\n",
    "plt.ylim(-0.15, 1.15)\n",
    "plt.ylabel(r\"$p(\\theta)$\", fontsize=8)\n",
    "plt.gca().yaxis.set_major_formatter(FormatStrFormatter('%g'))\n",
    "\n",
    "plt.savefig(\"/tmp/ratej-z.svg\")\n",
    "plt.show()"
   ]
  },
  {
   "cell_type": "code",
   "execution_count": 57,
   "metadata": {},
   "outputs": [
    {
     "data": {
      "image/png": "[encoded data removed]",
      "text/plain": [
       "<Figure size 252x36 with 1 Axes>"
      ]
     },
     "metadata": {
      "needs_background": "light"
     },
     "output_type": "display_data"
    }
   ],
   "source": [
    "plt.figure(figsize=(3.5,0.5))\n",
    "\n",
    "plt.plot(\n",
    "    np.arange(f1, f2),\n",
    "    model.m_probs[0, n, f1:f2],\n",
    "    \"o-\", ms=2, lw=0.5, color=\"C0\", label=r\"$m_{1}$\"\n",
    ")\n",
    "plt.plot(\n",
    "    np.arange(f1, f2),\n",
    "    model.m_probs[1, n, f1:f2],\n",
    "    \"o-\", ms=2, lw=0.5, color=\"C1\", label=r\"$m_{2}$\"\n",
    ")\n",
    "plt.xticks([])\n",
    "plt.yticks([0, 0.5, 1], fontsize=8)\n",
    "plt.xlim(f1-0.5, f2-0.5)\n",
    "plt.ylim(-0.15, 1.15)\n",
    "plt.ylabel(r\"$p(m)$\", fontsize=8)\n",
    "plt.gca().yaxis.set_major_formatter(FormatStrFormatter('%g'))\n",
    "\n",
    "plt.savefig(\"/tmp/ratej-m.svg\")\n",
    "plt.show()"
   ]
  },
  {
   "cell_type": "code",
   "execution_count": 58,
   "metadata": {},
   "outputs": [],
   "source": [
    "sites = [\n",
    "    \"d/height_0\",\n",
    "    \"d/height_1\",\n",
    "    \"d/width_0\",\n",
    "    \"d/width_1\",\n",
    "    \"d/x_0\",\n",
    "    \"d/x_1\",\n",
    "    \"d/y_0\",\n",
    "    \"d/y_1\",\n",
    "    \"d/background\",\n",
    "]\n",
    "ci_stats = ci_from_trace(trace, sites)"
   ]
  },
  {
   "cell_type": "code",
   "execution_count": 59,
   "metadata": {},
   "outputs": [
    {
     "data": {
      "image/png": "[encoded data removed]",
      "text/plain": [
       "<Figure size 252x36 with 1 Axes>"
      ]
     },
     "metadata": {
      "needs_background": "light"
     },
     "output_type": "display_data"
    }
   ],
   "source": [
    "plt.figure(figsize=(3.5,0.5))\n",
    "\n",
    "for k in range(2):\n",
    "    plt.fill_between(\n",
    "        np.arange(f1, f2),\n",
    "        ci_stats[f\"d/height_{k}\"][\"ll\"][f1:f2], ci_stats[f\"d/height_{k}\"][\"ul\"][f1:f2],\n",
    "        alpha=0.15, color=f\"C{k}\"\n",
    "    )\n",
    "    plt.plot(\n",
    "        np.arange(f1, f2),\n",
    "        ci_stats[f\"d/height_{k}\"][\"mean\"][f1:f2],\n",
    "        \"o-\", ms=2, lw=0.7, color=f\"C{k}\",\n",
    "    )\n",
    "\n",
    "plt.xticks([])\n",
    "plt.yticks([0, 2000, 4000], fontsize=8)\n",
    "plt.xlim(f1-0.5, f2-0.5)\n",
    "plt.ylim(-500, 4500)\n",
    "plt.ylabel(r\"$h$\", fontsize=8)\n",
    "\n",
    "plt.savefig(\"/tmp/ratej-h.svg\")\n",
    "plt.show()"
   ]
  },
  {
   "cell_type": "code",
   "execution_count": 60,
   "metadata": {},
   "outputs": [
    {
     "data": {
      "image/png": "[encoded data removed]",
      "text/plain": [
       "<Figure size 252x36 with 1 Axes>"
      ]
     },
     "metadata": {
      "needs_background": "light"
     },
     "output_type": "display_data"
    }
   ],
   "source": [
    "plt.figure(figsize=(3.5,0.5))\n",
    "\n",
    "for k in range(2):\n",
    "    plt.fill_between(\n",
    "        np.arange(f1, f2),\n",
    "        ci_stats[f\"d/x_{k}\"][\"ll\"][f1:f2], ci_stats[f\"d/x_{k}\"][\"ul\"][f1:f2],\n",
    "        alpha=0.15, color=f\"C{k}\"\n",
    "    )\n",
    "    plt.plot(\n",
    "        np.arange(f1, f2),\n",
    "        ci_stats[f\"d/x_{k}\"][\"mean\"][f1:f2],\n",
    "        \"o-\", ms=2, lw=0.7, color=f\"C{k}\",\n",
    "    )\n",
    "\n",
    "plt.xticks([])\n",
    "plt.yticks([-6, 0, 6], fontsize=8)\n",
    "plt.xlim(f1-0.5, f2-0.5)\n",
    "plt.ylabel(r\"$x$\", fontsize=8)\n",
    "\n",
    "plt.savefig(\"/tmp/lamda-x.svg\")\n",
    "plt.show()"
   ]
  },
  {
   "cell_type": "code",
   "execution_count": 61,
   "metadata": {},
   "outputs": [
    {
     "data": {
      "image/png": "[encoded data removed]",
      "text/plain": [
       "<Figure size 504x72 with 1 Axes>"
      ]
     },
     "metadata": {
      "needs_background": "light"
     },
     "output_type": "display_data"
    }
   ],
   "source": [
    "plt.figure(figsize=(7,1))\n",
    "\n",
    "for k in range(2):\n",
    "    plt.fill_between(\n",
    "        np.arange(f1, f2),\n",
    "        ci_stats[f\"d/x_{k}\"][\"ll\"][f1:f2], ci_stats[f\"d/x_{k}\"][\"ul\"][f1:f2],\n",
    "        alpha=0.15, color=f\"C{k}\"\n",
    "    )\n",
    "    plt.plot(\n",
    "        np.arange(f1, f2),\n",
    "        ci_stats[f\"d/x_{k}\"][\"mean\"][f1:f2],\n",
    "        \"o-\", ms=2, lw=0.7, color=f\"C{k}\",\n",
    "    )\n",
    "\n",
    "plt.xticks([])\n",
    "plt.yticks([-6, 0, 6], fontsize=8)\n",
    "plt.xlim(f1-0.5, f2-0.5)\n",
    "plt.ylabel(r\"$y$\", fontsize=8)\n",
    "\n",
    "plt.savefig(\"/tmp/lamda-y.svg\")\n",
    "plt.show()"
   ]
  },
  {
   "cell_type": "code",
   "execution_count": 21,
   "metadata": {},
   "outputs": [
    {
     "data": {
      "image/png": "[encoded data removed]",
      "text/plain": [
       "<Figure size 252x36 with 1 Axes>"
      ]
     },
     "metadata": {
      "needs_background": "light"
     },
     "output_type": "display_data"
    }
   ],
   "source": [
    "plt.figure(figsize=(3.5,0.5))\n",
    "\n",
    "plt.plot(\n",
    "    np.arange(f1, f2),\n",
    "    ci_stats[\"d/background\"][\"mean\"][f1:f2],\n",
    "    \"o-\", ms=2, lw=0.7, color=\"k\"\n",
    ")\n",
    "plt.fill_between(\n",
    "    np.arange(f1, f2),\n",
    "    ci_stats[\"d/background\"][\"ll\"][f1:f2], ci_stats[\"d/background\"][\"ul\"][f1:f2],\n",
    "    alpha=0.15, color=\"C0\"\n",
    ")\n",
    "\n",
    "plt.xticks(np.arange(f1, f2+5, 5), fontsize=8)\n",
    "plt.yticks([0, 100, 200], fontsize=8)\n",
    "plt.xlim(f1-0.5, f2-0.5)\n",
    "plt.ylim(0, 230)\n",
    "plt.ylabel(r\"$b$\", fontsize=8)\n",
    "#plt.legend(fontsize=8)\n",
    "plt.xlabel(\"frame #\", fontsize=8)\n",
    "\n",
    "plt.savefig(\"/tmp/lamda-b.svg\")\n",
    "plt.show()"
   ]
  },
  {
   "cell_type": "markdown",
   "metadata": {},
   "source": [
    "### Figure 5"
   ]
  },
  {
   "cell_type": "code",
   "execution_count": 13,
   "metadata": {},
   "outputs": [
    {
     "data": {
      "image/png": "[encoded data removed]",
      "text/plain": [
       "<Figure size 90x90 with 1 Axes>"
      ]
     },
     "metadata": {
      "needs_background": "light"
     },
     "output_type": "display_data"
    },
    {
     "data": {
      "image/png": "[encoded data removed]",
      "text/plain": [
       "<Figure size 90x90 with 1 Axes>"
      ]
     },
     "metadata": {
      "needs_background": "light"
     },
     "output_type": "display_data"
    },
    {
     "data": {
      "image/png": "[encoded data removed]",
      "text/plain": [
       "<Figure size 90x90 with 1 Axes>"
      ]
     },
     "metadata": {
      "needs_background": "light"
     },
     "output_type": "display_data"
    },
    {
     "data": {
      "image/png": "[encoded data removed]",
      "text/plain": [
       "<Figure size 90x90 with 1 Axes>"
      ]
     },
     "metadata": {
      "needs_background": "light"
     },
     "output_type": "display_data"
    },
    {
     "data": {
      "image/png": "[encoded data removed]",
      "text/plain": [
       "<Figure size 90x90 with 1 Axes>"
      ]
     },
     "metadata": {
      "needs_background": "light"
     },
     "output_type": "display_data"
    }
   ],
   "source": [
    "for name in fit_df.index:\n",
    "    fig, ax = plt.subplots(figsize=(1.25, 1.25))\n",
    "    ax.hist(predictions[name][\"z_all\"].numpy(),\n",
    "             bins=np.arange(0, 1.05, 0.05), histtype=\"bar\", lw=1.,\n",
    "             color=\"#dddddd\", edgecolor=\"k\",\n",
    "             label=f\"{truth_df.loc[name, 'snr']:.2f} SNR\")\n",
    "    ax.hist(predictions[name][\"z_masked\"].numpy(),\n",
    "             bins=np.arange(0, 1.05, 0.05), histtype=\"bar\", lw=1.,\n",
    "             color=\"C2\", edgecolor=\"k\",\n",
    "             label=f\"{truth_df.loc[name, 'snr']:.2f} SNR\")\n",
    "    ax.set_yscale(\"log\")\n",
    "    ax.set_xlim(-0.05,1.05)\n",
    "    ax.set_ylim(1e-1, 5e3)\n",
    "    ax.set_xticks([0, 0.5, 1])\n",
    "    ax.tick_params(axis=\"x\", labelsize=8, top=True)\n",
    "    \n",
    "    if name == \"lamda0.01\":\n",
    "        ax.set_ylabel(\"counts\", fontsize=8)\n",
    "        ax.set_yticks([1, 10, 100, 1000])\n",
    "        ax.tick_params(axis=\"y\", labelsize=8)\n",
    "    else:\n",
    "        ax.set_yticks([])\n",
    "        ax.tick_params(axis=\"y\", labelsize=8)\n",
    "    if name == \"lamda0.15\":\n",
    "        ax.set_xlabel(r\"$p(\\mathsf{specific})$\", fontsize=8)\n",
    "    ax.xaxis.set_major_formatter(FormatStrFormatter('%g'))\n",
    "    # plt.legend(loc=\"upper center\", fontsize=8)\n",
    "    plt.savefig(f\"/tmp/logdensity-{name}.svg\")\n",
    "    plt.show()"
   ]
  },
  {
   "cell_type": "code",
   "execution_count": 14,
   "metadata": {},
   "outputs": [
    {
     "data": {
      "image/png": "[encoded data removed]",
      "text/plain": [
       "<Figure size 90x90 with 1 Axes>"
      ]
     },
     "metadata": {
      "needs_background": "light"
     },
     "output_type": "display_data"
    }
   ],
   "source": [
    "fig, ax = plt.subplots(figsize=(1.25, 1.25))\n",
    "ax.errorbar(truth_df[\"lamda\"], fit_df[\"z_median\"],\n",
    "             yerr=abs(fit_df[[\"z_ll\", \"z_ul\"]].values.T-fit_df[\"z_median\"].values),\n",
    "             fmt=\"o-\", ms=3, color=\"k\", mfc=\"C2\", mec=\"C2\", ecolor=\"C2\", capsize=2)\n",
    "ax.set_xlim(0, 1.03)\n",
    "ax.set_ylim(0, 1.03)\n",
    "ax.set_xticks([0, 0.5, 1])\n",
    "ax.set_yticks([0, 0.5, 1])\n",
    "ax.tick_params(axis=\"x\", labelsize=8, top=True)\n",
    "ax.tick_params(axis=\"y\", labelsize=8, right=True)\n",
    "ax.set_xlabel(\"SNR\", fontsize=8)\n",
    "ax.set_ylabel(r\"$p(\\mathsf{specific})$\", fontsize=8)\n",
    "ax.yaxis.set_major_formatter(FormatStrFormatter('%g'))\n",
    "plt.savefig(\"/tmp/lamda-errorbar.svg\")\n",
    "plt.show()"
   ]
  },
  {
   "cell_type": "code",
   "execution_count": 15,
   "metadata": {},
   "outputs": [
    {
     "data": {
      "image/png": "[encoded data removed]",
      "text/plain": [
       "<Figure size 90x90 with 1 Axes>"
      ]
     },
     "metadata": {
      "needs_background": "light"
     },
     "output_type": "display_data"
    }
   ],
   "source": [
    "fig, ax = plt.subplots(figsize=(1.25, 1.25))\n",
    "ax.plot(truth_df[\"lamda\"], fit_df[\"Recall\"], \"o-\", color=\"k\", ms=3, label=\"Recall\")\n",
    "ax.plot(truth_df[\"lamda\"], fit_df[\"Precision\"], \"o-\", color=\"C3\", ms=3, label=\"Precision\")\n",
    "ax.plot(truth_df[\"lamda\"], fit_df[\"MCC\"], \"o-\", color=\"C0\", ms=3, label=\"MCC\")\n",
    "ax.set_xlim(0, 1.03)\n",
    "ax.set_ylim(0, 1.03)\n",
    "ax.set_xticks([0, 0.5, 1])\n",
    "ax.set_yticks([0, 0.5, 1])\n",
    "ax.tick_params(axis=\"x\", labelsize=8, top=True)\n",
    "ax.tick_params(axis=\"y\", labelsize=8, right=True)\n",
    "ax.set_xlabel(r\"$\\lambda$\", fontsize=8)\n",
    "ax.set_ylabel(\"Accuracy\", fontsize=8)\n",
    "ax.yaxis.set_major_formatter(FormatStrFormatter('%g'))\n",
    "plt.legend(fontsize=8)\n",
    "plt.savefig(\"/tmp/lamda-mcc.svg\")\n",
    "plt.show()"
   ]
  },
  {
   "cell_type": "markdown",
   "metadata": {},
   "source": [
    "### Analysis"
   ]
  },
  {
   "cell_type": "code",
   "execution_count": 28,
   "metadata": {},
   "outputs": [
    {
     "data": {
      "image/png": "[encoded data removed]",
      "text/plain": [
       "<Figure size 144x144 with 1 Axes>"
      ]
     },
     "metadata": {
      "needs_background": "light"
     },
     "output_type": "display_data"
    }
   ],
   "source": [
    "plt.figure(figsize=(2, 2))\n",
    "plt.plot(truth_df[\"rate_j\"].sort_values(), truth_df[\"gain\"].sort_values(), \"k--\")\n",
    "plt.scatter(truth_df[\"rate_j\"], fit_df[\"gain\"], s=20)\n",
    "plt.ylim(0, 20)\n",
    "plt.xticks(fontsize=8)\n",
    "plt.yticks(fontsize=8)\n",
    "plt.xlabel(r\"$\\lambda^j$ (simulated)\", fontsize=8)\n",
    "plt.ylabel(\"gain (fitted)\", fontsize=8)\n",
    "plt.show()"
   ]
  },
  {
   "cell_type": "code",
   "execution_count": 27,
   "metadata": {},
   "outputs": [
    {
     "data": {
      "image/png": "[encoded data removed]",
      "text/plain": [
       "<Figure size 144x144 with 1 Axes>"
      ]
     },
     "metadata": {
      "needs_background": "light"
     },
     "output_type": "display_data"
    }
   ],
   "source": [
    "plt.figure(figsize=(2, 2))\n",
    "plt.plot(truth_df[\"rate_j\"].sort_values(), truth_df[\"probs_z\"].sort_values(), \"k--\")\n",
    "plt.scatter(truth_df[\"rate_j\"], fit_df[\"probs_z_1\"], s=20)\n",
    "plt.ylim(0, 1)\n",
    "plt.xticks(fontsize=8)\n",
    "plt.yticks(fontsize=8)\n",
    "plt.xlabel(r\"$\\lambda^j$ (simulated)\", fontsize=8)\n",
    "plt.ylabel(r\"$\\pi^z$ (fitted)\", fontsize=8)\n",
    "plt.show()"
   ]
  },
  {
   "cell_type": "code",
   "execution_count": 25,
   "metadata": {},
   "outputs": [
    {
     "data": {
      "image/png": "[encoded data removed]",
      "text/plain": [
       "<Figure size 144x144 with 1 Axes>"
      ]
     },
     "metadata": {
      "needs_background": "light"
     },
     "output_type": "display_data"
    }
   ],
   "source": [
    "plt.figure(figsize=(2, 2))\n",
    "plt.plot(truth_df[\"rate_j\"].sort_values(), truth_df[\"rate_j\"].sort_values(), \"k--\")\n",
    "plt.scatter(truth_df[\"rate_j\"], fit_df[\"rate_j\"], s=20)\n",
    "plt.ylim(0, 1.)\n",
    "plt.xticks(fontsize=8)\n",
    "plt.yticks(fontsize=8)\n",
    "plt.xlabel(r\"$\\lambda^j$ (simulated)\", fontsize=8)\n",
    "plt.ylabel(r\"$\\lambda^j$ (fitted)\", fontsize=8)\n",
    "plt.show()"
   ]
  },
  {
   "cell_type": "code",
   "execution_count": 26,
   "metadata": {},
   "outputs": [
    {
     "data": {
      "image/png": "[encoded data removed]",
      "text/plain": [
       "<Figure size 144x144 with 1 Axes>"
      ]
     },
     "metadata": {
      "needs_background": "light"
     },
     "output_type": "display_data"
    }
   ],
   "source": [
    "plt.figure(figsize=(2, 2))\n",
    "plt.plot(truth_df[\"rate_j\"].sort_values(), truth_df[\"proximity\"].sort_values(), \"k--\")\n",
    "plt.scatter(truth_df[\"rate_j\"], fit_df[\"proximity_0\"], s=20)\n",
    "plt.ylim(0., 0.6)\n",
    "plt.xticks(fontsize=8)\n",
    "plt.yticks(fontsize=8)\n",
    "plt.xlabel(r\"$\\lambda^j$ (simulated)\", fontsize=8)\n",
    "plt.ylabel(r\"$\\sigma^{xy}$ (fitted)\", fontsize=8)\n",
    "plt.show()"
   ]
  },
  {
   "cell_type": "code",
   "execution_count": null,
   "metadata": {},
   "outputs": [],
   "source": []
  }
 ],
 "metadata": {
  "hide_input": false,
  "kernelspec": {
   "display_name": "Python 3",
   "language": "python",
   "name": "python3"
  },
  "language_info": {
   "codemirror_mode": {
    "name": "ipython",
    "version": 3
   },
   "file_extension": ".py",
   "mimetype": "text/x-python",
   "name": "python",
   "nbconvert_exporter": "python",
   "pygments_lexer": "ipython3",
   "version": "3.8.8"
  },
  "toc": {
   "base_numbering": 1,
   "nav_menu": {},
   "number_sections": true,
   "sideBar": true,
   "skip_h1_title": false,
   "title_cell": "Table of Contents",
   "title_sidebar": "Contents",
   "toc_cell": false,
   "toc_position": {
    "height": "calc(100% - 180px)",
    "left": "10px",
    "top": "150px",
    "width": "408.312px"
   },
   "toc_section_display": true,
   "toc_window_display": true
  }
 },
 "nbformat": 4,
 "nbformat_minor": 4
}
