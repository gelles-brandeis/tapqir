{
 "cells": [
  {
   "cell_type": "code",
   "execution_count": 1,
   "metadata": {},
   "outputs": [],
   "source": [
    "import torch\n",
    "import pyro\n",
    "import pyro.distributions as dist\n",
    "import numpy as np\n",
    "import pandas as pd\n",
    "import os\n",
    "import matplotlib.pyplot as plt\n",
    "from matplotlib.ticker import FormatStrFormatter\n",
    "\n",
    "from tapqir.distributions import AffineBeta, ConvolutedGamma, MaskedNormalKDE, NormalKDE, MultiModal\n",
    "from pyro.ops.stats import quantile\n",
    "from pyro.ops.indexing import Vindex\n",
    "from tapqir.models import Empirical, SpotDetection"
   ]
  },
  {
   "cell_type": "code",
   "execution_count": 2,
   "metadata": {},
   "outputs": [
    {
     "name": "stderr",
     "output_type": "stream",
     "text": [
      "/home/ordabayev/anaconda3/envs/dev/lib/python3.7/_collections_abc.py:841: MatplotlibDeprecationWarning: Support for setting the 'text.latex.preamble' or 'pgf.preamble' rcParam to a list of strings is deprecated since 3.3 and will be removed two minor releases later; set it to a single string instead.\n",
      "  self[key] = other[key]\n"
     ]
    }
   ],
   "source": [
    "import matplotlib as mpl\n",
    "plt.rcParams.update({\n",
    "    \"text.usetex\": True,})\n",
    "    #\"font.family\": \"sans-serif\",\n",
    "    #\"font.sans-serif\": [\"Helvetica\"]})\n",
    "## for Palatino and other serif fonts use:\n",
    "#plt.rcParams.update({\n",
    "#    \"text.usetex\": True,\n",
    "#    \"font.family\": \"serif\",\n",
    "#    \"font.serif\": [\"Palatino\"],\n",
    "#})\n",
    "params= {'text.latex.preamble' : [r'\\usepackage{amsmath}']}\n",
    "plt.rcParams.update(params)"
   ]
  },
  {
   "cell_type": "code",
   "execution_count": 27,
   "metadata": {},
   "outputs": [
    {
     "data": {
      "image/png": "[encoded data removed]",
      "text/plain": [
       "<Figure size 720x216 with 3 Axes>"
      ]
     },
     "metadata": {
      "needs_background": "light"
     },
     "output_type": "display_data"
    }
   ],
   "source": [
    "plt.figure(figsize=(10,3))\n",
    "\n",
    "plt.subplot(131)\n",
    "x = torch.arange(0, 10000)\n",
    "d = dist.HalfNormal(10000)\n",
    "plt.plot(x, d.log_prob(x).exp(), \"-\", label=\"MCC\")\n",
    "plt.ylim(0, 2e-4)\n",
    "plt.xlim(0,)\n",
    "#plt.xlabel(r\"SNR\", fontsize=16)\n",
    "#plt.ylabel(\"Accuracy\", fontsize=16)\n",
    "plt.title(r\"\\[ \\mathrm{h} \\sim \\mathbf{HalfNormal}(10000) \\]\", fontsize=16)\n",
    "\n",
    "#plt.gca().axes.get_xaxis().set_ticks(np.arange(1,6)*0.2)\n",
    "#plt.gca().axes.get_yaxis().set_ticks(np.arange(6)*0.2)\n",
    "plt.gca().xaxis.set_major_formatter(FormatStrFormatter('%g'))\n",
    "plt.gca().yaxis.set_major_formatter(FormatStrFormatter('%g'))\n",
    "#plt.xticks(size=16)\n",
    "#plt.yticks(size=16)\n",
    "#plt.legend(fontsize=16)\n",
    "\n",
    "plt.subplot(132)\n",
    "x = torch.arange(0.75, 2.25, 0.01)\n",
    "d = AffineBeta(1.5, 2., 0.75, 2.25)\n",
    "plt.plot(x, d.log_prob(x).exp(), \"-\", label=\"MCC\")\n",
    "plt.ylim(-0.01, 1)\n",
    "plt.xlim(0.75, 2.25)\n",
    "#plt.xlabel(r\"SNR\", fontsize=16)\n",
    "#plt.ylabel(\"Accuracy\", fontsize=16)\n",
    "plt.title(r\"\\[ \\mathrm{w} \\sim \\mathbf{Uniform}(0.75, 2.25) \\]\", fontsize=16)\n",
    "\n",
    "#plt.gca().axes.get_xaxis().set_ticks(np.arange(1,6)*0.2)\n",
    "#plt.gca().axes.get_yaxis().set_ticks(np.arange(6)*0.2)\n",
    "plt.gca().xaxis.set_major_formatter(FormatStrFormatter('%g'))\n",
    "plt.gca().yaxis.set_major_formatter(FormatStrFormatter('%g'))\n",
    "#plt.xticks(size=16)\n",
    "#plt.yticks(size=16)\n",
    "#plt.legend(fontsize=16)\n",
    "\n",
    "plt.subplot(133)\n",
    "x = torch.arange(-7.5, 7.5, 0.1)\n",
    "d = AffineBeta(0, 2, -7.5, 7.5)\n",
    "d2 = AffineBeta(0, 223, -7.5, 7.5)\n",
    "plt.plot(x, d.log_prob(x).exp(), \"-\", label=\"MCC\")\n",
    "plt.plot(x, d2.log_prob(x).exp(), \"-\", label=\"MCC\")\n",
    "plt.ylim(-0.01, 1)\n",
    "plt.xlim(-7.5, 7.5)\n",
    "#plt.xlabel(r\"SNR\", fontsize=16)\n",
    "#plt.ylabel(\"Accuracy\", fontsize=16)\n",
    "plt.title(r\"\\[ \\mathrm{x} \\sim\" \\\n",
    "          r\"\\begin{cases}\" \\\n",
    "          r\"\\mathbf{AffineBeta}() & f \\\\\" \\\n",
    "          r\"\\mathbf{Uniform}() & t \" \\\n",
    "          r\"\\end{cases} \\]\", fontsize=16)\n",
    "\n",
    "#plt.gca().axes.get_xaxis().set_ticks(np.arange(1,6)*0.2)\n",
    "#plt.gca().axes.get_yaxis().set_ticks(np.arange(6)*0.2)\n",
    "plt.gca().xaxis.set_major_formatter(FormatStrFormatter('%g'))\n",
    "plt.gca().yaxis.set_major_formatter(FormatStrFormatter('%g'))\n",
    "#plt.xticks(size=16)\n",
    "#plt.yticks(size=16)\n",
    "#plt.legend(fontsize=16)\n",
    "\n",
    "#plt.tight_layout()\n",
    "plt.show()"
   ]
  },
  {
   "cell_type": "code",
   "execution_count": 3,
   "metadata": {},
   "outputs": [],
   "source": [
    "from cosmos.models import SpotDetection"
   ]
  },
  {
   "cell_type": "code",
   "execution_count": 4,
   "metadata": {},
   "outputs": [],
   "source": [
    "model = SpotDetection(1, 2)"
   ]
  },
  {
   "cell_type": "code",
   "execution_count": 5,
   "metadata": {},
   "outputs": [],
   "source": [
    "model.load(\"/shared/centaur/data/experimental/nonattenuated/FL_3339_4444_0p8OD/\", False, torch.device(\"cpu\"))"
   ]
  },
  {
   "cell_type": "code",
   "execution_count": 6,
   "metadata": {},
   "outputs": [
    {
     "data": {
      "text/plain": [
       "<BarContainer object of 23 artists>"
      ]
     },
     "execution_count": 6,
     "metadata": {},
     "output_type": "execute_result"
    },
    {
     "data": {
      "image/png": "[encoded data removed]",
      "text/plain": [
       "<Figure size 432x288 with 1 Axes>"
      ]
     },
     "metadata": {
      "needs_background": "light"
     },
     "output_type": "display_data"
    }
   ],
   "source": [
    "plt.bar(model.offset_samples, model.offset_weights, width=1, fill=False, edgecolor=\"C0\")"
   ]
  },
  {
   "cell_type": "code",
   "execution_count": 13,
   "metadata": {},
   "outputs": [],
   "source": [
    "x = torch.tensor([200.])\n",
    "z = (x - model.offset_samples).reshape(1,-1)"
   ]
  },
  {
   "cell_type": "code",
   "execution_count": 14,
   "metadata": {},
   "outputs": [
    {
     "ename": "RuntimeError",
     "evalue": "Expected an input tensor with a last dimension of size 2 representing real + imaginary components, but got input torch.FloatTensor[1, 23]",
     "output_type": "error",
     "traceback": [
      "\u001b[0;31m---------------------------------------------------------------------------\u001b[0m",
      "\u001b[0;31mRuntimeError\u001b[0m                              Traceback (most recent call last)",
      "\u001b[0;32m<ipython-input-14-e35d0822f5d6>\u001b[0m in \u001b[0;36m<module>\u001b[0;34m\u001b[0m\n\u001b[0;32m----> 1\u001b[0;31m \u001b[0mtorch\u001b[0m\u001b[0;34m.\u001b[0m\u001b[0mfft\u001b[0m\u001b[0;34m(\u001b[0m\u001b[0mdist\u001b[0m\u001b[0;34m.\u001b[0m\u001b[0mGamma\u001b[0m\u001b[0;34m(\u001b[0m\u001b[0;36m100\u001b[0m\u001b[0;34m/\u001b[0m\u001b[0;36m7\u001b[0m\u001b[0;34m,\u001b[0m \u001b[0;36m1\u001b[0m\u001b[0;34m/\u001b[0m\u001b[0;36m7\u001b[0m\u001b[0;34m)\u001b[0m\u001b[0;34m.\u001b[0m\u001b[0mlog_prob\u001b[0m\u001b[0;34m(\u001b[0m\u001b[0mz\u001b[0m\u001b[0;34m)\u001b[0m\u001b[0;34m.\u001b[0m\u001b[0mexp\u001b[0m\u001b[0;34m(\u001b[0m\u001b[0;34m)\u001b[0m\u001b[0;34m,\u001b[0m \u001b[0;36m1\u001b[0m\u001b[0;34m)\u001b[0m\u001b[0;34m\u001b[0m\u001b[0;34m\u001b[0m\u001b[0m\n\u001b[0m",
      "\u001b[0;31mRuntimeError\u001b[0m: Expected an input tensor with a last dimension of size 2 representing real + imaginary components, but got input torch.FloatTensor[1, 23]"
     ]
    }
   ],
   "source": [
    "torch.fft(dist.Gamma(100/7, 1/7).log_prob(z).exp(), 1)"
   ]
  },
  {
   "cell_type": "code",
   "execution_count": null,
   "metadata": {},
   "outputs": [],
   "source": [
    "ConvolutedGamma"
   ]
  },
  {
   "cell_type": "code",
   "execution_count": null,
   "metadata": {},
   "outputs": [],
   "source": []
  },
  {
   "cell_type": "code",
   "execution_count": 77,
   "metadata": {},
   "outputs": [
    {
     "data": {
      "image/png": "[encoded data removed]",
      "text/plain": [
       "<Figure size 1080x360 with 3 Axes>"
      ]
     },
     "metadata": {
      "needs_background": "light"
     },
     "output_type": "display_data"
    }
   ],
   "source": [
    "plt.figure(figsize=(15,5))\n",
    "\n",
    "plt.subplot(131)\n",
    "plt.bar(model.offset_samples, model.offset_weights, width=1, fill=False, edgecolor=\"C0\")\n",
    "x = torch.arange(0, 200, 0.5)\n",
    "d = dist.Gamma(10/7, 1/7)\n",
    "d2 = ConvolutedGamma(torch.tensor([10.])/7, 1/7, model.offset_samples, model.offset_weights.log())\n",
    "plt.plot(x+100, d.log_prob(x).exp(), \"-\", label=\"MCC\")\n",
    "plt.plot(x, d2.log_prob(x).exp(), \"-\", label=\"MCC\")\n",
    "#plt.ylim(0, 2e-4)\n",
    "plt.xlim(80,150)\n",
    "#plt.xlabel(r\"SNR\", fontsize=16)\n",
    "#plt.ylabel(\"Accuracy\", fontsize=16)\n",
    "plt.title(r\"\\[ \\mathrm{h} \\sim \\mathbf{HalfNormal}(10000) \\]\", fontsize=16)\n",
    "\n",
    "#plt.gca().axes.get_xaxis().set_ticks(np.arange(1,6)*0.2)\n",
    "#plt.gca().axes.get_yaxis().set_ticks(np.arange(6)*0.2)\n",
    "plt.gca().xaxis.set_major_formatter(FormatStrFormatter('%g'))\n",
    "plt.gca().yaxis.set_major_formatter(FormatStrFormatter('%g'))\n",
    "#plt.xticks(size=16)\n",
    "#plt.yticks(size=16)\n",
    "#plt.legend(fontsize=16)\n",
    "\n",
    "plt.subplot(132)\n",
    "x = torch.arange(0, 70, 1)\n",
    "y = torch.arange(0, 10, 0.5)\n",
    "d = dist.Gamma(10/7, 1/7)\n",
    "d3 = dist.Poisson(10/7)\n",
    "plt.plot(x, d.log_prob(x).exp(), \"-\", label=\"MCC\")\n",
    "plt.plot(y*7, d3.log_prob(y).exp()/7, \"-\", label=\"MCC\")\n",
    "#plt.ylim(-0.01, 1)\n",
    "#plt.xlim(0.75, 2.25)\n",
    "#plt.xlabel(r\"SNR\", fontsize=16)\n",
    "#plt.ylabel(\"Accuracy\", fontsize=16)\n",
    "plt.title(r\"\\[ \\mathrm{w} \\sim \\mathbf{Uniform}(0.75, 2.25) \\]\", fontsize=16)\n",
    "\n",
    "#plt.gca().axes.get_xaxis().set_ticks(np.arange(1,6)*0.2)\n",
    "#plt.gca().axes.get_yaxis().set_ticks(np.arange(6)*0.2)\n",
    "plt.gca().xaxis.set_major_formatter(FormatStrFormatter('%g'))\n",
    "plt.gca().yaxis.set_major_formatter(FormatStrFormatter('%g'))\n",
    "#plt.xticks(size=16)\n",
    "#plt.yticks(size=16)\n",
    "#plt.legend(fontsize=16)\n",
    "\n",
    "plt.subplot(133)\n",
    "x = torch.arange(0, 200, 0.5)\n",
    "\n",
    "d2 = ConvolutedGamma(torch.tensor([10.])/7, 1/7, model.offset_samples, model.offset_weights.log())\n",
    "plt.plot(x+100, d.log_prob(x).exp(), \"-\", label=\"MCC\")\n",
    "plt.plot(x, d2.log_prob(x).exp(), \"-\", label=\"MCC\")\n",
    "\n",
    "#plt.ylim(-0.01, 1)\n",
    "plt.xlim(80, 150)\n",
    "#plt.xlabel(r\"SNR\", fontsize=16)\n",
    "#plt.ylabel(\"Accuracy\", fontsize=16)\n",
    "plt.title(r\"\\[ \\mathrm{x} \\sim\" \\\n",
    "          r\"\\begin{cases}\" \\\n",
    "          r\"\\mathbf{AffineBeta}() & f \\\\\" \\\n",
    "          r\"\\mathbf{Uniform}() & t \" \\\n",
    "          r\"\\end{cases} \\]\", fontsize=16)\n",
    "\n",
    "#plt.gca().axes.get_xaxis().set_ticks(np.arange(1,6)*0.2)\n",
    "#plt.gca().axes.get_yaxis().set_ticks(np.arange(6)*0.2)\n",
    "plt.gca().xaxis.set_major_formatter(FormatStrFormatter('%g'))\n",
    "plt.gca().yaxis.set_major_formatter(FormatStrFormatter('%g'))\n",
    "#plt.xticks(size=16)\n",
    "#plt.yticks(size=16)\n",
    "#plt.legend(fontsize=16)\n",
    "\n",
    "#plt.tight_layout()\n",
    "plt.show()"
   ]
  },
  {
   "cell_type": "code",
   "execution_count": 93,
   "metadata": {},
   "outputs": [
    {
     "data": {
      "image/png": "[encoded data removed]",
      "text/plain": [
       "<Figure size 432x288 with 1 Axes>"
      ]
     },
     "metadata": {
      "needs_background": "light"
     },
     "output_type": "display_data"
    }
   ],
   "source": [
    "de = dist.Empirical(model.offset_samples, model.offset_weights.log()).sample((1000,)).numpy()\n",
    "dg = dist.Gamma(50/7, 1/7).sample((1000,)).numpy()\n",
    "#plt.hist(de+dg, bins=20, density=True, alpha=0.3)\n",
    "x = torch.arange(50, 250, 0.5)\n",
    "#d = dist.Gamma(10/7, 1/7)\n",
    "d2 = ConvolutedGamma(torch.tensor([50.])/7, 1/7, model.offset_samples, model.offset_weights.log())\n",
    "#plt.plot(x+100, d.log_prob(x).exp(), \"-\", label=\"MCC\")\n",
    "plt.plot(x, d2.log_prob(x).exp(), \"-\", label=\"MCC\")\n",
    "plt.hist(100+dg, bins=20, density=True, alpha=0.3)\n",
    "plt.show()"
   ]
  },
  {
   "cell_type": "markdown",
   "metadata": {},
   "source": [
    "$ q(m|D)q(h|D) = \\dfrac{p(D|h)p(h|m)p(m)}{\\int_h \\sum_m p(D,h,m)} $"
   ]
  },
  {
   "cell_type": "markdown",
   "metadata": {},
   "source": [
    "$ q(m|D)q(h|D) = \\dfrac{p(D|b)p(m=0)}{p(D|b)p(m=0) + \\sum_{h} p(D|b+h)p(h)p(m=1)} $"
   ]
  },
  {
   "cell_type": "markdown",
   "metadata": {},
   "source": [
    "$ q(m|h) = \\dfrac{p(h,m)}{\\sum_m p(h,m)} $"
   ]
  },
  {
   "cell_type": "code",
   "execution_count": 128,
   "metadata": {},
   "outputs": [
    {
     "data": {
      "image/png": "[encoded data removed]",
      "text/plain": [
       "<Figure size 432x288 with 1 Axes>"
      ]
     },
     "metadata": {
      "needs_background": "light"
     },
     "output_type": "display_data"
    }
   ],
   "source": [
    "x = torch.arange(10, 1000, 0.1)\n",
    "d = dist.Gamma(200 / 7, 1 / 7)\n",
    "d2 = dist.Gamma((200+3*np.sqrt(200*7)) / 21, 1 / 21)\n",
    "#d3 = dist.Gamma(x / 7, 1 / 7)\n",
    "plt.plot(x, d.log_prob(x).exp(), \"-\", label=\"1.4\")\n",
    "plt.plot(x, d2.log_prob(x).exp(), \"-\", label=\"2.25\")\n",
    "plt.plot(x, d2.log_prob(x).exp() / (d.log_prob(x).exp() + d2.log_prob(x).exp())*0.01, \"-\", label=\"0.75\")\n",
    "plt.show()"
   ]
  },
  {
   "cell_type": "code",
   "execution_count": 136,
   "metadata": {},
   "outputs": [
    {
     "data": {
      "image/png": "[encoded data removed]",
      "text/plain": [
       "<Figure size 432x288 with 1 Axes>"
      ]
     },
     "metadata": {
      "needs_background": "light"
     },
     "output_type": "display_data"
    }
   ],
   "source": [
    "x = torch.arange(0, 2000, 0.1)\n",
    "d = dist.Gamma((np.sqrt(150*7))/ (7*0.04), 1 / 7)\n",
    "d2 = dist.Gamma((2*np.sqrt(150*7))/ (7*0.04), 1 / 7)\n",
    "#d3 = dist.Gamma(x / 7, 1 / 7)\n",
    "plt.plot(x/6, d.log_prob(x).exp(), \"-\", label=\"1.4\")\n",
    "#plt.plot(x, d2.log_prob(x).exp(), \"-\", label=\"2.25\")\n",
    "plt.plot(x/6, d2.log_prob(x).exp(), \"-\", label=\"0.75\")\n",
    "plt.show()"
   ]
  },
  {
   "cell_type": "code",
   "execution_count": 69,
   "metadata": {},
   "outputs": [
    {
     "data": {
      "image/png": "[encoded data removed]",
      "text/plain": [
       "<Figure size 432x288 with 1 Axes>"
      ]
     },
     "metadata": {
      "needs_background": "light"
     },
     "output_type": "display_data"
    }
   ],
   "source": [
    "x = torch.arange(0, 300., 1)\n",
    "for i in range(10):\n",
    "    d = dist.Gamma(i**2*25*0.025, i*0.025)\n",
    "    plt.plot(x, d.log_prob(x).exp(), \"-\", label=\"2.25\")\n",
    "d = dist.Gamma(25*25*0.0025, 0.0025*5)\n",
    "plt.plot(x, d.log_prob(x).exp(), \"-\", lw=3, label=\"2.25\")\n",
    "plt.show()"
   ]
  },
  {
   "cell_type": "code",
   "execution_count": 71,
   "metadata": {},
   "outputs": [
    {
     "data": {
      "text/plain": [
       "0.0625"
      ]
     },
     "execution_count": 71,
     "metadata": {},
     "output_type": "execute_result"
    }
   ],
   "source": [
    "25*0.0025"
   ]
  },
  {
   "cell_type": "code",
   "execution_count": 8,
   "metadata": {},
   "outputs": [],
   "source": [
    "# load cosmos results\n",
    "#name = \"FL_1118_2225_0p3OD\"\n",
    "name = \"FL_2226_3338_0p6OD\"\n",
    "#name = \"FL_1_1117_0OD\"\n",
    "\n",
    "path_data = \"/shared/centaur/data/experimental/nonattenuated/{}\".format(name)\n",
    "path_params = os.path.join(path_data, \"runs/spotdetection/v1.1.5/S1/nocontrol/lr0.005/bs5\")\n",
    "pyro.get_param_store().clear()\n",
    "pyro.get_param_store().load(os.path.join(path_params, \"params\"))"
   ]
  },
  {
   "cell_type": "code",
   "execution_count": 57,
   "metadata": {},
   "outputs": [
    {
     "data": {
      "image/png": "[encoded data removed]",
      "text/plain": [
       "<Figure size 432x288 with 1 Axes>"
      ]
     },
     "metadata": {
      "needs_background": "light"
     },
     "output_type": "display_data"
    }
   ],
   "source": [
    "plt.hist(pyro.param(\"d/h_loc\").data.flatten().cpu().numpy(), bins=200, density=True, alpha=0.3)\n",
    "plt.hist((pyro.param(\"d/b_loc\").mean()*pyro.param(\"d/h_loc\") / pyro.param(\"d/b_loc\").unsqueeze(-1)).data.flatten().cpu().numpy(),\n",
    "         bins=200, density=True, alpha=0.3)\n",
    "mask = pyro.param(\"d/b_loc\") < 105\n",
    "plt.hist(pyro.param(\"d/h_loc\")[mask].data.flatten().cpu().numpy(), bins=200, density=True, alpha=0.3)\n",
    "plt.ylim(0, 0.0005)\n",
    "plt.xlim(0, 40000)\n",
    "plt.show()"
   ]
  },
  {
   "cell_type": "code",
   "execution_count": 122,
   "metadata": {},
   "outputs": [],
   "source": [
    "# load cosmos results\n",
    "\n",
    "path_data = \"/shared/centaur/data/test/GraceArticlePol2/\"\n",
    "path_params = os.path.join(path_data, \"runs/empirical/v1.1.5/S1/nocontrol/lr0.005/bs8\")\n",
    "model = Empirical(S=1, K=2)\n",
    "model.load(path_data, False, \"cpu\")\n",
    "model.load_parameters(path_params)"
   ]
  },
  {
   "cell_type": "code",
   "execution_count": 123,
   "metadata": {},
   "outputs": [
    {
     "data": {
      "image/png": "[encoded data removed]",
      "text/plain": [
       "<Figure size 720x720 with 1 Axes>"
      ]
     },
     "metadata": {
      "needs_background": "light"
     },
     "output_type": "display_data"
    }
   ],
   "source": [
    "plt.figure(figsize=(10,10))\n",
    "x = torch.arange(0, 5000., 5)\n",
    "d0 = NormalKDE(\n",
    "    pyro.param(\"d/h_loc\").flatten().data,\n",
    "    pyro.param(\"d/h_beta\").flatten().data,\n",
    "    (model.z_probs[..., 1].flatten() / model.z_probs[..., 1].sum()).log(), \"CPU\")\n",
    "plt.plot(x, d0.log_prob(x).exp().data, \"-\", label=\"on-target\")\n",
    "d1 = NormalKDE(\n",
    "    pyro.param(\"d/h_loc\").flatten().data,\n",
    "    pyro.param(\"d/h_beta\").flatten().data,\n",
    "    (model.j_probs[..., 1].flatten() / model.j_probs[..., 1].sum()).log(), \"CPU\")\n",
    "plt.plot(x, d1.log_prob(x).exp().data, \"-\", label=\"off-target\")\n",
    "d2 = NormalKDE(\n",
    "    pyro.param(\"d/h_loc\").flatten().data,\n",
    "    pyro.param(\"d/h_beta\").flatten().data,\n",
    "    (model.m_probs[..., 1].flatten() / model.m_probs[..., 1].sum()).log(), \"CPU\")\n",
    "plt.plot(x, d2.log_prob(x).exp().data, \"-\", label=\"prior\")\n",
    "d3 = dist.HalfNormal(10000.)\n",
    "plt.plot(x, d3.log_prob(x).exp().data, \"-\", label=\"halfnormal\")\n",
    "plt.title(\"orange dye data (FL_2226_3338_0p6OD)\")\n",
    "plt.ylabel(\"prior(h)\")\n",
    "plt.xlabel(\"intensity\")\n",
    "plt.legend()\n",
    "plt.show()"
   ]
  },
  {
   "cell_type": "code",
   "execution_count": 50,
   "metadata": {},
   "outputs": [],
   "source": [
    "#name = \"FL_2226_3338_0p6OD\"\n",
    "#name = \"FL_1_1117_0OD\"\n",
    "name = \"FL_4445_5554_1p1OD\"\n",
    "\n",
    "path_data = \"/shared/centaur/data/test/GraceArticlePol2/\"\n",
    "path_params = os.path.join(path_data, \"runs/spotdetection/v1.1.5/S1/nocontrol/lr0.005/bs8\")\n",
    "model = SpotDetection(S=1, K=2)\n",
    "model.load(path_data, False, \"cpu\")\n",
    "model.load_parameters(path_params)"
   ]
  },
  {
   "cell_type": "code",
   "execution_count": 76,
   "metadata": {},
   "outputs": [],
   "source": [
    "#name = \"FL_2226_3338_0p6OD\"\n",
    "name = \"FL_1_1117_0OD\"\n",
    "#name = \"FL_3339_4444_0p8OD\"\n",
    "\n",
    "path_data = \"/shared/centaur/data/experimental/nonattenuated/{}\".format(name)\n",
    "path_params = os.path.join(path_data, \"runs/norm/v1.1.5/S1/nocontrol/lr0.005/bs5\")\n",
    "model = SpotDetection(S=1, K=2)\n",
    "model.load(path_data, False, \"cpu\")\n",
    "model.load_parameters(path_params)"
   ]
  },
  {
   "cell_type": "code",
   "execution_count": 73,
   "metadata": {},
   "outputs": [
    {
     "data": {
      "image/png": "[encoded data removed]",
      "text/plain": [
       "<Figure size 432x288 with 1 Axes>"
      ]
     },
     "metadata": {
      "needs_background": "light"
     },
     "output_type": "display_data"
    }
   ],
   "source": [
    "# spotdetection\n",
    "mask = model.m_probs[..., 1] > 0.5\n",
    "h_norm = pyro.param(\"d/h_loc\") / pyro.param(\"d/b_loc\").unsqueeze(-1)\n",
    "plt.hist(h_norm[mask].data.numpy(), range=(0,50), bins=50, alpha=0.3, label=\"norm\")\n",
    "\n",
    "h_norm = pyro.param(\"d/h_loc\") / 250\n",
    "plt.hist(h_norm[mask].data.numpy(), range=(0,50), bins=50, alpha=0.3, label=\"raw\")\n",
    "plt.legend()\n",
    "plt.show()"
   ]
  },
  {
   "cell_type": "code",
   "execution_count": 90,
   "metadata": {},
   "outputs": [
    {
     "data": {
      "image/png": "[encoded data removed]",
      "text/plain": [
       "<Figure size 720x720 with 1 Axes>"
      ]
     },
     "metadata": {
      "needs_background": "light"
     },
     "output_type": "display_data"
    }
   ],
   "source": [
    "#names = [\"FL_5555_6684_1p3OD\", \"FL_4445_5554_1p1OD\", \"FL_3339_4444_0p8OD\",\n",
    "#         \"FL_2226_3338_0p6OD\", \"FL_1118_2225_0p3OD\", \"FL_1_1117_0OD\"]\n",
    "names = [\"FL_3339_4444_0p8OD\", \"FL_2226_3338_0p6OD\", \"FL_1118_2225_0p3OD\", \"FL_1_1117_0OD\"]\n",
    "plt.figure(figsize=(10,10))\n",
    "\n",
    "for name in names:\n",
    "    path_data = \"/shared/centaur/data/experimental/nonattenuated/{}\".format(name)\n",
    "    path_params = os.path.join(path_data, \"runs/norm/v1.1.5/S1/nocontrol/lr0.005/bs5\")\n",
    "    model = SpotDetection(S=1, K=2)\n",
    "    model.load(path_data, False, \"cpu\")\n",
    "    model.load_parameters(path_params)\n",
    "\n",
    "\n",
    "    x = torch.arange(0, 40., 0.1)\n",
    "    d0 = MultiModal(\n",
    "        pyro.param(\"height_loc\").data,\n",
    "        pyro.param(\"height_beta\").data,\n",
    "        pyro.param(\"height_pi\").data.log())\n",
    "    plt.plot(x, d0.log_prob(x).exp().data, \"-\", lw=3, label=name)\n",
    "\n",
    "plt.title(\"orange dye data (FL_2226_3338_0p6OD)\")\n",
    "plt.ylabel(\"prior(h)\")\n",
    "plt.xlabel(\"intensity\")\n",
    "plt.legend()\n",
    "plt.show()"
   ]
  },
  {
   "cell_type": "code",
   "execution_count": 22,
   "metadata": {},
   "outputs": [
    {
     "data": {
      "image/png": "[encoded data removed]",
      "text/plain": [
       "<Figure size 720x720 with 1 Axes>"
      ]
     },
     "metadata": {
      "needs_background": "light"
     },
     "output_type": "display_data"
    }
   ],
   "source": [
    "plt.figure(figsize=(10,10))\n",
    "x = torch.arange(0, 15000., 3)\n",
    "d0 = NormalKDE(\n",
    "    pyro.param(\"d/h_loc\").flatten().data,\n",
    "    pyro.param(\"d/h_beta\").flatten().data,\n",
    "    (model.z_probs[..., 1].flatten() / model.z_probs[..., 1].sum()).log(), \"CPU\")\n",
    "plt.plot(x, d0.log_prob(x).exp().data, \"-\", label=\"on-target\")\n",
    "d1 = NormalKDE(\n",
    "    pyro.param(\"d/h_loc\").flatten().data,\n",
    "    pyro.param(\"d/h_beta\").flatten().data,\n",
    "    (model.j_probs[..., 1].flatten() / model.j_probs[..., 1].sum()).log(), \"CPU\")\n",
    "plt.plot(x, d1.log_prob(x).exp().data, \"-\", label=\"off-target\")\n",
    "d2 = NormalKDE(\n",
    "    pyro.param(\"d/h_loc\").flatten().data,\n",
    "    pyro.param(\"d/h_beta\").flatten().data,\n",
    "    (model.m_probs[..., 1].flatten() / model.m_probs[..., 1].sum()).log(), \"CPU\")\n",
    "plt.plot(x, d2.log_prob(x).exp().data, \"-\", lw=3, label=\"prior\")\n",
    "d0 = MultiModal(\n",
    "    pyro.param(\"height_loc\").data,\n",
    "    pyro.param(\"height_beta\").data,\n",
    "    pyro.param(\"height_pi\").data.log())\n",
    "plt.plot(x, d0.log_prob(x).exp().data, \"-\", lw=3, label=\"multi\")\n",
    "plt.title(\"orange dye data (FL_2226_3338_0p6OD)\")\n",
    "plt.ylabel(\"prior(h)\")\n",
    "\n",
    "plt.xlabel(\"intensity\")\n",
    "plt.legend()\n",
    "plt.show()"
   ]
  },
  {
   "cell_type": "code",
   "execution_count": 2,
   "metadata": {},
   "outputs": [],
   "source": [
    "name = \"FL_2226_3338_0p6OD\"\n",
    "#name = \"FL_1_1117_0OD\"\n",
    "\n",
    "path_data = \"/shared/centaur/data/experimental/nonattenuated/{}\".format(name)\n",
    "path_params = os.path.join(path_data, \"runs/nomask/v1.1.5/S1/nocontrol/lr0.005/bs5\")\n",
    "model = Empirical(S=1, K=2)\n",
    "model.load(path_data, False, \"cpu\")\n",
    "model.load_parameters(path_params)"
   ]
  },
  {
   "cell_type": "code",
   "execution_count": 167,
   "metadata": {},
   "outputs": [
    {
     "data": {
      "image/png": "[encoded data removed]",
      "text/plain": [
       "<Figure size 360x360 with 1 Axes>"
      ]
     },
     "metadata": {
      "needs_background": "light"
     },
     "output_type": "display_data"
    }
   ],
   "source": [
    "plt.figure(figsize=(5,5))\n",
    "x = torch.arange(0, 200., 0.5)\n",
    "d0 = NormalKDE(\n",
    "    pyro.param(\"d/h_loc\").flatten().data,\n",
    "    pyro.param(\"d/h_beta\").flatten().data,\n",
    "    (model.z_probs[..., 1].flatten() / model.z_probs[..., 1].sum()).log(), \"CPU\")\n",
    "plt.plot(x, d0.log_prob(x).exp().data, \"-\", label=\"on-target\")\n",
    "d1 = NormalKDE(\n",
    "    pyro.param(\"d/h_loc\").flatten().data,\n",
    "    pyro.param(\"d/h_beta\").flatten().data,\n",
    "    (model.j_probs[..., 1].flatten() / model.j_probs[..., 1].sum()).log(), \"CPU\")\n",
    "plt.plot(x, d1.log_prob(x).exp().data, \"-\", label=\"off-target\")\n",
    "d2 = NormalKDE(\n",
    "    pyro.param(\"d/h_loc\").flatten().data,\n",
    "    pyro.param(\"d/h_beta\").flatten().data,\n",
    "    (model.m_probs[..., 1].flatten() / model.m_probs[..., 1].sum()).log(), \"CPU\")\n",
    "plt.plot(x, d2.log_prob(x).exp().data, \"-\", label=\"prior\")\n",
    "d3 = dist.HalfNormal(10000.)\n",
    "plt.plot(x, d3.log_prob(x).exp().data, \"-\", label=\"halfnormal\")\n",
    "plt.title(\"orange dye data (FL_2226_3338_0p6OD)\")\n",
    "plt.ylabel(\"prior(h)\")\n",
    "plt.xlabel(\"intensity\")\n",
    "plt.legend()\n",
    "plt.show()"
   ]
  },
  {
   "cell_type": "code",
   "execution_count": 49,
   "metadata": {},
   "outputs": [],
   "source": [
    "# load cosmos results\n",
    "# name = \"FL_1_1117_0OD\"\n",
    "#path_data = \"/shared/centaur/data/simulations/lamda_data/h3000pi15lamda50/\"\n",
    "path_data = \"/shared/centaur/data/height_data/h3000pi15lamda15/\"\n",
    "path_params = os.path.join(path_data, \"runs/spotdetection2/v1.1.5/S1/nocontrol/lr0.005/bs5\")\n",
    "model = Empirical(S=1, K=2)\n",
    "model.load(path_data, False, \"cpu\")\n",
    "model.load_parameters(path_params)"
   ]
  },
  {
   "cell_type": "code",
   "execution_count": 50,
   "metadata": {},
   "outputs": [
    {
     "data": {
      "image/png": "[encoded data removed]",
      "text/plain": [
       "<Figure size 720x720 with 1 Axes>"
      ]
     },
     "metadata": {
      "needs_background": "light"
     },
     "output_type": "display_data"
    }
   ],
   "source": [
    "plt.figure(figsize=(10,10))\n",
    "x = torch.arange(0, 8000., 5)\n",
    "d0 = MultiModal(\n",
    "    pyro.param(\"height_loc\").data,\n",
    "    pyro.param(\"height_beta\").data,\n",
    "    pyro.param(\"height_pi\").data.log())\n",
    "plt.plot(x, d0.log_prob(x).exp().data, \"-\", lw=3, label=\"on-target\")\n",
    "for i in range(10):\n",
    "    d = dist.Gamma(\n",
    "        pyro.param(\"height_loc\")[i] * pyro.param(\"height_beta\")[i],\n",
    "        pyro.param(\"height_beta\")[i])\n",
    "    plt.plot(x, d.log_prob(x).exp().data * pyro.param(\"height_pi\")[i].data, \"-\", label=i)\n",
    "plt.title(\"orange dye data (FL_2226_3338_0p6OD)\")\n",
    "plt.ylabel(\"prior(h)\")\n",
    "plt.xlabel(\"intensity\")\n",
    "plt.legend()\n",
    "plt.show()"
   ]
  },
  {
   "cell_type": "code",
   "execution_count": 18,
   "metadata": {},
   "outputs": [
    {
     "data": {
      "text/plain": [
       "torch.Size([3, 4])"
      ]
     },
     "execution_count": 18,
     "metadata": {},
     "output_type": "execute_result"
    }
   ],
   "source": [
    "d = dist.Gamma(\n",
    "    pyro.param(\"d/h_loc\").flatten().data * pyro.param(\"d/h_beta\").flatten().data,\n",
    "    pyro.param(\"d/h_beta\").flatten().data)\n",
    "\n",
    "x = \n",
    "\n",
    "obs_logits = d.log_prob(x)\n",
    "result = obs_logits + (model.m_probs[..., 1].flatten() / model.m_probs[..., 1].sum()).log()\n",
    "result = torch.logsumexp(result, -1)\n",
    "result.shape"
   ]
  },
  {
   "cell_type": "code",
   "execution_count": 25,
   "metadata": {},
   "outputs": [],
   "source": [
    "M = 3000\n",
    "N = 5000\n",
    "\n",
    "dtype = 'float32' # Could be 'float32' or 'float64'\n",
    "torchtype = torch.float32 if dtype == 'float32' else torch.float64\n",
    "\n",
    "x = torch.rand(M, 1, dtype=torchtype)\n",
    "y = torch.rand(N, 1, dtype=torchtype, requires_grad=True)\n",
    "a = torch.rand(N, 1, dtype=torchtype)\n",
    "p = torch.rand(1, dtype=torchtype)"
   ]
  },
  {
   "cell_type": "code",
   "execution_count": 28,
   "metadata": {},
   "outputs": [
    {
     "name": "stdout",
     "output_type": "stream",
     "text": [
      "Compiling libKeOpstorch39fa329a34 in /home/ordabayev/.cache/pykeops-1.4.1-cpython-37/build-libKeOpstorch39fa329a34:\n",
      "       formula: Max_SumShiftExp_Reduction(Square(p-a)*Exp(x+y),0)\n",
      "       aliases: x = Vi(0,1); y = Vj(1,1); a = Vj(2,1); p = Pm(3,1); \n",
      "       dtype  : float32\n",
      "... Done.\n"
     ]
    }
   ],
   "source": [
    "from pykeops.torch import Genred\n",
    "\n",
    "formula = 'Square(p-a)*Exp(x+y)'\n",
    "variables = ['x = Vi(1)',  # First arg   : i-variable, of size 1 (scalar)\n",
    "             'y = Vj(1)',  # Second arg  : j-variable, of size 1 (scalar)\n",
    "             'a = Vj(1)',  # Third arg   : j-variable, of size 1 (scalar)\n",
    "             'p = Pm(1)']  # Fourth  arg : Parameter,  of size 1 (scalar)\n",
    "\n",
    "my_routine = Genred(formula, variables, reduction_op='LogSumExp', axis=1, dtype=dtype)\n",
    "c = my_routine(x, y, a, p, backend='CPU')"
   ]
  },
  {
   "cell_type": "code",
   "execution_count": 32,
   "metadata": {},
   "outputs": [],
   "source": [
    "import time\n",
    "\n",
    "if torch.cuda.is_available():\n",
    "    # first transfer data on gpu\n",
    "    pc, ac, xc, yc = p.cuda(), a.cuda(), x.cuda(), y.cuda()\n",
    "    # then call the operations\n",
    "    start = time.time()\n",
    "    c3 = my_routine(xc, yc, ac, pc, backend='GPU')"
   ]
  },
  {
   "cell_type": "code",
   "execution_count": 43,
   "metadata": {},
   "outputs": [
    {
     "data": {
      "text/plain": [
       "tensor([[1.],\n",
       "        [1.],\n",
       "        [1.],\n",
       "        ...,\n",
       "        [1.],\n",
       "        [1.],\n",
       "        [1.]], device='cuda:0')"
      ]
     },
     "execution_count": 43,
     "metadata": {},
     "output_type": "execute_result"
    }
   ],
   "source": [
    "var = (self.scale ** 2)\n",
    "        log_scale = math.log(self.scale) if isinstance(self.scale, Number) else self.scale.log()\n",
    "    \n",
    "-((value - self.loc) ** 2) / (2 * var) - log_scale - math.log(math.sqrt(2 * math.pi))"
   ]
  },
  {
   "cell_type": "code",
   "execution_count": 48,
   "metadata": {},
   "outputs": [
    {
     "data": {
      "text/plain": [
       "torch.Size([2000, 1])"
      ]
     },
     "execution_count": 48,
     "metadata": {},
     "output_type": "execute_result"
    }
   ],
   "source": [
    "from pykeops.torch import Genred\n",
    "import math\n",
    "dtype = 'float32'\n",
    "\n",
    "x = torch.arange(0, 2000, 1.).reshape(-1,1).cuda()\n",
    "m = (model.m_probs[..., 1] / model.m_probs[..., 1].sum()).log().reshape(-1,1).cuda()\n",
    "loc = pyro.param(\"d/h_loc\").data.reshape(-1,1).cuda()\n",
    "var = (pyro.param(\"d/h_loc\").data / pyro.param(\"d/h_beta\").data).reshape(-1,1).cuda()\n",
    "p = torch.tensor([math.log(math.sqrt(2 * math.pi))]).cuda()\n",
    "#p = math.log(math.sqrt(2 * math.pi))\n",
    "\n",
    "formula = 'm-Square(x-loc)/(IntCst(2)*var)-Log(Sqrt(var))-p'\n",
    "variables = ['x = Vi(1)',  # First arg   : i-variable, of size 1 (scalar)\n",
    "             'm = Vj(1)',  # Second arg  : j-variable, of size 1 (scalar)\n",
    "             'loc = Vj(1)',  # Second arg  : j-variable, of size 1 (scalar)\n",
    "             'var = Vj(1)',\n",
    "             'p = Pm(1)']  # Fourth  arg : Parameter,  of size 1 (scalar)\n",
    "\n",
    "my_routine = Genred(formula, variables, reduction_op='LogSumExp', axis=1, dtype=dtype)\n",
    "c = my_routine(x, m, loc, var, p, backend='GPU')\n",
    "c.shape"
   ]
  },
  {
   "cell_type": "code",
   "execution_count": 53,
   "metadata": {},
   "outputs": [
    {
     "data": {
      "text/plain": [
       "torch.Size([])"
      ]
     },
     "execution_count": 53,
     "metadata": {},
     "output_type": "execute_result"
    }
   ],
   "source": [
    "torch.Size([])"
   ]
  },
  {
   "cell_type": "code",
   "execution_count": 52,
   "metadata": {},
   "outputs": [
    {
     "data": {
      "text/plain": [
       "torch.Size([2000, 1])"
      ]
     },
     "execution_count": 52,
     "metadata": {},
     "output_type": "execute_result"
    }
   ],
   "source": [
    "shape = c.shape\n",
    "c.reshape(-1).reshape(shape).shape"
   ]
  },
  {
   "cell_type": "code",
   "execution_count": 49,
   "metadata": {},
   "outputs": [
    {
     "data": {
      "image/png": "[encoded data removed]",
      "text/plain": [
       "<Figure size 432x288 with 1 Axes>"
      ]
     },
     "metadata": {
      "needs_background": "light"
     },
     "output_type": "display_data"
    }
   ],
   "source": [
    "plt.plot(x.squeeze().cpu(), c.squeeze().exp().cpu(), \"-\", label=\"2.25\")\n",
    "plt.show()"
   ]
  },
  {
   "cell_type": "code",
   "execution_count": 37,
   "metadata": {},
   "outputs": [],
   "source": [
    "dl = dist.Normal(loc, torch.sqrt(var)).log_prob(x.unsqueeze(-1))"
   ]
  },
  {
   "cell_type": "code",
   "execution_count": 40,
   "metadata": {},
   "outputs": [
    {
     "data": {
      "text/plain": [
       "tensor([[-14.0166],\n",
       "        [-14.0124],\n",
       "        [-14.0135],\n",
       "        [-14.0157],\n",
       "        [-14.0131],\n",
       "        [-14.0143],\n",
       "        [-14.0140],\n",
       "        [-14.0133],\n",
       "        [-14.0127],\n",
       "        [-14.0148],\n",
       "        [-14.0168],\n",
       "        [-14.0161],\n",
       "        [-14.0143],\n",
       "        [-14.0167],\n",
       "        [-14.0147],\n",
       "        [-14.0117],\n",
       "        [-14.0163],\n",
       "        [-14.0159],\n",
       "        [-14.0116],\n",
       "        [-14.0133],\n",
       "        [-14.0139],\n",
       "        [-14.0169],\n",
       "        [-14.0145],\n",
       "        [-14.0123],\n",
       "        [-14.0153],\n",
       "        [-14.0169],\n",
       "        [-14.0147],\n",
       "        [-14.0151],\n",
       "        [-14.0122],\n",
       "        [-14.0164],\n",
       "        [-14.0152],\n",
       "        [-14.0139],\n",
       "        [-14.0116],\n",
       "        [-14.0154],\n",
       "        [-14.0115],\n",
       "        [-14.0160],\n",
       "        [-14.0116],\n",
       "        [-14.0127],\n",
       "        [-14.0159],\n",
       "        [-14.0133],\n",
       "        [-14.0160],\n",
       "        [-14.0154],\n",
       "        [-14.0138],\n",
       "        [-14.0159],\n",
       "        [-14.0143],\n",
       "        [-14.0121],\n",
       "        [-14.0129],\n",
       "        [-14.0144],\n",
       "        [-14.0139],\n",
       "        [-14.0140],\n",
       "        [-14.0134],\n",
       "        [-14.0146],\n",
       "        [-14.0147],\n",
       "        [-14.0167],\n",
       "        [-14.0124],\n",
       "        [-14.0158],\n",
       "        [-14.0131],\n",
       "        [-14.0146],\n",
       "        [-14.0117],\n",
       "        [-14.0128],\n",
       "        [-14.0143],\n",
       "        [-14.0125],\n",
       "        [-14.0129],\n",
       "        [-14.0164],\n",
       "        [-14.0148],\n",
       "        [-14.0164],\n",
       "        [-14.0162],\n",
       "        [-14.0121],\n",
       "        [-14.0143],\n",
       "        [-14.0159],\n",
       "        [-14.0147],\n",
       "        [-14.0132],\n",
       "        [-14.0120],\n",
       "        [-14.0155],\n",
       "        [-14.0136],\n",
       "        [-14.0123],\n",
       "        [-14.0150],\n",
       "        [-14.0164],\n",
       "        [-14.0143],\n",
       "        [-14.0150],\n",
       "        [-14.0125],\n",
       "        [-14.0123],\n",
       "        [-14.0125],\n",
       "        [-14.0155],\n",
       "        [-14.0162],\n",
       "        [-14.0120],\n",
       "        [-14.0164],\n",
       "        [-14.0167],\n",
       "        [-14.0124],\n",
       "        [-14.0118],\n",
       "        [-14.0148],\n",
       "        [-14.0147],\n",
       "        [-14.0119],\n",
       "        [-14.0165],\n",
       "        [-14.0147],\n",
       "        [-14.0143],\n",
       "        [-14.0122],\n",
       "        [-14.0169],\n",
       "        [-14.0155],\n",
       "        [-14.0120],\n",
       "        [-14.0149],\n",
       "        [-14.0135],\n",
       "        [-14.0139],\n",
       "        [-14.0138],\n",
       "        [-14.0155],\n",
       "        [-14.0143],\n",
       "        [-14.0128],\n",
       "        [-14.0133],\n",
       "        [-14.0150],\n",
       "        [-14.0162],\n",
       "        [-14.0133],\n",
       "        [-14.0167],\n",
       "        [-14.0136],\n",
       "        [-14.0161],\n",
       "        [-14.0145],\n",
       "        [-14.0157],\n",
       "        [-14.0136],\n",
       "        [-14.0144],\n",
       "        [-14.0154],\n",
       "        [-14.0146],\n",
       "        [-14.0138],\n",
       "        [-14.0122],\n",
       "        [-14.0121],\n",
       "        [-14.0167],\n",
       "        [-14.0160],\n",
       "        [-14.0164],\n",
       "        [-14.0168],\n",
       "        [-14.0153],\n",
       "        [-14.0118],\n",
       "        [-14.0163],\n",
       "        [-14.0114],\n",
       "        [-14.0144],\n",
       "        [-14.0165],\n",
       "        [-14.0150],\n",
       "        [-14.0143],\n",
       "        [-14.0119],\n",
       "        [-14.0144],\n",
       "        [-14.0149],\n",
       "        [-14.0121],\n",
       "        [-14.0125],\n",
       "        [-14.0143],\n",
       "        [-14.0127],\n",
       "        [-14.0130],\n",
       "        [-14.0159],\n",
       "        [-14.0133],\n",
       "        [-14.0166],\n",
       "        [-14.0129],\n",
       "        [-14.0128],\n",
       "        [-14.0159],\n",
       "        [-14.0135],\n",
       "        [-14.0165],\n",
       "        [-14.0149],\n",
       "        [-14.0134],\n",
       "        [-14.0125],\n",
       "        [-14.0164],\n",
       "        [-14.0152],\n",
       "        [-14.0119],\n",
       "        [-14.0167],\n",
       "        [-14.0150],\n",
       "        [-14.0161],\n",
       "        [-14.0166],\n",
       "        [-14.0124],\n",
       "        [-14.0160],\n",
       "        [-14.0125],\n",
       "        [-14.0133],\n",
       "        [-14.0139],\n",
       "        [-14.0140],\n",
       "        [-14.0141],\n",
       "        [-14.0158],\n",
       "        [-14.0141],\n",
       "        [-14.0135],\n",
       "        [-14.0126],\n",
       "        [-14.0156],\n",
       "        [-14.0127],\n",
       "        [-14.0119],\n",
       "        [-14.0148],\n",
       "        [-14.0170],\n",
       "        [-14.0165],\n",
       "        [-14.0168],\n",
       "        [-14.0157],\n",
       "        [-14.0136],\n",
       "        [-14.0131],\n",
       "        [-14.0160],\n",
       "        [-14.0162],\n",
       "        [-14.0134],\n",
       "        [-14.0147],\n",
       "        [-14.0119],\n",
       "        [-14.0115],\n",
       "        [-14.0122],\n",
       "        [-14.0144],\n",
       "        [-14.0148],\n",
       "        [-14.0124],\n",
       "        [-14.0126],\n",
       "        [-14.0135],\n",
       "        [-14.0169],\n",
       "        [-14.0160],\n",
       "        [-14.0132],\n",
       "        [-14.0133],\n",
       "        [-14.0153],\n",
       "        [-14.0118],\n",
       "        [-14.0137],\n",
       "        [-14.0168],\n",
       "        [-14.0145],\n",
       "        [-14.0169],\n",
       "        [-14.0144],\n",
       "        [-14.0115],\n",
       "        [-14.0115],\n",
       "        [-14.0129],\n",
       "        [-14.0117],\n",
       "        [-14.0116],\n",
       "        [-14.0131],\n",
       "        [-14.0146],\n",
       "        [-14.0122],\n",
       "        [-14.0137],\n",
       "        [-14.0168],\n",
       "        [-14.0162],\n",
       "        [-14.0144],\n",
       "        [-14.0122],\n",
       "        [-14.0130],\n",
       "        [-14.0120],\n",
       "        [-14.0142],\n",
       "        [-14.0168],\n",
       "        [-14.0156],\n",
       "        [-14.0125],\n",
       "        [-14.0127],\n",
       "        [-14.0170],\n",
       "        [-14.0132],\n",
       "        [-14.0124],\n",
       "        [-14.0160],\n",
       "        [-14.0134],\n",
       "        [-14.0140],\n",
       "        [-14.0119],\n",
       "        [-14.0137],\n",
       "        [-14.0143],\n",
       "        [-14.0124],\n",
       "        [-14.0167],\n",
       "        [-14.0159],\n",
       "        [-14.0138],\n",
       "        [-14.0115],\n",
       "        [-14.0139],\n",
       "        [-14.0123],\n",
       "        [-14.0124],\n",
       "        [-14.0154],\n",
       "        [-14.0162],\n",
       "        [-14.0149],\n",
       "        [-14.0148],\n",
       "        [-14.0141],\n",
       "        [-14.0115],\n",
       "        [-14.0130],\n",
       "        [-14.0122],\n",
       "        [-14.0168],\n",
       "        [-14.0122],\n",
       "        [-14.0135],\n",
       "        [-14.0126],\n",
       "        [-14.0134],\n",
       "        [-14.0147],\n",
       "        [-14.0163],\n",
       "        [-14.0166],\n",
       "        [-14.0143],\n",
       "        [-14.0165],\n",
       "        [-14.0154],\n",
       "        [-14.0129],\n",
       "        [-14.0169],\n",
       "        [-14.0156],\n",
       "        [-14.0160],\n",
       "        [-14.0170],\n",
       "        [-14.0127],\n",
       "        [-14.0150],\n",
       "        [-14.0163],\n",
       "        [-14.0132],\n",
       "        [-14.0159],\n",
       "        [-14.0129],\n",
       "        [-14.0165],\n",
       "        [-14.0122],\n",
       "        [-14.0171],\n",
       "        [-14.0118],\n",
       "        [-14.0169],\n",
       "        [-14.0162],\n",
       "        [-14.0163],\n",
       "        [-14.0166],\n",
       "        [-14.0155],\n",
       "        [-14.0117],\n",
       "        [-14.0126],\n",
       "        [-14.0141],\n",
       "        [-14.0120],\n",
       "        [-14.0159],\n",
       "        [-14.0134],\n",
       "        [-14.0158],\n",
       "        [-14.0163],\n",
       "        [-14.0154],\n",
       "        [-14.0123],\n",
       "        [-14.0166],\n",
       "        [-14.0137],\n",
       "        [-14.0126],\n",
       "        [-14.0166],\n",
       "        [-14.0143],\n",
       "        [-14.0140],\n",
       "        [-14.0136],\n",
       "        [-14.0156],\n",
       "        [-14.0138],\n",
       "        [-14.0139],\n",
       "        [-14.0141],\n",
       "        [-14.0157],\n",
       "        [-14.0148],\n",
       "        [-14.0118],\n",
       "        [-14.0157],\n",
       "        [-14.0134],\n",
       "        [-14.0122],\n",
       "        [-14.0159],\n",
       "        [-14.0155],\n",
       "        [-14.0143],\n",
       "        [-14.0144],\n",
       "        [-14.0152],\n",
       "        [-14.0123],\n",
       "        [-14.0163],\n",
       "        [-14.0117],\n",
       "        [-14.0125],\n",
       "        [-14.0135],\n",
       "        [-14.0133],\n",
       "        [-14.0120],\n",
       "        [-14.0119],\n",
       "        [-14.0115],\n",
       "        [-14.0170],\n",
       "        [-14.0149],\n",
       "        [-14.0146],\n",
       "        [-14.0129],\n",
       "        [-14.0159],\n",
       "        [-14.0158],\n",
       "        [-14.0123],\n",
       "        [-14.0119],\n",
       "        [-14.0138],\n",
       "        [-14.0127],\n",
       "        [-14.0126],\n",
       "        [-14.0162],\n",
       "        [-14.0137],\n",
       "        [-14.0151],\n",
       "        [-14.0132],\n",
       "        [-14.0114],\n",
       "        [-14.0125],\n",
       "        [-14.0120],\n",
       "        [-14.0163],\n",
       "        [-14.0146],\n",
       "        [-14.0118],\n",
       "        [-14.0169],\n",
       "        [-14.0124],\n",
       "        [-14.0125],\n",
       "        [-14.0115],\n",
       "        [-14.0148],\n",
       "        [-14.0155],\n",
       "        [-14.0158],\n",
       "        [-14.0118],\n",
       "        [-14.0145],\n",
       "        [-14.0167],\n",
       "        [-14.0165],\n",
       "        [-14.0151],\n",
       "        [-14.0143],\n",
       "        [-14.0128],\n",
       "        [-14.0116],\n",
       "        [-14.0143],\n",
       "        [-14.0125],\n",
       "        [-14.0114],\n",
       "        [-14.0166],\n",
       "        [-14.0148],\n",
       "        [-14.0157],\n",
       "        [-14.0129],\n",
       "        [-14.0166],\n",
       "        [-14.0135],\n",
       "        [-14.0150],\n",
       "        [-14.0134],\n",
       "        [-14.0149],\n",
       "        [-14.0152],\n",
       "        [-14.0115],\n",
       "        [-14.0145],\n",
       "        [-14.0118],\n",
       "        [-14.0133],\n",
       "        [-14.0170],\n",
       "        [-14.0131],\n",
       "        [-14.0141],\n",
       "        [-14.0136],\n",
       "        [-14.0127],\n",
       "        [-14.0116],\n",
       "        [-14.0168],\n",
       "        [-14.0164],\n",
       "        [-14.0116],\n",
       "        [-14.0162],\n",
       "        [-14.0162],\n",
       "        [-14.0157],\n",
       "        [-14.0146],\n",
       "        [-14.0141],\n",
       "        [-14.0128],\n",
       "        [-14.0166],\n",
       "        [-14.0148],\n",
       "        [-14.0155],\n",
       "        [-14.0143],\n",
       "        [-14.0140],\n",
       "        [-14.0149],\n",
       "        [-14.0155],\n",
       "        [-14.0130],\n",
       "        [-14.0170],\n",
       "        [-14.0145],\n",
       "        [-14.0133],\n",
       "        [-14.0143],\n",
       "        [-14.0138],\n",
       "        [-14.0155],\n",
       "        [-14.0118],\n",
       "        [-14.0141],\n",
       "        [-14.0128],\n",
       "        [-14.0148],\n",
       "        [-14.0117],\n",
       "        [-14.0165],\n",
       "        [-14.0117],\n",
       "        [-14.0147],\n",
       "        [-14.0166],\n",
       "        [-14.0161],\n",
       "        [-14.0159],\n",
       "        [-14.0133],\n",
       "        [-14.0136],\n",
       "        [-14.0132],\n",
       "        [-14.0128],\n",
       "        [-14.0163],\n",
       "        [-14.0117],\n",
       "        [-14.0163],\n",
       "        [-14.0134],\n",
       "        [-14.0164],\n",
       "        [-14.0135],\n",
       "        [-14.0159],\n",
       "        [-14.0155],\n",
       "        [-14.0139],\n",
       "        [-14.0169],\n",
       "        [-14.0144],\n",
       "        [-14.0161],\n",
       "        [-14.0141],\n",
       "        [-14.0145],\n",
       "        [-14.0133],\n",
       "        [-14.0128],\n",
       "        [-14.0159],\n",
       "        [-14.0134],\n",
       "        [-14.0138],\n",
       "        [-14.0153],\n",
       "        [-14.0138],\n",
       "        [-14.0161],\n",
       "        [-14.0135],\n",
       "        [-14.0143],\n",
       "        [-14.0117],\n",
       "        [-14.0168],\n",
       "        [-14.0152],\n",
       "        [-14.0120],\n",
       "        [-14.0169],\n",
       "        [-14.0131],\n",
       "        [-14.0152],\n",
       "        [-14.0157],\n",
       "        [-14.0135],\n",
       "        [-14.0147],\n",
       "        [-14.0166],\n",
       "        [-14.0114],\n",
       "        [-14.0160],\n",
       "        [-14.0145],\n",
       "        [-14.0136],\n",
       "        [-14.0143],\n",
       "        [-14.0151],\n",
       "        [-14.0134],\n",
       "        [-14.0145],\n",
       "        [-14.0132],\n",
       "        [-14.0151],\n",
       "        [-14.0160],\n",
       "        [-14.0133],\n",
       "        [-14.0166],\n",
       "        [-14.0161],\n",
       "        [-14.0157],\n",
       "        [-14.0116],\n",
       "        [-14.0115],\n",
       "        [-14.0157],\n",
       "        [-14.0129],\n",
       "        [-14.0169],\n",
       "        [-14.0122],\n",
       "        [-14.0151],\n",
       "        [-14.0153],\n",
       "        [-14.0150],\n",
       "        [-14.0135],\n",
       "        [-14.0165],\n",
       "        [-14.0139],\n",
       "        [-14.0159],\n",
       "        [-14.0143],\n",
       "        [-14.0131],\n",
       "        [-14.0131],\n",
       "        [-14.0137],\n",
       "        [-14.0114],\n",
       "        [-14.0154],\n",
       "        [-14.0125],\n",
       "        [-14.0164],\n",
       "        [-14.0160],\n",
       "        [-14.0158],\n",
       "        [-14.0151],\n",
       "        [-14.0160],\n",
       "        [-14.0115],\n",
       "        [-14.0145],\n",
       "        [-14.0145],\n",
       "        [-14.0145],\n",
       "        [-14.0159],\n",
       "        [-14.0126],\n",
       "        [-14.0167],\n",
       "        [-14.0141],\n",
       "        [-14.0165],\n",
       "        [-14.0119],\n",
       "        [-14.0118],\n",
       "        [-14.0159],\n",
       "        [-14.0170],\n",
       "        [-14.0170],\n",
       "        [-14.0145],\n",
       "        [-14.0122],\n",
       "        [-14.0166],\n",
       "        [-14.0135],\n",
       "        [-14.0126],\n",
       "        [-14.0128],\n",
       "        [-14.0133],\n",
       "        [-14.0153],\n",
       "        [-14.0157],\n",
       "        [-14.0163],\n",
       "        [-14.0152],\n",
       "        [-14.0121],\n",
       "        [-14.0139],\n",
       "        [-14.0134],\n",
       "        [-14.0168],\n",
       "        [-14.0153],\n",
       "        [-14.0127],\n",
       "        [-14.0143],\n",
       "        [-14.0154],\n",
       "        [-14.0157],\n",
       "        [-14.0146],\n",
       "        [-14.0161],\n",
       "        [-14.0164],\n",
       "        [-14.0166],\n",
       "        [-14.0169],\n",
       "        [-14.0130],\n",
       "        [-14.0162],\n",
       "        [-14.0131],\n",
       "        [-14.0144],\n",
       "        [-14.0157],\n",
       "        [-14.0152],\n",
       "        [-14.0161],\n",
       "        [-14.0136],\n",
       "        [-14.0134],\n",
       "        [-14.0126],\n",
       "        [-14.0162],\n",
       "        [-14.0148],\n",
       "        [-14.0122],\n",
       "        [-14.0136],\n",
       "        [-14.0164],\n",
       "        [-14.0139],\n",
       "        [-14.0156],\n",
       "        [-14.0116],\n",
       "        [-14.0115],\n",
       "        [-14.0158],\n",
       "        [-14.0139],\n",
       "        [-14.0164],\n",
       "        [-14.0153],\n",
       "        [-14.0146],\n",
       "        [-14.0143],\n",
       "        [-14.0157],\n",
       "        [-14.0162],\n",
       "        [-14.0146],\n",
       "        [-14.0127],\n",
       "        [-14.0120],\n",
       "        [-14.0133],\n",
       "        [-14.0139],\n",
       "        [-14.0157],\n",
       "        [-14.0145],\n",
       "        [-14.0127],\n",
       "        [-14.0151],\n",
       "        [-14.0159],\n",
       "        [-14.0136],\n",
       "        [-14.0146],\n",
       "        [-14.0148],\n",
       "        [-14.0163],\n",
       "        [-14.0122],\n",
       "        [-14.0123],\n",
       "        [-14.0168],\n",
       "        [-14.0126],\n",
       "        [-14.0151],\n",
       "        [-14.0138],\n",
       "        [-14.0148],\n",
       "        [-14.0148],\n",
       "        [-14.0121],\n",
       "        [-14.0145],\n",
       "        [-14.0159],\n",
       "        [-14.0168],\n",
       "        [-14.0154],\n",
       "        [-14.0120],\n",
       "        [-14.0143],\n",
       "        [-14.0170],\n",
       "        [-14.0141],\n",
       "        [-14.0145],\n",
       "        [-14.0151],\n",
       "        [-14.0169],\n",
       "        [-14.0161],\n",
       "        [-14.0129],\n",
       "        [-14.0132],\n",
       "        [-14.0144],\n",
       "        [-14.0154],\n",
       "        [-14.0153],\n",
       "        [-14.0163],\n",
       "        [-14.0114],\n",
       "        [-14.0156],\n",
       "        [-14.0167],\n",
       "        [-14.0159],\n",
       "        [-14.0148],\n",
       "        [-14.0164],\n",
       "        [-14.0144],\n",
       "        [-14.0155],\n",
       "        [-14.0124],\n",
       "        [-14.0122],\n",
       "        [-14.0154],\n",
       "        [-14.0131],\n",
       "        [-14.0129],\n",
       "        [-14.0152],\n",
       "        [-14.0138],\n",
       "        [-14.0133],\n",
       "        [-14.0152],\n",
       "        [-14.0130],\n",
       "        [-14.0166],\n",
       "        [-14.0152],\n",
       "        [-14.0149],\n",
       "        [-14.0139],\n",
       "        [-14.0161],\n",
       "        [-14.0150],\n",
       "        [-14.0167],\n",
       "        [-14.0167],\n",
       "        [-14.0127],\n",
       "        [-14.0122],\n",
       "        [-14.0168],\n",
       "        [-14.0149],\n",
       "        [-14.0117],\n",
       "        [-14.0142],\n",
       "        [-14.0145],\n",
       "        [-14.0165],\n",
       "        [-14.0158],\n",
       "        [-14.0141],\n",
       "        [-14.0136],\n",
       "        [-14.0134],\n",
       "        [-14.0119],\n",
       "        [-14.0133],\n",
       "        [-14.0170],\n",
       "        [-14.0156],\n",
       "        [-14.0161],\n",
       "        [-14.0121],\n",
       "        [-14.0121],\n",
       "        [-14.0140],\n",
       "        [-14.0115],\n",
       "        [-14.0145],\n",
       "        [-14.0159],\n",
       "        [-14.0165],\n",
       "        [-14.0163],\n",
       "        [-14.0164],\n",
       "        [-14.0167],\n",
       "        [-14.0166],\n",
       "        [-14.0168],\n",
       "        [-14.0116],\n",
       "        [-14.0123],\n",
       "        [-14.0127],\n",
       "        [-14.0139],\n",
       "        [-14.0122],\n",
       "        [-14.0145],\n",
       "        [-14.0154],\n",
       "        [-14.0120],\n",
       "        [-14.0139],\n",
       "        [-14.0134],\n",
       "        [-14.0114],\n",
       "        [-14.0132],\n",
       "        [-14.0165],\n",
       "        [-14.0131],\n",
       "        [-14.0119],\n",
       "        [-14.0138],\n",
       "        [-14.0154],\n",
       "        [-14.0144],\n",
       "        [-14.0120],\n",
       "        [-14.0139],\n",
       "        [-14.0121],\n",
       "        [-14.0164],\n",
       "        [-14.0163],\n",
       "        [-14.0135],\n",
       "        [-14.0149],\n",
       "        [-14.0119],\n",
       "        [-14.0161],\n",
       "        [-14.0121],\n",
       "        [-14.0142],\n",
       "        [-14.0169],\n",
       "        [-14.0144],\n",
       "        [-14.0128],\n",
       "        [-14.0156],\n",
       "        [-14.0122],\n",
       "        [-14.0136],\n",
       "        [-14.0142],\n",
       "        [-14.0153],\n",
       "        [-14.0145],\n",
       "        [-14.0160],\n",
       "        [-14.0145],\n",
       "        [-14.0114],\n",
       "        [-14.0157],\n",
       "        [-14.0153],\n",
       "        [-14.0161],\n",
       "        [-14.0132],\n",
       "        [-14.0163],\n",
       "        [-14.0134],\n",
       "        [-14.0116],\n",
       "        [-14.0163],\n",
       "        [-14.0149],\n",
       "        [-14.0162],\n",
       "        [-14.0164],\n",
       "        [-14.0143],\n",
       "        [-14.0146],\n",
       "        [-14.0138],\n",
       "        [-14.0164],\n",
       "        [-14.0161],\n",
       "        [-14.0138],\n",
       "        [-14.0152],\n",
       "        [-14.0123],\n",
       "        [-14.0132],\n",
       "        [-14.0169],\n",
       "        [-14.0169],\n",
       "        [-14.0159],\n",
       "        [-14.0170],\n",
       "        [-14.0170],\n",
       "        [-14.0164],\n",
       "        [-14.0124],\n",
       "        [-14.0161],\n",
       "        [-14.0155],\n",
       "        [-14.0126],\n",
       "        [-14.0150],\n",
       "        [-14.0131],\n",
       "        [-14.0128],\n",
       "        [-14.0125],\n",
       "        [-14.0115],\n",
       "        [-14.0162],\n",
       "        [-14.0160],\n",
       "        [-14.0127],\n",
       "        [-14.0158],\n",
       "        [-14.0164],\n",
       "        [-14.0118],\n",
       "        [-14.0166],\n",
       "        [-14.0123],\n",
       "        [-14.0132],\n",
       "        [-14.0156],\n",
       "        [-14.0162],\n",
       "        [-14.0153],\n",
       "        [-14.0133],\n",
       "        [-14.0114],\n",
       "        [-14.0135],\n",
       "        [-14.0139],\n",
       "        [-14.0120],\n",
       "        [-14.0149],\n",
       "        [-14.0123],\n",
       "        [-14.0168],\n",
       "        [-14.0171],\n",
       "        [-14.0163],\n",
       "        [-14.0126],\n",
       "        [-14.0128],\n",
       "        [-14.0162],\n",
       "        [-14.0170],\n",
       "        [-14.0171],\n",
       "        [-14.0169],\n",
       "        [-14.0167],\n",
       "        [-14.0165],\n",
       "        [-14.0140],\n",
       "        [-14.0156],\n",
       "        [-14.0122],\n",
       "        [-14.0140],\n",
       "        [-14.0145],\n",
       "        [-14.0163],\n",
       "        [-14.0146],\n",
       "        [-14.0151],\n",
       "        [-14.0129],\n",
       "        [-14.0123],\n",
       "        [-14.0159],\n",
       "        [-14.0138],\n",
       "        [-14.0150],\n",
       "        [-14.0155],\n",
       "        [-14.0140],\n",
       "        [-14.0119],\n",
       "        [-14.0129],\n",
       "        [-14.0136],\n",
       "        [-14.0168],\n",
       "        [-14.0164],\n",
       "        [-14.0167],\n",
       "        [-14.0145],\n",
       "        [-14.0170],\n",
       "        [-14.0128],\n",
       "        [-14.0116],\n",
       "        [-14.0115],\n",
       "        [-14.0144],\n",
       "        [-14.0116],\n",
       "        [-14.0148],\n",
       "        [-14.0145],\n",
       "        [-14.0170],\n",
       "        [-14.0158],\n",
       "        [-14.0135],\n",
       "        [-14.0120],\n",
       "        [-14.0120],\n",
       "        [-14.0155],\n",
       "        [-14.0144],\n",
       "        [-14.0131],\n",
       "        [-14.0151],\n",
       "        [-14.0141],\n",
       "        [-14.0126],\n",
       "        [-14.0142],\n",
       "        [-14.0151],\n",
       "        [-14.0115],\n",
       "        [-14.0135],\n",
       "        [-14.0130],\n",
       "        [-14.0129],\n",
       "        [-14.0162],\n",
       "        [-14.0157],\n",
       "        [-14.0114],\n",
       "        [-14.0161],\n",
       "        [-14.0162],\n",
       "        [-14.0134],\n",
       "        [-14.0150],\n",
       "        [-14.0162],\n",
       "        [-14.0169],\n",
       "        [-14.0134],\n",
       "        [-14.0165],\n",
       "        [-14.0121],\n",
       "        [-14.0159],\n",
       "        [-14.0157],\n",
       "        [-14.0115],\n",
       "        [-14.0162],\n",
       "        [-14.0114],\n",
       "        [-14.0162],\n",
       "        [-14.0128],\n",
       "        [-14.0127],\n",
       "        [-14.0142],\n",
       "        [-14.0150],\n",
       "        [-14.0131],\n",
       "        [-14.0155],\n",
       "        [-14.0159],\n",
       "        [-14.0135],\n",
       "        [-14.0138],\n",
       "        [-14.0170],\n",
       "        [-14.0121],\n",
       "        [-14.0126],\n",
       "        [-14.0122],\n",
       "        [-14.0149],\n",
       "        [-14.0165],\n",
       "        [-14.0120],\n",
       "        [-14.0144],\n",
       "        [-14.0136],\n",
       "        [-14.0128],\n",
       "        [-14.0116],\n",
       "        [-14.0123],\n",
       "        [-14.0169],\n",
       "        [-14.0134],\n",
       "        [-14.0146],\n",
       "        [-14.0138],\n",
       "        [-14.0136],\n",
       "        [-14.0126],\n",
       "        [-14.0137],\n",
       "        [-14.0122],\n",
       "        [-14.0120],\n",
       "        [-14.0123],\n",
       "        [-14.0153],\n",
       "        [-14.0114],\n",
       "        [-14.0141],\n",
       "        [-14.0157],\n",
       "        [-14.0136],\n",
       "        [-14.0133],\n",
       "        [-14.0158],\n",
       "        [-14.0145],\n",
       "        [-14.0156],\n",
       "        [-14.0122],\n",
       "        [-14.0164],\n",
       "        [-14.0134],\n",
       "        [-14.0132],\n",
       "        [-14.0140],\n",
       "        [-14.0114],\n",
       "        [-14.0135],\n",
       "        [-14.0148],\n",
       "        [-14.0167],\n",
       "        [-14.0132],\n",
       "        [-14.0162],\n",
       "        [-14.0151],\n",
       "        [-14.0130],\n",
       "        [-14.0168],\n",
       "        [-14.0126],\n",
       "        [-14.0136],\n",
       "        [-14.0127],\n",
       "        [-14.0138],\n",
       "        [-14.0147],\n",
       "        [-14.0144],\n",
       "        [-14.0147],\n",
       "        [-14.0163],\n",
       "        [-14.0146],\n",
       "        [-14.0169],\n",
       "        [-14.0158],\n",
       "        [-14.0148],\n",
       "        [-14.0151],\n",
       "        [-14.0168],\n",
       "        [-14.0128],\n",
       "        [-14.0144],\n",
       "        [-14.0134],\n",
       "        [-14.0162],\n",
       "        [-14.0127],\n",
       "        [-14.0126],\n",
       "        [-14.0125],\n",
       "        [-14.0168],\n",
       "        [-14.0117],\n",
       "        [-14.0144],\n",
       "        [-14.0162],\n",
       "        [-14.0167],\n",
       "        [-14.0171],\n",
       "        [-14.0162],\n",
       "        [-14.0151],\n",
       "        [-14.0157],\n",
       "        [-14.0123],\n",
       "        [-14.0122],\n",
       "        [-14.0128],\n",
       "        [-14.0145],\n",
       "        [-14.0145],\n",
       "        [-14.0160],\n",
       "        [-14.0128],\n",
       "        [-14.0145],\n",
       "        [-14.0153],\n",
       "        [-14.0125],\n",
       "        [-14.0114],\n",
       "        [-14.0126],\n",
       "        [-14.0137],\n",
       "        [-14.0147],\n",
       "        [-14.0165],\n",
       "        [-14.0130],\n",
       "        [-14.0124],\n",
       "        [-14.0133],\n",
       "        [-14.0138],\n",
       "        [-14.0170],\n",
       "        [-14.0124],\n",
       "        [-14.0132],\n",
       "        [-14.0166],\n",
       "        [-14.0139],\n",
       "        [-14.0119],\n",
       "        [-14.0158],\n",
       "        [-14.0132],\n",
       "        [-14.0148],\n",
       "        [-14.0132],\n",
       "        [-14.0128],\n",
       "        [-14.0122],\n",
       "        [-14.0147],\n",
       "        [-14.0142],\n",
       "        [-14.0169],\n",
       "        [-14.0156],\n",
       "        [-14.0171],\n",
       "        [-14.0159],\n",
       "        [-14.0156],\n",
       "        [-14.0124],\n",
       "        [-14.0126],\n",
       "        [-14.0137],\n",
       "        [-14.0115],\n",
       "        [-14.0158],\n",
       "        [-14.0137],\n",
       "        [-14.0155],\n",
       "        [-14.0156],\n",
       "        [-14.0121],\n",
       "        [-14.0116],\n",
       "        [-14.0131],\n",
       "        [-14.0150],\n",
       "        [-14.0125],\n",
       "        [-14.0152],\n",
       "        [-14.0152],\n",
       "        [-14.0125],\n",
       "        [-14.0139],\n",
       "        [-14.0142],\n",
       "        [-14.0133],\n",
       "        [-14.0154],\n",
       "        [-14.0138],\n",
       "        [-14.0160],\n",
       "        [-14.0159],\n",
       "        [-14.0118],\n",
       "        [-14.0118],\n",
       "        [-14.0131],\n",
       "        [-14.0163],\n",
       "        [-14.0167],\n",
       "        [-14.0129],\n",
       "        [-14.0139],\n",
       "        [-14.0121],\n",
       "        [-14.0132],\n",
       "        [-14.0118],\n",
       "        [-14.0143],\n",
       "        [-14.0121],\n",
       "        [-14.0116],\n",
       "        [-14.0160],\n",
       "        [-14.0138],\n",
       "        [-14.0167],\n",
       "        [-14.0153],\n",
       "        [-14.0157],\n",
       "        [-14.0138],\n",
       "        [-14.0124],\n",
       "        [-14.0165],\n",
       "        [-14.0160],\n",
       "        [-14.0167],\n",
       "        [-14.0160],\n",
       "        [-14.0119],\n",
       "        [-14.0152],\n",
       "        [-14.0116],\n",
       "        [-14.0141]], device='cuda:0')"
      ]
     },
     "execution_count": 40,
     "metadata": {},
     "output_type": "execute_result"
    }
   ],
   "source": [
    "torch.logsumexp(m+dl, -2)"
   ]
  },
  {
   "cell_type": "code",
   "execution_count": 67,
   "metadata": {},
   "outputs": [
    {
     "data": {
      "text/plain": [
       "tensor([[9.5797],\n",
       "        [9.4880],\n",
       "        [9.2278],\n",
       "        ...,\n",
       "        [9.4733],\n",
       "        [9.2224],\n",
       "        [9.2204]], device='cuda:0')"
      ]
     },
     "execution_count": 67,
     "metadata": {},
     "output_type": "execute_result"
    }
   ],
   "source": [
    "c"
   ]
  },
  {
   "cell_type": "code",
   "execution_count": 5,
   "metadata": {},
   "outputs": [
    {
     "name": "stdout",
     "output_type": "stream",
     "text": [
      "Compiling libKeOpstorch1b684f012a in /home/ordabayev/.cache/pykeops-1.4.1-cpython-37/build-libKeOpstorch1b684f012a:\n",
      "       formula: Sum_Reduction(Exp(Minus(Sum(Square((Var(0,3,0) - Var(1,3,1)))))),0)\n",
      "       aliases: Var(0,3,0); Var(1,3,1); \n",
      "       dtype  : float32\n",
      "... Done.\n"
     ]
    }
   ],
   "source": [
    "# Create two arrays with 3 columns and a (huge) number of lines, on the GPU\n",
    "import torch\n",
    "x = torch.randn(1000000, 3, requires_grad=True).cuda()\n",
    "y = torch.randn(2000000, 3).cuda()\n",
    "\n",
    "# Turn our Tensors into KeOps symbolic variables:\n",
    "from pykeops.torch import LazyTensor\n",
    "x_i = LazyTensor( x[:,None,:] )  # x_i.shape = (1e6, 1, 3)\n",
    "y_j = LazyTensor( y[None,:,:] )  # y_j.shape = ( 1, 2e6,3)\n",
    "\n",
    "# We can now perform large-scale computations, without memory overflows:\n",
    "D_ij = ((x_i - y_j)**2).sum(dim=2)  # Symbolic (1e6,2e6,1) matrix of squared distances\n",
    "K_ij = (- D_ij).exp()               # Symbolic (1e6,2e6,1) Gaussian kernel matrix\n",
    "\n",
    "# And come back to vanilla PyTorch Tensors or NumPy arrays using\n",
    "# reduction operations such as .sum(), .logsumexp() or .argmin().\n",
    "# Here, the kernel density estimation   a_i = sum_j exp(-|x_i-y_j|^2)\n",
    "# is computed using a CUDA online map-reduce routine that has a linear\n",
    "# memory footprint and outperforms standard PyTorch implementations\n",
    "# by two orders of magnitude.\n",
    "a_i = K_ij.sum(dim=1)  # Genuine torch.cuda.FloatTensor, a_i.shape = (1e6, 1),\n",
    "#g_x = torch.autograd.grad((a_i ** 2).sum(), [x])  # KeOps supports autograd!"
   ]
  },
  {
   "cell_type": "code",
   "execution_count": 15,
   "metadata": {},
   "outputs": [],
   "source": [
    "(a_i ** 2).sum().backward()"
   ]
  },
  {
   "cell_type": "code",
   "execution_count": 17,
   "metadata": {},
   "outputs": [
    {
     "data": {
      "text/plain": [
       "<pykeops.common.lazy_tensor.LazyTensor at 0x7f13c399a8d0>"
      ]
     },
     "execution_count": 17,
     "metadata": {},
     "output_type": "execute_result"
    }
   ],
   "source": [
    "D_ij"
   ]
  },
  {
   "cell_type": "code",
   "execution_count": 16,
   "metadata": {},
   "outputs": [
    {
     "name": "stderr",
     "output_type": "stream",
     "text": [
      "/home/ordabayev/anaconda3/envs/dev/lib/python3.7/site-packages/ipykernel_launcher.py:1: UserWarning: The .grad attribute of a Tensor that is not a leaf Tensor is being accessed. Its .grad attribute won't be populated during autograd.backward(). If you indeed want the gradient for a non-leaf Tensor, use .retain_grad() on the non-leaf Tensor. If you access the non-leaf Tensor by mistake, make sure you access the leaf Tensor instead. See github.com/pytorch/pytorch/pull/30531 for more informations.\n",
      "  \"\"\"Entry point for launching an IPython kernel.\n"
     ]
    }
   ],
   "source": [
    "x.grad"
   ]
  },
  {
   "cell_type": "code",
   "execution_count": 3,
   "metadata": {},
   "outputs": [
    {
     "name": "stdout",
     "output_type": "stream",
     "text": [
      "/home/ordabayev/.cache/pykeops-1.4.1-cpython-37/libKeOpstorch45062eb96e.cpython-37m-x86_64-linux-gnu.so has been removed.\n",
      "/home/ordabayev/.cache/pykeops-1.4.1-cpython-37/libKeOpstorch1b684f012a.cpython-37m-x86_64-linux-gnu.so has been removed.\n",
      "/home/ordabayev/.cache/pykeops-1.4.1-cpython-37/libKeOpstorch45062eb96e.so has been removed.\n",
      "/home/ordabayev/.cache/pykeops-1.4.1-cpython-37/libKeOpstorch1b684f012a.so has been removed.\n",
      "Compiling libKeOpstorch01eb396f50 in /home/ordabayev/.cache/pykeops-1.4.1-cpython-37/build-libKeOpstorch01eb396f50:\n",
      "       formula: Sum_Reduction(SqNorm2(x - y),1)\n",
      "       aliases: x = Vi(0,3); y = Vj(1,3); \n",
      "       dtype  : float32\n",
      "... Done.\n",
      "\n",
      "pyKeOps with torch bindings is working!\n",
      "\n"
     ]
    }
   ],
   "source": [
    "import pykeops\n",
    "pykeops.clean_pykeops()          # just in case old build files are still present\n",
    "pykeops.test_torch_bindings()    # perform the compilation"
   ]
  },
  {
   "cell_type": "code",
   "execution_count": 187,
   "metadata": {},
   "outputs": [
    {
     "data": {
      "text/plain": [
       "tensor(-0.0758)"
      ]
     },
     "execution_count": 187,
     "metadata": {},
     "output_type": "execute_result"
    }
   ],
   "source": [
    "-0.5 + torch.logsumexp(x+0.5, 0)"
   ]
  },
  {
   "cell_type": "code",
   "execution_count": null,
   "metadata": {},
   "outputs": [],
   "source": [
    "for i in range(len(x)):\n",
    "    result = "
   ]
  },
  {
   "cell_type": "code",
   "execution_count": 205,
   "metadata": {},
   "outputs": [
    {
     "data": {
      "text/plain": [
       "tensor(-1.6867)"
      ]
     },
     "execution_count": 205,
     "metadata": {},
     "output_type": "execute_result"
    }
   ],
   "source": [
    "torch.logsumexp(x[:2], 0)"
   ]
  },
  {
   "cell_type": "code",
   "execution_count": 206,
   "metadata": {},
   "outputs": [
    {
     "data": {
      "text/plain": [
       "tensor(-0.2986)"
      ]
     },
     "execution_count": 206,
     "metadata": {},
     "output_type": "execute_result"
    }
   ],
   "source": [
    "torch.logsumexp(x[2:], 0)"
   ]
  },
  {
   "cell_type": "code",
   "execution_count": 207,
   "metadata": {},
   "outputs": [
    {
     "data": {
      "text/plain": [
       "tensor(-0.0758)"
      ]
     },
     "execution_count": 207,
     "metadata": {},
     "output_type": "execute_result"
    }
   ],
   "source": [
    "torch.logsumexp(torch.tensor([-1.6867, -0.2986]), 0)"
   ]
  },
  {
   "cell_type": "code",
   "execution_count": 281,
   "metadata": {},
   "outputs": [],
   "source": [
    "x = torch.rand(3, 4, 21)"
   ]
  },
  {
   "cell_type": "code",
   "execution_count": 282,
   "metadata": {},
   "outputs": [
    {
     "data": {
      "text/plain": [
       "tensor([[3.6708, 3.7168, 3.6054, 3.5687],\n",
       "        [3.4495, 3.6599, 3.4191, 3.5663],\n",
       "        [3.6116, 3.5416, 3.4584, 3.5281]])"
      ]
     },
     "execution_count": 282,
     "metadata": {},
     "output_type": "execute_result"
    }
   ],
   "source": [
    "torch.logsumexp(x, -1)"
   ]
  },
  {
   "cell_type": "code",
   "execution_count": 286,
   "metadata": {},
   "outputs": [
    {
     "data": {
      "text/plain": [
       "(7, 0)"
      ]
     },
     "execution_count": 286,
     "metadata": {},
     "output_type": "execute_result"
    }
   ],
   "source": [
    "divmod(21, 3)"
   ]
  },
  {
   "cell_type": "code",
   "execution_count": 285,
   "metadata": {},
   "outputs": [
    {
     "data": {
      "text/plain": [
       "tensor([[3.6708, 3.7168, 3.6054, 3.5687],\n",
       "        [3.4495, 3.6599, 3.4191, 3.5663],\n",
       "        [3.6116, 3.5416, 3.4584, 3.5281]])"
      ]
     },
     "execution_count": 285,
     "metadata": {},
     "output_type": "execute_result"
    }
   ],
   "source": [
    "result = x[..., :1]\n",
    "for i in range(7):\n",
    "    result = torch.logsumexp(torch.cat((result, x[..., 1+3*i:1+3*(i+1)]), -1), -1, keepdim=True)\n",
    "result.squeeze(-1)"
   ]
  },
  {
   "cell_type": "code",
   "execution_count": 263,
   "metadata": {},
   "outputs": [],
   "source": [
    "def logsumexp(value):\n",
    "    k = value.shape[-1]\n",
    "    print(k)\n",
    "    if k > 5:\n",
    "        lse1 = logsumexp(value[..., :5])\n",
    "        lse2 = logsumexp(value[..., 5:])\n",
    "        result = torch.logsumexp(torch.cat((lse1, lse2), -1), -1, keepdim=True)\n",
    "    elif k == 1:\n",
    "        result = value\n",
    "    else:\n",
    "        result = torch.logsumexp(value, -1, keepdim=True)\n",
    "    print(result.shape)\n",
    "    return result"
   ]
  },
  {
   "cell_type": "code",
   "execution_count": 264,
   "metadata": {},
   "outputs": [
    {
     "name": "stdout",
     "output_type": "stream",
     "text": [
      "21\n",
      "5\n",
      "torch.Size([3, 4, 1])\n",
      "16\n",
      "5\n",
      "torch.Size([3, 4, 1])\n",
      "11\n",
      "5\n",
      "torch.Size([3, 4, 1])\n",
      "6\n",
      "5\n",
      "torch.Size([3, 4, 1])\n",
      "1\n",
      "torch.Size([3, 4, 1])\n",
      "torch.Size([3, 4, 1])\n",
      "torch.Size([3, 4, 1])\n",
      "torch.Size([3, 4, 1])\n",
      "torch.Size([3, 4, 1])\n"
     ]
    },
    {
     "data": {
      "text/plain": [
       "tensor([[3.6162, 3.5797, 3.5220, 3.6030],\n",
       "        [3.6379, 3.6066, 3.6532, 3.6106],\n",
       "        [3.5565, 3.5000, 3.6111, 3.5121]])"
      ]
     },
     "execution_count": 264,
     "metadata": {},
     "output_type": "execute_result"
    }
   ],
   "source": [
    "logsumexp(x).squeeze()"
   ]
  },
  {
   "cell_type": "code",
   "execution_count": 194,
   "metadata": {},
   "outputs": [
    {
     "data": {
      "text/plain": [
       "tensor(-0.0758)"
      ]
     },
     "execution_count": 194,
     "metadata": {},
     "output_type": "execute_result"
    }
   ],
   "source": [
    "-0.5 - 1.5 + torch.logsumexp(x+0.5+1.5, 0)"
   ]
  },
  {
   "cell_type": "code",
   "execution_count": 196,
   "metadata": {},
   "outputs": [
    {
     "data": {
      "text/plain": [
       "tensor(-0.0758)"
      ]
     },
     "execution_count": 196,
     "metadata": {},
     "output_type": "execute_result"
    }
   ],
   "source": [
    "-0.5 - 1.5 + torch.logsumexp(x+0.5+1.5, 0)"
   ]
  },
  {
   "cell_type": "code",
   "execution_count": 186,
   "metadata": {},
   "outputs": [
    {
     "data": {
      "text/plain": [
       "tensor([-3., -2., -2.])"
      ]
     },
     "execution_count": 186,
     "metadata": {},
     "output_type": "execute_result"
    }
   ],
   "source": [
    "x[:-1]"
   ]
  },
  {
   "cell_type": "code",
   "execution_count": 156,
   "metadata": {},
   "outputs": [
    {
     "data": {
      "image/png": "[encoded data removed]",
      "text/plain": [
       "<Figure size 432x288 with 1 Axes>"
      ]
     },
     "metadata": {
      "needs_background": "light"
     },
     "output_type": "display_data"
    }
   ],
   "source": [
    "x = torch.arange(0, 2000., 1)\n",
    "d0 = MultiModal(\n",
    "    pyro.param(\"d/h_loc\").flatten().data * pyro.param(\"d/h_beta\").flatten().data,\n",
    "    pyro.param(\"d/h_beta\").flatten().data,\n",
    "    (model.z_probs[..., 1].flatten() / model.z_probs[..., 1].sum()).log())\n",
    "plt.plot(x, d0.log_prob(x).exp().data, \"-\", label=\"2.25\")\n",
    "d1 = MultiModal(\n",
    "    pyro.param(\"d/h_loc\").flatten().data * pyro.param(\"d/h_beta\").flatten().data,\n",
    "    pyro.param(\"d/h_beta\").flatten().data,\n",
    "    (model.j_probs[..., 1].flatten() / model.j_probs[..., 1].sum()).log())\n",
    "plt.plot(x, d1.log_prob(x).exp().data, \"-\", label=\"2.25\")\n",
    "d2 = MultiModal(\n",
    "    pyro.param(\"d/h_loc\").flatten().data * pyro.param(\"d/h_beta\").flatten().data,\n",
    "    pyro.param(\"d/h_beta\").flatten().data,\n",
    "    (model.m_probs[..., 1].flatten() / model.m_probs[..., 1].sum()).log())\n",
    "plt.plot(x, d2.log_prob(x).exp().data, \"-\", label=\"2.25\")\n",
    "d3 = dist.HalfNormal(10000.)\n",
    "plt.plot(x, d3.log_prob(x).exp().data, \"-\", label=\"2.25\")\n",
    "plt.show()"
   ]
  },
  {
   "cell_type": "code",
   "execution_count": 74,
   "metadata": {},
   "outputs": [
    {
     "data": {
      "text/plain": [
       "tensor([[  197.3169,  2463.0132, 16994.2617],\n",
       "        [   77.1033,  1557.9419,  3418.8398]], grad_fn=<DivBackward0>)"
      ]
     },
     "execution_count": 74,
     "metadata": {},
     "output_type": "execute_result"
    }
   ],
   "source": [
    "pyro.param(\"height_concentration\") / pyro.param(\"height_beta\")"
   ]
  },
  {
   "cell_type": "code",
   "execution_count": 75,
   "metadata": {},
   "outputs": [
    {
     "data": {
      "text/plain": [
       "tensor([[5.6921e-02, 5.9123e-01, 3.5185e-01],\n",
       "        [2.0792e-04, 7.8784e-01, 2.1195e-01]], grad_fn=<DivBackward0>)"
      ]
     },
     "execution_count": 75,
     "metadata": {},
     "output_type": "execute_result"
    }
   ],
   "source": [
    "pyro.param(\"height_pi\")"
   ]
  },
  {
   "cell_type": "code",
   "execution_count": 52,
   "metadata": {},
   "outputs": [
    {
     "data": {
      "text/plain": [
       "tensor([ 0.9096,  1.3247, 21.1137], grad_fn=<AddBackward0>)"
      ]
     },
     "execution_count": 52,
     "metadata": {},
     "output_type": "execute_result"
    }
   ],
   "source": [
    "pyro.param(\"height_concentration\")"
   ]
  },
  {
   "cell_type": "code",
   "execution_count": 77,
   "metadata": {},
   "outputs": [
    {
     "data": {
      "text/plain": [
       "tensor(9.2687, grad_fn=<MaxBackward1>)"
      ]
     },
     "execution_count": 77,
     "metadata": {},
     "output_type": "execute_result"
    }
   ],
   "source": [
    "pyro.param(\"d/logits_state\").max()"
   ]
  },
  {
   "cell_type": "code",
   "execution_count": null,
   "metadata": {},
   "outputs": [],
   "source": []
  },
  {
   "cell_type": "code",
   "execution_count": null,
   "metadata": {},
   "outputs": [],
   "source": []
  }
 ],
 "metadata": {
  "hide_input": false,
  "kernelspec": {
   "display_name": "Python 3",
   "language": "python",
   "name": "python3"
  },
  "language_info": {
   "codemirror_mode": {
    "name": "ipython",
    "version": 3
   },
   "file_extension": ".py",
   "mimetype": "text/x-python",
   "name": "python",
   "nbconvert_exporter": "python",
   "pygments_lexer": "ipython3",
   "version": "3.7.7"
  }
 },
 "nbformat": 4,
 "nbformat_minor": 4
}
