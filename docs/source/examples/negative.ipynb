{
 "cells": [
  {
   "cell_type": "markdown",
   "metadata": {},
   "source": [
    "# No target-specific binding"
   ]
  },
  {
   "cell_type": "code",
   "execution_count": 1,
   "metadata": {},
   "outputs": [],
   "source": [
    "import numpy as np\n",
    "import pandas as pd\n",
    "import pyro\n",
    "import torch\n",
    "import matplotlib.pyplot as plt\n",
    "from collections import defaultdict\n",
    "from matplotlib.ticker import FormatStrFormatter\n",
    "from pathlib import Path\n",
    "\n",
    "from tapqir.models import Cosmos"
   ]
  },
  {
   "cell_type": "markdown",
   "metadata": {},
   "source": [
    "## Load results"
   ]
  },
  {
   "cell_type": "code",
   "execution_count": 2,
   "metadata": {},
   "outputs": [],
   "source": [
    "EXAMLES_DIR = Path.cwd().resolve().parent.parent.parent / \"examples\" / \"data\""
   ]
  },
  {
   "cell_type": "code",
   "execution_count": 18,
   "metadata": {},
   "outputs": [],
   "source": [
    "truth = {}\n",
    "fit = {}\n",
    "predictions = defaultdict(dict)\n",
    "for data_path in EXAMLES_DIR.iterdir():\n",
    "    if data_path.is_dir() and data_path.name.startswith(\"negative\"):\n",
    "        # load results\n",
    "        truth[data_path.name] = pd.read_csv(\n",
    "            data_path / \"simulated_params.csv\",\n",
    "            squeeze=True, index_col=0\n",
    "        ).rename(data_path.name)\n",
    "        \n",
    "        param_path = data_path / \"runs/cosmos/v1.1.6/S1/control/lr0.005/bs4/\"\n",
    "        \n",
    "        fit[data_path.name] = pd.read_csv(\n",
    "            param_path / \"statistics.csv\",\n",
    "            squeeze=True,\n",
    "            index_col=0\n",
    "        ).rename(data_path.name)\n",
    "        fit[data_path.name][\"lamda\"] = truth[data_path.name][\"lamda\"]\n",
    "        \n",
    "        model = Cosmos()\n",
    "        model.load(data_path, True)\n",
    "        model.load_parameters(param_path)\n",
    "        predictions[data_path.name][\"z_all\"] = model.z_marginal.flatten()"
   ]
  },
  {
   "cell_type": "code",
   "execution_count": 19,
   "metadata": {},
   "outputs": [
    {
     "data": {
      "text/html": [
       "<div>\n",
       "<style scoped>\n",
       "    .dataframe tbody tr th:only-of-type {\n",
       "        vertical-align: middle;\n",
       "    }\n",
       "\n",
       "    .dataframe tbody tr th {\n",
       "        vertical-align: top;\n",
       "    }\n",
       "\n",
       "    .dataframe thead th {\n",
       "        text-align: right;\n",
       "    }\n",
       "</style>\n",
       "<table border=\"1\" class=\"dataframe\">\n",
       "  <thead>\n",
       "    <tr style=\"text-align: right;\">\n",
       "      <th></th>\n",
       "      <th>width</th>\n",
       "      <th>gain</th>\n",
       "      <th>pi</th>\n",
       "      <th>lamda</th>\n",
       "      <th>proximity</th>\n",
       "      <th>offset</th>\n",
       "      <th>height</th>\n",
       "      <th>background</th>\n",
       "      <th>snr</th>\n",
       "      <th>N</th>\n",
       "      <th>F</th>\n",
       "      <th>Nc</th>\n",
       "      <th>Fc</th>\n",
       "      <th>P</th>\n",
       "    </tr>\n",
       "  </thead>\n",
       "  <tbody>\n",
       "    <tr>\n",
       "      <th>negative0.01</th>\n",
       "      <td>1.4</td>\n",
       "      <td>7.0</td>\n",
       "      <td>0.0</td>\n",
       "      <td>0.01</td>\n",
       "      <td>0.2</td>\n",
       "      <td>90.0</td>\n",
       "      <td>3000.0</td>\n",
       "      <td>150.0</td>\n",
       "      <td>3.758899</td>\n",
       "      <td>5.0</td>\n",
       "      <td>500.0</td>\n",
       "      <td>5.0</td>\n",
       "      <td>500.0</td>\n",
       "      <td>14.0</td>\n",
       "    </tr>\n",
       "    <tr>\n",
       "      <th>negative0.05</th>\n",
       "      <td>1.4</td>\n",
       "      <td>7.0</td>\n",
       "      <td>0.0</td>\n",
       "      <td>0.05</td>\n",
       "      <td>0.2</td>\n",
       "      <td>90.0</td>\n",
       "      <td>3000.0</td>\n",
       "      <td>150.0</td>\n",
       "      <td>3.758899</td>\n",
       "      <td>5.0</td>\n",
       "      <td>500.0</td>\n",
       "      <td>5.0</td>\n",
       "      <td>500.0</td>\n",
       "      <td>14.0</td>\n",
       "    </tr>\n",
       "    <tr>\n",
       "      <th>negative0.15</th>\n",
       "      <td>1.4</td>\n",
       "      <td>7.0</td>\n",
       "      <td>0.0</td>\n",
       "      <td>0.15</td>\n",
       "      <td>0.2</td>\n",
       "      <td>90.0</td>\n",
       "      <td>3000.0</td>\n",
       "      <td>150.0</td>\n",
       "      <td>3.758899</td>\n",
       "      <td>5.0</td>\n",
       "      <td>500.0</td>\n",
       "      <td>5.0</td>\n",
       "      <td>500.0</td>\n",
       "      <td>14.0</td>\n",
       "    </tr>\n",
       "    <tr>\n",
       "      <th>negative0.5</th>\n",
       "      <td>1.4</td>\n",
       "      <td>7.0</td>\n",
       "      <td>0.0</td>\n",
       "      <td>0.50</td>\n",
       "      <td>0.2</td>\n",
       "      <td>90.0</td>\n",
       "      <td>3000.0</td>\n",
       "      <td>150.0</td>\n",
       "      <td>3.758899</td>\n",
       "      <td>5.0</td>\n",
       "      <td>500.0</td>\n",
       "      <td>5.0</td>\n",
       "      <td>500.0</td>\n",
       "      <td>14.0</td>\n",
       "    </tr>\n",
       "    <tr>\n",
       "      <th>negative1</th>\n",
       "      <td>1.4</td>\n",
       "      <td>7.0</td>\n",
       "      <td>0.0</td>\n",
       "      <td>1.00</td>\n",
       "      <td>0.2</td>\n",
       "      <td>90.0</td>\n",
       "      <td>3000.0</td>\n",
       "      <td>150.0</td>\n",
       "      <td>3.758899</td>\n",
       "      <td>5.0</td>\n",
       "      <td>500.0</td>\n",
       "      <td>5.0</td>\n",
       "      <td>500.0</td>\n",
       "      <td>14.0</td>\n",
       "    </tr>\n",
       "  </tbody>\n",
       "</table>\n",
       "</div>"
      ],
      "text/plain": [
       "              width  gain   pi  lamda  proximity  offset  height  background  \\\n",
       "negative0.01    1.4   7.0  0.0   0.01        0.2    90.0  3000.0       150.0   \n",
       "negative0.05    1.4   7.0  0.0   0.05        0.2    90.0  3000.0       150.0   \n",
       "negative0.15    1.4   7.0  0.0   0.15        0.2    90.0  3000.0       150.0   \n",
       "negative0.5     1.4   7.0  0.0   0.50        0.2    90.0  3000.0       150.0   \n",
       "negative1       1.4   7.0  0.0   1.00        0.2    90.0  3000.0       150.0   \n",
       "\n",
       "                   snr    N      F   Nc     Fc     P  \n",
       "negative0.01  3.758899  5.0  500.0  5.0  500.0  14.0  \n",
       "negative0.05  3.758899  5.0  500.0  5.0  500.0  14.0  \n",
       "negative0.15  3.758899  5.0  500.0  5.0  500.0  14.0  \n",
       "negative0.5   3.758899  5.0  500.0  5.0  500.0  14.0  \n",
       "negative1     3.758899  5.0  500.0  5.0  500.0  14.0  "
      ]
     },
     "execution_count": 19,
     "metadata": {},
     "output_type": "execute_result"
    }
   ],
   "source": [
    "truth_df = pd.concat(truth.values(), axis=1).T.sort_values(by=\"lamda\")\n",
    "truth_df"
   ]
  },
  {
   "cell_type": "code",
   "execution_count": 20,
   "metadata": {},
   "outputs": [
    {
     "data": {
      "text/plain": [
       "negative0.01    True\n",
       "negative0.05    True\n",
       "negative0.15    True\n",
       "negative0.5     True\n",
       "negative1       True\n",
       "Name: converged, dtype: object"
      ]
     },
     "execution_count": 20,
     "metadata": {},
     "output_type": "execute_result"
    }
   ],
   "source": [
    "fit_df = pd.concat(fit.values(), axis=1).T.sort_values(by=\"lamda\")\n",
    "fit_df[\"converged\"]"
   ]
  },
  {
   "cell_type": "code",
   "execution_count": 21,
   "metadata": {},
   "outputs": [
    {
     "data": {
      "text/html": [
       "<div>\n",
       "<style scoped>\n",
       "    .dataframe tbody tr th:only-of-type {\n",
       "        vertical-align: middle;\n",
       "    }\n",
       "\n",
       "    .dataframe tbody tr th {\n",
       "        vertical-align: top;\n",
       "    }\n",
       "\n",
       "    .dataframe thead th {\n",
       "        text-align: right;\n",
       "    }\n",
       "</style>\n",
       "<table border=\"1\" class=\"dataframe\">\n",
       "  <thead>\n",
       "    <tr style=\"text-align: right;\">\n",
       "      <th></th>\n",
       "      <th>snr</th>\n",
       "      <th>gain_mean</th>\n",
       "      <th>gain_ll</th>\n",
       "      <th>gain_ul</th>\n",
       "      <th>pi_mean</th>\n",
       "      <th>pi_ll</th>\n",
       "      <th>pi_ul</th>\n",
       "      <th>lamda_mean</th>\n",
       "      <th>lamda_ll</th>\n",
       "      <th>lamda_ul</th>\n",
       "      <th>...</th>\n",
       "      <th>Recall</th>\n",
       "      <th>Precision</th>\n",
       "      <th>TN</th>\n",
       "      <th>FP</th>\n",
       "      <th>FN</th>\n",
       "      <th>TP</th>\n",
       "      <th>p(specific)_median</th>\n",
       "      <th>p(specific)_ll</th>\n",
       "      <th>p(specific)_ul</th>\n",
       "      <th>lamda</th>\n",
       "    </tr>\n",
       "  </thead>\n",
       "  <tbody>\n",
       "    <tr>\n",
       "      <th>negative0.01</th>\n",
       "      <td>3.543571</td>\n",
       "      <td>7.034984</td>\n",
       "      <td>7.017546</td>\n",
       "      <td>7.055131</td>\n",
       "      <td>0.004198</td>\n",
       "      <td>0.001351</td>\n",
       "      <td>0.008792</td>\n",
       "      <td>0.007998</td>\n",
       "      <td>0.005542</td>\n",
       "      <td>0.011232</td>\n",
       "      <td>...</td>\n",
       "      <td>0.0</td>\n",
       "      <td>0.0</td>\n",
       "      <td>2493.0</td>\n",
       "      <td>7.0</td>\n",
       "      <td>0.0</td>\n",
       "      <td>0.0</td>\n",
       "      <td>0.0</td>\n",
       "      <td>0.0</td>\n",
       "      <td>0.0</td>\n",
       "      <td>0.01</td>\n",
       "    </tr>\n",
       "    <tr>\n",
       "      <th>negative0.05</th>\n",
       "      <td>NaN</td>\n",
       "      <td>7.021611</td>\n",
       "      <td>7.001163</td>\n",
       "      <td>7.041877</td>\n",
       "      <td>0.001283</td>\n",
       "      <td>0.000050</td>\n",
       "      <td>0.004712</td>\n",
       "      <td>0.053947</td>\n",
       "      <td>0.047363</td>\n",
       "      <td>0.060513</td>\n",
       "      <td>...</td>\n",
       "      <td>0.0</td>\n",
       "      <td>0.0</td>\n",
       "      <td>2500.0</td>\n",
       "      <td>0.0</td>\n",
       "      <td>0.0</td>\n",
       "      <td>0.0</td>\n",
       "      <td>0.0</td>\n",
       "      <td>0.0</td>\n",
       "      <td>0.0</td>\n",
       "      <td>0.05</td>\n",
       "    </tr>\n",
       "    <tr>\n",
       "      <th>negative0.15</th>\n",
       "      <td>NaN</td>\n",
       "      <td>7.020396</td>\n",
       "      <td>7.001756</td>\n",
       "      <td>7.040480</td>\n",
       "      <td>0.001261</td>\n",
       "      <td>0.000020</td>\n",
       "      <td>0.005648</td>\n",
       "      <td>0.159788</td>\n",
       "      <td>0.149108</td>\n",
       "      <td>0.171986</td>\n",
       "      <td>...</td>\n",
       "      <td>0.0</td>\n",
       "      <td>0.0</td>\n",
       "      <td>2500.0</td>\n",
       "      <td>0.0</td>\n",
       "      <td>0.0</td>\n",
       "      <td>0.0</td>\n",
       "      <td>0.0</td>\n",
       "      <td>0.0</td>\n",
       "      <td>0.0</td>\n",
       "      <td>0.15</td>\n",
       "    </tr>\n",
       "    <tr>\n",
       "      <th>negative0.5</th>\n",
       "      <td>NaN</td>\n",
       "      <td>7.023759</td>\n",
       "      <td>7.006126</td>\n",
       "      <td>7.046165</td>\n",
       "      <td>0.004256</td>\n",
       "      <td>0.000529</td>\n",
       "      <td>0.010335</td>\n",
       "      <td>0.500412</td>\n",
       "      <td>0.482074</td>\n",
       "      <td>0.520397</td>\n",
       "      <td>...</td>\n",
       "      <td>0.0</td>\n",
       "      <td>0.0</td>\n",
       "      <td>2500.0</td>\n",
       "      <td>0.0</td>\n",
       "      <td>0.0</td>\n",
       "      <td>0.0</td>\n",
       "      <td>0.0</td>\n",
       "      <td>0.0</td>\n",
       "      <td>0.0</td>\n",
       "      <td>0.50</td>\n",
       "    </tr>\n",
       "    <tr>\n",
       "      <th>negative1</th>\n",
       "      <td>NaN</td>\n",
       "      <td>7.058651</td>\n",
       "      <td>7.037881</td>\n",
       "      <td>7.078246</td>\n",
       "      <td>0.001861</td>\n",
       "      <td>0.000006</td>\n",
       "      <td>0.009006</td>\n",
       "      <td>0.960751</td>\n",
       "      <td>0.936790</td>\n",
       "      <td>0.987746</td>\n",
       "      <td>...</td>\n",
       "      <td>0.0</td>\n",
       "      <td>0.0</td>\n",
       "      <td>2500.0</td>\n",
       "      <td>0.0</td>\n",
       "      <td>0.0</td>\n",
       "      <td>0.0</td>\n",
       "      <td>0.0</td>\n",
       "      <td>0.0</td>\n",
       "      <td>0.0</td>\n",
       "      <td>1.00</td>\n",
       "    </tr>\n",
       "  </tbody>\n",
       "</table>\n",
       "<p>5 rows × 27 columns</p>\n",
       "</div>"
      ],
      "text/plain": [
       "                   snr  gain_mean   gain_ll   gain_ul   pi_mean     pi_ll  \\\n",
       "negative0.01  3.543571   7.034984  7.017546  7.055131  0.004198  0.001351   \n",
       "negative0.05       NaN   7.021611  7.001163  7.041877  0.001283  0.000050   \n",
       "negative0.15       NaN   7.020396  7.001756  7.040480  0.001261  0.000020   \n",
       "negative0.5        NaN   7.023759  7.006126  7.046165  0.004256  0.000529   \n",
       "negative1          NaN   7.058651  7.037881  7.078246  0.001861  0.000006   \n",
       "\n",
       "                 pi_ul  lamda_mean  lamda_ll  lamda_ul  ...  Recall  \\\n",
       "negative0.01  0.008792    0.007998  0.005542  0.011232  ...     0.0   \n",
       "negative0.05  0.004712    0.053947  0.047363  0.060513  ...     0.0   \n",
       "negative0.15  0.005648    0.159788  0.149108  0.171986  ...     0.0   \n",
       "negative0.5   0.010335    0.500412  0.482074  0.520397  ...     0.0   \n",
       "negative1     0.009006    0.960751  0.936790  0.987746  ...     0.0   \n",
       "\n",
       "              Precision      TN   FP   FN   TP  p(specific)_median  \\\n",
       "negative0.01        0.0  2493.0  7.0  0.0  0.0                 0.0   \n",
       "negative0.05        0.0  2500.0  0.0  0.0  0.0                 0.0   \n",
       "negative0.15        0.0  2500.0  0.0  0.0  0.0                 0.0   \n",
       "negative0.5         0.0  2500.0  0.0  0.0  0.0                 0.0   \n",
       "negative1           0.0  2500.0  0.0  0.0  0.0                 0.0   \n",
       "\n",
       "              p(specific)_ll  p(specific)_ul  lamda  \n",
       "negative0.01             0.0             0.0   0.01  \n",
       "negative0.05             0.0             0.0   0.05  \n",
       "negative0.15             0.0             0.0   0.15  \n",
       "negative0.5              0.0             0.0   0.50  \n",
       "negative1                0.0             0.0   1.00  \n",
       "\n",
       "[5 rows x 27 columns]"
      ]
     },
     "execution_count": 21,
     "metadata": {},
     "output_type": "execute_result"
    }
   ],
   "source": [
    "fit_df = fit_df.drop(columns=[\"converged\"]).astype(float)\n",
    "fit_df"
   ]
  },
  {
   "cell_type": "code",
   "execution_count": 22,
   "metadata": {},
   "outputs": [
    {
     "data": {
      "text/plain": [
       "N                                       Number of on-target AOIs\n",
       "F                            Number of frames for on-target AOIs\n",
       "Nc                             Number of control off-target AOIs\n",
       "Fc                          Number of frames for off-target AOIs\n",
       "P                 Number of pixels along x- and y-axes of an AOI\n",
       "height                                            Spot intensity\n",
       "width                                                 Spot width\n",
       "snr                                        Signal-to-noise ratio\n",
       "background                                      Image background\n",
       "pi                   Average target-specific binding probability\n",
       "lamda                                  Non-specific binding rate\n",
       "proximity                                    Proximity parameter\n",
       "p(specific)    Probability of there being any target-specific...\n",
       "_ul                                           95% CI upper-limit\n",
       "_ll                                           95% CI lower-limit\n",
       "MCC                             Matthews correlation coefficient\n",
       "TP                                                True positives\n",
       "FN                                               False negatives\n",
       "TN                                                True negatives\n",
       "FP                                               False positives\n",
       "Name: Description, dtype: object"
      ]
     },
     "execution_count": 22,
     "metadata": {},
     "output_type": "execute_result"
    }
   ],
   "source": [
    "description = pd.Series(dtype=str, name=\"Description\")\n",
    "description[\"N\"] = \"Number of on-target AOIs\"\n",
    "description[\"F\"] = \"Number of frames for on-target AOIs\"\n",
    "description[\"Nc\"] = \"Number of control off-target AOIs\"\n",
    "description[\"Fc\"] = \"Number of frames for off-target AOIs\"\n",
    "description[\"P\"] = \"Number of pixels along x- and y-axes of an AOI\"\n",
    "description[\"height\"] = \"Spot intensity\"\n",
    "description[\"width\"] = \"Spot width\"\n",
    "description[\"snr\"] = \"Signal-to-noise ratio\"\n",
    "description[\"background\"] = \"Image background\"\n",
    "description[\"pi\"] = \"Average target-specific binding probability\"\n",
    "description[\"lamda\"] = \"Non-specific binding rate\"\n",
    "description[\"proximity\"] = \"Proximity parameter\"\n",
    "description[\"p(specific)\"] = \"Probability of there being any target-specific spot in an AOI image\"\n",
    "description[\"_ul\"] = \"95% CI upper-limit\"\n",
    "description[\"_ll\"] = \"95% CI lower-limit\"\n",
    "description[\"MCC\"] = \"Matthews correlation coefficient\"\n",
    "description[\"TP\"] = \"True positives\"\n",
    "description[\"FN\"] = \"False negatives\"\n",
    "description[\"TN\"] = \"True negatives\"\n",
    "description[\"FP\"] = \"False positives\"\n",
    "description"
   ]
  },
  {
   "cell_type": "markdown",
   "metadata": {},
   "source": [
    "## Supplementary Data 4"
   ]
  },
  {
   "cell_type": "code",
   "execution_count": 23,
   "metadata": {},
   "outputs": [],
   "source": [
    "with pd.ExcelWriter(\"/home/ordabayev/repos/tapqir-overleaf/supplementary/data4/negative.xlsx\") as writer:\n",
    "    truth_df.to_excel(writer, sheet_name=\"simulation\")\n",
    "    fit_df.to_excel(writer, sheet_name=\"fit\")\n",
    "    description.to_excel(writer, sheet_name=\"description\")"
   ]
  },
  {
   "cell_type": "markdown",
   "metadata": {},
   "source": [
    "## Figure 5"
   ]
  },
  {
   "cell_type": "code",
   "execution_count": 26,
   "metadata": {},
   "outputs": [
    {
     "data": {
      "image/png": "[encoded data removed]",
      "text/plain": [
       "<Figure size 90x90 with 1 Axes>"
      ]
     },
     "metadata": {
      "needs_background": "light"
     },
     "output_type": "display_data"
    },
    {
     "data": {
      "image/png": "[encoded data removed]",
      "text/plain": [
       "<Figure size 90x90 with 1 Axes>"
      ]
     },
     "metadata": {
      "needs_background": "light"
     },
     "output_type": "display_data"
    },
    {
     "data": {
      "image/png": "[encoded data removed]",
      "text/plain": [
       "<Figure size 90x90 with 1 Axes>"
      ]
     },
     "metadata": {
      "needs_background": "light"
     },
     "output_type": "display_data"
    },
    {
     "data": {
      "image/png": "[encoded data removed]",
      "text/plain": [
       "<Figure size 90x90 with 1 Axes>"
      ]
     },
     "metadata": {
      "needs_background": "light"
     },
     "output_type": "display_data"
    },
    {
     "data": {
      "image/png": "[encoded data removed]",
      "text/plain": [
       "<Figure size 90x90 with 1 Axes>"
      ]
     },
     "metadata": {
      "needs_background": "light"
     },
     "output_type": "display_data"
    }
   ],
   "source": [
    "for name in fit_df.index:\n",
    "    fig, ax = plt.subplots(figsize=(1.25, 1.25))\n",
    "    ax.hist(predictions[name][\"z_all\"].numpy(),\n",
    "             bins=np.arange(0, 1.05, 0.05), histtype=\"bar\", lw=1.,\n",
    "             color=\"#dddddd\", edgecolor=\"k\")\n",
    "    ax.set_yscale(\"log\")\n",
    "    ax.set_xlim(-0.05,1.05)\n",
    "    ax.set_ylim(1e-1, 5e3)\n",
    "    ax.set_xticks([0, 0.5, 1])\n",
    "    ax.tick_params(axis=\"x\", labelsize=8, top=True)\n",
    "    \n",
    "    if name == \"negative0.01\":\n",
    "        ax.set_ylabel(\"Counts\", fontsize=8)\n",
    "        ax.set_yticks([1, 10, 100, 1000])\n",
    "        ax.tick_params(axis=\"y\", labelsize=8)\n",
    "    else:\n",
    "        ax.set_yticks([])\n",
    "        ax.tick_params(axis=\"y\", labelsize=8)\n",
    "    if name == \"negative0.15\":\n",
    "        ax.set_xlabel(r\"$p(\\mathsf{specific})$\", fontsize=8)\n",
    "    ax.xaxis.set_major_formatter(FormatStrFormatter('%g'))\n",
    "    # plt.savefig(f\"/home/ordabayev/repos/tapqir-overleaf/figures/figure5/{name}.svg\")\n",
    "    plt.show()"
   ]
  },
  {
   "cell_type": "code",
   "execution_count": null,
   "metadata": {},
   "outputs": [],
   "source": []
  }
 ],
 "metadata": {
  "hide_input": false,
  "kernelspec": {
   "display_name": "Python 3",
   "language": "python",
   "name": "python3"
  },
  "language_info": {
   "codemirror_mode": {
    "name": "ipython",
    "version": 3
   },
   "file_extension": ".py",
   "mimetype": "text/x-python",
   "name": "python",
   "nbconvert_exporter": "python",
   "pygments_lexer": "ipython3",
   "version": "3.8.10"
  },
  "toc": {
   "base_numbering": 1,
   "nav_menu": {},
   "number_sections": true,
   "sideBar": true,
   "skip_h1_title": false,
   "title_cell": "Table of Contents",
   "title_sidebar": "Contents",
   "toc_cell": false,
   "toc_position": {},
   "toc_section_display": true,
   "toc_window_display": true
  }
 },
 "nbformat": 4,
 "nbformat_minor": 4
}
