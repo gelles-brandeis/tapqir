{
 "cells": [
  {
   "cell_type": "markdown",
   "metadata": {},
   "source": [
    "## Off-target frequency simulations with no on-target spots"
   ]
  },
  {
   "cell_type": "code",
   "execution_count": 1,
   "metadata": {},
   "outputs": [],
   "source": [
    "import numpy as np\n",
    "import pandas as pd\n",
    "import pyro\n",
    "import torch\n",
    "import matplotlib.pyplot as plt\n",
    "from collections import defaultdict\n",
    "from matplotlib.ticker import FormatStrFormatter\n",
    "from pathlib import Path\n",
    "from pyro.ops.stats import hpdi, quantile\n",
    "from pyro.infer import Predictive\n",
    "import pyro.distributions as dist\n",
    "\n",
    "from tapqir.models import Cosmos\n",
    "from tapqir.utils.stats import ci_from_trace"
   ]
  },
  {
   "cell_type": "markdown",
   "metadata": {},
   "source": [
    "### Load results"
   ]
  },
  {
   "cell_type": "code",
   "execution_count": 8,
   "metadata": {},
   "outputs": [],
   "source": [
    "EXAMLES_DIR = Path.cwd().resolve().parent.parent.parent / \"examples\" / \"data\""
   ]
  },
  {
   "cell_type": "code",
   "execution_count": 9,
   "metadata": {},
   "outputs": [],
   "source": [
    "D = 14\n",
    "background = 150\n",
    "gain = torch.tensor(7.)\n",
    "width = torch.tensor([1.4])\n",
    "rv = dist.MultivariateNormal(\n",
    "    torch.tensor([(D-1)/2, (D-1)/2]),\n",
    "    scale_tril=torch.eye(2) * width[..., None, None])\n",
    "\n",
    "D_range = torch.arange(D, dtype=torch.float)\n",
    "i_pixel, j_pixel = torch.meshgrid(D_range, D_range)\n",
    "ij_pixel = torch.stack((i_pixel, j_pixel), dim=-1)"
   ]
  },
  {
   "cell_type": "code",
   "execution_count": 11,
   "metadata": {},
   "outputs": [],
   "source": [
    "truth = {}\n",
    "fit = {}\n",
    "predictions = defaultdict(dict)\n",
    "models = {}\n",
    "for data_path in EXAMLES_DIR.iterdir():\n",
    "    if data_path.is_dir() and data_path.name.startswith(\"negative\"):\n",
    "        # load results\n",
    "        truth[data_path.name] = pd.read_csv(\n",
    "            data_path / \"simulated_params.csv\",\n",
    "            squeeze=True, index_col=0\n",
    "        ).rename(data_path.name)\n",
    "        \n",
    "        param_path = data_path / \"runs/cosmos/v1.1.6/S1/control/lr0.005/bs4/\"\n",
    "        \n",
    "        fit[data_path.name] = pd.read_csv(\n",
    "            param_path / \"global_params.csv\",\n",
    "            squeeze=True,\n",
    "            index_col=0\n",
    "        ).rename(data_path.name)\n",
    "        fit[data_path.name][\"lamda\"] = truth[data_path.name][\"lamda\"]\n",
    "        \n",
    "        models[data_path.name] = Cosmos()\n",
    "        models[data_path.name].load(data_path, True, \"cpu\")\n",
    "        models[data_path.name].load_parameters(param_path)\n",
    "        \n",
    "        # calculate ci\n",
    "        mask = torch.from_numpy(models[data_path.name].data.labels[\"z\"])\n",
    "        samples = torch.masked_select(models[data_path.name].z_marginal, mask)\n",
    "        predictions[data_path.name][\"z_masked\"] = samples\n",
    "        predictions[data_path.name][\"z_all\"] = models[data_path.name].z_marginal.flatten()\n",
    "        \n",
    "        tr = pyro.poutine.trace(models[data_path.name].guide).get_trace()\n",
    "        global_params = [\"gain\", \"pi\", \"lamda\", \"proximity\"]\n",
    "        ci_stats = ci_from_trace(tr, global_params)\n",
    "        \n",
    "        for param in global_params:\n",
    "            if param == \"pi\":\n",
    "                fit[data_path.name][f\"{param}_mean\"] = ci_stats[param][\"mean\"][1].item()\n",
    "                fit[data_path.name][f\"{param}_low\"] = ci_stats[param][\"low\"][1].item()\n",
    "                fit[data_path.name][f\"{param}_high\"] = ci_stats[param][\"high\"][1].item()\n",
    "            else:\n",
    "                fit[data_path.name][f\"{param}_mean\"] = ci_stats[param][\"mean\"]\n",
    "                fit[data_path.name][f\"{param}_low\"] = ci_stats[param][\"low\"]\n",
    "                fit[data_path.name][f\"{param}_high\"] = ci_stats[param][\"high\"]\n",
    "        fit[data_path.name][\"height\"] = truth[data_path.name][\"height\"]\n",
    "        #fit[data_path.name][\"seed\"] = int(data_path.name[4:])\n",
    "        \n",
    "        # snr\n",
    "        weights = rv.log_prob(ij_pixel).exp()\n",
    "        signal = (weights ** 2 * truth[data_path.name][\"height\"]).sum()\n",
    "        noise = np.sqrt((truth[data_path.name][\"background\"] * truth[data_path.name][\"gain\"]))\n",
    "        truth[data_path.name][\"snr\"] = float(signal / noise)\n",
    "        fit[data_path.name][\"snr\"] = models[data_path.name].snr().mean().item()"
   ]
  },
  {
   "cell_type": "code",
   "execution_count": 12,
   "metadata": {},
   "outputs": [
    {
     "data": {
      "text/html": [
       "<div>\n",
       "<style scoped>\n",
       "    .dataframe tbody tr th:only-of-type {\n",
       "        vertical-align: middle;\n",
       "    }\n",
       "\n",
       "    .dataframe tbody tr th {\n",
       "        vertical-align: top;\n",
       "    }\n",
       "\n",
       "    .dataframe thead th {\n",
       "        text-align: right;\n",
       "    }\n",
       "</style>\n",
       "<table border=\"1\" class=\"dataframe\">\n",
       "  <thead>\n",
       "    <tr style=\"text-align: right;\">\n",
       "      <th></th>\n",
       "      <th>gain</th>\n",
       "      <th>pi</th>\n",
       "      <th>lamda</th>\n",
       "      <th>proximity</th>\n",
       "      <th>offset</th>\n",
       "      <th>height</th>\n",
       "      <th>background</th>\n",
       "      <th>snr</th>\n",
       "    </tr>\n",
       "  </thead>\n",
       "  <tbody>\n",
       "    <tr>\n",
       "      <th>negative0.01</th>\n",
       "      <td>7.0</td>\n",
       "      <td>0.0</td>\n",
       "      <td>0.01</td>\n",
       "      <td>0.2</td>\n",
       "      <td>90.0</td>\n",
       "      <td>3000.0</td>\n",
       "      <td>150.0</td>\n",
       "      <td>3.7589</td>\n",
       "    </tr>\n",
       "    <tr>\n",
       "      <th>negative0.05</th>\n",
       "      <td>7.0</td>\n",
       "      <td>0.0</td>\n",
       "      <td>0.05</td>\n",
       "      <td>0.2</td>\n",
       "      <td>90.0</td>\n",
       "      <td>3000.0</td>\n",
       "      <td>150.0</td>\n",
       "      <td>3.7589</td>\n",
       "    </tr>\n",
       "    <tr>\n",
       "      <th>negative0.15</th>\n",
       "      <td>7.0</td>\n",
       "      <td>0.0</td>\n",
       "      <td>0.15</td>\n",
       "      <td>0.2</td>\n",
       "      <td>90.0</td>\n",
       "      <td>3000.0</td>\n",
       "      <td>150.0</td>\n",
       "      <td>3.7589</td>\n",
       "    </tr>\n",
       "    <tr>\n",
       "      <th>negative0.5</th>\n",
       "      <td>7.0</td>\n",
       "      <td>0.0</td>\n",
       "      <td>0.50</td>\n",
       "      <td>0.2</td>\n",
       "      <td>90.0</td>\n",
       "      <td>3000.0</td>\n",
       "      <td>150.0</td>\n",
       "      <td>3.7589</td>\n",
       "    </tr>\n",
       "    <tr>\n",
       "      <th>negative1</th>\n",
       "      <td>7.0</td>\n",
       "      <td>0.0</td>\n",
       "      <td>1.00</td>\n",
       "      <td>0.2</td>\n",
       "      <td>90.0</td>\n",
       "      <td>3000.0</td>\n",
       "      <td>150.0</td>\n",
       "      <td>3.7589</td>\n",
       "    </tr>\n",
       "  </tbody>\n",
       "</table>\n",
       "</div>"
      ],
      "text/plain": [
       "              gain   pi  lamda  proximity  offset  height  background     snr\n",
       "negative0.01   7.0  0.0   0.01        0.2    90.0  3000.0       150.0  3.7589\n",
       "negative0.05   7.0  0.0   0.05        0.2    90.0  3000.0       150.0  3.7589\n",
       "negative0.15   7.0  0.0   0.15        0.2    90.0  3000.0       150.0  3.7589\n",
       "negative0.5    7.0  0.0   0.50        0.2    90.0  3000.0       150.0  3.7589\n",
       "negative1      7.0  0.0   1.00        0.2    90.0  3000.0       150.0  3.7589"
      ]
     },
     "execution_count": 12,
     "metadata": {},
     "output_type": "execute_result"
    }
   ],
   "source": [
    "truth_df = pd.concat(truth.values(), axis=1).T\n",
    "truth_df = truth_df.sort_values(by=\"lamda\")\n",
    "truth_df"
   ]
  },
  {
   "cell_type": "code",
   "execution_count": 13,
   "metadata": {},
   "outputs": [
    {
     "data": {
      "text/html": [
       "<style  type=\"text/css\" >\n",
       "</style><table id=\"T_76157_\" ><thead>    <tr>        <th class=\"blank level0\" ></th>        <th class=\"col_heading level0 col0\" >-ELBO</th>        <th class=\"col_heading level0 col1\" >proximity_loc</th>        <th class=\"col_heading level0 col2\" >proximity_beta</th>        <th class=\"col_heading level0 col3\" >gain_loc</th>        <th class=\"col_heading level0 col4\" >gain_beta</th>        <th class=\"col_heading level0 col5\" >pi_mean_0</th>        <th class=\"col_heading level0 col6\" >pi_mean_1</th>        <th class=\"col_heading level0 col7\" >pi_size</th>        <th class=\"col_heading level0 col8\" >lamda_loc</th>        <th class=\"col_heading level0 col9\" >lamda_beta</th>        <th class=\"col_heading level0 col10\" >lamda</th>        <th class=\"col_heading level0 col11\" >gain_mean</th>        <th class=\"col_heading level0 col12\" >gain_low</th>        <th class=\"col_heading level0 col13\" >gain_high</th>        <th class=\"col_heading level0 col14\" >pi_mean</th>        <th class=\"col_heading level0 col15\" >pi_low</th>        <th class=\"col_heading level0 col16\" >pi_high</th>        <th class=\"col_heading level0 col17\" >lamda_mean</th>        <th class=\"col_heading level0 col18\" >lamda_low</th>        <th class=\"col_heading level0 col19\" >lamda_high</th>        <th class=\"col_heading level0 col20\" >proximity_mean</th>        <th class=\"col_heading level0 col21\" >proximity_low</th>        <th class=\"col_heading level0 col22\" >proximity_high</th>        <th class=\"col_heading level0 col23\" >height</th>        <th class=\"col_heading level0 col24\" >snr</th>    </tr></thead><tbody>\n",
       "                <tr>\n",
       "                        <th id=\"T_76157_level0_row0\" class=\"row_heading level0 row0\" >negative0.01</th>\n",
       "                        <td id=\"T_76157_row0_col0\" class=\"data row0 col0\" >4785917.500</td>\n",
       "                        <td id=\"T_76157_row0_col1\" class=\"data row0 col1\" >1.646</td>\n",
       "                        <td id=\"T_76157_row0_col2\" class=\"data row0 col2\" >1.098</td>\n",
       "                        <td id=\"T_76157_row0_col3\" class=\"data row0 col3\" >7.000</td>\n",
       "                        <td id=\"T_76157_row0_col4\" class=\"data row0 col4\" >17280.314</td>\n",
       "                        <td id=\"T_76157_row0_col5\" class=\"data row0 col5\" >0.999</td>\n",
       "                        <td id=\"T_76157_row0_col6\" class=\"data row0 col6\" >0.001</td>\n",
       "                        <td id=\"T_76157_row0_col7\" class=\"data row0 col7\" >595.581</td>\n",
       "                        <td id=\"T_76157_row0_col8\" class=\"data row0 col8\" >0.011</td>\n",
       "                        <td id=\"T_76157_row0_col9\" class=\"data row0 col9\" >5284.139</td>\n",
       "                        <td id=\"T_76157_row0_col10\" class=\"data row0 col10\" >0.010</td>\n",
       "                        <td id=\"T_76157_row0_col11\" class=\"data row0 col11\" >7.000</td>\n",
       "                        <td id=\"T_76157_row0_col12\" class=\"data row0 col12\" >6.958</td>\n",
       "                        <td id=\"T_76157_row0_col13\" class=\"data row0 col13\" >7.038</td>\n",
       "                        <td id=\"T_76157_row0_col14\" class=\"data row0 col14\" >0.001</td>\n",
       "                        <td id=\"T_76157_row0_col15\" class=\"data row0 col15\" >0.000</td>\n",
       "                        <td id=\"T_76157_row0_col16\" class=\"data row0 col16\" >0.004</td>\n",
       "                        <td id=\"T_76157_row0_col17\" class=\"data row0 col17\" >0.011</td>\n",
       "                        <td id=\"T_76157_row0_col18\" class=\"data row0 col18\" >0.008</td>\n",
       "                        <td id=\"T_76157_row0_col19\" class=\"data row0 col19\" >0.014</td>\n",
       "                        <td id=\"T_76157_row0_col20\" class=\"data row0 col20\" >1.646</td>\n",
       "                        <td id=\"T_76157_row0_col21\" class=\"data row0 col21\" >0.187</td>\n",
       "                        <td id=\"T_76157_row0_col22\" class=\"data row0 col22\" >4.873</td>\n",
       "                        <td id=\"T_76157_row0_col23\" class=\"data row0 col23\" >3000.000</td>\n",
       "                        <td id=\"T_76157_row0_col24\" class=\"data row0 col24\" >3.613</td>\n",
       "            </tr>\n",
       "            <tr>\n",
       "                        <th id=\"T_76157_level0_row1\" class=\"row_heading level0 row1\" >negative0.05</th>\n",
       "                        <td id=\"T_76157_row1_col0\" class=\"data row1 col0\" >4789930.000</td>\n",
       "                        <td id=\"T_76157_row1_col1\" class=\"data row1 col1\" >1.367</td>\n",
       "                        <td id=\"T_76157_row1_col2\" class=\"data row1 col2\" >1.317</td>\n",
       "                        <td id=\"T_76157_row1_col3\" class=\"data row1 col3\" >7.010</td>\n",
       "                        <td id=\"T_76157_row1_col4\" class=\"data row1 col4\" >29457.188</td>\n",
       "                        <td id=\"T_76157_row1_col5\" class=\"data row1 col5\" >0.999</td>\n",
       "                        <td id=\"T_76157_row1_col6\" class=\"data row1 col6\" >0.001</td>\n",
       "                        <td id=\"T_76157_row1_col7\" class=\"data row1 col7\" >673.722</td>\n",
       "                        <td id=\"T_76157_row1_col8\" class=\"data row1 col8\" >0.050</td>\n",
       "                        <td id=\"T_76157_row1_col9\" class=\"data row1 col9\" >5045.432</td>\n",
       "                        <td id=\"T_76157_row1_col10\" class=\"data row1 col10\" >0.050</td>\n",
       "                        <td id=\"T_76157_row1_col11\" class=\"data row1 col11\" >7.010</td>\n",
       "                        <td id=\"T_76157_row1_col12\" class=\"data row1 col12\" >6.977</td>\n",
       "                        <td id=\"T_76157_row1_col13\" class=\"data row1 col13\" >7.041</td>\n",
       "                        <td id=\"T_76157_row1_col14\" class=\"data row1 col14\" >0.001</td>\n",
       "                        <td id=\"T_76157_row1_col15\" class=\"data row1 col15\" >0.000</td>\n",
       "                        <td id=\"T_76157_row1_col16\" class=\"data row1 col16\" >0.004</td>\n",
       "                        <td id=\"T_76157_row1_col17\" class=\"data row1 col17\" >0.050</td>\n",
       "                        <td id=\"T_76157_row1_col18\" class=\"data row1 col18\" >0.044</td>\n",
       "                        <td id=\"T_76157_row1_col19\" class=\"data row1 col19\" >0.056</td>\n",
       "                        <td id=\"T_76157_row1_col20\" class=\"data row1 col20\" >1.367</td>\n",
       "                        <td id=\"T_76157_row1_col21\" class=\"data row1 col21\" >0.112</td>\n",
       "                        <td id=\"T_76157_row1_col22\" class=\"data row1 col22\" >3.949</td>\n",
       "                        <td id=\"T_76157_row1_col23\" class=\"data row1 col23\" >3000.000</td>\n",
       "                        <td id=\"T_76157_row1_col24\" class=\"data row1 col24\" >3.534</td>\n",
       "            </tr>\n",
       "            <tr>\n",
       "                        <th id=\"T_76157_level0_row2\" class=\"row_heading level0 row2\" >negative0.15</th>\n",
       "                        <td id=\"T_76157_row2_col0\" class=\"data row2 col0\" >4798066.500</td>\n",
       "                        <td id=\"T_76157_row2_col1\" class=\"data row2 col1\" >1.310</td>\n",
       "                        <td id=\"T_76157_row2_col2\" class=\"data row2 col2\" >1.625</td>\n",
       "                        <td id=\"T_76157_row2_col3\" class=\"data row2 col3\" >7.003</td>\n",
       "                        <td id=\"T_76157_row2_col4\" class=\"data row2 col4\" >69110.578</td>\n",
       "                        <td id=\"T_76157_row2_col5\" class=\"data row2 col5\" >0.999</td>\n",
       "                        <td id=\"T_76157_row2_col6\" class=\"data row2 col6\" >0.001</td>\n",
       "                        <td id=\"T_76157_row2_col7\" class=\"data row2 col7\" >595.877</td>\n",
       "                        <td id=\"T_76157_row2_col8\" class=\"data row2 col8\" >0.140</td>\n",
       "                        <td id=\"T_76157_row2_col9\" class=\"data row2 col9\" >5923.985</td>\n",
       "                        <td id=\"T_76157_row2_col10\" class=\"data row2 col10\" >0.150</td>\n",
       "                        <td id=\"T_76157_row2_col11\" class=\"data row2 col11\" >7.003</td>\n",
       "                        <td id=\"T_76157_row2_col12\" class=\"data row2 col12\" >6.982</td>\n",
       "                        <td id=\"T_76157_row2_col13\" class=\"data row2 col13\" >7.021</td>\n",
       "                        <td id=\"T_76157_row2_col14\" class=\"data row2 col14\" >0.001</td>\n",
       "                        <td id=\"T_76157_row2_col15\" class=\"data row2 col15\" >0.000</td>\n",
       "                        <td id=\"T_76157_row2_col16\" class=\"data row2 col16\" >0.005</td>\n",
       "                        <td id=\"T_76157_row2_col17\" class=\"data row2 col17\" >0.140</td>\n",
       "                        <td id=\"T_76157_row2_col18\" class=\"data row2 col18\" >0.131</td>\n",
       "                        <td id=\"T_76157_row2_col19\" class=\"data row2 col19\" >0.151</td>\n",
       "                        <td id=\"T_76157_row2_col20\" class=\"data row2 col20\" >1.310</td>\n",
       "                        <td id=\"T_76157_row2_col21\" class=\"data row2 col21\" >0.151</td>\n",
       "                        <td id=\"T_76157_row2_col22\" class=\"data row2 col22\" >3.555</td>\n",
       "                        <td id=\"T_76157_row2_col23\" class=\"data row2 col23\" >3000.000</td>\n",
       "                        <td id=\"T_76157_row2_col24\" class=\"data row2 col24\" >3.535</td>\n",
       "            </tr>\n",
       "            <tr>\n",
       "                        <th id=\"T_76157_level0_row3\" class=\"row_heading level0 row3\" >negative0.5</th>\n",
       "                        <td id=\"T_76157_row3_col0\" class=\"data row3 col0\" >4829183.500</td>\n",
       "                        <td id=\"T_76157_row3_col1\" class=\"data row3 col1\" >1.455</td>\n",
       "                        <td id=\"T_76157_row3_col2\" class=\"data row3 col2\" >1.798</td>\n",
       "                        <td id=\"T_76157_row3_col3\" class=\"data row3 col3\" >7.012</td>\n",
       "                        <td id=\"T_76157_row3_col4\" class=\"data row3 col4\" >71506.297</td>\n",
       "                        <td id=\"T_76157_row3_col5\" class=\"data row3 col5\" >0.999</td>\n",
       "                        <td id=\"T_76157_row3_col6\" class=\"data row3 col6\" >0.001</td>\n",
       "                        <td id=\"T_76157_row3_col7\" class=\"data row3 col7\" >398.358</td>\n",
       "                        <td id=\"T_76157_row3_col8\" class=\"data row3 col8\" >0.490</td>\n",
       "                        <td id=\"T_76157_row3_col9\" class=\"data row3 col9\" >6347.422</td>\n",
       "                        <td id=\"T_76157_row3_col10\" class=\"data row3 col10\" >0.500</td>\n",
       "                        <td id=\"T_76157_row3_col11\" class=\"data row3 col11\" >7.012</td>\n",
       "                        <td id=\"T_76157_row3_col12\" class=\"data row3 col12\" >6.993</td>\n",
       "                        <td id=\"T_76157_row3_col13\" class=\"data row3 col13\" >7.032</td>\n",
       "                        <td id=\"T_76157_row3_col14\" class=\"data row3 col14\" >0.001</td>\n",
       "                        <td id=\"T_76157_row3_col15\" class=\"data row3 col15\" >0.000</td>\n",
       "                        <td id=\"T_76157_row3_col16\" class=\"data row3 col16\" >0.007</td>\n",
       "                        <td id=\"T_76157_row3_col17\" class=\"data row3 col17\" >0.490</td>\n",
       "                        <td id=\"T_76157_row3_col18\" class=\"data row3 col18\" >0.472</td>\n",
       "                        <td id=\"T_76157_row3_col19\" class=\"data row3 col19\" >0.507</td>\n",
       "                        <td id=\"T_76157_row3_col20\" class=\"data row3 col20\" >1.455</td>\n",
       "                        <td id=\"T_76157_row3_col21\" class=\"data row3 col21\" >0.264</td>\n",
       "                        <td id=\"T_76157_row3_col22\" class=\"data row3 col22\" >3.534</td>\n",
       "                        <td id=\"T_76157_row3_col23\" class=\"data row3 col23\" >3000.000</td>\n",
       "                        <td id=\"T_76157_row3_col24\" class=\"data row3 col24\" >3.529</td>\n",
       "            </tr>\n",
       "            <tr>\n",
       "                        <th id=\"T_76157_level0_row4\" class=\"row_heading level0 row4\" >negative1</th>\n",
       "                        <td id=\"T_76157_row4_col0\" class=\"data row4 col0\" >4868056.500</td>\n",
       "                        <td id=\"T_76157_row4_col1\" class=\"data row4 col1\" >1.240</td>\n",
       "                        <td id=\"T_76157_row4_col2\" class=\"data row4 col2\" >1.286</td>\n",
       "                        <td id=\"T_76157_row4_col3\" class=\"data row4 col3\" >7.093</td>\n",
       "                        <td id=\"T_76157_row4_col4\" class=\"data row4 col4\" >48784.082</td>\n",
       "                        <td id=\"T_76157_row4_col5\" class=\"data row4 col5\" >0.999</td>\n",
       "                        <td id=\"T_76157_row4_col6\" class=\"data row4 col6\" >0.001</td>\n",
       "                        <td id=\"T_76157_row4_col7\" class=\"data row4 col7\" >564.295</td>\n",
       "                        <td id=\"T_76157_row4_col8\" class=\"data row4 col8\" >0.951</td>\n",
       "                        <td id=\"T_76157_row4_col9\" class=\"data row4 col9\" >5435.144</td>\n",
       "                        <td id=\"T_76157_row4_col10\" class=\"data row4 col10\" >1.000</td>\n",
       "                        <td id=\"T_76157_row4_col11\" class=\"data row4 col11\" >7.093</td>\n",
       "                        <td id=\"T_76157_row4_col12\" class=\"data row4 col12\" >7.069</td>\n",
       "                        <td id=\"T_76157_row4_col13\" class=\"data row4 col13\" >7.115</td>\n",
       "                        <td id=\"T_76157_row4_col14\" class=\"data row4 col14\" >0.001</td>\n",
       "                        <td id=\"T_76157_row4_col15\" class=\"data row4 col15\" >0.000</td>\n",
       "                        <td id=\"T_76157_row4_col16\" class=\"data row4 col16\" >0.004</td>\n",
       "                        <td id=\"T_76157_row4_col17\" class=\"data row4 col17\" >0.951</td>\n",
       "                        <td id=\"T_76157_row4_col18\" class=\"data row4 col18\" >0.927</td>\n",
       "                        <td id=\"T_76157_row4_col19\" class=\"data row4 col19\" >0.978</td>\n",
       "                        <td id=\"T_76157_row4_col20\" class=\"data row4 col20\" >1.240</td>\n",
       "                        <td id=\"T_76157_row4_col21\" class=\"data row4 col21\" >0.149</td>\n",
       "                        <td id=\"T_76157_row4_col22\" class=\"data row4 col22\" >3.493</td>\n",
       "                        <td id=\"T_76157_row4_col23\" class=\"data row4 col23\" >3000.000</td>\n",
       "                        <td id=\"T_76157_row4_col24\" class=\"data row4 col24\" >3.575</td>\n",
       "            </tr>\n",
       "    </tbody></table>"
      ],
      "text/plain": [
       "<pandas.io.formats.style.Styler at 0x7f290dda18b0>"
      ]
     },
     "execution_count": 13,
     "metadata": {},
     "output_type": "execute_result"
    }
   ],
   "source": [
    "fit_df = pd.concat(fit.values(), axis=1).T.sort_values(by=\"lamda\")\n",
    "fit_df.style.format(\"{:.3f}\")"
   ]
  },
  {
   "cell_type": "markdown",
   "metadata": {},
   "source": [
    "### Figure 4"
   ]
  },
  {
   "cell_type": "code",
   "execution_count": 15,
   "metadata": {},
   "outputs": [
    {
     "data": {
      "image/png": "[encoded data removed]",
      "text/plain": [
       "<Figure size 90x90 with 1 Axes>"
      ]
     },
     "metadata": {
      "needs_background": "light"
     },
     "output_type": "display_data"
    },
    {
     "data": {
      "image/png": "[encoded data removed]",
      "text/plain": [
       "<Figure size 90x90 with 1 Axes>"
      ]
     },
     "metadata": {
      "needs_background": "light"
     },
     "output_type": "display_data"
    },
    {
     "data": {
      "image/png": "[encoded data removed]",
      "text/plain": [
       "<Figure size 90x90 with 1 Axes>"
      ]
     },
     "metadata": {
      "needs_background": "light"
     },
     "output_type": "display_data"
    },
    {
     "data": {
      "image/png": "[encoded data removed]",
      "text/plain": [
       "<Figure size 90x90 with 1 Axes>"
      ]
     },
     "metadata": {
      "needs_background": "light"
     },
     "output_type": "display_data"
    },
    {
     "data": {
      "image/png": "[encoded data removed]",
      "text/plain": [
       "<Figure size 90x90 with 1 Axes>"
      ]
     },
     "metadata": {
      "needs_background": "light"
     },
     "output_type": "display_data"
    }
   ],
   "source": [
    "for name in fit_df.index:\n",
    "    fig, ax = plt.subplots(figsize=(1.25, 1.25))\n",
    "    ax.hist(predictions[name][\"z_all\"].numpy(),\n",
    "             bins=np.arange(0, 1.05, 0.05), histtype=\"bar\", lw=1.,\n",
    "             color=\"#dddddd\", edgecolor=\"k\",\n",
    "             label=f\"{truth_df.loc[name, 'snr']:.2f} SNR\")\n",
    "    ax.hist(predictions[name][\"z_masked\"].numpy(),\n",
    "             bins=np.arange(0, 1.05, 0.05), histtype=\"bar\", lw=1.,\n",
    "             color=\"C2\", edgecolor=\"k\",\n",
    "             label=f\"{truth_df.loc[name, 'snr']:.2f} SNR\")\n",
    "    ax.set_yscale(\"log\")\n",
    "    ax.set_xlim(-0.05,1.05)\n",
    "    ax.set_ylim(1e-1, 5e3)\n",
    "    ax.set_xticks([0, 0.5, 1])\n",
    "    ax.tick_params(axis=\"x\", labelsize=8, top=True)\n",
    "    \n",
    "    if name == \"negative0.01\":\n",
    "        ax.set_ylabel(\"counts\", fontsize=8)\n",
    "        ax.set_yticks([1, 10, 100, 1000])\n",
    "        ax.tick_params(axis=\"y\", labelsize=8)\n",
    "    else:\n",
    "        ax.set_yticks([])\n",
    "        ax.tick_params(axis=\"y\", labelsize=8)\n",
    "    if name == \"negative0.15\":\n",
    "        ax.set_xlabel(r\"$p(\\mathsf{specific})$\", fontsize=8)\n",
    "    ax.xaxis.set_major_formatter(FormatStrFormatter('%g'))\n",
    "    # plt.legend(loc=\"upper center\", fontsize=8)\n",
    "    plt.savefig(f\"/tmp/logdensity-{name}.svg\")\n",
    "    plt.show()"
   ]
  },
  {
   "cell_type": "markdown",
   "metadata": {},
   "source": [
    "### Analysis"
   ]
  },
  {
   "cell_type": "code",
   "execution_count": 8,
   "metadata": {},
   "outputs": [
    {
     "data": {
      "image/png": "[encoded data removed]",
      "text/plain": [
       "<Figure size 144x144 with 1 Axes>"
      ]
     },
     "metadata": {
      "needs_background": "light"
     },
     "output_type": "display_data"
    }
   ],
   "source": [
    "plt.figure(figsize=(2, 2))\n",
    "plt.plot(truth_df[\"rate_j\"].sort_values(), truth_df[\"gain\"].sort_values(), \"k--\")\n",
    "plt.scatter(truth_df[\"rate_j\"], fit_df[\"gain\"], s=20)\n",
    "plt.ylim(0, 20)\n",
    "plt.xticks(fontsize=8)\n",
    "plt.yticks(fontsize=8)\n",
    "plt.xlabel(r\"$\\lambda^j$ (simulated)\", fontsize=8)\n",
    "plt.ylabel(\"gain (fitted)\", fontsize=8)\n",
    "plt.show()"
   ]
  },
  {
   "cell_type": "code",
   "execution_count": 9,
   "metadata": {},
   "outputs": [
    {
     "data": {
      "image/png": "[encoded data removed]",
      "text/plain": [
       "<Figure size 144x144 with 1 Axes>"
      ]
     },
     "metadata": {
      "needs_background": "light"
     },
     "output_type": "display_data"
    }
   ],
   "source": [
    "plt.figure(figsize=(2, 2))\n",
    "plt.plot(truth_df[\"rate_j\"].sort_values(), truth_df[\"probs_z\"].sort_values(), \"k--\")\n",
    "plt.scatter(truth_df[\"rate_j\"], fit_df[\"probs_z_1\"], s=20)\n",
    "plt.ylim(0, 0.1)\n",
    "plt.xticks(fontsize=8)\n",
    "plt.yticks(fontsize=8)\n",
    "plt.xlabel(r\"$\\lambda^j$ (simulated)\", fontsize=8)\n",
    "plt.ylabel(r\"$\\pi^z$ (fitted)\", fontsize=8)\n",
    "plt.show()"
   ]
  },
  {
   "cell_type": "code",
   "execution_count": 10,
   "metadata": {},
   "outputs": [
    {
     "data": {
      "image/png": "[encoded data removed]",
      "text/plain": [
       "<Figure size 144x144 with 1 Axes>"
      ]
     },
     "metadata": {
      "needs_background": "light"
     },
     "output_type": "display_data"
    }
   ],
   "source": [
    "plt.figure(figsize=(2, 2))\n",
    "plt.plot(truth_df[\"rate_j\"].sort_values(), truth_df[\"rate_j\"].sort_values(), \"k--\")\n",
    "plt.scatter(truth_df[\"rate_j\"], fit_df[\"rate_j\"], s=20)\n",
    "plt.ylim(0, 1.)\n",
    "plt.xticks(fontsize=8)\n",
    "plt.yticks(fontsize=8)\n",
    "plt.xlabel(r\"$\\lambda^j$ (simulated)\", fontsize=8)\n",
    "plt.ylabel(r\"$\\lambda^j$ (fitted)\", fontsize=8)\n",
    "plt.show()"
   ]
  },
  {
   "cell_type": "code",
   "execution_count": 11,
   "metadata": {},
   "outputs": [
    {
     "data": {
      "image/png": "[encoded data removed]",
      "text/plain": [
       "<Figure size 144x144 with 1 Axes>"
      ]
     },
     "metadata": {
      "needs_background": "light"
     },
     "output_type": "display_data"
    }
   ],
   "source": [
    "plt.figure(figsize=(2, 2))\n",
    "plt.plot(truth_df[\"rate_j\"].sort_values(), truth_df[\"proximity\"].sort_values(), \"k--\")\n",
    "plt.scatter(truth_df[\"rate_j\"], fit_df[\"proximity_0\"], s=20)\n",
    "# plt.ylim(0., 0.6)\n",
    "plt.xticks(fontsize=8)\n",
    "plt.yticks(fontsize=8)\n",
    "plt.xlabel(r\"$\\lambda^j$ (simulated)\", fontsize=8)\n",
    "plt.ylabel(r\"$\\sigma^{xy}$ (fitted)\", fontsize=8)\n",
    "plt.show()"
   ]
  },
  {
   "cell_type": "code",
   "execution_count": null,
   "metadata": {},
   "outputs": [],
   "source": []
  }
 ],
 "metadata": {
  "hide_input": false,
  "kernelspec": {
   "display_name": "Python 3",
   "language": "python",
   "name": "python3"
  },
  "language_info": {
   "codemirror_mode": {
    "name": "ipython",
    "version": 3
   },
   "file_extension": ".py",
   "mimetype": "text/x-python",
   "name": "python",
   "nbconvert_exporter": "python",
   "pygments_lexer": "ipython3",
   "version": "3.8.5"
  },
  "toc": {
   "base_numbering": 1,
   "nav_menu": {},
   "number_sections": true,
   "sideBar": true,
   "skip_h1_title": false,
   "title_cell": "Table of Contents",
   "title_sidebar": "Contents",
   "toc_cell": false,
   "toc_position": {},
   "toc_section_display": true,
   "toc_window_display": true
  }
 },
 "nbformat": 4,
 "nbformat_minor": 4
}
