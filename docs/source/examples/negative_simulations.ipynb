{
 "cells": [
  {
   "cell_type": "markdown",
   "metadata": {},
   "source": [
    "## Off-target frequency simulations with no on-target spots"
   ]
  },
  {
   "cell_type": "code",
   "execution_count": 1,
   "metadata": {},
   "outputs": [],
   "source": [
    "import numpy as np\n",
    "import pandas as pd\n",
    "import pyro\n",
    "import torch\n",
    "import matplotlib.pyplot as plt\n",
    "from collections import defaultdict\n",
    "from matplotlib.ticker import FormatStrFormatter\n",
    "from pathlib import Path\n",
    "from pyro.ops.stats import hpdi, quantile\n",
    "from pyro.infer import Predictive\n",
    "import pyro.distributions as dist\n",
    "\n",
    "from tapqir.models import Cosmos\n",
    "from tapqir.utils.stats import ci_from_trace"
   ]
  },
  {
   "cell_type": "markdown",
   "metadata": {},
   "source": [
    "### Load results"
   ]
  },
  {
   "cell_type": "code",
   "execution_count": 3,
   "metadata": {},
   "outputs": [],
   "source": [
    "EXAMLES_DIR = Path.cwd().resolve().parent.parent.parent / \"examples\" / \"data\""
   ]
  },
  {
   "cell_type": "code",
   "execution_count": 6,
   "metadata": {},
   "outputs": [],
   "source": [
    "truth = {}\n",
    "fit = {}\n",
    "predictions = defaultdict(dict)\n",
    "for data_path in EXAMLES_DIR.iterdir():\n",
    "    if data_path.is_dir() and data_path.name.startswith(\"negative\"):\n",
    "        # load results\n",
    "        truth[data_path.name] = pd.read_csv(\n",
    "            data_path / \"simulated_params.csv\",\n",
    "            squeeze=True, index_col=0\n",
    "        ).rename(data_path.name)\n",
    "        \n",
    "        param_path = data_path / \"runs/cosmos/v1.1.6/S1/control/lr0.005/bs4/\"\n",
    "        \n",
    "        fit[data_path.name] = pd.read_csv(\n",
    "            param_path / \"statistics.csv\",\n",
    "            squeeze=True,\n",
    "            index_col=0\n",
    "        ).rename(data_path.name)\n",
    "        fit[data_path.name][\"lamda\"] = truth[data_path.name][\"lamda\"]\n",
    "        \n",
    "        model = Cosmos()\n",
    "        model.load(data_path, True, \"cpu\")\n",
    "        model.load_parameters(param_path)\n",
    "        mask = torch.from_numpy(model.data.labels[\"z\"])\n",
    "        samples = torch.masked_select(model.z_marginal, mask)\n",
    "        predictions[data_path.name][\"z_masked\"] = samples\n",
    "        predictions[data_path.name][\"z_all\"] = model.z_marginal.flatten()"
   ]
  },
  {
   "cell_type": "code",
   "execution_count": 7,
   "metadata": {},
   "outputs": [
    {
     "data": {
      "text/html": [
       "<div>\n",
       "<style scoped>\n",
       "    .dataframe tbody tr th:only-of-type {\n",
       "        vertical-align: middle;\n",
       "    }\n",
       "\n",
       "    .dataframe tbody tr th {\n",
       "        vertical-align: top;\n",
       "    }\n",
       "\n",
       "    .dataframe thead th {\n",
       "        text-align: right;\n",
       "    }\n",
       "</style>\n",
       "<table border=\"1\" class=\"dataframe\">\n",
       "  <thead>\n",
       "    <tr style=\"text-align: right;\">\n",
       "      <th></th>\n",
       "      <th>width</th>\n",
       "      <th>gain</th>\n",
       "      <th>pi</th>\n",
       "      <th>lamda</th>\n",
       "      <th>proximity</th>\n",
       "      <th>offset</th>\n",
       "      <th>height</th>\n",
       "      <th>background</th>\n",
       "      <th>snr</th>\n",
       "    </tr>\n",
       "  </thead>\n",
       "  <tbody>\n",
       "    <tr>\n",
       "      <th>negative0.01</th>\n",
       "      <td>1.4</td>\n",
       "      <td>7.0</td>\n",
       "      <td>0.0</td>\n",
       "      <td>0.01</td>\n",
       "      <td>0.2</td>\n",
       "      <td>90.0</td>\n",
       "      <td>3000.0</td>\n",
       "      <td>150.0</td>\n",
       "      <td>3.758899</td>\n",
       "    </tr>\n",
       "    <tr>\n",
       "      <th>negative0.05</th>\n",
       "      <td>1.4</td>\n",
       "      <td>7.0</td>\n",
       "      <td>0.0</td>\n",
       "      <td>0.05</td>\n",
       "      <td>0.2</td>\n",
       "      <td>90.0</td>\n",
       "      <td>3000.0</td>\n",
       "      <td>150.0</td>\n",
       "      <td>3.758899</td>\n",
       "    </tr>\n",
       "    <tr>\n",
       "      <th>negative0.15</th>\n",
       "      <td>1.4</td>\n",
       "      <td>7.0</td>\n",
       "      <td>0.0</td>\n",
       "      <td>0.15</td>\n",
       "      <td>0.2</td>\n",
       "      <td>90.0</td>\n",
       "      <td>3000.0</td>\n",
       "      <td>150.0</td>\n",
       "      <td>3.758899</td>\n",
       "    </tr>\n",
       "    <tr>\n",
       "      <th>negative0.5</th>\n",
       "      <td>1.4</td>\n",
       "      <td>7.0</td>\n",
       "      <td>0.0</td>\n",
       "      <td>0.50</td>\n",
       "      <td>0.2</td>\n",
       "      <td>90.0</td>\n",
       "      <td>3000.0</td>\n",
       "      <td>150.0</td>\n",
       "      <td>3.758899</td>\n",
       "    </tr>\n",
       "    <tr>\n",
       "      <th>negative1</th>\n",
       "      <td>1.4</td>\n",
       "      <td>7.0</td>\n",
       "      <td>0.0</td>\n",
       "      <td>1.00</td>\n",
       "      <td>0.2</td>\n",
       "      <td>90.0</td>\n",
       "      <td>3000.0</td>\n",
       "      <td>150.0</td>\n",
       "      <td>3.758899</td>\n",
       "    </tr>\n",
       "  </tbody>\n",
       "</table>\n",
       "</div>"
      ],
      "text/plain": [
       "              width  gain   pi  lamda  proximity  offset  height  background  \\\n",
       "negative0.01    1.4   7.0  0.0   0.01        0.2    90.0  3000.0       150.0   \n",
       "negative0.05    1.4   7.0  0.0   0.05        0.2    90.0  3000.0       150.0   \n",
       "negative0.15    1.4   7.0  0.0   0.15        0.2    90.0  3000.0       150.0   \n",
       "negative0.5     1.4   7.0  0.0   0.50        0.2    90.0  3000.0       150.0   \n",
       "negative1       1.4   7.0  0.0   1.00        0.2    90.0  3000.0       150.0   \n",
       "\n",
       "                   snr  \n",
       "negative0.01  3.758899  \n",
       "negative0.05  3.758899  \n",
       "negative0.15  3.758899  \n",
       "negative0.5   3.758899  \n",
       "negative1     3.758899  "
      ]
     },
     "execution_count": 7,
     "metadata": {},
     "output_type": "execute_result"
    }
   ],
   "source": [
    "truth_df = pd.concat(truth.values(), axis=1).T.sort_values(by=\"lamda\").astype(float)\n",
    "truth_df"
   ]
  },
  {
   "cell_type": "code",
   "execution_count": 8,
   "metadata": {},
   "outputs": [
    {
     "data": {
      "text/plain": [
       "negative0.01    False\n",
       "negative0.05    False\n",
       "negative0.15    False\n",
       "negative0.5     False\n",
       "negative1       False\n",
       "Name: marginal, dtype: object"
      ]
     },
     "execution_count": 8,
     "metadata": {},
     "output_type": "execute_result"
    }
   ],
   "source": [
    "fit_df = pd.concat(fit.values(), axis=1).T.sort_values(by=\"lamda\")\n",
    "fit_df[\"marginal\"]"
   ]
  },
  {
   "cell_type": "code",
   "execution_count": 9,
   "metadata": {},
   "outputs": [
    {
     "data": {
      "text/plain": [
       "negative0.01    False\n",
       "negative0.05    False\n",
       "negative0.15    False\n",
       "negative0.5     False\n",
       "negative1       False\n",
       "Name: classifier, dtype: object"
      ]
     },
     "execution_count": 9,
     "metadata": {},
     "output_type": "execute_result"
    }
   ],
   "source": [
    "fit_df[\"classifier\"]"
   ]
  },
  {
   "cell_type": "code",
   "execution_count": 10,
   "metadata": {},
   "outputs": [
    {
     "data": {
      "text/html": [
       "<div>\n",
       "<style scoped>\n",
       "    .dataframe tbody tr th:only-of-type {\n",
       "        vertical-align: middle;\n",
       "    }\n",
       "\n",
       "    .dataframe tbody tr th {\n",
       "        vertical-align: top;\n",
       "    }\n",
       "\n",
       "    .dataframe thead th {\n",
       "        text-align: right;\n",
       "    }\n",
       "</style>\n",
       "<table border=\"1\" class=\"dataframe\">\n",
       "  <thead>\n",
       "    <tr style=\"text-align: right;\">\n",
       "      <th></th>\n",
       "      <th>snr</th>\n",
       "      <th>gain_mean</th>\n",
       "      <th>gain_ll</th>\n",
       "      <th>gain_ul</th>\n",
       "      <th>pi_mean</th>\n",
       "      <th>pi_ll</th>\n",
       "      <th>pi_ul</th>\n",
       "      <th>lamda_mean</th>\n",
       "      <th>lamda_ll</th>\n",
       "      <th>lamda_ul</th>\n",
       "      <th>...</th>\n",
       "      <th>Recall</th>\n",
       "      <th>Precision</th>\n",
       "      <th>TN</th>\n",
       "      <th>FP</th>\n",
       "      <th>FN</th>\n",
       "      <th>TP</th>\n",
       "      <th>z_median</th>\n",
       "      <th>z_ll</th>\n",
       "      <th>z_ul</th>\n",
       "      <th>lamda</th>\n",
       "    </tr>\n",
       "  </thead>\n",
       "  <tbody>\n",
       "    <tr>\n",
       "      <th>negative0.01</th>\n",
       "      <td>NaN</td>\n",
       "      <td>7.003336</td>\n",
       "      <td>7.003336</td>\n",
       "      <td>7.003336</td>\n",
       "      <td>7.301212e-16</td>\n",
       "      <td>7.301212e-16</td>\n",
       "      <td>7.301212e-16</td>\n",
       "      <td>0.011953</td>\n",
       "      <td>0.011953</td>\n",
       "      <td>0.011953</td>\n",
       "      <td>...</td>\n",
       "      <td>0.0</td>\n",
       "      <td>0.0</td>\n",
       "      <td>0.0</td>\n",
       "      <td>2500.0</td>\n",
       "      <td>0.0</td>\n",
       "      <td>0.0</td>\n",
       "      <td>0.0</td>\n",
       "      <td>0.0</td>\n",
       "      <td>0.0</td>\n",
       "      <td>0.01</td>\n",
       "    </tr>\n",
       "    <tr>\n",
       "      <th>negative0.05</th>\n",
       "      <td>3.487109</td>\n",
       "      <td>7.003784</td>\n",
       "      <td>7.003784</td>\n",
       "      <td>7.003784</td>\n",
       "      <td>3.948652e-39</td>\n",
       "      <td>3.948652e-39</td>\n",
       "      <td>3.948652e-39</td>\n",
       "      <td>0.050861</td>\n",
       "      <td>0.050861</td>\n",
       "      <td>0.050861</td>\n",
       "      <td>...</td>\n",
       "      <td>0.0</td>\n",
       "      <td>0.0</td>\n",
       "      <td>2417.0</td>\n",
       "      <td>83.0</td>\n",
       "      <td>0.0</td>\n",
       "      <td>0.0</td>\n",
       "      <td>0.0</td>\n",
       "      <td>0.0</td>\n",
       "      <td>0.0</td>\n",
       "      <td>0.05</td>\n",
       "    </tr>\n",
       "    <tr>\n",
       "      <th>negative0.15</th>\n",
       "      <td>3.525785</td>\n",
       "      <td>7.013232</td>\n",
       "      <td>7.013232</td>\n",
       "      <td>7.013232</td>\n",
       "      <td>3.669837e-39</td>\n",
       "      <td>3.669837e-39</td>\n",
       "      <td>3.669837e-39</td>\n",
       "      <td>0.138727</td>\n",
       "      <td>0.138727</td>\n",
       "      <td>0.138727</td>\n",
       "      <td>...</td>\n",
       "      <td>0.0</td>\n",
       "      <td>0.0</td>\n",
       "      <td>2278.0</td>\n",
       "      <td>222.0</td>\n",
       "      <td>0.0</td>\n",
       "      <td>0.0</td>\n",
       "      <td>0.0</td>\n",
       "      <td>0.0</td>\n",
       "      <td>0.0</td>\n",
       "      <td>0.15</td>\n",
       "    </tr>\n",
       "    <tr>\n",
       "      <th>negative0.5</th>\n",
       "      <td>3.538359</td>\n",
       "      <td>7.022739</td>\n",
       "      <td>7.022739</td>\n",
       "      <td>7.022739</td>\n",
       "      <td>2.665805e-39</td>\n",
       "      <td>2.665805e-39</td>\n",
       "      <td>2.665805e-39</td>\n",
       "      <td>0.487442</td>\n",
       "      <td>0.487442</td>\n",
       "      <td>0.487442</td>\n",
       "      <td>...</td>\n",
       "      <td>0.0</td>\n",
       "      <td>0.0</td>\n",
       "      <td>1765.0</td>\n",
       "      <td>735.0</td>\n",
       "      <td>0.0</td>\n",
       "      <td>0.0</td>\n",
       "      <td>0.0</td>\n",
       "      <td>0.0</td>\n",
       "      <td>0.0</td>\n",
       "      <td>0.50</td>\n",
       "    </tr>\n",
       "    <tr>\n",
       "      <th>negative1</th>\n",
       "      <td>3.558943</td>\n",
       "      <td>7.070970</td>\n",
       "      <td>7.070970</td>\n",
       "      <td>7.070970</td>\n",
       "      <td>1.478275e-39</td>\n",
       "      <td>1.478275e-39</td>\n",
       "      <td>1.478275e-39</td>\n",
       "      <td>0.969176</td>\n",
       "      <td>0.969176</td>\n",
       "      <td>0.969176</td>\n",
       "      <td>...</td>\n",
       "      <td>0.0</td>\n",
       "      <td>0.0</td>\n",
       "      <td>1183.0</td>\n",
       "      <td>1317.0</td>\n",
       "      <td>0.0</td>\n",
       "      <td>0.0</td>\n",
       "      <td>0.0</td>\n",
       "      <td>0.0</td>\n",
       "      <td>0.0</td>\n",
       "      <td>1.00</td>\n",
       "    </tr>\n",
       "  </tbody>\n",
       "</table>\n",
       "<p>5 rows × 24 columns</p>\n",
       "</div>"
      ],
      "text/plain": [
       "                   snr  gain_mean   gain_ll   gain_ul       pi_mean  \\\n",
       "negative0.01       NaN   7.003336  7.003336  7.003336  7.301212e-16   \n",
       "negative0.05  3.487109   7.003784  7.003784  7.003784  3.948652e-39   \n",
       "negative0.15  3.525785   7.013232  7.013232  7.013232  3.669837e-39   \n",
       "negative0.5   3.538359   7.022739  7.022739  7.022739  2.665805e-39   \n",
       "negative1     3.558943   7.070970  7.070970  7.070970  1.478275e-39   \n",
       "\n",
       "                     pi_ll         pi_ul  lamda_mean  lamda_ll  lamda_ul  ...  \\\n",
       "negative0.01  7.301212e-16  7.301212e-16    0.011953  0.011953  0.011953  ...   \n",
       "negative0.05  3.948652e-39  3.948652e-39    0.050861  0.050861  0.050861  ...   \n",
       "negative0.15  3.669837e-39  3.669837e-39    0.138727  0.138727  0.138727  ...   \n",
       "negative0.5   2.665805e-39  2.665805e-39    0.487442  0.487442  0.487442  ...   \n",
       "negative1     1.478275e-39  1.478275e-39    0.969176  0.969176  0.969176  ...   \n",
       "\n",
       "              Recall  Precision      TN      FP   FN   TP  z_median  z_ll  \\\n",
       "negative0.01     0.0        0.0     0.0  2500.0  0.0  0.0       0.0   0.0   \n",
       "negative0.05     0.0        0.0  2417.0    83.0  0.0  0.0       0.0   0.0   \n",
       "negative0.15     0.0        0.0  2278.0   222.0  0.0  0.0       0.0   0.0   \n",
       "negative0.5      0.0        0.0  1765.0   735.0  0.0  0.0       0.0   0.0   \n",
       "negative1        0.0        0.0  1183.0  1317.0  0.0  0.0       0.0   0.0   \n",
       "\n",
       "              z_ul  lamda  \n",
       "negative0.01   0.0   0.01  \n",
       "negative0.05   0.0   0.05  \n",
       "negative0.15   0.0   0.15  \n",
       "negative0.5    0.0   0.50  \n",
       "negative1      0.0   1.00  \n",
       "\n",
       "[5 rows x 24 columns]"
      ]
     },
     "execution_count": 10,
     "metadata": {},
     "output_type": "execute_result"
    }
   ],
   "source": [
    "fit_df = fit_df.drop(columns=[\"marginal\", \"classifier\"]).astype(float)\n",
    "fit_df"
   ]
  },
  {
   "cell_type": "markdown",
   "metadata": {},
   "source": [
    "### Figure 4"
   ]
  },
  {
   "cell_type": "code",
   "execution_count": 15,
   "metadata": {},
   "outputs": [
    {
     "data": {
      "image/png": "[encoded data removed]",
      "text/plain": [
       "<Figure size 90x90 with 1 Axes>"
      ]
     },
     "metadata": {
      "needs_background": "light"
     },
     "output_type": "display_data"
    },
    {
     "data": {
      "image/png": "[encoded data removed]",
      "text/plain": [
       "<Figure size 90x90 with 1 Axes>"
      ]
     },
     "metadata": {
      "needs_background": "light"
     },
     "output_type": "display_data"
    },
    {
     "data": {
      "image/png": "[encoded data removed]",
      "text/plain": [
       "<Figure size 90x90 with 1 Axes>"
      ]
     },
     "metadata": {
      "needs_background": "light"
     },
     "output_type": "display_data"
    },
    {
     "data": {
      "image/png": "[encoded data removed]",
      "text/plain": [
       "<Figure size 90x90 with 1 Axes>"
      ]
     },
     "metadata": {
      "needs_background": "light"
     },
     "output_type": "display_data"
    },
    {
     "data": {
      "image/png": "[encoded data removed]",
      "text/plain": [
       "<Figure size 90x90 with 1 Axes>"
      ]
     },
     "metadata": {
      "needs_background": "light"
     },
     "output_type": "display_data"
    }
   ],
   "source": [
    "for name in fit_df.index:\n",
    "    fig, ax = plt.subplots(figsize=(1.25, 1.25))\n",
    "    ax.hist(predictions[name][\"z_all\"].numpy(),\n",
    "             bins=np.arange(0, 1.05, 0.05), histtype=\"bar\", lw=1.,\n",
    "             color=\"#dddddd\", edgecolor=\"k\",\n",
    "             label=f\"{truth_df.loc[name, 'snr']:.2f} SNR\")\n",
    "    ax.hist(predictions[name][\"z_masked\"].numpy(),\n",
    "             bins=np.arange(0, 1.05, 0.05), histtype=\"bar\", lw=1.,\n",
    "             color=\"C2\", edgecolor=\"k\",\n",
    "             label=f\"{truth_df.loc[name, 'snr']:.2f} SNR\")\n",
    "    ax.set_yscale(\"log\")\n",
    "    ax.set_xlim(-0.05,1.05)\n",
    "    ax.set_ylim(1e-1, 5e3)\n",
    "    ax.set_xticks([0, 0.5, 1])\n",
    "    ax.tick_params(axis=\"x\", labelsize=8, top=True)\n",
    "    \n",
    "    if name == \"negative0.01\":\n",
    "        ax.set_ylabel(\"counts\", fontsize=8)\n",
    "        ax.set_yticks([1, 10, 100, 1000])\n",
    "        ax.tick_params(axis=\"y\", labelsize=8)\n",
    "    else:\n",
    "        ax.set_yticks([])\n",
    "        ax.tick_params(axis=\"y\", labelsize=8)\n",
    "    if name == \"negative0.15\":\n",
    "        ax.set_xlabel(r\"$p(\\mathsf{specific})$\", fontsize=8)\n",
    "    ax.xaxis.set_major_formatter(FormatStrFormatter('%g'))\n",
    "    # plt.legend(loc=\"upper center\", fontsize=8)\n",
    "    plt.savefig(f\"/tmp/logdensity-{name}.svg\")\n",
    "    plt.show()"
   ]
  },
  {
   "cell_type": "code",
   "execution_count": null,
   "metadata": {},
   "outputs": [],
   "source": []
  }
 ],
 "metadata": {
  "hide_input": false,
  "kernelspec": {
   "display_name": "Python 3",
   "language": "python",
   "name": "python3"
  },
  "language_info": {
   "codemirror_mode": {
    "name": "ipython",
    "version": 3
   },
   "file_extension": ".py",
   "mimetype": "text/x-python",
   "name": "python",
   "nbconvert_exporter": "python",
   "pygments_lexer": "ipython3",
   "version": "3.8.8"
  },
  "toc": {
   "base_numbering": 1,
   "nav_menu": {},
   "number_sections": true,
   "sideBar": true,
   "skip_h1_title": false,
   "title_cell": "Table of Contents",
   "title_sidebar": "Contents",
   "toc_cell": false,
   "toc_position": {},
   "toc_section_display": true,
   "toc_window_display": true
  }
 },
 "nbformat": 4,
 "nbformat_minor": 4
}
