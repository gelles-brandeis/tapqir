{
 "cells": [
  {
   "cell_type": "markdown",
   "metadata": {},
   "source": [
    "## Off-target frequency simulations with no on-target spots"
   ]
  },
  {
   "cell_type": "code",
   "execution_count": 1,
   "metadata": {},
   "outputs": [],
   "source": [
    "import numpy as np\n",
    "import pandas as pd\n",
    "import pyro\n",
    "import torch\n",
    "import matplotlib.pyplot as plt\n",
    "from collections import defaultdict\n",
    "from matplotlib.patches import Circle\n",
    "from matplotlib.ticker import FormatStrFormatter\n",
    "from pathlib import Path\n",
    "from pyro.ops.stats import hpdi, quantile\n",
    "\n",
    "from tapqir.models import Cosmos"
   ]
  },
  {
   "cell_type": "markdown",
   "metadata": {},
   "source": [
    "### Load results"
   ]
  },
  {
   "cell_type": "code",
   "execution_count": 2,
   "metadata": {},
   "outputs": [],
   "source": [
    "EXAMLES_DIR = Path.cwd().resolve().parent.parent.parent / \"examples\" / \"data\""
   ]
  },
  {
   "cell_type": "code",
   "execution_count": 3,
   "metadata": {},
   "outputs": [],
   "source": [
    "truth = {}\n",
    "fit = {}\n",
    "predictions = defaultdict(dict)\n",
    "models = {}\n",
    "for data_path in EXAMLES_DIR.iterdir():\n",
    "    if data_path.is_dir() and data_path.name.startswith(\"negative\"):\n",
    "        truth[data_path.name] = pd.read_csv(\n",
    "            data_path / \"simulated_params.csv\",\n",
    "            squeeze=True, index_col=0\n",
    "        ).rename(data_path.name)\n",
    "        \n",
    "        param_path = data_path / \"runs/cosmos/v1.1.6/S1/control/lr0.005/bs4/\"\n",
    "        \n",
    "        fit[data_path.name] = pd.read_csv(\n",
    "            param_path / \"global_params.csv\",\n",
    "            squeeze=True,\n",
    "            index_col=0\n",
    "        ).rename(data_path.name)\n",
    "        fit[data_path.name][\"height\"] = truth[data_path.name][\"height\"]\n",
    "        \n",
    "        models[data_path.name] = Cosmos()\n",
    "        models[data_path.name].load(data_path, True, \"cpu\")\n",
    "        models[data_path.name].load_parameters(param_path)\n",
    "        predictions[data_path.name][\"z_all\"] = models[data_path.name].z_marginal.flatten()\n",
    "        mask = torch.from_numpy(models[data_path.name].data.labels[\"z\"])\n",
    "        samples = torch.masked_select(models[data_path.name].z_marginal, mask)\n",
    "        predictions[data_path.name][\"z_masked\"] = samples\n",
    "        predictions[data_path.name][\"z_all\"] = models[data_path.name].z_marginal.flatten()"
   ]
  },
  {
   "cell_type": "code",
   "execution_count": 4,
   "metadata": {},
   "outputs": [
    {
     "data": {
      "text/html": [
       "<div>\n",
       "<style scoped>\n",
       "    .dataframe tbody tr th:only-of-type {\n",
       "        vertical-align: middle;\n",
       "    }\n",
       "\n",
       "    .dataframe tbody tr th {\n",
       "        vertical-align: top;\n",
       "    }\n",
       "\n",
       "    .dataframe thead th {\n",
       "        text-align: right;\n",
       "    }\n",
       "</style>\n",
       "<table border=\"1\" class=\"dataframe\">\n",
       "  <thead>\n",
       "    <tr style=\"text-align: right;\">\n",
       "      <th></th>\n",
       "      <th>gain</th>\n",
       "      <th>probs_z</th>\n",
       "      <th>rate_j</th>\n",
       "      <th>proximity</th>\n",
       "      <th>offset</th>\n",
       "      <th>height</th>\n",
       "      <th>background</th>\n",
       "    </tr>\n",
       "  </thead>\n",
       "  <tbody>\n",
       "    <tr>\n",
       "      <th>negative5</th>\n",
       "      <td>7.0</td>\n",
       "      <td>0.0</td>\n",
       "      <td>0.05</td>\n",
       "      <td>0.2</td>\n",
       "      <td>90.0</td>\n",
       "      <td>3000.0</td>\n",
       "      <td>150.0</td>\n",
       "    </tr>\n",
       "    <tr>\n",
       "      <th>negative15</th>\n",
       "      <td>7.0</td>\n",
       "      <td>0.0</td>\n",
       "      <td>0.15</td>\n",
       "      <td>0.2</td>\n",
       "      <td>90.0</td>\n",
       "      <td>3000.0</td>\n",
       "      <td>150.0</td>\n",
       "    </tr>\n",
       "    <tr>\n",
       "      <th>negative50</th>\n",
       "      <td>7.0</td>\n",
       "      <td>0.0</td>\n",
       "      <td>0.50</td>\n",
       "      <td>0.2</td>\n",
       "      <td>90.0</td>\n",
       "      <td>3000.0</td>\n",
       "      <td>150.0</td>\n",
       "    </tr>\n",
       "    <tr>\n",
       "      <th>negative100</th>\n",
       "      <td>7.0</td>\n",
       "      <td>0.0</td>\n",
       "      <td>1.00</td>\n",
       "      <td>0.2</td>\n",
       "      <td>90.0</td>\n",
       "      <td>3000.0</td>\n",
       "      <td>150.0</td>\n",
       "    </tr>\n",
       "  </tbody>\n",
       "</table>\n",
       "</div>"
      ],
      "text/plain": [
       "             gain  probs_z  rate_j  proximity  offset  height  background\n",
       "negative5     7.0      0.0    0.05        0.2    90.0  3000.0       150.0\n",
       "negative15    7.0      0.0    0.15        0.2    90.0  3000.0       150.0\n",
       "negative50    7.0      0.0    0.50        0.2    90.0  3000.0       150.0\n",
       "negative100   7.0      0.0    1.00        0.2    90.0  3000.0       150.0"
      ]
     },
     "execution_count": 4,
     "metadata": {},
     "output_type": "execute_result"
    }
   ],
   "source": [
    "truth_df = pd.concat(truth.values(), axis=1).T\n",
    "truth_df = truth_df.sort_values(by=\"rate_j\")\n",
    "truth_df"
   ]
  },
  {
   "cell_type": "code",
   "execution_count": 5,
   "metadata": {},
   "outputs": [
    {
     "data": {
      "text/html": [
       "<div>\n",
       "<style scoped>\n",
       "    .dataframe tbody tr th:only-of-type {\n",
       "        vertical-align: middle;\n",
       "    }\n",
       "\n",
       "    .dataframe tbody tr th {\n",
       "        vertical-align: top;\n",
       "    }\n",
       "\n",
       "    .dataframe thead th {\n",
       "        text-align: right;\n",
       "    }\n",
       "</style>\n",
       "<table border=\"1\" class=\"dataframe\">\n",
       "  <thead>\n",
       "    <tr style=\"text-align: right;\">\n",
       "      <th></th>\n",
       "      <th>-ELBO</th>\n",
       "      <th>proximity_0</th>\n",
       "      <th>gain</th>\n",
       "      <th>probs_z_0</th>\n",
       "      <th>probs_z_1</th>\n",
       "      <th>rate_j</th>\n",
       "      <th>MCC</th>\n",
       "      <th>Recall</th>\n",
       "      <th>Precision</th>\n",
       "      <th>FN</th>\n",
       "      <th>TP</th>\n",
       "      <th>TN</th>\n",
       "      <th>FP</th>\n",
       "    </tr>\n",
       "  </thead>\n",
       "  <tbody>\n",
       "    <tr>\n",
       "      <th>negative5</th>\n",
       "      <td>4810234.5</td>\n",
       "      <td>2.000000</td>\n",
       "      <td>7.017624</td>\n",
       "      <td>0.999344</td>\n",
       "      <td>6.561108e-04</td>\n",
       "      <td>0.047847</td>\n",
       "      <td>0.0</td>\n",
       "      <td>0.0</td>\n",
       "      <td>0.0</td>\n",
       "      <td>0.0</td>\n",
       "      <td>0.0</td>\n",
       "      <td>2499.0</td>\n",
       "      <td>1.0</td>\n",
       "    </tr>\n",
       "    <tr>\n",
       "      <th>negative15</th>\n",
       "      <td>4824391.5</td>\n",
       "      <td>2.000000</td>\n",
       "      <td>7.019970</td>\n",
       "      <td>0.997548</td>\n",
       "      <td>2.452070e-03</td>\n",
       "      <td>0.144302</td>\n",
       "      <td>0.0</td>\n",
       "      <td>0.0</td>\n",
       "      <td>0.0</td>\n",
       "      <td>0.0</td>\n",
       "      <td>0.0</td>\n",
       "      <td>2499.0</td>\n",
       "      <td>1.0</td>\n",
       "    </tr>\n",
       "    <tr>\n",
       "      <th>negative50</th>\n",
       "      <td>4885848.0</td>\n",
       "      <td>1.999880</td>\n",
       "      <td>7.034564</td>\n",
       "      <td>1.000000</td>\n",
       "      <td>5.737187e-08</td>\n",
       "      <td>0.502510</td>\n",
       "      <td>0.0</td>\n",
       "      <td>0.0</td>\n",
       "      <td>0.0</td>\n",
       "      <td>0.0</td>\n",
       "      <td>0.0</td>\n",
       "      <td>2499.0</td>\n",
       "      <td>1.0</td>\n",
       "    </tr>\n",
       "    <tr>\n",
       "      <th>negative100</th>\n",
       "      <td>4961365.5</td>\n",
       "      <td>1.999964</td>\n",
       "      <td>7.075340</td>\n",
       "      <td>1.000000</td>\n",
       "      <td>5.862764e-08</td>\n",
       "      <td>0.973410</td>\n",
       "      <td>0.0</td>\n",
       "      <td>0.0</td>\n",
       "      <td>0.0</td>\n",
       "      <td>0.0</td>\n",
       "      <td>0.0</td>\n",
       "      <td>2498.0</td>\n",
       "      <td>2.0</td>\n",
       "    </tr>\n",
       "  </tbody>\n",
       "</table>\n",
       "</div>"
      ],
      "text/plain": [
       "                 -ELBO  proximity_0      gain  probs_z_0     probs_z_1  \\\n",
       "negative5    4810234.5     2.000000  7.017624   0.999344  6.561108e-04   \n",
       "negative15   4824391.5     2.000000  7.019970   0.997548  2.452070e-03   \n",
       "negative50   4885848.0     1.999880  7.034564   1.000000  5.737187e-08   \n",
       "negative100  4961365.5     1.999964  7.075340   1.000000  5.862764e-08   \n",
       "\n",
       "               rate_j  MCC  Recall  Precision   FN   TP      TN   FP  \n",
       "negative5    0.047847  0.0     0.0        0.0  0.0  0.0  2499.0  1.0  \n",
       "negative15   0.144302  0.0     0.0        0.0  0.0  0.0  2499.0  1.0  \n",
       "negative50   0.502510  0.0     0.0        0.0  0.0  0.0  2499.0  1.0  \n",
       "negative100  0.973410  0.0     0.0        0.0  0.0  0.0  2498.0  2.0  "
      ]
     },
     "execution_count": 5,
     "metadata": {},
     "output_type": "execute_result"
    }
   ],
   "source": [
    "fit_df = pd.concat(fit.values(), axis=1).T\n",
    "fit_df = fit_df.sort_values(by=\"rate_j\").drop(\n",
    "    [\"width_mean_0\", \"width_size_0\", \"height_scale\", \"height\"],\n",
    "    axis=1\n",
    ")\n",
    "fit_df"
   ]
  },
  {
   "cell_type": "markdown",
   "metadata": {},
   "source": [
    "### Figure 4"
   ]
  },
  {
   "cell_type": "code",
   "execution_count": 14,
   "metadata": {},
   "outputs": [
    {
     "data": {
      "image/png": "[encoded data removed]",
      "text/plain": [
       "<Figure size 108x108 with 1 Axes>"
      ]
     },
     "metadata": {
      "needs_background": "light"
     },
     "output_type": "display_data"
    },
    {
     "data": {
      "image/png": "[encoded data removed]",
      "text/plain": [
       "<Figure size 108x108 with 1 Axes>"
      ]
     },
     "metadata": {
      "needs_background": "light"
     },
     "output_type": "display_data"
    },
    {
     "data": {
      "image/png": "[encoded data removed]",
      "text/plain": [
       "<Figure size 108x108 with 1 Axes>"
      ]
     },
     "metadata": {
      "needs_background": "light"
     },
     "output_type": "display_data"
    },
    {
     "data": {
      "image/png": "[encoded data removed]",
      "text/plain": [
       "<Figure size 108x108 with 1 Axes>"
      ]
     },
     "metadata": {
      "needs_background": "light"
     },
     "output_type": "display_data"
    }
   ],
   "source": [
    "for name in fit_df.index:\n",
    "    plt.figure(figsize=(1.5, 1.5))\n",
    "    plt.hist(predictions[name][\"z_all\"].numpy(),\n",
    "             bins=20, histtype=\"step\", lw=2, color=\"k\",\n",
    "             label=fr\"$\\lambda^j=${truth_df.loc[name, 'rate_j']:.2f}\")\n",
    "    plt.yscale(\"log\")\n",
    "    plt.xlim(-0.05,1.05)\n",
    "    plt.ylim(1e-1, 5e3)\n",
    "    plt.xticks([0, 0.5, 1], fontsize=8)\n",
    "    plt.yticks(fontsize=8)\n",
    "    plt.ylabel(\"counts\", fontsize=8)\n",
    "    plt.xlabel(\"probability\", fontsize=8)\n",
    "    plt.gca().xaxis.set_major_formatter(FormatStrFormatter('%g'))\n",
    "    plt.legend(loc=\"upper center\", fontsize=8)\n",
    "    plt.savefig(f\"/tmp/logdensity-{name}.svg\")\n",
    "    plt.show()"
   ]
  },
  {
   "cell_type": "code",
   "execution_count": 15,
   "metadata": {},
   "outputs": [
    {
     "data": {
      "image/png": "[encoded data removed]",
      "text/plain": [
       "<Figure size 108x108 with 1 Axes>"
      ]
     },
     "metadata": {
      "needs_background": "light"
     },
     "output_type": "display_data"
    },
    {
     "data": {
      "image/png": "[encoded data removed]",
      "text/plain": [
       "<Figure size 108x108 with 1 Axes>"
      ]
     },
     "metadata": {
      "needs_background": "light"
     },
     "output_type": "display_data"
    },
    {
     "data": {
      "image/png": "[encoded data removed]",
      "text/plain": [
       "<Figure size 108x108 with 1 Axes>"
      ]
     },
     "metadata": {
      "needs_background": "light"
     },
     "output_type": "display_data"
    },
    {
     "data": {
      "image/png": "[encoded data removed]",
      "text/plain": [
       "<Figure size 108x108 with 1 Axes>"
      ]
     },
     "metadata": {
      "needs_background": "light"
     },
     "output_type": "display_data"
    }
   ],
   "source": [
    "for name in fit_df.index:\n",
    "    plt.figure(figsize=(1.5, 1.5))\n",
    "    plt.hist(predictions[name][\"z_all\"].numpy(),\n",
    "             bins=30, histtype=\"step\", lw=2, color=\"k\",\n",
    "             label=fr\"$\\lambda^j=${truth_df.loc[name, 'rate_j']:.2f}\")\n",
    "    plt.xlim(-0.05, 1.05)\n",
    "    plt.ylim(0, 3000)\n",
    "    plt.xticks([0, 0.5, 1], fontsize=8)\n",
    "    plt.yticks(fontsize=8)\n",
    "    plt.ylabel(\"counts\", fontsize=8)\n",
    "    plt.xlabel(\"probability\", fontsize=8)\n",
    "    plt.gca().xaxis.set_major_formatter(FormatStrFormatter('%g'))\n",
    "    plt.legend(loc=\"upper center\", fontsize=8)\n",
    "    plt.savefig(f\"/tmp/density-{name}.svg\")\n",
    "    plt.show()"
   ]
  },
  {
   "cell_type": "markdown",
   "metadata": {},
   "source": [
    "### Analysis"
   ]
  },
  {
   "cell_type": "code",
   "execution_count": 8,
   "metadata": {},
   "outputs": [
    {
     "data": {
      "image/png": "[encoded data removed]",
      "text/plain": [
       "<Figure size 144x144 with 1 Axes>"
      ]
     },
     "metadata": {
      "needs_background": "light"
     },
     "output_type": "display_data"
    }
   ],
   "source": [
    "plt.figure(figsize=(2, 2))\n",
    "plt.plot(truth_df[\"rate_j\"].sort_values(), truth_df[\"gain\"].sort_values(), \"k--\")\n",
    "plt.scatter(truth_df[\"rate_j\"], fit_df[\"gain\"], s=20)\n",
    "plt.ylim(0, 20)\n",
    "plt.xticks(fontsize=8)\n",
    "plt.yticks(fontsize=8)\n",
    "plt.xlabel(r\"$\\lambda^j$ (simulated)\", fontsize=8)\n",
    "plt.ylabel(\"gain (fitted)\", fontsize=8)\n",
    "plt.show()"
   ]
  },
  {
   "cell_type": "code",
   "execution_count": 9,
   "metadata": {},
   "outputs": [
    {
     "data": {
      "image/png": "[encoded data removed]",
      "text/plain": [
       "<Figure size 144x144 with 1 Axes>"
      ]
     },
     "metadata": {
      "needs_background": "light"
     },
     "output_type": "display_data"
    }
   ],
   "source": [
    "plt.figure(figsize=(2, 2))\n",
    "plt.plot(truth_df[\"rate_j\"].sort_values(), truth_df[\"probs_z\"].sort_values(), \"k--\")\n",
    "plt.scatter(truth_df[\"rate_j\"], fit_df[\"probs_z_1\"], s=20)\n",
    "plt.ylim(0, 0.1)\n",
    "plt.xticks(fontsize=8)\n",
    "plt.yticks(fontsize=8)\n",
    "plt.xlabel(r\"$\\lambda^j$ (simulated)\", fontsize=8)\n",
    "plt.ylabel(r\"$\\pi^z$ (fitted)\", fontsize=8)\n",
    "plt.show()"
   ]
  },
  {
   "cell_type": "code",
   "execution_count": 10,
   "metadata": {},
   "outputs": [
    {
     "data": {
      "image/png": "[encoded data removed]",
      "text/plain": [
       "<Figure size 144x144 with 1 Axes>"
      ]
     },
     "metadata": {
      "needs_background": "light"
     },
     "output_type": "display_data"
    }
   ],
   "source": [
    "plt.figure(figsize=(2, 2))\n",
    "plt.plot(truth_df[\"rate_j\"].sort_values(), truth_df[\"rate_j\"].sort_values(), \"k--\")\n",
    "plt.scatter(truth_df[\"rate_j\"], fit_df[\"rate_j\"], s=20)\n",
    "plt.ylim(0, 1.)\n",
    "plt.xticks(fontsize=8)\n",
    "plt.yticks(fontsize=8)\n",
    "plt.xlabel(r\"$\\lambda^j$ (simulated)\", fontsize=8)\n",
    "plt.ylabel(r\"$\\lambda^j$ (fitted)\", fontsize=8)\n",
    "plt.show()"
   ]
  },
  {
   "cell_type": "code",
   "execution_count": 11,
   "metadata": {},
   "outputs": [
    {
     "data": {
      "image/png": "[encoded data removed]",
      "text/plain": [
       "<Figure size 144x144 with 1 Axes>"
      ]
     },
     "metadata": {
      "needs_background": "light"
     },
     "output_type": "display_data"
    }
   ],
   "source": [
    "plt.figure(figsize=(2, 2))\n",
    "plt.plot(truth_df[\"rate_j\"].sort_values(), truth_df[\"proximity\"].sort_values(), \"k--\")\n",
    "plt.scatter(truth_df[\"rate_j\"], fit_df[\"proximity_0\"], s=20)\n",
    "# plt.ylim(0., 0.6)\n",
    "plt.xticks(fontsize=8)\n",
    "plt.yticks(fontsize=8)\n",
    "plt.xlabel(r\"$\\lambda^j$ (simulated)\", fontsize=8)\n",
    "plt.ylabel(r\"$\\sigma^{xy}$ (fitted)\", fontsize=8)\n",
    "plt.show()"
   ]
  },
  {
   "cell_type": "code",
   "execution_count": null,
   "metadata": {},
   "outputs": [],
   "source": []
  }
 ],
 "metadata": {
  "hide_input": false,
  "kernelspec": {
   "display_name": "Python 3",
   "language": "python",
   "name": "python3"
  },
  "language_info": {
   "codemirror_mode": {
    "name": "ipython",
    "version": 3
   },
   "file_extension": ".py",
   "mimetype": "text/x-python",
   "name": "python",
   "nbconvert_exporter": "python",
   "pygments_lexer": "ipython3",
   "version": "3.9.1"
  },
  "toc": {
   "base_numbering": 1,
   "nav_menu": {},
   "number_sections": true,
   "sideBar": true,
   "skip_h1_title": false,
   "title_cell": "Table of Contents",
   "title_sidebar": "Contents",
   "toc_cell": false,
   "toc_position": {},
   "toc_section_display": true,
   "toc_window_display": true
  }
 },
 "nbformat": 4,
 "nbformat_minor": 4
}
