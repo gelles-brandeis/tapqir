{
 "cells": [
  {
   "cell_type": "markdown",
   "metadata": {},
   "source": [
    "# Simulation"
   ]
  },
  {
   "cell_type": "code",
   "execution_count": 14,
   "metadata": {},
   "outputs": [],
   "source": [
    "import torch\n",
    "import pyro\n",
    "import pyro.distributions as dist\n",
    "from pyro.ops.indexing import Vindex\n",
    "import numpy as np\n",
    "import pandas as pd\n",
    "import os\n",
    "import matplotlib.pyplot as plt\n",
    "from scipy.io import savemat"
   ]
  },
  {
   "cell_type": "code",
   "execution_count": 2,
   "metadata": {},
   "outputs": [],
   "source": [
    "from cosmos.models.utils import pi_m_calc, pi_theta_calc\n",
    "from cosmos.distributions import AffineBeta\n",
    "from cosmos.utils.dataset import CoSMoSDataset"
   ]
  },
  {
   "cell_type": "code",
   "execution_count": 3,
   "metadata": {},
   "outputs": [],
   "source": [
    "N = 15 # number of AOIs\n",
    "D = 14 # AOI size\n",
    "F = 500 # number of frames"
   ]
  },
  {
   "cell_type": "code",
   "execution_count": 4,
   "metadata": {},
   "outputs": [],
   "source": [
    "# target locations\n",
    "X, Y = np.meshgrid(np.arange(5)*D*2+2*D+(D-1)/2, np.arange(3)*D*2+2*D+(D-1)/2)\n",
    "\n",
    "target = pd.DataFrame(data={\"x\": X.flatten(), \"y\": Y.flatten()}, index=np.arange(N))\n",
    "target.index.name = \"aoi\"\n",
    "\n",
    "drift = pd.DataFrame(data={\"dx\": 0., \"dy\": 0.}, index=np.arange(F))\n",
    "drift.index.name = \"frame\""
   ]
  },
  {
   "cell_type": "code",
   "execution_count": 5,
   "metadata": {},
   "outputs": [],
   "source": [
    "class GaussianSpot():\n",
    "    def __init__(self, target, drift, X, Y):\n",
    "        # create meshgrid of DxD pixel positions\n",
    "        i_pixel, j_pixel = torch.meshgrid(\n",
    "            torch.arange(X), torch.arange(Y))\n",
    "        self.ij_pixel = torch.stack((i_pixel, j_pixel), dim=-1).float()\n",
    "\n",
    "        # drift locs for 2D gaussian spot\n",
    "        self.target_locs = torch.tensor(\n",
    "            drift[[\"dx\", \"dy\"]].values.reshape(-1, 2)\n",
    "            + target[[\"x\", \"y\"]].values.reshape(-1, 1, 2)) \\\n",
    "            .float()\n",
    "\n",
    "    # Ideal 2D gaussian spots\n",
    "    def forward(self, height, width, x, y, n_idx, m_mask=None, f=None):\n",
    "        if m_mask is not None:\n",
    "            height = height.masked_fill(~m_mask, 0.)\n",
    "        if f is not None:\n",
    "            spot_locs = self.target_locs[n_idx, f] + torch.stack((x, y), dim=-1)\n",
    "        else:\n",
    "            spot_locs = self.target_locs[n_idx] + torch.stack((x, y), dim=-1)\n",
    "        rv = dist.MultivariateNormal(\n",
    "            spot_locs[..., None, None, :],\n",
    "            scale_tril=torch.eye(2) * width[..., None, None, None, None])\n",
    "        gaussian_spot = torch.exp(rv.log_prob(self.ij_pixel))  # N,F,D,D\n",
    "        return (height[..., None, None] * gaussian_spot).sum(dim=(0,1))"
   ]
  },
  {
   "cell_type": "code",
   "execution_count": 6,
   "metadata": {},
   "outputs": [],
   "source": [
    "loc = GaussianSpot(target, drift, 2*D*7-14, 2*D*5-14)"
   ]
  },
  {
   "cell_type": "code",
   "execution_count": 10,
   "metadata": {},
   "outputs": [],
   "source": [
    "sim = \"height\"\n",
    "# heights = [\"0300\", \"0500\", \"0750\", \"1000\", \"1500\", \"2000\", \"3000\"]\n",
    "heights = [\"2000\"]\n",
    "pi_z = \"15\"\n",
    "lamda_j = \"15\"\n",
    "sigma = \"0.2\""
   ]
  },
  {
   "cell_type": "code",
   "execution_count": 15,
   "metadata": {},
   "outputs": [],
   "source": [
    "# simulation parameters\n",
    "gain = torch.tensor([7.])\n",
    "offset = torch.tensor([90.])\n",
    "background = torch.tensor([150.])\n",
    "pi = torch.tensor([1-float(pi_z)/100, float(pi_z)/100])\n",
    "lamda = torch.tensor([1-float(lamda_j)/100, float(lamda_j)/100]) # 0.2 / AOI\n",
    "pi_m = pi_m_calc(lamda, 1)\n",
    "pi_theta = pi_theta_calc(pi, 2, 1)\n",
    "w_mode = torch.tensor([1.4])\n",
    "w_size = torch.tensor([100.])\n",
    "\n",
    "size = torch.tensor([2., (((D+1) / (2*float(sigma))) ** 2 - 1)])\n",
    "m_matrix = torch.tensor([[0, 0], [1, 0], [0, 1]]).T.reshape(2, 1, 1, 3)\n",
    "theta_matrix = torch.tensor([[0, 0], [1, 0], [0, 1]]).T.reshape(2, 1, 1, 3)\n",
    "\n",
    "for h in heights:\n",
    "    pyro.set_rng_seed(0)\n",
    "\n",
    "    with pyro.plate(\"F\", F, dim=-1):\n",
    "        with pyro.plate(\"N\", N, dim=-2):\n",
    "            theta = pyro.sample(\"theta\", dist.Categorical(pi_theta))\n",
    "            theta_mask = Vindex(theta_matrix)[..., theta]\n",
    "            m_mask = Vindex(m_matrix)[..., theta]\n",
    "            with pyro.plate(\"K\", 2, dim=-3):\n",
    "                m_mask = pyro.sample(\"m\", dist.Categorical(Vindex(pi_m)[m_mask]))\n",
    "                height = pyro.sample(\"height\", dist.Gamma(float(h) / gain, 1 / gain))\n",
    "                width = pyro.sample(\"width\", AffineBeta(w_mode, w_size, 0.75, 2.25))\n",
    "                x = pyro.sample(\"x\", AffineBeta(0, size[theta_mask], -(D+1)/2, (D+1)/2))\n",
    "                y = pyro.sample(\"y\", AffineBeta(0, size[theta_mask], -(D+1)/2, (D+1)/2))\n",
    "\n",
    "            height = height.masked_fill(m_mask==0, 0.)\n",
    "            locs = loc.forward(height, width, x, y, torch.arange(N)) + background\n",
    "\n",
    "        #image = locs + junks + background\n",
    "        data = pyro.sample(\"data\", dist.Gamma(locs / gain, 1 / gain).to_event(2))\n",
    "    \n",
    "    data = data.long() + offset\n",
    "    labels = np.zeros((N, F), dtype=[(\"aoi\", int), (\"frame\", int), (\"z\", bool), (\"theta\", bool, (2,))])\n",
    "    labels[\"aoi\"] = np.arange(N).reshape(-1, 1)\n",
    "    labels[\"frame\"] = np.arange(F)\n",
    "    labels[\"z\"] = theta.squeeze() > 0\n",
    "    labels[\"theta\"] = theta_mask.permute(1, 2, 0)\n",
    "    \n",
    "    cosmos_data = torch.zeros(N, F, D, D)\n",
    "    cosmos_target = target.copy()\n",
    "    cosmos_drift = drift.copy()\n",
    "    \n",
    "    with pyro.plate(\"F\", F, dim=-1):\n",
    "        with pyro.plate(\"N\", N, dim=-2):\n",
    "            theta = 0\n",
    "            theta_mask = Vindex(theta_matrix)[..., theta]\n",
    "            m_mask = Vindex(m_matrix)[..., theta]\n",
    "            with pyro.plate(\"K\", 2, dim=-3):\n",
    "                m_mask = pyro.sample(\"m\", dist.Categorical(Vindex(pi_m)[m_mask]))\n",
    "                height = pyro.sample(\"height\", dist.Gamma(float(h) / gain, 1 / gain))\n",
    "                width = pyro.sample(\"width\", AffineBeta(w_mode, w_size, 0.75, 2.25))\n",
    "                x = pyro.sample(\"x\", AffineBeta(0, size[theta_mask], -(D+1)/2, (D+1)/2))\n",
    "                y = pyro.sample(\"y\", AffineBeta(0, size[theta_mask], -(D+1)/2, (D+1)/2))\n",
    "\n",
    "            height = height.masked_fill(m_mask==0, 0.)\n",
    "            control_locs = loc.forward(height, width, x, y, torch.arange(N)) + background\n",
    "\n",
    "        #image = locs + junks + background\n",
    "        control_data = pyro.sample(\"data\", dist.Gamma(control_locs / gain, 1 / gain).to_event(2))\n",
    "    \n",
    "    \n",
    "    control_data = control_data.long() + offset\n",
    "\n",
    "    \n",
    "    control_cosmos_data = torch.zeros(N, F, D, D)\n",
    "\n",
    "    for i, frame in enumerate(drift.index):\n",
    "        for j, aoi in enumerate(target.index):\n",
    "            top_x = int((target.at[aoi, \"x\"] - (D-1) * 0.5) // 1\n",
    "                        + drift.at[frame, \"dx\"] // 1)\n",
    "            left_y = int((target.at[aoi, \"y\"] - (D-1) * 0.5) // 1\n",
    "                         + drift.at[frame, \"dy\"] // 1)\n",
    "            cosmos_data[j, i] = data[i, top_x:top_x+D, left_y:left_y+D]\n",
    "            control_cosmos_data[j, i] = control_data[i, top_x:top_x+D, left_y:left_y+D]\n",
    "            #print(top_x, left_y)\n",
    "\n",
    "    for j, aoi in enumerate(target.index):\n",
    "        cosmos_target.at[aoi, \"x\"] = target.at[aoi, \"x\"] - int((target.at[aoi, \"x\"] - (D-1) * 0.5) // 1)\n",
    "        cosmos_target.at[aoi, \"y\"] = target.at[aoi, \"y\"] - int((target.at[aoi, \"y\"] - (D-1) * 0.5) // 1)\n",
    "    \n",
    "    dataset = CoSMoSDataset(cosmos_data, cosmos_target, cosmos_drift,\n",
    "                            dtype=\"test\", device=torch.device(\"cpu\"), labels=labels)\n",
    "    path_data = \"/shared/centaur/data/height_data/h{}pi{}lamda{}\".format(h, pi_z, lamda_j)\n",
    "    dataset.save(path_data)\n",
    "    savemat(\n",
    "        os.path.join(path_data, \"h{}pi{}lamda{}.mat\".format(h, pi_z, lamda_j)),\n",
    "        {\"data\": data.numpy(), \"binary\": labels[\"z\"], \"aoiinfo\": loc.target_locs.numpy()})\n",
    "\n",
    "    control_dataset = CoSMoSDataset(control_cosmos_data, cosmos_target, cosmos_drift,\n",
    "                                    dtype=\"control\", device=torch.device(\"cpu\"))\n",
    "    control_dataset.save(path_data)\n",
    "    savemat(\n",
    "        os.path.join(path_data, \"control_h{}pi{}lamda{}.mat\".format(h, pi_z, lamda_j)),\n",
    "        {\"data\": control_data.numpy(), \"aoiinfo\": loc.target_locs.numpy()})"
   ]
  },
  {
   "cell_type": "code",
   "execution_count": null,
   "metadata": {},
   "outputs": [],
   "source": []
  }
 ],
 "metadata": {
  "hide_input": false,
  "kernelspec": {
   "display_name": "Python 3",
   "language": "python",
   "name": "python3"
  },
  "language_info": {
   "codemirror_mode": {
    "name": "ipython",
    "version": 3
   },
   "file_extension": ".py",
   "mimetype": "text/x-python",
   "name": "python",
   "nbconvert_exporter": "python",
   "pygments_lexer": "ipython3",
   "version": "3.7.7"
  }
 },
 "nbformat": 4,
 "nbformat_minor": 4
}
