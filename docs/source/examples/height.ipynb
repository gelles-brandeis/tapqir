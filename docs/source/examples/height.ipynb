{
 "cells": [
  {
   "cell_type": "markdown",
   "metadata": {},
   "source": [
    "## Intensity simulations"
   ]
  },
  {
   "cell_type": "code",
   "execution_count": 1,
   "metadata": {},
   "outputs": [],
   "source": [
    "import numpy as np\n",
    "import pandas as pd\n",
    "import pyro\n",
    "import torch\n",
    "import matplotlib.pyplot as plt\n",
    "from collections import defaultdict\n",
    "from matplotlib.ticker import FormatStrFormatter\n",
    "from matplotlib.patches import Rectangle, Circle\n",
    "from pathlib import Path\n",
    "from tapqir.models import Cosmos\n",
    "from tapqir.utils.stats import ci_from_trace\n",
    "from pyro.infer import Predictive"
   ]
  },
  {
   "cell_type": "markdown",
   "metadata": {},
   "source": [
    "### Load results"
   ]
  },
  {
   "cell_type": "code",
   "execution_count": 2,
   "metadata": {},
   "outputs": [],
   "source": [
    "EXAMLES_DIR = Path.cwd().resolve().parent.parent.parent / \"examples\" / \"data\""
   ]
  },
  {
   "cell_type": "code",
   "execution_count": 3,
   "metadata": {},
   "outputs": [],
   "source": [
    "truth = {}\n",
    "fit = {}\n",
    "predictions = defaultdict(dict)\n",
    "for data_path in EXAMLES_DIR.iterdir():\n",
    "    if data_path.is_dir() and data_path.name.startswith(\"height\"):\n",
    "        # load results\n",
    "        truth[data_path.name] = pd.read_csv(\n",
    "            data_path / \"simulated_params.csv\",\n",
    "            squeeze=True, index_col=0\n",
    "        ).rename(data_path.name)\n",
    "        \n",
    "        param_path = data_path / \"runs/cosmos/v1.1.6/S1/control/lr0.005/bs4/\"\n",
    "        \n",
    "        fit[data_path.name] = pd.read_csv(\n",
    "            param_path / \"statistics.csv\",\n",
    "            squeeze=True,\n",
    "            index_col=0\n",
    "        ).rename(data_path.name)\n",
    "        fit[data_path.name][\"height\"] = truth[data_path.name][\"height\"]\n",
    "        \n",
    "        model = Cosmos()\n",
    "        model.load(data_path, True, \"cpu\")\n",
    "        model.load_parameters(param_path)\n",
    "        mask = torch.from_numpy(model.data.labels[\"z\"])\n",
    "        samples = torch.masked_select(model.z_marginal, mask)\n",
    "        predictions[data_path.name][\"z_masked\"] = samples\n",
    "        predictions[data_path.name][\"z_all\"] = model.z_marginal.flatten()"
   ]
  },
  {
   "cell_type": "code",
   "execution_count": 4,
   "metadata": {},
   "outputs": [
    {
     "data": {
      "text/html": [
       "<div>\n",
       "<style scoped>\n",
       "    .dataframe tbody tr th:only-of-type {\n",
       "        vertical-align: middle;\n",
       "    }\n",
       "\n",
       "    .dataframe tbody tr th {\n",
       "        vertical-align: top;\n",
       "    }\n",
       "\n",
       "    .dataframe thead th {\n",
       "        text-align: right;\n",
       "    }\n",
       "</style>\n",
       "<table border=\"1\" class=\"dataframe\">\n",
       "  <thead>\n",
       "    <tr style=\"text-align: right;\">\n",
       "      <th></th>\n",
       "      <th>width</th>\n",
       "      <th>gain</th>\n",
       "      <th>pi</th>\n",
       "      <th>lamda</th>\n",
       "      <th>proximity</th>\n",
       "      <th>offset</th>\n",
       "      <th>height</th>\n",
       "      <th>background</th>\n",
       "      <th>snr</th>\n",
       "    </tr>\n",
       "  </thead>\n",
       "  <tbody>\n",
       "    <tr>\n",
       "      <th>height300</th>\n",
       "      <td>1.4</td>\n",
       "      <td>7.0</td>\n",
       "      <td>0.15</td>\n",
       "      <td>0.15</td>\n",
       "      <td>0.2</td>\n",
       "      <td>90.0</td>\n",
       "      <td>300.0</td>\n",
       "      <td>150.0</td>\n",
       "      <td>0.375890</td>\n",
       "    </tr>\n",
       "    <tr>\n",
       "      <th>height500</th>\n",
       "      <td>1.4</td>\n",
       "      <td>7.0</td>\n",
       "      <td>0.15</td>\n",
       "      <td>0.15</td>\n",
       "      <td>0.2</td>\n",
       "      <td>90.0</td>\n",
       "      <td>500.0</td>\n",
       "      <td>150.0</td>\n",
       "      <td>0.626483</td>\n",
       "    </tr>\n",
       "    <tr>\n",
       "      <th>height600</th>\n",
       "      <td>1.4</td>\n",
       "      <td>7.0</td>\n",
       "      <td>0.15</td>\n",
       "      <td>0.15</td>\n",
       "      <td>0.2</td>\n",
       "      <td>90.0</td>\n",
       "      <td>600.0</td>\n",
       "      <td>150.0</td>\n",
       "      <td>0.751780</td>\n",
       "    </tr>\n",
       "    <tr>\n",
       "      <th>height750</th>\n",
       "      <td>1.4</td>\n",
       "      <td>7.0</td>\n",
       "      <td>0.15</td>\n",
       "      <td>0.15</td>\n",
       "      <td>0.2</td>\n",
       "      <td>90.0</td>\n",
       "      <td>750.0</td>\n",
       "      <td>150.0</td>\n",
       "      <td>0.939725</td>\n",
       "    </tr>\n",
       "    <tr>\n",
       "      <th>height1000</th>\n",
       "      <td>1.4</td>\n",
       "      <td>7.0</td>\n",
       "      <td>0.15</td>\n",
       "      <td>0.15</td>\n",
       "      <td>0.2</td>\n",
       "      <td>90.0</td>\n",
       "      <td>1000.0</td>\n",
       "      <td>150.0</td>\n",
       "      <td>1.252967</td>\n",
       "    </tr>\n",
       "    <tr>\n",
       "      <th>height1500</th>\n",
       "      <td>1.4</td>\n",
       "      <td>7.0</td>\n",
       "      <td>0.15</td>\n",
       "      <td>0.15</td>\n",
       "      <td>0.2</td>\n",
       "      <td>90.0</td>\n",
       "      <td>1500.0</td>\n",
       "      <td>150.0</td>\n",
       "      <td>1.879450</td>\n",
       "    </tr>\n",
       "    <tr>\n",
       "      <th>height2000</th>\n",
       "      <td>1.4</td>\n",
       "      <td>7.0</td>\n",
       "      <td>0.15</td>\n",
       "      <td>0.15</td>\n",
       "      <td>0.2</td>\n",
       "      <td>90.0</td>\n",
       "      <td>2000.0</td>\n",
       "      <td>150.0</td>\n",
       "      <td>2.505933</td>\n",
       "    </tr>\n",
       "    <tr>\n",
       "      <th>height3000</th>\n",
       "      <td>1.4</td>\n",
       "      <td>7.0</td>\n",
       "      <td>0.15</td>\n",
       "      <td>0.15</td>\n",
       "      <td>0.2</td>\n",
       "      <td>90.0</td>\n",
       "      <td>3000.0</td>\n",
       "      <td>150.0</td>\n",
       "      <td>3.758899</td>\n",
       "    </tr>\n",
       "  </tbody>\n",
       "</table>\n",
       "</div>"
      ],
      "text/plain": [
       "            width  gain    pi  lamda  proximity  offset  height  background  \\\n",
       "height300     1.4   7.0  0.15   0.15        0.2    90.0   300.0       150.0   \n",
       "height500     1.4   7.0  0.15   0.15        0.2    90.0   500.0       150.0   \n",
       "height600     1.4   7.0  0.15   0.15        0.2    90.0   600.0       150.0   \n",
       "height750     1.4   7.0  0.15   0.15        0.2    90.0   750.0       150.0   \n",
       "height1000    1.4   7.0  0.15   0.15        0.2    90.0  1000.0       150.0   \n",
       "height1500    1.4   7.0  0.15   0.15        0.2    90.0  1500.0       150.0   \n",
       "height2000    1.4   7.0  0.15   0.15        0.2    90.0  2000.0       150.0   \n",
       "height3000    1.4   7.0  0.15   0.15        0.2    90.0  3000.0       150.0   \n",
       "\n",
       "                 snr  \n",
       "height300   0.375890  \n",
       "height500   0.626483  \n",
       "height600   0.751780  \n",
       "height750   0.939725  \n",
       "height1000  1.252967  \n",
       "height1500  1.879450  \n",
       "height2000  2.505933  \n",
       "height3000  3.758899  "
      ]
     },
     "execution_count": 4,
     "metadata": {},
     "output_type": "execute_result"
    }
   ],
   "source": [
    "truth_df = pd.concat(truth.values(), axis=1).T.astype(float)\n",
    "truth_df = truth_df.sort_values(by=\"height\")\n",
    "truth_df"
   ]
  },
  {
   "cell_type": "code",
   "execution_count": 5,
   "metadata": {},
   "outputs": [
    {
     "data": {
      "text/plain": [
       "height300     True\n",
       "height500     True\n",
       "height600     True\n",
       "height750     True\n",
       "height1000    True\n",
       "height1500    True\n",
       "height2000    True\n",
       "height3000    True\n",
       "Name: marginal, dtype: object"
      ]
     },
     "execution_count": 5,
     "metadata": {},
     "output_type": "execute_result"
    }
   ],
   "source": [
    "fit_df = pd.concat(fit.values(), axis=1).T.sort_values(by=\"height\")\n",
    "fit_df[\"marginal\"]"
   ]
  },
  {
   "cell_type": "code",
   "execution_count": 6,
   "metadata": {},
   "outputs": [
    {
     "data": {
      "text/plain": [
       "height300     True\n",
       "height500     True\n",
       "height600     True\n",
       "height750     True\n",
       "height1000    True\n",
       "height1500    True\n",
       "height2000    True\n",
       "height3000    True\n",
       "Name: classifier, dtype: object"
      ]
     },
     "execution_count": 6,
     "metadata": {},
     "output_type": "execute_result"
    }
   ],
   "source": [
    "fit_df[\"classifier\"]"
   ]
  },
  {
   "cell_type": "code",
   "execution_count": 7,
   "metadata": {},
   "outputs": [
    {
     "data": {
      "text/html": [
       "<div>\n",
       "<style scoped>\n",
       "    .dataframe tbody tr th:only-of-type {\n",
       "        vertical-align: middle;\n",
       "    }\n",
       "\n",
       "    .dataframe tbody tr th {\n",
       "        vertical-align: top;\n",
       "    }\n",
       "\n",
       "    .dataframe thead th {\n",
       "        text-align: right;\n",
       "    }\n",
       "</style>\n",
       "<table border=\"1\" class=\"dataframe\">\n",
       "  <thead>\n",
       "    <tr style=\"text-align: right;\">\n",
       "      <th></th>\n",
       "      <th>snr</th>\n",
       "      <th>gain_mean</th>\n",
       "      <th>gain_ll</th>\n",
       "      <th>gain_ul</th>\n",
       "      <th>pi_mean</th>\n",
       "      <th>pi_ll</th>\n",
       "      <th>pi_ul</th>\n",
       "      <th>lamda_mean</th>\n",
       "      <th>lamda_ll</th>\n",
       "      <th>lamda_ul</th>\n",
       "      <th>...</th>\n",
       "      <th>Recall</th>\n",
       "      <th>Precision</th>\n",
       "      <th>TN</th>\n",
       "      <th>FP</th>\n",
       "      <th>FN</th>\n",
       "      <th>TP</th>\n",
       "      <th>z_median</th>\n",
       "      <th>z_ll</th>\n",
       "      <th>z_ul</th>\n",
       "      <th>height</th>\n",
       "    </tr>\n",
       "  </thead>\n",
       "  <tbody>\n",
       "    <tr>\n",
       "      <th>height300</th>\n",
       "      <td>1.171844</td>\n",
       "      <td>7.017156</td>\n",
       "      <td>7.017156</td>\n",
       "      <td>7.017156</td>\n",
       "      <td>0.001520</td>\n",
       "      <td>0.001520</td>\n",
       "      <td>0.001520</td>\n",
       "      <td>2.466577e-07</td>\n",
       "      <td>2.466577e-07</td>\n",
       "      <td>2.466577e-07</td>\n",
       "      <td>...</td>\n",
       "      <td>0.011173</td>\n",
       "      <td>1.000000</td>\n",
       "      <td>2142.0</td>\n",
       "      <td>0.0</td>\n",
       "      <td>354.0</td>\n",
       "      <td>4.0</td>\n",
       "      <td>0.000147</td>\n",
       "      <td>0.000040</td>\n",
       "      <td>0.001016</td>\n",
       "      <td>300.0</td>\n",
       "    </tr>\n",
       "    <tr>\n",
       "      <th>height500</th>\n",
       "      <td>1.158543</td>\n",
       "      <td>7.036217</td>\n",
       "      <td>7.036217</td>\n",
       "      <td>7.036217</td>\n",
       "      <td>0.025246</td>\n",
       "      <td>0.025246</td>\n",
       "      <td>0.025246</td>\n",
       "      <td>3.926317e-07</td>\n",
       "      <td>3.926317e-07</td>\n",
       "      <td>3.926317e-07</td>\n",
       "      <td>...</td>\n",
       "      <td>0.139665</td>\n",
       "      <td>0.943396</td>\n",
       "      <td>2139.0</td>\n",
       "      <td>3.0</td>\n",
       "      <td>308.0</td>\n",
       "      <td>50.0</td>\n",
       "      <td>0.023742</td>\n",
       "      <td>0.003707</td>\n",
       "      <td>0.393330</td>\n",
       "      <td>500.0</td>\n",
       "    </tr>\n",
       "    <tr>\n",
       "      <th>height600</th>\n",
       "      <td>1.088034</td>\n",
       "      <td>7.062657</td>\n",
       "      <td>7.062657</td>\n",
       "      <td>7.062657</td>\n",
       "      <td>0.062252</td>\n",
       "      <td>0.062252</td>\n",
       "      <td>0.062252</td>\n",
       "      <td>1.840548e-03</td>\n",
       "      <td>1.840548e-03</td>\n",
       "      <td>1.840548e-03</td>\n",
       "      <td>...</td>\n",
       "      <td>0.377095</td>\n",
       "      <td>0.950704</td>\n",
       "      <td>2135.0</td>\n",
       "      <td>7.0</td>\n",
       "      <td>223.0</td>\n",
       "      <td>135.0</td>\n",
       "      <td>0.237972</td>\n",
       "      <td>0.026788</td>\n",
       "      <td>0.967549</td>\n",
       "      <td>600.0</td>\n",
       "    </tr>\n",
       "    <tr>\n",
       "      <th>height750</th>\n",
       "      <td>1.099096</td>\n",
       "      <td>7.058381</td>\n",
       "      <td>7.058381</td>\n",
       "      <td>7.058381</td>\n",
       "      <td>0.119392</td>\n",
       "      <td>0.119392</td>\n",
       "      <td>0.119392</td>\n",
       "      <td>1.332163e-02</td>\n",
       "      <td>1.332163e-02</td>\n",
       "      <td>1.332163e-02</td>\n",
       "      <td>...</td>\n",
       "      <td>0.776536</td>\n",
       "      <td>0.945578</td>\n",
       "      <td>2126.0</td>\n",
       "      <td>16.0</td>\n",
       "      <td>80.0</td>\n",
       "      <td>278.0</td>\n",
       "      <td>0.955062</td>\n",
       "      <td>0.336406</td>\n",
       "      <td>0.998702</td>\n",
       "      <td>750.0</td>\n",
       "    </tr>\n",
       "    <tr>\n",
       "      <th>height1000</th>\n",
       "      <td>1.262311</td>\n",
       "      <td>7.055233</td>\n",
       "      <td>7.055233</td>\n",
       "      <td>7.055233</td>\n",
       "      <td>0.149783</td>\n",
       "      <td>0.149783</td>\n",
       "      <td>0.149783</td>\n",
       "      <td>6.875274e-02</td>\n",
       "      <td>6.875274e-02</td>\n",
       "      <td>6.875274e-02</td>\n",
       "      <td>...</td>\n",
       "      <td>0.988827</td>\n",
       "      <td>0.951613</td>\n",
       "      <td>2124.0</td>\n",
       "      <td>18.0</td>\n",
       "      <td>4.0</td>\n",
       "      <td>354.0</td>\n",
       "      <td>0.997516</td>\n",
       "      <td>0.990176</td>\n",
       "      <td>0.998244</td>\n",
       "      <td>1000.0</td>\n",
       "    </tr>\n",
       "    <tr>\n",
       "      <th>height1500</th>\n",
       "      <td>1.868378</td>\n",
       "      <td>7.004901</td>\n",
       "      <td>7.004901</td>\n",
       "      <td>7.004901</td>\n",
       "      <td>0.147590</td>\n",
       "      <td>0.147590</td>\n",
       "      <td>0.147590</td>\n",
       "      <td>1.240443e-01</td>\n",
       "      <td>1.240443e-01</td>\n",
       "      <td>1.240443e-01</td>\n",
       "      <td>...</td>\n",
       "      <td>0.986034</td>\n",
       "      <td>0.969780</td>\n",
       "      <td>2131.0</td>\n",
       "      <td>11.0</td>\n",
       "      <td>5.0</td>\n",
       "      <td>353.0</td>\n",
       "      <td>0.997395</td>\n",
       "      <td>0.996020</td>\n",
       "      <td>0.998023</td>\n",
       "      <td>1500.0</td>\n",
       "    </tr>\n",
       "    <tr>\n",
       "      <th>height2000</th>\n",
       "      <td>2.502502</td>\n",
       "      <td>6.991581</td>\n",
       "      <td>6.991581</td>\n",
       "      <td>6.991581</td>\n",
       "      <td>0.144283</td>\n",
       "      <td>0.144283</td>\n",
       "      <td>0.144283</td>\n",
       "      <td>1.339201e-01</td>\n",
       "      <td>1.339201e-01</td>\n",
       "      <td>1.339201e-01</td>\n",
       "      <td>...</td>\n",
       "      <td>0.983240</td>\n",
       "      <td>0.977778</td>\n",
       "      <td>2134.0</td>\n",
       "      <td>8.0</td>\n",
       "      <td>6.0</td>\n",
       "      <td>352.0</td>\n",
       "      <td>0.997631</td>\n",
       "      <td>0.995792</td>\n",
       "      <td>0.998216</td>\n",
       "      <td>2000.0</td>\n",
       "    </tr>\n",
       "    <tr>\n",
       "      <th>height3000</th>\n",
       "      <td>3.767562</td>\n",
       "      <td>6.999659</td>\n",
       "      <td>6.999659</td>\n",
       "      <td>6.999659</td>\n",
       "      <td>0.147087</td>\n",
       "      <td>0.147087</td>\n",
       "      <td>0.147087</td>\n",
       "      <td>1.368161e-01</td>\n",
       "      <td>1.368161e-01</td>\n",
       "      <td>1.368161e-01</td>\n",
       "      <td>...</td>\n",
       "      <td>0.977654</td>\n",
       "      <td>0.980392</td>\n",
       "      <td>2135.0</td>\n",
       "      <td>7.0</td>\n",
       "      <td>8.0</td>\n",
       "      <td>350.0</td>\n",
       "      <td>0.997925</td>\n",
       "      <td>0.995820</td>\n",
       "      <td>0.998526</td>\n",
       "      <td>3000.0</td>\n",
       "    </tr>\n",
       "  </tbody>\n",
       "</table>\n",
       "<p>8 rows × 24 columns</p>\n",
       "</div>"
      ],
      "text/plain": [
       "                 snr  gain_mean   gain_ll   gain_ul   pi_mean     pi_ll  \\\n",
       "height300   1.171844   7.017156  7.017156  7.017156  0.001520  0.001520   \n",
       "height500   1.158543   7.036217  7.036217  7.036217  0.025246  0.025246   \n",
       "height600   1.088034   7.062657  7.062657  7.062657  0.062252  0.062252   \n",
       "height750   1.099096   7.058381  7.058381  7.058381  0.119392  0.119392   \n",
       "height1000  1.262311   7.055233  7.055233  7.055233  0.149783  0.149783   \n",
       "height1500  1.868378   7.004901  7.004901  7.004901  0.147590  0.147590   \n",
       "height2000  2.502502   6.991581  6.991581  6.991581  0.144283  0.144283   \n",
       "height3000  3.767562   6.999659  6.999659  6.999659  0.147087  0.147087   \n",
       "\n",
       "               pi_ul    lamda_mean      lamda_ll      lamda_ul  ...    Recall  \\\n",
       "height300   0.001520  2.466577e-07  2.466577e-07  2.466577e-07  ...  0.011173   \n",
       "height500   0.025246  3.926317e-07  3.926317e-07  3.926317e-07  ...  0.139665   \n",
       "height600   0.062252  1.840548e-03  1.840548e-03  1.840548e-03  ...  0.377095   \n",
       "height750   0.119392  1.332163e-02  1.332163e-02  1.332163e-02  ...  0.776536   \n",
       "height1000  0.149783  6.875274e-02  6.875274e-02  6.875274e-02  ...  0.988827   \n",
       "height1500  0.147590  1.240443e-01  1.240443e-01  1.240443e-01  ...  0.986034   \n",
       "height2000  0.144283  1.339201e-01  1.339201e-01  1.339201e-01  ...  0.983240   \n",
       "height3000  0.147087  1.368161e-01  1.368161e-01  1.368161e-01  ...  0.977654   \n",
       "\n",
       "            Precision      TN    FP     FN     TP  z_median      z_ll  \\\n",
       "height300    1.000000  2142.0   0.0  354.0    4.0  0.000147  0.000040   \n",
       "height500    0.943396  2139.0   3.0  308.0   50.0  0.023742  0.003707   \n",
       "height600    0.950704  2135.0   7.0  223.0  135.0  0.237972  0.026788   \n",
       "height750    0.945578  2126.0  16.0   80.0  278.0  0.955062  0.336406   \n",
       "height1000   0.951613  2124.0  18.0    4.0  354.0  0.997516  0.990176   \n",
       "height1500   0.969780  2131.0  11.0    5.0  353.0  0.997395  0.996020   \n",
       "height2000   0.977778  2134.0   8.0    6.0  352.0  0.997631  0.995792   \n",
       "height3000   0.980392  2135.0   7.0    8.0  350.0  0.997925  0.995820   \n",
       "\n",
       "                z_ul  height  \n",
       "height300   0.001016   300.0  \n",
       "height500   0.393330   500.0  \n",
       "height600   0.967549   600.0  \n",
       "height750   0.998702   750.0  \n",
       "height1000  0.998244  1000.0  \n",
       "height1500  0.998023  1500.0  \n",
       "height2000  0.998216  2000.0  \n",
       "height3000  0.998526  3000.0  \n",
       "\n",
       "[8 rows x 24 columns]"
      ]
     },
     "execution_count": 7,
     "metadata": {},
     "output_type": "execute_result"
    }
   ],
   "source": [
    "fit_df = fit_df.drop(columns=[\"marginal\", \"classifier\"]).astype(float)\n",
    "fit_df"
   ]
  },
  {
   "cell_type": "code",
   "execution_count": 8,
   "metadata": {},
   "outputs": [],
   "source": [
    "with pd.ExcelWriter(\"/home/ordabayev/repos/tapqir-overleaf/supplementary/data1/height.xlsx\") as writer:\n",
    "    truth_df.to_excel(writer, sheet_name=\"simulation\")\n",
    "    fit_df.to_excel(writer, sheet_name=\"fit\")"
   ]
  },
  {
   "cell_type": "markdown",
   "metadata": {},
   "source": [
    "### Figure 2"
   ]
  },
  {
   "cell_type": "code",
   "execution_count": 9,
   "metadata": {},
   "outputs": [
    {
     "data": {
      "image/png": "[encoded data removed]",
      "text/plain": [
       "<Figure size 72x72 with 1 Axes>"
      ]
     },
     "metadata": {},
     "output_type": "display_data"
    },
    {
     "data": {
      "image/png": "[encoded data removed]",
      "text/plain": [
       "<Figure size 72x72 with 1 Axes>"
      ]
     },
     "metadata": {},
     "output_type": "display_data"
    },
    {
     "data": {
      "image/png": "[encoded data removed]",
      "text/plain": [
       "<Figure size 72x72 with 1 Axes>"
      ]
     },
     "metadata": {},
     "output_type": "display_data"
    }
   ],
   "source": [
    "path_data = EXAMLES_DIR / \"lamda0.5\"\n",
    "path_params = path_data / \"runs/cosmos/v1.1.6/S1/control/lr0.005/bs4\"\n",
    "\n",
    "# load parameters\n",
    "model = Cosmos(S=1, K=2)\n",
    "model.load(path_data, True, \"cpu\")\n",
    "model.load_parameters(path_params)\n",
    "\n",
    "n = ontarget = 0\n",
    "frames = [295, 85, 30]\n",
    "\n",
    "for i, f in enumerate(frames):\n",
    "    img_ideal = model.data.offset_mean + pyro.param(\"d/b_loc\").data[n, f:f+1, None, None]\n",
    "    gaussian = model.data_loc(\n",
    "        pyro.param(\"d/h_loc\").data[:, n, f:f+1].masked_fill(model.m_probs[:, n, f:f+1] < 0.5, 0.),\n",
    "        pyro.param(\"d/w_mean\").data[:, n, f:f+1],\n",
    "        pyro.param(\"d/x_mean\").data[:, n, f:f+1],\n",
    "        pyro.param(\"d/y_mean\").data[:, n, f:f+1],\n",
    "        n, torch.arange(f,f+1)\n",
    "    )\n",
    "    img_ideal = img_ideal + gaussian.sum(-4)\n",
    "    \n",
    "    plt.figure(figsize=(1., 1.))\n",
    "    plt.imshow(img_ideal[0].numpy(), vmin=230, vmax=380, cmap=\"gray\")\n",
    "    plt.xticks([], [])\n",
    "    plt.yticks([], [])\n",
    "    # plt.savefig(f\"/home/ordabayev/repos/tapqir-overleaf/figures/figure2/theta{i}.png\", dpi=600)\n",
    "    plt.show()"
   ]
  },
  {
   "cell_type": "markdown",
   "metadata": {},
   "source": [
    "### Figure 3"
   ]
  },
  {
   "cell_type": "code",
   "execution_count": 10,
   "metadata": {},
   "outputs": [],
   "source": [
    "n = ontarget = 4\n",
    "frames = [275, 278, 280, 283, 285, 288, 290, 293, 295]\n",
    "vmin, vmax = model.data.vmin, model.data.vmax"
   ]
  },
  {
   "cell_type": "code",
   "execution_count": 11,
   "metadata": {},
   "outputs": [
    {
     "data": {
      "image/png": "[encoded data removed]",
      "text/plain": [
       "<Figure size 25.2x25.2 with 1 Axes>"
      ]
     },
     "metadata": {
      "needs_background": "light"
     },
     "output_type": "display_data"
    },
    {
     "data": {
      "image/png": "[encoded data removed]",
      "text/plain": [
       "<Figure size 25.2x25.2 with 1 Axes>"
      ]
     },
     "metadata": {
      "needs_background": "light"
     },
     "output_type": "display_data"
    },
    {
     "data": {
      "image/png": "[encoded data removed]",
      "text/plain": [
       "<Figure size 25.2x25.2 with 1 Axes>"
      ]
     },
     "metadata": {
      "needs_background": "light"
     },
     "output_type": "display_data"
    },
    {
     "data": {
      "image/png": "[encoded data removed]",
      "text/plain": [
       "<Figure size 25.2x25.2 with 1 Axes>"
      ]
     },
     "metadata": {
      "needs_background": "light"
     },
     "output_type": "display_data"
    },
    {
     "data": {
      "image/png": "[encoded data removed]",
      "text/plain": [
       "<Figure size 25.2x25.2 with 1 Axes>"
      ]
     },
     "metadata": {
      "needs_background": "light"
     },
     "output_type": "display_data"
    },
    {
     "data": {
      "image/png": "[encoded data removed]",
      "text/plain": [
       "<Figure size 25.2x25.2 with 1 Axes>"
      ]
     },
     "metadata": {
      "needs_background": "light"
     },
     "output_type": "display_data"
    },
    {
     "data": {
      "image/png": "[encoded data removed]",
      "text/plain": [
       "<Figure size 25.2x25.2 with 1 Axes>"
      ]
     },
     "metadata": {
      "needs_background": "light"
     },
     "output_type": "display_data"
    },
    {
     "data": {
      "image/png": "[encoded data removed]",
      "text/plain": [
       "<Figure size 25.2x25.2 with 1 Axes>"
      ]
     },
     "metadata": {
      "needs_background": "light"
     },
     "output_type": "display_data"
    },
    {
     "data": {
      "image/png": "[encoded data removed]",
      "text/plain": [
       "<Figure size 25.2x25.2 with 1 Axes>"
      ]
     },
     "metadata": {
      "needs_background": "light"
     },
     "output_type": "display_data"
    }
   ],
   "source": [
    "for f in frames:\n",
    "    plt.figure(figsize=(0.35, 0.35))\n",
    "    plt.axis(\"off\")\n",
    "    plt.imshow(model.data[ontarget, f].numpy(),\n",
    "               vmin=vmin, vmax=vmax, cmap=\"gray\")\n",
    "    # plt.savefig(f\"/home/ordabayev/repos/tapqir-overleaf/figures/figure3/height-aois-{f}.png\", dpi=600)\n",
    "    plt.show()"
   ]
  },
  {
   "cell_type": "code",
   "execution_count": 12,
   "metadata": {},
   "outputs": [
    {
     "data": {
      "image/png": "[encoded data removed]",
      "text/plain": [
       "<Figure size 25.2x25.2 with 1 Axes>"
      ]
     },
     "metadata": {
      "needs_background": "light"
     },
     "output_type": "display_data"
    },
    {
     "data": {
      "image/png": "[encoded data removed]",
      "text/plain": [
       "<Figure size 25.2x25.2 with 1 Axes>"
      ]
     },
     "metadata": {
      "needs_background": "light"
     },
     "output_type": "display_data"
    },
    {
     "data": {
      "image/png": "[encoded data removed]",
      "text/plain": [
       "<Figure size 25.2x25.2 with 1 Axes>"
      ]
     },
     "metadata": {
      "needs_background": "light"
     },
     "output_type": "display_data"
    },
    {
     "data": {
      "image/png": "[encoded data removed]",
      "text/plain": [
       "<Figure size 25.2x25.2 with 1 Axes>"
      ]
     },
     "metadata": {
      "needs_background": "light"
     },
     "output_type": "display_data"
    },
    {
     "data": {
      "image/png": "[encoded data removed]",
      "text/plain": [
       "<Figure size 25.2x25.2 with 1 Axes>"
      ]
     },
     "metadata": {
      "needs_background": "light"
     },
     "output_type": "display_data"
    },
    {
     "data": {
      "image/png": "[encoded data removed]",
      "text/plain": [
       "<Figure size 25.2x25.2 with 1 Axes>"
      ]
     },
     "metadata": {
      "needs_background": "light"
     },
     "output_type": "display_data"
    },
    {
     "data": {
      "image/png": "[encoded data removed]",
      "text/plain": [
       "<Figure size 25.2x25.2 with 1 Axes>"
      ]
     },
     "metadata": {
      "needs_background": "light"
     },
     "output_type": "display_data"
    },
    {
     "data": {
      "image/png": "[encoded data removed]",
      "text/plain": [
       "<Figure size 25.2x25.2 with 1 Axes>"
      ]
     },
     "metadata": {
      "needs_background": "light"
     },
     "output_type": "display_data"
    },
    {
     "data": {
      "image/png": "[encoded data removed]",
      "text/plain": [
       "<Figure size 25.2x25.2 with 1 Axes>"
      ]
     },
     "metadata": {
      "needs_background": "light"
     },
     "output_type": "display_data"
    }
   ],
   "source": [
    "for f in frames:\n",
    "    fig = plt.figure(figsize=(0.35, 0.35))\n",
    "\n",
    "    plt.imshow(np.ones((model.data.D, model.data.D)),\n",
    "               vmin=0, vmax=1, cmap=\"gray\")\n",
    "    # add patch\n",
    "    for k in range(2):\n",
    "        if model.m_probs[k, n, f].item() > 0.5:\n",
    "            plt.gca().add_patch(\n",
    "                Circle(\n",
    "                    (model.data.target_locs[n, f, 1] +\n",
    "                     pyro.param(\"d/y_mean\")[k, n, f].item(),\n",
    "                     model.data.target_locs[n, f, 0] +\n",
    "                     pyro.param(\"d/x_mean\")[k, n, f].item()),\n",
    "                    1.5, color=f\"C{k}\"\n",
    "                )\n",
    "            )\n",
    "    plt.axis(\"off\")\n",
    "    # plt.savefig(f\"/home/ordabayev/repos/tapqir-overleaf/figures/figure3/height-{f}.png\", dpi=600)\n",
    "    plt.show()"
   ]
  },
  {
   "cell_type": "code",
   "execution_count": 13,
   "metadata": {},
   "outputs": [],
   "source": [
    "f1, f2 = 275, 296\n",
    "\n",
    "model.n = torch.tensor([n])\n",
    "trace = pyro.poutine.trace(model.guide).get_trace()"
   ]
  },
  {
   "cell_type": "code",
   "execution_count": 14,
   "metadata": {},
   "outputs": [
    {
     "data": {
      "image/png": "[encoded data removed]",
      "text/plain": [
       "<Figure size 252x36 with 1 Axes>"
      ]
     },
     "metadata": {
      "needs_background": "light"
     },
     "output_type": "display_data"
    }
   ],
   "source": [
    "plt.figure(figsize=(3.5,0.5))\n",
    "\n",
    "plt.plot(\n",
    "    np.arange(f1, f2),\n",
    "    model.z_marginal[n, f1:f2],\n",
    "    \"o-\", ms=2, lw=0.5, color=\"C2\", label=\"on-target\"\n",
    ")\n",
    "#plt.plot(\n",
    "#    np.arange(f1, f2),\n",
    "#    1 - (1 - model.j_probs[:, n, f1:f2]).prod(0),\n",
    "#    \"o-\", ms=2, lw=0.5, color=\"C3\", label=\"off-target\"\n",
    "#)\n",
    "plt.xticks([])\n",
    "plt.yticks([0, 0.5, 1], fontsize=8)\n",
    "plt.xlim(f1-0.5, f2-0.5)\n",
    "plt.ylim(-0.15, 1.15)\n",
    "plt.ylabel(r\"$p(\\mathrm{specific})$\", fontsize=8)\n",
    "plt.gca().yaxis.set_major_formatter(FormatStrFormatter('%g'))\n",
    "\n",
    "# plt.savefig(\"/home/ordabayev/repos/tapqir-overleaf/figures/figure3/height-pspecific.svg\")\n",
    "plt.show()"
   ]
  },
  {
   "cell_type": "code",
   "execution_count": 15,
   "metadata": {},
   "outputs": [
    {
     "data": {
      "image/png": "[encoded data removed]",
      "text/plain": [
       "<Figure size 252x36 with 1 Axes>"
      ]
     },
     "metadata": {
      "needs_background": "light"
     },
     "output_type": "display_data"
    }
   ],
   "source": [
    "plt.figure(figsize=(3.5,0.5))\n",
    "\n",
    "plt.plot(\n",
    "    np.arange(f1, f2),\n",
    "    model.z_probs[0, n, f1:f2],\n",
    "    \"o-\", ms=2, lw=0.5, color=\"C0\", label=r\"$\\theta=1$\"\n",
    ")\n",
    "plt.plot(\n",
    "    np.arange(f1, f2),\n",
    "    model.z_probs[1, n, f1:f2],\n",
    "    \"o-\", ms=2, lw=0.5, color=\"C1\", label=r\"$\\theta=2$\"\n",
    ")\n",
    "plt.xticks([])\n",
    "plt.yticks([0, 0.5, 1], fontsize=8)\n",
    "plt.xlim(f1-0.5, f2-0.5)\n",
    "plt.ylim(-0.15, 1.15)\n",
    "plt.ylabel(r\"$p(\\theta)$\", fontsize=8)\n",
    "plt.gca().yaxis.set_major_formatter(FormatStrFormatter('%g'))\n",
    "\n",
    "# plt.savefig(\"/home/ordabayev/repos/tapqir-overleaf/figures/figure3/height-theta.svg\")\n",
    "plt.show()"
   ]
  },
  {
   "cell_type": "code",
   "execution_count": 16,
   "metadata": {},
   "outputs": [
    {
     "data": {
      "image/png": "[encoded data removed]",
      "text/plain": [
       "<Figure size 252x36 with 1 Axes>"
      ]
     },
     "metadata": {
      "needs_background": "light"
     },
     "output_type": "display_data"
    }
   ],
   "source": [
    "plt.figure(figsize=(3.5,0.5))\n",
    "\n",
    "plt.plot(\n",
    "    np.arange(f1, f2),\n",
    "    model.m_probs[0, n, f1:f2],\n",
    "    \"o-\", ms=2, lw=0.5, color=\"C0\", label=r\"$m_{1}$\"\n",
    ")\n",
    "plt.plot(\n",
    "    np.arange(f1, f2),\n",
    "    model.m_probs[1, n, f1:f2],\n",
    "    \"o-\", ms=2, lw=0.5, color=\"C1\", label=r\"$m_{2}$\"\n",
    ")\n",
    "plt.xticks([])\n",
    "plt.yticks([0, 0.5, 1], fontsize=8)\n",
    "plt.xlim(f1-0.5, f2-0.5)\n",
    "plt.ylim(-0.15, 1.15)\n",
    "plt.ylabel(r\"$p(m)$\", fontsize=8)\n",
    "plt.gca().yaxis.set_major_formatter(FormatStrFormatter('%g'))\n",
    "\n",
    "# plt.savefig(\"/home/ordabayev/repos/tapqir-overleaf/figures/figure3/height-m.svg\")\n",
    "plt.show()"
   ]
  },
  {
   "cell_type": "code",
   "execution_count": 17,
   "metadata": {},
   "outputs": [],
   "source": [
    "sites = [\n",
    "    \"d/height_0\",\n",
    "    \"d/height_1\",\n",
    "    \"d/width_0\",\n",
    "    \"d/width_1\",\n",
    "    \"d/x_0\",\n",
    "    \"d/x_1\",\n",
    "    \"d/y_0\",\n",
    "    \"d/y_1\",\n",
    "    \"d/background\",\n",
    "]\n",
    "ci_stats = ci_from_trace(trace, sites)"
   ]
  },
  {
   "cell_type": "code",
   "execution_count": 18,
   "metadata": {},
   "outputs": [
    {
     "data": {
      "image/png": "[encoded data removed]",
      "text/plain": [
       "<Figure size 252x36 with 1 Axes>"
      ]
     },
     "metadata": {
      "needs_background": "light"
     },
     "output_type": "display_data"
    }
   ],
   "source": [
    "plt.figure(figsize=(3.5,0.5))\n",
    "\n",
    "for k in range(2):\n",
    "    plt.fill_between(\n",
    "        np.arange(f1, f2),\n",
    "        ci_stats[f\"d/height_{k}\"][\"ll\"][f1:f2], ci_stats[f\"d/height_{k}\"][\"ul\"][f1:f2],\n",
    "        alpha=0.15, color=f\"C{k}\"\n",
    "    )\n",
    "    plt.plot(\n",
    "        np.arange(f1, f2),\n",
    "        ci_stats[f\"d/height_{k}\"][\"mean\"][f1:f2],\n",
    "        \"o-\", ms=2, lw=0.7, color=f\"C{k}\",\n",
    "    )\n",
    "\n",
    "plt.xticks([])\n",
    "plt.yticks([0, 2000, 4000], fontsize=8)\n",
    "plt.xlim(f1-0.5, f2-0.5)\n",
    "plt.ylim(-500, 4500)\n",
    "plt.ylabel(r\"$h$\", fontsize=8)\n",
    "\n",
    "# plt.savefig(\"/home/ordabayev/repos/tapqir-overleaf/figures/figure3/height-h.svg\")\n",
    "plt.show()"
   ]
  },
  {
   "cell_type": "code",
   "execution_count": 19,
   "metadata": {},
   "outputs": [
    {
     "data": {
      "image/png": "[encoded data removed]",
      "text/plain": [
       "<Figure size 252x36 with 1 Axes>"
      ]
     },
     "metadata": {
      "needs_background": "light"
     },
     "output_type": "display_data"
    }
   ],
   "source": [
    "plt.figure(figsize=(3.5,0.5))\n",
    "\n",
    "for k in range(2):\n",
    "    plt.fill_between(\n",
    "        np.arange(f1, f2),\n",
    "        ci_stats[f\"d/x_{k}\"][\"ll\"][f1:f2], ci_stats[f\"d/x_{k}\"][\"ul\"][f1:f2],\n",
    "        alpha=0.15, color=f\"C{k}\"\n",
    "    )\n",
    "    plt.plot(\n",
    "        np.arange(f1, f2),\n",
    "        ci_stats[f\"d/x_{k}\"][\"mean\"][f1:f2],\n",
    "        \"o-\", ms=2, lw=0.7, color=f\"C{k}\",\n",
    "    )\n",
    "\n",
    "plt.xticks([])\n",
    "plt.yticks([-6, 0, 6], fontsize=8)\n",
    "plt.xlim(f1-0.5, f2-0.5)\n",
    "plt.ylabel(r\"$x$\", fontsize=8)\n",
    "\n",
    "# plt.savefig(\"/home/ordabayev/repos/tapqir-overleaf/figures/figure3/height-x.svg\")\n",
    "plt.show()"
   ]
  },
  {
   "cell_type": "code",
   "execution_count": 20,
   "metadata": {},
   "outputs": [
    {
     "data": {
      "image/png": "[encoded data removed]",
      "text/plain": [
       "<Figure size 252x36 with 1 Axes>"
      ]
     },
     "metadata": {
      "needs_background": "light"
     },
     "output_type": "display_data"
    }
   ],
   "source": [
    "plt.figure(figsize=(3.5,0.5))\n",
    "\n",
    "for k in range(2):\n",
    "    plt.fill_between(\n",
    "        np.arange(f1, f2),\n",
    "        ci_stats[f\"d/x_{k}\"][\"ll\"][f1:f2], ci_stats[f\"d/x_{k}\"][\"ul\"][f1:f2],\n",
    "        alpha=0.15, color=f\"C{k}\"\n",
    "    )\n",
    "    plt.plot(\n",
    "        np.arange(f1, f2),\n",
    "        ci_stats[f\"d/x_{k}\"][\"mean\"][f1:f2],\n",
    "        \"o-\", ms=2, lw=0.7, color=f\"C{k}\",\n",
    "    )\n",
    "\n",
    "plt.xticks([])\n",
    "plt.yticks([-6, 0, 6], fontsize=8)\n",
    "plt.xlim(f1-0.5, f2-0.5)\n",
    "plt.ylabel(r\"$y$\", fontsize=8)\n",
    "\n",
    "# plt.savefig(\"/home/ordabayev/repos/tapqir-overleaf/figures/figure3/height-y.svg\")\n",
    "plt.show()"
   ]
  },
  {
   "cell_type": "code",
   "execution_count": 21,
   "metadata": {
    "scrolled": true
   },
   "outputs": [
    {
     "data": {
      "image/png": "[encoded data removed]",
      "text/plain": [
       "<Figure size 252x36 with 1 Axes>"
      ]
     },
     "metadata": {
      "needs_background": "light"
     },
     "output_type": "display_data"
    }
   ],
   "source": [
    "plt.figure(figsize=(3.5,0.5))\n",
    "\n",
    "plt.plot(\n",
    "    np.arange(f1, f2),\n",
    "    ci_stats[\"d/background\"][\"mean\"][f1:f2],\n",
    "    \"o-\", ms=2, lw=0.7, color=\"k\"\n",
    ")\n",
    "plt.fill_between(\n",
    "    np.arange(f1, f2),\n",
    "    ci_stats[\"d/background\"][\"ll\"][f1:f2], ci_stats[\"d/background\"][\"ul\"][f1:f2],\n",
    "    alpha=0.15, color=\"k\"\n",
    ")\n",
    "\n",
    "plt.xticks(np.arange(f1, f2+5, 5), fontsize=8)\n",
    "plt.yticks([0, 100, 200], fontsize=8)\n",
    "plt.xlim(f1-0.5, f2-0.5)\n",
    "plt.ylim(0, 230)\n",
    "plt.ylabel(r\"$b$\", fontsize=8)\n",
    "#plt.legend(fontsize=8)\n",
    "plt.xlabel(\"Frame\", fontsize=8)\n",
    "\n",
    "# plt.savefig(\"/home/ordabayev/repos/tapqir-overleaf/figures/figure3/height-b.svg\")\n",
    "plt.show()"
   ]
  },
  {
   "cell_type": "markdown",
   "metadata": {},
   "source": [
    "### Figure 4"
   ]
  },
  {
   "cell_type": "code",
   "execution_count": 22,
   "metadata": {},
   "outputs": [],
   "source": [
    "data_path = EXAMLES_DIR / \"height3000\"\n",
    "param_path = data_path / \"runs/cosmos/v1.1.6/S1/control/lr0.005/bs4/\"\n",
    "model = Cosmos()\n",
    "model.load(data_path, True, \"cpu\")\n",
    "model.load_parameters(param_path)\n",
    "\n",
    "model.n = None\n",
    "predictive = Predictive(pyro.poutine.uncondition(model.model), guide=model.guide, num_samples=1)\n",
    "samples = predictive()"
   ]
  },
  {
   "cell_type": "code",
   "execution_count": 23,
   "metadata": {},
   "outputs": [
    {
     "data": {
      "image/png": "[encoded data removed]",
      "text/plain": [
       "<Figure size 252x43.2 with 6 Axes>"
      ]
     },
     "metadata": {
      "needs_background": "light"
     },
     "output_type": "display_data"
    }
   ],
   "source": [
    "aois = [0, 0, 0, 0, 0, 0]\n",
    "frames = [59, 70, 69, 93, 85, 224]\n",
    "\n",
    "plt.figure(figsize=(3.5, 0.6))\n",
    "for i, n, f in zip(np.arange(6), aois, frames):\n",
    "    plt.subplot(1, 6, i+1)\n",
    "    plt.title(f\"{n}\\n{f}\", fontsize=8)\n",
    "    plt.hist(\n",
    "        model.data[n, f].flatten().numpy(),\n",
    "        range=(85, model.data.vmax+150),\n",
    "        density=True, bins=10, histtype=\"step\", lw=0.5, color=\"k\")\n",
    "    plt.hist(\n",
    "        samples[\"d/data\"][0, n, f].flatten().numpy(),\n",
    "        range=(85, model.data.vmax+150),\n",
    "        density=True, bins=20, histtype=\"step\", lw=0.5, color=\"C0\")\n",
    "    plt.xlim(85, model.data.vmax+150)\n",
    "    plt.xticks([150, 400], fontsize=8)\n",
    "    if i == 0:\n",
    "        plt.yticks(fontsize=8)\n",
    "        plt.ylabel(\"Density\", fontsize=8)\n",
    "        plt.gca().yaxis.set_major_formatter(FormatStrFormatter('%g'))\n",
    "    else:\n",
    "        plt.yticks([])\n",
    "\n",
    "# plt.tight_layout()\n",
    "# plt.savefig(\"/home/ordabayev/repos/tapqir-overleaf/figures/figure4/height-hist.svg\")\n",
    "\n",
    "plt.show()"
   ]
  },
  {
   "cell_type": "code",
   "execution_count": 24,
   "metadata": {},
   "outputs": [
    {
     "data": {
      "image/png": "[encoded data removed]",
      "text/plain": [
       "<Figure size 252x72 with 6 Axes>"
      ]
     },
     "metadata": {},
     "output_type": "display_data"
    }
   ],
   "source": [
    "plt.figure(figsize=(3.5, 1))\n",
    "for i, n, f in zip(np.arange(6), aois, frames):\n",
    "    plt.subplot(1, 6, i+1)\n",
    "    \n",
    "    plt.imshow(model.data[n, f].numpy(), vmin=120, vmax=model.data.vmax+150, cmap=\"gray\")\n",
    "    plt.xticks([], [])\n",
    "    plt.yticks([], [])\n",
    "\n",
    "# plt.savefig(\"/home/ordabayev/repos/tapqir-overleaf/figures/figure4/height-data.png\", dpi=600)\n",
    "\n",
    "plt.show()"
   ]
  },
  {
   "cell_type": "code",
   "execution_count": 25,
   "metadata": {},
   "outputs": [
    {
     "data": {
      "image/png": "[encoded data removed]",
      "text/plain": [
       "<Figure size 252x72 with 6 Axes>"
      ]
     },
     "metadata": {},
     "output_type": "display_data"
    }
   ],
   "source": [
    "plt.figure(figsize=(3.5, 1))\n",
    "for i, n, f in zip(np.arange(6), aois, frames):\n",
    "    plt.subplot(1, 6, i+1)\n",
    "    plt.imshow(samples[\"d/data\"][0, n, f].numpy(), vmin=120, vmax=model.data.vmax+150, cmap=\"gray\")\n",
    "    plt.xticks([], [])\n",
    "    plt.yticks([], [])\n",
    "\n",
    "# plt.tight_layout()\n",
    "# plt.savefig(\"/home/ordabayev/repos/tapqir-overleaf/figures/figure4/height-sample.png\", dpi=600)\n",
    "\n",
    "plt.show()"
   ]
  },
  {
   "cell_type": "markdown",
   "metadata": {},
   "source": [
    "### Figure 5"
   ]
  },
  {
   "cell_type": "code",
   "execution_count": 26,
   "metadata": {},
   "outputs": [
    {
     "data": {
      "image/png": "[encoded data removed]",
      "text/plain": [
       "<Figure size 90x90 with 1 Axes>"
      ]
     },
     "metadata": {
      "needs_background": "light"
     },
     "output_type": "display_data"
    },
    {
     "data": {
      "image/png": "[encoded data removed]",
      "text/plain": [
       "<Figure size 90x90 with 1 Axes>"
      ]
     },
     "metadata": {
      "needs_background": "light"
     },
     "output_type": "display_data"
    },
    {
     "data": {
      "image/png": "[encoded data removed]",
      "text/plain": [
       "<Figure size 90x90 with 1 Axes>"
      ]
     },
     "metadata": {
      "needs_background": "light"
     },
     "output_type": "display_data"
    },
    {
     "data": {
      "image/png": "[encoded data removed]",
      "text/plain": [
       "<Figure size 90x90 with 1 Axes>"
      ]
     },
     "metadata": {
      "needs_background": "light"
     },
     "output_type": "display_data"
    },
    {
     "data": {
      "image/png": "[encoded data removed]",
      "text/plain": [
       "<Figure size 90x90 with 1 Axes>"
      ]
     },
     "metadata": {
      "needs_background": "light"
     },
     "output_type": "display_data"
    },
    {
     "data": {
      "image/png": "[encoded data removed]",
      "text/plain": [
       "<Figure size 90x90 with 1 Axes>"
      ]
     },
     "metadata": {
      "needs_background": "light"
     },
     "output_type": "display_data"
    },
    {
     "data": {
      "image/png": "[encoded data removed]",
      "text/plain": [
       "<Figure size 90x90 with 1 Axes>"
      ]
     },
     "metadata": {
      "needs_background": "light"
     },
     "output_type": "display_data"
    },
    {
     "data": {
      "image/png": "[encoded data removed]",
      "text/plain": [
       "<Figure size 90x90 with 1 Axes>"
      ]
     },
     "metadata": {
      "needs_background": "light"
     },
     "output_type": "display_data"
    }
   ],
   "source": [
    "for name in fit_df.index:\n",
    "    plt.figure(figsize=(1.25, 1.25))\n",
    "    plt.hist(predictions[name][\"z_all\"].numpy(),\n",
    "             bins=np.arange(0, 1.05, 0.05), histtype=\"bar\", lw=1.,\n",
    "             color=\"#dddddd\", edgecolor=\"k\",\n",
    "             label=f\"{truth_df.loc[name, 'snr']:.2f} SNR\")\n",
    "    plt.hist(predictions[name][\"z_masked\"].numpy(),\n",
    "             bins=np.arange(0, 1.05, 0.05), histtype=\"bar\", lw=1.,\n",
    "             color=\"C2\", edgecolor=\"k\", alpha=0.6,\n",
    "             label=f\"{truth_df.loc[name, 'snr']:.2f} SNR\")\n",
    "    plt.yscale(\"log\")\n",
    "    plt.xlim(-0.05,1.05)\n",
    "    plt.ylim(1e-1, 5e3)\n",
    "    plt.xticks([0, 0.5, 1], fontsize=8)\n",
    "    \n",
    "    if name == \"height300\":\n",
    "        plt.ylabel(\"counts\", fontsize=8)\n",
    "        plt.yticks([1, 10, 100, 1000], fontsize=8)\n",
    "    else:\n",
    "        plt.yticks([])\n",
    "    if name == \"height750\":\n",
    "        plt.xlabel(r\"$p(\\mathsf{specific})$\", fontsize=8)\n",
    "    plt.gca().xaxis.set_major_formatter(FormatStrFormatter('%g'))\n",
    "    # plt.legend(loc=\"upper center\", fontsize=8)\n",
    "    # plt.savefig(f\"/home/ordabayev/repos/tapqir-overleaf/figures/figure5/height{name}.svg\")\n",
    "    plt.show()"
   ]
  },
  {
   "cell_type": "code",
   "execution_count": 27,
   "metadata": {},
   "outputs": [
    {
     "data": {
      "image/png": "[encoded data removed]",
      "text/plain": [
       "<Figure size 90x90 with 1 Axes>"
      ]
     },
     "metadata": {
      "needs_background": "light"
     },
     "output_type": "display_data"
    }
   ],
   "source": [
    "fig, ax = plt.subplots(figsize=(1.25, 1.25))\n",
    "ax.errorbar(truth_df[\"snr\"], fit_df[\"z_median\"],\n",
    "             yerr=abs(fit_df[[\"z_ll\", \"z_ul\"]].values.T-fit_df[\"z_median\"].values),\n",
    "             fmt=\"o-\", ms=3, color=\"k\", mfc=\"C2\", mec=\"C2\", ecolor=\"C2\", capsize=2)\n",
    "ax.set_xlim(0, 4)\n",
    "ax.set_ylim(0, 1.03)\n",
    "ax.set_xticks([0, 1, 2, 3, 4])\n",
    "ax.set_yticks([0, 0.5, 1])\n",
    "ax.tick_params(axis=\"x\", labelsize=8, top=True)\n",
    "ax.tick_params(axis=\"y\", labelsize=8, right=True)\n",
    "ax.set_xlabel(\"SNR\", fontsize=8)\n",
    "ax.set_ylabel(r\"$p(\\mathsf{specific})$\", fontsize=8)\n",
    "ax.yaxis.set_major_formatter(FormatStrFormatter('%g'))\n",
    "# plt.savefig(\"/home/ordabayev/repos/tapqir-overleaf/figures/figure5/height-pspecific.svg\")\n",
    "plt.show()"
   ]
  },
  {
   "cell_type": "code",
   "execution_count": 28,
   "metadata": {},
   "outputs": [
    {
     "data": {
      "image/png": "[encoded data removed]",
      "text/plain": [
       "<Figure size 90x90 with 1 Axes>"
      ]
     },
     "metadata": {
      "needs_background": "light"
     },
     "output_type": "display_data"
    }
   ],
   "source": [
    "fig, ax = plt.subplots(figsize=(1.25, 1.25))\n",
    "ax.plot(truth_df[\"snr\"], fit_df[\"Recall\"], \"o-\", color=\"k\", ms=3, label=\"Recall\")\n",
    "ax.plot(truth_df[\"snr\"], fit_df[\"Precision\"], \"o-\", color=\"C3\", ms=3, label=\"Precision\")\n",
    "ax.plot(truth_df[\"snr\"], fit_df[\"MCC\"], \"o-\", color=\"C0\", ms=3, label=\"MCC\")\n",
    "ax.set_xlim(0, 4)\n",
    "ax.set_ylim(0, 1.03)\n",
    "ax.set_xticks([0, 1, 2, 3, 4])\n",
    "ax.set_yticks([0, 0.5, 1])\n",
    "ax.tick_params(axis=\"x\", labelsize=8, top=True)\n",
    "ax.tick_params(axis=\"y\", labelsize=8, right=True)\n",
    "ax.set_xlabel(\"SNR\", fontsize=8)\n",
    "ax.set_ylabel(\"Accuracy\", fontsize=8)\n",
    "ax.yaxis.set_major_formatter(FormatStrFormatter('%g'))\n",
    "# plt.legend(fontsize=8)\n",
    "# plt.savefig(\"/home/ordabayev/repos/tapqir-overleaf/figures/figure5/height-accuracy.svg\")\n",
    "plt.show()"
   ]
  },
  {
   "cell_type": "code",
   "execution_count": 29,
   "metadata": {},
   "outputs": [
    {
     "data": {
      "image/png": "[encoded data removed]",
      "text/plain": [
       "<Figure size 432x216 with 8 Axes>"
      ]
     },
     "metadata": {},
     "output_type": "display_data"
    }
   ],
   "source": [
    "plt.figure(figsize=(6,3))\n",
    "for i, name in enumerate(truth_df.index):\n",
    "    plt.subplot(1, len(truth_df), i+1)\n",
    "    plt.xticks([], [])\n",
    "    plt.yticks([], [])\n",
    "    plt.title(f\"{truth_df.loc[name, 'snr']:.2f}\", fontsize=8)\n",
    "    model = Cosmos(1, 2)\n",
    "    model.load(EXAMLES_DIR / name, False, \"cpu\")\n",
    "    plt.imshow(model.data[0, 114].numpy(), vmin=190, vmax=380, cmap=\"gray\")\n",
    "# plt.savefig(\"/home/ordabayev/repos/tapqir-overleaf/figures/figure5/height-images.png\", dpi=600)\n",
    "plt.show()"
   ]
  },
  {
   "cell_type": "code",
   "execution_count": null,
   "metadata": {},
   "outputs": [],
   "source": []
  }
 ],
 "metadata": {
  "hide_input": false,
  "kernelspec": {
   "display_name": "Python 3",
   "language": "python",
   "name": "python3"
  },
  "language_info": {
   "codemirror_mode": {
    "name": "ipython",
    "version": 3
   },
   "file_extension": ".py",
   "mimetype": "text/x-python",
   "name": "python",
   "nbconvert_exporter": "python",
   "pygments_lexer": "ipython3",
   "version": "3.8.8"
  },
  "toc": {
   "base_numbering": 1,
   "nav_menu": {},
   "number_sections": true,
   "sideBar": true,
   "skip_h1_title": false,
   "title_cell": "Table of Contents",
   "title_sidebar": "Contents",
   "toc_cell": false,
   "toc_position": {},
   "toc_section_display": true,
   "toc_window_display": true
  }
 },
 "nbformat": 4,
 "nbformat_minor": 4
}
