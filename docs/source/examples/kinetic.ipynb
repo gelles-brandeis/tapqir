{
 "cells": [
  {
   "cell_type": "markdown",
   "metadata": {},
   "source": [
    "# Association/dissociation kinetics"
   ]
  },
  {
   "cell_type": "code",
   "execution_count": 1,
   "metadata": {},
   "outputs": [],
   "source": [
    "import numpy as np\n",
    "import pandas as pd\n",
    "from pyroapi import handlers, infer, pyro, pyro_backend\n",
    "from pyro import distributions as dist\n",
    "from pyro.ops.stats import pi\n",
    "import torch\n",
    "import matplotlib.pyplot as plt\n",
    "from collections import defaultdict\n",
    "from matplotlib.ticker import FormatStrFormatter\n",
    "from pathlib import Path\n",
    "\n",
    "from tapqir.models import Cosmos\n",
    "from tapqir.utils.imscroll import association_rate, dissociation_rate"
   ]
  },
  {
   "cell_type": "markdown",
   "metadata": {},
   "source": [
    "## Load results"
   ]
  },
  {
   "cell_type": "code",
   "execution_count": 2,
   "metadata": {},
   "outputs": [],
   "source": [
    "EXAMLES_DIR = Path.cwd().resolve().parent.parent.parent / \"examples\" / \"data\""
   ]
  },
  {
   "cell_type": "code",
   "execution_count": 3,
   "metadata": {},
   "outputs": [],
   "source": [
    "truth = {}\n",
    "fit = {}\n",
    "for data_path in EXAMLES_DIR.iterdir():\n",
    "    if data_path.is_dir() and data_path.name.startswith(\"kon\"):\n",
    "        # load simulated values\n",
    "        truth[data_path.name] = pd.read_csv(\n",
    "            data_path / \"simulated_params.csv\",\n",
    "            squeeze=True, index_col=0\n",
    "        ).rename(data_path.name)\n",
    "        \n",
    "        # load fitting results\n",
    "        param_path = data_path / \"runs/cosmos/v1.1.6/S1/control/lr0.005/bs32/\"\n",
    "        fit[data_path.name] = pd.read_csv(\n",
    "            param_path / \"statistics.csv\",\n",
    "            squeeze=True,\n",
    "            index_col=0\n",
    "        ).rename(data_path.name)\n",
    "        fit[data_path.name][\"kon\"] = truth[data_path.name][\"kon\"]\n",
    "        fit[data_path.name][\"lamda\"] = truth[data_path.name][\"lamda\"]\n",
    "        \n",
    "        # rate constants\n",
    "        model = Cosmos()\n",
    "        model.load(data_path, True)\n",
    "        model.load_parameters(param_path)\n",
    "        z_samples = (model.theta_samples > 0).long()\n",
    "        # kon distribtion (MLE fit)\n",
    "        kon_samples = association_rate(z_samples)\n",
    "        fit[data_path.name][\"kon_mean\"] = kon_samples.mean().item()\n",
    "        fit[data_path.name][\"kon_ll\"], fit[data_path.name][\"kon_ul\"] = pi(kon_samples, 0.95, dim=0)\n",
    "        # koff distribution (MLE fit)\n",
    "        koff_samples = dissociation_rate(z_samples)\n",
    "        fit[data_path.name][\"koff_mean\"] = koff_samples.mean().item()\n",
    "        fit[data_path.name][\"koff_ll\"], fit[data_path.name][\"koff_ul\"] = pi(koff_samples, 0.95, dim=0)"
   ]
  },
  {
   "cell_type": "code",
   "execution_count": 4,
   "metadata": {},
   "outputs": [
    {
     "data": {
      "text/html": [
       "<div>\n",
       "<style scoped>\n",
       "    .dataframe tbody tr th:only-of-type {\n",
       "        vertical-align: middle;\n",
       "    }\n",
       "\n",
       "    .dataframe tbody tr th {\n",
       "        vertical-align: top;\n",
       "    }\n",
       "\n",
       "    .dataframe thead th {\n",
       "        text-align: right;\n",
       "    }\n",
       "</style>\n",
       "<table border=\"1\" class=\"dataframe\">\n",
       "  <thead>\n",
       "    <tr style=\"text-align: right;\">\n",
       "      <th></th>\n",
       "      <th>width</th>\n",
       "      <th>gain</th>\n",
       "      <th>kon</th>\n",
       "      <th>koff</th>\n",
       "      <th>lamda</th>\n",
       "      <th>proximity</th>\n",
       "      <th>offset</th>\n",
       "      <th>height</th>\n",
       "      <th>background</th>\n",
       "      <th>snr</th>\n",
       "      <th>N</th>\n",
       "      <th>F</th>\n",
       "      <th>Nc</th>\n",
       "      <th>Fc</th>\n",
       "      <th>P</th>\n",
       "      <th>Keq</th>\n",
       "    </tr>\n",
       "  </thead>\n",
       "  <tbody>\n",
       "    <tr>\n",
       "      <th>kon0.01lamda0.01</th>\n",
       "      <td>1.4</td>\n",
       "      <td>7.0</td>\n",
       "      <td>0.01</td>\n",
       "      <td>0.2</td>\n",
       "      <td>0.01</td>\n",
       "      <td>0.2</td>\n",
       "      <td>90.0</td>\n",
       "      <td>3000.0</td>\n",
       "      <td>150.0</td>\n",
       "      <td>3.758899</td>\n",
       "      <td>100.0</td>\n",
       "      <td>1000.0</td>\n",
       "      <td>100.0</td>\n",
       "      <td>1000.0</td>\n",
       "      <td>14.0</td>\n",
       "      <td>0.05</td>\n",
       "    </tr>\n",
       "    <tr>\n",
       "      <th>kon0.01lamda0.15</th>\n",
       "      <td>1.4</td>\n",
       "      <td>7.0</td>\n",
       "      <td>0.01</td>\n",
       "      <td>0.2</td>\n",
       "      <td>0.15</td>\n",
       "      <td>0.2</td>\n",
       "      <td>90.0</td>\n",
       "      <td>3000.0</td>\n",
       "      <td>150.0</td>\n",
       "      <td>3.758899</td>\n",
       "      <td>100.0</td>\n",
       "      <td>1000.0</td>\n",
       "      <td>100.0</td>\n",
       "      <td>1000.0</td>\n",
       "      <td>14.0</td>\n",
       "      <td>0.05</td>\n",
       "    </tr>\n",
       "    <tr>\n",
       "      <th>kon0.01lamda0.5</th>\n",
       "      <td>1.4</td>\n",
       "      <td>7.0</td>\n",
       "      <td>0.01</td>\n",
       "      <td>0.2</td>\n",
       "      <td>0.50</td>\n",
       "      <td>0.2</td>\n",
       "      <td>90.0</td>\n",
       "      <td>3000.0</td>\n",
       "      <td>150.0</td>\n",
       "      <td>3.758899</td>\n",
       "      <td>100.0</td>\n",
       "      <td>1000.0</td>\n",
       "      <td>100.0</td>\n",
       "      <td>1000.0</td>\n",
       "      <td>14.0</td>\n",
       "      <td>0.05</td>\n",
       "    </tr>\n",
       "    <tr>\n",
       "      <th>kon0.01lamda1</th>\n",
       "      <td>1.4</td>\n",
       "      <td>7.0</td>\n",
       "      <td>0.01</td>\n",
       "      <td>0.2</td>\n",
       "      <td>1.00</td>\n",
       "      <td>0.2</td>\n",
       "      <td>90.0</td>\n",
       "      <td>3000.0</td>\n",
       "      <td>150.0</td>\n",
       "      <td>3.758899</td>\n",
       "      <td>100.0</td>\n",
       "      <td>1000.0</td>\n",
       "      <td>100.0</td>\n",
       "      <td>1000.0</td>\n",
       "      <td>14.0</td>\n",
       "      <td>0.05</td>\n",
       "    </tr>\n",
       "    <tr>\n",
       "      <th>kon0.02lamda0.01</th>\n",
       "      <td>1.4</td>\n",
       "      <td>7.0</td>\n",
       "      <td>0.02</td>\n",
       "      <td>0.2</td>\n",
       "      <td>0.01</td>\n",
       "      <td>0.2</td>\n",
       "      <td>90.0</td>\n",
       "      <td>3000.0</td>\n",
       "      <td>150.0</td>\n",
       "      <td>3.758899</td>\n",
       "      <td>100.0</td>\n",
       "      <td>1000.0</td>\n",
       "      <td>100.0</td>\n",
       "      <td>1000.0</td>\n",
       "      <td>14.0</td>\n",
       "      <td>0.10</td>\n",
       "    </tr>\n",
       "    <tr>\n",
       "      <th>kon0.02lamda0.15</th>\n",
       "      <td>1.4</td>\n",
       "      <td>7.0</td>\n",
       "      <td>0.02</td>\n",
       "      <td>0.2</td>\n",
       "      <td>0.15</td>\n",
       "      <td>0.2</td>\n",
       "      <td>90.0</td>\n",
       "      <td>3000.0</td>\n",
       "      <td>150.0</td>\n",
       "      <td>3.758899</td>\n",
       "      <td>100.0</td>\n",
       "      <td>1000.0</td>\n",
       "      <td>100.0</td>\n",
       "      <td>1000.0</td>\n",
       "      <td>14.0</td>\n",
       "      <td>0.10</td>\n",
       "    </tr>\n",
       "    <tr>\n",
       "      <th>kon0.02lamda0.5</th>\n",
       "      <td>1.4</td>\n",
       "      <td>7.0</td>\n",
       "      <td>0.02</td>\n",
       "      <td>0.2</td>\n",
       "      <td>0.50</td>\n",
       "      <td>0.2</td>\n",
       "      <td>90.0</td>\n",
       "      <td>3000.0</td>\n",
       "      <td>150.0</td>\n",
       "      <td>3.758899</td>\n",
       "      <td>100.0</td>\n",
       "      <td>1000.0</td>\n",
       "      <td>100.0</td>\n",
       "      <td>1000.0</td>\n",
       "      <td>14.0</td>\n",
       "      <td>0.10</td>\n",
       "    </tr>\n",
       "    <tr>\n",
       "      <th>kon0.02lamda1</th>\n",
       "      <td>1.4</td>\n",
       "      <td>7.0</td>\n",
       "      <td>0.02</td>\n",
       "      <td>0.2</td>\n",
       "      <td>1.00</td>\n",
       "      <td>0.2</td>\n",
       "      <td>90.0</td>\n",
       "      <td>3000.0</td>\n",
       "      <td>150.0</td>\n",
       "      <td>3.758899</td>\n",
       "      <td>100.0</td>\n",
       "      <td>1000.0</td>\n",
       "      <td>100.0</td>\n",
       "      <td>1000.0</td>\n",
       "      <td>14.0</td>\n",
       "      <td>0.10</td>\n",
       "    </tr>\n",
       "    <tr>\n",
       "      <th>kon0.03lamda0.01</th>\n",
       "      <td>1.4</td>\n",
       "      <td>7.0</td>\n",
       "      <td>0.03</td>\n",
       "      <td>0.2</td>\n",
       "      <td>0.01</td>\n",
       "      <td>0.2</td>\n",
       "      <td>90.0</td>\n",
       "      <td>3000.0</td>\n",
       "      <td>150.0</td>\n",
       "      <td>3.758899</td>\n",
       "      <td>100.0</td>\n",
       "      <td>1000.0</td>\n",
       "      <td>100.0</td>\n",
       "      <td>1000.0</td>\n",
       "      <td>14.0</td>\n",
       "      <td>0.15</td>\n",
       "    </tr>\n",
       "    <tr>\n",
       "      <th>kon0.03lamda0.15</th>\n",
       "      <td>1.4</td>\n",
       "      <td>7.0</td>\n",
       "      <td>0.03</td>\n",
       "      <td>0.2</td>\n",
       "      <td>0.15</td>\n",
       "      <td>0.2</td>\n",
       "      <td>90.0</td>\n",
       "      <td>3000.0</td>\n",
       "      <td>150.0</td>\n",
       "      <td>3.758899</td>\n",
       "      <td>100.0</td>\n",
       "      <td>1000.0</td>\n",
       "      <td>100.0</td>\n",
       "      <td>1000.0</td>\n",
       "      <td>14.0</td>\n",
       "      <td>0.15</td>\n",
       "    </tr>\n",
       "    <tr>\n",
       "      <th>kon0.03lamda0.5</th>\n",
       "      <td>1.4</td>\n",
       "      <td>7.0</td>\n",
       "      <td>0.03</td>\n",
       "      <td>0.2</td>\n",
       "      <td>0.50</td>\n",
       "      <td>0.2</td>\n",
       "      <td>90.0</td>\n",
       "      <td>3000.0</td>\n",
       "      <td>150.0</td>\n",
       "      <td>3.758899</td>\n",
       "      <td>100.0</td>\n",
       "      <td>1000.0</td>\n",
       "      <td>100.0</td>\n",
       "      <td>1000.0</td>\n",
       "      <td>14.0</td>\n",
       "      <td>0.15</td>\n",
       "    </tr>\n",
       "    <tr>\n",
       "      <th>kon0.03lamda1</th>\n",
       "      <td>1.4</td>\n",
       "      <td>7.0</td>\n",
       "      <td>0.03</td>\n",
       "      <td>0.2</td>\n",
       "      <td>1.00</td>\n",
       "      <td>0.2</td>\n",
       "      <td>90.0</td>\n",
       "      <td>3000.0</td>\n",
       "      <td>150.0</td>\n",
       "      <td>3.758899</td>\n",
       "      <td>100.0</td>\n",
       "      <td>1000.0</td>\n",
       "      <td>100.0</td>\n",
       "      <td>1000.0</td>\n",
       "      <td>14.0</td>\n",
       "      <td>0.15</td>\n",
       "    </tr>\n",
       "  </tbody>\n",
       "</table>\n",
       "</div>"
      ],
      "text/plain": [
       "                  width  gain   kon  koff  lamda  proximity  offset  height  \\\n",
       "kon0.01lamda0.01    1.4   7.0  0.01   0.2   0.01        0.2    90.0  3000.0   \n",
       "kon0.01lamda0.15    1.4   7.0  0.01   0.2   0.15        0.2    90.0  3000.0   \n",
       "kon0.01lamda0.5     1.4   7.0  0.01   0.2   0.50        0.2    90.0  3000.0   \n",
       "kon0.01lamda1       1.4   7.0  0.01   0.2   1.00        0.2    90.0  3000.0   \n",
       "kon0.02lamda0.01    1.4   7.0  0.02   0.2   0.01        0.2    90.0  3000.0   \n",
       "kon0.02lamda0.15    1.4   7.0  0.02   0.2   0.15        0.2    90.0  3000.0   \n",
       "kon0.02lamda0.5     1.4   7.0  0.02   0.2   0.50        0.2    90.0  3000.0   \n",
       "kon0.02lamda1       1.4   7.0  0.02   0.2   1.00        0.2    90.0  3000.0   \n",
       "kon0.03lamda0.01    1.4   7.0  0.03   0.2   0.01        0.2    90.0  3000.0   \n",
       "kon0.03lamda0.15    1.4   7.0  0.03   0.2   0.15        0.2    90.0  3000.0   \n",
       "kon0.03lamda0.5     1.4   7.0  0.03   0.2   0.50        0.2    90.0  3000.0   \n",
       "kon0.03lamda1       1.4   7.0  0.03   0.2   1.00        0.2    90.0  3000.0   \n",
       "\n",
       "                  background       snr      N       F     Nc      Fc     P  \\\n",
       "kon0.01lamda0.01       150.0  3.758899  100.0  1000.0  100.0  1000.0  14.0   \n",
       "kon0.01lamda0.15       150.0  3.758899  100.0  1000.0  100.0  1000.0  14.0   \n",
       "kon0.01lamda0.5        150.0  3.758899  100.0  1000.0  100.0  1000.0  14.0   \n",
       "kon0.01lamda1          150.0  3.758899  100.0  1000.0  100.0  1000.0  14.0   \n",
       "kon0.02lamda0.01       150.0  3.758899  100.0  1000.0  100.0  1000.0  14.0   \n",
       "kon0.02lamda0.15       150.0  3.758899  100.0  1000.0  100.0  1000.0  14.0   \n",
       "kon0.02lamda0.5        150.0  3.758899  100.0  1000.0  100.0  1000.0  14.0   \n",
       "kon0.02lamda1          150.0  3.758899  100.0  1000.0  100.0  1000.0  14.0   \n",
       "kon0.03lamda0.01       150.0  3.758899  100.0  1000.0  100.0  1000.0  14.0   \n",
       "kon0.03lamda0.15       150.0  3.758899  100.0  1000.0  100.0  1000.0  14.0   \n",
       "kon0.03lamda0.5        150.0  3.758899  100.0  1000.0  100.0  1000.0  14.0   \n",
       "kon0.03lamda1          150.0  3.758899  100.0  1000.0  100.0  1000.0  14.0   \n",
       "\n",
       "                   Keq  \n",
       "kon0.01lamda0.01  0.05  \n",
       "kon0.01lamda0.15  0.05  \n",
       "kon0.01lamda0.5   0.05  \n",
       "kon0.01lamda1     0.05  \n",
       "kon0.02lamda0.01  0.10  \n",
       "kon0.02lamda0.15  0.10  \n",
       "kon0.02lamda0.5   0.10  \n",
       "kon0.02lamda1     0.10  \n",
       "kon0.03lamda0.01  0.15  \n",
       "kon0.03lamda0.15  0.15  \n",
       "kon0.03lamda0.5   0.15  \n",
       "kon0.03lamda1     0.15  "
      ]
     },
     "execution_count": 4,
     "metadata": {},
     "output_type": "execute_result"
    }
   ],
   "source": [
    "truth_df = pd.concat(truth.values(), axis=1).T.astype(float)\n",
    "truth_df[\"Keq\"] = truth_df[\"kon\"] / truth_df[\"koff\"]\n",
    "truth_df = truth_df.sort_values(by=[\"kon\", \"lamda\"])\n",
    "truth_df"
   ]
  },
  {
   "cell_type": "code",
   "execution_count": 5,
   "metadata": {},
   "outputs": [
    {
     "data": {
      "text/plain": [
       "kon0.01lamda0.01    True\n",
       "kon0.01lamda0.15    True\n",
       "kon0.01lamda0.5     True\n",
       "kon0.01lamda1       True\n",
       "kon0.02lamda0.01    True\n",
       "kon0.02lamda0.15    True\n",
       "kon0.02lamda0.5     True\n",
       "kon0.02lamda1       True\n",
       "kon0.03lamda0.01    True\n",
       "kon0.03lamda0.15    True\n",
       "kon0.03lamda0.5     True\n",
       "kon0.03lamda1       True\n",
       "Name: converged, dtype: object"
      ]
     },
     "execution_count": 5,
     "metadata": {},
     "output_type": "execute_result"
    }
   ],
   "source": [
    "fit_df = pd.concat(fit.values(), axis=1).T.sort_values(by=[\"kon\", \"lamda\"])\n",
    "fit_df[\"converged\"]"
   ]
  },
  {
   "cell_type": "code",
   "execution_count": 6,
   "metadata": {},
   "outputs": [
    {
     "data": {
      "text/html": [
       "<div>\n",
       "<style scoped>\n",
       "    .dataframe tbody tr th:only-of-type {\n",
       "        vertical-align: middle;\n",
       "    }\n",
       "\n",
       "    .dataframe tbody tr th {\n",
       "        vertical-align: top;\n",
       "    }\n",
       "\n",
       "    .dataframe thead th {\n",
       "        text-align: right;\n",
       "    }\n",
       "</style>\n",
       "<table border=\"1\" class=\"dataframe\">\n",
       "  <thead>\n",
       "    <tr style=\"text-align: right;\">\n",
       "      <th></th>\n",
       "      <th>snr</th>\n",
       "      <th>gain_mean</th>\n",
       "      <th>gain_ll</th>\n",
       "      <th>gain_ul</th>\n",
       "      <th>pi_mean</th>\n",
       "      <th>pi_ll</th>\n",
       "      <th>pi_ul</th>\n",
       "      <th>lamda_mean</th>\n",
       "      <th>lamda_ll</th>\n",
       "      <th>lamda_ul</th>\n",
       "      <th>...</th>\n",
       "      <th>p(specific)_ll</th>\n",
       "      <th>p(specific)_ul</th>\n",
       "      <th>kon</th>\n",
       "      <th>lamda</th>\n",
       "      <th>kon_mean</th>\n",
       "      <th>kon_ll</th>\n",
       "      <th>kon_ul</th>\n",
       "      <th>koff_mean</th>\n",
       "      <th>koff_ll</th>\n",
       "      <th>koff_ul</th>\n",
       "    </tr>\n",
       "  </thead>\n",
       "  <tbody>\n",
       "    <tr>\n",
       "      <th>kon0.01lamda0.01</th>\n",
       "      <td>3.761326</td>\n",
       "      <td>7.016907</td>\n",
       "      <td>7.013943</td>\n",
       "      <td>7.019773</td>\n",
       "      <td>0.045444</td>\n",
       "      <td>0.043977</td>\n",
       "      <td>0.046995</td>\n",
       "      <td>0.010038</td>\n",
       "      <td>0.009533</td>\n",
       "      <td>0.010493</td>\n",
       "      <td>...</td>\n",
       "      <td>0.99700</td>\n",
       "      <td>1.000</td>\n",
       "      <td>0.01</td>\n",
       "      <td>0.01</td>\n",
       "      <td>0.010447</td>\n",
       "      <td>0.010288</td>\n",
       "      <td>0.010606</td>\n",
       "      <td>0.219238</td>\n",
       "      <td>0.216483</td>\n",
       "      <td>0.221955</td>\n",
       "    </tr>\n",
       "    <tr>\n",
       "      <th>kon0.01lamda0.15</th>\n",
       "      <td>3.778336</td>\n",
       "      <td>7.039374</td>\n",
       "      <td>7.036456</td>\n",
       "      <td>7.042323</td>\n",
       "      <td>0.045004</td>\n",
       "      <td>0.043391</td>\n",
       "      <td>0.046806</td>\n",
       "      <td>0.151202</td>\n",
       "      <td>0.149604</td>\n",
       "      <td>0.152805</td>\n",
       "      <td>...</td>\n",
       "      <td>0.96400</td>\n",
       "      <td>0.994</td>\n",
       "      <td>0.01</td>\n",
       "      <td>0.15</td>\n",
       "      <td>0.012544</td>\n",
       "      <td>0.012300</td>\n",
       "      <td>0.012775</td>\n",
       "      <td>0.267763</td>\n",
       "      <td>0.262404</td>\n",
       "      <td>0.272953</td>\n",
       "    </tr>\n",
       "    <tr>\n",
       "      <th>kon0.01lamda0.5</th>\n",
       "      <td>3.811583</td>\n",
       "      <td>7.037618</td>\n",
       "      <td>7.034414</td>\n",
       "      <td>7.040583</td>\n",
       "      <td>0.044546</td>\n",
       "      <td>0.043325</td>\n",
       "      <td>0.045802</td>\n",
       "      <td>0.495349</td>\n",
       "      <td>0.492558</td>\n",
       "      <td>0.498317</td>\n",
       "      <td>...</td>\n",
       "      <td>0.86400</td>\n",
       "      <td>0.980</td>\n",
       "      <td>0.01</td>\n",
       "      <td>0.50</td>\n",
       "      <td>0.016058</td>\n",
       "      <td>0.015752</td>\n",
       "      <td>0.016354</td>\n",
       "      <td>0.356137</td>\n",
       "      <td>0.348516</td>\n",
       "      <td>0.363236</td>\n",
       "    </tr>\n",
       "    <tr>\n",
       "      <th>kon0.01lamda1</th>\n",
       "      <td>3.858114</td>\n",
       "      <td>7.072536</td>\n",
       "      <td>7.069291</td>\n",
       "      <td>7.075689</td>\n",
       "      <td>0.041208</td>\n",
       "      <td>0.039802</td>\n",
       "      <td>0.042585</td>\n",
       "      <td>0.969468</td>\n",
       "      <td>0.965150</td>\n",
       "      <td>0.973634</td>\n",
       "      <td>...</td>\n",
       "      <td>0.70136</td>\n",
       "      <td>0.965</td>\n",
       "      <td>0.01</td>\n",
       "      <td>1.00</td>\n",
       "      <td>0.018878</td>\n",
       "      <td>0.018511</td>\n",
       "      <td>0.019221</td>\n",
       "      <td>0.436238</td>\n",
       "      <td>0.427146</td>\n",
       "      <td>0.445274</td>\n",
       "    </tr>\n",
       "    <tr>\n",
       "      <th>kon0.02lamda0.01</th>\n",
       "      <td>3.757183</td>\n",
       "      <td>7.021191</td>\n",
       "      <td>7.017925</td>\n",
       "      <td>7.024334</td>\n",
       "      <td>0.086190</td>\n",
       "      <td>0.084559</td>\n",
       "      <td>0.087994</td>\n",
       "      <td>0.010070</td>\n",
       "      <td>0.009633</td>\n",
       "      <td>0.010535</td>\n",
       "      <td>...</td>\n",
       "      <td>0.99800</td>\n",
       "      <td>1.000</td>\n",
       "      <td>0.02</td>\n",
       "      <td>0.01</td>\n",
       "      <td>0.020620</td>\n",
       "      <td>0.020388</td>\n",
       "      <td>0.020858</td>\n",
       "      <td>0.217971</td>\n",
       "      <td>0.216015</td>\n",
       "      <td>0.219904</td>\n",
       "    </tr>\n",
       "    <tr>\n",
       "      <th>kon0.02lamda0.15</th>\n",
       "      <td>3.781136</td>\n",
       "      <td>7.031673</td>\n",
       "      <td>7.028571</td>\n",
       "      <td>7.035212</td>\n",
       "      <td>0.085201</td>\n",
       "      <td>0.083095</td>\n",
       "      <td>0.087020</td>\n",
       "      <td>0.151003</td>\n",
       "      <td>0.149228</td>\n",
       "      <td>0.152705</td>\n",
       "      <td>...</td>\n",
       "      <td>0.98100</td>\n",
       "      <td>0.997</td>\n",
       "      <td>0.02</td>\n",
       "      <td>0.15</td>\n",
       "      <td>0.023340</td>\n",
       "      <td>0.023053</td>\n",
       "      <td>0.023619</td>\n",
       "      <td>0.251042</td>\n",
       "      <td>0.248004</td>\n",
       "      <td>0.254047</td>\n",
       "    </tr>\n",
       "    <tr>\n",
       "      <th>kon0.02lamda0.5</th>\n",
       "      <td>3.818364</td>\n",
       "      <td>7.053596</td>\n",
       "      <td>7.050346</td>\n",
       "      <td>7.056524</td>\n",
       "      <td>0.083691</td>\n",
       "      <td>0.082134</td>\n",
       "      <td>0.085265</td>\n",
       "      <td>0.496101</td>\n",
       "      <td>0.493366</td>\n",
       "      <td>0.498859</td>\n",
       "      <td>...</td>\n",
       "      <td>0.92760</td>\n",
       "      <td>0.990</td>\n",
       "      <td>0.02</td>\n",
       "      <td>0.50</td>\n",
       "      <td>0.028045</td>\n",
       "      <td>0.027690</td>\n",
       "      <td>0.028410</td>\n",
       "      <td>0.313915</td>\n",
       "      <td>0.309631</td>\n",
       "      <td>0.318539</td>\n",
       "    </tr>\n",
       "    <tr>\n",
       "      <th>kon0.02lamda1</th>\n",
       "      <td>3.859950</td>\n",
       "      <td>7.082096</td>\n",
       "      <td>7.078966</td>\n",
       "      <td>7.085494</td>\n",
       "      <td>0.079563</td>\n",
       "      <td>0.077990</td>\n",
       "      <td>0.081075</td>\n",
       "      <td>0.964220</td>\n",
       "      <td>0.960266</td>\n",
       "      <td>0.968455</td>\n",
       "      <td>...</td>\n",
       "      <td>0.82800</td>\n",
       "      <td>0.982</td>\n",
       "      <td>0.02</td>\n",
       "      <td>1.00</td>\n",
       "      <td>0.032139</td>\n",
       "      <td>0.031722</td>\n",
       "      <td>0.032556</td>\n",
       "      <td>0.374533</td>\n",
       "      <td>0.369233</td>\n",
       "      <td>0.379734</td>\n",
       "    </tr>\n",
       "    <tr>\n",
       "      <th>kon0.03lamda0.01</th>\n",
       "      <td>3.755211</td>\n",
       "      <td>7.015100</td>\n",
       "      <td>7.012075</td>\n",
       "      <td>7.018276</td>\n",
       "      <td>0.128722</td>\n",
       "      <td>0.126669</td>\n",
       "      <td>0.130850</td>\n",
       "      <td>0.010295</td>\n",
       "      <td>0.009749</td>\n",
       "      <td>0.010786</td>\n",
       "      <td>...</td>\n",
       "      <td>0.99900</td>\n",
       "      <td>1.000</td>\n",
       "      <td>0.03</td>\n",
       "      <td>0.01</td>\n",
       "      <td>0.031711</td>\n",
       "      <td>0.031413</td>\n",
       "      <td>0.032026</td>\n",
       "      <td>0.213017</td>\n",
       "      <td>0.211462</td>\n",
       "      <td>0.214661</td>\n",
       "    </tr>\n",
       "    <tr>\n",
       "      <th>kon0.03lamda0.15</th>\n",
       "      <td>3.779948</td>\n",
       "      <td>7.040715</td>\n",
       "      <td>7.037868</td>\n",
       "      <td>7.043923</td>\n",
       "      <td>0.127198</td>\n",
       "      <td>0.124702</td>\n",
       "      <td>0.129677</td>\n",
       "      <td>0.150728</td>\n",
       "      <td>0.149189</td>\n",
       "      <td>0.152320</td>\n",
       "      <td>...</td>\n",
       "      <td>0.98700</td>\n",
       "      <td>0.999</td>\n",
       "      <td>0.03</td>\n",
       "      <td>0.15</td>\n",
       "      <td>0.034814</td>\n",
       "      <td>0.034462</td>\n",
       "      <td>0.035169</td>\n",
       "      <td>0.237888</td>\n",
       "      <td>0.235681</td>\n",
       "      <td>0.240227</td>\n",
       "    </tr>\n",
       "    <tr>\n",
       "      <th>kon0.03lamda0.5</th>\n",
       "      <td>3.825522</td>\n",
       "      <td>7.055025</td>\n",
       "      <td>7.051739</td>\n",
       "      <td>7.057943</td>\n",
       "      <td>0.124502</td>\n",
       "      <td>0.122556</td>\n",
       "      <td>0.126486</td>\n",
       "      <td>0.495536</td>\n",
       "      <td>0.492366</td>\n",
       "      <td>0.498579</td>\n",
       "      <td>...</td>\n",
       "      <td>0.95400</td>\n",
       "      <td>0.994</td>\n",
       "      <td>0.03</td>\n",
       "      <td>0.50</td>\n",
       "      <td>0.040623</td>\n",
       "      <td>0.040211</td>\n",
       "      <td>0.041032</td>\n",
       "      <td>0.288465</td>\n",
       "      <td>0.285447</td>\n",
       "      <td>0.291508</td>\n",
       "    </tr>\n",
       "    <tr>\n",
       "      <th>kon0.03lamda1</th>\n",
       "      <td>3.866790</td>\n",
       "      <td>7.086116</td>\n",
       "      <td>7.083290</td>\n",
       "      <td>7.089543</td>\n",
       "      <td>0.117630</td>\n",
       "      <td>0.115626</td>\n",
       "      <td>0.119586</td>\n",
       "      <td>0.967930</td>\n",
       "      <td>0.964031</td>\n",
       "      <td>0.971711</td>\n",
       "      <td>...</td>\n",
       "      <td>0.88500</td>\n",
       "      <td>0.988</td>\n",
       "      <td>0.03</td>\n",
       "      <td>1.00</td>\n",
       "      <td>0.045737</td>\n",
       "      <td>0.045261</td>\n",
       "      <td>0.046190</td>\n",
       "      <td>0.339516</td>\n",
       "      <td>0.335490</td>\n",
       "      <td>0.343483</td>\n",
       "    </tr>\n",
       "  </tbody>\n",
       "</table>\n",
       "<p>12 rows × 34 columns</p>\n",
       "</div>"
      ],
      "text/plain": [
       "                       snr  gain_mean   gain_ll   gain_ul   pi_mean     pi_ll  \\\n",
       "kon0.01lamda0.01  3.761326   7.016907  7.013943  7.019773  0.045444  0.043977   \n",
       "kon0.01lamda0.15  3.778336   7.039374  7.036456  7.042323  0.045004  0.043391   \n",
       "kon0.01lamda0.5   3.811583   7.037618  7.034414  7.040583  0.044546  0.043325   \n",
       "kon0.01lamda1     3.858114   7.072536  7.069291  7.075689  0.041208  0.039802   \n",
       "kon0.02lamda0.01  3.757183   7.021191  7.017925  7.024334  0.086190  0.084559   \n",
       "kon0.02lamda0.15  3.781136   7.031673  7.028571  7.035212  0.085201  0.083095   \n",
       "kon0.02lamda0.5   3.818364   7.053596  7.050346  7.056524  0.083691  0.082134   \n",
       "kon0.02lamda1     3.859950   7.082096  7.078966  7.085494  0.079563  0.077990   \n",
       "kon0.03lamda0.01  3.755211   7.015100  7.012075  7.018276  0.128722  0.126669   \n",
       "kon0.03lamda0.15  3.779948   7.040715  7.037868  7.043923  0.127198  0.124702   \n",
       "kon0.03lamda0.5   3.825522   7.055025  7.051739  7.057943  0.124502  0.122556   \n",
       "kon0.03lamda1     3.866790   7.086116  7.083290  7.089543  0.117630  0.115626   \n",
       "\n",
       "                     pi_ul  lamda_mean  lamda_ll  lamda_ul  ...  \\\n",
       "kon0.01lamda0.01  0.046995    0.010038  0.009533  0.010493  ...   \n",
       "kon0.01lamda0.15  0.046806    0.151202  0.149604  0.152805  ...   \n",
       "kon0.01lamda0.5   0.045802    0.495349  0.492558  0.498317  ...   \n",
       "kon0.01lamda1     0.042585    0.969468  0.965150  0.973634  ...   \n",
       "kon0.02lamda0.01  0.087994    0.010070  0.009633  0.010535  ...   \n",
       "kon0.02lamda0.15  0.087020    0.151003  0.149228  0.152705  ...   \n",
       "kon0.02lamda0.5   0.085265    0.496101  0.493366  0.498859  ...   \n",
       "kon0.02lamda1     0.081075    0.964220  0.960266  0.968455  ...   \n",
       "kon0.03lamda0.01  0.130850    0.010295  0.009749  0.010786  ...   \n",
       "kon0.03lamda0.15  0.129677    0.150728  0.149189  0.152320  ...   \n",
       "kon0.03lamda0.5   0.126486    0.495536  0.492366  0.498579  ...   \n",
       "kon0.03lamda1     0.119586    0.967930  0.964031  0.971711  ...   \n",
       "\n",
       "                  p(specific)_ll  p(specific)_ul   kon  lamda  kon_mean  \\\n",
       "kon0.01lamda0.01         0.99700           1.000  0.01   0.01  0.010447   \n",
       "kon0.01lamda0.15         0.96400           0.994  0.01   0.15  0.012544   \n",
       "kon0.01lamda0.5          0.86400           0.980  0.01   0.50  0.016058   \n",
       "kon0.01lamda1            0.70136           0.965  0.01   1.00  0.018878   \n",
       "kon0.02lamda0.01         0.99800           1.000  0.02   0.01  0.020620   \n",
       "kon0.02lamda0.15         0.98100           0.997  0.02   0.15  0.023340   \n",
       "kon0.02lamda0.5          0.92760           0.990  0.02   0.50  0.028045   \n",
       "kon0.02lamda1            0.82800           0.982  0.02   1.00  0.032139   \n",
       "kon0.03lamda0.01         0.99900           1.000  0.03   0.01  0.031711   \n",
       "kon0.03lamda0.15         0.98700           0.999  0.03   0.15  0.034814   \n",
       "kon0.03lamda0.5          0.95400           0.994  0.03   0.50  0.040623   \n",
       "kon0.03lamda1            0.88500           0.988  0.03   1.00  0.045737   \n",
       "\n",
       "                    kon_ll    kon_ul  koff_mean   koff_ll   koff_ul  \n",
       "kon0.01lamda0.01  0.010288  0.010606   0.219238  0.216483  0.221955  \n",
       "kon0.01lamda0.15  0.012300  0.012775   0.267763  0.262404  0.272953  \n",
       "kon0.01lamda0.5   0.015752  0.016354   0.356137  0.348516  0.363236  \n",
       "kon0.01lamda1     0.018511  0.019221   0.436238  0.427146  0.445274  \n",
       "kon0.02lamda0.01  0.020388  0.020858   0.217971  0.216015  0.219904  \n",
       "kon0.02lamda0.15  0.023053  0.023619   0.251042  0.248004  0.254047  \n",
       "kon0.02lamda0.5   0.027690  0.028410   0.313915  0.309631  0.318539  \n",
       "kon0.02lamda1     0.031722  0.032556   0.374533  0.369233  0.379734  \n",
       "kon0.03lamda0.01  0.031413  0.032026   0.213017  0.211462  0.214661  \n",
       "kon0.03lamda0.15  0.034462  0.035169   0.237888  0.235681  0.240227  \n",
       "kon0.03lamda0.5   0.040211  0.041032   0.288465  0.285447  0.291508  \n",
       "kon0.03lamda1     0.045261  0.046190   0.339516  0.335490  0.343483  \n",
       "\n",
       "[12 rows x 34 columns]"
      ]
     },
     "execution_count": 6,
     "metadata": {},
     "output_type": "execute_result"
    }
   ],
   "source": [
    "fit_df = fit_df.drop(columns=[\"converged\"]).astype(float)\n",
    "fit_df"
   ]
  },
  {
   "cell_type": "code",
   "execution_count": 7,
   "metadata": {},
   "outputs": [
    {
     "data": {
      "text/plain": [
       "N                                       Number of on-target AOIs\n",
       "F                            Number of frames for on-target AOIs\n",
       "Nc                             Number of control off-target AOIs\n",
       "Fc                          Number of frames for off-target AOIs\n",
       "P                 Number of pixels along x- and y-axes of an AOI\n",
       "height                                            Spot intensity\n",
       "width                                                 Spot width\n",
       "snr                                        Signal-to-noise ratio\n",
       "background                                      Image background\n",
       "pi                   Average target-specific binding probability\n",
       "lamda                                  Non-specific binding rate\n",
       "proximity                                    Proximity parameter\n",
       "p(specific)    Probability of there being any target-specific...\n",
       "_ul                                           95% CI upper-limit\n",
       "_ll                                           95% CI lower-limit\n",
       "MCC                             Matthews correlation coefficient\n",
       "TP                                                True positives\n",
       "FN                                               False negatives\n",
       "TN                                                True negatives\n",
       "FP                                               False positives\n",
       "Name: Description, dtype: object"
      ]
     },
     "execution_count": 7,
     "metadata": {},
     "output_type": "execute_result"
    }
   ],
   "source": [
    "description = pd.Series(dtype=str, name=\"Description\")\n",
    "description[\"N\"] = \"Number of on-target AOIs\"\n",
    "description[\"F\"] = \"Number of frames for on-target AOIs\"\n",
    "description[\"Nc\"] = \"Number of control off-target AOIs\"\n",
    "description[\"Fc\"] = \"Number of frames for off-target AOIs\"\n",
    "description[\"P\"] = \"Number of pixels along x- and y-axes of an AOI\"\n",
    "description[\"height\"] = \"Spot intensity\"\n",
    "description[\"width\"] = \"Spot width\"\n",
    "description[\"snr\"] = \"Signal-to-noise ratio\"\n",
    "description[\"background\"] = \"Image background\"\n",
    "description[\"pi\"] = \"Average target-specific binding probability\"\n",
    "description[\"lamda\"] = \"Non-specific binding rate\"\n",
    "description[\"proximity\"] = \"Proximity parameter\"\n",
    "description[\"p(specific)\"] = \"Probability of there being any target-specific spot in an AOI image\"\n",
    "description[\"_ul\"] = \"95% CI upper-limit\"\n",
    "description[\"_ll\"] = \"95% CI lower-limit\"\n",
    "description[\"MCC\"] = \"Matthews correlation coefficient\"\n",
    "description[\"TP\"] = \"True positives\"\n",
    "description[\"FN\"] = \"False negatives\"\n",
    "description[\"TN\"] = \"True negatives\"\n",
    "description[\"FP\"] = \"False positives\"\n",
    "description"
   ]
  },
  {
   "cell_type": "markdown",
   "metadata": {},
   "source": [
    "## Supplementary Data 5"
   ]
  },
  {
   "cell_type": "code",
   "execution_count": 8,
   "metadata": {},
   "outputs": [],
   "source": [
    "with pd.ExcelWriter(\"/home/ordabayev/repos/tapqir-overleaf/supplementary/data5/kinetic.xlsx\") as writer:\n",
    "    truth_df.to_excel(writer, sheet_name=\"simulation\")\n",
    "    fit_df.to_excel(writer, sheet_name=\"fit\")\n",
    "    description.to_excel(writer, sheet_name=\"description\")"
   ]
  },
  {
   "cell_type": "markdown",
   "metadata": {},
   "source": [
    "## Figure 6"
   ]
  },
  {
   "cell_type": "markdown",
   "metadata": {},
   "source": [
    "### Keq"
   ]
  },
  {
   "cell_type": "code",
   "execution_count": 8,
   "metadata": {},
   "outputs": [
    {
     "data": {
      "image/png": "[encoded data removed]",
      "text/plain": [
       "<Figure size 86.4x86.4 with 1 Axes>"
      ]
     },
     "metadata": {
      "needs_background": "light"
     },
     "output_type": "display_data"
    }
   ],
   "source": [
    "fig, ax = plt.subplots(figsize=(1.2, 1.2))\n",
    "mask = (truth_df[\"kon\"] == 0.01)\n",
    "plt.scatter(truth_df.loc[mask, \"lamda\"], truth_df.loc[mask, \"Keq\"], marker=\"x\")\n",
    "plt.errorbar(truth_df.loc[mask, \"lamda\"], fit_df.loc[mask, \"Keq_mean\"],\n",
    "             yerr=abs(fit_df.loc[mask, [\"Keq_ll\", \"Keq_ul\"]].values.T-fit_df.loc[mask, \"Keq_mean\"].values),\n",
    "             fmt=\"o\", ms=3, mfc=\"k\", mec=\"k\", ecolor=\"k\", capsize=2)\n",
    "ax.set_ylim(0, 0.2)\n",
    "ax.set_xlim(-0.05, 1.05)\n",
    "ax.set_xticks([0, 0.5, 1])\n",
    "ax.tick_params(axis=\"both\", labelsize=8)\n",
    "plt.ylabel(r\"$K_{eq}$\", fontsize=8)\n",
    "ax.xaxis.set_major_formatter(FormatStrFormatter('%g'))\n",
    "ax.yaxis.set_major_formatter(FormatStrFormatter('%g'))\n",
    "# plt.savefig(\"/home/ordabayev/repos/tapqir-overleaf/figures/figure6/keq1.svg\")\n",
    "plt.show()"
   ]
  },
  {
   "cell_type": "code",
   "execution_count": 9,
   "metadata": {},
   "outputs": [
    {
     "data": {
      "image/png": "[encoded data removed]",
      "text/plain": [
       "<Figure size 86.4x86.4 with 1 Axes>"
      ]
     },
     "metadata": {
      "needs_background": "light"
     },
     "output_type": "display_data"
    }
   ],
   "source": [
    "fig, ax = plt.subplots(figsize=(1.2, 1.2))\n",
    "mask = (truth_df[\"kon\"] == 0.02)\n",
    "plt.scatter(truth_df.loc[mask, \"lamda\"], truth_df.loc[mask, \"Keq\"], marker=\"x\")\n",
    "plt.errorbar(truth_df.loc[mask, \"lamda\"], fit_df.loc[mask, \"Keq_mean\"],\n",
    "             yerr=abs(fit_df.loc[mask, [\"Keq_ll\", \"Keq_ul\"]].values.T-fit_df.loc[mask, \"Keq_mean\"].values),\n",
    "             fmt=\"o\", ms=3, mfc=\"k\", mec=\"k\", ecolor=\"k\", capsize=2)\n",
    "ax.set_ylim(0, 0.2)\n",
    "ax.set_xlim(-0.05, 1.05)\n",
    "ax.set_yticks([])\n",
    "ax.set_xticks([0, 0.5, 1])\n",
    "ax.tick_params(axis=\"both\", labelsize=8)\n",
    "ax.set_xlabel(r\"$\\lambda$\", fontsize=8)\n",
    "ax.xaxis.set_major_formatter(FormatStrFormatter('%g'))\n",
    "ax.yaxis.set_major_formatter(FormatStrFormatter('%g'))\n",
    "# plt.savefig(\"/home/ordabayev/repos/tapqir-overleaf/figures/figure6/keq2.svg\")\n",
    "plt.show()"
   ]
  },
  {
   "cell_type": "code",
   "execution_count": 10,
   "metadata": {},
   "outputs": [
    {
     "data": {
      "image/png": "[encoded data removed]",
      "text/plain": [
       "<Figure size 86.4x86.4 with 1 Axes>"
      ]
     },
     "metadata": {
      "needs_background": "light"
     },
     "output_type": "display_data"
    }
   ],
   "source": [
    "fig, ax = plt.subplots(figsize=(1.2, 1.2))\n",
    "mask = (truth_df[\"kon\"] == 0.03)\n",
    "plt.scatter(truth_df.loc[mask, \"lamda\"], truth_df.loc[mask, \"Keq\"], marker=\"x\")\n",
    "plt.errorbar(truth_df.loc[mask, \"lamda\"], fit_df.loc[mask, \"Keq_mean\"],\n",
    "             yerr=abs(fit_df.loc[mask, [\"Keq_ll\", \"Keq_ul\"]].values.T-fit_df.loc[mask, \"Keq_mean\"].values),\n",
    "             fmt=\"o\", ms=3, mfc=\"k\", mec=\"k\", ecolor=\"k\", capsize=2)\n",
    "ax.set_ylim(0, 0.2)\n",
    "ax.set_xlim(-0.05, 1.05)\n",
    "ax.set_yticks([])\n",
    "ax.set_xticks([0, 0.5, 1])\n",
    "ax.tick_params(axis=\"both\", labelsize=8)\n",
    "ax.xaxis.set_major_formatter(FormatStrFormatter('%g'))\n",
    "ax.yaxis.set_major_formatter(FormatStrFormatter('%g'))\n",
    "# plt.savefig(\"/home/ordabayev/repos/tapqir-overleaf/figures/figure6/keq3.svg\")\n",
    "plt.show()"
   ]
  },
  {
   "cell_type": "markdown",
   "metadata": {},
   "source": [
    "### kon"
   ]
  },
  {
   "cell_type": "code",
   "execution_count": 11,
   "metadata": {},
   "outputs": [
    {
     "data": {
      "image/png": "[encoded data removed]",
      "text/plain": [
       "<Figure size 86.4x86.4 with 1 Axes>"
      ]
     },
     "metadata": {
      "needs_background": "light"
     },
     "output_type": "display_data"
    }
   ],
   "source": [
    "fig, ax = plt.subplots(figsize=(1.2, 1.2))\n",
    "mask = (truth_df[\"kon\"] == 0.01)\n",
    "plt.scatter(truth_df.loc[mask, \"lamda\"], truth_df.loc[mask, \"kon\"], marker=\"x\", label=\"simulation\")\n",
    "plt.errorbar(truth_df.loc[mask, \"lamda\"], fit_df.loc[mask, \"kon_mean\"],\n",
    "             yerr=abs(fit_df.loc[mask, [\"kon_ll\", \"kon_ul\"]].values.T-fit_df.loc[mask, \"kon_mean\"].values),\n",
    "             fmt=\"o\", ms=3, mfc=\"k\", mec=\"k\", ecolor=\"k\", capsize=2, label=\"fit\")\n",
    "ax.set_ylim(0, 0.05)\n",
    "ax.set_xlim(-0.05, 1.05)\n",
    "# ax.set_yticks([])\n",
    "ax.set_xticks([0, 0.5, 1])\n",
    "ax.tick_params(axis=\"both\", labelsize=8)\n",
    "ax.xaxis.set_major_formatter(FormatStrFormatter('%g'))\n",
    "ax.yaxis.set_major_formatter(FormatStrFormatter('%g'))\n",
    "ax.set_ylabel(r\"$k_{on}$ (s$^{-1}$)\", fontsize=8)\n",
    "plt.legend(fontsize=8)\n",
    "# plt.savefig(\"/home/ordabayev/repos/tapqir-overleaf/figures/figure6/kon1.svg\")\n",
    "plt.show()"
   ]
  },
  {
   "cell_type": "code",
   "execution_count": 12,
   "metadata": {},
   "outputs": [
    {
     "data": {
      "image/png": "[encoded data removed]",
      "text/plain": [
       "<Figure size 86.4x86.4 with 1 Axes>"
      ]
     },
     "metadata": {
      "needs_background": "light"
     },
     "output_type": "display_data"
    }
   ],
   "source": [
    "fig, ax = plt.subplots(figsize=(1.2, 1.2))\n",
    "mask = (truth_df[\"kon\"] == 0.02)\n",
    "plt.scatter(truth_df.loc[mask, \"lamda\"], truth_df.loc[mask, \"kon\"], marker=\"x\")\n",
    "plt.errorbar(truth_df.loc[mask, \"lamda\"], fit_df.loc[mask, \"kon_mean\"],\n",
    "             yerr=abs(fit_df.loc[mask, [\"kon_ll\", \"kon_ul\"]].values.T-fit_df.loc[mask, \"kon_mean\"].values),\n",
    "             fmt=\"o\", ms=3, mfc=\"k\", mec=\"k\", ecolor=\"k\", capsize=2)\n",
    "ax.set_ylim(0, 0.05)\n",
    "ax.set_xlim(-0.05, 1.05)\n",
    "ax.set_yticks([])\n",
    "ax.set_xticks([0, 0.5, 1])\n",
    "ax.tick_params(axis=\"both\", labelsize=8)\n",
    "ax.xaxis.set_major_formatter(FormatStrFormatter('%g'))\n",
    "ax.yaxis.set_major_formatter(FormatStrFormatter('%g'))\n",
    "ax.set_xlabel(r\"$\\lambda$\", fontsize=8)\n",
    "# plt.savefig(\"/home/ordabayev/repos/tapqir-overleaf/figures/figure6/kon2.svg\")\n",
    "plt.show()"
   ]
  },
  {
   "cell_type": "code",
   "execution_count": 13,
   "metadata": {},
   "outputs": [
    {
     "data": {
      "image/png": "[encoded data removed]",
      "text/plain": [
       "<Figure size 86.4x86.4 with 1 Axes>"
      ]
     },
     "metadata": {
      "needs_background": "light"
     },
     "output_type": "display_data"
    }
   ],
   "source": [
    "fig, ax = plt.subplots(figsize=(1.2, 1.2))\n",
    "mask = (truth_df[\"kon\"] == 0.03)\n",
    "plt.scatter(truth_df.loc[mask, \"lamda\"], truth_df.loc[mask, \"kon\"], marker=\"x\")\n",
    "plt.errorbar(truth_df.loc[mask, \"lamda\"], fit_df.loc[mask, \"kon_mean\"],\n",
    "             yerr=abs(fit_df.loc[mask, [\"kon_ll\", \"kon_ul\"]].values.T-fit_df.loc[mask, \"kon_mean\"].values),\n",
    "             fmt=\"o\", ms=3, mfc=\"k\", mec=\"k\", ecolor=\"k\", capsize=2)\n",
    "ax.set_ylim(0, 0.05)\n",
    "ax.set_xlim(-0.05, 1.05)\n",
    "ax.set_yticks([])\n",
    "ax.set_xticks([0, 0.5, 1])\n",
    "ax.tick_params(axis=\"both\", labelsize=8)\n",
    "ax.xaxis.set_major_formatter(FormatStrFormatter('%g'))\n",
    "ax.yaxis.set_major_formatter(FormatStrFormatter('%g'))\n",
    "# plt.savefig(\"/home/ordabayev/repos/tapqir-overleaf/figures/figure6/kon3.svg\")\n",
    "plt.show()"
   ]
  },
  {
   "cell_type": "markdown",
   "metadata": {},
   "source": [
    "### koff"
   ]
  },
  {
   "cell_type": "code",
   "execution_count": 14,
   "metadata": {},
   "outputs": [
    {
     "data": {
      "image/png": "[encoded data removed]",
      "text/plain": [
       "<Figure size 86.4x86.4 with 1 Axes>"
      ]
     },
     "metadata": {
      "needs_background": "light"
     },
     "output_type": "display_data"
    }
   ],
   "source": [
    "fig, ax = plt.subplots(figsize=(1.2, 1.2))\n",
    "mask = (truth_df[\"kon\"] == 0.01)\n",
    "plt.scatter(truth_df.loc[mask, \"lamda\"], truth_df.loc[mask, \"koff\"], marker=\"x\")\n",
    "plt.errorbar(truth_df.loc[mask, \"lamda\"], fit_df.loc[mask, \"koff_mean\"],\n",
    "             yerr=abs(fit_df.loc[mask, [\"koff_ll\", \"koff_ul\"]].values.T-fit_df.loc[mask, \"koff_mean\"].values),\n",
    "             fmt=\"o\", ms=3, mfc=\"k\", mec=\"k\", ecolor=\"k\", capsize=2)\n",
    "ax.set_ylim(0, 0.5)\n",
    "ax.set_xlim(-0.05, 1.05)\n",
    "ax.set_xticks([0, 0.5, 1])\n",
    "ax.tick_params(axis=\"both\", labelsize=8)\n",
    "ax.xaxis.set_major_formatter(FormatStrFormatter('%g'))\n",
    "ax.yaxis.set_major_formatter(FormatStrFormatter('%g'))\n",
    "ax.set_ylabel(r\"$k_{off}$ (s$^{-1}$)\", fontsize=8)\n",
    "# plt.savefig(\"/home/ordabayev/repos/tapqir-overleaf/figures/figure6/koff1.svg\")\n",
    "plt.show()"
   ]
  },
  {
   "cell_type": "code",
   "execution_count": 15,
   "metadata": {},
   "outputs": [
    {
     "data": {
      "image/png": "[encoded data removed]",
      "text/plain": [
       "<Figure size 86.4x86.4 with 1 Axes>"
      ]
     },
     "metadata": {
      "needs_background": "light"
     },
     "output_type": "display_data"
    }
   ],
   "source": [
    "fig, ax = plt.subplots(figsize=(1.2, 1.2))\n",
    "mask = (truth_df[\"kon\"] == 0.02)\n",
    "plt.scatter(truth_df.loc[mask, \"lamda\"], truth_df.loc[mask, \"koff\"], marker=\"x\")\n",
    "plt.errorbar(truth_df.loc[mask, \"lamda\"], fit_df.loc[mask, \"koff_mean\"],\n",
    "             yerr=abs(fit_df.loc[mask, [\"koff_ll\", \"koff_ul\"]].values.T-fit_df.loc[mask, \"koff_mean\"].values),\n",
    "             fmt=\"o\", ms=3, mfc=\"k\", mec=\"k\", ecolor=\"k\", capsize=2)\n",
    "ax.set_ylim(0, 0.5)\n",
    "ax.set_xlim(-0.05, 1.05)\n",
    "ax.set_yticks([])\n",
    "ax.set_xticks([0, 0.5, 1])\n",
    "ax.tick_params(axis=\"both\", labelsize=8)\n",
    "ax.xaxis.set_major_formatter(FormatStrFormatter('%g'))\n",
    "ax.yaxis.set_major_formatter(FormatStrFormatter('%g'))\n",
    "ax.set_xlabel(r\"$\\lambda$\", fontsize=8)\n",
    "# plt.savefig(\"/home/ordabayev/repos/tapqir-overleaf/figures/figure6/koff2.svg\")\n",
    "plt.show()"
   ]
  },
  {
   "cell_type": "code",
   "execution_count": 16,
   "metadata": {},
   "outputs": [
    {
     "data": {
      "image/png": "[encoded data removed]",
      "text/plain": [
       "<Figure size 86.4x86.4 with 1 Axes>"
      ]
     },
     "metadata": {
      "needs_background": "light"
     },
     "output_type": "display_data"
    }
   ],
   "source": [
    "fig, ax = plt.subplots(figsize=(1.2, 1.2))\n",
    "mask = (truth_df[\"kon\"] == 0.03)\n",
    "plt.scatter(truth_df.loc[mask, \"lamda\"], truth_df.loc[mask, \"koff\"], marker=\"x\")\n",
    "plt.errorbar(truth_df.loc[mask, \"lamda\"], fit_df.loc[mask, \"koff_mean\"],\n",
    "             yerr=abs(fit_df.loc[mask, [\"koff_ll\", \"koff_ul\"]].values.T-fit_df.loc[mask, \"koff_mean\"].values),\n",
    "             fmt=\"o\", ms=3, mfc=\"k\", mec=\"k\", ecolor=\"k\", capsize=2)\n",
    "ax.set_ylim(0, 0.5)\n",
    "ax.set_xlim(-0.05, 1.05)\n",
    "ax.set_yticks([])\n",
    "ax.set_xticks([0, 0.5, 1])\n",
    "ax.tick_params(axis=\"both\", labelsize=8)\n",
    "ax.xaxis.set_major_formatter(FormatStrFormatter('%g'))\n",
    "ax.yaxis.set_major_formatter(FormatStrFormatter('%g'))\n",
    "# plt.savefig(\"/home/ordabayev/repos/tapqir-overleaf/figures/figure6/koff3.svg\")\n",
    "plt.show()"
   ]
  },
  {
   "cell_type": "markdown",
   "metadata": {},
   "source": [
    "### Traces"
   ]
  },
  {
   "cell_type": "code",
   "execution_count": 17,
   "metadata": {},
   "outputs": [],
   "source": [
    "model = Cosmos()\n",
    "model.load(EXAMLES_DIR / \"kon0.02lamda1\", True)\n",
    "model.load_parameters(EXAMLES_DIR / \"kon0.02lamda1\" / \"runs/cosmos/v1.1.6/S1/control/lr0.005/bs32/\")\n",
    "z_samples = (model.theta_samples > 0).long()"
   ]
  },
  {
   "cell_type": "code",
   "execution_count": 18,
   "metadata": {},
   "outputs": [
    {
     "data": {
      "image/png": "[encoded data removed]",
      "text/plain": [
       "<Figure size 216x36 with 1 Axes>"
      ]
     },
     "metadata": {
      "needs_background": "light"
     },
     "output_type": "display_data"
    }
   ],
   "source": [
    "plt.figure(figsize=(3, 0.5))\n",
    "\n",
    "n = 4\n",
    "f1 = 0\n",
    "f2 = 300\n",
    "plt.plot(\n",
    "    torch.arange(f1, f2),\n",
    "    model.data.labels[\"z\"][n, f1:f2],\n",
    "    \"-\", lw=1, color=\"C4\", label=\"simulation\")\n",
    "\n",
    "plt.xticks([], fontsize=8)\n",
    "plt.yticks([0, 1], fontsize=8)\n",
    "plt.xlim(f1-1, f2-1)\n",
    "plt.ylim(-0.15, 1.15)\n",
    "plt.gca().yaxis.set_major_formatter(FormatStrFormatter('%g'))\n",
    "\n",
    "# plt.savefig(\"/home/ordabayev/repos/tapqir-overleaf/figures/figure6/simulation.svg\")\n",
    "plt.show()"
   ]
  },
  {
   "cell_type": "code",
   "execution_count": 19,
   "metadata": {},
   "outputs": [
    {
     "data": {
      "image/png": "[encoded data removed]",
      "text/plain": [
       "<Figure size 216x36 with 1 Axes>"
      ]
     },
     "metadata": {
      "needs_background": "light"
     },
     "output_type": "display_data"
    }
   ],
   "source": [
    "plt.figure(figsize=(3, 0.5))\n",
    "\n",
    "plt.plot(\n",
    "    torch.arange(f1, f2),\n",
    "    model.z_marginal[n, f1:f2],\n",
    "    \"o-\", ms=1, lw=0.5, color=\"C2\", label=\"fit\")\n",
    "\n",
    "plt.xticks([], fontsize=8)\n",
    "plt.yticks([0, 1], fontsize=8)\n",
    "plt.xlim(f1-1, f2-1)\n",
    "plt.ylim(-0.15, 1.15)\n",
    "plt.gca().yaxis.set_major_formatter(FormatStrFormatter('%g'))\n",
    "\n",
    "# plt.savefig(\"/home/ordabayev/repos/tapqir-overleaf/figures/figure6/pspecific.svg\")\n",
    "plt.show()"
   ]
  },
  {
   "cell_type": "code",
   "execution_count": 20,
   "metadata": {},
   "outputs": [
    {
     "data": {
      "image/png": "[encoded data removed]",
      "text/plain": [
       "<Figure size 216x36 with 1 Axes>"
      ]
     },
     "metadata": {
      "needs_background": "light"
     },
     "output_type": "display_data"
    }
   ],
   "source": [
    "plt.figure(figsize=(3, 0.5))\n",
    "\n",
    "plt.plot(\n",
    "    torch.arange(f1, f2),\n",
    "    z_samples[5, n, f1:f2],\n",
    "    \"-\", ms=2, lw=0.5, color=\"k\", label=\"fit\")\n",
    "\n",
    "plt.xticks([], fontsize=8)\n",
    "plt.yticks([0, 1], fontsize=8)\n",
    "plt.xlim(f1-1, f2-1)\n",
    "plt.ylim(-0.15, 1.15)\n",
    "plt.gca().yaxis.set_major_formatter(FormatStrFormatter('%g'))\n",
    "\n",
    "# plt.savefig(\"/home/ordabayev/repos/tapqir-overleaf/figures/figure6/sample1.svg\")\n",
    "plt.show()"
   ]
  },
  {
   "cell_type": "code",
   "execution_count": 21,
   "metadata": {},
   "outputs": [
    {
     "data": {
      "image/png": "[encoded data removed]",
      "text/plain": [
       "<Figure size 216x36 with 1 Axes>"
      ]
     },
     "metadata": {
      "needs_background": "light"
     },
     "output_type": "display_data"
    }
   ],
   "source": [
    "plt.figure(figsize=(3, 0.5))\n",
    "\n",
    "plt.plot(\n",
    "    torch.arange(f1, f2),\n",
    "    z_samples[1, n, f1:f2],\n",
    "    \"-\", ms=2, lw=0.5, color=\"k\", label=\"fit\")\n",
    "\n",
    "plt.xticks(fontsize=8)\n",
    "plt.yticks([0, 1], fontsize=8)\n",
    "plt.xlim(f1-1, f2-1)\n",
    "plt.ylim(-0.15, 1.15)\n",
    "plt.xlabel(\"Frame\", fontsize=8)\n",
    "plt.gca().yaxis.set_major_formatter(FormatStrFormatter('%g'))\n",
    "\n",
    "# plt.savefig(\"/home/ordabayev/repos/tapqir-overleaf/figures/figure6/sample2.svg\")\n",
    "plt.show()"
   ]
  },
  {
   "cell_type": "code",
   "execution_count": null,
   "metadata": {},
   "outputs": [],
   "source": []
  }
 ],
 "metadata": {
  "hide_input": false,
  "kernelspec": {
   "display_name": "Python 3",
   "language": "python",
   "name": "python3"
  },
  "language_info": {
   "codemirror_mode": {
    "name": "ipython",
    "version": 3
   },
   "file_extension": ".py",
   "mimetype": "text/x-python",
   "name": "python",
   "nbconvert_exporter": "python",
   "pygments_lexer": "ipython3",
   "version": "3.8.10"
  },
  "toc": {
   "base_numbering": 1,
   "nav_menu": {},
   "number_sections": true,
   "sideBar": true,
   "skip_h1_title": false,
   "title_cell": "Table of Contents",
   "title_sidebar": "Contents",
   "toc_cell": false,
   "toc_position": {
    "height": "calc(100% - 180px)",
    "left": "10px",
    "top": "150px",
    "width": "340.25px"
   },
   "toc_section_display": true,
   "toc_window_display": true
  }
 },
 "nbformat": 4,
 "nbformat_minor": 4
}
