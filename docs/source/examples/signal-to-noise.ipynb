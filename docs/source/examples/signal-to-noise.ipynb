{
 "cells": [
  {
   "cell_type": "markdown",
   "metadata": {},
   "source": [
    "# Signal-to-noise ratio calculation"
   ]
  },
  {
   "cell_type": "markdown",
   "metadata": {},
   "source": [
    "Signal\n",
    "\n",
    "$$ \\mu_{knf} =  \\sum_{ij} I_{nfij} \\mathcal{N}(i, j \\mid x_{knf}, y_{knf}, w_{knf}) $$\n",
    "\n",
    "Noise\n",
    "\n",
    "$$ \\sigma^2_{knf} = \\sigma^2_{\\text{offset}} + \\mu_{knf} \\text{gain} $$\n",
    "\n",
    "Signal-to-noise ratio\n",
    "\n",
    "$$ \\text{SNR}_{knf} = \\dfrac{\\mu_{knf} - b_{nf} - \\mu_{\\text{offset}}}{\\sigma_{knf}} \\text{ for } \\theta_{nf} = k $$"
   ]
  },
  {
   "cell_type": "code",
   "execution_count": 1,
   "metadata": {},
   "outputs": [],
   "source": [
    "import torch\n",
    "import pyro\n",
    "import pyro.distributions as dist\n",
    "import numpy as np\n",
    "import pandas as pd\n",
    "import os\n",
    "import matplotlib.pyplot as plt"
   ]
  },
  {
   "cell_type": "code",
   "execution_count": 14,
   "metadata": {},
   "outputs": [],
   "source": [
    "D = 14\n",
    "background = 150\n",
    "gain = torch.tensor(7.)\n",
    "\n",
    "rv = dist.MultivariateNormal(\n",
    "    torch.tensor([6.5, 6.5]),\n",
    "    scale_tril=torch.eye(2) * torch.tensor([1.4])[..., None, None])\n",
    "\n",
    "D_range = torch.arange(D, dtype=torch.float)\n",
    "i_pixel, j_pixel = torch.meshgrid(D_range, D_range)\n",
    "ij_pixel = torch.stack((i_pixel, j_pixel), dim=-1)"
   ]
  },
  {
   "cell_type": "code",
   "execution_count": 26,
   "metadata": {},
   "outputs": [],
   "source": [
    "# calculate signal-to-noise ratio\n",
    "heights = [\"0300\", \"0500\", \"0750\", \"1000\", \"1500\", \"2000\", \"3000\"]\n",
    "snr = []\n",
    "for h in heights:\n",
    "    spot = rv.log_prob(ij_pixel).exp() * float(h)\n",
    "    signal = (spot * rv.log_prob(ij_pixel).exp()).sum()\n",
    "    noise = ((signal+background+89.5) * gain).sqrt()\n",
    "    snr.append(float(signal / noise))"
   ]
  },
  {
   "cell_type": "code",
   "execution_count": 27,
   "metadata": {},
   "outputs": [
    {
     "data": {
      "text/plain": [
       "[0.2901895344257355,\n",
       " 0.47603097558021545,\n",
       " 0.7004936933517456,\n",
       " 0.9169125556945801,\n",
       " 1.3280839920043945,\n",
       " 1.7138175964355469,\n",
       " 2.421982526779175]"
      ]
     },
     "execution_count": 27,
     "metadata": {},
     "output_type": "execute_result"
    }
   ],
   "source": [
    "snr"
   ]
  },
  {
   "cell_type": "code",
   "execution_count": null,
   "metadata": {},
   "outputs": [],
   "source": []
  },
  {
   "cell_type": "code",
   "execution_count": 25,
   "metadata": {},
   "outputs": [
    {
     "data": {
      "text/plain": [
       "array([[( 0,   0,  True), ( 0,   1, False), ( 0,   2, False), ...,\n",
       "        ( 0, 497, False), ( 0, 498, False), ( 0, 499, False)],\n",
       "       [( 1,   0, False), ( 1,   1,  True), ( 1,   2, False), ...,\n",
       "        ( 1, 497,  True), ( 1, 498, False), ( 1, 499, False)],\n",
       "       [( 2,   0, False), ( 2,   1, False), ( 2,   2, False), ...,\n",
       "        ( 2, 497,  True), ( 2, 498, False), ( 2, 499, False)],\n",
       "       ...,\n",
       "       [(12,   0, False), (12,   1,  True), (12,   2,  True), ...,\n",
       "        (12, 497, False), (12, 498, False), (12, 499, False)],\n",
       "       [(13,   0, False), (13,   1, False), (13,   2, False), ...,\n",
       "        (13, 497, False), (13, 498, False), (13, 499, False)],\n",
       "       [(14,   0,  True), (14,   1, False), (14,   2, False), ...,\n",
       "        (14, 497, False), (14, 498, False), (14, 499,  True)]],\n",
       "      dtype=[('aoi', '<i8'), ('frame', '<i8'), ('z', '?')])"
      ]
     },
     "execution_count": 25,
     "metadata": {},
     "output_type": "execute_result"
    }
   ],
   "source": [
    "model.data.labels"
   ]
  },
  {
   "cell_type": "markdown",
   "metadata": {},
   "source": [
    "Tracker v1.1.3flat"
   ]
  },
  {
   "cell_type": "code",
   "execution_count": 2,
   "metadata": {},
   "outputs": [],
   "source": [
    "from cosmos.models import Tracker"
   ]
  },
  {
   "cell_type": "code",
   "execution_count": 19,
   "metadata": {},
   "outputs": [],
   "source": [
    "name = \"h2000pi15lamda15\"\n",
    "path_data = \"/shared/centaur/data/height_data/{}\".format(name)\n",
    "path_params = \"/shared/centaur/data/height_data/{}/runs/tracker/v1.1.3flat/S1/control/lr0.005/bs5\".format(name)"
   ]
  },
  {
   "cell_type": "code",
   "execution_count": 20,
   "metadata": {},
   "outputs": [],
   "source": [
    "model = Tracker(S=1)\n",
    "model.load(path_data, False, \"cpu\")\n",
    "model.load_parameters(path_params)"
   ]
  },
  {
   "cell_type": "code",
   "execution_count": 21,
   "metadata": {},
   "outputs": [],
   "source": [
    "snr = model.snr()"
   ]
  },
  {
   "cell_type": "code",
   "execution_count": 22,
   "metadata": {},
   "outputs": [
    {
     "data": {
      "text/plain": [
       "tensor(1.7269)"
      ]
     },
     "execution_count": 22,
     "metadata": {},
     "output_type": "execute_result"
    }
   ],
   "source": [
    "snr.mean()"
   ]
  },
  {
   "cell_type": "code",
   "execution_count": null,
   "metadata": {},
   "outputs": [],
   "source": []
  },
  {
   "cell_type": "code",
   "execution_count": 27,
   "metadata": {},
   "outputs": [
    {
     "ename": "RuntimeError",
     "evalue": "Can't call numpy() on Tensor that requires grad. Use tensor.detach().numpy() instead.",
     "output_type": "error",
     "traceback": [
      "\u001b[0;31m---------------------------------------------------------------------------\u001b[0m",
      "\u001b[0;31mRuntimeError\u001b[0m                              Traceback (most recent call last)",
      "\u001b[0;32m<ipython-input-27-15b2e631cdbd>\u001b[0m in \u001b[0;36m<module>\u001b[0;34m\u001b[0m\n\u001b[1;32m     10\u001b[0m \u001b[0;34m\u001b[0m\u001b[0m\n\u001b[1;32m     11\u001b[0m \u001b[0mplt\u001b[0m\u001b[0;34m.\u001b[0m\u001b[0msubplot\u001b[0m\u001b[0;34m(\u001b[0m\u001b[0;36m224\u001b[0m\u001b[0;34m)\u001b[0m\u001b[0;34m\u001b[0m\u001b[0;34m\u001b[0m\u001b[0m\n\u001b[0;32m---> 12\u001b[0;31m \u001b[0mplt\u001b[0m\u001b[0;34m.\u001b[0m\u001b[0mhist\u001b[0m\u001b[0;34m(\u001b[0m\u001b[0msnr\u001b[0m\u001b[0;34m.\u001b[0m\u001b[0mnumpy\u001b[0m\u001b[0;34m(\u001b[0m\u001b[0;34m)\u001b[0m\u001b[0;34m,\u001b[0m \u001b[0mbins\u001b[0m\u001b[0;34m=\u001b[0m\u001b[0;36m20\u001b[0m\u001b[0;34m)\u001b[0m\u001b[0;34m\u001b[0m\u001b[0;34m\u001b[0m\u001b[0m\n\u001b[0m\u001b[1;32m     13\u001b[0m \u001b[0mplt\u001b[0m\u001b[0;34m.\u001b[0m\u001b[0mshow\u001b[0m\u001b[0;34m(\u001b[0m\u001b[0;34m)\u001b[0m\u001b[0;34m\u001b[0m\u001b[0;34m\u001b[0m\u001b[0m\n",
      "\u001b[0;31mRuntimeError\u001b[0m: Can't call numpy() on Tensor that requires grad. Use tensor.detach().numpy() instead."
     ]
    },
    {
     "data": {
      "image/png": "[encoded data removed]",
      "text/plain": [
       "<Figure size 720x720 with 4 Axes>"
      ]
     },
     "metadata": {
      "needs_background": "light"
     },
     "output_type": "display_data"
    }
   ],
   "source": [
    "plt.figure(figsize=(10,10))\n",
    "plt.subplot(221)\n",
    "plt.hist(height.numpy(), bins=20)\n",
    "\n",
    "plt.subplot(222)\n",
    "plt.hist(width.numpy(), bins=20)\n",
    "\n",
    "plt.subplot(223)\n",
    "plt.hist(x.numpy(), bins=20)\n",
    "\n",
    "plt.subplot(224)\n",
    "plt.hist(snr.numpy(), bins=20)\n",
    "plt.show()"
   ]
  },
  {
   "cell_type": "code",
   "execution_count": null,
   "metadata": {},
   "outputs": [],
   "source": [
    "snr.mean()"
   ]
  },
  {
   "cell_type": "code",
   "execution_count": null,
   "metadata": {},
   "outputs": [],
   "source": []
  }
 ],
 "metadata": {
  "hide_input": false,
  "kernelspec": {
   "display_name": "Python 3",
   "language": "python",
   "name": "python3"
  },
  "language_info": {
   "codemirror_mode": {
    "name": "ipython",
    "version": 3
   },
   "file_extension": ".py",
   "mimetype": "text/x-python",
   "name": "python",
   "nbconvert_exporter": "python",
   "pygments_lexer": "ipython3",
   "version": "3.7.7"
  }
 },
 "nbformat": 4,
 "nbformat_minor": 4
}
