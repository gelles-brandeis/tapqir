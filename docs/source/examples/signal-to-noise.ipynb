{
 "cells": [
  {
   "cell_type": "markdown",
   "metadata": {},
   "source": [
    "# Signal-to-noise ratio calculation"
   ]
  },
  {
   "cell_type": "markdown",
   "metadata": {},
   "source": [
    "Signal\n",
    "\n",
    "$$ \\mu_{knf} =  \\sum_{ij} I_{nfij} \\mathcal{N}(i, j \\mid x_{knf}, y_{knf}, w_{knf}) $$\n",
    "\n",
    "Noise\n",
    "\n",
    "$$ \\sigma^2_{knf} = \\sigma^2_{\\text{offset}} + \\mu_{knf} \\text{gain} $$\n",
    "\n",
    "Signal-to-noise ratio\n",
    "\n",
    "$$ \\text{SNR}_{knf} = \\dfrac{\\mu_{knf} - b_{nf} - \\mu_{\\text{offset}}}{\\sigma_{knf}} \\text{ for } \\theta_{nf} = k $$"
   ]
  },
  {
   "cell_type": "markdown",
   "metadata": {},
   "source": [
    "\n",
    "$$ p(\\mathcal{D}) $$"
   ]
  },
  {
   "cell_type": "code",
   "execution_count": 7,
   "metadata": {},
   "outputs": [],
   "source": [
    "import matplotlib.pyplot as plt\n",
    "from cosmos.models import Tracker"
   ]
  },
  {
   "cell_type": "code",
   "execution_count": 22,
   "metadata": {},
   "outputs": [],
   "source": [
    "name = \"h3000pi15lamda15\"\n",
    "path_data = \"/shared/centaur/data/height_data/{}\".format(name)\n",
    "path_params = \"/shared/centaur/data/height_data/{}/runs/tracker/v1.1.4prox/S1/control/lr0.005/bs5\".format(name)"
   ]
  },
  {
   "cell_type": "code",
   "execution_count": 23,
   "metadata": {},
   "outputs": [],
   "source": [
    "model = Tracker(S=1)\n",
    "model.load(path_data, False, \"cpu\")\n",
    "model.load_parameters(path_params)\n",
    "snr = model.snr()"
   ]
  },
  {
   "cell_type": "code",
   "execution_count": 24,
   "metadata": {},
   "outputs": [
    {
     "data": {
      "text/plain": [
       "tensor(2.7870)"
      ]
     },
     "execution_count": 24,
     "metadata": {},
     "output_type": "execute_result"
    }
   ],
   "source": [
    "snr.mean()"
   ]
  },
  {
   "cell_type": "code",
   "execution_count": 12,
   "metadata": {},
   "outputs": [
    {
     "data": {
      "image/png": "[encoded data removed]",
      "text/plain": [
       "<Figure size 360x360 with 1 Axes>"
      ]
     },
     "metadata": {
      "needs_background": "light"
     },
     "output_type": "display_data"
    }
   ],
   "source": [
    "plt.figure(figsize=(5, 5))\n",
    "plt.subplot(111)\n",
    "plt.hist(snr.numpy(), bins=20, density=True, alpha=0.3)\n",
    "plt.xlim(0,)\n",
    "plt.ylabel(\"probability density\")\n",
    "plt.xlabel(\"SNR\")\n",
    "plt.show()"
   ]
  },
  {
   "cell_type": "markdown",
   "metadata": {},
   "source": [
    "## Theoretical calculation"
   ]
  },
  {
   "cell_type": "code",
   "execution_count": 7,
   "metadata": {},
   "outputs": [],
   "source": [
    "import torch\n",
    "import pyro.distributions as dist"
   ]
  },
  {
   "cell_type": "code",
   "execution_count": 8,
   "metadata": {},
   "outputs": [],
   "source": [
    "D = 14\n",
    "background = 150\n",
    "gain = torch.tensor(7.)\n",
    "width = torch.tensor([1.4])\n",
    "\n",
    "rv = dist.MultivariateNormal(\n",
    "    torch.tensor([6.5, 6.5]),\n",
    "    scale_tril=torch.eye(2) * width[..., None, None])\n",
    "\n",
    "D_range = torch.arange(D, dtype=torch.float)\n",
    "i_pixel, j_pixel = torch.meshgrid(D_range, D_range)\n",
    "ij_pixel = torch.stack((i_pixel, j_pixel), dim=-1)"
   ]
  },
  {
   "cell_type": "code",
   "execution_count": 11,
   "metadata": {},
   "outputs": [
    {
     "name": "stdout",
     "output_type": "stream",
     "text": [
      "tensor(0.2015)\n",
      "tensor(0.2015)\n",
      "tensor(0.2015)\n",
      "tensor(0.2015)\n",
      "tensor(0.2015)\n",
      "tensor(0.2015)\n",
      "tensor(0.2015)\n"
     ]
    }
   ],
   "source": [
    "# calculate signal-to-noise ratio\n",
    "heights = [\"0300\", \"0500\", \"0750\", \"1000\", \"1500\", \"2000\", \"3000\"]\n",
    "snr = []\n",
    "for h in heights:\n",
    "    weights = rv.log_prob(ij_pixel).exp()\n",
    "    print(weights.pow(2).sum().sqrt())\n",
    "    signal = (weights ** 2 * float(h)).sum()\n",
    "    noise = ((background) * gain).sqrt()\n",
    "    snr.append(float(signal / noise))"
   ]
  },
  {
   "cell_type": "code",
   "execution_count": 12,
   "metadata": {},
   "outputs": [
    {
     "data": {
      "text/plain": [
       "[0.37588992714881897,\n",
       " 0.6264832615852356,\n",
       " 0.9397249221801758,\n",
       " 1.2529665231704712,\n",
       " 1.8794498443603516,\n",
       " 2.5059330463409424,\n",
       " 3.758899688720703]"
      ]
     },
     "execution_count": 12,
     "metadata": {},
     "output_type": "execute_result"
    }
   ],
   "source": [
    "snr"
   ]
  },
  {
   "cell_type": "code",
   "execution_count": null,
   "metadata": {},
   "outputs": [],
   "source": []
  }
 ],
 "metadata": {
  "hide_input": false,
  "kernelspec": {
   "display_name": "Python 3",
   "language": "python",
   "name": "python3"
  },
  "language_info": {
   "codemirror_mode": {
    "name": "ipython",
    "version": 3
   },
   "file_extension": ".py",
   "mimetype": "text/x-python",
   "name": "python",
   "nbconvert_exporter": "python",
   "pygments_lexer": "ipython3",
   "version": "3.7.7"
  }
 },
 "nbformat": 4,
 "nbformat_minor": 4
}
