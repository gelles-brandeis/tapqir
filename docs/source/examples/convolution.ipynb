{
 "cells": [
  {
   "cell_type": "code",
   "execution_count": 41,
   "metadata": {},
   "outputs": [],
   "source": [
    "import math\n",
    "import os\n",
    "import torch\n",
    "import torch.distributions.constraints as constraints\n",
    "import pyro\n",
    "from pyro.optim import Adam\n",
    "from pyro.infer import SVI, Trace_ELBO\n",
    "import pyro.distributions as dist\n",
    "import matplotlib.pyplot as plt\n",
    "\n",
    "from pyro.distributions import TorchDistribution\n",
    "from pyro.distributions.util import broadcast_shape"
   ]
  },
  {
   "cell_type": "code",
   "execution_count": 42,
   "metadata": {},
   "outputs": [
    {
     "name": "stdout",
     "output_type": "stream",
     "text": [
      "10.010004997253418\n",
      "11.071823120117188\n",
      "12.269909858703613\n",
      "13.614556312561035\n",
      "15.10996150970459\n",
      "16.751005172729492\n",
      "18.51820945739746\n",
      "20.372270584106445\n",
      "22.24984359741211\n",
      "24.064455032348633\n",
      "25.716995239257812\n",
      "27.117311477661133\n",
      "28.210615158081055\n",
      "28.993581771850586\n",
      "29.508563995361328\n",
      "29.82164192199707\n",
      "29.998878479003906\n",
      "30.092899322509766\n",
      "30.13983726501465\n",
      "30.161949157714844\n",
      "30.1717586517334\n",
      "30.175874710083008\n",
      "30.17746353149414\n",
      "30.178068161010742\n",
      "30.178068161010742\n",
      "30.178068161010742\n",
      "30.178068161010742\n",
      "30.178075790405273\n",
      "30.178091049194336\n",
      "30.178104400634766\n",
      "30.178119659423828\n",
      "30.178133010864258\n",
      "30.17814064025879\n",
      "30.17815589904785\n",
      "30.17816162109375\n",
      "30.178176879882812\n",
      "30.178184509277344\n",
      "30.178190231323242\n",
      "30.178197860717773\n",
      "30.178205490112305\n",
      "30.178213119506836\n",
      "30.178220748901367\n",
      "30.178226470947266\n",
      "30.178234100341797\n",
      "30.178241729736328\n",
      "30.17824935913086\n",
      "30.178255081176758\n",
      "30.178255081176758\n",
      "30.17826271057129\n",
      "30.17827033996582\n"
     ]
    }
   ],
   "source": [
    "# this is for running the notebook in our testing framework\n",
    "#smoke_test = ('CI' in os.environ)\n",
    "n_steps = 5000\n",
    "\n",
    "# clear the param store in case we're in a REPL\n",
    "pyro.clear_param_store()\n",
    "\n",
    "# create some data with 6 observed heads and 4 observed tails\n",
    "data = 10 + dist.Normal(30, 1).sample((10,))\n",
    "\n",
    "def model(data):\n",
    "    b = pyro.sample(\"b\", dist.HalfNormal(100.))\n",
    "    x = pyro.sample(\"data\", dist.Normal(b, 1), obs=data-10)\n",
    "    \n",
    "def guide(data):\n",
    "    b_v = pyro.param(\"b_v\", torch.tensor(10.), constraint=constraints.positive)\n",
    "    b = pyro.sample(\"b\", dist.Delta(b_v))\n",
    "\n",
    "# setup the optimizer\n",
    "adam_params = {\"lr\": 0.001, \"betas\": (0.90, 0.999)}\n",
    "optimizer = Adam(adam_params)\n",
    "\n",
    "# setup the inference algorithm\n",
    "svi = SVI(model, guide, optimizer, loss=Trace_ELBO())\n",
    "\n",
    "# do gradient steps\n",
    "for step in range(n_steps):\n",
    "    svi.step(data)\n",
    "    \n",
    "    if step % 100 == 0:\n",
    "        print(pyro.param(\"b_v\").item())"
   ]
  },
  {
   "cell_type": "code",
   "execution_count": 163,
   "metadata": {},
   "outputs": [
    {
     "name": "stdout",
     "output_type": "stream",
     "text": [
      "10.010004997253418\n",
      "11.07103443145752\n",
      "12.237306594848633\n",
      "13.543619155883789\n",
      "14.96059513092041\n",
      "16.466169357299805\n",
      "18.00245475769043\n",
      "19.540576934814453\n",
      "20.916414260864258\n",
      "22.10936737060547\n",
      "23.163105010986328\n",
      "23.854616165161133\n",
      "24.43291473388672\n",
      "24.675992965698242\n",
      "24.785066604614258\n",
      "24.820056915283203\n",
      "24.90951919555664\n",
      "24.999971389770508\n",
      "24.919349670410156\n",
      "24.930034637451172\n",
      "25.014114379882812\n",
      "24.85936737060547\n",
      "24.878538131713867\n",
      "24.989168167114258\n",
      "25.021886825561523\n",
      "24.925695419311523\n",
      "24.948394775390625\n",
      "25.066316604614258\n",
      "25.00370979309082\n",
      "25.129709243774414\n",
      "24.834991455078125\n",
      "25.11966323852539\n",
      "24.891233444213867\n",
      "25.01214027404785\n",
      "24.877113342285156\n",
      "25.0006160736084\n",
      "24.856386184692383\n",
      "24.82415771484375\n",
      "24.809253692626953\n",
      "25.05585289001465\n",
      "24.84496307373047\n",
      "24.964937210083008\n",
      "25.03502655029297\n",
      "24.9835205078125\n",
      "25.02655792236328\n",
      "24.99386215209961\n",
      "25.01921272277832\n",
      "24.860980987548828\n",
      "25.022518157958984\n",
      "24.99283790588379\n"
     ]
    }
   ],
   "source": [
    "# this is for running the notebook in our testing framework\n",
    "#smoke_test = ('CI' in os.environ)\n",
    "n_steps = 5000\n",
    "\n",
    "# clear the param store in case we're in a REPL\n",
    "pyro.clear_param_store()\n",
    "\n",
    "# create some data with 6 observed heads and 4 observed tails\n",
    "data = dist.Gamma(1, 0.1).sample((100,)) + dist.Normal(25, 5).sample((100,))\n",
    "\n",
    "def model(data):\n",
    "    #a = pyro.sample(\"a\", dist.HalfNormal(30.))\n",
    "    b = pyro.sample(\"b\", dist.HalfNormal(100.))\n",
    "    x = pyro.sample(\"data\", Summed(dist.Gamma(1, 0.1), dist.Normal(b, 5)), obs=data)\n",
    "    \n",
    "def guide(data):\n",
    "    #a_v = pyro.param(\"a_v\", torch.tensor(10.), constraint=constraints.positive)\n",
    "    b_v = pyro.param(\"b_v\", torch.tensor(10.), constraint=constraints.positive)\n",
    "    #pyro.sample(\"a\", dist.Delta(a_v))\n",
    "    pyro.sample(\"b\", dist.Delta(b_v))\n",
    "\n",
    "# setup the optimizer\n",
    "adam_params = {\"lr\": 0.001, \"betas\": (0.90, 0.999)}\n",
    "optimizer = Adam(adam_params)\n",
    "\n",
    "# setup the inference algorithm\n",
    "svi = SVI(model, guide, optimizer, loss=Trace_ELBO())\n",
    "\n",
    "# do gradient steps\n",
    "for step in range(n_steps):\n",
    "    svi.step(data)\n",
    "    \n",
    "    if step % 100 == 0:\n",
    "        print(pyro.param(\"b_v\").item())"
   ]
  },
  {
   "cell_type": "code",
   "execution_count": 74,
   "metadata": {},
   "outputs": [],
   "source": [
    "class Summed(TorchDistribution):\n",
    "    def __init__(self, component0, component1, validate_args=None):\n",
    "        if component0.event_shape != component1.event_shape:\n",
    "            raise ValueError('components event_shape disagree: {} vs {}'\n",
    "                             .format(component0.event_shape, component1.event_shape))\n",
    "        batch_shape = broadcast_shape(component0.batch_shape, component1.batch_shape)\n",
    "        if component0.batch_shape != batch_shape:\n",
    "            component0 = component0.expand(batch_shape)\n",
    "        if component1.batch_shape != batch_shape:\n",
    "            component1 = component1.expand(batch_shape)\n",
    "\n",
    "        self.component0 = component0\n",
    "        self.component1 = component1\n",
    "        super().__init__(batch_shape, component0.event_shape, validate_args)\n",
    "\n",
    "        # We need to disable _validate_sample on each component since samples are only valid on the\n",
    "        # component from which they are drawn. Instead we perform validation using a MaskedConstraint.\n",
    "        self.component0._validate_args = False\n",
    "        self.component1._validate_args = False\n",
    "\n",
    "    @property\n",
    "    def has_rsample(self):\n",
    "        return self.component0.has_rsample and self.component1.has_rsample\n",
    "\n",
    "    @constraints.dependent_property\n",
    "    def support(self):\n",
    "        if self.component0.support is self.component1.support:\n",
    "            return self.component0.support\n",
    "        return MaskedConstraint(self.mask, self.component0.support, self.component1.support)\n",
    "\n",
    "    def expand(self, batch_shape):\n",
    "        try:\n",
    "            return super().expand(batch_shape)\n",
    "        except NotImplementedError:\n",
    "            component0 = self.component0.expand(batch_shape)\n",
    "            component1 = self.component1.expand(batch_shape)\n",
    "            return type(self)(component0, component1)\n",
    "\n",
    "\n",
    "    def sample(self, sample_shape=torch.Size()):\n",
    "        result = (self.component1.rsample(sample_shape)\n",
    "                 + self.component0.rsample(sample_shape))\n",
    "        return result\n",
    "\n",
    "\n",
    "    def rsample(self, sample_shape=torch.Size()):\n",
    "        result = (self.component1.rsample(sample_shape)\n",
    "                 + self.component0.rsample(sample_shape))\n",
    "        return result\n",
    "\n",
    "\n",
    "    def log_prob(self, value, num_particles=1):\n",
    "        value_shape = broadcast_shape(value.shape, self.batch_shape + self.event_shape)\n",
    "        if value.shape != value_shape:\n",
    "            value = value.expand(value_shape)\n",
    "        if self._validate_args:\n",
    "            self._validate_sample(value)\n",
    "        x = self.component0.sample((num_particles,) + value_shape)\n",
    "        result = self.component1.log_prob(value - x)\n",
    "        mask = result.isinf() | result.isnan()\n",
    "        result = result.masked_fill(mask, -40.)\n",
    "        return torch.logsumexp(result, 0) - torch.log(torch.tensor(num_particles).float())"
   ]
  },
  {
   "cell_type": "code",
   "execution_count": 85,
   "metadata": {},
   "outputs": [],
   "source": [
    "#d = Summed(dist.Gamma(150 * 0.01, 0.01), dist.HalfNormal(10000.*0.04))\n",
    "d = Summed(dist.Gamma(190 * 10, 10), dist.Gamma(10.*0.1, 0.1))"
   ]
  },
  {
   "cell_type": "code",
   "execution_count": 86,
   "metadata": {},
   "outputs": [
    {
     "data": {
      "image/png": "[encoded data removed]",
      "text/plain": [
       "<Figure size 432x288 with 1 Axes>"
      ]
     },
     "metadata": {
      "needs_background": "light"
     },
     "output_type": "display_data"
    }
   ],
   "source": [
    "#plt.hist(d.sample((1000,)).numpy(), bins=30, alpha=0.3, density=True)\n",
    "#plt.hist(dist.Gamma(1, 0.1).sample((500,)).numpy(), bins=30, alpha=0.3, density=True)\n",
    "#plt.hist(dist.Normal(30, 5).sample((500,)).numpy(), bins=30, alpha=0.3, density=True)\n",
    "#plt.plot(torch.arange(10, 80, 1), d.log_prob(torch.arange(10, 80, 1), 10).exp())\n",
    "#plt.plot(torch.arange(10, 80, 1), d.log_prob(torch.arange(10, 80, 1), 100).exp())\n",
    "plt.plot(torch.arange(1, 500, 1), dist.Gamma(190 * 10, 10).log_prob(torch.arange(1, 500, 1)).exp())\n",
    "plt.plot(torch.arange(1, 500, 1), d.log_prob(torch.arange(1, 500, 1), 1000).exp())\n",
    "plt.show()"
   ]
  },
  {
   "cell_type": "code",
   "execution_count": 123,
   "metadata": {},
   "outputs": [
    {
     "data": {
      "image/png": "[encoded data removed]",
      "text/plain": [
       "<Figure size 432x288 with 1 Axes>"
      ]
     },
     "metadata": {
      "needs_background": "light"
     },
     "output_type": "display_data"
    }
   ],
   "source": [
    "plt.hist(d.sample((1000,)).numpy(), bins=30, alpha=0.3, density=True)\n",
    "#plt.hist(dist.Gamma(1, 0.1).sample((500,)).numpy(), bins=30, alpha=0.3, density=True)\n",
    "#plt.hist(dist.Normal(30, 5).sample((500,)).numpy(), bins=30, alpha=0.3, density=True)\n",
    "plt.scatter(10, torch.logsumexp(d.log_prob(torch.ones(3)*10), 0).exp() / 3)\n",
    "plt.scatter(20, torch.logsumexp(d.log_prob(torch.ones(3)*20), 0).exp() / 3)\n",
    "plt.scatter(30, torch.logsumexp(d.log_prob(torch.ones(3)*30), 0).exp() / 3)\n",
    "plt.scatter(40, torch.logsumexp(d.log_prob(torch.ones(3)*40), 0).exp() / 3)\n",
    "plt.scatter(50, torch.logsumexp(d.log_prob(torch.ones(3)*50), 0).exp() / 3)\n",
    "plt.scatter(60, torch.logsumexp(d.log_prob(torch.ones(3)*60), 0).exp() / 3)\n",
    "plt.scatter(70, torch.logsumexp(d.log_prob(torch.ones(3)*70), 0).exp() / 3)\n",
    "plt.show()"
   ]
  },
  {
   "cell_type": "code",
   "execution_count": 2,
   "metadata": {},
   "outputs": [],
   "source": [
    "from cosmos.distributions import ConvDist\n",
    "from cosmos.models import Tracker\n",
    "from pyro import param"
   ]
  },
  {
   "cell_type": "code",
   "execution_count": 3,
   "metadata": {},
   "outputs": [],
   "source": [
    "name = \"15\"\n",
    "path_data = \"/shared/centaur/data/lamda_data/h3000pi15lamda{}\".format(name)\n",
    "path_params = \"/shared/centaur/data/lamda_data/h3000pi15lamda{}/runs/tracker/v1.1.4noise/S1/nocontrol/lr0.005/bs5\".format(name)\n",
    "model = Tracker(S=1)\n",
    "model.load(path_data, False, \"cpu\")\n",
    "model.load_parameters(path_params)"
   ]
  },
  {
   "cell_type": "code",
   "execution_count": 4,
   "metadata": {},
   "outputs": [],
   "source": [
    "gauss = model.data_loc(\n",
    "    param(\"d/w_mode\").data[0, 3, 5],\n",
    "    param(\"d/x_mode\").data[0, 3, 5],\n",
    "    param(\"d/y_mode\").data[0, 3, 5],\n",
    "    3, 5)"
   ]
  },
  {
   "cell_type": "code",
   "execution_count": 5,
   "metadata": {},
   "outputs": [
    {
     "data": {
      "text/plain": [
       "<matplotlib.image.AxesImage at 0x7fc44aa568d0>"
      ]
     },
     "execution_count": 5,
     "metadata": {},
     "output_type": "execute_result"
    },
    {
     "data": {
      "image/png": "[encoded data removed]",
      "text/plain": [
       "<Figure size 432x288 with 1 Axes>"
      ]
     },
     "metadata": {
      "needs_background": "light"
     },
     "output_type": "display_data"
    }
   ],
   "source": [
    "plt.imshow(gauss)"
   ]
  },
  {
   "cell_type": "code",
   "execution_count": 6,
   "metadata": {},
   "outputs": [],
   "source": [
    "s = ConvDist(\n",
    "    dist.Gamma(150*0.1, 0.1).expand([14, 14]).to_event(2),\n",
    "    dist.HalfNormal(5000),\n",
    "    gauss\n",
    ")"
   ]
  },
  {
   "cell_type": "code",
   "execution_count": 7,
   "metadata": {},
   "outputs": [],
   "source": [
    "x = s.sample()"
   ]
  },
  {
   "cell_type": "code",
   "execution_count": 8,
   "metadata": {},
   "outputs": [
    {
     "data": {
      "text/plain": [
       "<matplotlib.image.AxesImage at 0x7fc44a96ae50>"
      ]
     },
     "execution_count": 8,
     "metadata": {},
     "output_type": "execute_result"
    },
    {
     "data": {
      "image/png": "[encoded data removed]",
      "text/plain": [
       "<Figure size 432x288 with 1 Axes>"
      ]
     },
     "metadata": {
      "needs_background": "light"
     },
     "output_type": "display_data"
    }
   ],
   "source": [
    "plt.imshow(x)"
   ]
  },
  {
   "cell_type": "code",
   "execution_count": 9,
   "metadata": {},
   "outputs": [
    {
     "data": {
      "text/plain": [
       "tensor([[ 86.3814, 163.9501, 221.2661, 184.6517, 137.9197, 141.3549, 168.0607,\n",
       "         244.7863, 101.4181, 167.3192, 145.1679, 126.5287, 213.8988, 113.3902],\n",
       "        [143.4962, 125.4525, 174.8096, 162.0177, 176.3613, 130.9521, 184.7683,\n",
       "         109.8234, 221.5743, 126.2814, 131.2645, 120.3279, 166.8120, 134.6771],\n",
       "        [173.1785, 116.0162, 116.6236, 117.6979, 208.2619, 193.4082, 235.7558,\n",
       "         133.3531, 189.9941, 176.2583, 118.0241, 182.6942, 132.8091, 194.3989],\n",
       "        [212.4881, 150.7862, 154.8448, 152.5751, 150.0890, 158.3329, 152.8129,\n",
       "         151.9001, 136.9883, 208.8951, 149.3323, 161.2059, 113.1578, 165.4925],\n",
       "        [244.1324, 190.3457, 139.3706, 246.0350, 322.1423, 278.4804, 207.9081,\n",
       "         279.9957, 205.8651, 114.5699, 215.1672, 163.1482, 144.3512, 180.1609],\n",
       "        [153.5385, 149.9922, 225.1786, 202.5676, 301.1503, 395.8558, 230.8786,\n",
       "         262.9355, 224.2812, 159.9215, 113.7306, 201.1104, 110.1626, 137.1151],\n",
       "        [113.3178, 176.7282, 126.2420, 242.9832, 329.2197, 298.2627, 324.8922,\n",
       "         255.0726, 209.4254, 134.4359, 116.1320, 189.8056, 169.6954, 214.5837],\n",
       "        [185.4049, 187.7823, 166.0415, 202.4351, 227.4741, 238.6333, 238.4154,\n",
       "         211.2446, 189.4135, 176.7753, 171.2726, 173.4781, 119.1266,  91.8089],\n",
       "        [123.4618, 162.8606, 119.0175, 174.7369, 265.0080, 167.9903, 177.0204,\n",
       "         213.3167,  88.3535, 133.5835, 137.0876, 114.0364, 122.5080, 167.9172],\n",
       "        [181.0421, 245.0433, 187.1019, 259.0131, 134.8906, 201.2581, 242.1777,\n",
       "         162.7042, 118.6336, 126.7126, 113.0422,  55.4083, 169.8489, 110.4489],\n",
       "        [207.5324, 118.9221, 203.0839, 129.8259, 166.1388, 149.6981, 103.6901,\n",
       "         130.6330, 147.9136, 201.5268, 137.8595, 156.4129, 145.5654, 123.7202],\n",
       "        [ 98.5711, 143.0083, 192.9717, 147.4791, 172.9990, 175.8002, 121.0272,\n",
       "         108.8072, 140.5946, 197.2850, 133.9448, 196.5748, 135.1859, 127.6469],\n",
       "        [116.5740, 178.4435, 142.3514, 172.2661, 189.4622, 108.9237, 137.4603,\n",
       "         149.9270, 153.9194, 129.8672, 163.8098, 136.3579, 147.7940,  94.1176],\n",
       "        [129.0710, 120.5465, 166.6415, 128.6972, 193.0611, 132.6220, 172.0760,\n",
       "         170.5785, 118.7784,  93.9527, 100.6872, 177.0556, 179.3980,  98.6622]])"
      ]
     },
     "execution_count": 9,
     "metadata": {},
     "output_type": "execute_result"
    }
   ],
   "source": [
    "x"
   ]
  },
  {
   "cell_type": "code",
   "execution_count": 10,
   "metadata": {},
   "outputs": [
    {
     "data": {
      "text/plain": [
       "tensor(1125.9320)"
      ]
     },
     "execution_count": 10,
     "metadata": {},
     "output_type": "execute_result"
    }
   ],
   "source": [
    "s.component1()"
   ]
  },
  {
   "cell_type": "code",
   "execution_count": 14,
   "metadata": {},
   "outputs": [
    {
     "data": {
      "text/plain": [
       "tensor(-988.4022)"
      ]
     },
     "execution_count": 14,
     "metadata": {},
     "output_type": "execute_result"
    }
   ],
   "source": [
    "s.log_prob(x)"
   ]
  },
  {
   "cell_type": "code",
   "execution_count": 35,
   "metadata": {},
   "outputs": [],
   "source": [
    "d = dist.Gamma(torch.ones(3,2)[..., None,None], 1).expand([3,2,4,4]).to_event(2)"
   ]
  },
  {
   "cell_type": "code",
   "execution_count": 38,
   "metadata": {},
   "outputs": [
    {
     "data": {
      "text/plain": [
       "tensor([[[[0.7823, 0.2063, 0.0095, 0.0683],\n",
       "          [0.8922, 0.2927, 0.1696, 2.7878],\n",
       "          [0.0276, 0.3228, 0.3298, 0.3198],\n",
       "          [2.5647, 0.5065, 0.9702, 0.8947]],\n",
       "\n",
       "         [[0.0392, 0.3582, 0.2160, 3.4198],\n",
       "          [0.8534, 1.9802, 0.1567, 0.2568],\n",
       "          [0.4537, 0.8823, 0.3364, 1.0445],\n",
       "          [0.6780, 0.5451, 0.0867, 0.3965]]],\n",
       "\n",
       "\n",
       "        [[[0.6425, 0.7235, 0.5661, 1.0608],\n",
       "          [2.3342, 1.0646, 0.6672, 1.5934],\n",
       "          [0.2526, 1.1051, 0.5492, 3.1297],\n",
       "          [0.2413, 1.3539, 0.3379, 0.2559]],\n",
       "\n",
       "         [[3.3104, 0.1435, 1.2995, 0.5734],\n",
       "          [0.2174, 1.7269, 0.1408, 2.0060],\n",
       "          [0.9964, 1.5716, 0.5305, 0.1205],\n",
       "          [0.6738, 3.1205, 0.1220, 0.1460]]],\n",
       "\n",
       "\n",
       "        [[[1.7042, 1.0730, 2.1240, 0.7719],\n",
       "          [1.3102, 0.6748, 2.4547, 0.0293],\n",
       "          [1.7903, 0.5577, 0.6742, 1.5630],\n",
       "          [0.3216, 1.7247, 0.3671, 0.0150]],\n",
       "\n",
       "         [[0.5907, 0.1029, 0.1509, 0.1721],\n",
       "          [0.2730, 3.0737, 0.4163, 1.1673],\n",
       "          [1.2884, 2.9465, 0.5451, 0.9221],\n",
       "          [0.4770, 0.1545, 0.0900, 0.2500]]]])"
      ]
     },
     "execution_count": 38,
     "metadata": {},
     "output_type": "execute_result"
    }
   ],
   "source": [
    "d.sample()"
   ]
  },
  {
   "cell_type": "code",
   "execution_count": 25,
   "metadata": {},
   "outputs": [
    {
     "data": {
      "text/plain": [
       "torch.Size([3, 2, 2])"
      ]
     },
     "execution_count": 25,
     "metadata": {},
     "output_type": "execute_result"
    }
   ],
   "source": [
    "torch.ones(3).size() + (2,2)"
   ]
  },
  {
   "cell_type": "code",
   "execution_count": null,
   "metadata": {},
   "outputs": [],
   "source": []
  }
 ],
 "metadata": {
  "hide_input": false,
  "kernelspec": {
   "display_name": "Python 3",
   "language": "python",
   "name": "python3"
  },
  "language_info": {
   "codemirror_mode": {
    "name": "ipython",
    "version": 3
   },
   "file_extension": ".py",
   "mimetype": "text/x-python",
   "name": "python",
   "nbconvert_exporter": "python",
   "pygments_lexer": "ipython3",
   "version": "3.7.7"
  }
 },
 "nbformat": 4,
 "nbformat_minor": 4
}
