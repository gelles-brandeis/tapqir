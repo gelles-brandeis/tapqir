{
 "cells": [
  {
   "cell_type": "markdown",
   "metadata": {},
   "source": [
    "## Intensity simulations"
   ]
  },
  {
   "cell_type": "code",
   "execution_count": 4,
   "metadata": {},
   "outputs": [],
   "source": [
    "import numpy as np\n",
    "import pandas as pd\n",
    "import pyro\n",
    "import torch\n",
    "import matplotlib.pyplot as plt\n",
    "from collections import defaultdict\n",
    "from matplotlib.ticker import FormatStrFormatter\n",
    "from pathlib import Path\n",
    "from pyro.ops.stats import hpdi, quantile\n",
    "from pyro.infer import Predictive\n",
    "import pyro.distributions as dist\n",
    "\n",
    "from tapqir.models import Cosmos"
   ]
  },
  {
   "cell_type": "markdown",
   "metadata": {},
   "source": [
    "### Load results"
   ]
  },
  {
   "cell_type": "code",
   "execution_count": 2,
   "metadata": {},
   "outputs": [],
   "source": [
    "EXAMLES_DIR = Path.cwd().resolve().parent.parent.parent / \"examples\" / \"data\""
   ]
  },
  {
   "cell_type": "code",
   "execution_count": 13,
   "metadata": {},
   "outputs": [],
   "source": [
    "D = 14\n",
    "background = 150\n",
    "gain = torch.tensor(7.)\n",
    "width = torch.tensor([1.4])\n",
    "rv = dist.MultivariateNormal(\n",
    "    torch.tensor([(D-1)/2, (D-1)/2]),\n",
    "    scale_tril=torch.eye(2) * width[..., None, None])\n",
    "\n",
    "D_range = torch.arange(D, dtype=torch.float)\n",
    "i_pixel, j_pixel = torch.meshgrid(D_range, D_range)\n",
    "ij_pixel = torch.stack((i_pixel, j_pixel), dim=-1)\n",
    "\n",
    "truth = {}\n",
    "fit = {}\n",
    "predictions = defaultdict(dict)\n",
    "models = {}\n",
    "for data_path in EXAMLES_DIR.iterdir():\n",
    "    if data_path.is_dir() and data_path.name.startswith(\"height\"):\n",
    "        # load results\n",
    "        truth[data_path.name] = pd.read_csv(\n",
    "            data_path / \"simulated_params.csv\",\n",
    "            squeeze=True, index_col=0\n",
    "        ).rename(data_path.name)\n",
    "        \n",
    "        param_path = data_path / \"runs/cosmos/v1.1.6/S1/control/lr0.005/bs4/\"\n",
    "        \n",
    "        fit[data_path.name] = pd.read_csv(\n",
    "            param_path / \"global_params.csv\",\n",
    "            squeeze=True,\n",
    "            index_col=0\n",
    "        ).rename(data_path.name)\n",
    "        fit[data_path.name][\"height\"] = truth[data_path.name][\"height\"]\n",
    "        \n",
    "        models[data_path.name] = Cosmos()\n",
    "        models[data_path.name].load(data_path, True, \"cpu\")\n",
    "        models[data_path.name].load_parameters(param_path)\n",
    "        \n",
    "        # calculate ci\n",
    "        mask = torch.from_numpy(models[data_path.name].data.labels[\"z\"])\n",
    "        samples = torch.masked_select(models[data_path.name].z_marginal, mask)\n",
    "        predictions[data_path.name][\"z_masked\"] = samples\n",
    "        predictions[data_path.name][\"z_all\"] = models[data_path.name].z_marginal.flatten()\n",
    "        low, high = hpdi(samples, 0.68)\n",
    "        median = quantile(samples, 0.5)\n",
    "        fit[data_path.name][\"median\"] = median.item()\n",
    "        fit[data_path.name][\"low\"] = low.item()\n",
    "        fit[data_path.name][\"high\"] = high.item()\n",
    "        \n",
    "        # calculate snr\n",
    "        weights = rv.log_prob(ij_pixel).exp()\n",
    "        signal = (weights ** 2 * truth[data_path.name][\"height\"]).sum()\n",
    "        noise = ((background) * gain).sqrt()\n",
    "        truth[data_path.name][\"snr\"] = float(signal / noise)"
   ]
  },
  {
   "cell_type": "code",
   "execution_count": 14,
   "metadata": {},
   "outputs": [
    {
     "data": {
      "text/html": [
       "<div>\n",
       "<style scoped>\n",
       "    .dataframe tbody tr th:only-of-type {\n",
       "        vertical-align: middle;\n",
       "    }\n",
       "\n",
       "    .dataframe tbody tr th {\n",
       "        vertical-align: top;\n",
       "    }\n",
       "\n",
       "    .dataframe thead th {\n",
       "        text-align: right;\n",
       "    }\n",
       "</style>\n",
       "<table border=\"1\" class=\"dataframe\">\n",
       "  <thead>\n",
       "    <tr style=\"text-align: right;\">\n",
       "      <th></th>\n",
       "      <th>gain</th>\n",
       "      <th>probs_z</th>\n",
       "      <th>rate_j</th>\n",
       "      <th>proximity</th>\n",
       "      <th>offset</th>\n",
       "      <th>height</th>\n",
       "      <th>background</th>\n",
       "      <th>snr</th>\n",
       "    </tr>\n",
       "  </thead>\n",
       "  <tbody>\n",
       "    <tr>\n",
       "      <th>height300</th>\n",
       "      <td>7.0</td>\n",
       "      <td>0.15</td>\n",
       "      <td>0.15</td>\n",
       "      <td>0.2</td>\n",
       "      <td>90.0</td>\n",
       "      <td>300.0</td>\n",
       "      <td>150.0</td>\n",
       "      <td>0.375890</td>\n",
       "    </tr>\n",
       "    <tr>\n",
       "      <th>height500</th>\n",
       "      <td>7.0</td>\n",
       "      <td>0.15</td>\n",
       "      <td>0.15</td>\n",
       "      <td>0.2</td>\n",
       "      <td>90.0</td>\n",
       "      <td>500.0</td>\n",
       "      <td>150.0</td>\n",
       "      <td>0.626483</td>\n",
       "    </tr>\n",
       "    <tr>\n",
       "      <th>height600</th>\n",
       "      <td>7.0</td>\n",
       "      <td>0.15</td>\n",
       "      <td>0.15</td>\n",
       "      <td>0.2</td>\n",
       "      <td>90.0</td>\n",
       "      <td>600.0</td>\n",
       "      <td>150.0</td>\n",
       "      <td>0.751780</td>\n",
       "    </tr>\n",
       "    <tr>\n",
       "      <th>height750</th>\n",
       "      <td>7.0</td>\n",
       "      <td>0.15</td>\n",
       "      <td>0.15</td>\n",
       "      <td>0.2</td>\n",
       "      <td>90.0</td>\n",
       "      <td>750.0</td>\n",
       "      <td>150.0</td>\n",
       "      <td>0.939725</td>\n",
       "    </tr>\n",
       "    <tr>\n",
       "      <th>height1000</th>\n",
       "      <td>7.0</td>\n",
       "      <td>0.15</td>\n",
       "      <td>0.15</td>\n",
       "      <td>0.2</td>\n",
       "      <td>90.0</td>\n",
       "      <td>1000.0</td>\n",
       "      <td>150.0</td>\n",
       "      <td>1.252966</td>\n",
       "    </tr>\n",
       "    <tr>\n",
       "      <th>height1500</th>\n",
       "      <td>7.0</td>\n",
       "      <td>0.15</td>\n",
       "      <td>0.15</td>\n",
       "      <td>0.2</td>\n",
       "      <td>90.0</td>\n",
       "      <td>1500.0</td>\n",
       "      <td>150.0</td>\n",
       "      <td>1.879450</td>\n",
       "    </tr>\n",
       "    <tr>\n",
       "      <th>height2000</th>\n",
       "      <td>7.0</td>\n",
       "      <td>0.15</td>\n",
       "      <td>0.15</td>\n",
       "      <td>0.2</td>\n",
       "      <td>90.0</td>\n",
       "      <td>2000.0</td>\n",
       "      <td>150.0</td>\n",
       "      <td>2.505933</td>\n",
       "    </tr>\n",
       "    <tr>\n",
       "      <th>height3000</th>\n",
       "      <td>7.0</td>\n",
       "      <td>0.15</td>\n",
       "      <td>0.15</td>\n",
       "      <td>0.2</td>\n",
       "      <td>90.0</td>\n",
       "      <td>3000.0</td>\n",
       "      <td>150.0</td>\n",
       "      <td>3.758900</td>\n",
       "    </tr>\n",
       "  </tbody>\n",
       "</table>\n",
       "</div>"
      ],
      "text/plain": [
       "            gain  probs_z  rate_j  proximity  offset  height  background  \\\n",
       "height300    7.0     0.15    0.15        0.2    90.0   300.0       150.0   \n",
       "height500    7.0     0.15    0.15        0.2    90.0   500.0       150.0   \n",
       "height600    7.0     0.15    0.15        0.2    90.0   600.0       150.0   \n",
       "height750    7.0     0.15    0.15        0.2    90.0   750.0       150.0   \n",
       "height1000   7.0     0.15    0.15        0.2    90.0  1000.0       150.0   \n",
       "height1500   7.0     0.15    0.15        0.2    90.0  1500.0       150.0   \n",
       "height2000   7.0     0.15    0.15        0.2    90.0  2000.0       150.0   \n",
       "height3000   7.0     0.15    0.15        0.2    90.0  3000.0       150.0   \n",
       "\n",
       "                 snr  \n",
       "height300   0.375890  \n",
       "height500   0.626483  \n",
       "height600   0.751780  \n",
       "height750   0.939725  \n",
       "height1000  1.252966  \n",
       "height1500  1.879450  \n",
       "height2000  2.505933  \n",
       "height3000  3.758900  "
      ]
     },
     "execution_count": 14,
     "metadata": {},
     "output_type": "execute_result"
    }
   ],
   "source": [
    "truth_df = pd.concat(truth.values(), axis=1).T\n",
    "truth_df = truth_df.sort_values(by=\"height\")\n",
    "truth_df"
   ]
  },
  {
   "cell_type": "code",
   "execution_count": 15,
   "metadata": {},
   "outputs": [
    {
     "data": {
      "text/html": [
       "<div>\n",
       "<style scoped>\n",
       "    .dataframe tbody tr th:only-of-type {\n",
       "        vertical-align: middle;\n",
       "    }\n",
       "\n",
       "    .dataframe tbody tr th {\n",
       "        vertical-align: top;\n",
       "    }\n",
       "\n",
       "    .dataframe thead th {\n",
       "        text-align: right;\n",
       "    }\n",
       "</style>\n",
       "<table border=\"1\" class=\"dataframe\">\n",
       "  <thead>\n",
       "    <tr style=\"text-align: right;\">\n",
       "      <th></th>\n",
       "      <th>-ELBO</th>\n",
       "      <th>proximity_0</th>\n",
       "      <th>gain</th>\n",
       "      <th>probs_z_0</th>\n",
       "      <th>probs_z_1</th>\n",
       "      <th>rate_j</th>\n",
       "      <th>MCC</th>\n",
       "      <th>Recall</th>\n",
       "      <th>Precision</th>\n",
       "      <th>FN</th>\n",
       "      <th>TP</th>\n",
       "      <th>TN</th>\n",
       "      <th>FP</th>\n",
       "      <th>median</th>\n",
       "      <th>low</th>\n",
       "      <th>high</th>\n",
       "    </tr>\n",
       "  </thead>\n",
       "  <tbody>\n",
       "    <tr>\n",
       "      <th>height300</th>\n",
       "      <td>4833945.5</td>\n",
       "      <td>0.155404</td>\n",
       "      <td>7.052951</td>\n",
       "      <td>0.999984</td>\n",
       "      <td>0.000016</td>\n",
       "      <td>1.604455e-07</td>\n",
       "      <td>0.000000</td>\n",
       "      <td>0.000000</td>\n",
       "      <td>0.000000</td>\n",
       "      <td>383.0</td>\n",
       "      <td>0.0</td>\n",
       "      <td>2117.0</td>\n",
       "      <td>0.0</td>\n",
       "      <td>0.000105</td>\n",
       "      <td>0.000061</td>\n",
       "      <td>0.000168</td>\n",
       "    </tr>\n",
       "    <tr>\n",
       "      <th>height500</th>\n",
       "      <td>4823387.0</td>\n",
       "      <td>0.210942</td>\n",
       "      <td>7.082563</td>\n",
       "      <td>0.975732</td>\n",
       "      <td>0.024268</td>\n",
       "      <td>4.904570e-05</td>\n",
       "      <td>0.348376</td>\n",
       "      <td>0.143603</td>\n",
       "      <td>0.982143</td>\n",
       "      <td>328.0</td>\n",
       "      <td>55.0</td>\n",
       "      <td>2116.0</td>\n",
       "      <td>1.0</td>\n",
       "      <td>0.025636</td>\n",
       "      <td>0.000083</td>\n",
       "      <td>0.095273</td>\n",
       "    </tr>\n",
       "    <tr>\n",
       "      <th>height600</th>\n",
       "      <td>4816250.0</td>\n",
       "      <td>0.265640</td>\n",
       "      <td>7.094440</td>\n",
       "      <td>0.941537</td>\n",
       "      <td>0.058463</td>\n",
       "      <td>2.236452e-03</td>\n",
       "      <td>0.561831</td>\n",
       "      <td>0.368146</td>\n",
       "      <td>0.965753</td>\n",
       "      <td>242.0</td>\n",
       "      <td>141.0</td>\n",
       "      <td>2112.0</td>\n",
       "      <td>5.0</td>\n",
       "      <td>0.227865</td>\n",
       "      <td>0.000082</td>\n",
       "      <td>0.590299</td>\n",
       "    </tr>\n",
       "    <tr>\n",
       "      <th>height750</th>\n",
       "      <td>4812807.0</td>\n",
       "      <td>0.271114</td>\n",
       "      <td>7.069738</td>\n",
       "      <td>0.887020</td>\n",
       "      <td>0.112980</td>\n",
       "      <td>1.795804e-02</td>\n",
       "      <td>0.803128</td>\n",
       "      <td>0.715405</td>\n",
       "      <td>0.958042</td>\n",
       "      <td>109.0</td>\n",
       "      <td>274.0</td>\n",
       "      <td>2105.0</td>\n",
       "      <td>12.0</td>\n",
       "      <td>0.944875</td>\n",
       "      <td>0.583767</td>\n",
       "      <td>0.999209</td>\n",
       "    </tr>\n",
       "    <tr>\n",
       "      <th>height1000</th>\n",
       "      <td>6644535.5</td>\n",
       "      <td>0.284495</td>\n",
       "      <td>7.112312</td>\n",
       "      <td>0.841972</td>\n",
       "      <td>0.158028</td>\n",
       "      <td>2.958565e-02</td>\n",
       "      <td>0.957841</td>\n",
       "      <td>0.984334</td>\n",
       "      <td>0.944862</td>\n",
       "      <td>6.0</td>\n",
       "      <td>377.0</td>\n",
       "      <td>2095.0</td>\n",
       "      <td>22.0</td>\n",
       "      <td>0.992440</td>\n",
       "      <td>0.991840</td>\n",
       "      <td>0.993170</td>\n",
       "    </tr>\n",
       "    <tr>\n",
       "      <th>height1500</th>\n",
       "      <td>4815398.5</td>\n",
       "      <td>0.226648</td>\n",
       "      <td>7.039655</td>\n",
       "      <td>0.847183</td>\n",
       "      <td>0.152817</td>\n",
       "      <td>1.288471e-01</td>\n",
       "      <td>0.979981</td>\n",
       "      <td>0.984334</td>\n",
       "      <td>0.981771</td>\n",
       "      <td>6.0</td>\n",
       "      <td>377.0</td>\n",
       "      <td>2110.0</td>\n",
       "      <td>7.0</td>\n",
       "      <td>0.995111</td>\n",
       "      <td>0.994261</td>\n",
       "      <td>0.996052</td>\n",
       "    </tr>\n",
       "    <tr>\n",
       "      <th>height2000</th>\n",
       "      <td>4820185.0</td>\n",
       "      <td>0.217597</td>\n",
       "      <td>7.029237</td>\n",
       "      <td>0.846243</td>\n",
       "      <td>0.153757</td>\n",
       "      <td>1.372369e-01</td>\n",
       "      <td>0.983025</td>\n",
       "      <td>0.984334</td>\n",
       "      <td>0.986911</td>\n",
       "      <td>6.0</td>\n",
       "      <td>377.0</td>\n",
       "      <td>2112.0</td>\n",
       "      <td>5.0</td>\n",
       "      <td>0.995029</td>\n",
       "      <td>0.993988</td>\n",
       "      <td>0.995983</td>\n",
       "    </tr>\n",
       "    <tr>\n",
       "      <th>height3000</th>\n",
       "      <td>4831345.0</td>\n",
       "      <td>0.208446</td>\n",
       "      <td>7.012884</td>\n",
       "      <td>0.846592</td>\n",
       "      <td>0.153408</td>\n",
       "      <td>1.394771e-01</td>\n",
       "      <td>0.989198</td>\n",
       "      <td>0.989556</td>\n",
       "      <td>0.992147</td>\n",
       "      <td>4.0</td>\n",
       "      <td>379.0</td>\n",
       "      <td>2114.0</td>\n",
       "      <td>3.0</td>\n",
       "      <td>0.996512</td>\n",
       "      <td>0.995493</td>\n",
       "      <td>0.998089</td>\n",
       "    </tr>\n",
       "  </tbody>\n",
       "</table>\n",
       "</div>"
      ],
      "text/plain": [
       "                -ELBO  proximity_0      gain  probs_z_0  probs_z_1  \\\n",
       "height300   4833945.5     0.155404  7.052951   0.999984   0.000016   \n",
       "height500   4823387.0     0.210942  7.082563   0.975732   0.024268   \n",
       "height600   4816250.0     0.265640  7.094440   0.941537   0.058463   \n",
       "height750   4812807.0     0.271114  7.069738   0.887020   0.112980   \n",
       "height1000  6644535.5     0.284495  7.112312   0.841972   0.158028   \n",
       "height1500  4815398.5     0.226648  7.039655   0.847183   0.152817   \n",
       "height2000  4820185.0     0.217597  7.029237   0.846243   0.153757   \n",
       "height3000  4831345.0     0.208446  7.012884   0.846592   0.153408   \n",
       "\n",
       "                  rate_j       MCC    Recall  Precision     FN     TP      TN  \\\n",
       "height300   1.604455e-07  0.000000  0.000000   0.000000  383.0    0.0  2117.0   \n",
       "height500   4.904570e-05  0.348376  0.143603   0.982143  328.0   55.0  2116.0   \n",
       "height600   2.236452e-03  0.561831  0.368146   0.965753  242.0  141.0  2112.0   \n",
       "height750   1.795804e-02  0.803128  0.715405   0.958042  109.0  274.0  2105.0   \n",
       "height1000  2.958565e-02  0.957841  0.984334   0.944862    6.0  377.0  2095.0   \n",
       "height1500  1.288471e-01  0.979981  0.984334   0.981771    6.0  377.0  2110.0   \n",
       "height2000  1.372369e-01  0.983025  0.984334   0.986911    6.0  377.0  2112.0   \n",
       "height3000  1.394771e-01  0.989198  0.989556   0.992147    4.0  379.0  2114.0   \n",
       "\n",
       "              FP    median       low      high  \n",
       "height300    0.0  0.000105  0.000061  0.000168  \n",
       "height500    1.0  0.025636  0.000083  0.095273  \n",
       "height600    5.0  0.227865  0.000082  0.590299  \n",
       "height750   12.0  0.944875  0.583767  0.999209  \n",
       "height1000  22.0  0.992440  0.991840  0.993170  \n",
       "height1500   7.0  0.995111  0.994261  0.996052  \n",
       "height2000   5.0  0.995029  0.993988  0.995983  \n",
       "height3000   3.0  0.996512  0.995493  0.998089  "
      ]
     },
     "execution_count": 15,
     "metadata": {},
     "output_type": "execute_result"
    }
   ],
   "source": [
    "fit_df = pd.concat(fit.values(), axis=1).T\n",
    "fit_df = fit_df.sort_values(by=\"height\").drop(\n",
    "    [\"width_mean_0\", \"width_size_0\", \"height_scale\", \"height\"],\n",
    "    axis=1\n",
    ")\n",
    "fit_df"
   ]
  },
  {
   "cell_type": "code",
   "execution_count": 19,
   "metadata": {},
   "outputs": [
    {
     "data": {
      "text/html": [
       "<div>\n",
       "<style scoped>\n",
       "    .dataframe tbody tr th:only-of-type {\n",
       "        vertical-align: middle;\n",
       "    }\n",
       "\n",
       "    .dataframe tbody tr th {\n",
       "        vertical-align: top;\n",
       "    }\n",
       "\n",
       "    .dataframe thead th {\n",
       "        text-align: right;\n",
       "    }\n",
       "</style>\n",
       "<table border=\"1\" class=\"dataframe\">\n",
       "  <thead>\n",
       "    <tr style=\"text-align: right;\">\n",
       "      <th></th>\n",
       "      <th>gain</th>\n",
       "      <th>probs_z</th>\n",
       "      <th>rate_j</th>\n",
       "      <th>proximity</th>\n",
       "      <th>offset</th>\n",
       "      <th>height</th>\n",
       "      <th>background</th>\n",
       "      <th>snr</th>\n",
       "    </tr>\n",
       "  </thead>\n",
       "  <tbody>\n",
       "    <tr>\n",
       "      <th>height300</th>\n",
       "      <td>7.0</td>\n",
       "      <td>0.15</td>\n",
       "      <td>0.15</td>\n",
       "      <td>0.2</td>\n",
       "      <td>90.0</td>\n",
       "      <td>300.0</td>\n",
       "      <td>150.0</td>\n",
       "      <td>0.375890</td>\n",
       "    </tr>\n",
       "    <tr>\n",
       "      <th>height500</th>\n",
       "      <td>7.0</td>\n",
       "      <td>0.15</td>\n",
       "      <td>0.15</td>\n",
       "      <td>0.2</td>\n",
       "      <td>90.0</td>\n",
       "      <td>500.0</td>\n",
       "      <td>150.0</td>\n",
       "      <td>0.626483</td>\n",
       "    </tr>\n",
       "    <tr>\n",
       "      <th>height600</th>\n",
       "      <td>7.0</td>\n",
       "      <td>0.15</td>\n",
       "      <td>0.15</td>\n",
       "      <td>0.2</td>\n",
       "      <td>90.0</td>\n",
       "      <td>600.0</td>\n",
       "      <td>150.0</td>\n",
       "      <td>0.751780</td>\n",
       "    </tr>\n",
       "    <tr>\n",
       "      <th>height750</th>\n",
       "      <td>7.0</td>\n",
       "      <td>0.15</td>\n",
       "      <td>0.15</td>\n",
       "      <td>0.2</td>\n",
       "      <td>90.0</td>\n",
       "      <td>750.0</td>\n",
       "      <td>150.0</td>\n",
       "      <td>0.939725</td>\n",
       "    </tr>\n",
       "    <tr>\n",
       "      <th>height1000</th>\n",
       "      <td>7.0</td>\n",
       "      <td>0.15</td>\n",
       "      <td>0.15</td>\n",
       "      <td>0.2</td>\n",
       "      <td>90.0</td>\n",
       "      <td>1000.0</td>\n",
       "      <td>150.0</td>\n",
       "      <td>1.252966</td>\n",
       "    </tr>\n",
       "    <tr>\n",
       "      <th>height1500</th>\n",
       "      <td>7.0</td>\n",
       "      <td>0.15</td>\n",
       "      <td>0.15</td>\n",
       "      <td>0.2</td>\n",
       "      <td>90.0</td>\n",
       "      <td>1500.0</td>\n",
       "      <td>150.0</td>\n",
       "      <td>1.879450</td>\n",
       "    </tr>\n",
       "    <tr>\n",
       "      <th>height2000</th>\n",
       "      <td>7.0</td>\n",
       "      <td>0.15</td>\n",
       "      <td>0.15</td>\n",
       "      <td>0.2</td>\n",
       "      <td>90.0</td>\n",
       "      <td>2000.0</td>\n",
       "      <td>150.0</td>\n",
       "      <td>2.505933</td>\n",
       "    </tr>\n",
       "    <tr>\n",
       "      <th>height3000</th>\n",
       "      <td>7.0</td>\n",
       "      <td>0.15</td>\n",
       "      <td>0.15</td>\n",
       "      <td>0.2</td>\n",
       "      <td>90.0</td>\n",
       "      <td>3000.0</td>\n",
       "      <td>150.0</td>\n",
       "      <td>3.758900</td>\n",
       "    </tr>\n",
       "  </tbody>\n",
       "</table>\n",
       "</div>"
      ],
      "text/plain": [
       "            gain  probs_z  rate_j  proximity  offset  height  background  \\\n",
       "height300    7.0     0.15    0.15        0.2    90.0   300.0       150.0   \n",
       "height500    7.0     0.15    0.15        0.2    90.0   500.0       150.0   \n",
       "height600    7.0     0.15    0.15        0.2    90.0   600.0       150.0   \n",
       "height750    7.0     0.15    0.15        0.2    90.0   750.0       150.0   \n",
       "height1000   7.0     0.15    0.15        0.2    90.0  1000.0       150.0   \n",
       "height1500   7.0     0.15    0.15        0.2    90.0  1500.0       150.0   \n",
       "height2000   7.0     0.15    0.15        0.2    90.0  2000.0       150.0   \n",
       "height3000   7.0     0.15    0.15        0.2    90.0  3000.0       150.0   \n",
       "\n",
       "                 snr  \n",
       "height300   0.375890  \n",
       "height500   0.626483  \n",
       "height600   0.751780  \n",
       "height750   0.939725  \n",
       "height1000  1.252966  \n",
       "height1500  1.879450  \n",
       "height2000  2.505933  \n",
       "height3000  3.758900  "
      ]
     },
     "execution_count": 19,
     "metadata": {},
     "output_type": "execute_result"
    }
   ],
   "source": [
    "truth_df"
   ]
  },
  {
   "cell_type": "markdown",
   "metadata": {},
   "source": [
    "### Figure 4"
   ]
  },
  {
   "cell_type": "code",
   "execution_count": 45,
   "metadata": {},
   "outputs": [
    {
     "data": {
      "image/png": "[encoded data removed]",
      "text/plain": [
       "<Figure size 108x108 with 1 Axes>"
      ]
     },
     "metadata": {
      "needs_background": "light"
     },
     "output_type": "display_data"
    },
    {
     "data": {
      "image/png": "[encoded data removed]",
      "text/plain": [
       "<Figure size 108x108 with 1 Axes>"
      ]
     },
     "metadata": {
      "needs_background": "light"
     },
     "output_type": "display_data"
    },
    {
     "data": {
      "image/png": "[encoded data removed]",
      "text/plain": [
       "<Figure size 108x108 with 1 Axes>"
      ]
     },
     "metadata": {
      "needs_background": "light"
     },
     "output_type": "display_data"
    },
    {
     "data": {
      "image/png": "[encoded data removed]",
      "text/plain": [
       "<Figure size 108x108 with 1 Axes>"
      ]
     },
     "metadata": {
      "needs_background": "light"
     },
     "output_type": "display_data"
    },
    {
     "data": {
      "image/png": "[encoded data removed]",
      "text/plain": [
       "<Figure size 108x108 with 1 Axes>"
      ]
     },
     "metadata": {
      "needs_background": "light"
     },
     "output_type": "display_data"
    },
    {
     "data": {
      "image/png": "[encoded data removed]",
      "text/plain": [
       "<Figure size 108x108 with 1 Axes>"
      ]
     },
     "metadata": {
      "needs_background": "light"
     },
     "output_type": "display_data"
    },
    {
     "data": {
      "image/png": "[encoded data removed]",
      "text/plain": [
       "<Figure size 108x108 with 1 Axes>"
      ]
     },
     "metadata": {
      "needs_background": "light"
     },
     "output_type": "display_data"
    },
    {
     "data": {
      "image/png": "[encoded data removed]",
      "text/plain": [
       "<Figure size 108x108 with 1 Axes>"
      ]
     },
     "metadata": {
      "needs_background": "light"
     },
     "output_type": "display_data"
    }
   ],
   "source": [
    "for name in fit_df.index:\n",
    "    plt.figure(figsize=(1.5, 1.5))\n",
    "    plt.hist(predictions[name][\"z_all\"].numpy(),\n",
    "             bins=20, histtype=\"step\", lw=2, color=\"k\",\n",
    "             label=f\"{truth_df.loc[name, 'snr']:.2f} SNR\")\n",
    "    plt.yscale(\"log\")\n",
    "    plt.xlim(-0.05,1.05)\n",
    "    plt.ylim(1e-1, 5e3)\n",
    "    plt.xticks([0, 0.5, 1], fontsize=8)\n",
    "    plt.yticks(fontsize=8)\n",
    "    plt.ylabel(\"counts\", fontsize=8)\n",
    "    plt.xlabel(\"probability\", fontsize=8)\n",
    "    plt.gca().xaxis.set_major_formatter(FormatStrFormatter('%g'))\n",
    "    plt.legend(loc=\"upper center\", fontsize=8)\n",
    "    plt.savefig(f\"/tmp/snr-logdensity{name}.svg\")\n",
    "    plt.show()"
   ]
  },
  {
   "cell_type": "code",
   "execution_count": 47,
   "metadata": {},
   "outputs": [
    {
     "data": {
      "image/png": "[encoded data removed]",
      "text/plain": [
       "<Figure size 108x108 with 1 Axes>"
      ]
     },
     "metadata": {
      "needs_background": "light"
     },
     "output_type": "display_data"
    },
    {
     "data": {
      "image/png": "[encoded data removed]",
      "text/plain": [
       "<Figure size 108x108 with 1 Axes>"
      ]
     },
     "metadata": {
      "needs_background": "light"
     },
     "output_type": "display_data"
    },
    {
     "data": {
      "image/png": "[encoded data removed]",
      "text/plain": [
       "<Figure size 108x108 with 1 Axes>"
      ]
     },
     "metadata": {
      "needs_background": "light"
     },
     "output_type": "display_data"
    },
    {
     "data": {
      "image/png": "[encoded data removed]",
      "text/plain": [
       "<Figure size 108x108 with 1 Axes>"
      ]
     },
     "metadata": {
      "needs_background": "light"
     },
     "output_type": "display_data"
    },
    {
     "data": {
      "image/png": "[encoded data removed]",
      "text/plain": [
       "<Figure size 108x108 with 1 Axes>"
      ]
     },
     "metadata": {
      "needs_background": "light"
     },
     "output_type": "display_data"
    },
    {
     "data": {
      "image/png": "[encoded data removed]",
      "text/plain": [
       "<Figure size 108x108 with 1 Axes>"
      ]
     },
     "metadata": {
      "needs_background": "light"
     },
     "output_type": "display_data"
    },
    {
     "data": {
      "image/png": "[encoded data removed]",
      "text/plain": [
       "<Figure size 108x108 with 1 Axes>"
      ]
     },
     "metadata": {
      "needs_background": "light"
     },
     "output_type": "display_data"
    },
    {
     "data": {
      "image/png": "[encoded data removed]",
      "text/plain": [
       "<Figure size 108x108 with 1 Axes>"
      ]
     },
     "metadata": {
      "needs_background": "light"
     },
     "output_type": "display_data"
    }
   ],
   "source": [
    "for name in fit_df.index:\n",
    "    plt.figure(figsize=(1.5, 1.5))\n",
    "    plt.hist(predictions[name][\"z_all\"].numpy(),\n",
    "             bins=30, histtype=\"step\", lw=2, color=f\"k\",\n",
    "             label=f\"{truth_df.loc[name, 'snr']:.2f} SNR\")\n",
    "    plt.xlim(-0.05,1.05)\n",
    "    plt.ylim(0, 3000)\n",
    "    plt.xticks([0, 0.5, 1], fontsize=8)\n",
    "    plt.yticks(fontsize=8)\n",
    "    plt.ylabel(\"counts\", fontsize=8)\n",
    "    plt.xlabel(\"probability\", fontsize=8)\n",
    "    plt.gca().xaxis.set_major_formatter(FormatStrFormatter('%g'))\n",
    "    plt.legend(loc=\"upper center\", fontsize=8)\n",
    "    plt.savefig(f\"/tmp/snr-density{name}.svg\")\n",
    "    plt.show()"
   ]
  },
  {
   "cell_type": "code",
   "execution_count": 28,
   "metadata": {},
   "outputs": [
    {
     "data": {
      "image/png": "[encoded data removed]",
      "text/plain": [
       "<Figure size 108x108 with 1 Axes>"
      ]
     },
     "metadata": {
      "needs_background": "light"
     },
     "output_type": "display_data"
    }
   ],
   "source": [
    "plt.figure(figsize=(1.5, 1.5))\n",
    "plt.errorbar(truth_df[\"snr\"], fit_df[\"median\"],\n",
    "             yerr=abs(fit_df[[\"low\", \"high\"]].values.T-fit_df[\"median\"].values),\n",
    "             fmt=\"o-\", ms=3, color=\"C7\", mfc=\"k\", mec=\"k\", ecolor=\"k\", capsize=2)\n",
    "plt.xlim(0, 4)\n",
    "plt.ylim(0, 1.03)\n",
    "plt.xticks([0, 1, 2, 3, 4], fontsize=8)\n",
    "plt.yticks(fontsize=8)\n",
    "plt.xlabel(\"SNR\", fontsize=8)\n",
    "plt.ylabel(\"Probability\", fontsize=8)\n",
    "plt.gca().yaxis.set_major_formatter(FormatStrFormatter('%g'))\n",
    "plt.savefig(\"/tmp/snr-errorbar.svg\")\n",
    "plt.show()"
   ]
  },
  {
   "cell_type": "code",
   "execution_count": 29,
   "metadata": {},
   "outputs": [
    {
     "data": {
      "image/png": "[encoded data removed]",
      "text/plain": [
       "<Figure size 108x108 with 1 Axes>"
      ]
     },
     "metadata": {
      "needs_background": "light"
     },
     "output_type": "display_data"
    }
   ],
   "source": [
    "plt.figure(figsize=(1.5, 1.5))\n",
    "plt.plot(truth_df[\"snr\"], fit_df[\"MCC\"], \"o-\", ms=3, label=\"MCC\")\n",
    "plt.plot(truth_df[\"snr\"], fit_df[\"Recall\"], \"o-\", ms=3, label=\"Recall\")\n",
    "plt.plot(truth_df[\"snr\"], fit_df[\"Precision\"], \"o-\", ms=3, label=\"Precision\")\n",
    "plt.xlim(0, 4)\n",
    "plt.ylim(0, 1.03)\n",
    "plt.xticks(fontsize=8)\n",
    "plt.yticks(fontsize=8)\n",
    "plt.xlabel(\"SNR\", fontsize=8)\n",
    "plt.ylabel(\"Accuracy\", fontsize=8)\n",
    "plt.gca().yaxis.set_major_formatter(FormatStrFormatter('%g'))\n",
    "plt.legend(fontsize=8)\n",
    "plt.savefig(\"/tmp/snr-mcc.svg\")\n",
    "plt.show()"
   ]
  },
  {
   "cell_type": "code",
   "execution_count": 30,
   "metadata": {},
   "outputs": [
    {
     "data": {
      "image/png": "[encoded data removed]",
      "text/plain": [
       "<Figure size 432x216 with 8 Axes>"
      ]
     },
     "metadata": {},
     "output_type": "display_data"
    }
   ],
   "source": [
    "plt.figure(figsize=(6,3))\n",
    "for i, name in enumerate(truth_df.index):\n",
    "    plt.subplot(1, len(truth_df), i+1)\n",
    "    plt.xticks([], [])\n",
    "    plt.yticks([], [])\n",
    "    plt.title(f\"{truth_df.loc[name, 'snr']:.2f}\", fontsize=8)\n",
    "    plt.imshow(models[name].data[0, 1].numpy(), vmin=190, vmax=380, cmap=\"gray\")\n",
    "plt.savefig(\"/tmp/snr-images.png\", dpi=600)\n",
    "plt.show()"
   ]
  },
  {
   "cell_type": "markdown",
   "metadata": {},
   "source": [
    "### Figure 5"
   ]
  },
  {
   "cell_type": "code",
   "execution_count": 31,
   "metadata": {},
   "outputs": [],
   "source": [
    "data_path = EXAMLES_DIR / \"height3000\"\n",
    "param_path = data_path / \"runs/cosmos/v1.1.6/S1/control/lr0.005/bs4/\"\n",
    "model = Cosmos()\n",
    "model.load(data_path, True, \"cpu\")\n",
    "model.load_parameters(param_path)\n",
    "#model.n = None\n",
    "predictive = Predictive(pyro.poutine.uncondition(model.model), guide=model.guide, num_samples=1)\n",
    "samples = predictive()"
   ]
  },
  {
   "cell_type": "code",
   "execution_count": 32,
   "metadata": {},
   "outputs": [
    {
     "data": {
      "image/png": "[encoded data removed]",
      "text/plain": [
       "<Figure size 252x43.2 with 6 Axes>"
      ]
     },
     "metadata": {},
     "output_type": "display_data"
    }
   ],
   "source": [
    "aois = [1, 1, 1, 1, 1, 1]\n",
    "frames = [20, 31, 43, 29, 39, 42]\n",
    "\n",
    "plt.figure(figsize=(3.5, 0.6))\n",
    "for i, n, f in zip(np.arange(6), aois, frames):\n",
    "    plt.subplot(1, 6, i+1)\n",
    "    plt.title(f\"{n}\\n{f}\", fontsize=8)\n",
    "    plt.hist(\n",
    "        model.data[n, f].flatten().numpy(),\n",
    "        range=(model.data.vmin-20, model.data.vmax+150),\n",
    "        density=True, bins=10, histtype=\"step\", lw=0.5, label=\"data\")\n",
    "    plt.hist(\n",
    "        samples[\"d/data\"][0, n, f].flatten().numpy(),\n",
    "        range=(model.data.vmin-10, model.data.vmax+150),\n",
    "        density=True, bins=20, histtype=\"step\", lw=0.5, label=\"posterior\")\n",
    "    plt.xlim(120, model.data.vmax+150)\n",
    "    plt.xticks([], [])\n",
    "    plt.yticks([], [])\n",
    "\n",
    "# plt.tight_layout()\n",
    "plt.savefig(\"/tmp/height-hist.svg\")\n",
    "\n",
    "plt.show()"
   ]
  },
  {
   "cell_type": "code",
   "execution_count": 34,
   "metadata": {},
   "outputs": [
    {
     "data": {
      "image/png": "[encoded data removed]",
      "text/plain": [
       "<Figure size 252x72 with 6 Axes>"
      ]
     },
     "metadata": {},
     "output_type": "display_data"
    }
   ],
   "source": [
    "plt.figure(figsize=(3.5, 1))\n",
    "for i, n, f in zip(np.arange(6), aois, frames):\n",
    "    plt.subplot(1, 6, i+1)\n",
    "    \n",
    "    plt.imshow(model.data[n, f].numpy(), vmin=120, vmax=model.data.vmax+150, cmap=\"gray\")\n",
    "    plt.xticks([], [])\n",
    "    plt.yticks([], [])\n",
    "\n",
    "plt.savefig(\"/tmp/height-data.png\", dpi=600)\n",
    "\n",
    "plt.show()"
   ]
  },
  {
   "cell_type": "code",
   "execution_count": 35,
   "metadata": {},
   "outputs": [
    {
     "data": {
      "image/png": "[encoded data removed]",
      "text/plain": [
       "<Figure size 252x72 with 6 Axes>"
      ]
     },
     "metadata": {},
     "output_type": "display_data"
    }
   ],
   "source": [
    "plt.figure(figsize=(3.5, 1))\n",
    "for i, n, f in zip(np.arange(6), aois, frames):\n",
    "    plt.subplot(1, 6, i+1)\n",
    "    plt.imshow(samples[\"d/data\"][0, n, f].numpy(), vmin=120, vmax=model.data.vmax+150, cmap=\"gray\")\n",
    "    plt.xticks([], [])\n",
    "    plt.yticks([], [])\n",
    "\n",
    "# plt.tight_layout()\n",
    "plt.savefig(\"/tmp/height-sample.png\", dpi=600)\n",
    "\n",
    "plt.show()"
   ]
  },
  {
   "cell_type": "code",
   "execution_count": 36,
   "metadata": {},
   "outputs": [
    {
     "data": {
      "image/png": "[encoded data removed]",
      "text/plain": [
       "<Figure size 50.4x50.4 with 2 Axes>"
      ]
     },
     "metadata": {
      "needs_background": "light"
     },
     "output_type": "display_data"
    }
   ],
   "source": [
    "plt.figure(figsize=(0.7, 0.7))\n",
    "\n",
    "plt.imshow(model.data[n, f].numpy(), vmin=120, vmax=model.data.vmax+150, cmap=\"gray\")\n",
    "plt.xticks([], [])\n",
    "plt.yticks([], [])\n",
    "\n",
    "plt.colorbar(aspect=7, shrink=0.8)\n",
    "plt.savefig(\"/tmp/height-colorbar.svg\")\n",
    "\n",
    "plt.show()"
   ]
  },
  {
   "cell_type": "markdown",
   "metadata": {},
   "source": [
    "### Analysis"
   ]
  },
  {
   "cell_type": "code",
   "execution_count": 38,
   "metadata": {},
   "outputs": [
    {
     "data": {
      "image/png": "[encoded data removed]",
      "text/plain": [
       "<Figure size 144x144 with 1 Axes>"
      ]
     },
     "metadata": {
      "needs_background": "light"
     },
     "output_type": "display_data"
    }
   ],
   "source": [
    "plt.figure(figsize=(2, 2))\n",
    "plt.plot(truth_df[\"snr\"].sort_values(), truth_df[\"gain\"].sort_values(), \"k--\")\n",
    "plt.scatter(truth_df[\"snr\"], fit_df[\"gain\"], s=20)\n",
    "plt.ylim(0, 20)\n",
    "plt.xlim(0, 4)\n",
    "plt.xticks([0, 1, 2, 3, 4], fontsize=8)\n",
    "plt.yticks(fontsize=8)\n",
    "plt.xlabel(r\"intensity\", fontsize=8)\n",
    "plt.ylabel(r\"gain (fitted)\", fontsize=8)\n",
    "plt.show()"
   ]
  },
  {
   "cell_type": "code",
   "execution_count": 40,
   "metadata": {},
   "outputs": [
    {
     "data": {
      "image/png": "[encoded data removed]",
      "text/plain": [
       "<Figure size 144x144 with 1 Axes>"
      ]
     },
     "metadata": {
      "needs_background": "light"
     },
     "output_type": "display_data"
    }
   ],
   "source": [
    "plt.figure(figsize=(2, 2))\n",
    "plt.plot(truth_df[\"snr\"].sort_values(), truth_df[\"probs_z\"].sort_values(), \"k--\")\n",
    "plt.scatter(truth_df[\"snr\"], fit_df[\"probs_z_1\"], s=20)\n",
    "plt.ylim(0, 1)\n",
    "plt.xlim(0, 4)\n",
    "plt.xticks([0, 1, 2, 3, 4], fontsize=8)\n",
    "plt.yticks(fontsize=8)\n",
    "plt.xlabel(r\"intensity\", fontsize=8)\n",
    "plt.ylabel(r\"$\\pi^z$ (fitted)\", fontsize=8)\n",
    "plt.show()"
   ]
  },
  {
   "cell_type": "code",
   "execution_count": 41,
   "metadata": {},
   "outputs": [
    {
     "data": {
      "image/png": "[encoded data removed]",
      "text/plain": [
       "<Figure size 144x144 with 1 Axes>"
      ]
     },
     "metadata": {
      "needs_background": "light"
     },
     "output_type": "display_data"
    }
   ],
   "source": [
    "plt.figure(figsize=(2, 2))\n",
    "plt.plot(truth_df[\"snr\"].sort_values(), truth_df[\"rate_j\"].sort_values(), \"k--\")\n",
    "plt.scatter(truth_df[\"snr\"], fit_df[\"rate_j\"], s=20)\n",
    "plt.ylim(0, 1.)\n",
    "plt.xlim(0, 4)\n",
    "plt.xticks([0, 1, 2, 3, 4], fontsize=8)\n",
    "plt.yticks(fontsize=8)\n",
    "plt.xlabel(r\"intensity\", fontsize=8)\n",
    "plt.ylabel(r\"$\\lambda^j$ (fitted)\", fontsize=8)\n",
    "plt.show()"
   ]
  },
  {
   "cell_type": "code",
   "execution_count": 42,
   "metadata": {},
   "outputs": [
    {
     "data": {
      "image/png": "[encoded data removed]",
      "text/plain": [
       "<Figure size 144x144 with 1 Axes>"
      ]
     },
     "metadata": {
      "needs_background": "light"
     },
     "output_type": "display_data"
    }
   ],
   "source": [
    "plt.figure(figsize=(2, 2))\n",
    "plt.plot(truth_df[\"snr\"].sort_values(), truth_df[\"proximity\"].sort_values(), \"k--\")\n",
    "plt.scatter(truth_df[\"snr\"], fit_df[\"proximity_0\"], s=20)\n",
    "plt.ylim(0., 0.6)\n",
    "plt.xlim(0, 4)\n",
    "plt.xticks([0, 1, 2, 3, 4], fontsize=8)\n",
    "plt.yticks(fontsize=8)\n",
    "plt.xlabel(r\"intensity\", fontsize=8)\n",
    "plt.ylabel(r\"$\\sigma^{xy}$ (fitted)\", fontsize=8)\n",
    "plt.show()"
   ]
  },
  {
   "cell_type": "code",
   "execution_count": null,
   "metadata": {},
   "outputs": [],
   "source": []
  }
 ],
 "metadata": {
  "hide_input": false,
  "kernelspec": {
   "display_name": "Python 3",
   "language": "python",
   "name": "python3"
  },
  "language_info": {
   "codemirror_mode": {
    "name": "ipython",
    "version": 3
   },
   "file_extension": ".py",
   "mimetype": "text/x-python",
   "name": "python",
   "nbconvert_exporter": "python",
   "pygments_lexer": "ipython3",
   "version": "3.9.1"
  },
  "toc": {
   "base_numbering": 1,
   "nav_menu": {},
   "number_sections": true,
   "sideBar": true,
   "skip_h1_title": false,
   "title_cell": "Table of Contents",
   "title_sidebar": "Contents",
   "toc_cell": false,
   "toc_position": {},
   "toc_section_display": true,
   "toc_window_display": true
  }
 },
 "nbformat": 4,
 "nbformat_minor": 4
}
