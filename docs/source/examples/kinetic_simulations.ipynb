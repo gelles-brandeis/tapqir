{
 "cells": [
  {
   "cell_type": "markdown",
   "metadata": {},
   "source": [
    "## Kinetic simulations"
   ]
  },
  {
   "cell_type": "code",
   "execution_count": 1,
   "metadata": {},
   "outputs": [],
   "source": [
    "import numpy as np\n",
    "import pandas as pd\n",
    "import pyro\n",
    "import pyro.distributions as dist\n",
    "import torch\n",
    "import matplotlib.pyplot as plt\n",
    "from collections import defaultdict\n",
    "from matplotlib.patches import Circle\n",
    "from matplotlib.ticker import FormatStrFormatter\n",
    "from pathlib import Path\n",
    "from pyro.ops.stats import hpdi, quantile\n",
    "\n",
    "from tapqir.models import Cosmos\n",
    "from tapqir.utils.imscroll import count_intervals, time_to_first_binding, \\\n",
    "    association_rate, dissociation_rate, bootstrap, posterior_estimate, \\\n",
    "    bound_dwell_times, unbound_dwell_times, sample_and_bootstrap\n",
    "\n",
    "from tapqir.utils.mle_analysis import train, double_exp_model, double_exp_guide"
   ]
  },
  {
   "cell_type": "markdown",
   "metadata": {},
   "source": [
    "### Load results"
   ]
  },
  {
   "cell_type": "code",
   "execution_count": 2,
   "metadata": {},
   "outputs": [],
   "source": [
    "EXAMLES_DIR = Path.cwd().resolve().parent.parent.parent / \"examples\" / \"data\""
   ]
  },
  {
   "cell_type": "code",
   "execution_count": 4,
   "metadata": {},
   "outputs": [
    {
     "ename": "KeyboardInterrupt",
     "evalue": "",
     "output_type": "error",
     "traceback": [
      "\u001b[0;31m---------------------------------------------------------------------------\u001b[0m",
      "\u001b[0;31mKeyboardInterrupt\u001b[0m                         Traceback (most recent call last)",
      "\u001b[0;32m<ipython-input-4-2edf86e93ad7>\u001b[0m in \u001b[0;36m<module>\u001b[0;34m\u001b[0m\n\u001b[1;32m     58\u001b[0m         \u001b[0mkon\u001b[0m \u001b[0;34m=\u001b[0m \u001b[0;36m1\u001b[0m \u001b[0;34m/\u001b[0m \u001b[0mdwell_time\u001b[0m\u001b[0;34m.\u001b[0m\u001b[0mmean\u001b[0m\u001b[0;34m(\u001b[0m\u001b[0;34m)\u001b[0m\u001b[0;34m\u001b[0m\u001b[0;34m\u001b[0m\u001b[0m\n\u001b[1;32m     59\u001b[0m         \u001b[0mfit\u001b[0m\u001b[0;34m[\u001b[0m\u001b[0mdata_path\u001b[0m\u001b[0;34m.\u001b[0m\u001b[0mname\u001b[0m\u001b[0;34m]\u001b[0m\u001b[0;34m[\u001b[0m\u001b[0;34m\"kon\"\u001b[0m\u001b[0;34m]\u001b[0m \u001b[0;34m=\u001b[0m \u001b[0mkon\u001b[0m\u001b[0;34m.\u001b[0m\u001b[0mitem\u001b[0m\u001b[0;34m(\u001b[0m\u001b[0;34m)\u001b[0m\u001b[0;34m\u001b[0m\u001b[0;34m\u001b[0m\u001b[0m\n\u001b[0;32m---> 60\u001b[0;31m         kon_low, kon_high = sample_and_bootstrap(\n\u001b[0m\u001b[1;32m     61\u001b[0m             \u001b[0mz_dist\u001b[0m\u001b[0;34m,\u001b[0m\u001b[0;34m\u001b[0m\u001b[0;34m\u001b[0m\u001b[0m\n\u001b[1;32m     62\u001b[0m             \u001b[0;32mlambda\u001b[0m \u001b[0mx\u001b[0m\u001b[0;34m:\u001b[0m \u001b[0;36m1\u001b[0m \u001b[0;34m/\u001b[0m \u001b[0mx\u001b[0m\u001b[0;34m.\u001b[0m\u001b[0mmean\u001b[0m\u001b[0;34m(\u001b[0m\u001b[0;34m)\u001b[0m\u001b[0;34m,\u001b[0m\u001b[0;34m\u001b[0m\u001b[0;34m\u001b[0m\u001b[0m\n",
      "\u001b[0;32m~/anaconda3/envs/funsor/lib/python3.8/functools.py\u001b[0m in \u001b[0;36mwrapper\u001b[0;34m(*args, **kw)\u001b[0m\n\u001b[1;32m    873\u001b[0m                             '1 positional argument')\n\u001b[1;32m    874\u001b[0m \u001b[0;34m\u001b[0m\u001b[0m\n\u001b[0;32m--> 875\u001b[0;31m         \u001b[0;32mreturn\u001b[0m \u001b[0mdispatch\u001b[0m\u001b[0;34m(\u001b[0m\u001b[0margs\u001b[0m\u001b[0;34m[\u001b[0m\u001b[0;36m0\u001b[0m\u001b[0;34m]\u001b[0m\u001b[0;34m.\u001b[0m\u001b[0m__class__\u001b[0m\u001b[0;34m)\u001b[0m\u001b[0;34m(\u001b[0m\u001b[0;34m*\u001b[0m\u001b[0margs\u001b[0m\u001b[0;34m,\u001b[0m \u001b[0;34m**\u001b[0m\u001b[0mkw\u001b[0m\u001b[0;34m)\u001b[0m\u001b[0;34m\u001b[0m\u001b[0;34m\u001b[0m\u001b[0m\n\u001b[0m\u001b[1;32m    876\u001b[0m \u001b[0;34m\u001b[0m\u001b[0m\n\u001b[1;32m    877\u001b[0m     \u001b[0mfuncname\u001b[0m \u001b[0;34m=\u001b[0m \u001b[0mgetattr\u001b[0m\u001b[0;34m(\u001b[0m\u001b[0mfunc\u001b[0m\u001b[0;34m,\u001b[0m \u001b[0;34m'__name__'\u001b[0m\u001b[0;34m,\u001b[0m \u001b[0;34m'singledispatch function'\u001b[0m\u001b[0;34m)\u001b[0m\u001b[0;34m\u001b[0m\u001b[0;34m\u001b[0m\u001b[0m\n",
      "\u001b[0;32m~/repos/cosmos/tapqir/utils/imscroll.py\u001b[0m in \u001b[0;36m_\u001b[0;34m(dist, estimator, preprocess, repetitions, probs)\u001b[0m\n\u001b[1;32m    282\u001b[0m         \u001b[0msamples\u001b[0m \u001b[0;34m=\u001b[0m \u001b[0mdist\u001b[0m\u001b[0;34m.\u001b[0m\u001b[0msample\u001b[0m\u001b[0;34m(\u001b[0m\u001b[0;34m)\u001b[0m\u001b[0;34m\u001b[0m\u001b[0;34m\u001b[0m\u001b[0m\n\u001b[1;32m    283\u001b[0m         \u001b[0;32mif\u001b[0m \u001b[0mpreprocess\u001b[0m \u001b[0;32mis\u001b[0m \u001b[0;32mnot\u001b[0m \u001b[0;32mNone\u001b[0m\u001b[0;34m:\u001b[0m\u001b[0;34m\u001b[0m\u001b[0;34m\u001b[0m\u001b[0m\n\u001b[0;32m--> 284\u001b[0;31m             \u001b[0msamples\u001b[0m \u001b[0;34m=\u001b[0m \u001b[0mpreprocess\u001b[0m\u001b[0;34m(\u001b[0m\u001b[0msamples\u001b[0m\u001b[0;34m)\u001b[0m\u001b[0;34m\u001b[0m\u001b[0;34m\u001b[0m\u001b[0m\n\u001b[0m\u001b[1;32m    285\u001b[0m         \u001b[0;31m# bootstrap_values = resample(samples, num_samples=len(samples), replacement=True)\u001b[0m\u001b[0;34m\u001b[0m\u001b[0;34m\u001b[0m\u001b[0;34m\u001b[0m\u001b[0m\n\u001b[1;32m    286\u001b[0m         \u001b[0mbootstrap_values\u001b[0m \u001b[0;34m=\u001b[0m \u001b[0mnp\u001b[0m\u001b[0;34m.\u001b[0m\u001b[0mrandom\u001b[0m\u001b[0;34m.\u001b[0m\u001b[0mchoice\u001b[0m\u001b[0;34m(\u001b[0m\u001b[0msamples\u001b[0m\u001b[0;34m,\u001b[0m \u001b[0msize\u001b[0m\u001b[0;34m=\u001b[0m\u001b[0mlen\u001b[0m\u001b[0;34m(\u001b[0m\u001b[0msamples\u001b[0m\u001b[0;34m)\u001b[0m\u001b[0;34m,\u001b[0m \u001b[0mreplace\u001b[0m\u001b[0;34m=\u001b[0m\u001b[0;32mTrue\u001b[0m\u001b[0;34m)\u001b[0m\u001b[0;34m\u001b[0m\u001b[0;34m\u001b[0m\u001b[0m\n",
      "\u001b[0;32m<ipython-input-4-2edf86e93ad7>\u001b[0m in \u001b[0;36m<lambda>\u001b[0;34m(x)\u001b[0m\n\u001b[1;32m     61\u001b[0m             \u001b[0mz_dist\u001b[0m\u001b[0;34m,\u001b[0m\u001b[0;34m\u001b[0m\u001b[0;34m\u001b[0m\u001b[0m\n\u001b[1;32m     62\u001b[0m             \u001b[0;32mlambda\u001b[0m \u001b[0mx\u001b[0m\u001b[0;34m:\u001b[0m \u001b[0;36m1\u001b[0m \u001b[0;34m/\u001b[0m \u001b[0mx\u001b[0m\u001b[0;34m.\u001b[0m\u001b[0mmean\u001b[0m\u001b[0;34m(\u001b[0m\u001b[0;34m)\u001b[0m\u001b[0;34m,\u001b[0m\u001b[0;34m\u001b[0m\u001b[0;34m\u001b[0m\u001b[0m\n\u001b[0;32m---> 63\u001b[0;31m             \u001b[0mpreprocess\u001b[0m\u001b[0;34m=\u001b[0m\u001b[0;32mlambda\u001b[0m \u001b[0mx\u001b[0m\u001b[0;34m:\u001b[0m \u001b[0munbound_dwell_times\u001b[0m\u001b[0;34m(\u001b[0m\u001b[0mcount_intervals\u001b[0m\u001b[0;34m(\u001b[0m\u001b[0mx\u001b[0m\u001b[0;34m)\u001b[0m\u001b[0;34m)\u001b[0m\u001b[0;34m\u001b[0m\u001b[0;34m\u001b[0m\u001b[0m\n\u001b[0m\u001b[1;32m     64\u001b[0m         )\n\u001b[1;32m     65\u001b[0m         \u001b[0mfit\u001b[0m\u001b[0;34m[\u001b[0m\u001b[0mdata_path\u001b[0m\u001b[0;34m.\u001b[0m\u001b[0mname\u001b[0m\u001b[0;34m]\u001b[0m\u001b[0;34m[\u001b[0m\u001b[0;34m\"kon_low\"\u001b[0m\u001b[0;34m]\u001b[0m \u001b[0;34m=\u001b[0m \u001b[0mkon_low\u001b[0m\u001b[0;34m.\u001b[0m\u001b[0mitem\u001b[0m\u001b[0;34m(\u001b[0m\u001b[0;34m)\u001b[0m\u001b[0;34m\u001b[0m\u001b[0;34m\u001b[0m\u001b[0m\n",
      "\u001b[0;32m~/anaconda3/envs/funsor/lib/python3.8/functools.py\u001b[0m in \u001b[0;36mwrapper\u001b[0;34m(*args, **kw)\u001b[0m\n\u001b[1;32m    873\u001b[0m                             '1 positional argument')\n\u001b[1;32m    874\u001b[0m \u001b[0;34m\u001b[0m\u001b[0m\n\u001b[0;32m--> 875\u001b[0;31m         \u001b[0;32mreturn\u001b[0m \u001b[0mdispatch\u001b[0m\u001b[0;34m(\u001b[0m\u001b[0margs\u001b[0m\u001b[0;34m[\u001b[0m\u001b[0;36m0\u001b[0m\u001b[0;34m]\u001b[0m\u001b[0;34m.\u001b[0m\u001b[0m__class__\u001b[0m\u001b[0;34m)\u001b[0m\u001b[0;34m(\u001b[0m\u001b[0;34m*\u001b[0m\u001b[0margs\u001b[0m\u001b[0;34m,\u001b[0m \u001b[0;34m**\u001b[0m\u001b[0mkw\u001b[0m\u001b[0;34m)\u001b[0m\u001b[0;34m\u001b[0m\u001b[0;34m\u001b[0m\u001b[0m\n\u001b[0m\u001b[1;32m    876\u001b[0m \u001b[0;34m\u001b[0m\u001b[0m\n\u001b[1;32m    877\u001b[0m     \u001b[0mfuncname\u001b[0m \u001b[0;34m=\u001b[0m \u001b[0mgetattr\u001b[0m\u001b[0;34m(\u001b[0m\u001b[0mfunc\u001b[0m\u001b[0;34m,\u001b[0m \u001b[0;34m'__name__'\u001b[0m\u001b[0;34m,\u001b[0m \u001b[0;34m'singledispatch function'\u001b[0m\u001b[0;34m)\u001b[0m\u001b[0;34m\u001b[0m\u001b[0;34m\u001b[0m\u001b[0m\n",
      "\u001b[0;32m~/repos/cosmos/tapqir/utils/imscroll.py\u001b[0m in \u001b[0;36m_\u001b[0;34m(labels)\u001b[0m\n\u001b[1;32m     84\u001b[0m     \u001b[0mstop_type\u001b[0m \u001b[0;34m=\u001b[0m \u001b[0mstop_type\u001b[0m\u001b[0;34m[\u001b[0m\u001b[0mstop_aoi\u001b[0m\u001b[0;34m,\u001b[0m \u001b[0mstop_frame\u001b[0m\u001b[0;34m]\u001b[0m\u001b[0;34m\u001b[0m\u001b[0;34m\u001b[0m\u001b[0m\n\u001b[1;32m     85\u001b[0m \u001b[0;34m\u001b[0m\u001b[0m\n\u001b[0;32m---> 86\u001b[0;31m     \u001b[0;32massert\u001b[0m \u001b[0mall\u001b[0m\u001b[0;34m(\u001b[0m\u001b[0mstart_aoi\u001b[0m \u001b[0;34m==\u001b[0m \u001b[0mstop_aoi\u001b[0m\u001b[0;34m)\u001b[0m\u001b[0;34m\u001b[0m\u001b[0;34m\u001b[0m\u001b[0m\n\u001b[0m\u001b[1;32m     87\u001b[0m \u001b[0;34m\u001b[0m\u001b[0m\n\u001b[1;32m     88\u001b[0m     \u001b[0mlow_or_high\u001b[0m \u001b[0;34m=\u001b[0m \u001b[0mtorch\u001b[0m\u001b[0;34m.\u001b[0m\u001b[0mwhere\u001b[0m\u001b[0;34m(\u001b[0m\u001b[0mabs\u001b[0m\u001b[0;34m(\u001b[0m\u001b[0mstart_type\u001b[0m\u001b[0;34m)\u001b[0m \u001b[0;34m>\u001b[0m \u001b[0mabs\u001b[0m\u001b[0;34m(\u001b[0m\u001b[0mstop_type\u001b[0m\u001b[0;34m)\u001b[0m\u001b[0;34m,\u001b[0m \u001b[0mstart_type\u001b[0m\u001b[0;34m,\u001b[0m \u001b[0mstop_type\u001b[0m\u001b[0;34m)\u001b[0m\u001b[0;34m\u001b[0m\u001b[0;34m\u001b[0m\u001b[0m\n",
      "\u001b[0;32m~/anaconda3/envs/funsor/lib/python3.8/site-packages/torch/tensor.py\u001b[0m in \u001b[0;36m__iter__\u001b[0;34m(self)\u001b[0m\n\u001b[1;32m    589\u001b[0m                           \u001b[0;34m'iterations executed (and might lead to errors or silently give '\u001b[0m\u001b[0;34m\u001b[0m\u001b[0;34m\u001b[0m\u001b[0m\n\u001b[1;32m    590\u001b[0m                           'incorrect results).', category=RuntimeWarning)\n\u001b[0;32m--> 591\u001b[0;31m         \u001b[0;32mreturn\u001b[0m \u001b[0miter\u001b[0m\u001b[0;34m(\u001b[0m\u001b[0mself\u001b[0m\u001b[0;34m.\u001b[0m\u001b[0munbind\u001b[0m\u001b[0;34m(\u001b[0m\u001b[0;36m0\u001b[0m\u001b[0;34m)\u001b[0m\u001b[0;34m)\u001b[0m\u001b[0;34m\u001b[0m\u001b[0;34m\u001b[0m\u001b[0m\n\u001b[0m\u001b[1;32m    592\u001b[0m \u001b[0;34m\u001b[0m\u001b[0m\n\u001b[1;32m    593\u001b[0m     \u001b[0;32mdef\u001b[0m \u001b[0m__hash__\u001b[0m\u001b[0;34m(\u001b[0m\u001b[0mself\u001b[0m\u001b[0;34m)\u001b[0m\u001b[0;34m:\u001b[0m\u001b[0;34m\u001b[0m\u001b[0;34m\u001b[0m\u001b[0m\n",
      "\u001b[0;31mKeyboardInterrupt\u001b[0m: "
     ]
    }
   ],
   "source": [
    "truth = {}\n",
    "fit = {}\n",
    "predictions = defaultdict(dict)\n",
    "models = {}\n",
    "for data_path in EXAMLES_DIR.iterdir():\n",
    "    if data_path.is_dir() and data_path.name.startswith(\"kon\"):\n",
    "        truth[data_path.name] = pd.read_csv(\n",
    "            data_path / \"simulated_params.csv\",\n",
    "            squeeze=True, index_col=0\n",
    "        ).rename(data_path.name)\n",
    "        \n",
    "        param_path = data_path / \"runs/cosmos/v1.1.6/S1/control/lr0.005/bs64/\"\n",
    "        \n",
    "        fit[data_path.name] = pd.read_csv(\n",
    "            param_path / \"global_params.csv\",\n",
    "            squeeze=True,\n",
    "            index_col=0\n",
    "        ).rename(data_path.name)\n",
    "        fit[data_path.name][\"height\"] = truth[data_path.name][\"height\"]\n",
    "        \n",
    "        models[data_path.name] = Cosmos()\n",
    "        models[data_path.name].load(data_path, True, \"cpu\")\n",
    "        models[data_path.name].load_parameters(param_path)\n",
    "        mask = torch.from_numpy(models[data_path.name].data.labels[\"z\"])\n",
    "        samples = torch.masked_select(models[data_path.name].z_marginal, mask)\n",
    "        predictions[data_path.name][\"z_masked\"] = samples\n",
    "        low, high = hpdi(samples, 0.68)\n",
    "        median = quantile(samples, 0.5)\n",
    "        \n",
    "        z_dist = dist.Bernoulli(models[data_path.name].z_marginal)\n",
    "        intervals = count_intervals(models[data_path.name].z_map)\n",
    "        # calculate kon from true ttfb\n",
    "        ttfb = time_to_first_binding(models[data_path.name].data.labels[\"z\"])\n",
    "        ttfb = ttfb[ttfb > 0]\n",
    "        kon = 1 / ttfb.mean()\n",
    "        fit[data_path.name][\"kon_true\"] = kon.item()\n",
    "        kon_low, kon_high = bootstrap(ttfb, lambda x: 1 / x.mean())\n",
    "        fit[data_path.name][\"kon_true_low\"] = kon_low.item()\n",
    "        fit[data_path.name][\"kon_true_high\"] = kon_high.item()\n",
    "        \n",
    "        # calculate kon from ttfb\n",
    "        ttfb = time_to_first_binding(models[data_path.name].z_map)\n",
    "        ttfb = ttfb[ttfb > 0]\n",
    "        kon = 1 / ttfb.mean()\n",
    "        fit[data_path.name][\"kon_ttfb\"] = kon.item()\n",
    "        kon_low, kon_high = sample_and_bootstrap(\n",
    "            z_dist,\n",
    "            lambda x: 1 / x.mean(),\n",
    "            preprocess=lambda x: time_to_first_binding(x)[time_to_first_binding(x)>0]\n",
    "        )\n",
    "        fit[data_path.name][\"kon_ttfb_low\"] = kon_low.item()\n",
    "        fit[data_path.name][\"kon_ttfb_high\"] = kon_high.item()\n",
    "        \n",
    "        fit[data_path.name][\"koff_ttfb\"] = kon.item() / fit[data_path.name][\"probs_z_1\"] * fit[data_path.name][\"probs_z_0\"]\n",
    "\n",
    "        # calculate kon from dwell times\n",
    "        dwell_time = unbound_dwell_times(intervals)\n",
    "        kon = 1 / dwell_time.mean()\n",
    "        fit[data_path.name][\"kon\"] = kon.item()\n",
    "        kon_low, kon_high = sample_and_bootstrap(\n",
    "            z_dist,\n",
    "            lambda x: 1 / x.mean(),\n",
    "            preprocess=lambda x: unbound_dwell_times(count_intervals(x))\n",
    "        )\n",
    "        fit[data_path.name][\"kon_low\"] = kon_low.item()\n",
    "        fit[data_path.name][\"kon_high\"] = kon_high.item()\n",
    "        \n",
    "        # calculate koff from dwell times\n",
    "        dwell_time = bound_dwell_times(intervals)\n",
    "        koff = 1 / dwell_time.mean()\n",
    "        fit[data_path.name][\"koff\"] = koff.item()\n",
    "        koff_low, koff_high = sample_and_bootstrap(\n",
    "            z_dist,\n",
    "            lambda x: 1 / x.mean(),\n",
    "            preprocess=lambda x: bound_dwell_times(count_intervals(x))\n",
    "        )\n",
    "        fit[data_path.name][\"koff_low\"] = koff_low.item()\n",
    "        fit[data_path.name][\"koff_high\"] = koff_high.item()\n",
    "       \n",
    "        # calculate kon from transition probabilities matrix\n",
    "        A01 = association_rate(models[data_path.name].z_map)\n",
    "        A01_low, A01_high = posterior_estimate(z_dist, association_rate)\n",
    "        fit[data_path.name][\"A01\"] = A01.item()\n",
    "        fit[data_path.name][\"A01_low\"] = A01_low.item()\n",
    "        fit[data_path.name][\"A01_high\"] = A01_high.item()\n",
    "        \n",
    "        # calculate koff from transition probabilities matrix\n",
    "        A10 = dissociation_rate(models[data_path.name].z_map)\n",
    "        A10_low, A10_high = posterior_estimate(z_dist, dissociation_rate)\n",
    "        fit[data_path.name][\"A10\"] = A10.item()\n",
    "        fit[data_path.name][\"A10_low\"] = A10_low.item()\n",
    "        fit[data_path.name][\"A10_high\"] = A10_high.item()"
   ]
  },
  {
   "cell_type": "code",
   "execution_count": 132,
   "metadata": {},
   "outputs": [
    {
     "data": {
      "text/html": [
       "<div>\n",
       "<style scoped>\n",
       "    .dataframe tbody tr th:only-of-type {\n",
       "        vertical-align: middle;\n",
       "    }\n",
       "\n",
       "    .dataframe tbody tr th {\n",
       "        vertical-align: top;\n",
       "    }\n",
       "\n",
       "    .dataframe thead th {\n",
       "        text-align: right;\n",
       "    }\n",
       "</style>\n",
       "<table border=\"1\" class=\"dataframe\">\n",
       "  <thead>\n",
       "    <tr style=\"text-align: right;\">\n",
       "      <th></th>\n",
       "      <th>gain</th>\n",
       "      <th>kon</th>\n",
       "      <th>koff</th>\n",
       "      <th>rate_j</th>\n",
       "      <th>proximity</th>\n",
       "      <th>offset</th>\n",
       "      <th>height</th>\n",
       "      <th>background</th>\n",
       "    </tr>\n",
       "  </thead>\n",
       "  <tbody>\n",
       "    <tr>\n",
       "      <th>kon3.00e-02ratej1.00e+00</th>\n",
       "      <td>7.0</td>\n",
       "      <td>0.03</td>\n",
       "      <td>0.2</td>\n",
       "      <td>1.00</td>\n",
       "      <td>0.2</td>\n",
       "      <td>90.0</td>\n",
       "      <td>3000.0</td>\n",
       "      <td>150.0</td>\n",
       "    </tr>\n",
       "    <tr>\n",
       "      <th>kon1.00e-02ratej1.00e+00</th>\n",
       "      <td>7.0</td>\n",
       "      <td>0.01</td>\n",
       "      <td>0.2</td>\n",
       "      <td>1.00</td>\n",
       "      <td>0.2</td>\n",
       "      <td>90.0</td>\n",
       "      <td>3000.0</td>\n",
       "      <td>150.0</td>\n",
       "    </tr>\n",
       "    <tr>\n",
       "      <th>kon3.00e-02ratej1.50e-01</th>\n",
       "      <td>7.0</td>\n",
       "      <td>0.03</td>\n",
       "      <td>0.2</td>\n",
       "      <td>0.15</td>\n",
       "      <td>0.2</td>\n",
       "      <td>90.0</td>\n",
       "      <td>3000.0</td>\n",
       "      <td>150.0</td>\n",
       "    </tr>\n",
       "    <tr>\n",
       "      <th>kon1.00e-02ratej1.00e-02</th>\n",
       "      <td>7.0</td>\n",
       "      <td>0.01</td>\n",
       "      <td>0.2</td>\n",
       "      <td>0.01</td>\n",
       "      <td>0.2</td>\n",
       "      <td>90.0</td>\n",
       "      <td>3000.0</td>\n",
       "      <td>150.0</td>\n",
       "    </tr>\n",
       "    <tr>\n",
       "      <th>kon2.00e-02ratej1.00e+00</th>\n",
       "      <td>7.0</td>\n",
       "      <td>0.02</td>\n",
       "      <td>0.2</td>\n",
       "      <td>1.00</td>\n",
       "      <td>0.2</td>\n",
       "      <td>90.0</td>\n",
       "      <td>3000.0</td>\n",
       "      <td>150.0</td>\n",
       "    </tr>\n",
       "    <tr>\n",
       "      <th>kon3.00e-02ratej5.00e-01</th>\n",
       "      <td>7.0</td>\n",
       "      <td>0.03</td>\n",
       "      <td>0.2</td>\n",
       "      <td>0.50</td>\n",
       "      <td>0.2</td>\n",
       "      <td>90.0</td>\n",
       "      <td>3000.0</td>\n",
       "      <td>150.0</td>\n",
       "    </tr>\n",
       "    <tr>\n",
       "      <th>kon2.00e-02ratej5.00e-01</th>\n",
       "      <td>7.0</td>\n",
       "      <td>0.02</td>\n",
       "      <td>0.2</td>\n",
       "      <td>0.50</td>\n",
       "      <td>0.2</td>\n",
       "      <td>90.0</td>\n",
       "      <td>3000.0</td>\n",
       "      <td>150.0</td>\n",
       "    </tr>\n",
       "    <tr>\n",
       "      <th>kon2.00e-02ratej1.00e-02</th>\n",
       "      <td>7.0</td>\n",
       "      <td>0.02</td>\n",
       "      <td>0.2</td>\n",
       "      <td>0.01</td>\n",
       "      <td>0.2</td>\n",
       "      <td>90.0</td>\n",
       "      <td>3000.0</td>\n",
       "      <td>150.0</td>\n",
       "    </tr>\n",
       "    <tr>\n",
       "      <th>kon3.00e-02ratej1.00e-02</th>\n",
       "      <td>7.0</td>\n",
       "      <td>0.03</td>\n",
       "      <td>0.2</td>\n",
       "      <td>0.01</td>\n",
       "      <td>0.2</td>\n",
       "      <td>90.0</td>\n",
       "      <td>3000.0</td>\n",
       "      <td>150.0</td>\n",
       "    </tr>\n",
       "    <tr>\n",
       "      <th>kon1.00e-02ratej1.50e-01</th>\n",
       "      <td>7.0</td>\n",
       "      <td>0.01</td>\n",
       "      <td>0.2</td>\n",
       "      <td>0.15</td>\n",
       "      <td>0.2</td>\n",
       "      <td>90.0</td>\n",
       "      <td>3000.0</td>\n",
       "      <td>150.0</td>\n",
       "    </tr>\n",
       "    <tr>\n",
       "      <th>kon2.00e-02ratej1.50e-01</th>\n",
       "      <td>7.0</td>\n",
       "      <td>0.02</td>\n",
       "      <td>0.2</td>\n",
       "      <td>0.15</td>\n",
       "      <td>0.2</td>\n",
       "      <td>90.0</td>\n",
       "      <td>3000.0</td>\n",
       "      <td>150.0</td>\n",
       "    </tr>\n",
       "    <tr>\n",
       "      <th>kon1.00e-02ratej5.00e-01</th>\n",
       "      <td>7.0</td>\n",
       "      <td>0.01</td>\n",
       "      <td>0.2</td>\n",
       "      <td>0.50</td>\n",
       "      <td>0.2</td>\n",
       "      <td>90.0</td>\n",
       "      <td>3000.0</td>\n",
       "      <td>150.0</td>\n",
       "    </tr>\n",
       "  </tbody>\n",
       "</table>\n",
       "</div>"
      ],
      "text/plain": [
       "                          gain   kon  koff  rate_j  proximity  offset  height  \\\n",
       "kon3.00e-02ratej1.00e+00   7.0  0.03   0.2    1.00        0.2    90.0  3000.0   \n",
       "kon1.00e-02ratej1.00e+00   7.0  0.01   0.2    1.00        0.2    90.0  3000.0   \n",
       "kon3.00e-02ratej1.50e-01   7.0  0.03   0.2    0.15        0.2    90.0  3000.0   \n",
       "kon1.00e-02ratej1.00e-02   7.0  0.01   0.2    0.01        0.2    90.0  3000.0   \n",
       "kon2.00e-02ratej1.00e+00   7.0  0.02   0.2    1.00        0.2    90.0  3000.0   \n",
       "kon3.00e-02ratej5.00e-01   7.0  0.03   0.2    0.50        0.2    90.0  3000.0   \n",
       "kon2.00e-02ratej5.00e-01   7.0  0.02   0.2    0.50        0.2    90.0  3000.0   \n",
       "kon2.00e-02ratej1.00e-02   7.0  0.02   0.2    0.01        0.2    90.0  3000.0   \n",
       "kon3.00e-02ratej1.00e-02   7.0  0.03   0.2    0.01        0.2    90.0  3000.0   \n",
       "kon1.00e-02ratej1.50e-01   7.0  0.01   0.2    0.15        0.2    90.0  3000.0   \n",
       "kon2.00e-02ratej1.50e-01   7.0  0.02   0.2    0.15        0.2    90.0  3000.0   \n",
       "kon1.00e-02ratej5.00e-01   7.0  0.01   0.2    0.50        0.2    90.0  3000.0   \n",
       "\n",
       "                          background  \n",
       "kon3.00e-02ratej1.00e+00       150.0  \n",
       "kon1.00e-02ratej1.00e+00       150.0  \n",
       "kon3.00e-02ratej1.50e-01       150.0  \n",
       "kon1.00e-02ratej1.00e-02       150.0  \n",
       "kon2.00e-02ratej1.00e+00       150.0  \n",
       "kon3.00e-02ratej5.00e-01       150.0  \n",
       "kon2.00e-02ratej5.00e-01       150.0  \n",
       "kon2.00e-02ratej1.00e-02       150.0  \n",
       "kon3.00e-02ratej1.00e-02       150.0  \n",
       "kon1.00e-02ratej1.50e-01       150.0  \n",
       "kon2.00e-02ratej1.50e-01       150.0  \n",
       "kon1.00e-02ratej5.00e-01       150.0  "
      ]
     },
     "execution_count": 132,
     "metadata": {},
     "output_type": "execute_result"
    }
   ],
   "source": [
    "truth_df = pd.concat(truth.values(), axis=1).T\n",
    "truth_df"
   ]
  },
  {
   "cell_type": "code",
   "execution_count": 133,
   "metadata": {},
   "outputs": [
    {
     "data": {
      "text/html": [
       "<div>\n",
       "<style scoped>\n",
       "    .dataframe tbody tr th:only-of-type {\n",
       "        vertical-align: middle;\n",
       "    }\n",
       "\n",
       "    .dataframe tbody tr th {\n",
       "        vertical-align: top;\n",
       "    }\n",
       "\n",
       "    .dataframe thead th {\n",
       "        text-align: right;\n",
       "    }\n",
       "</style>\n",
       "<table border=\"1\" class=\"dataframe\">\n",
       "  <thead>\n",
       "    <tr style=\"text-align: right;\">\n",
       "      <th></th>\n",
       "      <th>-ELBO</th>\n",
       "      <th>proximity_0</th>\n",
       "      <th>gain</th>\n",
       "      <th>probs_z_0</th>\n",
       "      <th>probs_z_1</th>\n",
       "      <th>rate_j</th>\n",
       "      <th>MCC</th>\n",
       "      <th>Recall</th>\n",
       "      <th>Precision</th>\n",
       "      <th>FN</th>\n",
       "      <th>...</th>\n",
       "      <th>kon_high</th>\n",
       "      <th>koff</th>\n",
       "      <th>koff_low</th>\n",
       "      <th>koff_high</th>\n",
       "      <th>A01</th>\n",
       "      <th>A01_low</th>\n",
       "      <th>A01_high</th>\n",
       "      <th>A10</th>\n",
       "      <th>A10_low</th>\n",
       "      <th>A10_high</th>\n",
       "    </tr>\n",
       "  </thead>\n",
       "  <tbody>\n",
       "    <tr>\n",
       "      <th>kon3.00e-02ratej1.00e+00</th>\n",
       "      <td>198402416.0</td>\n",
       "      <td>0.212721</td>\n",
       "      <td>7.074045</td>\n",
       "      <td>0.880973</td>\n",
       "      <td>0.119027</td>\n",
       "      <td>0.967912</td>\n",
       "      <td>0.919860</td>\n",
       "      <td>0.911285</td>\n",
       "      <td>0.948998</td>\n",
       "      <td>1143.0</td>\n",
       "      <td>...</td>\n",
       "      <td>0.046484</td>\n",
       "      <td>0.305168</td>\n",
       "      <td>0.320458</td>\n",
       "      <td>0.329805</td>\n",
       "      <td>0.042870</td>\n",
       "      <td>0.044374</td>\n",
       "      <td>0.044760</td>\n",
       "      <td>0.303957</td>\n",
       "      <td>0.322414</td>\n",
       "      <td>0.325497</td>\n",
       "    </tr>\n",
       "    <tr>\n",
       "      <th>kon1.00e-02ratej1.00e+00</th>\n",
       "      <td>198348288.0</td>\n",
       "      <td>0.215698</td>\n",
       "      <td>7.072728</td>\n",
       "      <td>0.956787</td>\n",
       "      <td>0.043213</td>\n",
       "      <td>0.976319</td>\n",
       "      <td>0.884693</td>\n",
       "      <td>0.880829</td>\n",
       "      <td>0.899661</td>\n",
       "      <td>575.0</td>\n",
       "      <td>...</td>\n",
       "      <td>0.022022</td>\n",
       "      <td>0.369002</td>\n",
       "      <td>0.405085</td>\n",
       "      <td>0.424063</td>\n",
       "      <td>0.018302</td>\n",
       "      <td>0.019037</td>\n",
       "      <td>0.019369</td>\n",
       "      <td>0.368644</td>\n",
       "      <td>0.409894</td>\n",
       "      <td>0.417668</td>\n",
       "    </tr>\n",
       "    <tr>\n",
       "      <th>kon3.00e-02ratej1.50e-01</th>\n",
       "      <td>193252784.0</td>\n",
       "      <td>0.209326</td>\n",
       "      <td>7.023105</td>\n",
       "      <td>0.869527</td>\n",
       "      <td>0.130473</td>\n",
       "      <td>0.151723</td>\n",
       "      <td>0.981657</td>\n",
       "      <td>0.980088</td>\n",
       "      <td>0.988048</td>\n",
       "      <td>262.0</td>\n",
       "      <td>...</td>\n",
       "      <td>0.038455</td>\n",
       "      <td>0.229673</td>\n",
       "      <td>0.238205</td>\n",
       "      <td>0.246401</td>\n",
       "      <td>0.034274</td>\n",
       "      <td>0.036325</td>\n",
       "      <td>0.036658</td>\n",
       "      <td>0.228433</td>\n",
       "      <td>0.239978</td>\n",
       "      <td>0.241926</td>\n",
       "    </tr>\n",
       "    <tr>\n",
       "      <th>kon1.00e-02ratej1.00e-02</th>\n",
       "      <td>192369024.0</td>\n",
       "      <td>0.205118</td>\n",
       "      <td>7.018451</td>\n",
       "      <td>0.950517</td>\n",
       "      <td>0.049483</td>\n",
       "      <td>0.010081</td>\n",
       "      <td>0.996517</td>\n",
       "      <td>0.997098</td>\n",
       "      <td>0.996273</td>\n",
       "      <td>14.0</td>\n",
       "      <td>...</td>\n",
       "      <td>0.013241</td>\n",
       "      <td>0.209361</td>\n",
       "      <td>0.215242</td>\n",
       "      <td>0.228131</td>\n",
       "      <td>0.010602</td>\n",
       "      <td>0.011272</td>\n",
       "      <td>0.011453</td>\n",
       "      <td>0.208377</td>\n",
       "      <td>0.218648</td>\n",
       "      <td>0.221432</td>\n",
       "    </tr>\n",
       "    <tr>\n",
       "      <th>kon2.00e-02ratej1.00e+00</th>\n",
       "      <td>198391696.0</td>\n",
       "      <td>0.211918</td>\n",
       "      <td>7.066543</td>\n",
       "      <td>0.916703</td>\n",
       "      <td>0.083297</td>\n",
       "      <td>0.968362</td>\n",
       "      <td>0.909965</td>\n",
       "      <td>0.902205</td>\n",
       "      <td>0.934026</td>\n",
       "      <td>887.0</td>\n",
       "      <td>...</td>\n",
       "      <td>0.034129</td>\n",
       "      <td>0.319866</td>\n",
       "      <td>0.340262</td>\n",
       "      <td>0.351980</td>\n",
       "      <td>0.030556</td>\n",
       "      <td>0.031740</td>\n",
       "      <td>0.032120</td>\n",
       "      <td>0.318903</td>\n",
       "      <td>0.342812</td>\n",
       "      <td>0.347267</td>\n",
       "    </tr>\n",
       "    <tr>\n",
       "      <th>kon3.00e-02ratej5.00e-01</th>\n",
       "      <td>195557904.0</td>\n",
       "      <td>0.211141</td>\n",
       "      <td>7.050582</td>\n",
       "      <td>0.872335</td>\n",
       "      <td>0.127665</td>\n",
       "      <td>0.495139</td>\n",
       "      <td>0.951257</td>\n",
       "      <td>0.944298</td>\n",
       "      <td>0.971164</td>\n",
       "      <td>741.0</td>\n",
       "      <td>...</td>\n",
       "      <td>0.042267</td>\n",
       "      <td>0.260737</td>\n",
       "      <td>0.268832</td>\n",
       "      <td>0.278076</td>\n",
       "      <td>0.038563</td>\n",
       "      <td>0.040043</td>\n",
       "      <td>0.040399</td>\n",
       "      <td>0.260019</td>\n",
       "      <td>0.271545</td>\n",
       "      <td>0.273856</td>\n",
       "    </tr>\n",
       "    <tr>\n",
       "      <th>kon2.00e-02ratej5.00e-01</th>\n",
       "      <td>195498032.0</td>\n",
       "      <td>0.209449</td>\n",
       "      <td>7.048267</td>\n",
       "      <td>0.912512</td>\n",
       "      <td>0.087488</td>\n",
       "      <td>0.495192</td>\n",
       "      <td>0.945413</td>\n",
       "      <td>0.940609</td>\n",
       "      <td>0.960279</td>\n",
       "      <td>548.0</td>\n",
       "      <td>...</td>\n",
       "      <td>0.030683</td>\n",
       "      <td>0.276781</td>\n",
       "      <td>0.287159</td>\n",
       "      <td>0.298751</td>\n",
       "      <td>0.027391</td>\n",
       "      <td>0.028418</td>\n",
       "      <td>0.028732</td>\n",
       "      <td>0.275908</td>\n",
       "      <td>0.290587</td>\n",
       "      <td>0.293723</td>\n",
       "    </tr>\n",
       "    <tr>\n",
       "      <th>kon2.00e-02ratej1.00e-02</th>\n",
       "      <td>192445760.0</td>\n",
       "      <td>0.207034</td>\n",
       "      <td>7.027198</td>\n",
       "      <td>0.908434</td>\n",
       "      <td>0.091566</td>\n",
       "      <td>0.010145</td>\n",
       "      <td>0.997180</td>\n",
       "      <td>0.998146</td>\n",
       "      <td>0.996732</td>\n",
       "      <td>17.0</td>\n",
       "      <td>...</td>\n",
       "      <td>0.023566</td>\n",
       "      <td>0.202581</td>\n",
       "      <td>0.208615</td>\n",
       "      <td>0.218735</td>\n",
       "      <td>0.020357</td>\n",
       "      <td>0.021606</td>\n",
       "      <td>0.021865</td>\n",
       "      <td>0.201418</td>\n",
       "      <td>0.211082</td>\n",
       "      <td>0.212965</td>\n",
       "    </tr>\n",
       "    <tr>\n",
       "      <th>kon3.00e-02ratej1.00e-02</th>\n",
       "      <td>192505600.0</td>\n",
       "      <td>0.207121</td>\n",
       "      <td>7.027124</td>\n",
       "      <td>0.871321</td>\n",
       "      <td>0.128679</td>\n",
       "      <td>0.010114</td>\n",
       "      <td>0.997778</td>\n",
       "      <td>0.998761</td>\n",
       "      <td>0.997370</td>\n",
       "      <td>16.0</td>\n",
       "      <td>...</td>\n",
       "      <td>0.033566</td>\n",
       "      <td>0.202114</td>\n",
       "      <td>0.208651</td>\n",
       "      <td>0.216070</td>\n",
       "      <td>0.029866</td>\n",
       "      <td>0.031693</td>\n",
       "      <td>0.031991</td>\n",
       "      <td>0.200930</td>\n",
       "      <td>0.210375</td>\n",
       "      <td>0.211935</td>\n",
       "    </tr>\n",
       "    <tr>\n",
       "      <th>kon1.00e-02ratej1.50e-01</th>\n",
       "      <td>193123424.0</td>\n",
       "      <td>0.210434</td>\n",
       "      <td>7.029120</td>\n",
       "      <td>0.952291</td>\n",
       "      <td>0.047709</td>\n",
       "      <td>0.152019</td>\n",
       "      <td>0.971233</td>\n",
       "      <td>0.971813</td>\n",
       "      <td>0.973427</td>\n",
       "      <td>136.0</td>\n",
       "      <td>...</td>\n",
       "      <td>0.015950</td>\n",
       "      <td>0.246446</td>\n",
       "      <td>0.262193</td>\n",
       "      <td>0.278260</td>\n",
       "      <td>0.012452</td>\n",
       "      <td>0.013605</td>\n",
       "      <td>0.013867</td>\n",
       "      <td>0.245636</td>\n",
       "      <td>0.266378</td>\n",
       "      <td>0.270604</td>\n",
       "    </tr>\n",
       "    <tr>\n",
       "      <th>kon2.00e-02ratej1.50e-01</th>\n",
       "      <td>193205568.0</td>\n",
       "      <td>0.209661</td>\n",
       "      <td>7.030724</td>\n",
       "      <td>0.908589</td>\n",
       "      <td>0.091411</td>\n",
       "      <td>0.151936</td>\n",
       "      <td>0.978968</td>\n",
       "      <td>0.978074</td>\n",
       "      <td>0.983734</td>\n",
       "      <td>202.0</td>\n",
       "      <td>...</td>\n",
       "      <td>0.027548</td>\n",
       "      <td>0.231863</td>\n",
       "      <td>0.248388</td>\n",
       "      <td>0.258970</td>\n",
       "      <td>0.023251</td>\n",
       "      <td>0.025650</td>\n",
       "      <td>0.025984</td>\n",
       "      <td>0.230744</td>\n",
       "      <td>0.251052</td>\n",
       "      <td>0.254016</td>\n",
       "    </tr>\n",
       "    <tr>\n",
       "      <th>kon1.00e-02ratej5.00e-01</th>\n",
       "      <td>195432448.0</td>\n",
       "      <td>0.213402</td>\n",
       "      <td>7.044582</td>\n",
       "      <td>0.953041</td>\n",
       "      <td>0.046959</td>\n",
       "      <td>0.497672</td>\n",
       "      <td>0.928668</td>\n",
       "      <td>0.930363</td>\n",
       "      <td>0.933846</td>\n",
       "      <td>336.0</td>\n",
       "      <td>...</td>\n",
       "      <td>0.018861</td>\n",
       "      <td>0.307997</td>\n",
       "      <td>0.323949</td>\n",
       "      <td>0.340867</td>\n",
       "      <td>0.015563</td>\n",
       "      <td>0.016231</td>\n",
       "      <td>0.016502</td>\n",
       "      <td>0.307580</td>\n",
       "      <td>0.328308</td>\n",
       "      <td>0.334043</td>\n",
       "    </tr>\n",
       "  </tbody>\n",
       "</table>\n",
       "<p>12 rows × 32 columns</p>\n",
       "</div>"
      ],
      "text/plain": [
       "                                -ELBO  proximity_0      gain  probs_z_0  \\\n",
       "kon3.00e-02ratej1.00e+00  198402416.0     0.212721  7.074045   0.880973   \n",
       "kon1.00e-02ratej1.00e+00  198348288.0     0.215698  7.072728   0.956787   \n",
       "kon3.00e-02ratej1.50e-01  193252784.0     0.209326  7.023105   0.869527   \n",
       "kon1.00e-02ratej1.00e-02  192369024.0     0.205118  7.018451   0.950517   \n",
       "kon2.00e-02ratej1.00e+00  198391696.0     0.211918  7.066543   0.916703   \n",
       "kon3.00e-02ratej5.00e-01  195557904.0     0.211141  7.050582   0.872335   \n",
       "kon2.00e-02ratej5.00e-01  195498032.0     0.209449  7.048267   0.912512   \n",
       "kon2.00e-02ratej1.00e-02  192445760.0     0.207034  7.027198   0.908434   \n",
       "kon3.00e-02ratej1.00e-02  192505600.0     0.207121  7.027124   0.871321   \n",
       "kon1.00e-02ratej1.50e-01  193123424.0     0.210434  7.029120   0.952291   \n",
       "kon2.00e-02ratej1.50e-01  193205568.0     0.209661  7.030724   0.908589   \n",
       "kon1.00e-02ratej5.00e-01  195432448.0     0.213402  7.044582   0.953041   \n",
       "\n",
       "                          probs_z_1    rate_j       MCC    Recall  Precision  \\\n",
       "kon3.00e-02ratej1.00e+00   0.119027  0.967912  0.919860  0.911285   0.948998   \n",
       "kon1.00e-02ratej1.00e+00   0.043213  0.976319  0.884693  0.880829   0.899661   \n",
       "kon3.00e-02ratej1.50e-01   0.130473  0.151723  0.981657  0.980088   0.988048   \n",
       "kon1.00e-02ratej1.00e-02   0.049483  0.010081  0.996517  0.997098   0.996273   \n",
       "kon2.00e-02ratej1.00e+00   0.083297  0.968362  0.909965  0.902205   0.934026   \n",
       "kon3.00e-02ratej5.00e-01   0.127665  0.495139  0.951257  0.944298   0.971164   \n",
       "kon2.00e-02ratej5.00e-01   0.087488  0.495192  0.945413  0.940609   0.960279   \n",
       "kon2.00e-02ratej1.00e-02   0.091566  0.010145  0.997180  0.998146   0.996732   \n",
       "kon3.00e-02ratej1.00e-02   0.128679  0.010114  0.997778  0.998761   0.997370   \n",
       "kon1.00e-02ratej1.50e-01   0.047709  0.152019  0.971233  0.971813   0.973427   \n",
       "kon2.00e-02ratej1.50e-01   0.091411  0.151936  0.978968  0.978074   0.983734   \n",
       "kon1.00e-02ratej5.00e-01   0.046959  0.497672  0.928668  0.930363   0.933846   \n",
       "\n",
       "                              FN  ...  kon_high      koff  koff_low  \\\n",
       "kon3.00e-02ratej1.00e+00  1143.0  ...  0.046484  0.305168  0.320458   \n",
       "kon1.00e-02ratej1.00e+00   575.0  ...  0.022022  0.369002  0.405085   \n",
       "kon3.00e-02ratej1.50e-01   262.0  ...  0.038455  0.229673  0.238205   \n",
       "kon1.00e-02ratej1.00e-02    14.0  ...  0.013241  0.209361  0.215242   \n",
       "kon2.00e-02ratej1.00e+00   887.0  ...  0.034129  0.319866  0.340262   \n",
       "kon3.00e-02ratej5.00e-01   741.0  ...  0.042267  0.260737  0.268832   \n",
       "kon2.00e-02ratej5.00e-01   548.0  ...  0.030683  0.276781  0.287159   \n",
       "kon2.00e-02ratej1.00e-02    17.0  ...  0.023566  0.202581  0.208615   \n",
       "kon3.00e-02ratej1.00e-02    16.0  ...  0.033566  0.202114  0.208651   \n",
       "kon1.00e-02ratej1.50e-01   136.0  ...  0.015950  0.246446  0.262193   \n",
       "kon2.00e-02ratej1.50e-01   202.0  ...  0.027548  0.231863  0.248388   \n",
       "kon1.00e-02ratej5.00e-01   336.0  ...  0.018861  0.307997  0.323949   \n",
       "\n",
       "                          koff_high       A01   A01_low  A01_high       A10  \\\n",
       "kon3.00e-02ratej1.00e+00   0.329805  0.042870  0.044374  0.044760  0.303957   \n",
       "kon1.00e-02ratej1.00e+00   0.424063  0.018302  0.019037  0.019369  0.368644   \n",
       "kon3.00e-02ratej1.50e-01   0.246401  0.034274  0.036325  0.036658  0.228433   \n",
       "kon1.00e-02ratej1.00e-02   0.228131  0.010602  0.011272  0.011453  0.208377   \n",
       "kon2.00e-02ratej1.00e+00   0.351980  0.030556  0.031740  0.032120  0.318903   \n",
       "kon3.00e-02ratej5.00e-01   0.278076  0.038563  0.040043  0.040399  0.260019   \n",
       "kon2.00e-02ratej5.00e-01   0.298751  0.027391  0.028418  0.028732  0.275908   \n",
       "kon2.00e-02ratej1.00e-02   0.218735  0.020357  0.021606  0.021865  0.201418   \n",
       "kon3.00e-02ratej1.00e-02   0.216070  0.029866  0.031693  0.031991  0.200930   \n",
       "kon1.00e-02ratej1.50e-01   0.278260  0.012452  0.013605  0.013867  0.245636   \n",
       "kon2.00e-02ratej1.50e-01   0.258970  0.023251  0.025650  0.025984  0.230744   \n",
       "kon1.00e-02ratej5.00e-01   0.340867  0.015563  0.016231  0.016502  0.307580   \n",
       "\n",
       "                           A10_low  A10_high  \n",
       "kon3.00e-02ratej1.00e+00  0.322414  0.325497  \n",
       "kon1.00e-02ratej1.00e+00  0.409894  0.417668  \n",
       "kon3.00e-02ratej1.50e-01  0.239978  0.241926  \n",
       "kon1.00e-02ratej1.00e-02  0.218648  0.221432  \n",
       "kon2.00e-02ratej1.00e+00  0.342812  0.347267  \n",
       "kon3.00e-02ratej5.00e-01  0.271545  0.273856  \n",
       "kon2.00e-02ratej5.00e-01  0.290587  0.293723  \n",
       "kon2.00e-02ratej1.00e-02  0.211082  0.212965  \n",
       "kon3.00e-02ratej1.00e-02  0.210375  0.211935  \n",
       "kon1.00e-02ratej1.50e-01  0.266378  0.270604  \n",
       "kon2.00e-02ratej1.50e-01  0.251052  0.254016  \n",
       "kon1.00e-02ratej5.00e-01  0.328308  0.334043  \n",
       "\n",
       "[12 rows x 32 columns]"
      ]
     },
     "execution_count": 133,
     "metadata": {},
     "output_type": "execute_result"
    }
   ],
   "source": [
    "fit_df = pd.concat(fit.values(), axis=1).T\n",
    "fit_df = fit_df.drop(\n",
    "    [\"width_mean_0\", \"width_size_0\", \"height_scale\", \"height\"],\n",
    "    axis=1\n",
    ")\n",
    "fit_df"
   ]
  },
  {
   "cell_type": "markdown",
   "metadata": {},
   "source": [
    "### Figure 6"
   ]
  },
  {
   "cell_type": "markdown",
   "metadata": {},
   "source": [
    "#### Keq"
   ]
  },
  {
   "cell_type": "code",
   "execution_count": 155,
   "metadata": {},
   "outputs": [
    {
     "data": {
      "image/png": "[encoded data removed]",
      "text/plain": [
       "<Figure size 108x108 with 1 Axes>"
      ]
     },
     "metadata": {
      "needs_background": "light"
     },
     "output_type": "display_data"
    }
   ],
   "source": [
    "plt.figure(figsize=(1.5, 1.5))\n",
    "mask = truth_df[\"kon\"] == 0.01\n",
    "keq_sim = truth_df.loc[mask, \"kon\"] / truth_df.loc[mask, \"koff\"]\n",
    "keq_fit = fit_df.loc[mask, \"probs_z_1\"] / fit_df.loc[mask, \"probs_z_0\"]\n",
    "plt.scatter(truth_df.loc[mask, \"rate_j\"], keq_sim, marker=\"x\")\n",
    "plt.scatter(truth_df.loc[mask, \"rate_j\"], keq_fit, color=\"k\", s=13)\n",
    "plt.ylim(0, 0.2)\n",
    "#plt.xlim(0, 0.2)\n",
    "plt.yticks(fontsize=8)\n",
    "plt.xticks([0, 0.5, 1], fontsize=8)\n",
    "# plt.xlabel(r\"$\\lambda$\", fontsize=8)\n",
    "plt.ylabel(r\"$K_{eq}$\", fontsize=8)\n",
    "plt.savefig(\"/tmp/keq1.svg\")\n",
    "plt.show()"
   ]
  },
  {
   "cell_type": "code",
   "execution_count": 156,
   "metadata": {},
   "outputs": [
    {
     "data": {
      "image/png": "[encoded data removed]",
      "text/plain": [
       "<Figure size 108x108 with 1 Axes>"
      ]
     },
     "metadata": {
      "needs_background": "light"
     },
     "output_type": "display_data"
    }
   ],
   "source": [
    "plt.figure(figsize=(1.5, 1.5))\n",
    "mask = truth_df[\"kon\"] == 0.02\n",
    "keq_sim = truth_df.loc[mask, \"kon\"] / truth_df.loc[mask, \"koff\"]\n",
    "keq_fit = fit_df.loc[mask, \"probs_z_1\"] / fit_df.loc[mask, \"probs_z_0\"]\n",
    "plt.scatter(truth_df.loc[mask, \"rate_j\"], keq_sim, marker=\"x\")\n",
    "plt.scatter(truth_df.loc[mask, \"rate_j\"], keq_fit, color=\"k\", s=13)\n",
    "plt.ylim(0, 0.2)\n",
    "#plt.xlim(0, 0.2)\n",
    "plt.yticks([], fontsize=8)\n",
    "plt.xticks([0, 0.5, 1], fontsize=8)\n",
    "plt.xlabel(r\"$\\lambda$\", fontsize=8)\n",
    "# plt.ylabel(r\"$K_{eq}$\", fontsize=8)\n",
    "plt.savefig(\"/tmp/keq2.svg\")\n",
    "plt.show()"
   ]
  },
  {
   "cell_type": "code",
   "execution_count": 157,
   "metadata": {},
   "outputs": [
    {
     "data": {
      "image/png": "[encoded data removed]",
      "text/plain": [
       "<Figure size 108x108 with 1 Axes>"
      ]
     },
     "metadata": {
      "needs_background": "light"
     },
     "output_type": "display_data"
    }
   ],
   "source": [
    "plt.figure(figsize=(1.5, 1.5))\n",
    "mask = truth_df[\"kon\"] == 0.03\n",
    "keq_sim = truth_df.loc[mask, \"kon\"] / truth_df.loc[mask, \"koff\"]\n",
    "keq_fit = fit_df.loc[mask, \"probs_z_1\"] / fit_df.loc[mask, \"probs_z_0\"]\n",
    "plt.scatter(truth_df.loc[mask, \"rate_j\"], keq_sim, marker=\"x\")\n",
    "plt.scatter(truth_df.loc[mask, \"rate_j\"], keq_fit, color=\"k\", s=13)\n",
    "plt.ylim(0, 0.2)\n",
    "#plt.xlim(0, 0.2)\n",
    "plt.yticks([], fontsize=8)\n",
    "plt.xticks([0, 0.5, 1], fontsize=8)\n",
    "# plt.xlabel(r\"$\\lambda$\", fontsize=8)\n",
    "# plt.ylabel(r\"$K_{eq}$\", fontsize=8)\n",
    "plt.savefig(\"/tmp/keq3.svg\")\n",
    "plt.show()"
   ]
  },
  {
   "cell_type": "markdown",
   "metadata": {},
   "source": [
    "#### Time-to-first binding"
   ]
  },
  {
   "cell_type": "code",
   "execution_count": 20,
   "metadata": {},
   "outputs": [
    {
     "data": {
      "image/png": "[encoded data removed]",
      "text/plain": [
       "<Figure size 108x108 with 1 Axes>"
      ]
     },
     "metadata": {
      "needs_background": "light"
     },
     "output_type": "display_data"
    }
   ],
   "source": [
    "plt.figure(figsize=(1.5, 1.5))\n",
    "mask = truth_df[\"kon\"] == 0.01\n",
    "plt.scatter(truth_df.loc[mask, \"rate_j\"], truth_df.loc[mask, \"kon\"], marker=\"x\")\n",
    "plt.errorbar(truth_df.loc[mask, \"rate_j\"], fit_df.loc[mask, \"kon_true\"],\n",
    "             yerr=abs(fit_df.loc[mask, [\"kon_true_low\", \"kon_true_high\"]].values.T-fit_df.loc[mask, \"kon_true\"].values),\n",
    "             fmt=\"o\", ms=3, mfc=\"C1\", mec=\"C1\", ecolor=\"C1\", capsize=2)\n",
    "plt.errorbar(truth_df.loc[mask, \"rate_j\"], fit_df.loc[mask, \"kon_ttfb\"],\n",
    "             yerr=abs(fit_df.loc[mask, [\"kon_ttfb_low\", \"kon_ttfb_high\"]].values.T-fit_df.loc[mask, \"kon_ttfb\"].values),\n",
    "             fmt=\"o\", ms=3, mfc=\"k\", mec=\"k\", ecolor=\"k\", capsize=2)\n",
    "plt.ylim(0, 0.05)\n",
    "#plt.xlim(0, 0.3)\n",
    "plt.xticks(fontsize=8)\n",
    "plt.yticks(fontsize=8)\n",
    "plt.xticks([0, 0.5, 1], fontsize=8)\n",
    "plt.xlabel(r\"$\\lambda^{j}$ (simulated)\", fontsize=8)\n",
    "plt.ylabel(r\"$k_{on}$ (ttfb)\", fontsize=8)\n",
    "plt.savefig(\"/tmp/kon1-ttfb.svg\")\n",
    "plt.show()"
   ]
  },
  {
   "cell_type": "code",
   "execution_count": 21,
   "metadata": {},
   "outputs": [
    {
     "data": {
      "image/png": "[encoded data removed]",
      "text/plain": [
       "<Figure size 108x108 with 1 Axes>"
      ]
     },
     "metadata": {
      "needs_background": "light"
     },
     "output_type": "display_data"
    }
   ],
   "source": [
    "plt.figure(figsize=(1.5, 1.5))\n",
    "mask = truth_df[\"kon\"] == 0.02\n",
    "plt.scatter(truth_df.loc[mask, \"rate_j\"], truth_df.loc[mask, \"kon\"], marker=\"x\")\n",
    "plt.errorbar(truth_df.loc[mask, \"rate_j\"], fit_df.loc[mask, \"kon_true\"],\n",
    "             yerr=abs(fit_df.loc[mask, [\"kon_true_low\", \"kon_true_high\"]].values.T-fit_df.loc[mask, \"kon_true\"].values),\n",
    "             fmt=\"o\", ms=3, mfc=\"C1\", mec=\"C1\", ecolor=\"C1\", capsize=2)\n",
    "plt.errorbar(truth_df.loc[mask, \"rate_j\"], fit_df.loc[mask, \"kon_ttfb\"],\n",
    "             yerr=abs(fit_df.loc[mask, [\"kon_ttfb_low\", \"kon_ttfb_high\"]].values.T-fit_df.loc[mask, \"kon_ttfb\"].values),\n",
    "             fmt=\"o\", ms=3, mfc=\"k\", mec=\"k\", ecolor=\"k\", capsize=2)\n",
    "plt.ylim(0, 0.05)\n",
    "#plt.xlim(0, 0.3)\n",
    "plt.xticks(fontsize=8)\n",
    "plt.yticks(fontsize=8)\n",
    "plt.xticks([0, 0.5, 1], fontsize=8)\n",
    "plt.xlabel(r\"$\\lambda^{j}$ (simulated)\", fontsize=8)\n",
    "plt.ylabel(r\"$k_{on}$ (ttfb)\", fontsize=8)\n",
    "plt.savefig(\"/tmp/kon2-ttfb.svg\")\n",
    "plt.show()"
   ]
  },
  {
   "cell_type": "code",
   "execution_count": 22,
   "metadata": {},
   "outputs": [
    {
     "data": {
      "image/png": "[encoded data removed]",
      "text/plain": [
       "<Figure size 108x108 with 1 Axes>"
      ]
     },
     "metadata": {
      "needs_background": "light"
     },
     "output_type": "display_data"
    }
   ],
   "source": [
    "plt.figure(figsize=(1.5, 1.5))\n",
    "mask = truth_df[\"kon\"] == 0.03\n",
    "plt.scatter(truth_df.loc[mask, \"rate_j\"], truth_df.loc[mask, \"kon\"], marker=\"x\")\n",
    "plt.errorbar(truth_df.loc[mask, \"rate_j\"], fit_df.loc[mask, \"kon_true\"],\n",
    "             yerr=abs(fit_df.loc[mask, [\"kon_true_low\", \"kon_true_high\"]].values.T-fit_df.loc[mask, \"kon_true\"].values),\n",
    "             fmt=\"o\", ms=3, mfc=\"C1\", mec=\"C1\", ecolor=\"C1\", capsize=2)\n",
    "plt.errorbar(truth_df.loc[mask, \"rate_j\"], fit_df.loc[mask, \"kon_ttfb\"],\n",
    "             yerr=abs(fit_df.loc[mask, [\"kon_ttfb_low\", \"kon_ttfb_high\"]].values.T-fit_df.loc[mask, \"kon_ttfb\"].values),\n",
    "             fmt=\"o\", ms=3, mfc=\"k\", mec=\"k\", ecolor=\"k\", capsize=2)\n",
    "plt.ylim(0, 0.05)\n",
    "#plt.xlim(0, 0.3)\n",
    "plt.xticks(fontsize=8)\n",
    "plt.yticks(fontsize=8)\n",
    "plt.xticks([0, 0.5, 1], fontsize=8)\n",
    "plt.xlabel(r\"$\\lambda^{j}$ (simulated)\", fontsize=8)\n",
    "plt.ylabel(r\"$k_{on}$ (ttfb)\", fontsize=8)\n",
    "plt.savefig(\"/tmp/kon3-ttfb.svg\")\n",
    "plt.show()"
   ]
  },
  {
   "cell_type": "code",
   "execution_count": 29,
   "metadata": {},
   "outputs": [
    {
     "data": {
      "image/png": "[encoded data removed]",
      "text/plain": [
       "<Figure size 108x108 with 1 Axes>"
      ]
     },
     "metadata": {
      "needs_background": "light"
     },
     "output_type": "display_data"
    }
   ],
   "source": [
    "plt.figure(figsize=(1.5, 1.5))\n",
    "mask = truth_df[\"kon\"] == 0.01\n",
    "plt.scatter(truth_df.loc[mask, \"rate_j\"], truth_df.loc[mask, \"koff\"], marker=\"x\")\n",
    "plt.scatter(truth_df.loc[mask, \"rate_j\"], fit_df.loc[mask, \"koff_ttfb\"], marker=\"o\", s=10, color=\"k\")\n",
    "plt.ylim(0, 0.5)\n",
    "#plt.xlim(0, 0.3)\n",
    "plt.xticks(fontsize=8)\n",
    "plt.yticks(fontsize=8)\n",
    "plt.xticks([0, 0.5, 1], fontsize=8)\n",
    "plt.xlabel(r\"$\\lambda^{j}$ (simulated)\", fontsize=8)\n",
    "plt.ylabel(r\"$k_{off}$ (ttfb)\", fontsize=8)\n",
    "plt.savefig(\"/tmp/koff1-ttfb.svg\")\n",
    "plt.show()"
   ]
  },
  {
   "cell_type": "code",
   "execution_count": 30,
   "metadata": {},
   "outputs": [
    {
     "data": {
      "image/png": "[encoded data removed]",
      "text/plain": [
       "<Figure size 108x108 with 1 Axes>"
      ]
     },
     "metadata": {
      "needs_background": "light"
     },
     "output_type": "display_data"
    }
   ],
   "source": [
    "plt.figure(figsize=(1.5, 1.5))\n",
    "mask = truth_df[\"kon\"] == 0.02\n",
    "plt.scatter(truth_df.loc[mask, \"rate_j\"], truth_df.loc[mask, \"koff\"], marker=\"x\")\n",
    "plt.scatter(truth_df.loc[mask, \"rate_j\"], fit_df.loc[mask, \"koff_ttfb\"], marker=\"o\", s=10, color=\"k\")\n",
    "plt.ylim(0, 0.5)\n",
    "#plt.xlim(0, 0.3)\n",
    "plt.xticks(fontsize=8)\n",
    "plt.yticks(fontsize=8)\n",
    "plt.xticks([0, 0.5, 1], fontsize=8)\n",
    "plt.xlabel(r\"$\\lambda^{j}$ (simulated)\", fontsize=8)\n",
    "plt.ylabel(r\"$k_{off}$ (ttfb)\", fontsize=8)\n",
    "plt.savefig(\"/tmp/koff2-ttfb.svg\")\n",
    "plt.show()"
   ]
  },
  {
   "cell_type": "code",
   "execution_count": 31,
   "metadata": {},
   "outputs": [
    {
     "data": {
      "image/png": "[encoded data removed]",
      "text/plain": [
       "<Figure size 108x108 with 1 Axes>"
      ]
     },
     "metadata": {
      "needs_background": "light"
     },
     "output_type": "display_data"
    }
   ],
   "source": [
    "plt.figure(figsize=(1.5, 1.5))\n",
    "mask = truth_df[\"kon\"] == 0.03\n",
    "plt.scatter(truth_df.loc[mask, \"rate_j\"], truth_df.loc[mask, \"koff\"], marker=\"x\")\n",
    "plt.scatter(truth_df.loc[mask, \"rate_j\"], fit_df.loc[mask, \"koff_ttfb\"], marker=\"o\", s=10, color=\"k\")\n",
    "plt.ylim(0, 0.5)\n",
    "#plt.xlim(0, 0.3)\n",
    "plt.xticks(fontsize=8)\n",
    "plt.yticks(fontsize=8)\n",
    "plt.xticks([0, 0.5, 1], fontsize=8)\n",
    "plt.xlabel(r\"$\\lambda^{j}$ (simulated)\", fontsize=8)\n",
    "plt.ylabel(r\"$k_{off}$ (ttfb)\", fontsize=8)\n",
    "plt.savefig(\"/tmp/koff3-ttfb.svg\")\n",
    "plt.show()"
   ]
  },
  {
   "cell_type": "markdown",
   "metadata": {},
   "source": [
    "#### Dwell time"
   ]
  },
  {
   "cell_type": "code",
   "execution_count": 147,
   "metadata": {},
   "outputs": [
    {
     "data": {
      "image/png": "[encoded data removed]",
      "text/plain": [
       "<Figure size 108x108 with 1 Axes>"
      ]
     },
     "metadata": {
      "needs_background": "light"
     },
     "output_type": "display_data"
    }
   ],
   "source": [
    "plt.figure(figsize=(1.5, 1.5))\n",
    "mask = truth_df[\"kon\"] == 0.01\n",
    "plt.scatter(truth_df.loc[mask, \"rate_j\"], truth_df.loc[mask, \"kon\"], marker=\"x\", label=\"simulation\")\n",
    "plt.errorbar(truth_df.loc[mask, \"rate_j\"], fit_df.loc[mask, \"kon\"],\n",
    "             yerr=abs(fit_df.loc[mask, [\"kon_low\", \"kon_high\"]].values.T-fit_df.loc[mask, \"kon\"].values),\n",
    "             fmt=\"o\", ms=3, mfc=\"k\", mec=\"k\", ecolor=\"k\", capsize=2, label=\"fit\")\n",
    "plt.ylim(0, 0.05)\n",
    "#plt.xlim(0, 0.3)\n",
    "plt.xticks(fontsize=8)\n",
    "plt.yticks(fontsize=8)\n",
    "plt.xticks([0, 0.5, 1], fontsize=8)\n",
    "# plt.xlabel(r\"$\\lambda$\", fontsize=8)\n",
    "plt.ylabel(r\"$k_{on}$ (s$^{-1}$)\", fontsize=8)\n",
    "plt.legend(fontsize=8)\n",
    "plt.savefig(\"/tmp/kon1-dt.svg\")\n",
    "plt.show()"
   ]
  },
  {
   "cell_type": "code",
   "execution_count": 150,
   "metadata": {},
   "outputs": [
    {
     "data": {
      "image/png": "[encoded data removed]",
      "text/plain": [
       "<Figure size 108x108 with 1 Axes>"
      ]
     },
     "metadata": {
      "needs_background": "light"
     },
     "output_type": "display_data"
    }
   ],
   "source": [
    "plt.figure(figsize=(1.5, 1.5))\n",
    "mask = truth_df[\"kon\"] == 0.02\n",
    "plt.scatter(truth_df.loc[mask, \"rate_j\"], truth_df.loc[mask, \"kon\"], marker=\"x\", label=\"simulation\")\n",
    "plt.errorbar(truth_df.loc[mask, \"rate_j\"], fit_df.loc[mask, \"kon\"],\n",
    "             yerr=abs(fit_df.loc[mask, [\"kon_low\", \"kon_high\"]].values.T-fit_df.loc[mask, \"kon\"].values),\n",
    "             fmt=\"o\", ms=3, mfc=\"k\", mec=\"k\", ecolor=\"k\", capsize=2, label=\"fit\")\n",
    "plt.ylim(0, 0.05)\n",
    "#plt.xlim(0, 0.3)\n",
    "plt.xticks(fontsize=8)\n",
    "plt.yticks([], fontsize=8)\n",
    "plt.xticks([0, 0.5, 1], fontsize=8)\n",
    "plt.xlabel(r\"$\\lambda$\", fontsize=8)\n",
    "# plt.ylabel(r\"$k_{on}$ (s$^{-1}$)\", fontsize=8)\n",
    "# plt.legend(fontsize=8)\n",
    "plt.savefig(\"/tmp/kon2-dt.svg\")\n",
    "plt.show()"
   ]
  },
  {
   "cell_type": "code",
   "execution_count": 151,
   "metadata": {},
   "outputs": [
    {
     "data": {
      "image/png": "[encoded data removed]",
      "text/plain": [
       "<Figure size 108x108 with 1 Axes>"
      ]
     },
     "metadata": {
      "needs_background": "light"
     },
     "output_type": "display_data"
    }
   ],
   "source": [
    "plt.figure(figsize=(1.5, 1.5))\n",
    "mask = truth_df[\"kon\"] == 0.03\n",
    "plt.scatter(truth_df.loc[mask, \"rate_j\"], truth_df.loc[mask, \"kon\"], marker=\"x\")\n",
    "plt.errorbar(truth_df.loc[mask, \"rate_j\"], fit_df.loc[mask, \"kon\"],\n",
    "             yerr=abs(fit_df.loc[mask, [\"kon_low\", \"kon_high\"]].values.T-fit_df.loc[mask, \"kon\"].values),\n",
    "             fmt=\"o\", ms=3, mfc=\"k\", mec=\"k\", ecolor=\"k\", capsize=2)\n",
    "plt.ylim(0, 0.05)\n",
    "#plt.xlim(0, 0.3)\n",
    "plt.xticks(fontsize=8)\n",
    "plt.yticks([], fontsize=8)\n",
    "plt.xticks([0, 0.5, 1], fontsize=8)\n",
    "# plt.xlabel(r\"$\\lambda$\", fontsize=8)\n",
    "# plt.ylabel(r\"$k_{on}$ (s$^{-1}$)\", fontsize=8)\n",
    "plt.savefig(\"/tmp/kon3-dt.svg\")\n",
    "plt.show()"
   ]
  },
  {
   "cell_type": "code",
   "execution_count": 152,
   "metadata": {},
   "outputs": [
    {
     "data": {
      "image/png": "[encoded data removed]",
      "text/plain": [
       "<Figure size 108x108 with 1 Axes>"
      ]
     },
     "metadata": {
      "needs_background": "light"
     },
     "output_type": "display_data"
    }
   ],
   "source": [
    "plt.figure(figsize=(1.5, 1.5))\n",
    "mask = truth_df[\"kon\"] == 0.01\n",
    "plt.scatter(truth_df.loc[mask, \"rate_j\"], truth_df.loc[mask, \"koff\"], marker=\"x\")\n",
    "plt.errorbar(truth_df.loc[mask, \"rate_j\"], fit_df.loc[mask, \"koff\"],\n",
    "             yerr=abs(fit_df.loc[mask, [\"koff_low\", \"koff_high\"]].values.T-fit_df.loc[mask, \"koff\"].values),\n",
    "             fmt=\"o\", ms=3, mfc=\"k\", mec=\"k\", ecolor=\"k\", capsize=2)\n",
    "plt.ylim(0, 0.5)\n",
    "#plt.xlim(0, 0.3)\n",
    "plt.xticks(fontsize=8)\n",
    "plt.yticks(fontsize=8)\n",
    "plt.xticks([0, 0.5, 1], fontsize=8)\n",
    "# plt.xlabel(r\"$\\lambda$\", fontsize=8)\n",
    "plt.ylabel(r\"$k_{off}$ (s$^{-1}$)\", fontsize=8)\n",
    "plt.savefig(\"/tmp/koff1-dt.svg\")\n",
    "plt.show()"
   ]
  },
  {
   "cell_type": "code",
   "execution_count": 153,
   "metadata": {},
   "outputs": [
    {
     "data": {
      "image/png": "[encoded data removed]",
      "text/plain": [
       "<Figure size 108x108 with 1 Axes>"
      ]
     },
     "metadata": {
      "needs_background": "light"
     },
     "output_type": "display_data"
    }
   ],
   "source": [
    "plt.figure(figsize=(1.5, 1.5))\n",
    "mask = truth_df[\"kon\"] == 0.02\n",
    "plt.scatter(truth_df.loc[mask, \"rate_j\"], truth_df.loc[mask, \"koff\"], marker=\"x\")\n",
    "plt.errorbar(truth_df.loc[mask, \"rate_j\"], fit_df.loc[mask, \"koff\"],\n",
    "             yerr=abs(fit_df.loc[mask, [\"koff_low\", \"koff_high\"]].values.T-fit_df.loc[mask, \"koff\"].values),\n",
    "             fmt=\"o\", ms=3, mfc=\"k\", mec=\"k\", ecolor=\"k\", capsize=2)\n",
    "plt.ylim(0, 0.5)\n",
    "#plt.xlim(0, 0.3)\n",
    "plt.xticks(fontsize=8)\n",
    "plt.yticks([], fontsize=8)\n",
    "plt.xticks([0, 0.5, 1], fontsize=8)\n",
    "plt.xlabel(r\"$\\lambda$\", fontsize=8)\n",
    "# plt.ylabel(r\"$k_{off}$ (s$^{-1}$)\", fontsize=8)\n",
    "plt.savefig(\"/tmp/koff2-dt.svg\")\n",
    "plt.show()"
   ]
  },
  {
   "cell_type": "code",
   "execution_count": 154,
   "metadata": {},
   "outputs": [
    {
     "data": {
      "image/png": "[encoded data removed]",
      "text/plain": [
       "<Figure size 108x108 with 1 Axes>"
      ]
     },
     "metadata": {
      "needs_background": "light"
     },
     "output_type": "display_data"
    }
   ],
   "source": [
    "plt.figure(figsize=(1.5, 1.5))\n",
    "mask = truth_df[\"kon\"] == 0.03\n",
    "plt.scatter(truth_df.loc[mask, \"rate_j\"], truth_df.loc[mask, \"koff\"], marker=\"x\")\n",
    "plt.errorbar(truth_df.loc[mask, \"rate_j\"], fit_df.loc[mask, \"koff\"],\n",
    "             yerr=abs(fit_df.loc[mask, [\"koff_low\", \"koff_high\"]].values.T-fit_df.loc[mask, \"koff\"].values),\n",
    "             fmt=\"o\", ms=3, mfc=\"k\", mec=\"k\", ecolor=\"k\", capsize=2)\n",
    "plt.ylim(0, 0.5)\n",
    "#plt.xlim(0, 0.3)\n",
    "plt.xticks(fontsize=8)\n",
    "plt.yticks([], fontsize=8)\n",
    "plt.xticks([0, 0.5, 1], fontsize=8)\n",
    "# plt.xlabel(r\"$\\lambda$\", fontsize=8)\n",
    "# plt.ylabel(r\"$k_{off}$ (s$^{-1}$)\", fontsize=8)\n",
    "plt.savefig(\"/tmp/koff3-dt.svg\")\n",
    "plt.show()"
   ]
  },
  {
   "cell_type": "markdown",
   "metadata": {},
   "source": [
    "#### Transition rates"
   ]
  },
  {
   "cell_type": "code",
   "execution_count": 69,
   "metadata": {},
   "outputs": [
    {
     "data": {
      "image/png": "[encoded data removed]",
      "text/plain": [
       "<Figure size 108x108 with 1 Axes>"
      ]
     },
     "metadata": {
      "needs_background": "light"
     },
     "output_type": "display_data"
    }
   ],
   "source": [
    "plt.figure(figsize=(1.5, 1.5))\n",
    "mask = truth_df[\"kon\"] == 0.01\n",
    "plt.scatter(truth_df.loc[mask, \"rate_j\"], truth_df.loc[mask, \"kon\"], marker=\"x\")\n",
    "plt.errorbar(truth_df.loc[mask, \"rate_j\"], fit_df.loc[mask, \"A01\"],\n",
    "             yerr=abs(fit_df.loc[mask, [\"A01_low\", \"A01_high\"]].values.T-fit_df.loc[mask, \"A01\"].values),\n",
    "             fmt=\"o\", ms=3, mfc=\"k\", mec=\"k\", ecolor=\"k\", capsize=2)\n",
    "plt.ylim(0, 0.05)\n",
    "#plt.xlim(0, 0.3)\n",
    "plt.xticks(fontsize=8)\n",
    "plt.yticks(fontsize=8)\n",
    "plt.xticks([0, 0.5, 1], fontsize=8)\n",
    "plt.xlabel(r\"$\\lambda^{j}$ (simulated)\", fontsize=8)\n",
    "plt.ylabel(r\"$k_{on}$ (MLE)\", fontsize=8)\n",
    "plt.savefig(\"/tmp/a01-1.svg\")\n",
    "plt.show()"
   ]
  },
  {
   "cell_type": "code",
   "execution_count": 72,
   "metadata": {},
   "outputs": [
    {
     "data": {
      "image/png": "[encoded data removed]",
      "text/plain": [
       "<Figure size 108x108 with 1 Axes>"
      ]
     },
     "metadata": {
      "needs_background": "light"
     },
     "output_type": "display_data"
    }
   ],
   "source": [
    "plt.figure(figsize=(1.5, 1.5))\n",
    "mask = truth_df[\"kon\"] == 0.02\n",
    "plt.scatter(truth_df.loc[mask, \"rate_j\"], truth_df.loc[mask, \"kon\"], marker=\"x\")\n",
    "plt.errorbar(truth_df.loc[mask, \"rate_j\"], fit_df.loc[mask, \"A01\"],\n",
    "             yerr=abs(fit_df.loc[mask, [\"A01_low\", \"A01_high\"]].values.T-fit_df.loc[mask, \"A01\"].values),\n",
    "             fmt=\"o\", ms=3, mfc=\"k\", mec=\"k\", ecolor=\"k\", capsize=2)\n",
    "plt.ylim(0, 0.05)\n",
    "#plt.xlim(0, 0.3)\n",
    "plt.xticks(fontsize=8)\n",
    "plt.yticks(fontsize=8)\n",
    "plt.xticks([0, 0.5, 1], fontsize=8)\n",
    "plt.xlabel(r\"$\\lambda^{j}$ (simulated)\", fontsize=8)\n",
    "plt.ylabel(r\"$k_{on}$ (MLE)\", fontsize=8)\n",
    "plt.savefig(\"/tmp/a01-2.svg\")\n",
    "plt.show()"
   ]
  },
  {
   "cell_type": "code",
   "execution_count": 71,
   "metadata": {},
   "outputs": [
    {
     "data": {
      "image/png": "[encoded data removed]",
      "text/plain": [
       "<Figure size 108x108 with 1 Axes>"
      ]
     },
     "metadata": {
      "needs_background": "light"
     },
     "output_type": "display_data"
    }
   ],
   "source": [
    "plt.figure(figsize=(1.5, 1.5))\n",
    "mask = truth_df[\"kon\"] == 0.03\n",
    "plt.scatter(truth_df.loc[mask, \"rate_j\"], truth_df.loc[mask, \"kon\"], marker=\"x\")\n",
    "plt.errorbar(truth_df.loc[mask, \"rate_j\"], fit_df.loc[mask, \"A01\"],\n",
    "             yerr=abs(fit_df.loc[mask, [\"A01_low\", \"A01_high\"]].values.T-fit_df.loc[mask, \"A01\"].values),\n",
    "             fmt=\"o\", ms=3, mfc=\"k\", mec=\"k\", ecolor=\"k\", capsize=2)\n",
    "plt.ylim(0, 0.05)\n",
    "#plt.xlim(0, 0.3)\n",
    "plt.xticks(fontsize=8)\n",
    "plt.yticks(fontsize=8)\n",
    "plt.xticks([0, 0.5, 1], fontsize=8)\n",
    "plt.xlabel(r\"$\\lambda^{j}$ (simulated)\", fontsize=8)\n",
    "plt.ylabel(r\"$k_{on}$ (MLE)\", fontsize=8)\n",
    "plt.savefig(\"/tmp/a01-3.svg\")\n",
    "plt.show()"
   ]
  },
  {
   "cell_type": "code",
   "execution_count": 73,
   "metadata": {},
   "outputs": [
    {
     "data": {
      "image/png": "[encoded data removed]",
      "text/plain": [
       "<Figure size 108x108 with 1 Axes>"
      ]
     },
     "metadata": {
      "needs_background": "light"
     },
     "output_type": "display_data"
    }
   ],
   "source": [
    "plt.figure(figsize=(1.5, 1.5))\n",
    "mask = truth_df[\"kon\"] == 0.01\n",
    "plt.scatter(truth_df.loc[mask, \"rate_j\"], truth_df.loc[mask, \"koff\"], marker=\"x\")\n",
    "plt.errorbar(truth_df.loc[mask, \"rate_j\"], fit_df.loc[mask, \"A10\"],\n",
    "             yerr=abs(fit_df.loc[mask, [\"A10_low\", \"A10_high\"]].values.T-fit_df.loc[mask, \"A10\"].values),\n",
    "             fmt=\"o\", ms=3, mfc=\"k\", mec=\"k\", ecolor=\"k\", capsize=2)\n",
    "plt.ylim(0, 0.5)\n",
    "#plt.xlim(0, 0.3)\n",
    "plt.xticks(fontsize=8)\n",
    "plt.yticks(fontsize=8)\n",
    "plt.xticks([0, 0.5, 1], fontsize=8)\n",
    "plt.xlabel(r\"$\\lambda^{j}$ (simulated)\", fontsize=8)\n",
    "plt.ylabel(r\"$k_{off}$ (MLE)\", fontsize=8)\n",
    "plt.savefig(\"/tmp/a10-1.svg\")\n",
    "plt.show()"
   ]
  },
  {
   "cell_type": "code",
   "execution_count": 74,
   "metadata": {},
   "outputs": [
    {
     "data": {
      "image/png": "[encoded data removed]",
      "text/plain": [
       "<Figure size 108x108 with 1 Axes>"
      ]
     },
     "metadata": {
      "needs_background": "light"
     },
     "output_type": "display_data"
    }
   ],
   "source": [
    "plt.figure(figsize=(1.5, 1.5))\n",
    "mask = truth_df[\"kon\"] == 0.02\n",
    "plt.scatter(truth_df.loc[mask, \"rate_j\"], truth_df.loc[mask, \"koff\"], marker=\"x\")\n",
    "plt.errorbar(truth_df.loc[mask, \"rate_j\"], fit_df.loc[mask, \"A10\"],\n",
    "             yerr=abs(fit_df.loc[mask, [\"A10_low\", \"A10_high\"]].values.T-fit_df.loc[mask, \"A10\"].values),\n",
    "             fmt=\"o\", ms=3, mfc=\"k\", mec=\"k\", ecolor=\"k\", capsize=2)\n",
    "plt.ylim(0, 0.5)\n",
    "#plt.xlim(0, 0.3)\n",
    "plt.xticks(fontsize=8)\n",
    "plt.yticks(fontsize=8)\n",
    "plt.xticks([0, 0.5, 1], fontsize=8)\n",
    "plt.xlabel(r\"$\\lambda^{j}$ (simulated)\", fontsize=8)\n",
    "plt.ylabel(r\"$k_{off}$ (MLE)\", fontsize=8)\n",
    "plt.savefig(\"/tmp/a10-2.svg\")\n",
    "plt.show()"
   ]
  },
  {
   "cell_type": "code",
   "execution_count": 75,
   "metadata": {
    "scrolled": true
   },
   "outputs": [
    {
     "data": {
      "image/png": "[encoded data removed]",
      "text/plain": [
       "<Figure size 108x108 with 1 Axes>"
      ]
     },
     "metadata": {
      "needs_background": "light"
     },
     "output_type": "display_data"
    }
   ],
   "source": [
    "plt.figure(figsize=(1.5, 1.5))\n",
    "mask = truth_df[\"kon\"] == 0.03\n",
    "plt.scatter(truth_df.loc[mask, \"rate_j\"], truth_df.loc[mask, \"koff\"], marker=\"x\")\n",
    "plt.errorbar(truth_df.loc[mask, \"rate_j\"], fit_df.loc[mask, \"A10\"],\n",
    "             yerr=abs(fit_df.loc[mask, [\"A10_low\", \"A10_high\"]].values.T-fit_df.loc[mask, \"A10\"].values),\n",
    "             fmt=\"o\", ms=3, mfc=\"k\", mec=\"k\", ecolor=\"k\", capsize=2)\n",
    "plt.ylim(0, 0.5)\n",
    "#plt.xlim(0, 0.3)\n",
    "plt.xticks(fontsize=8)\n",
    "plt.yticks(fontsize=8)\n",
    "plt.xticks([0, 0.5, 1], fontsize=8)\n",
    "plt.xlabel(r\"$\\lambda^{j}$ (simulated)\", fontsize=8)\n",
    "plt.ylabel(r\"$k_{off}$ (MLE)\", fontsize=8)\n",
    "plt.savefig(\"/tmp/a10-3.svg\")\n",
    "plt.show()"
   ]
  },
  {
   "cell_type": "markdown",
   "metadata": {},
   "source": [
    "#### Double exponential"
   ]
  },
  {
   "cell_type": "markdown",
   "metadata": {},
   "source": [
    "kon 0.01 ratej 0.01"
   ]
  },
  {
   "cell_type": "code",
   "execution_count": 78,
   "metadata": {
    "scrolled": true
   },
   "outputs": [
    {
     "name": "stdout",
     "output_type": "stream",
     "text": [
      "('k1: 0.06350056827068329', 'k2: 0.6058685779571533', 'A: 0.38364991545677185')\n",
      "('k1: 0.044768959283828735', 'k2: 0.36226046085357666', 'A: 0.29461467266082764')\n",
      "('k1: 0.03401659429073334', 'k2: 0.21377049386501312', 'A: 0.23201365768909454')\n",
      "('k1: 0.027297621592879295', 'k2: 0.1263614296913147', 'A: 0.18972280621528625')\n",
      "('k1: 0.022846411913633347', 'k2: 0.07481402903795242', 'A: 0.16182632744312286')\n",
      "('k1: 0.019787734374403954', 'k2: 0.04273267090320587', 'A: 0.144346684217453')\n",
      "('k1: 0.017681432887911797', 'k2: 0.0224155243486166', 'A: 0.13551877439022064')\n",
      "('k1: 0.01643361896276474', 'k2: 0.010343590751290321', 'A: 0.13592246174812317')\n",
      "('k1: 0.015844177454710007', 'k2: 0.007310196291655302', 'A: 0.14075829088687897')\n",
      "('k1: 0.015413573011755943', 'k2: 0.0070169116370379925', 'A: 0.14420872926712036')\n",
      "('k1: 0.015042401850223541', 'k2: 0.0071464283391833305', 'A: 0.1468653827905655')\n",
      "('k1: 0.014714488759636879', 'k2: 0.007349228952080011', 'A: 0.1490650326013565')\n",
      "('k1: 0.014424284920096397', 'k2: 0.007563235703855753', 'A: 0.15090350806713104')\n",
      "('k1: 0.0141680296510458', 'k2: 0.00777718611061573', 'A: 0.1524296998977661')\n",
      "('k1: 0.01394228357821703', 'k2: 0.007988467812538147', 'A: 0.1536853164434433')\n",
      "('k1: 0.013743739575147629', 'k2: 0.00819594506174326', 'A: 0.1547105312347412')\n",
      "('k1: 0.01356921624392271', 'k2: 0.008398812264204025', 'A: 0.15554246306419373')\n",
      "('k1: 0.013415766879916191', 'k2: 0.008596532978117466', 'A: 0.15621432662010193')\n",
      "('k1: 0.01328071765601635', 'k2: 0.008788618259131908', 'A: 0.1567552089691162')\n",
      "('k1: 0.013161622919142246', 'k2: 0.008974792435765266', 'A: 0.1571897715330124')\n",
      "('k1: 0.013056346215307713', 'k2: 0.00915486365556717', 'A: 0.15753865242004395')\n",
      "('k1: 0.012962978333234787', 'k2: 0.00932872574776411', 'A: 0.15781891345977783')\n",
      "('k1: 0.012879879213869572', 'k2: 0.00949640292674303', 'A: 0.15804436802864075')\n",
      "('k1: 0.012805596925318241', 'k2: 0.009657938033342361', 'A: 0.15822617709636688')\n",
      "('k1: 0.012738914228975773', 'k2: 0.009813486598432064', 'A: 0.15837325155735016')\n",
      "('k1: 0.012678761966526508', 'k2: 0.009963217191398144', 'A: 0.15849268436431885')\n",
      "('k1: 0.012624269351363182', 'k2: 0.01010734960436821', 'A: 0.15858998894691467')\n",
      "('k1: 0.012574680149555206', 'k2: 0.010246050544083118', 'A: 0.1586696207523346')\n",
      "('k1: 0.012529353611171246', 'k2: 0.010379519313573837', 'A: 0.158734992146492')\n",
      "('k1: 0.012487786822021008', 'k2: 0.010507926344871521', 'A: 0.15878887474536896')\n",
      "('k1: 0.012449521571397781', 'k2: 0.010631394572556019', 'A: 0.15883342921733856')\n",
      "('k1: 0.012414202094078064', 'k2: 0.01075003296136856', 'A: 0.15887029469013214')\n",
      "('k1: 0.012381546199321747', 'k2: 0.010863875970244408', 'A: 0.1589009165763855')\n",
      "('k1: 0.012351294979453087', 'k2: 0.010972936637699604', 'A: 0.15892626345157623')\n",
      "('k1: 0.012323292903602123', 'k2: 0.011077153496444225', 'A: 0.1589471697807312')\n",
      "('k1: 0.012297329492866993', 'k2: 0.011176442727446556', 'A: 0.15896447002887726')\n",
      "('k1: 0.012273329310119152', 'k2: 0.01127068791538477', 'A: 0.1589786857366562')\n",
      "('k1: 0.012251175008714199', 'k2: 0.011359762400388718', 'A: 0.15899036824703217')\n",
      "('k1: 0.012230786494910717', 'k2: 0.011443459428846836', 'A: 0.15899969637393951')\n",
      "('k1: 0.012212114408612251', 'k2: 0.011521641165018082', 'A: 0.15900717675685883')\n",
      "('k1: 0.012195093557238579', 'k2: 0.011594191193580627', 'A: 0.15901321172714233')\n",
      "('k1: 0.012179646641016006', 'k2: 0.011660968884825706', 'A: 0.15901800990104675')\n",
      "('k1: 0.012165739201009274', 'k2: 0.011721908114850521', 'A: 0.15902137756347656')\n",
      "('k1: 0.012153320014476776', 'k2: 0.011777042411267757', 'A: 0.15902455151081085')\n",
      "('k1: 0.01214231364428997', 'k2: 0.011826412752270699', 'A: 0.1590261459350586')\n",
      "('k1: 0.012132631614804268', 'k2: 0.011870135553181171', 'A: 0.15902774035930634')\n",
      "('k1: 0.012124222703278065', 'k2: 0.01190845388919115', 'A: 0.15902933478355408')\n",
      "('k1: 0.012116998434066772', 'k2: 0.011941633187234402', 'A: 0.15902988612651825')\n",
      "('k1: 0.012110880576074123', 'k2: 0.011970007792115211', 'A: 0.15902988612651825')\n",
      "('k1: 0.0121057303622365', 'k2: 0.011993986554443836', 'A: 0.15902988612651825')\n"
     ]
    }
   ],
   "source": [
    "data_path = EXAMLES_DIR / \"kon1.00e-02ratej1.00e-02\"\n",
    "param_path = data_path / \"runs/cosmos/v1.1.6/S1/control/lr0.005/bs64/\"\n",
    "\n",
    "model = Cosmos()\n",
    "model.load(data_path, True, \"cpu\")\n",
    "model.load_parameters(param_path)\n",
    "\n",
    "dt = unbound_dwell_times(count_intervals(model.z_map))\n",
    "dt = torch.tensor(dt, dtype=torch.float)\n",
    "\n",
    "train(\n",
    "    double_exp_model, double_exp_guide, lr=5e-3, n_steps=5000,\n",
    "    data=dt\n",
    ")"
   ]
  },
  {
   "cell_type": "code",
   "execution_count": 79,
   "metadata": {},
   "outputs": [
    {
     "data": {
      "image/png": "[encoded data removed]",
      "text/plain": [
       "<Figure size 108x108 with 1 Axes>"
      ]
     },
     "metadata": {
      "needs_background": "light"
     },
     "output_type": "display_data"
    }
   ],
   "source": [
    "k = 1 / dt.mean()\n",
    "\n",
    "plt.figure(figsize=(1.5, 1.5))\n",
    "plt.title(\n",
    "    f\"k = {k:.2e}\\nk1 = {pyro.param('k1').item():.2e}\\nk2 = {pyro.param('k2').item():.2e}\\nA = {pyro.param('A').item():.2e}\",\n",
    "    fontsize=8\n",
    ")\n",
    "plt.hist(dt.numpy(), bins=np.arange(0.5, dt.max(), 1), density=True, alpha=0.3)\n",
    "x = torch.arange(0.01, dt.max())\n",
    "d = dist.Exponential(k)\n",
    "plt.plot(x, d.log_prob(x).exp())\n",
    "d1 = (1 - pyro.param(\"A\").item())*(dist.Exponential(pyro.param(\"k1\").item()).log_prob(x)).exp()\n",
    "d2 = pyro.param(\"A\").item()*(dist.Exponential(pyro.param(\"k2\").item()).log_prob(x)).exp()\n",
    "plt.plot(x, d1, label=\"A1\")\n",
    "plt.plot(x, d2, label=\"A2\")\n",
    "plt.plot(x, d1+d2, label=\"At\")\n",
    "plt.xlabel(\"Unbound dwell times\", fontsize=8)\n",
    "plt.ylabel(\"pdf\", fontsize=8)\n",
    "#plt.ylim(0, 0.2)\n",
    "#plt.xlim(0, 100)\n",
    "plt.legend(fontsize=8)\n",
    "plt.savefig(\"/tmp/kon1-ratej0.01.svg\")\n",
    "plt.show()"
   ]
  },
  {
   "cell_type": "code",
   "execution_count": 80,
   "metadata": {
    "scrolled": true
   },
   "outputs": [
    {
     "name": "stdout",
     "output_type": "stream",
     "text": [
      "('k1: 0.14971280097961426', 'k2: 0.6484504342079163', 'A: 0.3935500681400299')\n",
      "('k1: 0.17172476649284363', 'k2: 0.48611536622047424', 'A: 0.3294101357460022')\n",
      "('k1: 0.18012689054012299', 'k2: 0.3981591761112213', 'A: 0.29497718811035156')\n",
      "('k1: 0.18594607710838318', 'k2: 0.3445281386375427', 'A: 0.2760971486568451')\n",
      "('k1: 0.19041860103607178', 'k2: 0.30887651443481445', 'A: 0.2650696039199829')\n",
      "('k1: 0.1940411925315857', 'k2: 0.2836964726448059', 'A: 0.2583502531051636')\n",
      "('k1: 0.19706597924232483', 'k2: 0.26515236496925354', 'A: 0.25416290760040283')\n",
      "('k1: 0.1996253877878189', 'k2: 0.25112155079841614', 'A: 0.2515399158000946')\n",
      "('k1: 0.20179034769535065', 'k2: 0.24035032093524933', 'A: 0.24991253018379211')\n",
      "('k1: 0.20360161364078522', 'k2: 0.2320493906736374', 'A: 0.2489253729581833')\n",
      "('k1: 0.2050875872373581', 'k2: 0.22568492591381073', 'A: 0.24834613502025604')\n",
      "('k1: 0.20627547800540924', 'k2: 0.2208659052848816', 'A: 0.24802041053771973')\n",
      "('k1: 0.207196906208992', 'k2: 0.21728293597698212', 'A: 0.24784578382968903')\n",
      "('k1: 0.20788811147212982', 'k2: 0.21467898786067963', 'A: 0.2477571964263916')\n",
      "('k1: 0.2083892673254013', 'k2: 0.212834894657135', 'A: 0.24771471321582794')\n",
      "('k1: 0.2087400108575821', 'k2: 0.2115655541419983', 'A: 0.24769555032253265')\n",
      "('k1: 0.20897679030895233', 'k2: 0.21071797609329224', 'A: 0.2476874738931656')\n",
      "('k1: 0.209131121635437', 'k2: 0.21016988158226013', 'A: 0.24768434464931488')\n",
      "('k1: 0.20922808349132538', 'k2: 0.20982713997364044', 'A: 0.24768325686454773')\n",
      "('k1: 0.20928679406642914', 'k2: 0.20962023735046387', 'A: 0.24768325686454773')\n",
      "('k1: 0.2093210071325302', 'k2: 0.20949982106685638', 'A: 0.24768325686454773')\n",
      "('k1: 0.20934021472930908', 'k2: 0.20943237841129303', 'A: 0.24768325686454773')\n",
      "('k1: 0.20935045182704926', 'k2: 0.2093961536884308', 'A: 0.24768325686454773')\n",
      "('k1: 0.20935581624507904', 'k2: 0.20937752723693848', 'A: 0.24768325686454773')\n",
      "('k1: 0.20935848355293274', 'k2: 0.20936822891235352', 'A: 0.24768325686454773')\n",
      "('k1: 0.20935961604118347', 'k2: 0.20936410129070282', 'A: 0.24768325686454773')\n",
      "('k1: 0.2093602418899536', 'k2: 0.20936203002929688', 'A: 0.24768325686454773')\n",
      "('k1: 0.2093602418899536', 'k2: 0.20936201512813568', 'A: 0.24768325686454773')\n",
      "('k1: 0.2093602418899536', 'k2: 0.2093619853258133', 'A: 0.24768325686454773')\n",
      "('k1: 0.2093602418899536', 'k2: 0.2093619853258133', 'A: 0.24768325686454773')\n",
      "('k1: 0.2093602865934372', 'k2: 0.20936179161071777', 'A: 0.24768325686454773')\n",
      "('k1: 0.2093602865934372', 'k2: 0.20936179161071777', 'A: 0.24768325686454773')\n",
      "('k1: 0.20936031639575958', 'k2: 0.2093617022037506', 'A: 0.24768325686454773')\n",
      "('k1: 0.20936031639575958', 'k2: 0.2093617022037506', 'A: 0.24768325686454773')\n",
      "('k1: 0.20936031639575958', 'k2: 0.2093617022037506', 'A: 0.24768325686454773')\n",
      "('k1: 0.20936033129692078', 'k2: 0.20936162769794464', 'A: 0.24768325686454773')\n",
      "('k1: 0.20936036109924316', 'k2: 0.2093615084886551', 'A: 0.24768325686454773')\n",
      "('k1: 0.20936039090156555', 'k2: 0.2093614786863327', 'A: 0.24768325686454773')\n",
      "('k1: 0.20936039090156555', 'k2: 0.20936143398284912', 'A: 0.24768325686454773')\n",
      "('k1: 0.20936039090156555', 'k2: 0.20936143398284912', 'A: 0.24768325686454773')\n",
      "('k1: 0.20936040580272675', 'k2: 0.20936138927936554', 'A: 0.24768325686454773')\n",
      "('k1: 0.20936043560504913', 'k2: 0.20936132967472076', 'A: 0.24768325686454773')\n",
      "('k1: 0.20936043560504913', 'k2: 0.20936132967472076', 'A: 0.24768325686454773')\n",
      "('k1: 0.20936043560504913', 'k2: 0.20936128497123718', 'A: 0.24768325686454773')\n",
      "('k1: 0.20936046540737152', 'k2: 0.20936118066310883', 'A: 0.24768325686454773')\n",
      "('k1: 0.20936048030853271', 'k2: 0.20936116576194763', 'A: 0.24768325686454773')\n",
      "('k1: 0.20936048030853271', 'k2: 0.20936116576194763', 'A: 0.24768325686454773')\n",
      "('k1: 0.2093605101108551', 'k2: 0.20936106145381927', 'A: 0.24768325686454773')\n",
      "('k1: 0.2093605101108551', 'k2: 0.20936106145381927', 'A: 0.24768325686454773')\n",
      "('k1: 0.2093605101108551', 'k2: 0.20936106145381927', 'A: 0.24768325686454773')\n"
     ]
    }
   ],
   "source": [
    "data_path = EXAMLES_DIR / \"kon1.00e-02ratej1.00e-02\"\n",
    "param_path = data_path / \"runs/cosmos/v1.1.6/S1/control/lr0.005/bs64/\"\n",
    "\n",
    "model = Cosmos()\n",
    "model.load(data_path, True, \"cpu\")\n",
    "model.load_parameters(param_path)\n",
    "\n",
    "dt = bound_dwell_times(count_intervals(model.z_map))\n",
    "dt = torch.tensor(dt, dtype=torch.float)\n",
    "\n",
    "train(\n",
    "    double_exp_model, double_exp_guide, lr=5e-3, n_steps=5000,\n",
    "    data=dt\n",
    ")"
   ]
  },
  {
   "cell_type": "code",
   "execution_count": 81,
   "metadata": {},
   "outputs": [
    {
     "data": {
      "image/png": "[encoded data removed]",
      "text/plain": [
       "<Figure size 108x108 with 1 Axes>"
      ]
     },
     "metadata": {
      "needs_background": "light"
     },
     "output_type": "display_data"
    }
   ],
   "source": [
    "k = 1 / dt.mean()\n",
    "\n",
    "plt.figure(figsize=(1.5, 1.5))\n",
    "plt.title(\n",
    "    f\"k = {k:.2e}\\nk1 = {pyro.param('k1').item():.2e}\\nk2 = {pyro.param('k2').item():.2e}\\nA = {pyro.param('A').item():.2e}\",\n",
    "    fontsize=8\n",
    ")\n",
    "plt.hist(dt.numpy(), bins=np.arange(0.5, dt.max(), 1), density=True, alpha=0.3)\n",
    "x = torch.arange(0.01, dt.max())\n",
    "d = dist.Exponential(k)\n",
    "plt.plot(x, d.log_prob(x).exp())\n",
    "d1 = (1 - pyro.param(\"A\").item())*(dist.Exponential(pyro.param(\"k1\").item()).log_prob(x)).exp()\n",
    "d2 = pyro.param(\"A\").item()*(dist.Exponential(pyro.param(\"k2\").item()).log_prob(x)).exp()\n",
    "plt.plot(x, d1, label=\"A1\")\n",
    "plt.plot(x, d2, label=\"A2\")\n",
    "plt.plot(x, d1+d2, label=\"At\")\n",
    "plt.xlabel(\"Bound dwell times\", fontsize=8)\n",
    "plt.ylabel(\"pdf\", fontsize=8)\n",
    "#plt.ylim(0, 0.2)\n",
    "#plt.xlim(0, 100)\n",
    "plt.legend(fontsize=8)\n",
    "plt.savefig(\"/tmp/koff1-ratej0.01.svg\")\n",
    "plt.show()"
   ]
  },
  {
   "cell_type": "markdown",
   "metadata": {},
   "source": [
    "kon 0.01 ratej 1.00"
   ]
  },
  {
   "cell_type": "code",
   "execution_count": 66,
   "metadata": {
    "scrolled": true
   },
   "outputs": [
    {
     "name": "stdout",
     "output_type": "stream",
     "text": [
      "('k1: 0.06370566040277481', 'k2: 0.7373402714729309', 'A: 0.38657346367836')\n",
      "('k1: 0.04545006528496742', 'k2: 0.7430614829063416', 'A: 0.3059215247631073')\n",
      "('k1: 0.03520922362804413', 'k2: 0.7553278803825378', 'A: 0.25346001982688904')\n",
      "('k1: 0.028972897678613663', 'k2: 0.7594814300537109', 'A: 0.22111192345619202')\n",
      "('k1: 0.024956608191132545', 'k2: 0.7591165900230408', 'A: 0.20220865309238434')\n",
      "('k1: 0.022269753739237785', 'k2: 0.7558366060256958', 'A: 0.19215133786201477')\n",
      "('k1: 0.020426707342267036', 'k2: 0.7507323622703552', 'A: 0.18782560527324677')\n",
      "('k1: 0.01914343424141407', 'k2: 0.7447078824043274', 'A: 0.18703804910182953')\n",
      "('k1: 0.018243955448269844', 'k2: 0.7385425567626953', 'A: 0.18820004165172577')\n",
      "('k1: 0.017613809555768967', 'k2: 0.7328503131866455', 'A: 0.19019094109535217')\n",
      "('k1: 0.01717550680041313', 'k2: 0.7280252575874329', 'A: 0.1922929435968399')\n",
      "('k1: 0.01687457412481308', 'k2: 0.7242273688316345', 'A: 0.19412262737751007')\n",
      "('k1: 0.016671737655997276', 'k2: 0.7214264273643494', 'A: 0.1955394744873047')\n",
      "('k1: 0.016538210213184357', 'k2: 0.7194763422012329', 'A: 0.19654877483844757')\n",
      "('k1: 0.016452711075544357', 'k2: 0.7181861996650696', 'A: 0.1972227543592453')\n",
      "('k1: 0.01639968529343605', 'k2: 0.7173714637756348', 'A: 0.19764935970306396')\n",
      "('k1: 0.016367919743061066', 'k2: 0.7168794274330139', 'A: 0.1979067027568817')\n",
      "('k1: 0.016349587589502335', 'k2: 0.7165945768356323', 'A: 0.1980554163455963')\n",
      "('k1: 0.016339432448148727', 'k2: 0.716436505317688', 'A: 0.19813773036003113')\n",
      "('k1: 0.016334058716893196', 'k2: 0.716352641582489', 'A: 0.1981813609600067')\n",
      "('k1: 0.016331300139427185', 'k2: 0.7163097858428955', 'A: 0.19820350408554077')\n",
      "('k1: 0.016330039128661156', 'k2: 0.7162899374961853', 'A: 0.19821417331695557')\n",
      "('k1: 0.01632935367524624', 'k2: 0.7162796258926392', 'A: 0.19821897149085999')\n",
      "('k1: 0.01632935367524624', 'k2: 0.7162781357765198', 'A: 0.19822068512439728')\n",
      "('k1: 0.01632935367524624', 'k2: 0.7162781357765198', 'A: 0.19822068512439728')\n",
      "('k1: 0.016329338774085045', 'k2: 0.7162780165672302', 'A: 0.19822068512439728')\n",
      "('k1: 0.016329314559698105', 'k2: 0.7162777781486511', 'A: 0.19822075963020325')\n",
      "('k1: 0.016329292207956314', 'k2: 0.7162775993347168', 'A: 0.1982208639383316')\n",
      "('k1: 0.01632927730679512', 'k2: 0.7162773013114929', 'A: 0.19822093844413757')\n",
      "('k1: 0.016329260542988777', 'k2: 0.716277003288269', 'A: 0.19822104275226593')\n",
      "('k1: 0.016329245641827583', 'k2: 0.7162768840789795', 'A: 0.19822107255458832')\n",
      "('k1: 0.01632922887802124', 'k2: 0.7162767648696899', 'A: 0.19822119176387787')\n",
      "('k1: 0.016329213976860046', 'k2: 0.7162764072418213', 'A: 0.19822131097316742')\n",
      "('k1: 0.016329199075698853', 'k2: 0.716276228427887', 'A: 0.198221355676651')\n",
      "('k1: 0.01632918231189251', 'k2: 0.7162761092185974', 'A: 0.19822143018245697')\n",
      "('k1: 0.016329174861311913', 'k2: 0.7162759900093079', 'A: 0.19822148978710175')\n",
      "('k1: 0.01632915996015072', 'k2: 0.7162759304046631', 'A: 0.19822151958942413')\n",
      "('k1: 0.016329152509570122', 'k2: 0.7162758111953735', 'A: 0.1982215940952301')\n",
      "('k1: 0.016329143196344376', 'k2: 0.716275691986084', 'A: 0.19822163879871368')\n",
      "('k1: 0.016329128295183182', 'k2: 0.7162754535675049', 'A: 0.19822172820568085')\n",
      "('k1: 0.016329120844602585', 'k2: 0.7162753939628601', 'A: 0.19822178781032562')\n",
      "('k1: 0.016329113394021988', 'k2: 0.7162753343582153', 'A: 0.19822178781032562')\n",
      "('k1: 0.01632910594344139', 'k2: 0.7162752151489258', 'A: 0.1982218623161316')\n",
      "('k1: 0.016329096630215645', 'k2: 0.7162750363349915', 'A: 0.19822189211845398')\n",
      "('k1: 0.016329089179635048', 'k2: 0.7162750363349915', 'A: 0.19822189211845398')\n",
      "('k1: 0.01632908172905445', 'k2: 0.7162749171257019', 'A: 0.19822192192077637')\n",
      "('k1: 0.016329074278473854', 'k2: 0.7162747979164124', 'A: 0.19822201132774353')\n",
      "('k1: 0.016329066827893257', 'k2: 0.7162747383117676', 'A: 0.19822202622890472')\n",
      "('k1: 0.01632905751466751', 'k2: 0.716274619102478', 'A: 0.19822202622890472')\n",
      "('k1: 0.01632905751466751', 'k2: 0.7162745594978333', 'A: 0.1982220709323883')\n"
     ]
    }
   ],
   "source": [
    "data_path = EXAMLES_DIR / \"kon1.00e-02ratej1.00e+00\"\n",
    "param_path = data_path / \"runs/cosmos/v1.1.6/S1/control/lr0.005/bs64/\"\n",
    "\n",
    "model = Cosmos()\n",
    "model.load(data_path, True, \"cpu\")\n",
    "model.load_parameters(param_path)\n",
    "\n",
    "dt = unbound_dwell_times(count_intervals(model.z_map))\n",
    "dt = torch.tensor(dt, dtype=torch.float)\n",
    "\n",
    "train(\n",
    "    double_exp_model, double_exp_guide, lr=5e-3, n_steps=5000,\n",
    "    data=dt\n",
    ")"
   ]
  },
  {
   "cell_type": "code",
   "execution_count": 67,
   "metadata": {},
   "outputs": [
    {
     "data": {
      "image/png": "[encoded data removed]",
      "text/plain": [
       "<Figure size 108x108 with 1 Axes>"
      ]
     },
     "metadata": {
      "needs_background": "light"
     },
     "output_type": "display_data"
    }
   ],
   "source": [
    "k = 1 / dt.mean()\n",
    "\n",
    "plt.figure(figsize=(1.5, 1.5))\n",
    "plt.title(\n",
    "    f\"k = {k:.2e}\\nk1 = {pyro.param('k1').item():.2e}\\nk2 = {pyro.param('k2').item():.2e}\\nA = {pyro.param('A').item():.2e}\",\n",
    "    fontsize=8\n",
    ")\n",
    "plt.hist(dt.numpy(), bins=np.arange(0.5, dt.max(), 1), density=True, alpha=0.3)\n",
    "x = torch.arange(0.01, dt.max())\n",
    "d = dist.Exponential(k)\n",
    "plt.plot(x, d.log_prob(x).exp())\n",
    "d1 = (1 - pyro.param(\"A\").item())*(dist.Exponential(pyro.param(\"k1\").item()).log_prob(x)).exp()\n",
    "d2 = pyro.param(\"A\").item()*(dist.Exponential(pyro.param(\"k2\").item()).log_prob(x)).exp()\n",
    "plt.plot(x, d1, label=\"A1\")\n",
    "plt.plot(x, d2, label=\"A2\")\n",
    "plt.plot(x, d1+d2, label=\"At\")\n",
    "plt.xlabel(\"Unbound dwell times\", fontsize=8)\n",
    "plt.ylabel(\"pdf\", fontsize=8)\n",
    "#plt.ylim(0, 0.2)\n",
    "#plt.xlim(0, 100)\n",
    "plt.legend(fontsize=8)\n",
    "plt.savefig(\"/tmp/kon1-ratej1.00.svg\")\n",
    "plt.show()"
   ]
  },
  {
   "cell_type": "code",
   "execution_count": 4,
   "metadata": {
    "scrolled": true
   },
   "outputs": [
    {
     "name": "stdout",
     "output_type": "stream",
     "text": [
      "('k1: 0.01582295261323452', 'k2: 0.6447557806968689', 'A: 0.6191235184669495')\n",
      "('k1: 0.02296561375260353', 'k2: 0.49862685799598694', 'A: 0.7133064866065979')\n",
      "('k1: 0.032011259347200394', 'k2: 0.4466816782951355', 'A: 0.7790663838386536')\n",
      "('k1: 0.04393983632326126', 'k2: 0.4308100640773773', 'A: 0.8228291869163513')\n",
      "('k1: 0.059686437249183655', 'k2: 0.4259989559650421', 'A: 0.8515464663505554')\n",
      "('k1: 0.07969986647367477', 'k2: 0.42355167865753174', 'A: 0.8702085018157959')\n",
      "('k1: 0.10330363363027573', 'k2: 0.42083939909935', 'A: 0.8821159601211548')\n",
      "('k1: 0.12837651371955872', 'k2: 0.4171341061592102', 'A: 0.8895293474197388')\n",
      "('k1: 0.1521536111831665', 'k2: 0.4126369059085846', 'A: 0.8940733075141907')\n",
      "('k1: 0.1726839244365692', 'k2: 0.4080198407173157', 'A: 0.8968862891197205')\n",
      "('k1: 0.18942977488040924', 'k2: 0.4038616418838501', 'A: 0.8986960053443909')\n",
      "('k1: 0.20278234779834747', 'k2: 0.40039217472076416', 'A: 0.8999266028404236')\n",
      "('k1: 0.21341916918754578', 'k2: 0.3975909352302551', 'A: 0.9008138179779053')\n",
      "('k1: 0.2219742089509964', 'k2: 0.39534449577331543', 'A: 0.9014886617660522')\n",
      "('k1: 0.22894693911075592', 'k2: 0.39353257417678833', 'A: 0.9020261764526367')\n",
      "('k1: 0.23470811545848846', 'k2: 0.39205506443977356', 'A: 0.902471125125885')\n",
      "('k1: 0.2395285815000534', 'k2: 0.39083558320999146', 'A: 0.902851402759552')\n",
      "('k1: 0.24360620975494385', 'k2: 0.38981711864471436', 'A: 0.9031853675842285')\n",
      "('k1: 0.24708808958530426', 'k2: 0.3889573812484741', 'A: 0.9034852981567383')\n",
      "('k1: 0.25008371472358704', 'k2: 0.38822486996650696', 'A: 0.9037595987319946')\n",
      "('k1: 0.25267696380615234', 'k2: 0.38759565353393555', 'A: 0.9040146470069885')\n",
      "('k1: 0.25493237376213074', 'k2: 0.387051522731781', 'A: 0.9042552709579468')\n",
      "('k1: 0.25690075755119324', 'k2: 0.38657835125923157', 'A: 0.9044848680496216')\n",
      "('k1: 0.2586221396923065', 'k2: 0.386165052652359', 'A: 0.9047062993049622')\n",
      "('k1: 0.26012879610061646', 'k2: 0.3858027458190918', 'A: 0.9049218893051147')\n",
      "('k1: 0.2614468038082123', 'k2: 0.385484516620636', 'A: 0.9051336050033569')\n",
      "('k1: 0.26259779930114746', 'k2: 0.3852044939994812', 'A: 0.9053424596786499')\n",
      "('k1: 0.2635992467403412', 'k2: 0.3849579393863678', 'A: 0.9055507183074951')\n",
      "('k1: 0.26446616649627686', 'k2: 0.38474103808403015', 'A: 0.9057588577270508')\n",
      "('k1: 0.2652112543582916', 'k2: 0.3845503032207489', 'A: 0.9059687852859497')\n",
      "('k1: 0.26584526896476746', 'k2: 0.38438302278518677', 'A: 0.9061808586120605')\n",
      "('k1: 0.266377329826355', 'k2: 0.38423678278923035', 'A: 0.9063965082168579')\n",
      "('k1: 0.2668156027793884', 'k2: 0.3841095566749573', 'A: 0.9066163897514343')\n",
      "('k1: 0.2671670913696289', 'k2: 0.38399946689605713', 'A: 0.906841516494751')\n",
      "('k1: 0.2674383223056793', 'k2: 0.3839048743247986', 'A: 0.9070728421211243')\n",
      "('k1: 0.26763492822647095', 'k2: 0.38382428884506226', 'A: 0.9073112607002258')\n",
      "('k1: 0.2677620053291321', 'k2: 0.3837563991546631', 'A: 0.9075575470924377')\n",
      "('k1: 0.2678244709968567', 'k2: 0.3836999237537384', 'A: 0.9078128337860107')\n",
      "('k1: 0.267826646566391', 'k2: 0.38365381956100464', 'A: 0.9080778360366821')\n",
      "('k1: 0.2677726745605469', 'k2: 0.3836168944835663', 'A: 0.9083537459373474')\n",
      "('k1: 0.2676662504673004', 'k2: 0.38358816504478455', 'A: 0.9086413383483887')\n",
      "('k1: 0.2675110697746277', 'k2: 0.38356679677963257', 'A: 0.9089417457580566')\n",
      "('k1: 0.26731032133102417', 'k2: 0.38355159759521484', 'A: 0.9092560410499573')\n",
      "('k1: 0.2670671045780182', 'k2: 0.38354209065437317', 'A: 0.9095852375030518')\n",
      "('k1: 0.26678401231765747', 'k2: 0.3835371732711792', 'A: 0.9099303483963013')\n",
      "('k1: 0.26646360754966736', 'k2: 0.383536159992218', 'A: 0.9102925658226013')\n",
      "('k1: 0.26610782742500305', 'k2: 0.3835386037826538', 'A: 0.9106730222702026')\n",
      "('k1: 0.26571834087371826', 'k2: 0.38354364037513733', 'A: 0.9110727906227112')\n",
      "('k1: 0.2652967572212219', 'k2: 0.3835507035255432', 'A: 0.9114932417869568')\n",
      "('k1: 0.26484382152557373', 'k2: 0.3835594356060028', 'A: 0.9119353890419006')\n",
      "('k1: 0.26436030864715576', 'k2: 0.38356927037239075', 'A: 0.912400484085083')\n",
      "('k1: 0.2638462483882904', 'k2: 0.38357987999916077', 'A: 0.9128899574279785')\n",
      "('k1: 0.26330170035362244', 'k2: 0.3835909366607666', 'A: 0.9134049415588379')\n",
      "('k1: 0.26272621750831604', 'k2: 0.3836020827293396', 'A: 0.9139467477798462')\n",
      "('k1: 0.26211923360824585', 'k2: 0.38361304998397827', 'A: 0.9145168662071228')\n",
      "('k1: 0.2614796459674835', 'k2: 0.3836236298084259', 'A: 0.915116548538208')\n",
      "('k1: 0.26080629229545593', 'k2: 0.38363367319107056', 'A: 0.9157472252845764')\n",
      "('k1: 0.26009780168533325', 'k2: 0.38364285230636597', 'A: 0.9164103865623474')\n",
      "('k1: 0.2593526840209961', 'k2: 0.3836509883403778', 'A: 0.9171074032783508')\n",
      "('k1: 0.2585693299770355', 'k2: 0.3836578130722046', 'A: 0.9178397059440613')\n",
      "('k1: 0.25774601101875305', 'k2: 0.3836631774902344', 'A: 0.9186087846755981')\n",
      "('k1: 0.25688090920448303', 'k2: 0.3836667835712433', 'A: 0.9194163084030151')\n",
      "('k1: 0.2559720277786255', 'k2: 0.38366836309432983', 'A: 0.9202633500099182')\n",
      "('k1: 0.2550175189971924', 'k2: 0.38366761803627014', 'A: 0.9211515784263611')\n",
      "('k1: 0.2540154457092285', 'k2: 0.3836643099784851', 'A: 0.9220821261405945')\n",
      "('k1: 0.2529637813568115', 'k2: 0.3836580216884613', 'A: 0.9230563640594482')\n",
      "('k1: 0.2518606185913086', 'k2: 0.3836483061313629', 'A: 0.9240755438804626')\n",
      "('k1: 0.2507040202617645', 'k2: 0.38363486528396606', 'A: 0.9251405000686646')\n",
      "('k1: 0.24949197471141815', 'k2: 0.3836172819137573', 'A: 0.9262521266937256')\n",
      "('k1: 0.24822279810905457', 'k2: 0.3835950791835785', 'A: 0.9274111390113831')\n",
      "('k1: 0.24689461290836334', 'k2: 0.38356783986091614', 'A: 0.9286179542541504')\n",
      "('k1: 0.24550606310367584', 'k2: 0.3835349977016449', 'A: 0.929872453212738')\n",
      "('k1: 0.24405573308467865', 'k2: 0.3834960460662842', 'A: 0.931174635887146')\n",
      "('k1: 0.24254247546195984', 'k2: 0.38345053791999817', 'A: 0.932523787021637')\n",
      "('k1: 0.24096566438674927', 'k2: 0.3833978474140167', 'A: 0.9339187741279602')\n",
      "('k1: 0.23932459950447083', 'k2: 0.38333752751350403', 'A: 0.935358464717865')\n",
      "('k1: 0.23761960864067078', 'k2: 0.3832691013813019', 'A: 0.9368402361869812')\n",
      "('k1: 0.2358511984348297', 'k2: 0.3831920623779297', 'A: 0.9383617639541626')\n",
      "('k1: 0.2340203821659088', 'k2: 0.38310596346855164', 'A: 0.9399197697639465')\n",
      "('k1: 0.23212896287441254', 'k2: 0.38301053643226624', 'A: 0.9415106177330017')\n",
      "('k1: 0.23017936944961548', 'k2: 0.38290536403656006', 'A: 0.9431295990943909')\n",
      "('k1: 0.2281748652458191', 'k2: 0.38279035687446594', 'A: 0.9447720050811768')\n",
      "('k1: 0.22611942887306213', 'k2: 0.3826653063297272', 'A: 0.9464320540428162')\n",
      "('k1: 0.22401796281337738', 'k2: 0.38253024220466614', 'A: 0.9481039047241211')\n",
      "('k1: 0.22187598049640656', 'k2: 0.38238540291786194', 'A: 0.9497809410095215')\n",
      "('k1: 0.21969996392726898', 'k2: 0.3822310268878937', 'A: 0.9514564275741577')\n",
      "('k1: 0.21749719977378845', 'k2: 0.38206759095191956', 'A: 0.9531232118606567')\n",
      "('k1: 0.21527542173862457', 'k2: 0.38189569115638733', 'A: 0.9547743201255798')\n",
      "('k1: 0.213043212890625', 'k2: 0.3817160129547119', 'A: 0.9564027190208435')\n",
      "('k1: 0.21080940961837769', 'k2: 0.38152948021888733', 'A: 0.9580013751983643')\n",
      "('k1: 0.20858314633369446', 'k2: 0.38133713603019714', 'A: 0.9595639705657959')\n",
      "('k1: 0.20637354254722595', 'k2: 0.3811400830745697', 'A: 0.9610844850540161')\n",
      "('k1: 0.20418989658355713', 'k2: 0.3809395134449005', 'A: 0.9625575542449951')\n",
      "('k1: 0.2020411193370819', 'k2: 0.38073647022247314', 'A: 0.9639782309532166')\n",
      "('k1: 0.19993586838245392', 'k2: 0.380532443523407', 'A: 0.9653425812721252')\n",
      "('k1: 0.19788199663162231', 'k2: 0.38032856583595276', 'A: 0.9666473269462585')\n",
      "('k1: 0.19588682055473328', 'k2: 0.3801262378692627', 'A: 0.9678901433944702')\n",
      "('k1: 0.19395685195922852', 'k2: 0.3799264132976532', 'A: 0.9690693020820618')\n",
      "('k1: 0.1920977383852005', 'k2: 0.3797302842140198', 'A: 0.970183789730072')\n",
      "('k1: 0.19031424820423126', 'k2: 0.3795388638973236', 'A: 0.9712334275245667')\n",
      "('k1: 0.18861013650894165', 'k2: 0.3793531060218811', 'A: 0.9722185730934143')\n",
      "('k1: 0.18698851764202118', 'k2: 0.3791736364364624', 'A: 0.9731398820877075')\n",
      "('k1: 0.18545129895210266', 'k2: 0.3790012001991272', 'A: 0.9739989638328552')\n",
      "('k1: 0.18399997055530548', 'k2: 0.37883633375167847', 'A: 0.974797248840332')\n"
     ]
    },
    {
     "name": "stdout",
     "output_type": "stream",
     "text": [
      "('k1: 0.1826348751783371', 'k2: 0.3786795139312744', 'A: 0.9755368232727051')\n",
      "('k1: 0.18135593831539154', 'k2: 0.3785310983657837', 'A: 0.976219892501831')\n",
      "('k1: 0.1801624894142151', 'k2: 0.3783912658691406', 'A: 0.9768489003181458')\n",
      "('k1: 0.1790531873703003', 'k2: 0.37826016545295715', 'A: 0.9774261116981506')\n",
      "('k1: 0.1780262142419815', 'k2: 0.3781377971172333', 'A: 0.9779542684555054')\n",
      "('k1: 0.17707958817481995', 'k2: 0.3780241906642914', 'A: 0.978435754776001')\n",
      "('k1: 0.17621074616909027', 'k2: 0.37791934609413147', 'A: 0.9788731336593628')\n",
      "('k1: 0.17541690170764923', 'k2: 0.3778229057788849', 'A: 0.9792690873146057')\n",
      "('k1: 0.17469508945941925', 'k2: 0.3777347505092621', 'A: 0.9796261191368103')\n",
      "('k1: 0.1740420162677765', 'k2: 0.3776545822620392', 'A: 0.9799464344978333')\n",
      "('k1: 0.1734543740749359', 'k2: 0.3775821626186371', 'A: 0.980232834815979')\n",
      "('k1: 0.1729285717010498', 'k2: 0.3775171935558319', 'A: 0.9804872870445251')\n",
      "('k1: 0.17246094346046448', 'k2: 0.3774590492248535', 'A: 0.9807124137878418')\n",
      "('k1: 0.17204773426055908', 'k2: 0.37740767002105713', 'A: 0.9809103608131409')\n",
      "('k1: 0.17168527841567993', 'k2: 0.377362459897995', 'A: 0.9810830950737')\n",
      "('k1: 0.17136956751346588', 'k2: 0.3773229420185089', 'A: 0.9812330007553101')\n",
      "('k1: 0.1710967719554901', 'k2: 0.3772888779640198', 'A: 0.9813621640205383')\n",
      "('k1: 0.17086318135261536', 'k2: 0.37725940346717834', 'A: 0.981472373008728')\n",
      "('k1: 0.17066487669944763', 'k2: 0.3772345185279846', 'A: 0.9815657138824463')\n",
      "('k1: 0.17049828171730042', 'k2: 0.37721365690231323', 'A: 0.9816439747810364')\n",
      "('k1: 0.17035973072052002', 'k2: 0.3771963119506836', 'A: 0.9817088842391968')\n",
      "('k1: 0.17024584114551544', 'k2: 0.37718185782432556', 'A: 0.981762170791626')\n",
      "('k1: 0.1701531857252121', 'k2: 0.377170205116272', 'A: 0.9818055033683777')\n",
      "('k1: 0.17007897794246674', 'k2: 0.37716081738471985', 'A: 0.981840193271637')\n",
      "('k1: 0.17002014815807343', 'k2: 0.3771533966064453', 'A: 0.9818676710128784')\n",
      "('k1: 0.16997429728507996', 'k2: 0.37714746594429016', 'A: 0.9818890690803528')\n",
      "('k1: 0.16993899643421173', 'k2: 0.3771430552005768', 'A: 0.981905460357666')\n",
      "('k1: 0.1699123978614807', 'k2: 0.37713974714279175', 'A: 0.9819179177284241')\n",
      "('k1: 0.16989260911941528', 'k2: 0.3771371841430664', 'A: 0.9819270968437195')\n",
      "('k1: 0.16987819969654083', 'k2: 0.3771352767944336', 'A: 0.9819338917732239')\n",
      "('k1: 0.16986773908138275', 'k2: 0.37713390588760376', 'A: 0.9819387197494507')\n",
      "('k1: 0.1698605716228485', 'k2: 0.37713322043418884', 'A: 0.9819419980049133')\n",
      "('k1: 0.16985563933849335', 'k2: 0.3771326541900635', 'A: 0.9819443225860596')\n",
      "('k1: 0.1698523312807083', 'k2: 0.37713199853897095', 'A: 0.9819459319114685')\n",
      "('k1: 0.1698502153158188', 'k2: 0.3771319091320038', 'A: 0.9819468259811401')\n",
      "('k1: 0.1698489785194397', 'k2: 0.37713155150413513', 'A: 0.9819474220275879')\n",
      "('k1: 0.16984793543815613', 'k2: 0.37713149189949036', 'A: 0.9819478988647461')\n",
      "('k1: 0.16984796524047852', 'k2: 0.3771313428878784', 'A: 0.9819478988647461')\n",
      "('k1: 0.1698479801416397', 'k2: 0.3771314322948456', 'A: 0.9819478988647461')\n",
      "('k1: 0.16984796524047852', 'k2: 0.37713152170181274', 'A: 0.9819478988647461')\n",
      "('k1: 0.1698480248451233', 'k2: 0.3771328032016754', 'A: 0.9819478988647461')\n",
      "('k1: 0.16984815895557404', 'k2: 0.37714114785194397', 'A: 0.9819480180740356')\n",
      "('k1: 0.1698472797870636', 'k2: 0.37713146209716797', 'A: 0.9819482564926147')\n",
      "('k1: 0.16984955966472626', 'k2: 0.3771986961364746', 'A: 0.9819484353065491')\n",
      "('k1: 0.1698462963104248', 'k2: 0.3771311640739441', 'A: 0.9819486737251282')\n",
      "('k1: 0.1698462814092636', 'k2: 0.37713053822517395', 'A: 0.9819485545158386')\n"
     ]
    }
   ],
   "source": [
    "data_path = EXAMLES_DIR / \"kon1.00e-02ratej1.00e+00\"\n",
    "param_path = data_path / \"runs/cosmos/v1.1.6/S1/control/lr0.005/bs64/\"\n",
    "\n",
    "model = Cosmos()\n",
    "model.load(data_path, True, \"cpu\")\n",
    "model.load_parameters(param_path)\n",
    "\n",
    "dt = bound_dwell_times(count_intervals(model.z_map))\n",
    "dt = torch.tensor(dt, dtype=torch.float)\n",
    "\n",
    "train(\n",
    "    double_exp_model, double_exp_guide, lr=5e-3, n_steps=15000,\n",
    "    data=dt\n",
    ")"
   ]
  },
  {
   "cell_type": "code",
   "execution_count": 5,
   "metadata": {},
   "outputs": [
    {
     "data": {
      "image/png": "[encoded data removed]",
      "text/plain": [
       "<Figure size 108x108 with 1 Axes>"
      ]
     },
     "metadata": {
      "needs_background": "light"
     },
     "output_type": "display_data"
    }
   ],
   "source": [
    "k = 1 / dt.mean()\n",
    "\n",
    "plt.figure(figsize=(1.5, 1.5))\n",
    "plt.title(\n",
    "    f\"k = {k:.2e}\\nk1 = {pyro.param('k1').item():.2e}\\nk2 = {pyro.param('k2').item():.2e}\\nA = {pyro.param('A').item():.2e}\",\n",
    "    fontsize=8\n",
    ")\n",
    "plt.hist(dt.numpy(), bins=np.arange(0.5, dt.max(), 1), density=True, alpha=0.3)\n",
    "x = torch.arange(0.01, dt.max())\n",
    "d = dist.Exponential(k)\n",
    "plt.plot(x, d.log_prob(x).exp())\n",
    "d1 = (1 - pyro.param(\"A\").item())*(dist.Exponential(pyro.param(\"k1\").item()).log_prob(x)).exp()\n",
    "d2 = pyro.param(\"A\").item()*(dist.Exponential(pyro.param(\"k2\").item()).log_prob(x)).exp()\n",
    "plt.plot(x, d1, label=\"A1\")\n",
    "plt.plot(x, d2, label=\"A2\")\n",
    "plt.plot(x, d1+d2, label=\"At\")\n",
    "plt.xlabel(\"Bound dwell times\", fontsize=8)\n",
    "plt.ylabel(\"pdf\", fontsize=8)\n",
    "#plt.ylim(0, 0.2)\n",
    "#plt.xlim(0, 100)\n",
    "plt.legend(fontsize=8)\n",
    "plt.savefig(\"/tmp/koff1-ratej1.00.svg\")\n",
    "plt.show()"
   ]
  },
  {
   "cell_type": "markdown",
   "metadata": {},
   "source": [
    "kon 0.03 ratej 0.01"
   ]
  },
  {
   "cell_type": "code",
   "execution_count": 70,
   "metadata": {
    "scrolled": true
   },
   "outputs": [
    {
     "name": "stdout",
     "output_type": "stream",
     "text": [
      "('k1: 0.06429889053106308', 'k2: 0.6089930534362793', 'A: 0.3852241039276123')\n",
      "('k1: 0.04733523353934288', 'k2: 0.38338184356689453', 'A: 0.3016999065876007')\n",
      "('k1: 0.03843194246292114', 'k2: 0.2551793158054352', 'A: 0.2464461773633957')\n",
      "('k1: 0.033476945012807846', 'k2: 0.17957662045955658', 'A: 0.2113204300403595')\n",
      "('k1: 0.030689915642142296', 'k2: 0.13262619078159332', 'A: 0.18942521512508392')\n",
      "('k1: 0.029186978936195374', 'k2: 0.10220082104206085', 'A: 0.17602312564849854')\n",
      "('k1: 0.028475327417254448', 'k2: 0.08191794157028198', 'A: 0.16801241040229797')\n",
      "('k1: 0.02825082093477249', 'k2: 0.06815483421087265', 'A: 0.1633557826280594')\n",
      "('k1: 0.028311533853411674', 'k2: 0.05868731439113617', 'A: 0.16071423888206482')\n",
      "('k1: 0.028520368039608', 'k2: 0.052068036049604416', 'A: 0.159232035279274')\n",
      "('k1: 0.028788505122065544', 'k2: 0.0473371297121048', 'A: 0.15839232504367828')\n",
      "('k1: 0.029064159840345383', 'k2: 0.04386519268155098', 'A: 0.15790243446826935')\n",
      "('k1: 0.029321780428290367', 'k2: 0.041247304528951645', 'A: 0.15760505199432373')\n",
      "('k1: 0.029551943764090538', 'k2: 0.0392245315015316', 'A: 0.1574172079563141')\n",
      "('k1: 0.02975340373814106', 'k2: 0.037629637867212296', 'A: 0.15729470551013947')\n",
      "('k1: 0.029928244650363922', 'k2: 0.036351773887872696', 'A: 0.157213032245636')\n",
      "('k1: 0.030079511925578117', 'k2: 0.03531545400619507', 'A: 0.15715785324573517')\n",
      "('k1: 0.03021007962524891', 'k2: 0.03446776792407036', 'A: 0.15712027251720428')\n",
      "('k1: 0.03032250516116619', 'k2: 0.03377048298716545', 'A: 0.15709471702575684')\n",
      "('k1: 0.030418917536735535', 'k2: 0.03319539874792099', 'A: 0.15707740187644958')\n",
      "('k1: 0.030501140281558037', 'k2: 0.03272109851241112', 'A: 0.157065749168396')\n",
      "('k1: 0.030570734292268753', 'k2: 0.03233085945248604', 'A: 0.15705803036689758')\n",
      "('k1: 0.030629098415374756', 'k2: 0.032011259347200394', 'A: 0.15705284476280212')\n",
      "('k1: 0.030677560716867447', 'k2: 0.031751252710819244', 'A: 0.15704961121082306')\n",
      "('k1: 0.03071730025112629', 'k2: 0.03154144436120987', 'A: 0.15704776346683502')\n",
      "('k1: 0.030749468132853508', 'k2: 0.031373925507068634', 'A: 0.15704618394374847')\n",
      "('k1: 0.03077513910830021', 'k2: 0.031241662800312042', 'A: 0.15704552829265594')\n",
      "('k1: 0.03079531528055668', 'k2: 0.031138604506850243', 'A: 0.15704552829265594')\n",
      "('k1: 0.030810922384262085', 'k2: 0.031059490516781807', 'A: 0.15704552829265594')\n",
      "('k1: 0.0308227501809597', 'k2: 0.030999699607491493', 'A: 0.15704552829265594')\n",
      "('k1: 0.030831599608063698', 'k2: 0.030955245718359947', 'A: 0.15704552829265594')\n",
      "('k1: 0.03083808347582817', 'k2: 0.030922818928956985', 'A: 0.15704552829265594')\n",
      "('k1: 0.030842700973153114', 'k2: 0.030899617820978165', 'A: 0.15704552829265594')\n",
      "('k1: 0.03084595873951912', 'k2: 0.0308834221214056', 'A: 0.15704552829265594')\n",
      "('k1: 0.030848195776343346', 'k2: 0.03087230585515499', 'A: 0.15704552829265594')\n",
      "('k1: 0.03084966540336609', 'k2: 0.030865013599395752', 'A: 0.15704552829265594')\n",
      "('k1: 0.03085053339600563', 'k2: 0.030860230326652527', 'A: 0.15704552829265594')\n",
      "('k1: 0.030851269140839577', 'k2: 0.03085719794034958', 'A: 0.15704552829265594')\n",
      "('k1: 0.030851630493998528', 'k2: 0.03085504285991192', 'A: 0.15704552829265594')\n",
      "('k1: 0.030851807445287704', 'k2: 0.03085404261946678', 'A: 0.15704552829265594')\n",
      "('k1: 0.030851902440190315', 'k2: 0.03085353597998619', 'A: 0.15704552829265594')\n",
      "('k1: 0.03085191734135151', 'k2: 0.030853476375341415', 'A: 0.15704552829265594')\n",
      "('k1: 0.030851932242512703', 'k2: 0.030853409320116043', 'A: 0.15704552829265594')\n",
      "('k1: 0.030851947143673897', 'k2: 0.030853351578116417', 'A: 0.15704552829265594')\n",
      "('k1: 0.03085196018218994', 'k2: 0.03085329942405224', 'A: 0.15704552829265594')\n",
      "('k1: 0.030851975083351135', 'k2: 0.030853241682052612', 'A: 0.15704552829265594')\n",
      "('k1: 0.030851982533931732', 'k2: 0.030853182077407837', 'A: 0.15704552829265594')\n",
      "('k1: 0.030851997435092926', 'k2: 0.03085312247276306', 'A: 0.15704552829265594')\n",
      "('k1: 0.03085201233625412', 'k2: 0.030853064730763435', 'A: 0.15704552829265594')\n",
      "('k1: 0.030852019786834717', 'k2: 0.03085302747786045', 'A: 0.15704552829265594')\n"
     ]
    }
   ],
   "source": [
    "data_path = EXAMLES_DIR / \"kon3.00e-02ratej1.00e-02\"\n",
    "param_path = data_path / \"runs/cosmos/v1.1.6/S1/control/lr0.005/bs64/\"\n",
    "\n",
    "model = Cosmos()\n",
    "model.load(data_path, True, \"cpu\")\n",
    "model.load_parameters(param_path)\n",
    "\n",
    "dt = unbound_dwell_times(count_intervals(model.z_map))\n",
    "dt = torch.tensor(dt, dtype=torch.float)\n",
    "\n",
    "train(\n",
    "    double_exp_model, double_exp_guide, lr=5e-3, n_steps=5000,\n",
    "    data=dt\n",
    ")"
   ]
  },
  {
   "cell_type": "code",
   "execution_count": 71,
   "metadata": {},
   "outputs": [
    {
     "data": {
      "image/png": "[encoded data removed]",
      "text/plain": [
       "<Figure size 108x108 with 1 Axes>"
      ]
     },
     "metadata": {
      "needs_background": "light"
     },
     "output_type": "display_data"
    }
   ],
   "source": [
    "k = 1 / dt.mean()\n",
    "\n",
    "plt.figure(figsize=(1.5, 1.5))\n",
    "plt.title(\n",
    "    f\"k = {k:.2e}\\nk1 = {pyro.param('k1').item():.2e}\\nk2 = {pyro.param('k2').item():.2e}\\nA = {pyro.param('A').item():.2e}\",\n",
    "    fontsize=8\n",
    ")\n",
    "plt.hist(dt.numpy(), bins=np.arange(0.5, dt.max(), 1), density=True, alpha=0.3)\n",
    "x = torch.arange(0.01, dt.max())\n",
    "d = dist.Exponential(k)\n",
    "plt.plot(x, d.log_prob(x).exp())\n",
    "d1 = (1 - pyro.param(\"A\").item())*(dist.Exponential(pyro.param(\"k1\").item()).log_prob(x)).exp()\n",
    "d2 = pyro.param(\"A\").item()*(dist.Exponential(pyro.param(\"k2\").item()).log_prob(x)).exp()\n",
    "plt.plot(x, d1, label=\"A1\")\n",
    "plt.plot(x, d2, label=\"A2\")\n",
    "plt.plot(x, d1+d2, label=\"At\")\n",
    "plt.xlabel(\"Unbound dwell times\", fontsize=8)\n",
    "plt.ylabel(\"pdf\", fontsize=8)\n",
    "#plt.ylim(0, 0.2)\n",
    "#plt.xlim(0, 100)\n",
    "plt.legend(fontsize=8)\n",
    "plt.savefig(\"/tmp/kon3-ratej0.01.svg\")\n",
    "plt.show()"
   ]
  },
  {
   "cell_type": "code",
   "execution_count": 72,
   "metadata": {
    "scrolled": true
   },
   "outputs": [
    {
     "name": "stdout",
     "output_type": "stream",
     "text": [
      "('k1: 0.14859764277935028', 'k2: 0.6439282298088074', 'A: 0.39227402210235596')\n",
      "('k1: 0.1681232452392578', 'k2: 0.4729207754135132', 'A: 0.3269785940647125')\n",
      "('k1: 0.17614763975143433', 'k2: 0.37837734818458557', 'A: 0.29228711128234863')\n",
      "('k1: 0.18218424916267395', 'k2: 0.3205605149269104', 'A: 0.27381956577301025')\n",
      "('k1: 0.18697665631771088', 'k2: 0.28268298506736755', 'A: 0.2637477517127991')\n",
      "('k1: 0.19085614383220673', 'k2: 0.25684916973114014', 'A: 0.2582547664642334')\n",
      "('k1: 0.1939850002527237', 'k2: 0.23888356983661652', 'A: 0.2553217113018036')\n",
      "('k1: 0.19645150005817413', 'k2: 0.2263450026512146', 'A: 0.25381582975387573')\n",
      "('k1: 0.19832558929920197', 'k2: 0.21767687797546387', 'A: 0.2530836760997772')\n",
      "('k1: 0.199686199426651', 'k2: 0.21180503070354462', 'A: 0.25275105237960815')\n",
      "('k1: 0.20062582194805145', 'k2: 0.207940936088562', 'A: 0.252610981464386')\n",
      "('k1: 0.2012421041727066', 'k2: 0.20548605918884277', 'A: 0.2525566816329956')\n",
      "('k1: 0.20162619650363922', 'k2: 0.20398704707622528', 'A: 0.2525373697280884')\n",
      "('k1: 0.20185357332229614', 'k2: 0.2031102180480957', 'A: 0.2525310218334198')\n",
      "('k1: 0.2019815444946289', 'k2: 0.20262017846107483', 'A: 0.2525291442871094')\n",
      "('k1: 0.20204995572566986', 'k2: 0.20235921442508698', 'A: 0.2525291442871094')\n",
      "('k1: 0.20208466053009033', 'k2: 0.20222699642181396', 'A: 0.2525291442871094')\n",
      "('k1: 0.20210140943527222', 'k2: 0.2021634578704834', 'A: 0.2525291442871094')\n",
      "('k1: 0.20210890471935272', 'k2: 0.2021346092224121', 'A: 0.2525291442871094')\n",
      "('k1: 0.20211222767829895', 'k2: 0.202122300863266', 'A: 0.2525291442871094')\n",
      "('k1: 0.20211352407932281', 'k2: 0.20211730897426605', 'A: 0.2525291442871094')\n",
      "('k1: 0.2021140158176422', 'k2: 0.20211543142795563', 'A: 0.2525291442871094')\n",
      "('k1: 0.2021140158176422', 'k2: 0.20211543142795563', 'A: 0.2525291442871094')\n",
      "('k1: 0.2021140158176422', 'k2: 0.20211543142795563', 'A: 0.2525291442871094')\n",
      "('k1: 0.2021140158176422', 'k2: 0.20211541652679443', 'A: 0.2525291442871094')\n",
      "('k1: 0.2021140605211258', 'k2: 0.20211531221866608', 'A: 0.2525291442871094')\n",
      "('k1: 0.2021140605211258', 'k2: 0.2021152824163437', 'A: 0.2525291442871094')\n",
      "('k1: 0.2021140605211258', 'k2: 0.2021152377128601', 'A: 0.2525291442871094')\n",
      "('k1: 0.2021140605211258', 'k2: 0.2021152377128601', 'A: 0.2525291442871094')\n",
      "('k1: 0.20211409032344818', 'k2: 0.20211514830589294', 'A: 0.2525291442871094')\n",
      "('k1: 0.20211410522460938', 'k2: 0.20211511850357056', 'A: 0.2525291442871094')\n",
      "('k1: 0.20211410522460938', 'k2: 0.20211510360240936', 'A: 0.2525291442871094')\n",
      "('k1: 0.20211410522460938', 'k2: 0.20211507380008698', 'A: 0.2525291442871094')\n",
      "('k1: 0.20211414992809296', 'k2: 0.20211496949195862', 'A: 0.2525291442871094')\n",
      "('k1: 0.20211417973041534', 'k2: 0.20211492478847504', 'A: 0.2525291442871094')\n",
      "('k1: 0.20211417973041534', 'k2: 0.20211488008499146', 'A: 0.2525291442871094')\n",
      "('k1: 0.20211417973041534', 'k2: 0.20211488008499146', 'A: 0.2525291442871094')\n",
      "('k1: 0.20211417973041534', 'k2: 0.20211485028266907', 'A: 0.2525291442871094')\n",
      "('k1: 0.20211417973041534', 'k2: 0.20211483538150787', 'A: 0.2525291442871094')\n",
      "('k1: 0.20211417973041534', 'k2: 0.20211483538150787', 'A: 0.2525291442871094')\n",
      "('k1: 0.20211420953273773', 'k2: 0.2021147608757019', 'A: 0.2525291442871094')\n",
      "('k1: 0.20211420953273773', 'k2: 0.2021147608757019', 'A: 0.2525291442871094')\n",
      "('k1: 0.20211420953273773', 'k2: 0.2021147608757019', 'A: 0.2525291442871094')\n",
      "('k1: 0.20211420953273773', 'k2: 0.20211473107337952', 'A: 0.2525291442871094')\n",
      "('k1: 0.20211422443389893', 'k2: 0.20211468636989594', 'A: 0.2525291442871094')\n",
      "('k1: 0.20211422443389893', 'k2: 0.20211465656757355', 'A: 0.2525291442871094')\n",
      "('k1: 0.2021142542362213', 'k2: 0.20211464166641235', 'A: 0.2525291442871094')\n",
      "('k1: 0.2021142542362213', 'k2: 0.20211464166641235', 'A: 0.2525291442871094')\n",
      "('k1: 0.2021142542362213', 'k2: 0.20211461186408997', 'A: 0.2525291442871094')\n",
      "('k1: 0.2021142542362213', 'k2: 0.20211461186408997', 'A: 0.2525291442871094')\n"
     ]
    }
   ],
   "source": [
    "data_path = EXAMLES_DIR / \"kon3.00e-02ratej1.00e-02\"\n",
    "param_path = data_path / \"runs/cosmos/v1.1.6/S1/control/lr0.005/bs64/\"\n",
    "\n",
    "model = Cosmos()\n",
    "model.load(data_path, True, \"cpu\")\n",
    "model.load_parameters(param_path)\n",
    "\n",
    "dt = bound_dwell_times(count_intervals(model.z_map))\n",
    "dt = torch.tensor(dt, dtype=torch.float)\n",
    "\n",
    "train(\n",
    "    double_exp_model, double_exp_guide, lr=5e-3, n_steps=5000,\n",
    "    data=dt\n",
    ")"
   ]
  },
  {
   "cell_type": "code",
   "execution_count": 73,
   "metadata": {},
   "outputs": [
    {
     "data": {
      "image/png": "[encoded data removed]",
      "text/plain": [
       "<Figure size 108x108 with 1 Axes>"
      ]
     },
     "metadata": {
      "needs_background": "light"
     },
     "output_type": "display_data"
    }
   ],
   "source": [
    "k = 1 / dt.mean()\n",
    "\n",
    "plt.figure(figsize=(1.5, 1.5))\n",
    "plt.title(\n",
    "    f\"k = {k:.2e}\\nk1 = {pyro.param('k1').item():.2e}\\nk2 = {pyro.param('k2').item():.2e}\\nA = {pyro.param('A').item():.2e}\",\n",
    "    fontsize=8\n",
    ")\n",
    "plt.hist(dt.numpy(), bins=np.arange(0.5, dt.max(), 1), density=True, alpha=0.3)\n",
    "x = torch.arange(0.01, dt.max())\n",
    "d = dist.Exponential(k)\n",
    "plt.plot(x, d.log_prob(x).exp())\n",
    "d1 = (1 - pyro.param(\"A\").item())*(dist.Exponential(pyro.param(\"k1\").item()).log_prob(x)).exp()\n",
    "d2 = pyro.param(\"A\").item()*(dist.Exponential(pyro.param(\"k2\").item()).log_prob(x)).exp()\n",
    "plt.plot(x, d1, label=\"A1\")\n",
    "plt.plot(x, d2, label=\"A2\")\n",
    "plt.plot(x, d1+d2, label=\"At\")\n",
    "plt.xlabel(\"Bound dwell times\", fontsize=8)\n",
    "plt.ylabel(\"pdf\", fontsize=8)\n",
    "#plt.ylim(0, 0.2)\n",
    "#plt.xlim(0, 100)\n",
    "plt.legend(fontsize=8)\n",
    "plt.savefig(\"/tmp/koff3-ratej0.01.svg\")\n",
    "plt.show()"
   ]
  },
  {
   "cell_type": "markdown",
   "metadata": {},
   "source": [
    "kon 0.03 ratej 1.00"
   ]
  },
  {
   "cell_type": "code",
   "execution_count": 74,
   "metadata": {
    "scrolled": true
   },
   "outputs": [
    {
     "name": "stdout",
     "output_type": "stream",
     "text": [
      "('k1: 0.06476425379514694', 'k2: 0.6542090177536011', 'A: 0.3885544538497925')\n",
      "('k1: 0.048972658812999725', 'k2: 0.5223057270050049', 'A: 0.31467205286026')\n",
      "('k1: 0.041448865085840225', 'k2: 0.4862697720527649', 'A: 0.2697051763534546')\n",
      "('k1: 0.03786434605717659', 'k2: 0.49229317903518677', 'A: 0.2423112690448761')\n",
      "('k1: 0.03629130497574806', 'k2: 0.5118237733840942', 'A: 0.22487778961658478')\n",
      "('k1: 0.03573278337717056', 'k2: 0.5313205122947693', 'A: 0.21313484013080597')\n",
      "('k1: 0.0356387235224247', 'k2: 0.5468981266021729', 'A: 0.20483404397964478')\n",
      "('k1: 0.035717885941267014', 'k2: 0.5585981607437134', 'A: 0.19879093766212463')\n",
      "('k1: 0.03583487123250961', 'k2: 0.5672031044960022', 'A: 0.19435308873653412')\n",
      "('k1: 0.035939160734415054', 'k2: 0.5734153389930725', 'A: 0.1911219358444214')\n",
      "('k1: 0.03601841256022453', 'k2: 0.5777995586395264', 'A: 0.18881642818450928')\n",
      "('k1: 0.03607432544231415', 'k2: 0.5808144211769104', 'A: 0.1872156709432602')\n",
      "('k1: 0.036111991852521896', 'k2: 0.5828282833099365', 'A: 0.18613821268081665')\n",
      "('k1: 0.036136459559202194', 'k2: 0.5841321349143982', 'A: 0.1854371726512909')\n",
      "('k1: 0.03615175560116768', 'k2: 0.584947943687439', 'A: 0.18499711155891418')\n",
      "('k1: 0.03616099804639816', 'k2: 0.5854397416114807', 'A: 0.18473117053508759')\n",
      "('k1: 0.036166369915008545', 'k2: 0.585724949836731', 'A: 0.18457676470279694')\n",
      "('k1: 0.03616936877369881', 'k2: 0.585883617401123', 'A: 0.18449079990386963')\n",
      "('k1: 0.03617088869214058', 'k2: 0.5859681963920593', 'A: 0.18444499373435974')\n",
      "('k1: 0.036171749234199524', 'k2: 0.5860108733177185', 'A: 0.1844218522310257')\n",
      "('k1: 0.036172062158584595', 'k2: 0.5860316753387451', 'A: 0.18441049754619598')\n",
      "('k1: 0.03617218881845474', 'k2: 0.5860407948493958', 'A: 0.18440552055835724')\n",
      "('k1: 0.036172252148389816', 'k2: 0.5860446691513062', 'A: 0.1844034194946289')\n",
      "('k1: 0.036172278225421906', 'k2: 0.5860456824302673', 'A: 0.18440291285514832')\n",
      "('k1: 0.036172278225421906', 'k2: 0.5860456824302673', 'A: 0.18440291285514832')\n",
      "('k1: 0.0361722931265831', 'k2: 0.5860458016395569', 'A: 0.18440280854701996')\n",
      "('k1: 0.0361722931265831', 'k2: 0.5860459208488464', 'A: 0.18440279364585876')\n",
      "('k1: 0.036172300577163696', 'k2: 0.5860459208488464', 'A: 0.184402734041214')\n",
      "('k1: 0.03617231175303459', 'k2: 0.5860463976860046', 'A: 0.18440258502960205')\n",
      "('k1: 0.03617231920361519', 'k2: 0.5860463976860046', 'A: 0.18440254032611847')\n",
      "('k1: 0.036172326654195786', 'k2: 0.5860466957092285', 'A: 0.18440242111682892')\n",
      "('k1: 0.03617233783006668', 'k2: 0.5860466957092285', 'A: 0.18440242111682892')\n",
      "('k1: 0.03617233783006668', 'k2: 0.5860466957092285', 'A: 0.18440240621566772')\n",
      "('k1: 0.03617234528064728', 'k2: 0.5860469937324524', 'A: 0.1844022572040558')\n",
      "('k1: 0.036172352731227875', 'k2: 0.5860469937324524', 'A: 0.1844022572040558')\n",
      "('k1: 0.036172352731227875', 'k2: 0.5860469937324524', 'A: 0.1844022572040558')\n",
      "('k1: 0.03617236390709877', 'k2: 0.5860472321510315', 'A: 0.18440213799476624')\n",
      "('k1: 0.03617236390709877', 'k2: 0.5860472321510315', 'A: 0.18440210819244385')\n",
      "('k1: 0.03617237135767937', 'k2: 0.5860472321510315', 'A: 0.18440206348896027')\n",
      "('k1: 0.03617237135767937', 'k2: 0.5860472917556763', 'A: 0.18440206348896027')\n",
      "('k1: 0.036172378808259964', 'k2: 0.5860474705696106', 'A: 0.1844020038843155')\n",
      "('k1: 0.036172378808259964', 'k2: 0.5860474705696106', 'A: 0.1844020038843155')\n",
      "('k1: 0.03617238998413086', 'k2: 0.5860477685928345', 'A: 0.18440188467502594')\n",
      "('k1: 0.03617238998413086', 'k2: 0.5860478281974792', 'A: 0.18440188467502594')\n",
      "('k1: 0.03617238998413086', 'k2: 0.5860478281974792', 'A: 0.18440188467502594')\n",
      "('k1: 0.03617238998413086', 'k2: 0.5860478281974792', 'A: 0.18440188467502594')\n",
      "('k1: 0.036172397434711456', 'k2: 0.5860478281974792', 'A: 0.18440183997154236')\n",
      "('k1: 0.036172397434711456', 'k2: 0.5860478281974792', 'A: 0.18440183997154236')\n",
      "('k1: 0.036172397434711456', 'k2: 0.5860478281974792', 'A: 0.18440183997154236')\n",
      "('k1: 0.03617240488529205', 'k2: 0.5860481262207031', 'A: 0.1844017505645752')\n"
     ]
    }
   ],
   "source": [
    "data_path = EXAMLES_DIR / \"kon3.00e-02ratej1.00e+00\"\n",
    "param_path = data_path / \"runs/cosmos/v1.1.6/S1/control/lr0.005/bs64/\"\n",
    "\n",
    "model = Cosmos()\n",
    "model.load(data_path, True, \"cpu\")\n",
    "model.load_parameters(param_path)\n",
    "\n",
    "dt = unbound_dwell_times(count_intervals(model.z_map))\n",
    "dt = torch.tensor(dt, dtype=torch.float)\n",
    "\n",
    "train(\n",
    "    double_exp_model, double_exp_guide, lr=5e-3, n_steps=5000,\n",
    "    data=dt\n",
    ")"
   ]
  },
  {
   "cell_type": "code",
   "execution_count": 75,
   "metadata": {},
   "outputs": [
    {
     "data": {
      "image/png": "[encoded data removed]",
      "text/plain": [
       "<Figure size 108x108 with 1 Axes>"
      ]
     },
     "metadata": {
      "needs_background": "light"
     },
     "output_type": "display_data"
    }
   ],
   "source": [
    "k = 1 / dt.mean()\n",
    "\n",
    "plt.figure(figsize=(1.5, 1.5))\n",
    "plt.title(\n",
    "    f\"k = {k:.2e}\\nk1 = {pyro.param('k1').item():.2e}\\nk2 = {pyro.param('k2').item():.2e}\\nA = {pyro.param('A').item():.2e}\",\n",
    "    fontsize=8\n",
    ")\n",
    "plt.hist(dt.numpy(), bins=np.arange(0.5, dt.max(), 1), density=True, alpha=0.3)\n",
    "x = torch.arange(0.01, dt.max())\n",
    "d = dist.Exponential(k)\n",
    "plt.plot(x, d.log_prob(x).exp())\n",
    "d1 = (1 - pyro.param(\"A\").item())*(dist.Exponential(pyro.param(\"k1\").item()).log_prob(x)).exp()\n",
    "d2 = pyro.param(\"A\").item()*(dist.Exponential(pyro.param(\"k2\").item()).log_prob(x)).exp()\n",
    "plt.plot(x, d1, label=\"A1\")\n",
    "plt.plot(x, d2, label=\"A2\")\n",
    "plt.plot(x, d1+d2, label=\"At\")\n",
    "plt.xlabel(\"Unbound dwell times\", fontsize=8)\n",
    "plt.ylabel(\"pdf\", fontsize=8)\n",
    "#plt.ylim(0, 0.2)\n",
    "#plt.xlim(0, 100)\n",
    "plt.legend(fontsize=8)\n",
    "plt.savefig(\"/tmp/kon3-ratej1.00.svg\")\n",
    "plt.show()"
   ]
  },
  {
   "cell_type": "code",
   "execution_count": 76,
   "metadata": {
    "scrolled": true
   },
   "outputs": [
    {
     "name": "stdout",
     "output_type": "stream",
     "text": [
      "('k1: 0.15617799758911133', 'k2: 0.647297203540802', 'A: 0.5069931149482727')\n",
      "('k1: 0.20707674324512482', 'k2: 0.4913097620010376', 'A: 0.4942482113838196')\n",
      "('k1: 0.24359451234340668', 'k2: 0.41981959342956543', 'A: 0.45229554176330566')\n",
      "('k1: 0.2674409747123718', 'k2: 0.38248029351234436', 'A: 0.4005151093006134')\n",
      "('k1: 0.282022088766098', 'k2: 0.3598668575286865', 'A: 0.35330092906951904')\n",
      "('k1: 0.2904234230518341', 'k2: 0.3445858061313629', 'A: 0.3189501464366913')\n",
      "('k1: 0.295314222574234', 'k2: 0.3336505889892578', 'A: 0.29734253883361816')\n",
      "('k1: 0.2983766496181488', 'k2: 0.32561224699020386', 'A: 0.28469809889793396')\n",
      "('k1: 0.3004414439201355', 'k2: 0.3196442425251007', 'A: 0.27759549021720886')\n",
      "('k1: 0.301898717880249', 'k2: 0.3152262568473816', 'A: 0.27375516295433044')\n",
      "('k1: 0.3029445707798004', 'k2: 0.3119976222515106', 'A: 0.27176886796951294')\n",
      "('k1: 0.30369165539741516', 'k2: 0.30968523025512695', 'A: 0.2707931697368622')\n",
      "('k1: 0.3042151629924774', 'k2: 0.3080712854862213', 'A: 0.2703407406806946')\n",
      "('k1: 0.30457210540771484', 'k2: 0.306977242231369', 'A: 0.2701434791088104')\n",
      "('k1: 0.3048076033592224', 'k2: 0.30625903606414795', 'A: 0.2700630724430084')\n",
      "('k1: 0.3049575984477997', 'k2: 0.3058033287525177', 'A: 0.27003252506256104')\n",
      "('k1: 0.3050496280193329', 'k2: 0.30552467703819275', 'A: 0.2700215280056')\n",
      "('k1: 0.3051038682460785', 'k2: 0.3053606450557709', 'A: 0.2700183689594269')\n",
      "('k1: 0.3051345646381378', 'k2: 0.305267870426178', 'A: 0.2700185477733612')\n",
      "('k1: 0.3051511347293854', 'k2: 0.3052176237106323', 'A: 0.2700187861919403')\n",
      "('k1: 0.30515992641448975', 'k2: 0.30519166588783264', 'A: 0.2700188159942627')\n",
      "('k1: 0.305164098739624', 'k2: 0.30517879128456116', 'A: 0.2700188159942627')\n",
      "('k1: 0.3051660656929016', 'k2: 0.3051728308200836', 'A: 0.2700187861919403')\n",
      "('k1: 0.305167019367218', 'k2: 0.305169939994812', 'A: 0.2700183689594269')\n",
      "('k1: 0.305167019367218', 'k2: 0.3051699101924896', 'A: 0.2700198292732239')\n",
      "('k1: 0.305167019367218', 'k2: 0.30516988039016724', 'A: 0.2700198292732239')\n",
      "('k1: 0.305167019367218', 'k2: 0.30516985058784485', 'A: 0.2700197994709015')\n",
      "('k1: 0.305167019367218', 'k2: 0.3051697611808777', 'A: 0.2700197398662567')\n",
      "('k1: 0.3051670491695404', 'k2: 0.3051697313785553', 'A: 0.2700197398662567')\n",
      "('k1: 0.3051671087741852', 'k2: 0.30516964197158813', 'A: 0.2700192630290985')\n",
      "('k1: 0.3051671087741852', 'k2: 0.30516958236694336', 'A: 0.2700192630290985')\n",
      "('k1: 0.30516719818115234', 'k2: 0.30516931414604187', 'A: 0.2700192928314209')\n",
      "('k1: 0.30516719818115234', 'k2: 0.30516931414604187', 'A: 0.2700192928314209')\n",
      "('k1: 0.3051672577857971', 'k2: 0.30516916513442993', 'A: 0.2700192928314209')\n",
      "('k1: 0.3051673471927643', 'k2: 0.30516892671585083', 'A: 0.2700198292732239')\n",
      "('k1: 0.3051673471927643', 'k2: 0.30516892671585083', 'A: 0.2700198292732239')\n",
      "('k1: 0.3051673471927643', 'k2: 0.30516892671585083', 'A: 0.2700198292732239')\n",
      "('k1: 0.30516737699508667', 'k2: 0.30516889691352844', 'A: 0.2700198292732239')\n",
      "('k1: 0.30516737699508667', 'k2: 0.30516889691352844', 'A: 0.2700198292732239')\n",
      "('k1: 0.30516737699508667', 'k2: 0.30516886711120605', 'A: 0.2700198292732239')\n",
      "('k1: 0.30516740679740906', 'k2: 0.3051687479019165', 'A: 0.2700207829475403')\n",
      "('k1: 0.30516743659973145', 'k2: 0.3051687180995941', 'A: 0.2700207829475403')\n",
      "('k1: 0.30516743659973145', 'k2: 0.3051687180995941', 'A: 0.2700207829475403')\n",
      "('k1: 0.30516743659973145', 'k2: 0.30516865849494934', 'A: 0.27002066373825073')\n",
      "('k1: 0.3051675260066986', 'k2: 0.3051685690879822', 'A: 0.27001211047172546')\n",
      "('k1: 0.3051675260066986', 'k2: 0.3051684498786926', 'A: 0.2700336277484894')\n",
      "('k1: 0.3051675260066986', 'k2: 0.3051684498786926', 'A: 0.2700606882572174')\n",
      "('k1: 0.3051675260066986', 'k2: 0.3051684498786926', 'A: 0.270089715719223')\n",
      "('k1: 0.305167555809021', 'k2: 0.30516836047172546', 'A: 0.2701166868209839')\n",
      "('k1: 0.305167555809021', 'k2: 0.3051682710647583', 'A: 0.2701186537742615')\n"
     ]
    }
   ],
   "source": [
    "data_path = EXAMLES_DIR / \"kon3.00e-02ratej1.00e+00\"\n",
    "param_path = data_path / \"runs/cosmos/v1.1.6/S1/control/lr0.005/bs64/\"\n",
    "\n",
    "model = Cosmos()\n",
    "model.load(data_path, True, \"cpu\")\n",
    "model.load_parameters(param_path)\n",
    "\n",
    "dt = bound_dwell_times(count_intervals(model.z_map))\n",
    "dt = torch.tensor(dt, dtype=torch.float)\n",
    "\n",
    "train(\n",
    "    double_exp_model, double_exp_guide, lr=5e-3, n_steps=5000,\n",
    "    data=dt\n",
    ")"
   ]
  },
  {
   "cell_type": "code",
   "execution_count": 77,
   "metadata": {},
   "outputs": [
    {
     "data": {
      "image/png": "[encoded data removed]",
      "text/plain": [
       "<Figure size 108x108 with 1 Axes>"
      ]
     },
     "metadata": {
      "needs_background": "light"
     },
     "output_type": "display_data"
    }
   ],
   "source": [
    "k = 1 / dt.mean()\n",
    "\n",
    "plt.figure(figsize=(1.5, 1.5))\n",
    "plt.title(\n",
    "    f\"k = {k:.2e}\\nk1 = {pyro.param('k1').item():.2e}\\nk2 = {pyro.param('k2').item():.2e}\\nA = {pyro.param('A').item():.2e}\",\n",
    "    fontsize=8\n",
    ")\n",
    "plt.hist(dt.numpy(), bins=np.arange(0.5, dt.max(), 1), density=True, alpha=0.3)\n",
    "x = torch.arange(0.01, dt.max())\n",
    "d = dist.Exponential(k)\n",
    "plt.plot(x, d.log_prob(x).exp())\n",
    "d1 = (1 - pyro.param(\"A\").item())*(dist.Exponential(pyro.param(\"k1\").item()).log_prob(x)).exp()\n",
    "d2 = pyro.param(\"A\").item()*(dist.Exponential(pyro.param(\"k2\").item()).log_prob(x)).exp()\n",
    "plt.plot(x, d1, label=\"A1\")\n",
    "plt.plot(x, d2, label=\"A2\")\n",
    "plt.plot(x, d1+d2, label=\"At\")\n",
    "plt.xlabel(\"Bound dwell times\", fontsize=8)\n",
    "plt.ylabel(\"pdf\", fontsize=8)\n",
    "#plt.ylim(0, 0.2)\n",
    "#plt.xlim(0, 100)\n",
    "plt.legend(fontsize=8)\n",
    "plt.savefig(\"/tmp/koff3-ratej1.00.svg\")\n",
    "plt.show()"
   ]
  },
  {
   "cell_type": "code",
   "execution_count": 96,
   "metadata": {},
   "outputs": [
    {
     "data": {
      "image/png": "[encoded data removed]",
      "text/plain": [
       "<Figure size 432x36 with 1 Axes>"
      ]
     },
     "metadata": {
      "needs_background": "light"
     },
     "output_type": "display_data"
    }
   ],
   "source": [
    "plt.figure(figsize=(6, 0.5))\n",
    "\n",
    "f1 = 0\n",
    "f2 = 500\n",
    "plt.plot(\n",
    "    model.data.drift.index[f1:f2],\n",
    "    model.z_marginal[0, f1:f2],\n",
    "    \"o-\", ms=2, lw=0.5, color=\"C2\", label=\"fit\")\n",
    "\n",
    "plt.xticks(fontsize=8)\n",
    "plt.yticks([0, 0.5, 1], fontsize=8)\n",
    "plt.xlim(f1-1, f2-1)\n",
    "plt.ylim(-0.15, 1.15)\n",
    "plt.ylabel(r\"$p$\", fontsize=8)\n",
    "plt.xlabel(\"frame #\")\n",
    "plt.gca().yaxis.set_major_formatter(FormatStrFormatter('%g'))\n",
    "# plt.legend(fontsize=8)\n",
    "\n",
    "plt.savefig(\"/tmp/kinetic-trace.svg\")\n",
    "plt.show()"
   ]
  },
  {
   "cell_type": "code",
   "execution_count": 47,
   "metadata": {},
   "outputs": [
    {
     "data": {
      "image/png": "[encoded data removed]",
      "text/plain": [
       "<Figure size 432x36 with 1 Axes>"
      ]
     },
     "metadata": {
      "needs_background": "light"
     },
     "output_type": "display_data"
    }
   ],
   "source": [
    "plt.figure(figsize=(6, 0.5))\n",
    "\n",
    "f1 = 0\n",
    "f2 = 500\n",
    "plt.plot(\n",
    "    model.data.drift.index[f1:f2],\n",
    "    model.z_marginal[0, f1:f2],\n",
    "    \"o-\", ms=2, lw=0.5, color=\"C2\", label=\"fit\")\n",
    "\n",
    "plt.xticks(fontsize=8)\n",
    "plt.yticks([0, 0.5, 1], fontsize=8)\n",
    "plt.xlim(f1-1, f2-1)\n",
    "plt.ylim(-0.15, 1.15)\n",
    "plt.ylabel(r\"$p$\", fontsize=8)\n",
    "plt.xlabel(\"frame #\")\n",
    "plt.gca().yaxis.set_major_formatter(FormatStrFormatter('%g'))\n",
    "# plt.legend(fontsize=8)\n",
    "\n",
    "plt.savefig(\"/tmp/kinetic-trace.svg\")\n",
    "plt.show()"
   ]
  },
  {
   "cell_type": "code",
   "execution_count": 50,
   "metadata": {},
   "outputs": [
    {
     "data": {
      "image/png": "[encoded data removed]",
      "text/plain": [
       "<Figure size 432x36 with 1 Axes>"
      ]
     },
     "metadata": {
      "needs_background": "light"
     },
     "output_type": "display_data"
    }
   ],
   "source": [
    "plt.figure(figsize=(6, 0.5))\n",
    "\n",
    "f1 = 0\n",
    "f2 = 500\n",
    "plt.plot(\n",
    "    model.data.drift.index[f1:f2],\n",
    "    model.data.labels[\"z\"][0, f1:f2],\n",
    "    \"-\", lw=1, color=\"C4\", label=\"simulation\")\n",
    "\n",
    "plt.xticks([], fontsize=8)\n",
    "plt.yticks([0, 1], fontsize=8)\n",
    "plt.xlim(f1-1, f2-1)\n",
    "plt.ylim(-0.15, 1.15)\n",
    "plt.ylabel(r\"$p$\", fontsize=8)\n",
    "# plt.xlabel(\"frame #\")\n",
    "plt.gca().yaxis.set_major_formatter(FormatStrFormatter('%g'))\n",
    "# plt.legend(fontsize=8)\n",
    "\n",
    "plt.savefig(\"/tmp/kinetic-sim.svg\")\n",
    "plt.show()"
   ]
  },
  {
   "cell_type": "code",
   "execution_count": 12,
   "metadata": {},
   "outputs": [
    {
     "data": {
      "image/png": "[encoded data removed]",
      "text/plain": [
       "<Figure size 720x72 with 1 Axes>"
      ]
     },
     "metadata": {
      "needs_background": "light"
     },
     "output_type": "display_data"
    }
   ],
   "source": [
    "frames = np.arange(1, model.data.F+1)\n",
    "q1 = np.ones((model.data.N, model.data.F))\n",
    "q1[:, :-1] = model.data.labels[\"z\"][:, 1:]\n",
    "cumq0 = np.cumprod(1 - model.data.labels[\"z\"], axis=-1)\n",
    "sttfb = (frames * q1 * cumq0).sum(-1)\n",
    "\n",
    "sdx = np.flip(np.argsort(sttfb))\n",
    "\n",
    "figsize = torch.tensor([10, 10 * model.data.N / model.data.F])\n",
    "plt.figure(figsize=figsize)\n",
    "\n",
    "plt.imshow(model.data.labels[\"z\"][sdx], cmap=\"gray\")\n",
    "plt.xlabel(\"frame\", fontsize=16)\n",
    "plt.ylabel(\"aoi\", fontsize=16)\n",
    "plt.show()"
   ]
  },
  {
   "cell_type": "code",
   "execution_count": 87,
   "metadata": {
    "scrolled": true
   },
   "outputs": [
    {
     "data": {
      "image/png": "[encoded data removed]",
      "text/plain": [
       "<Figure size 216x216 with 1 Axes>"
      ]
     },
     "metadata": {
      "needs_background": "light"
     },
     "output_type": "display_data"
    }
   ],
   "source": [
    "frames = torch.arange(1, model.data.F+1)\n",
    "q1 = torch.ones(model.data.N, model.data.F)\n",
    "q1[:, :-1] = model.z_marginal[:, 1:]\n",
    "cumq0 = torch.cumprod(1 - model.z_marginal, dim=-1)\n",
    "ttfb = (frames * q1 * cumq0).sum(-1) #/ (1 - model.z_marginal[:, 0])\n",
    "ttfb = ttfb - 1\n",
    "mask = ttfb > 0\n",
    "ttfb = ttfb[mask]\n",
    "\n",
    "kon = 1 / ttfb.mean()\n",
    "\n",
    "plt.figure(figsize=(3, 3))\n",
    "plt.title(f\"k_on = {kon:.4f}\")\n",
    "plt.hist(ttfb.numpy(), bins=30, density=True, alpha=0.3, label=\"bayesian\")\n",
    "# plt.hist(sttfb, bins=20, density=True, alpha=0.3, label=\"spotpicker\")\n",
    "x = torch.arange(1,model.data.F)\n",
    "d = dist.Exponential(kon)\n",
    "plt.plot(x, d.log_prob(x).exp())\n",
    "plt.xlabel(\"Time to first binding\", fontsize=8)\n",
    "plt.ylabel(\"pdf\", fontsize=8)\n",
    "# plt.xlim(0, 100)\n",
    "plt.legend()\n",
    "plt.show()"
   ]
  },
  {
   "cell_type": "markdown",
   "metadata": {},
   "source": [
    "### Poster"
   ]
  },
  {
   "cell_type": "code",
   "execution_count": 126,
   "metadata": {},
   "outputs": [
    {
     "data": {
      "image/png": "[encoded data removed]",
      "text/plain": [
       "<Figure size 108x108 with 1 Axes>"
      ]
     },
     "metadata": {
      "needs_background": "light"
     },
     "output_type": "display_data"
    }
   ],
   "source": [
    "plt.figure(figsize=(1.5, 1.5))\n",
    "mask = truth_df[\"kon\"] == 0.02\n",
    "keq_sim = truth_df.loc[mask, \"kon\"] / truth_df.loc[mask, \"koff\"]\n",
    "keq_fit = fit_df.loc[mask, \"probs_z_1\"] / fit_df.loc[mask, \"probs_z_0\"]\n",
    "plt.scatter(truth_df.loc[mask, \"rate_j\"], keq_sim, marker=\"x\")\n",
    "plt.scatter(truth_df.loc[mask, \"rate_j\"], keq_fit, color=\"k\", s=13)\n",
    "plt.ylim(0, 0.2)\n",
    "#plt.xlim(0, 0.2)\n",
    "plt.yticks(fontsize=8)\n",
    "plt.xticks([0, 0.5, 1], fontsize=8)\n",
    "plt.xlabel(r\"$\\lambda$\", fontsize=8)\n",
    "plt.ylabel(r\"$K_{eq}$\", fontsize=8)\n",
    "plt.savefig(\"/tmp/keq2.svg\")\n",
    "plt.show()"
   ]
  },
  {
   "cell_type": "code",
   "execution_count": 127,
   "metadata": {},
   "outputs": [
    {
     "data": {
      "image/png": "[encoded data removed]",
      "text/plain": [
       "<Figure size 108x108 with 1 Axes>"
      ]
     },
     "metadata": {
      "needs_background": "light"
     },
     "output_type": "display_data"
    }
   ],
   "source": [
    "plt.figure(figsize=(1.5, 1.5))\n",
    "mask = truth_df[\"kon\"] == 0.02\n",
    "plt.scatter(truth_df.loc[mask, \"rate_j\"], truth_df.loc[mask, \"kon\"], marker=\"x\")\n",
    "plt.errorbar(truth_df.loc[mask, \"rate_j\"], fit_df.loc[mask, \"kon\"],\n",
    "             yerr=abs(fit_df.loc[mask, [\"kon_low\", \"kon_high\"]].values.T-fit_df.loc[mask, \"kon\"].values),\n",
    "             fmt=\"o\", ms=3, mfc=\"k\", mec=\"k\", ecolor=\"k\", capsize=2)\n",
    "plt.ylim(0, 0.05)\n",
    "#plt.xlim(0, 0.3)\n",
    "plt.xticks(fontsize=8)\n",
    "plt.yticks(fontsize=8)\n",
    "plt.xticks([0, 0.5, 1], fontsize=8)\n",
    "plt.xlabel(r\"$\\lambda$\", fontsize=8)\n",
    "plt.ylabel(r\"$k_{on}$ (s$^{-1}$)\", fontsize=8)\n",
    "plt.savefig(\"/tmp/kon2-dt.svg\")\n",
    "plt.show()"
   ]
  },
  {
   "cell_type": "code",
   "execution_count": 128,
   "metadata": {},
   "outputs": [
    {
     "data": {
      "image/png": "[encoded data removed]",
      "text/plain": [
       "<Figure size 108x108 with 1 Axes>"
      ]
     },
     "metadata": {
      "needs_background": "light"
     },
     "output_type": "display_data"
    }
   ],
   "source": [
    "plt.figure(figsize=(1.5, 1.5))\n",
    "mask = truth_df[\"kon\"] == 0.02\n",
    "plt.scatter(truth_df.loc[mask, \"rate_j\"], truth_df.loc[mask, \"koff\"], marker=\"x\")\n",
    "plt.errorbar(truth_df.loc[mask, \"rate_j\"], fit_df.loc[mask, \"koff\"],\n",
    "             yerr=abs(fit_df.loc[mask, [\"koff_low\", \"koff_high\"]].values.T-fit_df.loc[mask, \"koff\"].values),\n",
    "             fmt=\"o\", ms=3, mfc=\"k\", mec=\"k\", ecolor=\"k\", capsize=2)\n",
    "plt.ylim(0, 0.5)\n",
    "#plt.xlim(0, 0.3)\n",
    "plt.xticks(fontsize=8)\n",
    "plt.yticks(fontsize=8)\n",
    "plt.xticks([0, 0.5, 1], fontsize=8)\n",
    "plt.xlabel(r\"$\\lambda$\", fontsize=8)\n",
    "plt.ylabel(r\"$k_{off}$ (s$^{-1}$)\", fontsize=8)\n",
    "plt.savefig(\"/tmp/koff2-dt.svg\")\n",
    "plt.show()"
   ]
  },
  {
   "cell_type": "markdown",
   "metadata": {},
   "source": [
    "### Analysis"
   ]
  },
  {
   "cell_type": "code",
   "execution_count": 23,
   "metadata": {},
   "outputs": [
    {
     "data": {
      "image/png": "[encoded data removed]",
      "text/plain": [
       "<Figure size 144x144 with 1 Axes>"
      ]
     },
     "metadata": {
      "needs_background": "light"
     },
     "output_type": "display_data"
    }
   ],
   "source": [
    "plt.figure(figsize=(2, 2))\n",
    "plt.title(\"gain\", fontsize=8)\n",
    "plt.plot(truth_df[\"rate_j\"].sort_values(), truth_df[\"gain\"].sort_values(), \"k--\")\n",
    "plt.scatter(truth_df[\"rate_j\"], fit_df[\"gain\"], s=20)\n",
    "plt.ylim(0, 20)\n",
    "plt.xticks(fontsize=8)\n",
    "plt.yticks(fontsize=8)\n",
    "plt.xlabel(\"simulated value\", fontsize=8)\n",
    "plt.ylabel(\"fitted value\", fontsize=8)\n",
    "plt.show()"
   ]
  },
  {
   "cell_type": "code",
   "execution_count": 24,
   "metadata": {},
   "outputs": [
    {
     "data": {
      "image/png": "[encoded data removed]",
      "text/plain": [
       "<Figure size 144x144 with 1 Axes>"
      ]
     },
     "metadata": {
      "needs_background": "light"
     },
     "output_type": "display_data"
    }
   ],
   "source": [
    "plt.figure(figsize=(2, 2))\n",
    "plt.title(r\"$\\pi^z$\", fontsize=8)\n",
    "plt.plot(truth_df[\"rate_j\"].sort_values(), truth_df[\"probs_z\"].sort_values(), \"k--\")\n",
    "plt.scatter(truth_df[\"rate_j\"], fit_df[\"probs_z_1\"], s=20)\n",
    "plt.ylim(0, 1)\n",
    "plt.xticks(fontsize=8)\n",
    "plt.yticks(fontsize=8)\n",
    "plt.xlabel(\"simulated value\", fontsize=8)\n",
    "plt.ylabel(\"fitted value\", fontsize=8)\n",
    "plt.show()"
   ]
  },
  {
   "cell_type": "code",
   "execution_count": 25,
   "metadata": {},
   "outputs": [
    {
     "data": {
      "image/png": "[encoded data removed]",
      "text/plain": [
       "<Figure size 144x144 with 1 Axes>"
      ]
     },
     "metadata": {
      "needs_background": "light"
     },
     "output_type": "display_data"
    }
   ],
   "source": [
    "plt.figure(figsize=(2, 2))\n",
    "plt.title(r\"$\\lambda^j$\", fontsize=8)\n",
    "plt.plot(truth_df[\"rate_j\"].sort_values(), truth_df[\"rate_j\"].sort_values(), \"k--\")\n",
    "plt.scatter(truth_df[\"rate_j\"], fit_df[\"rate_j\"], s=20)\n",
    "plt.ylim(0, 1.)\n",
    "plt.xticks(fontsize=8)\n",
    "plt.yticks(fontsize=8)\n",
    "plt.xlabel(\"simulated value\", fontsize=8)\n",
    "plt.ylabel(\"fitted value\", fontsize=8)\n",
    "plt.show()"
   ]
  },
  {
   "cell_type": "code",
   "execution_count": 26,
   "metadata": {},
   "outputs": [
    {
     "data": {
      "image/png": "[encoded data removed]",
      "text/plain": [
       "<Figure size 144x144 with 1 Axes>"
      ]
     },
     "metadata": {
      "needs_background": "light"
     },
     "output_type": "display_data"
    }
   ],
   "source": [
    "plt.figure(figsize=(2, 2))\n",
    "plt.title(r\"$\\sigma^{xy}$\", fontsize=8)\n",
    "plt.plot(truth_df[\"rate_j\"].sort_values(), truth_df[\"proximity\"].sort_values(), \"k--\")\n",
    "plt.scatter(truth_df[\"rate_j\"], fit_df[\"proximity_0\"], s=20)\n",
    "plt.ylim(0., 0.6)\n",
    "plt.xticks(fontsize=8)\n",
    "plt.yticks(fontsize=8)\n",
    "plt.xlabel(\"simulated value\", fontsize=8)\n",
    "plt.ylabel(\"fitted value\", fontsize=8)\n",
    "plt.show()"
   ]
  },
  {
   "cell_type": "code",
   "execution_count": null,
   "metadata": {},
   "outputs": [],
   "source": []
  }
 ],
 "metadata": {
  "hide_input": false,
  "kernelspec": {
   "display_name": "Python 3",
   "language": "python",
   "name": "python3"
  },
  "language_info": {
   "codemirror_mode": {
    "name": "ipython",
    "version": 3
   },
   "file_extension": ".py",
   "mimetype": "text/x-python",
   "name": "python",
   "nbconvert_exporter": "python",
   "pygments_lexer": "ipython3",
   "version": "3.8.5"
  },
  "toc": {
   "base_numbering": 1,
   "nav_menu": {},
   "number_sections": true,
   "sideBar": true,
   "skip_h1_title": false,
   "title_cell": "Table of Contents",
   "title_sidebar": "Contents",
   "toc_cell": false,
   "toc_position": {
    "height": "calc(100% - 180px)",
    "left": "10px",
    "top": "150px",
    "width": "340.26px"
   },
   "toc_section_display": true,
   "toc_window_display": true
  }
 },
 "nbformat": 4,
 "nbformat_minor": 4
}
