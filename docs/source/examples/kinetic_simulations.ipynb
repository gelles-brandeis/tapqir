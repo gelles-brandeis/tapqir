{
 "cells": [
  {
   "cell_type": "markdown",
   "metadata": {},
   "source": [
    "## Kinetic simulations"
   ]
  },
  {
   "cell_type": "code",
   "execution_count": 1,
   "metadata": {},
   "outputs": [],
   "source": [
    "import numpy as np\n",
    "import pandas as pd\n",
    "import pyro\n",
    "import pyro.distributions as dist\n",
    "import torch\n",
    "import matplotlib.pyplot as plt\n",
    "from collections import defaultdict\n",
    "from matplotlib.patches import Circle\n",
    "from matplotlib.ticker import FormatStrFormatter\n",
    "from pathlib import Path\n",
    "from pyro.ops.stats import hpdi, quantile\n",
    "\n",
    "from tapqir.models import Cosmos\n",
    "from tapqir.utils.imscroll import count_intervals, time_to_first_binding, \\\n",
    "    association_rate, dissociation_rate, bootstrap, posterior_estimate, \\\n",
    "    bound_dwell_times, unbound_dwell_times, sample_and_bootstrap"
   ]
  },
  {
   "cell_type": "markdown",
   "metadata": {},
   "source": [
    "### Load results"
   ]
  },
  {
   "cell_type": "code",
   "execution_count": 2,
   "metadata": {},
   "outputs": [],
   "source": [
    "EXAMLES_DIR = Path.cwd().resolve().parent.parent.parent / \"examples\" / \"data\""
   ]
  },
  {
   "cell_type": "code",
   "execution_count": 3,
   "metadata": {},
   "outputs": [],
   "source": [
    "truth = {}\n",
    "fit = {}\n",
    "predictions = defaultdict(dict)\n",
    "models = {}\n",
    "for data_path in EXAMLES_DIR.iterdir():\n",
    "    if data_path.is_dir() and data_path.name.startswith(\"kon\"):\n",
    "        truth[data_path.name] = pd.read_csv(\n",
    "            data_path / \"simulated_params.csv\",\n",
    "            squeeze=True, index_col=0\n",
    "        ).rename(data_path.name)\n",
    "        \n",
    "        param_path = data_path / \"runs/cosmos/v1.1.6/S1/control/lr0.005/bs64/\"\n",
    "        \n",
    "        fit[data_path.name] = pd.read_csv(\n",
    "            param_path / \"global_params.csv\",\n",
    "            squeeze=True,\n",
    "            index_col=0\n",
    "        ).rename(data_path.name)\n",
    "        fit[data_path.name][\"height\"] = truth[data_path.name][\"height\"]\n",
    "        \n",
    "        models[data_path.name] = Cosmos()\n",
    "        models[data_path.name].load(data_path, True, \"cpu\")\n",
    "        models[data_path.name].load_parameters(param_path)\n",
    "        mask = torch.from_numpy(models[data_path.name].data.labels[\"z\"])\n",
    "        samples = torch.masked_select(models[data_path.name].z_marginal, mask)\n",
    "        predictions[data_path.name][\"z_masked\"] = samples\n",
    "        low, high = hpdi(samples, 0.68)\n",
    "        median = quantile(samples, 0.5)\n",
    "        \n",
    "        z_dist = dist.Bernoulli(models[data_path.name].z_marginal)\n",
    "        intervals = count_intervals(models[data_path.name].z_map)\n",
    "        # calculate kon from true ttfb\n",
    "        ttfb = time_to_first_binding(models[data_path.name].data.labels[\"z\"])\n",
    "        ttfb = ttfb[ttfb > 0]\n",
    "        kon = 1 / ttfb.mean()\n",
    "        fit[data_path.name][\"kon_true\"] = kon.item()\n",
    "        kon_low, kon_high = bootstrap(ttfb, lambda x: 1 / x.mean())\n",
    "        fit[data_path.name][\"kon_true_low\"] = kon_low.item()\n",
    "        fit[data_path.name][\"kon_true_high\"] = kon_high.item()\n",
    "        \n",
    "        # calculate kon from ttfb\n",
    "        ttfb = time_to_first_binding(models[data_path.name].z_map)\n",
    "        ttfb = ttfb[ttfb > 0]\n",
    "        kon = 1 / ttfb.mean()\n",
    "        fit[data_path.name][\"kon_ttfb\"] = kon.item()\n",
    "        kon_low, kon_high = sample_and_bootstrap(\n",
    "            z_dist,\n",
    "            lambda x: 1 / x.mean(),\n",
    "            preprocess=lambda x: time_to_first_binding(x)[time_to_first_binding(x)>0]\n",
    "        )\n",
    "        fit[data_path.name][\"kon_ttfb_low\"] = kon_low.item()\n",
    "        fit[data_path.name][\"kon_ttfb_high\"] = kon_high.item()\n",
    "        \n",
    "        fit[data_path.name][\"koff_ttfb\"] = kon.item() / fit[data_path.name][\"probs_z_1\"] * fit[data_path.name][\"probs_z_0\"]\n",
    "\n",
    "        # calculate kon from dwell times\n",
    "        dwell_time = unbound_dwell_times(intervals)\n",
    "        kon = 1 / dwell_time.mean()\n",
    "        fit[data_path.name][\"kon\"] = kon.item()\n",
    "        kon_low, kon_high = sample_and_bootstrap(\n",
    "            z_dist,\n",
    "            lambda x: 1 / x.mean(),\n",
    "            preprocess=lambda x: unbound_dwell_times(count_intervals(x))\n",
    "        )\n",
    "        fit[data_path.name][\"kon_low\"] = kon_low.item()\n",
    "        fit[data_path.name][\"kon_high\"] = kon_high.item()\n",
    "        \n",
    "        # calculate koff from dwell times\n",
    "        dwell_time = bound_dwell_times(intervals)\n",
    "        koff = 1 / dwell_time.mean()\n",
    "        fit[data_path.name][\"koff\"] = koff.item()\n",
    "        koff_low, koff_high = sample_and_bootstrap(\n",
    "            z_dist,\n",
    "            lambda x: 1 / x.mean(),\n",
    "            preprocess=lambda x: bound_dwell_times(count_intervals(x))\n",
    "        )\n",
    "        fit[data_path.name][\"koff_low\"] = koff_low.item()\n",
    "        fit[data_path.name][\"koff_high\"] = koff_high.item()\n",
    "       \n",
    "        # calculate kon from transition probabilities matrix\n",
    "        A01 = association_rate(models[data_path.name].z_map)\n",
    "        A01_low, A01_high = posterior_estimate(z_dist, association_rate)\n",
    "        fit[data_path.name][\"A01\"] = A01.item()\n",
    "        fit[data_path.name][\"A01_low\"] = A01_low.item()\n",
    "        fit[data_path.name][\"A01_high\"] = A01_high.item()\n",
    "        \n",
    "        # calculate koff from transition probabilities matrix\n",
    "        A10 = dissociation_rate(models[data_path.name].z_map)\n",
    "        A10_low, A10_high = posterior_estimate(z_dist, dissociation_rate)\n",
    "        fit[data_path.name][\"A10\"] = A10.item()\n",
    "        fit[data_path.name][\"A10_low\"] = A10_low.item()\n",
    "        fit[data_path.name][\"A10_high\"] = A10_high.item()"
   ]
  },
  {
   "cell_type": "code",
   "execution_count": 12,
   "metadata": {},
   "outputs": [
    {
     "data": {
      "text/html": [
       "<div>\n",
       "<style scoped>\n",
       "    .dataframe tbody tr th:only-of-type {\n",
       "        vertical-align: middle;\n",
       "    }\n",
       "\n",
       "    .dataframe tbody tr th {\n",
       "        vertical-align: top;\n",
       "    }\n",
       "\n",
       "    .dataframe thead th {\n",
       "        text-align: right;\n",
       "    }\n",
       "</style>\n",
       "<table border=\"1\" class=\"dataframe\">\n",
       "  <thead>\n",
       "    <tr style=\"text-align: right;\">\n",
       "      <th></th>\n",
       "      <th>gain</th>\n",
       "      <th>kon</th>\n",
       "      <th>koff</th>\n",
       "      <th>rate_j</th>\n",
       "      <th>proximity</th>\n",
       "      <th>offset</th>\n",
       "      <th>height</th>\n",
       "      <th>background</th>\n",
       "    </tr>\n",
       "  </thead>\n",
       "  <tbody>\n",
       "    <tr>\n",
       "      <th>kon3.00e-02ratej1.00e+00</th>\n",
       "      <td>7.0</td>\n",
       "      <td>0.03</td>\n",
       "      <td>0.2</td>\n",
       "      <td>1.00</td>\n",
       "      <td>0.2</td>\n",
       "      <td>90.0</td>\n",
       "      <td>3000.0</td>\n",
       "      <td>150.0</td>\n",
       "    </tr>\n",
       "    <tr>\n",
       "      <th>kon1.00e-02ratej1.00e+00</th>\n",
       "      <td>7.0</td>\n",
       "      <td>0.01</td>\n",
       "      <td>0.2</td>\n",
       "      <td>1.00</td>\n",
       "      <td>0.2</td>\n",
       "      <td>90.0</td>\n",
       "      <td>3000.0</td>\n",
       "      <td>150.0</td>\n",
       "    </tr>\n",
       "    <tr>\n",
       "      <th>kon3.00e-02ratej1.50e-01</th>\n",
       "      <td>7.0</td>\n",
       "      <td>0.03</td>\n",
       "      <td>0.2</td>\n",
       "      <td>0.15</td>\n",
       "      <td>0.2</td>\n",
       "      <td>90.0</td>\n",
       "      <td>3000.0</td>\n",
       "      <td>150.0</td>\n",
       "    </tr>\n",
       "    <tr>\n",
       "      <th>kon1.00e-02ratej1.00e-02</th>\n",
       "      <td>7.0</td>\n",
       "      <td>0.01</td>\n",
       "      <td>0.2</td>\n",
       "      <td>0.01</td>\n",
       "      <td>0.2</td>\n",
       "      <td>90.0</td>\n",
       "      <td>3000.0</td>\n",
       "      <td>150.0</td>\n",
       "    </tr>\n",
       "    <tr>\n",
       "      <th>kon2.00e-02ratej1.00e+00</th>\n",
       "      <td>7.0</td>\n",
       "      <td>0.02</td>\n",
       "      <td>0.2</td>\n",
       "      <td>1.00</td>\n",
       "      <td>0.2</td>\n",
       "      <td>90.0</td>\n",
       "      <td>3000.0</td>\n",
       "      <td>150.0</td>\n",
       "    </tr>\n",
       "    <tr>\n",
       "      <th>kon3.00e-02ratej5.00e-01</th>\n",
       "      <td>7.0</td>\n",
       "      <td>0.03</td>\n",
       "      <td>0.2</td>\n",
       "      <td>0.50</td>\n",
       "      <td>0.2</td>\n",
       "      <td>90.0</td>\n",
       "      <td>3000.0</td>\n",
       "      <td>150.0</td>\n",
       "    </tr>\n",
       "    <tr>\n",
       "      <th>kon2.00e-02ratej5.00e-01</th>\n",
       "      <td>7.0</td>\n",
       "      <td>0.02</td>\n",
       "      <td>0.2</td>\n",
       "      <td>0.50</td>\n",
       "      <td>0.2</td>\n",
       "      <td>90.0</td>\n",
       "      <td>3000.0</td>\n",
       "      <td>150.0</td>\n",
       "    </tr>\n",
       "    <tr>\n",
       "      <th>kon2.00e-02ratej1.00e-02</th>\n",
       "      <td>7.0</td>\n",
       "      <td>0.02</td>\n",
       "      <td>0.2</td>\n",
       "      <td>0.01</td>\n",
       "      <td>0.2</td>\n",
       "      <td>90.0</td>\n",
       "      <td>3000.0</td>\n",
       "      <td>150.0</td>\n",
       "    </tr>\n",
       "    <tr>\n",
       "      <th>kon3.00e-02ratej1.00e-02</th>\n",
       "      <td>7.0</td>\n",
       "      <td>0.03</td>\n",
       "      <td>0.2</td>\n",
       "      <td>0.01</td>\n",
       "      <td>0.2</td>\n",
       "      <td>90.0</td>\n",
       "      <td>3000.0</td>\n",
       "      <td>150.0</td>\n",
       "    </tr>\n",
       "    <tr>\n",
       "      <th>kon1.00e-02ratej1.50e-01</th>\n",
       "      <td>7.0</td>\n",
       "      <td>0.01</td>\n",
       "      <td>0.2</td>\n",
       "      <td>0.15</td>\n",
       "      <td>0.2</td>\n",
       "      <td>90.0</td>\n",
       "      <td>3000.0</td>\n",
       "      <td>150.0</td>\n",
       "    </tr>\n",
       "    <tr>\n",
       "      <th>kon2.00e-02ratej1.50e-01</th>\n",
       "      <td>7.0</td>\n",
       "      <td>0.02</td>\n",
       "      <td>0.2</td>\n",
       "      <td>0.15</td>\n",
       "      <td>0.2</td>\n",
       "      <td>90.0</td>\n",
       "      <td>3000.0</td>\n",
       "      <td>150.0</td>\n",
       "    </tr>\n",
       "    <tr>\n",
       "      <th>kon1.00e-02ratej5.00e-01</th>\n",
       "      <td>7.0</td>\n",
       "      <td>0.01</td>\n",
       "      <td>0.2</td>\n",
       "      <td>0.50</td>\n",
       "      <td>0.2</td>\n",
       "      <td>90.0</td>\n",
       "      <td>3000.0</td>\n",
       "      <td>150.0</td>\n",
       "    </tr>\n",
       "  </tbody>\n",
       "</table>\n",
       "</div>"
      ],
      "text/plain": [
       "                          gain   kon  koff  rate_j  proximity  offset  height  \\\n",
       "kon3.00e-02ratej1.00e+00   7.0  0.03   0.2    1.00        0.2    90.0  3000.0   \n",
       "kon1.00e-02ratej1.00e+00   7.0  0.01   0.2    1.00        0.2    90.0  3000.0   \n",
       "kon3.00e-02ratej1.50e-01   7.0  0.03   0.2    0.15        0.2    90.0  3000.0   \n",
       "kon1.00e-02ratej1.00e-02   7.0  0.01   0.2    0.01        0.2    90.0  3000.0   \n",
       "kon2.00e-02ratej1.00e+00   7.0  0.02   0.2    1.00        0.2    90.0  3000.0   \n",
       "kon3.00e-02ratej5.00e-01   7.0  0.03   0.2    0.50        0.2    90.0  3000.0   \n",
       "kon2.00e-02ratej5.00e-01   7.0  0.02   0.2    0.50        0.2    90.0  3000.0   \n",
       "kon2.00e-02ratej1.00e-02   7.0  0.02   0.2    0.01        0.2    90.0  3000.0   \n",
       "kon3.00e-02ratej1.00e-02   7.0  0.03   0.2    0.01        0.2    90.0  3000.0   \n",
       "kon1.00e-02ratej1.50e-01   7.0  0.01   0.2    0.15        0.2    90.0  3000.0   \n",
       "kon2.00e-02ratej1.50e-01   7.0  0.02   0.2    0.15        0.2    90.0  3000.0   \n",
       "kon1.00e-02ratej5.00e-01   7.0  0.01   0.2    0.50        0.2    90.0  3000.0   \n",
       "\n",
       "                          background  \n",
       "kon3.00e-02ratej1.00e+00       150.0  \n",
       "kon1.00e-02ratej1.00e+00       150.0  \n",
       "kon3.00e-02ratej1.50e-01       150.0  \n",
       "kon1.00e-02ratej1.00e-02       150.0  \n",
       "kon2.00e-02ratej1.00e+00       150.0  \n",
       "kon3.00e-02ratej5.00e-01       150.0  \n",
       "kon2.00e-02ratej5.00e-01       150.0  \n",
       "kon2.00e-02ratej1.00e-02       150.0  \n",
       "kon3.00e-02ratej1.00e-02       150.0  \n",
       "kon1.00e-02ratej1.50e-01       150.0  \n",
       "kon2.00e-02ratej1.50e-01       150.0  \n",
       "kon1.00e-02ratej5.00e-01       150.0  "
      ]
     },
     "execution_count": 12,
     "metadata": {},
     "output_type": "execute_result"
    }
   ],
   "source": [
    "truth_df = pd.concat(truth.values(), axis=1).T\n",
    "truth_df"
   ]
  },
  {
   "cell_type": "code",
   "execution_count": 13,
   "metadata": {},
   "outputs": [
    {
     "data": {
      "text/html": [
       "<div>\n",
       "<style scoped>\n",
       "    .dataframe tbody tr th:only-of-type {\n",
       "        vertical-align: middle;\n",
       "    }\n",
       "\n",
       "    .dataframe tbody tr th {\n",
       "        vertical-align: top;\n",
       "    }\n",
       "\n",
       "    .dataframe thead th {\n",
       "        text-align: right;\n",
       "    }\n",
       "</style>\n",
       "<table border=\"1\" class=\"dataframe\">\n",
       "  <thead>\n",
       "    <tr style=\"text-align: right;\">\n",
       "      <th></th>\n",
       "      <th>-ELBO</th>\n",
       "      <th>proximity_0</th>\n",
       "      <th>gain</th>\n",
       "      <th>probs_z_0</th>\n",
       "      <th>probs_z_1</th>\n",
       "      <th>rate_j</th>\n",
       "      <th>MCC</th>\n",
       "      <th>Recall</th>\n",
       "      <th>Precision</th>\n",
       "      <th>FN</th>\n",
       "      <th>...</th>\n",
       "      <th>kon_high</th>\n",
       "      <th>koff</th>\n",
       "      <th>koff_low</th>\n",
       "      <th>koff_high</th>\n",
       "      <th>A01</th>\n",
       "      <th>A01_low</th>\n",
       "      <th>A01_high</th>\n",
       "      <th>A10</th>\n",
       "      <th>A10_low</th>\n",
       "      <th>A10_high</th>\n",
       "    </tr>\n",
       "  </thead>\n",
       "  <tbody>\n",
       "    <tr>\n",
       "      <th>kon3.00e-02ratej1.00e+00</th>\n",
       "      <td>198402416.0</td>\n",
       "      <td>0.212721</td>\n",
       "      <td>7.074045</td>\n",
       "      <td>0.880973</td>\n",
       "      <td>0.119027</td>\n",
       "      <td>0.967912</td>\n",
       "      <td>0.919860</td>\n",
       "      <td>0.911285</td>\n",
       "      <td>0.948998</td>\n",
       "      <td>1143.0</td>\n",
       "      <td>...</td>\n",
       "      <td>0.046450</td>\n",
       "      <td>0.305168</td>\n",
       "      <td>0.320435</td>\n",
       "      <td>0.329912</td>\n",
       "      <td>0.042870</td>\n",
       "      <td>0.044368</td>\n",
       "      <td>0.044778</td>\n",
       "      <td>0.303957</td>\n",
       "      <td>0.322378</td>\n",
       "      <td>0.325487</td>\n",
       "    </tr>\n",
       "    <tr>\n",
       "      <th>kon1.00e-02ratej1.00e+00</th>\n",
       "      <td>198348288.0</td>\n",
       "      <td>0.215698</td>\n",
       "      <td>7.072728</td>\n",
       "      <td>0.956787</td>\n",
       "      <td>0.043213</td>\n",
       "      <td>0.976319</td>\n",
       "      <td>0.884693</td>\n",
       "      <td>0.880829</td>\n",
       "      <td>0.899661</td>\n",
       "      <td>575.0</td>\n",
       "      <td>...</td>\n",
       "      <td>0.021978</td>\n",
       "      <td>0.369002</td>\n",
       "      <td>0.404915</td>\n",
       "      <td>0.423973</td>\n",
       "      <td>0.018302</td>\n",
       "      <td>0.019041</td>\n",
       "      <td>0.019380</td>\n",
       "      <td>0.368644</td>\n",
       "      <td>0.409580</td>\n",
       "      <td>0.418186</td>\n",
       "    </tr>\n",
       "    <tr>\n",
       "      <th>kon3.00e-02ratej1.50e-01</th>\n",
       "      <td>193252784.0</td>\n",
       "      <td>0.209326</td>\n",
       "      <td>7.023105</td>\n",
       "      <td>0.869527</td>\n",
       "      <td>0.130473</td>\n",
       "      <td>0.151723</td>\n",
       "      <td>0.981657</td>\n",
       "      <td>0.980088</td>\n",
       "      <td>0.988048</td>\n",
       "      <td>262.0</td>\n",
       "      <td>...</td>\n",
       "      <td>0.038392</td>\n",
       "      <td>0.229673</td>\n",
       "      <td>0.237913</td>\n",
       "      <td>0.246448</td>\n",
       "      <td>0.034274</td>\n",
       "      <td>0.036320</td>\n",
       "      <td>0.036645</td>\n",
       "      <td>0.228433</td>\n",
       "      <td>0.239993</td>\n",
       "      <td>0.241939</td>\n",
       "    </tr>\n",
       "    <tr>\n",
       "      <th>kon1.00e-02ratej1.00e-02</th>\n",
       "      <td>192369024.0</td>\n",
       "      <td>0.205118</td>\n",
       "      <td>7.018451</td>\n",
       "      <td>0.950517</td>\n",
       "      <td>0.049483</td>\n",
       "      <td>0.010081</td>\n",
       "      <td>0.996517</td>\n",
       "      <td>0.997098</td>\n",
       "      <td>0.996273</td>\n",
       "      <td>14.0</td>\n",
       "      <td>...</td>\n",
       "      <td>0.013287</td>\n",
       "      <td>0.209361</td>\n",
       "      <td>0.215173</td>\n",
       "      <td>0.228021</td>\n",
       "      <td>0.010602</td>\n",
       "      <td>0.011272</td>\n",
       "      <td>0.011442</td>\n",
       "      <td>0.208377</td>\n",
       "      <td>0.218653</td>\n",
       "      <td>0.221474</td>\n",
       "    </tr>\n",
       "    <tr>\n",
       "      <th>kon2.00e-02ratej1.00e+00</th>\n",
       "      <td>198391696.0</td>\n",
       "      <td>0.211918</td>\n",
       "      <td>7.066543</td>\n",
       "      <td>0.916703</td>\n",
       "      <td>0.083297</td>\n",
       "      <td>0.968362</td>\n",
       "      <td>0.909965</td>\n",
       "      <td>0.902205</td>\n",
       "      <td>0.934026</td>\n",
       "      <td>887.0</td>\n",
       "      <td>...</td>\n",
       "      <td>0.034104</td>\n",
       "      <td>0.319866</td>\n",
       "      <td>0.339933</td>\n",
       "      <td>0.352303</td>\n",
       "      <td>0.030556</td>\n",
       "      <td>0.031751</td>\n",
       "      <td>0.032126</td>\n",
       "      <td>0.318903</td>\n",
       "      <td>0.342904</td>\n",
       "      <td>0.347260</td>\n",
       "    </tr>\n",
       "    <tr>\n",
       "      <th>kon3.00e-02ratej5.00e-01</th>\n",
       "      <td>195557904.0</td>\n",
       "      <td>0.211141</td>\n",
       "      <td>7.050582</td>\n",
       "      <td>0.872335</td>\n",
       "      <td>0.127665</td>\n",
       "      <td>0.495139</td>\n",
       "      <td>0.951257</td>\n",
       "      <td>0.944298</td>\n",
       "      <td>0.971164</td>\n",
       "      <td>741.0</td>\n",
       "      <td>...</td>\n",
       "      <td>0.042371</td>\n",
       "      <td>0.260737</td>\n",
       "      <td>0.268820</td>\n",
       "      <td>0.277574</td>\n",
       "      <td>0.038563</td>\n",
       "      <td>0.040061</td>\n",
       "      <td>0.040408</td>\n",
       "      <td>0.260019</td>\n",
       "      <td>0.271455</td>\n",
       "      <td>0.273825</td>\n",
       "    </tr>\n",
       "    <tr>\n",
       "      <th>kon2.00e-02ratej5.00e-01</th>\n",
       "      <td>195498032.0</td>\n",
       "      <td>0.209449</td>\n",
       "      <td>7.048267</td>\n",
       "      <td>0.912512</td>\n",
       "      <td>0.087488</td>\n",
       "      <td>0.495192</td>\n",
       "      <td>0.945413</td>\n",
       "      <td>0.940609</td>\n",
       "      <td>0.960279</td>\n",
       "      <td>548.0</td>\n",
       "      <td>...</td>\n",
       "      <td>0.030719</td>\n",
       "      <td>0.276781</td>\n",
       "      <td>0.287056</td>\n",
       "      <td>0.298174</td>\n",
       "      <td>0.027391</td>\n",
       "      <td>0.028423</td>\n",
       "      <td>0.028726</td>\n",
       "      <td>0.275908</td>\n",
       "      <td>0.290465</td>\n",
       "      <td>0.293776</td>\n",
       "    </tr>\n",
       "    <tr>\n",
       "      <th>kon2.00e-02ratej1.00e-02</th>\n",
       "      <td>192445760.0</td>\n",
       "      <td>0.207034</td>\n",
       "      <td>7.027198</td>\n",
       "      <td>0.908434</td>\n",
       "      <td>0.091566</td>\n",
       "      <td>0.010145</td>\n",
       "      <td>0.997180</td>\n",
       "      <td>0.998146</td>\n",
       "      <td>0.996732</td>\n",
       "      <td>17.0</td>\n",
       "      <td>...</td>\n",
       "      <td>0.023594</td>\n",
       "      <td>0.202581</td>\n",
       "      <td>0.209036</td>\n",
       "      <td>0.218466</td>\n",
       "      <td>0.020357</td>\n",
       "      <td>0.021607</td>\n",
       "      <td>0.021844</td>\n",
       "      <td>0.201418</td>\n",
       "      <td>0.211013</td>\n",
       "      <td>0.213004</td>\n",
       "    </tr>\n",
       "    <tr>\n",
       "      <th>kon3.00e-02ratej1.00e-02</th>\n",
       "      <td>192505600.0</td>\n",
       "      <td>0.207121</td>\n",
       "      <td>7.027124</td>\n",
       "      <td>0.871321</td>\n",
       "      <td>0.128679</td>\n",
       "      <td>0.010114</td>\n",
       "      <td>0.997778</td>\n",
       "      <td>0.998761</td>\n",
       "      <td>0.997370</td>\n",
       "      <td>16.0</td>\n",
       "      <td>...</td>\n",
       "      <td>0.033524</td>\n",
       "      <td>0.202114</td>\n",
       "      <td>0.208734</td>\n",
       "      <td>0.216161</td>\n",
       "      <td>0.029866</td>\n",
       "      <td>0.031695</td>\n",
       "      <td>0.031998</td>\n",
       "      <td>0.200930</td>\n",
       "      <td>0.210389</td>\n",
       "      <td>0.211938</td>\n",
       "    </tr>\n",
       "    <tr>\n",
       "      <th>kon1.00e-02ratej1.50e-01</th>\n",
       "      <td>193123424.0</td>\n",
       "      <td>0.210434</td>\n",
       "      <td>7.029120</td>\n",
       "      <td>0.952291</td>\n",
       "      <td>0.047709</td>\n",
       "      <td>0.152019</td>\n",
       "      <td>0.971233</td>\n",
       "      <td>0.971813</td>\n",
       "      <td>0.973427</td>\n",
       "      <td>136.0</td>\n",
       "      <td>...</td>\n",
       "      <td>0.015948</td>\n",
       "      <td>0.246446</td>\n",
       "      <td>0.261773</td>\n",
       "      <td>0.277653</td>\n",
       "      <td>0.012452</td>\n",
       "      <td>0.013605</td>\n",
       "      <td>0.013866</td>\n",
       "      <td>0.245636</td>\n",
       "      <td>0.266416</td>\n",
       "      <td>0.270582</td>\n",
       "    </tr>\n",
       "    <tr>\n",
       "      <th>kon2.00e-02ratej1.50e-01</th>\n",
       "      <td>193205568.0</td>\n",
       "      <td>0.209661</td>\n",
       "      <td>7.030724</td>\n",
       "      <td>0.908589</td>\n",
       "      <td>0.091411</td>\n",
       "      <td>0.151936</td>\n",
       "      <td>0.978968</td>\n",
       "      <td>0.978074</td>\n",
       "      <td>0.983734</td>\n",
       "      <td>202.0</td>\n",
       "      <td>...</td>\n",
       "      <td>0.027541</td>\n",
       "      <td>0.231863</td>\n",
       "      <td>0.248326</td>\n",
       "      <td>0.259225</td>\n",
       "      <td>0.023251</td>\n",
       "      <td>0.025639</td>\n",
       "      <td>0.025995</td>\n",
       "      <td>0.230744</td>\n",
       "      <td>0.251107</td>\n",
       "      <td>0.254058</td>\n",
       "    </tr>\n",
       "    <tr>\n",
       "      <th>kon1.00e-02ratej5.00e-01</th>\n",
       "      <td>195432448.0</td>\n",
       "      <td>0.213402</td>\n",
       "      <td>7.044582</td>\n",
       "      <td>0.953041</td>\n",
       "      <td>0.046959</td>\n",
       "      <td>0.497672</td>\n",
       "      <td>0.928668</td>\n",
       "      <td>0.930363</td>\n",
       "      <td>0.933846</td>\n",
       "      <td>336.0</td>\n",
       "      <td>...</td>\n",
       "      <td>0.018817</td>\n",
       "      <td>0.307997</td>\n",
       "      <td>0.323261</td>\n",
       "      <td>0.340083</td>\n",
       "      <td>0.015563</td>\n",
       "      <td>0.016247</td>\n",
       "      <td>0.016494</td>\n",
       "      <td>0.307580</td>\n",
       "      <td>0.328514</td>\n",
       "      <td>0.334113</td>\n",
       "    </tr>\n",
       "  </tbody>\n",
       "</table>\n",
       "<p>12 rows × 32 columns</p>\n",
       "</div>"
      ],
      "text/plain": [
       "                                -ELBO  proximity_0      gain  probs_z_0  \\\n",
       "kon3.00e-02ratej1.00e+00  198402416.0     0.212721  7.074045   0.880973   \n",
       "kon1.00e-02ratej1.00e+00  198348288.0     0.215698  7.072728   0.956787   \n",
       "kon3.00e-02ratej1.50e-01  193252784.0     0.209326  7.023105   0.869527   \n",
       "kon1.00e-02ratej1.00e-02  192369024.0     0.205118  7.018451   0.950517   \n",
       "kon2.00e-02ratej1.00e+00  198391696.0     0.211918  7.066543   0.916703   \n",
       "kon3.00e-02ratej5.00e-01  195557904.0     0.211141  7.050582   0.872335   \n",
       "kon2.00e-02ratej5.00e-01  195498032.0     0.209449  7.048267   0.912512   \n",
       "kon2.00e-02ratej1.00e-02  192445760.0     0.207034  7.027198   0.908434   \n",
       "kon3.00e-02ratej1.00e-02  192505600.0     0.207121  7.027124   0.871321   \n",
       "kon1.00e-02ratej1.50e-01  193123424.0     0.210434  7.029120   0.952291   \n",
       "kon2.00e-02ratej1.50e-01  193205568.0     0.209661  7.030724   0.908589   \n",
       "kon1.00e-02ratej5.00e-01  195432448.0     0.213402  7.044582   0.953041   \n",
       "\n",
       "                          probs_z_1    rate_j       MCC    Recall  Precision  \\\n",
       "kon3.00e-02ratej1.00e+00   0.119027  0.967912  0.919860  0.911285   0.948998   \n",
       "kon1.00e-02ratej1.00e+00   0.043213  0.976319  0.884693  0.880829   0.899661   \n",
       "kon3.00e-02ratej1.50e-01   0.130473  0.151723  0.981657  0.980088   0.988048   \n",
       "kon1.00e-02ratej1.00e-02   0.049483  0.010081  0.996517  0.997098   0.996273   \n",
       "kon2.00e-02ratej1.00e+00   0.083297  0.968362  0.909965  0.902205   0.934026   \n",
       "kon3.00e-02ratej5.00e-01   0.127665  0.495139  0.951257  0.944298   0.971164   \n",
       "kon2.00e-02ratej5.00e-01   0.087488  0.495192  0.945413  0.940609   0.960279   \n",
       "kon2.00e-02ratej1.00e-02   0.091566  0.010145  0.997180  0.998146   0.996732   \n",
       "kon3.00e-02ratej1.00e-02   0.128679  0.010114  0.997778  0.998761   0.997370   \n",
       "kon1.00e-02ratej1.50e-01   0.047709  0.152019  0.971233  0.971813   0.973427   \n",
       "kon2.00e-02ratej1.50e-01   0.091411  0.151936  0.978968  0.978074   0.983734   \n",
       "kon1.00e-02ratej5.00e-01   0.046959  0.497672  0.928668  0.930363   0.933846   \n",
       "\n",
       "                              FN  ...  kon_high      koff  koff_low  \\\n",
       "kon3.00e-02ratej1.00e+00  1143.0  ...  0.046450  0.305168  0.320435   \n",
       "kon1.00e-02ratej1.00e+00   575.0  ...  0.021978  0.369002  0.404915   \n",
       "kon3.00e-02ratej1.50e-01   262.0  ...  0.038392  0.229673  0.237913   \n",
       "kon1.00e-02ratej1.00e-02    14.0  ...  0.013287  0.209361  0.215173   \n",
       "kon2.00e-02ratej1.00e+00   887.0  ...  0.034104  0.319866  0.339933   \n",
       "kon3.00e-02ratej5.00e-01   741.0  ...  0.042371  0.260737  0.268820   \n",
       "kon2.00e-02ratej5.00e-01   548.0  ...  0.030719  0.276781  0.287056   \n",
       "kon2.00e-02ratej1.00e-02    17.0  ...  0.023594  0.202581  0.209036   \n",
       "kon3.00e-02ratej1.00e-02    16.0  ...  0.033524  0.202114  0.208734   \n",
       "kon1.00e-02ratej1.50e-01   136.0  ...  0.015948  0.246446  0.261773   \n",
       "kon2.00e-02ratej1.50e-01   202.0  ...  0.027541  0.231863  0.248326   \n",
       "kon1.00e-02ratej5.00e-01   336.0  ...  0.018817  0.307997  0.323261   \n",
       "\n",
       "                          koff_high       A01   A01_low  A01_high       A10  \\\n",
       "kon3.00e-02ratej1.00e+00   0.329912  0.042870  0.044368  0.044778  0.303957   \n",
       "kon1.00e-02ratej1.00e+00   0.423973  0.018302  0.019041  0.019380  0.368644   \n",
       "kon3.00e-02ratej1.50e-01   0.246448  0.034274  0.036320  0.036645  0.228433   \n",
       "kon1.00e-02ratej1.00e-02   0.228021  0.010602  0.011272  0.011442  0.208377   \n",
       "kon2.00e-02ratej1.00e+00   0.352303  0.030556  0.031751  0.032126  0.318903   \n",
       "kon3.00e-02ratej5.00e-01   0.277574  0.038563  0.040061  0.040408  0.260019   \n",
       "kon2.00e-02ratej5.00e-01   0.298174  0.027391  0.028423  0.028726  0.275908   \n",
       "kon2.00e-02ratej1.00e-02   0.218466  0.020357  0.021607  0.021844  0.201418   \n",
       "kon3.00e-02ratej1.00e-02   0.216161  0.029866  0.031695  0.031998  0.200930   \n",
       "kon1.00e-02ratej1.50e-01   0.277653  0.012452  0.013605  0.013866  0.245636   \n",
       "kon2.00e-02ratej1.50e-01   0.259225  0.023251  0.025639  0.025995  0.230744   \n",
       "kon1.00e-02ratej5.00e-01   0.340083  0.015563  0.016247  0.016494  0.307580   \n",
       "\n",
       "                           A10_low  A10_high  \n",
       "kon3.00e-02ratej1.00e+00  0.322378  0.325487  \n",
       "kon1.00e-02ratej1.00e+00  0.409580  0.418186  \n",
       "kon3.00e-02ratej1.50e-01  0.239993  0.241939  \n",
       "kon1.00e-02ratej1.00e-02  0.218653  0.221474  \n",
       "kon2.00e-02ratej1.00e+00  0.342904  0.347260  \n",
       "kon3.00e-02ratej5.00e-01  0.271455  0.273825  \n",
       "kon2.00e-02ratej5.00e-01  0.290465  0.293776  \n",
       "kon2.00e-02ratej1.00e-02  0.211013  0.213004  \n",
       "kon3.00e-02ratej1.00e-02  0.210389  0.211938  \n",
       "kon1.00e-02ratej1.50e-01  0.266416  0.270582  \n",
       "kon2.00e-02ratej1.50e-01  0.251107  0.254058  \n",
       "kon1.00e-02ratej5.00e-01  0.328514  0.334113  \n",
       "\n",
       "[12 rows x 32 columns]"
      ]
     },
     "execution_count": 13,
     "metadata": {},
     "output_type": "execute_result"
    }
   ],
   "source": [
    "fit_df = pd.concat(fit.values(), axis=1).T\n",
    "fit_df = fit_df.drop(\n",
    "    [\"width_mean_0\", \"width_size_0\", \"height_scale\", \"height\"],\n",
    "    axis=1\n",
    ")\n",
    "fit_df"
   ]
  },
  {
   "cell_type": "markdown",
   "metadata": {},
   "source": [
    "### Figure 6"
   ]
  },
  {
   "cell_type": "markdown",
   "metadata": {},
   "source": [
    "#### Keq"
   ]
  },
  {
   "cell_type": "code",
   "execution_count": 79,
   "metadata": {},
   "outputs": [
    {
     "data": {
      "image/png": "[encoded data removed]",
      "text/plain": [
       "<Figure size 108x108 with 1 Axes>"
      ]
     },
     "metadata": {
      "needs_background": "light"
     },
     "output_type": "display_data"
    }
   ],
   "source": [
    "plt.figure(figsize=(1.5, 1.5))\n",
    "mask = truth_df[\"kon\"] == 0.01\n",
    "keq_sim = truth_df.loc[mask, \"kon\"] / truth_df.loc[mask, \"koff\"]\n",
    "keq_fit = fit_df.loc[mask, \"probs_z_1\"] / fit_df.loc[mask, \"probs_z_0\"]\n",
    "plt.scatter(truth_df.loc[mask, \"rate_j\"], keq_sim, marker=\"x\")\n",
    "plt.scatter(truth_df.loc[mask, \"rate_j\"], keq_fit, color=\"k\", s=13)\n",
    "plt.ylim(0, 0.2)\n",
    "#plt.xlim(0, 0.2)\n",
    "plt.yticks(fontsize=8)\n",
    "plt.xticks([0, 0.5, 1], fontsize=8)\n",
    "plt.xlabel(r\"$\\lambda^{j}$ (simulated)\", fontsize=8)\n",
    "plt.ylabel(r\"$K_{eq} = \\dfrac{\\pi^z}{(1-\\pi^z)}$ (fitted)\", fontsize=8)\n",
    "plt.savefig(\"/tmp/keq1.svg\")\n",
    "plt.show()"
   ]
  },
  {
   "cell_type": "code",
   "execution_count": 80,
   "metadata": {},
   "outputs": [
    {
     "data": {
      "image/png": "[encoded data removed]",
      "text/plain": [
       "<Figure size 108x108 with 1 Axes>"
      ]
     },
     "metadata": {
      "needs_background": "light"
     },
     "output_type": "display_data"
    }
   ],
   "source": [
    "plt.figure(figsize=(1.5, 1.5))\n",
    "mask = truth_df[\"kon\"] == 0.02\n",
    "keq_sim = truth_df.loc[mask, \"kon\"] / truth_df.loc[mask, \"koff\"]\n",
    "keq_fit = fit_df.loc[mask, \"probs_z_1\"] / fit_df.loc[mask, \"probs_z_0\"]\n",
    "plt.scatter(truth_df.loc[mask, \"rate_j\"], keq_sim, marker=\"x\")\n",
    "plt.scatter(truth_df.loc[mask, \"rate_j\"], keq_fit, color=\"k\", s=13)\n",
    "plt.ylim(0, 0.2)\n",
    "#plt.xlim(0, 0.2)\n",
    "plt.yticks(fontsize=8)\n",
    "plt.xticks([0, 0.5, 1], fontsize=8)\n",
    "plt.xlabel(r\"$\\lambda^{j}$ (simulated)\", fontsize=8)\n",
    "plt.ylabel(r\"$K_{eq} = \\dfrac{\\pi^z}{(1-\\pi^z)}$ (fitted)\", fontsize=8)\n",
    "plt.savefig(\"/tmp/keq2.svg\")\n",
    "plt.show()"
   ]
  },
  {
   "cell_type": "code",
   "execution_count": 81,
   "metadata": {},
   "outputs": [
    {
     "data": {
      "image/png": "[encoded data removed]",
      "text/plain": [
       "<Figure size 108x108 with 1 Axes>"
      ]
     },
     "metadata": {
      "needs_background": "light"
     },
     "output_type": "display_data"
    }
   ],
   "source": [
    "plt.figure(figsize=(1.5, 1.5))\n",
    "mask = truth_df[\"kon\"] == 0.03\n",
    "keq_sim = truth_df.loc[mask, \"kon\"] / truth_df.loc[mask, \"koff\"]\n",
    "keq_fit = fit_df.loc[mask, \"probs_z_1\"] / fit_df.loc[mask, \"probs_z_0\"]\n",
    "plt.scatter(truth_df.loc[mask, \"rate_j\"], keq_sim, marker=\"x\")\n",
    "plt.scatter(truth_df.loc[mask, \"rate_j\"], keq_fit, color=\"k\", s=13)\n",
    "plt.ylim(0, 0.2)\n",
    "#plt.xlim(0, 0.2)\n",
    "plt.yticks(fontsize=8)\n",
    "plt.xticks([0, 0.5, 1], fontsize=8)\n",
    "plt.xlabel(r\"$\\lambda^{j}$ (simulated)\", fontsize=8)\n",
    "plt.ylabel(r\"$K_{eq} = \\dfrac{\\pi^z}{(1-\\pi^z)}$ (fitted)\", fontsize=8)\n",
    "plt.savefig(\"/tmp/keq3.svg\")\n",
    "plt.show()"
   ]
  },
  {
   "cell_type": "code",
   "execution_count": 68,
   "metadata": {},
   "outputs": [
    {
     "data": {
      "text/plain": [
       "kon3.00e-02ratej1.00e+00    0.141041\n",
       "kon1.00e-02ratej1.00e+00    0.049647\n",
       "kon3.00e-02ratej1.50e-01    0.150039\n",
       "kon1.00e-02ratej1.00e-02    0.050879\n",
       "kon2.00e-02ratej1.00e+00    0.095815\n",
       "kon3.00e-02ratej5.00e-01    0.148310\n",
       "kon2.00e-02ratej5.00e-01    0.099277\n",
       "kon2.00e-02ratej1.00e-02    0.101069\n",
       "kon3.00e-02ratej1.00e-02    0.148637\n",
       "kon1.00e-02ratej1.50e-01    0.050691\n",
       "kon2.00e-02ratej1.50e-01    0.100767\n",
       "kon1.00e-02ratej5.00e-01    0.050598\n",
       "dtype: float64"
      ]
     },
     "execution_count": 68,
     "metadata": {},
     "output_type": "execute_result"
    }
   ],
   "source": [
    "fit_df[\"A01\"] / fit_df[\"A10\"]"
   ]
  },
  {
   "cell_type": "markdown",
   "metadata": {},
   "source": [
    "#### Time-to-first binding"
   ]
  },
  {
   "cell_type": "code",
   "execution_count": 20,
   "metadata": {},
   "outputs": [
    {
     "data": {
      "image/png": "[encoded data removed]",
      "text/plain": [
       "<Figure size 108x108 with 1 Axes>"
      ]
     },
     "metadata": {
      "needs_background": "light"
     },
     "output_type": "display_data"
    }
   ],
   "source": [
    "plt.figure(figsize=(1.5, 1.5))\n",
    "mask = truth_df[\"kon\"] == 0.01\n",
    "plt.scatter(truth_df.loc[mask, \"rate_j\"], truth_df.loc[mask, \"kon\"], marker=\"x\")\n",
    "plt.errorbar(truth_df.loc[mask, \"rate_j\"], fit_df.loc[mask, \"kon_true\"],\n",
    "             yerr=abs(fit_df.loc[mask, [\"kon_true_low\", \"kon_true_high\"]].values.T-fit_df.loc[mask, \"kon_true\"].values),\n",
    "             fmt=\"o\", ms=3, mfc=\"C1\", mec=\"C1\", ecolor=\"C1\", capsize=2)\n",
    "plt.errorbar(truth_df.loc[mask, \"rate_j\"], fit_df.loc[mask, \"kon_ttfb\"],\n",
    "             yerr=abs(fit_df.loc[mask, [\"kon_ttfb_low\", \"kon_ttfb_high\"]].values.T-fit_df.loc[mask, \"kon_ttfb\"].values),\n",
    "             fmt=\"o\", ms=3, mfc=\"k\", mec=\"k\", ecolor=\"k\", capsize=2)\n",
    "plt.ylim(0, 0.05)\n",
    "#plt.xlim(0, 0.3)\n",
    "plt.xticks(fontsize=8)\n",
    "plt.yticks(fontsize=8)\n",
    "plt.xticks([0, 0.5, 1], fontsize=8)\n",
    "plt.xlabel(r\"$\\lambda^{j}$ (simulated)\", fontsize=8)\n",
    "plt.ylabel(r\"$k_{on}$ (ttfb)\", fontsize=8)\n",
    "plt.savefig(\"/tmp/kon1-ttfb.svg\")\n",
    "plt.show()"
   ]
  },
  {
   "cell_type": "code",
   "execution_count": 21,
   "metadata": {},
   "outputs": [
    {
     "data": {
      "image/png": "[encoded data removed]",
      "text/plain": [
       "<Figure size 108x108 with 1 Axes>"
      ]
     },
     "metadata": {
      "needs_background": "light"
     },
     "output_type": "display_data"
    }
   ],
   "source": [
    "plt.figure(figsize=(1.5, 1.5))\n",
    "mask = truth_df[\"kon\"] == 0.02\n",
    "plt.scatter(truth_df.loc[mask, \"rate_j\"], truth_df.loc[mask, \"kon\"], marker=\"x\")\n",
    "plt.errorbar(truth_df.loc[mask, \"rate_j\"], fit_df.loc[mask, \"kon_true\"],\n",
    "             yerr=abs(fit_df.loc[mask, [\"kon_true_low\", \"kon_true_high\"]].values.T-fit_df.loc[mask, \"kon_true\"].values),\n",
    "             fmt=\"o\", ms=3, mfc=\"C1\", mec=\"C1\", ecolor=\"C1\", capsize=2)\n",
    "plt.errorbar(truth_df.loc[mask, \"rate_j\"], fit_df.loc[mask, \"kon_ttfb\"],\n",
    "             yerr=abs(fit_df.loc[mask, [\"kon_ttfb_low\", \"kon_ttfb_high\"]].values.T-fit_df.loc[mask, \"kon_ttfb\"].values),\n",
    "             fmt=\"o\", ms=3, mfc=\"k\", mec=\"k\", ecolor=\"k\", capsize=2)\n",
    "plt.ylim(0, 0.05)\n",
    "#plt.xlim(0, 0.3)\n",
    "plt.xticks(fontsize=8)\n",
    "plt.yticks(fontsize=8)\n",
    "plt.xticks([0, 0.5, 1], fontsize=8)\n",
    "plt.xlabel(r\"$\\lambda^{j}$ (simulated)\", fontsize=8)\n",
    "plt.ylabel(r\"$k_{on}$ (ttfb)\", fontsize=8)\n",
    "plt.savefig(\"/tmp/kon2-ttfb.svg\")\n",
    "plt.show()"
   ]
  },
  {
   "cell_type": "code",
   "execution_count": 22,
   "metadata": {},
   "outputs": [
    {
     "data": {
      "image/png": "[encoded data removed]",
      "text/plain": [
       "<Figure size 108x108 with 1 Axes>"
      ]
     },
     "metadata": {
      "needs_background": "light"
     },
     "output_type": "display_data"
    }
   ],
   "source": [
    "plt.figure(figsize=(1.5, 1.5))\n",
    "mask = truth_df[\"kon\"] == 0.03\n",
    "plt.scatter(truth_df.loc[mask, \"rate_j\"], truth_df.loc[mask, \"kon\"], marker=\"x\")\n",
    "plt.errorbar(truth_df.loc[mask, \"rate_j\"], fit_df.loc[mask, \"kon_true\"],\n",
    "             yerr=abs(fit_df.loc[mask, [\"kon_true_low\", \"kon_true_high\"]].values.T-fit_df.loc[mask, \"kon_true\"].values),\n",
    "             fmt=\"o\", ms=3, mfc=\"C1\", mec=\"C1\", ecolor=\"C1\", capsize=2)\n",
    "plt.errorbar(truth_df.loc[mask, \"rate_j\"], fit_df.loc[mask, \"kon_ttfb\"],\n",
    "             yerr=abs(fit_df.loc[mask, [\"kon_ttfb_low\", \"kon_ttfb_high\"]].values.T-fit_df.loc[mask, \"kon_ttfb\"].values),\n",
    "             fmt=\"o\", ms=3, mfc=\"k\", mec=\"k\", ecolor=\"k\", capsize=2)\n",
    "plt.ylim(0, 0.05)\n",
    "#plt.xlim(0, 0.3)\n",
    "plt.xticks(fontsize=8)\n",
    "plt.yticks(fontsize=8)\n",
    "plt.xticks([0, 0.5, 1], fontsize=8)\n",
    "plt.xlabel(r\"$\\lambda^{j}$ (simulated)\", fontsize=8)\n",
    "plt.ylabel(r\"$k_{on}$ (ttfb)\", fontsize=8)\n",
    "plt.savefig(\"/tmp/kon3-ttfb.svg\")\n",
    "plt.show()"
   ]
  },
  {
   "cell_type": "code",
   "execution_count": 29,
   "metadata": {},
   "outputs": [
    {
     "data": {
      "image/png": "[encoded data removed]",
      "text/plain": [
       "<Figure size 108x108 with 1 Axes>"
      ]
     },
     "metadata": {
      "needs_background": "light"
     },
     "output_type": "display_data"
    }
   ],
   "source": [
    "plt.figure(figsize=(1.5, 1.5))\n",
    "mask = truth_df[\"kon\"] == 0.01\n",
    "plt.scatter(truth_df.loc[mask, \"rate_j\"], truth_df.loc[mask, \"koff\"], marker=\"x\")\n",
    "plt.scatter(truth_df.loc[mask, \"rate_j\"], fit_df.loc[mask, \"koff_ttfb\"], marker=\"o\", s=10, color=\"k\")\n",
    "plt.ylim(0, 0.5)\n",
    "#plt.xlim(0, 0.3)\n",
    "plt.xticks(fontsize=8)\n",
    "plt.yticks(fontsize=8)\n",
    "plt.xticks([0, 0.5, 1], fontsize=8)\n",
    "plt.xlabel(r\"$\\lambda^{j}$ (simulated)\", fontsize=8)\n",
    "plt.ylabel(r\"$k_{off}$ (ttfb)\", fontsize=8)\n",
    "plt.savefig(\"/tmp/koff1-ttfb.svg\")\n",
    "plt.show()"
   ]
  },
  {
   "cell_type": "code",
   "execution_count": 30,
   "metadata": {},
   "outputs": [
    {
     "data": {
      "image/png": "[encoded data removed]",
      "text/plain": [
       "<Figure size 108x108 with 1 Axes>"
      ]
     },
     "metadata": {
      "needs_background": "light"
     },
     "output_type": "display_data"
    }
   ],
   "source": [
    "plt.figure(figsize=(1.5, 1.5))\n",
    "mask = truth_df[\"kon\"] == 0.02\n",
    "plt.scatter(truth_df.loc[mask, \"rate_j\"], truth_df.loc[mask, \"koff\"], marker=\"x\")\n",
    "plt.scatter(truth_df.loc[mask, \"rate_j\"], fit_df.loc[mask, \"koff_ttfb\"], marker=\"o\", s=10, color=\"k\")\n",
    "plt.ylim(0, 0.5)\n",
    "#plt.xlim(0, 0.3)\n",
    "plt.xticks(fontsize=8)\n",
    "plt.yticks(fontsize=8)\n",
    "plt.xticks([0, 0.5, 1], fontsize=8)\n",
    "plt.xlabel(r\"$\\lambda^{j}$ (simulated)\", fontsize=8)\n",
    "plt.ylabel(r\"$k_{off}$ (ttfb)\", fontsize=8)\n",
    "plt.savefig(\"/tmp/koff2-ttfb.svg\")\n",
    "plt.show()"
   ]
  },
  {
   "cell_type": "code",
   "execution_count": 31,
   "metadata": {},
   "outputs": [
    {
     "data": {
      "image/png": "[encoded data removed]",
      "text/plain": [
       "<Figure size 108x108 with 1 Axes>"
      ]
     },
     "metadata": {
      "needs_background": "light"
     },
     "output_type": "display_data"
    }
   ],
   "source": [
    "plt.figure(figsize=(1.5, 1.5))\n",
    "mask = truth_df[\"kon\"] == 0.03\n",
    "plt.scatter(truth_df.loc[mask, \"rate_j\"], truth_df.loc[mask, \"koff\"], marker=\"x\")\n",
    "plt.scatter(truth_df.loc[mask, \"rate_j\"], fit_df.loc[mask, \"koff_ttfb\"], marker=\"o\", s=10, color=\"k\")\n",
    "plt.ylim(0, 0.5)\n",
    "#plt.xlim(0, 0.3)\n",
    "plt.xticks(fontsize=8)\n",
    "plt.yticks(fontsize=8)\n",
    "plt.xticks([0, 0.5, 1], fontsize=8)\n",
    "plt.xlabel(r\"$\\lambda^{j}$ (simulated)\", fontsize=8)\n",
    "plt.ylabel(r\"$k_{off}$ (ttfb)\", fontsize=8)\n",
    "plt.savefig(\"/tmp/koff3-ttfb.svg\")\n",
    "plt.show()"
   ]
  },
  {
   "cell_type": "markdown",
   "metadata": {},
   "source": [
    "#### Dwell time"
   ]
  },
  {
   "cell_type": "code",
   "execution_count": 32,
   "metadata": {},
   "outputs": [
    {
     "data": {
      "image/png": "[encoded data removed]",
      "text/plain": [
       "<Figure size 108x108 with 1 Axes>"
      ]
     },
     "metadata": {
      "needs_background": "light"
     },
     "output_type": "display_data"
    }
   ],
   "source": [
    "plt.figure(figsize=(1.5, 1.5))\n",
    "mask = truth_df[\"kon\"] == 0.01\n",
    "plt.scatter(truth_df.loc[mask, \"rate_j\"], truth_df.loc[mask, \"kon\"], marker=\"x\")\n",
    "plt.errorbar(truth_df.loc[mask, \"rate_j\"], fit_df.loc[mask, \"kon\"],\n",
    "             yerr=abs(fit_df.loc[mask, [\"kon_low\", \"kon_high\"]].values.T-fit_df.loc[mask, \"kon\"].values),\n",
    "             fmt=\"o\", ms=3, mfc=\"k\", mec=\"k\", ecolor=\"k\", capsize=2)\n",
    "plt.ylim(0, 0.05)\n",
    "#plt.xlim(0, 0.3)\n",
    "plt.xticks(fontsize=8)\n",
    "plt.yticks(fontsize=8)\n",
    "plt.xticks([0, 0.5, 1], fontsize=8)\n",
    "plt.xlabel(r\"$\\lambda^{j}$ (simulated)\", fontsize=8)\n",
    "plt.ylabel(r\"$k_{on}$ (dwell times)\", fontsize=8)\n",
    "plt.savefig(\"/tmp/kon1-dt.svg\")\n",
    "plt.show()"
   ]
  },
  {
   "cell_type": "code",
   "execution_count": 33,
   "metadata": {},
   "outputs": [
    {
     "data": {
      "image/png": "[encoded data removed]",
      "text/plain": [
       "<Figure size 108x108 with 1 Axes>"
      ]
     },
     "metadata": {
      "needs_background": "light"
     },
     "output_type": "display_data"
    }
   ],
   "source": [
    "plt.figure(figsize=(1.5, 1.5))\n",
    "mask = truth_df[\"kon\"] == 0.02\n",
    "plt.scatter(truth_df.loc[mask, \"rate_j\"], truth_df.loc[mask, \"kon\"], marker=\"x\")\n",
    "plt.errorbar(truth_df.loc[mask, \"rate_j\"], fit_df.loc[mask, \"kon\"],\n",
    "             yerr=abs(fit_df.loc[mask, [\"kon_low\", \"kon_high\"]].values.T-fit_df.loc[mask, \"kon\"].values),\n",
    "             fmt=\"o\", ms=3, mfc=\"k\", mec=\"k\", ecolor=\"k\", capsize=2)\n",
    "plt.ylim(0, 0.05)\n",
    "#plt.xlim(0, 0.3)\n",
    "plt.xticks(fontsize=8)\n",
    "plt.yticks(fontsize=8)\n",
    "plt.xticks([0, 0.5, 1], fontsize=8)\n",
    "plt.xlabel(r\"$\\lambda^{j}$ (simulated)\", fontsize=8)\n",
    "plt.ylabel(r\"$k_{on}$ (dwell times)\", fontsize=8)\n",
    "plt.savefig(\"/tmp/kon2-dt.svg\")\n",
    "plt.show()"
   ]
  },
  {
   "cell_type": "code",
   "execution_count": 34,
   "metadata": {},
   "outputs": [
    {
     "data": {
      "image/png": "[encoded data removed]",
      "text/plain": [
       "<Figure size 108x108 with 1 Axes>"
      ]
     },
     "metadata": {
      "needs_background": "light"
     },
     "output_type": "display_data"
    }
   ],
   "source": [
    "plt.figure(figsize=(1.5, 1.5))\n",
    "mask = truth_df[\"kon\"] == 0.03\n",
    "plt.scatter(truth_df.loc[mask, \"rate_j\"], truth_df.loc[mask, \"kon\"], marker=\"x\")\n",
    "plt.errorbar(truth_df.loc[mask, \"rate_j\"], fit_df.loc[mask, \"kon\"],\n",
    "             yerr=abs(fit_df.loc[mask, [\"kon_low\", \"kon_high\"]].values.T-fit_df.loc[mask, \"kon\"].values),\n",
    "             fmt=\"o\", ms=3, mfc=\"k\", mec=\"k\", ecolor=\"k\", capsize=2)\n",
    "plt.ylim(0, 0.05)\n",
    "#plt.xlim(0, 0.3)\n",
    "plt.xticks(fontsize=8)\n",
    "plt.yticks(fontsize=8)\n",
    "plt.xticks([0, 0.5, 1], fontsize=8)\n",
    "plt.xlabel(r\"$\\lambda^{j}$ (simulated)\", fontsize=8)\n",
    "plt.ylabel(r\"$k_{on}$ (dwell times)\", fontsize=8)\n",
    "plt.savefig(\"/tmp/kon3-dt.svg\")\n",
    "plt.show()"
   ]
  },
  {
   "cell_type": "code",
   "execution_count": 35,
   "metadata": {},
   "outputs": [
    {
     "data": {
      "image/png": "[encoded data removed]",
      "text/plain": [
       "<Figure size 108x108 with 1 Axes>"
      ]
     },
     "metadata": {
      "needs_background": "light"
     },
     "output_type": "display_data"
    }
   ],
   "source": [
    "plt.figure(figsize=(1.5, 1.5))\n",
    "mask = truth_df[\"kon\"] == 0.01\n",
    "plt.scatter(truth_df.loc[mask, \"rate_j\"], truth_df.loc[mask, \"koff\"], marker=\"x\")\n",
    "plt.errorbar(truth_df.loc[mask, \"rate_j\"], fit_df.loc[mask, \"koff\"],\n",
    "             yerr=abs(fit_df.loc[mask, [\"koff_low\", \"koff_high\"]].values.T-fit_df.loc[mask, \"koff\"].values),\n",
    "             fmt=\"o\", ms=3, mfc=\"k\", mec=\"k\", ecolor=\"k\", capsize=2)\n",
    "plt.ylim(0, 0.5)\n",
    "#plt.xlim(0, 0.3)\n",
    "plt.xticks(fontsize=8)\n",
    "plt.yticks(fontsize=8)\n",
    "plt.xticks([0, 0.5, 1], fontsize=8)\n",
    "plt.xlabel(r\"$\\lambda^{j}$ (simulated)\", fontsize=8)\n",
    "plt.ylabel(r\"$k_{off}$ (dwell times)\", fontsize=8)\n",
    "plt.savefig(\"/tmp/koff1-dt.svg\")\n",
    "plt.show()"
   ]
  },
  {
   "cell_type": "code",
   "execution_count": 36,
   "metadata": {},
   "outputs": [
    {
     "data": {
      "image/png": "[encoded data removed]",
      "text/plain": [
       "<Figure size 108x108 with 1 Axes>"
      ]
     },
     "metadata": {
      "needs_background": "light"
     },
     "output_type": "display_data"
    }
   ],
   "source": [
    "plt.figure(figsize=(1.5, 1.5))\n",
    "mask = truth_df[\"kon\"] == 0.02\n",
    "plt.scatter(truth_df.loc[mask, \"rate_j\"], truth_df.loc[mask, \"koff\"], marker=\"x\")\n",
    "plt.errorbar(truth_df.loc[mask, \"rate_j\"], fit_df.loc[mask, \"koff\"],\n",
    "             yerr=abs(fit_df.loc[mask, [\"koff_low\", \"koff_high\"]].values.T-fit_df.loc[mask, \"koff\"].values),\n",
    "             fmt=\"o\", ms=3, mfc=\"k\", mec=\"k\", ecolor=\"k\", capsize=2)\n",
    "plt.ylim(0, 0.5)\n",
    "#plt.xlim(0, 0.3)\n",
    "plt.xticks(fontsize=8)\n",
    "plt.yticks(fontsize=8)\n",
    "plt.xticks([0, 0.5, 1], fontsize=8)\n",
    "plt.xlabel(r\"$\\lambda^{j}$ (simulated)\", fontsize=8)\n",
    "plt.ylabel(r\"$k_{off}$ (dwell times)\", fontsize=8)\n",
    "plt.savefig(\"/tmp/koff2-dt.svg\")\n",
    "plt.show()"
   ]
  },
  {
   "cell_type": "code",
   "execution_count": 37,
   "metadata": {},
   "outputs": [
    {
     "data": {
      "image/png": "[encoded data removed]",
      "text/plain": [
       "<Figure size 108x108 with 1 Axes>"
      ]
     },
     "metadata": {
      "needs_background": "light"
     },
     "output_type": "display_data"
    }
   ],
   "source": [
    "plt.figure(figsize=(1.5, 1.5))\n",
    "mask = truth_df[\"kon\"] == 0.03\n",
    "plt.scatter(truth_df.loc[mask, \"rate_j\"], truth_df.loc[mask, \"koff\"], marker=\"x\")\n",
    "plt.errorbar(truth_df.loc[mask, \"rate_j\"], fit_df.loc[mask, \"koff\"],\n",
    "             yerr=abs(fit_df.loc[mask, [\"koff_low\", \"koff_high\"]].values.T-fit_df.loc[mask, \"koff\"].values),\n",
    "             fmt=\"o\", ms=3, mfc=\"k\", mec=\"k\", ecolor=\"k\", capsize=2)\n",
    "plt.ylim(0, 0.5)\n",
    "#plt.xlim(0, 0.3)\n",
    "plt.xticks(fontsize=8)\n",
    "plt.yticks(fontsize=8)\n",
    "plt.xticks([0, 0.5, 1], fontsize=8)\n",
    "plt.xlabel(r\"$\\lambda^{j}$ (simulated)\", fontsize=8)\n",
    "plt.ylabel(r\"$k_{off}$ (dwell times)\", fontsize=8)\n",
    "plt.savefig(\"/tmp/koff3-dt.svg\")\n",
    "plt.show()"
   ]
  },
  {
   "cell_type": "markdown",
   "metadata": {},
   "source": [
    "#### Transition rates"
   ]
  },
  {
   "cell_type": "code",
   "execution_count": 69,
   "metadata": {},
   "outputs": [
    {
     "data": {
      "image/png": "[encoded data removed]",
      "text/plain": [
       "<Figure size 108x108 with 1 Axes>"
      ]
     },
     "metadata": {
      "needs_background": "light"
     },
     "output_type": "display_data"
    }
   ],
   "source": [
    "plt.figure(figsize=(1.5, 1.5))\n",
    "mask = truth_df[\"kon\"] == 0.01\n",
    "plt.scatter(truth_df.loc[mask, \"rate_j\"], truth_df.loc[mask, \"kon\"], marker=\"x\")\n",
    "plt.errorbar(truth_df.loc[mask, \"rate_j\"], fit_df.loc[mask, \"A01\"],\n",
    "             yerr=abs(fit_df.loc[mask, [\"A01_low\", \"A01_high\"]].values.T-fit_df.loc[mask, \"A01\"].values),\n",
    "             fmt=\"o\", ms=3, mfc=\"k\", mec=\"k\", ecolor=\"k\", capsize=2)\n",
    "plt.ylim(0, 0.05)\n",
    "#plt.xlim(0, 0.3)\n",
    "plt.xticks(fontsize=8)\n",
    "plt.yticks(fontsize=8)\n",
    "plt.xticks([0, 0.5, 1], fontsize=8)\n",
    "plt.xlabel(r\"$\\lambda^{j}$ (simulated)\", fontsize=8)\n",
    "plt.ylabel(r\"$k_{on}$ (MLE)\", fontsize=8)\n",
    "plt.savefig(\"/tmp/a01-1.svg\")\n",
    "plt.show()"
   ]
  },
  {
   "cell_type": "code",
   "execution_count": 72,
   "metadata": {},
   "outputs": [
    {
     "data": {
      "image/png": "[encoded data removed]",
      "text/plain": [
       "<Figure size 108x108 with 1 Axes>"
      ]
     },
     "metadata": {
      "needs_background": "light"
     },
     "output_type": "display_data"
    }
   ],
   "source": [
    "plt.figure(figsize=(1.5, 1.5))\n",
    "mask = truth_df[\"kon\"] == 0.02\n",
    "plt.scatter(truth_df.loc[mask, \"rate_j\"], truth_df.loc[mask, \"kon\"], marker=\"x\")\n",
    "plt.errorbar(truth_df.loc[mask, \"rate_j\"], fit_df.loc[mask, \"A01\"],\n",
    "             yerr=abs(fit_df.loc[mask, [\"A01_low\", \"A01_high\"]].values.T-fit_df.loc[mask, \"A01\"].values),\n",
    "             fmt=\"o\", ms=3, mfc=\"k\", mec=\"k\", ecolor=\"k\", capsize=2)\n",
    "plt.ylim(0, 0.05)\n",
    "#plt.xlim(0, 0.3)\n",
    "plt.xticks(fontsize=8)\n",
    "plt.yticks(fontsize=8)\n",
    "plt.xticks([0, 0.5, 1], fontsize=8)\n",
    "plt.xlabel(r\"$\\lambda^{j}$ (simulated)\", fontsize=8)\n",
    "plt.ylabel(r\"$k_{on}$ (MLE)\", fontsize=8)\n",
    "plt.savefig(\"/tmp/a01-2.svg\")\n",
    "plt.show()"
   ]
  },
  {
   "cell_type": "code",
   "execution_count": 71,
   "metadata": {},
   "outputs": [
    {
     "data": {
      "image/png": "[encoded data removed]",
      "text/plain": [
       "<Figure size 108x108 with 1 Axes>"
      ]
     },
     "metadata": {
      "needs_background": "light"
     },
     "output_type": "display_data"
    }
   ],
   "source": [
    "plt.figure(figsize=(1.5, 1.5))\n",
    "mask = truth_df[\"kon\"] == 0.03\n",
    "plt.scatter(truth_df.loc[mask, \"rate_j\"], truth_df.loc[mask, \"kon\"], marker=\"x\")\n",
    "plt.errorbar(truth_df.loc[mask, \"rate_j\"], fit_df.loc[mask, \"A01\"],\n",
    "             yerr=abs(fit_df.loc[mask, [\"A01_low\", \"A01_high\"]].values.T-fit_df.loc[mask, \"A01\"].values),\n",
    "             fmt=\"o\", ms=3, mfc=\"k\", mec=\"k\", ecolor=\"k\", capsize=2)\n",
    "plt.ylim(0, 0.05)\n",
    "#plt.xlim(0, 0.3)\n",
    "plt.xticks(fontsize=8)\n",
    "plt.yticks(fontsize=8)\n",
    "plt.xticks([0, 0.5, 1], fontsize=8)\n",
    "plt.xlabel(r\"$\\lambda^{j}$ (simulated)\", fontsize=8)\n",
    "plt.ylabel(r\"$k_{on}$ (MLE)\", fontsize=8)\n",
    "plt.savefig(\"/tmp/a01-3.svg\")\n",
    "plt.show()"
   ]
  },
  {
   "cell_type": "code",
   "execution_count": 73,
   "metadata": {},
   "outputs": [
    {
     "data": {
      "image/png": "[encoded data removed]",
      "text/plain": [
       "<Figure size 108x108 with 1 Axes>"
      ]
     },
     "metadata": {
      "needs_background": "light"
     },
     "output_type": "display_data"
    }
   ],
   "source": [
    "plt.figure(figsize=(1.5, 1.5))\n",
    "mask = truth_df[\"kon\"] == 0.01\n",
    "plt.scatter(truth_df.loc[mask, \"rate_j\"], truth_df.loc[mask, \"koff\"], marker=\"x\")\n",
    "plt.errorbar(truth_df.loc[mask, \"rate_j\"], fit_df.loc[mask, \"A10\"],\n",
    "             yerr=abs(fit_df.loc[mask, [\"A10_low\", \"A10_high\"]].values.T-fit_df.loc[mask, \"A10\"].values),\n",
    "             fmt=\"o\", ms=3, mfc=\"k\", mec=\"k\", ecolor=\"k\", capsize=2)\n",
    "plt.ylim(0, 0.5)\n",
    "#plt.xlim(0, 0.3)\n",
    "plt.xticks(fontsize=8)\n",
    "plt.yticks(fontsize=8)\n",
    "plt.xticks([0, 0.5, 1], fontsize=8)\n",
    "plt.xlabel(r\"$\\lambda^{j}$ (simulated)\", fontsize=8)\n",
    "plt.ylabel(r\"$k_{off}$ (MLE)\", fontsize=8)\n",
    "plt.savefig(\"/tmp/a10-1.svg\")\n",
    "plt.show()"
   ]
  },
  {
   "cell_type": "code",
   "execution_count": 74,
   "metadata": {},
   "outputs": [
    {
     "data": {
      "image/png": "[encoded data removed]",
      "text/plain": [
       "<Figure size 108x108 with 1 Axes>"
      ]
     },
     "metadata": {
      "needs_background": "light"
     },
     "output_type": "display_data"
    }
   ],
   "source": [
    "plt.figure(figsize=(1.5, 1.5))\n",
    "mask = truth_df[\"kon\"] == 0.02\n",
    "plt.scatter(truth_df.loc[mask, \"rate_j\"], truth_df.loc[mask, \"koff\"], marker=\"x\")\n",
    "plt.errorbar(truth_df.loc[mask, \"rate_j\"], fit_df.loc[mask, \"A10\"],\n",
    "             yerr=abs(fit_df.loc[mask, [\"A10_low\", \"A10_high\"]].values.T-fit_df.loc[mask, \"A10\"].values),\n",
    "             fmt=\"o\", ms=3, mfc=\"k\", mec=\"k\", ecolor=\"k\", capsize=2)\n",
    "plt.ylim(0, 0.5)\n",
    "#plt.xlim(0, 0.3)\n",
    "plt.xticks(fontsize=8)\n",
    "plt.yticks(fontsize=8)\n",
    "plt.xticks([0, 0.5, 1], fontsize=8)\n",
    "plt.xlabel(r\"$\\lambda^{j}$ (simulated)\", fontsize=8)\n",
    "plt.ylabel(r\"$k_{off}$ (MLE)\", fontsize=8)\n",
    "plt.savefig(\"/tmp/a10-2.svg\")\n",
    "plt.show()"
   ]
  },
  {
   "cell_type": "code",
   "execution_count": 75,
   "metadata": {},
   "outputs": [
    {
     "data": {
      "image/png": "[encoded data removed]",
      "text/plain": [
       "<Figure size 108x108 with 1 Axes>"
      ]
     },
     "metadata": {
      "needs_background": "light"
     },
     "output_type": "display_data"
    }
   ],
   "source": [
    "plt.figure(figsize=(1.5, 1.5))\n",
    "mask = truth_df[\"kon\"] == 0.03\n",
    "plt.scatter(truth_df.loc[mask, \"rate_j\"], truth_df.loc[mask, \"koff\"], marker=\"x\")\n",
    "plt.errorbar(truth_df.loc[mask, \"rate_j\"], fit_df.loc[mask, \"A10\"],\n",
    "             yerr=abs(fit_df.loc[mask, [\"A10_low\", \"A10_high\"]].values.T-fit_df.loc[mask, \"A10\"].values),\n",
    "             fmt=\"o\", ms=3, mfc=\"k\", mec=\"k\", ecolor=\"k\", capsize=2)\n",
    "plt.ylim(0, 0.5)\n",
    "#plt.xlim(0, 0.3)\n",
    "plt.xticks(fontsize=8)\n",
    "plt.yticks(fontsize=8)\n",
    "plt.xticks([0, 0.5, 1], fontsize=8)\n",
    "plt.xlabel(r\"$\\lambda^{j}$ (simulated)\", fontsize=8)\n",
    "plt.ylabel(r\"$k_{off}$ (MLE)\", fontsize=8)\n",
    "plt.savefig(\"/tmp/a10-3.svg\")\n",
    "plt.show()"
   ]
  },
  {
   "cell_type": "code",
   "execution_count": 83,
   "metadata": {},
   "outputs": [],
   "source": [
    "data_path = EXAMLES_DIR / \"kon2.00e-02ratej1.00e+00\"\n",
    "param_path = data_path / \"runs/cosmos/v1.1.6/S1/control/lr0.005/bs64/\"\n",
    "\n",
    "model = Cosmos()\n",
    "model.load(data_path, True, \"cpu\")\n",
    "model.load_parameters(param_path)"
   ]
  },
  {
   "cell_type": "code",
   "execution_count": null,
   "metadata": {},
   "outputs": [],
   "source": [
    "plt.figure(figsize=(3.5,0.5))\n",
    "\n",
    "plt.plot(\n",
    "    np.arange(f1, f2),\n",
    "    model.z_probs[:, n, f1:f2].sum(0),\n",
    "    \"o-\", ms=2, lw=0.5, color=\"C2\", label=\"on-target\"\n",
    ")\n",
    "plt.plot(\n",
    "    np.arange(f1, f2),\n",
    "    1 - (1 - model.j_probs[:, n, f1:f2]).prod(0),\n",
    "    \"o-\", ms=2, lw=0.5, color=\"C3\", label=\"off-target\"\n",
    ")\n",
    "plt.xticks([])\n",
    "plt.yticks([0, 0.5, 1], fontsize=8)\n",
    "plt.xlim(f1-0.5, f2-0.5)\n",
    "plt.ylim(-0.15, 1.15)\n",
    "plt.ylabel(r\"$p$\", fontsize=8)\n",
    "plt.gca().yaxis.set_major_formatter(FormatStrFormatter('%g'))\n",
    "\n",
    "plt.savefig(\"/tmp/grace-p.svg\")\n",
    "plt.show()"
   ]
  },
  {
   "cell_type": "code",
   "execution_count": 99,
   "metadata": {},
   "outputs": [
    {
     "data": {
      "image/png": "[encoded data removed]",
      "text/plain": [
       "<Figure size 432x36 with 1 Axes>"
      ]
     },
     "metadata": {
      "needs_background": "light"
     },
     "output_type": "display_data"
    }
   ],
   "source": [
    "plt.figure(figsize=(6, 0.5))\n",
    "\n",
    "f1 = 0\n",
    "f2 = 500\n",
    "plt.plot(\n",
    "    model.data.drift.index[f1:f2],\n",
    "    model.z_marginal[0, f1:f2],\n",
    "    \"o-\", ms=2, lw=0.5, color=\"C2\", label=\"fit\")\n",
    "plt.plot(\n",
    "    model.data.drift.index[f1:f2],\n",
    "    model.data.labels[\"z\"][0, f1:f2],\n",
    "    \"-\", lw=0.5, color=\"C4\", label=\"simulation\")\n",
    "\n",
    "plt.xticks(fontsize=8)\n",
    "plt.yticks([0, 0.5, 1], fontsize=8)\n",
    "plt.xlim(f1-1, f2-1)\n",
    "plt.ylim(-0.15, 1.15)\n",
    "plt.ylabel(r\"$p$\", fontsize=8)\n",
    "plt.xlabel(\"frame #\")\n",
    "plt.gca().yaxis.set_major_formatter(FormatStrFormatter('%g'))\n",
    "plt.legend(fontsize=8)\n",
    "\n",
    "plt.savefig(\"/tmp/kinetic-trace.svg\")\n",
    "plt.show()"
   ]
  },
  {
   "cell_type": "code",
   "execution_count": 12,
   "metadata": {},
   "outputs": [
    {
     "data": {
      "image/png": "[encoded data removed]",
      "text/plain": [
       "<Figure size 720x72 with 1 Axes>"
      ]
     },
     "metadata": {
      "needs_background": "light"
     },
     "output_type": "display_data"
    }
   ],
   "source": [
    "frames = np.arange(1, model.data.F+1)\n",
    "q1 = np.ones((model.data.N, model.data.F))\n",
    "q1[:, :-1] = model.data.labels[\"z\"][:, 1:]\n",
    "cumq0 = np.cumprod(1 - model.data.labels[\"z\"], axis=-1)\n",
    "sttfb = (frames * q1 * cumq0).sum(-1)\n",
    "\n",
    "sdx = np.flip(np.argsort(sttfb))\n",
    "\n",
    "figsize = torch.tensor([10, 10 * model.data.N / model.data.F])\n",
    "plt.figure(figsize=figsize)\n",
    "\n",
    "plt.imshow(model.data.labels[\"z\"][sdx], cmap=\"gray\")\n",
    "plt.xlabel(\"frame\", fontsize=16)\n",
    "plt.ylabel(\"aoi\", fontsize=16)\n",
    "plt.show()"
   ]
  },
  {
   "cell_type": "code",
   "execution_count": 87,
   "metadata": {},
   "outputs": [
    {
     "data": {
      "image/png": "[encoded data removed]",
      "text/plain": [
       "<Figure size 216x216 with 1 Axes>"
      ]
     },
     "metadata": {
      "needs_background": "light"
     },
     "output_type": "display_data"
    }
   ],
   "source": [
    "frames = torch.arange(1, model.data.F+1)\n",
    "q1 = torch.ones(model.data.N, model.data.F)\n",
    "q1[:, :-1] = model.z_marginal[:, 1:]\n",
    "cumq0 = torch.cumprod(1 - model.z_marginal, dim=-1)\n",
    "ttfb = (frames * q1 * cumq0).sum(-1) #/ (1 - model.z_marginal[:, 0])\n",
    "ttfb = ttfb - 1\n",
    "mask = ttfb > 0\n",
    "ttfb = ttfb[mask]\n",
    "\n",
    "kon = 1 / ttfb.mean()\n",
    "\n",
    "plt.figure(figsize=(3, 3))\n",
    "plt.title(f\"k_on = {kon:.4f}\")\n",
    "plt.hist(ttfb.numpy(), bins=30, density=True, alpha=0.3, label=\"bayesian\")\n",
    "# plt.hist(sttfb, bins=20, density=True, alpha=0.3, label=\"spotpicker\")\n",
    "x = torch.arange(1,model.data.F)\n",
    "d = dist.Exponential(kon)\n",
    "plt.plot(x, d.log_prob(x).exp())\n",
    "plt.xlabel(\"Time to first binding\", fontsize=8)\n",
    "plt.ylabel(\"pdf\", fontsize=8)\n",
    "# plt.xlim(0, 100)\n",
    "plt.legend()\n",
    "plt.show()"
   ]
  },
  {
   "cell_type": "markdown",
   "metadata": {},
   "source": [
    "### Analysis"
   ]
  },
  {
   "cell_type": "code",
   "execution_count": 23,
   "metadata": {},
   "outputs": [
    {
     "data": {
      "image/png": "[encoded data removed]",
      "text/plain": [
       "<Figure size 144x144 with 1 Axes>"
      ]
     },
     "metadata": {
      "needs_background": "light"
     },
     "output_type": "display_data"
    }
   ],
   "source": [
    "plt.figure(figsize=(2, 2))\n",
    "plt.title(\"gain\", fontsize=8)\n",
    "plt.plot(truth_df[\"rate_j\"].sort_values(), truth_df[\"gain\"].sort_values(), \"k--\")\n",
    "plt.scatter(truth_df[\"rate_j\"], fit_df[\"gain\"], s=20)\n",
    "plt.ylim(0, 20)\n",
    "plt.xticks(fontsize=8)\n",
    "plt.yticks(fontsize=8)\n",
    "plt.xlabel(\"simulated value\", fontsize=8)\n",
    "plt.ylabel(\"fitted value\", fontsize=8)\n",
    "plt.show()"
   ]
  },
  {
   "cell_type": "code",
   "execution_count": 24,
   "metadata": {},
   "outputs": [
    {
     "data": {
      "image/png": "[encoded data removed]",
      "text/plain": [
       "<Figure size 144x144 with 1 Axes>"
      ]
     },
     "metadata": {
      "needs_background": "light"
     },
     "output_type": "display_data"
    }
   ],
   "source": [
    "plt.figure(figsize=(2, 2))\n",
    "plt.title(r\"$\\pi^z$\", fontsize=8)\n",
    "plt.plot(truth_df[\"rate_j\"].sort_values(), truth_df[\"probs_z\"].sort_values(), \"k--\")\n",
    "plt.scatter(truth_df[\"rate_j\"], fit_df[\"probs_z_1\"], s=20)\n",
    "plt.ylim(0, 1)\n",
    "plt.xticks(fontsize=8)\n",
    "plt.yticks(fontsize=8)\n",
    "plt.xlabel(\"simulated value\", fontsize=8)\n",
    "plt.ylabel(\"fitted value\", fontsize=8)\n",
    "plt.show()"
   ]
  },
  {
   "cell_type": "code",
   "execution_count": 25,
   "metadata": {},
   "outputs": [
    {
     "data": {
      "image/png": "[encoded data removed]",
      "text/plain": [
       "<Figure size 144x144 with 1 Axes>"
      ]
     },
     "metadata": {
      "needs_background": "light"
     },
     "output_type": "display_data"
    }
   ],
   "source": [
    "plt.figure(figsize=(2, 2))\n",
    "plt.title(r\"$\\lambda^j$\", fontsize=8)\n",
    "plt.plot(truth_df[\"rate_j\"].sort_values(), truth_df[\"rate_j\"].sort_values(), \"k--\")\n",
    "plt.scatter(truth_df[\"rate_j\"], fit_df[\"rate_j\"], s=20)\n",
    "plt.ylim(0, 1.)\n",
    "plt.xticks(fontsize=8)\n",
    "plt.yticks(fontsize=8)\n",
    "plt.xlabel(\"simulated value\", fontsize=8)\n",
    "plt.ylabel(\"fitted value\", fontsize=8)\n",
    "plt.show()"
   ]
  },
  {
   "cell_type": "code",
   "execution_count": 26,
   "metadata": {},
   "outputs": [
    {
     "data": {
      "image/png": "[encoded data removed]",
      "text/plain": [
       "<Figure size 144x144 with 1 Axes>"
      ]
     },
     "metadata": {
      "needs_background": "light"
     },
     "output_type": "display_data"
    }
   ],
   "source": [
    "plt.figure(figsize=(2, 2))\n",
    "plt.title(r\"$\\sigma^{xy}$\", fontsize=8)\n",
    "plt.plot(truth_df[\"rate_j\"].sort_values(), truth_df[\"proximity\"].sort_values(), \"k--\")\n",
    "plt.scatter(truth_df[\"rate_j\"], fit_df[\"proximity_0\"], s=20)\n",
    "plt.ylim(0., 0.6)\n",
    "plt.xticks(fontsize=8)\n",
    "plt.yticks(fontsize=8)\n",
    "plt.xlabel(\"simulated value\", fontsize=8)\n",
    "plt.ylabel(\"fitted value\", fontsize=8)\n",
    "plt.show()"
   ]
  },
  {
   "cell_type": "code",
   "execution_count": null,
   "metadata": {},
   "outputs": [],
   "source": []
  }
 ],
 "metadata": {
  "hide_input": false,
  "kernelspec": {
   "display_name": "Python 3",
   "language": "python",
   "name": "python3"
  },
  "language_info": {
   "codemirror_mode": {
    "name": "ipython",
    "version": 3
   },
   "file_extension": ".py",
   "mimetype": "text/x-python",
   "name": "python",
   "nbconvert_exporter": "python",
   "pygments_lexer": "ipython3",
   "version": "3.9.1"
  },
  "toc": {
   "base_numbering": 1,
   "nav_menu": {},
   "number_sections": true,
   "sideBar": true,
   "skip_h1_title": false,
   "title_cell": "Table of Contents",
   "title_sidebar": "Contents",
   "toc_cell": false,
   "toc_position": {
    "height": "calc(100% - 180px)",
    "left": "10px",
    "top": "150px",
    "width": "340.26px"
   },
   "toc_section_display": true,
   "toc_window_display": true
  }
 },
 "nbformat": 4,
 "nbformat_minor": 4
}
